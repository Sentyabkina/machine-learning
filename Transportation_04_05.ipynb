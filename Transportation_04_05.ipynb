{
  "cells": [
    {
      "cell_type": "markdown",
      "id": "3b5a7bb7",
      "metadata": {
        "toc": true,
        "id": "3b5a7bb7"
      },
      "source": [
        "<h1>Table of Contents<span class=\"tocSkip\"></span></h1>\n",
        "<div class=\"toc\"><ul class=\"toc-item\"><li><span><a href=\"#Подготовка-данных\" data-toc-modified-id=\"Подготовка-данных-1\"><span class=\"toc-item-num\">1&nbsp;&nbsp;</span>Подготовка данных</a></span></li><li><span><a href=\"#Модель-Decision-Tree-с-настройками-по-умолчанию\" data-toc-modified-id=\"Модель-Decision-Tree-с-настройками-по-умолчанию-2\"><span class=\"toc-item-num\">2&nbsp;&nbsp;</span>Модель Decision Tree с настройками по умолчанию</a></span></li><li><span><a href=\"#Модель-Decision-Tree-с-различными-настройками-гиперпараметров\" data-toc-modified-id=\"Модель-Decision-Tree-с-различными-настройками-гиперпараметров-3\"><span class=\"toc-item-num\">3&nbsp;&nbsp;</span>Модель Decision Tree с различными настройками гиперпараметров</a></span></li><li><span><a href=\"#GridSearchCV\" data-toc-modified-id=\"GridSearchCV-4\"><span class=\"toc-item-num\">4&nbsp;&nbsp;</span>GridSearchCV</a></span><ul class=\"toc-item\"><li><span><a href=\"#Задание\" data-toc-modified-id=\"Задание-4.1\"><span class=\"toc-item-num\">4.1&nbsp;&nbsp;</span>Задание</a></span></li></ul></li><li><span><a href=\"#GridSearchCV-с-мультискорингом\" data-toc-modified-id=\"GridSearchCV-с-мультискорингом-5\"><span class=\"toc-item-num\">5&nbsp;&nbsp;</span>GridSearchCV с мультискорингом</a></span><ul class=\"toc-item\"><li><span><a href=\"#Задание\" data-toc-modified-id=\"Задание-5.1\"><span class=\"toc-item-num\">5.1&nbsp;&nbsp;</span>Задание</a></span></li><li><span><a href=\"#Задание\" data-toc-modified-id=\"Задание-5.2\"><span class=\"toc-item-num\">5.2&nbsp;&nbsp;</span>Задание</a></span></li><li><span><a href=\"#Запуск-GridSearchCV-с-мультискорингом\" data-toc-modified-id=\"Запуск-GridSearchCV-с-мультискорингом-5.3\"><span class=\"toc-item-num\">5.3&nbsp;&nbsp;</span>Запуск GridSearchCV с мультискорингом</a></span></li></ul></li><li><span><a href=\"#RandomizedSearchCV\" data-toc-modified-id=\"RandomizedSearchCV-6\"><span class=\"toc-item-num\">6&nbsp;&nbsp;</span>RandomizedSearchCV</a></span><ul class=\"toc-item\"><li><span><a href=\"#Задание\" data-toc-modified-id=\"Задание-6.1\"><span class=\"toc-item-num\">6.1&nbsp;&nbsp;</span>Задание</a></span></li></ul></li><li><span><a href=\"#OptunaSearchCV\" data-toc-modified-id=\"OptunaSearchCV-7\"><span class=\"toc-item-num\">7&nbsp;&nbsp;</span>OptunaSearchCV</a></span><ul class=\"toc-item\"><li><span><a href=\"#Задание\" data-toc-modified-id=\"Задание-7.1\"><span class=\"toc-item-num\">7.1&nbsp;&nbsp;</span>Задание</a></span></li><li><span><a href=\"#Визуализируем-оптимизацию\" data-toc-modified-id=\"Визуализируем-оптимизацию-7.2\"><span class=\"toc-item-num\">7.2&nbsp;&nbsp;</span>Визуализируем оптимизацию</a></span></li></ul></li><li><span><a href=\"#Сравнение-способов-автоматизированного-поиска-гиперпараметров\" data-toc-modified-id=\"Сравнение-способов-автоматизированного-поиска-гиперпараметров-8\"><span class=\"toc-item-num\">8&nbsp;&nbsp;</span>Сравнение способов автоматизированного поиска гиперпараметров</a></span></li></ul></div>"
      ]
    },
    {
      "cell_type": "markdown",
      "id": "e7a2b08e",
      "metadata": {
        "id": "e7a2b08e"
      },
      "source": [
        "# Постановка задачи и описание данных"
      ]
    },
    {
      "cell_type": "markdown",
      "id": "4d485313",
      "metadata": {
        "id": "4d485313"
      },
      "source": [
        "Транспортная компания «Маршрут Экспресс» занимается пассажирскими перевозками. Заказчик хочет получить модель для предсказания, понравится ли пассажиру поездка. Так, в будущем компания сможет находить недовольных клиентов и работать над ошибками для улучшения сервиса."
      ]
    },
    {
      "cell_type": "markdown",
      "id": "4e6b35ed",
      "metadata": {
        "id": "4e6b35ed"
      },
      "source": [
        "Описание данных:\n",
        "\n",
        "* `id` — уникальный номер билета;\n",
        "* `Пол` — пол пассажира (женский, мужской);\n",
        "* `Возраст` — фактический возраст пассажира, число лет;\n",
        "* `Путешествует c детьми` — содержит значения 'да' и 'нет';\n",
        "* `Путешествует по работе` — содержит значения 'да' и 'нет';\n",
        "* `Тип` — тип вагона (плацкарт, купе, СВ);\n",
        "* `Расстояние` — расстояние в км между станцией отправления и станцией назначения;\n",
        "* `Покупка билета онлайн` — билет куплен онлайн (значение 1) или в кассе (значение 0);\n",
        "* `Питание включено` — пассажир купил услугу предоставления питания (значение 1) или не купил (значение 0);\n",
        "* `Наличие wifi` — в вагоне есть Wi-Fi (значение 1) или нет (значение 0);\n",
        "* `Оценка комфортности места` — оценка, выставленная пассажиром по пятибалльной шкале (от 1 до 5);\n",
        "* `Оценка качества уборки` — оценка, выставленная пассажиром по пятибалльной шкале (от 1 до 5);\n",
        "* `Оценка качества обслуживания в пути` — оценка, выставленная пассажиром по пятибалльной шкале (от 1 до 5);\n",
        "* `Удовлетворён предоставленной услугой` — целевой признак, пассажир удовлетворён (значение 1) или нет (значение 0)"
      ]
    },
    {
      "cell_type": "code",
      "execution_count": null,
      "id": "9b6baea6",
      "metadata": {
        "id": "9b6baea6",
        "colab": {
          "base_uri": "https://localhost:8080/"
        },
        "outputId": "52ecc825-2786-478c-bcda-f9f4a0b7b473"
      },
      "outputs": [
        {
          "output_type": "stream",
          "name": "stdout",
          "text": [
            "Collecting optuna\n",
            "  Downloading optuna-3.6.1-py3-none-any.whl (380 kB)\n",
            "\u001b[2K     \u001b[90m━━━━━━━━━━━━━━━━━━━━━━━━━━━━━━━━━━━━━━━━\u001b[0m \u001b[32m380.1/380.1 kB\u001b[0m \u001b[31m4.2 MB/s\u001b[0m eta \u001b[36m0:00:00\u001b[0m\n",
            "\u001b[?25hCollecting alembic>=1.5.0 (from optuna)\n",
            "  Downloading alembic-1.13.1-py3-none-any.whl (233 kB)\n",
            "\u001b[2K     \u001b[90m━━━━━━━━━━━━━━━━━━━━━━━━━━━━━━━━━━━━━━━━\u001b[0m \u001b[32m233.4/233.4 kB\u001b[0m \u001b[31m6.0 MB/s\u001b[0m eta \u001b[36m0:00:00\u001b[0m\n",
            "\u001b[?25hCollecting colorlog (from optuna)\n",
            "  Downloading colorlog-6.8.2-py3-none-any.whl (11 kB)\n",
            "Requirement already satisfied: numpy in /usr/local/lib/python3.10/dist-packages (from optuna) (1.25.2)\n",
            "Requirement already satisfied: packaging>=20.0 in /usr/local/lib/python3.10/dist-packages (from optuna) (24.0)\n",
            "Requirement already satisfied: sqlalchemy>=1.3.0 in /usr/local/lib/python3.10/dist-packages (from optuna) (2.0.30)\n",
            "Requirement already satisfied: tqdm in /usr/local/lib/python3.10/dist-packages (from optuna) (4.66.4)\n",
            "Requirement already satisfied: PyYAML in /usr/local/lib/python3.10/dist-packages (from optuna) (6.0.1)\n",
            "Collecting Mako (from alembic>=1.5.0->optuna)\n",
            "  Downloading Mako-1.3.5-py3-none-any.whl (78 kB)\n",
            "\u001b[2K     \u001b[90m━━━━━━━━━━━━━━━━━━━━━━━━━━━━━━━━━━━━━━━━\u001b[0m \u001b[32m78.6/78.6 kB\u001b[0m \u001b[31m7.9 MB/s\u001b[0m eta \u001b[36m0:00:00\u001b[0m\n",
            "\u001b[?25hRequirement already satisfied: typing-extensions>=4 in /usr/local/lib/python3.10/dist-packages (from alembic>=1.5.0->optuna) (4.11.0)\n",
            "Requirement already satisfied: greenlet!=0.4.17 in /usr/local/lib/python3.10/dist-packages (from sqlalchemy>=1.3.0->optuna) (3.0.3)\n",
            "Requirement already satisfied: MarkupSafe>=0.9.2 in /usr/local/lib/python3.10/dist-packages (from Mako->alembic>=1.5.0->optuna) (2.1.5)\n",
            "Installing collected packages: Mako, colorlog, alembic, optuna\n",
            "Successfully installed Mako-1.3.5 alembic-1.13.1 colorlog-6.8.2 optuna-3.6.1\n"
          ]
        }
      ],
      "source": [
        "pip install optuna"
      ]
    },
    {
      "cell_type": "code",
      "execution_count": null,
      "id": "8cf931bc",
      "metadata": {
        "id": "8cf931bc",
        "colab": {
          "base_uri": "https://localhost:8080/"
        },
        "outputId": "f82aa7c1-f5b1-44ec-d544-c18fb3ee7270"
      },
      "outputs": [
        {
          "output_type": "stream",
          "name": "stdout",
          "text": [
            "Collecting optuna-integration\n",
            "  Downloading optuna_integration-3.6.0-py3-none-any.whl (93 kB)\n",
            "\u001b[?25l     \u001b[90m━━━━━━━━━━━━━━━━━━━━━━━━━━━━━━━━━━━━━━━━\u001b[0m \u001b[32m0.0/93.4 kB\u001b[0m \u001b[31m?\u001b[0m eta \u001b[36m-:--:--\u001b[0m\r\u001b[2K     \u001b[91m━━━━━━━━━━━━━━━━━━━━━━━━━━━━━━━━━━━\u001b[0m\u001b[90m╺\u001b[0m\u001b[90m━━━━\u001b[0m \u001b[32m81.9/93.4 kB\u001b[0m \u001b[31m2.2 MB/s\u001b[0m eta \u001b[36m0:00:01\u001b[0m\r\u001b[2K     \u001b[90m━━━━━━━━━━━━━━━━━━━━━━━━━━━━━━━━━━━━━━━━\u001b[0m \u001b[32m93.4/93.4 kB\u001b[0m \u001b[31m1.9 MB/s\u001b[0m eta \u001b[36m0:00:00\u001b[0m\n",
            "\u001b[?25hRequirement already satisfied: optuna in /usr/local/lib/python3.10/dist-packages (from optuna-integration) (3.6.1)\n",
            "Requirement already satisfied: alembic>=1.5.0 in /usr/local/lib/python3.10/dist-packages (from optuna->optuna-integration) (1.13.1)\n",
            "Requirement already satisfied: colorlog in /usr/local/lib/python3.10/dist-packages (from optuna->optuna-integration) (6.8.2)\n",
            "Requirement already satisfied: numpy in /usr/local/lib/python3.10/dist-packages (from optuna->optuna-integration) (1.25.2)\n",
            "Requirement already satisfied: packaging>=20.0 in /usr/local/lib/python3.10/dist-packages (from optuna->optuna-integration) (24.0)\n",
            "Requirement already satisfied: sqlalchemy>=1.3.0 in /usr/local/lib/python3.10/dist-packages (from optuna->optuna-integration) (2.0.30)\n",
            "Requirement already satisfied: tqdm in /usr/local/lib/python3.10/dist-packages (from optuna->optuna-integration) (4.66.4)\n",
            "Requirement already satisfied: PyYAML in /usr/local/lib/python3.10/dist-packages (from optuna->optuna-integration) (6.0.1)\n",
            "Requirement already satisfied: Mako in /usr/local/lib/python3.10/dist-packages (from alembic>=1.5.0->optuna->optuna-integration) (1.3.5)\n",
            "Requirement already satisfied: typing-extensions>=4 in /usr/local/lib/python3.10/dist-packages (from alembic>=1.5.0->optuna->optuna-integration) (4.11.0)\n",
            "Requirement already satisfied: greenlet!=0.4.17 in /usr/local/lib/python3.10/dist-packages (from sqlalchemy>=1.3.0->optuna->optuna-integration) (3.0.3)\n",
            "Requirement already satisfied: MarkupSafe>=0.9.2 in /usr/local/lib/python3.10/dist-packages (from Mako->alembic>=1.5.0->optuna->optuna-integration) (2.1.5)\n",
            "Installing collected packages: optuna-integration\n",
            "Successfully installed optuna-integration-3.6.0\n"
          ]
        }
      ],
      "source": [
        "pip install optuna-integration"
      ]
    },
    {
      "cell_type": "markdown",
      "id": "bb713130",
      "metadata": {
        "id": "bb713130"
      },
      "source": [
        "## Подготовка данных"
      ]
    },
    {
      "cell_type": "code",
      "execution_count": null,
      "id": "e80e5c5c",
      "metadata": {
        "id": "e80e5c5c"
      },
      "outputs": [],
      "source": [
        "# Загрузим необходимые библиотеки\n",
        "import pandas as pd  #Основной инструмент аналитика — `pandas`.\n",
        "import numpy as np\n",
        "import seaborn as sns\n",
        "import matplotlib.pyplot as plt\n",
        "import time\n",
        "\n",
        "from sklearn.model_selection import GridSearchCV, RandomizedSearchCV\n",
        "from sklearn.model_selection import train_test_split, cross_val_score\n",
        "from sklearn.preprocessing import StandardScaler, OrdinalEncoder\n",
        "\n",
        "import optuna\n",
        "from optuna.integration import OptunaSearchCV\n",
        "from optuna import distributions\n",
        "from optuna import visualization\n",
        "\n",
        "\n",
        "# Загрузим необходимые модели для классификации и метрики качества\n",
        "\n",
        "from sklearn.tree import DecisionTreeClassifier\n",
        "from sklearn.tree import plot_tree\n",
        "\n",
        "\n",
        "from sklearn import metrics\n",
        "from sklearn.metrics import accuracy_score, roc_auc_score, confusion_matrix, make_scorer\n",
        "\n",
        "pd.set_option('display.max_columns', None)\n",
        "pd.set_option('display.max_colwidth', None)\n",
        "\n",
        "import warnings\n",
        "warnings.filterwarnings('ignore')\n",
        "\n",
        "RANDOM_STATE = 12345\n",
        "TEST_SIZE = 0.25"
      ]
    },
    {
      "cell_type": "markdown",
      "id": "a89d66b3",
      "metadata": {
        "id": "a89d66b3"
      },
      "source": [
        "Прочитаем данные о поездках с помощью `pandas` и поменяем базовые индексы в датафрейме — сделаем индексами идентификаторы клиентов"
      ]
    },
    {
      "cell_type": "code",
      "execution_count": null,
      "id": "9569e402",
      "metadata": {
        "id": "9569e402",
        "colab": {
          "base_uri": "https://localhost:8080/"
        },
        "outputId": "66d0f8a6-8c2c-4f0d-8027-d1c706178870"
      },
      "outputs": [
        {
          "output_type": "stream",
          "name": "stdout",
          "text": [
            "Mounted at /content/drive\n"
          ]
        }
      ],
      "source": [
        "# Прочитаем файл с данными в переменную df и изучим их\n",
        "try:\n",
        "    from google.colab import drive\n",
        "    drive.mount('/content/drive')\n",
        "    df = pd.read_csv('/content/drive/My Drive/train_satisfaction.csv')\n",
        "    df = df.set_index('id')\n",
        "except:\n",
        "    df = pd.read_csv('train_satisfaction.csv')\n",
        "    df = df.set_index('id')\n"
      ]
    },
    {
      "cell_type": "code",
      "execution_count": null,
      "id": "8e097c37",
      "metadata": {
        "id": "8e097c37",
        "scrolled": true,
        "colab": {
          "base_uri": "https://localhost:8080/",
          "height": 254
        },
        "outputId": "ebe458b7-66c7-4fa9-9b3d-2d0a8d408cf7"
      },
      "outputs": [
        {
          "output_type": "execute_result",
          "data": {
            "text/plain": [
              "          Пол  Возраст Путешествует с детьми Путешествует по работе       Тип  \\\n",
              "id                                                                              \n",
              "23224169  муж       28                   нет                     да      купе   \n",
              "34061233  муж       51                    да                    нет  плацкарт   \n",
              "72412002  жен       36                   нет                     да  плацкарт   \n",
              "39685985  жен       58                    да                     да        св   \n",
              "37903434  жен       46                   нет                    нет  плацкарт   \n",
              "\n",
              "          Расстояние  Покупка билета онлайн  Питание включено  Наличие wifi  \\\n",
              "id                                                                            \n",
              "23224169        2415                      1                 0             1   \n",
              "34061233         973                      1                 0             1   \n",
              "72412002        1416                      1                 1             0   \n",
              "39685985         703                      1                 0             1   \n",
              "37903434         162                      1                 1             1   \n",
              "\n",
              "          Оценка комфортности места  Оценка качества уборки  \\\n",
              "id                                                            \n",
              "23224169                          4                       4   \n",
              "34061233                          4                       4   \n",
              "72412002                          2                       2   \n",
              "39685985                          3                       3   \n",
              "37903434                          1                       2   \n",
              "\n",
              "          Оценка качества обслуживания в пути  \\\n",
              "id                                              \n",
              "23224169                                    3   \n",
              "34061233                                    5   \n",
              "72412002                                    3   \n",
              "39685985                                    2   \n",
              "37903434                                    3   \n",
              "\n",
              "          Удовлетворён предоставленной услугой  \n",
              "id                                              \n",
              "23224169                                     1  \n",
              "34061233                                     1  \n",
              "72412002                                     1  \n",
              "39685985                                     1  \n",
              "37903434                                     1  "
            ],
            "text/html": [
              "\n",
              "  <div id=\"df-d0031360-5049-4d96-82da-fb051bc573a9\" class=\"colab-df-container\">\n",
              "    <div>\n",
              "<style scoped>\n",
              "    .dataframe tbody tr th:only-of-type {\n",
              "        vertical-align: middle;\n",
              "    }\n",
              "\n",
              "    .dataframe tbody tr th {\n",
              "        vertical-align: top;\n",
              "    }\n",
              "\n",
              "    .dataframe thead th {\n",
              "        text-align: right;\n",
              "    }\n",
              "</style>\n",
              "<table border=\"1\" class=\"dataframe\">\n",
              "  <thead>\n",
              "    <tr style=\"text-align: right;\">\n",
              "      <th></th>\n",
              "      <th>Пол</th>\n",
              "      <th>Возраст</th>\n",
              "      <th>Путешествует с детьми</th>\n",
              "      <th>Путешествует по работе</th>\n",
              "      <th>Тип</th>\n",
              "      <th>Расстояние</th>\n",
              "      <th>Покупка билета онлайн</th>\n",
              "      <th>Питание включено</th>\n",
              "      <th>Наличие wifi</th>\n",
              "      <th>Оценка комфортности места</th>\n",
              "      <th>Оценка качества уборки</th>\n",
              "      <th>Оценка качества обслуживания в пути</th>\n",
              "      <th>Удовлетворён предоставленной услугой</th>\n",
              "    </tr>\n",
              "    <tr>\n",
              "      <th>id</th>\n",
              "      <th></th>\n",
              "      <th></th>\n",
              "      <th></th>\n",
              "      <th></th>\n",
              "      <th></th>\n",
              "      <th></th>\n",
              "      <th></th>\n",
              "      <th></th>\n",
              "      <th></th>\n",
              "      <th></th>\n",
              "      <th></th>\n",
              "      <th></th>\n",
              "      <th></th>\n",
              "    </tr>\n",
              "  </thead>\n",
              "  <tbody>\n",
              "    <tr>\n",
              "      <th>23224169</th>\n",
              "      <td>муж</td>\n",
              "      <td>28</td>\n",
              "      <td>нет</td>\n",
              "      <td>да</td>\n",
              "      <td>купе</td>\n",
              "      <td>2415</td>\n",
              "      <td>1</td>\n",
              "      <td>0</td>\n",
              "      <td>1</td>\n",
              "      <td>4</td>\n",
              "      <td>4</td>\n",
              "      <td>3</td>\n",
              "      <td>1</td>\n",
              "    </tr>\n",
              "    <tr>\n",
              "      <th>34061233</th>\n",
              "      <td>муж</td>\n",
              "      <td>51</td>\n",
              "      <td>да</td>\n",
              "      <td>нет</td>\n",
              "      <td>плацкарт</td>\n",
              "      <td>973</td>\n",
              "      <td>1</td>\n",
              "      <td>0</td>\n",
              "      <td>1</td>\n",
              "      <td>4</td>\n",
              "      <td>4</td>\n",
              "      <td>5</td>\n",
              "      <td>1</td>\n",
              "    </tr>\n",
              "    <tr>\n",
              "      <th>72412002</th>\n",
              "      <td>жен</td>\n",
              "      <td>36</td>\n",
              "      <td>нет</td>\n",
              "      <td>да</td>\n",
              "      <td>плацкарт</td>\n",
              "      <td>1416</td>\n",
              "      <td>1</td>\n",
              "      <td>1</td>\n",
              "      <td>0</td>\n",
              "      <td>2</td>\n",
              "      <td>2</td>\n",
              "      <td>3</td>\n",
              "      <td>1</td>\n",
              "    </tr>\n",
              "    <tr>\n",
              "      <th>39685985</th>\n",
              "      <td>жен</td>\n",
              "      <td>58</td>\n",
              "      <td>да</td>\n",
              "      <td>да</td>\n",
              "      <td>св</td>\n",
              "      <td>703</td>\n",
              "      <td>1</td>\n",
              "      <td>0</td>\n",
              "      <td>1</td>\n",
              "      <td>3</td>\n",
              "      <td>3</td>\n",
              "      <td>2</td>\n",
              "      <td>1</td>\n",
              "    </tr>\n",
              "    <tr>\n",
              "      <th>37903434</th>\n",
              "      <td>жен</td>\n",
              "      <td>46</td>\n",
              "      <td>нет</td>\n",
              "      <td>нет</td>\n",
              "      <td>плацкарт</td>\n",
              "      <td>162</td>\n",
              "      <td>1</td>\n",
              "      <td>1</td>\n",
              "      <td>1</td>\n",
              "      <td>1</td>\n",
              "      <td>2</td>\n",
              "      <td>3</td>\n",
              "      <td>1</td>\n",
              "    </tr>\n",
              "  </tbody>\n",
              "</table>\n",
              "</div>\n",
              "    <div class=\"colab-df-buttons\">\n",
              "\n",
              "  <div class=\"colab-df-container\">\n",
              "    <button class=\"colab-df-convert\" onclick=\"convertToInteractive('df-d0031360-5049-4d96-82da-fb051bc573a9')\"\n",
              "            title=\"Convert this dataframe to an interactive table.\"\n",
              "            style=\"display:none;\">\n",
              "\n",
              "  <svg xmlns=\"http://www.w3.org/2000/svg\" height=\"24px\" viewBox=\"0 -960 960 960\">\n",
              "    <path d=\"M120-120v-720h720v720H120Zm60-500h600v-160H180v160Zm220 220h160v-160H400v160Zm0 220h160v-160H400v160ZM180-400h160v-160H180v160Zm440 0h160v-160H620v160ZM180-180h160v-160H180v160Zm440 0h160v-160H620v160Z\"/>\n",
              "  </svg>\n",
              "    </button>\n",
              "\n",
              "  <style>\n",
              "    .colab-df-container {\n",
              "      display:flex;\n",
              "      gap: 12px;\n",
              "    }\n",
              "\n",
              "    .colab-df-convert {\n",
              "      background-color: #E8F0FE;\n",
              "      border: none;\n",
              "      border-radius: 50%;\n",
              "      cursor: pointer;\n",
              "      display: none;\n",
              "      fill: #1967D2;\n",
              "      height: 32px;\n",
              "      padding: 0 0 0 0;\n",
              "      width: 32px;\n",
              "    }\n",
              "\n",
              "    .colab-df-convert:hover {\n",
              "      background-color: #E2EBFA;\n",
              "      box-shadow: 0px 1px 2px rgba(60, 64, 67, 0.3), 0px 1px 3px 1px rgba(60, 64, 67, 0.15);\n",
              "      fill: #174EA6;\n",
              "    }\n",
              "\n",
              "    .colab-df-buttons div {\n",
              "      margin-bottom: 4px;\n",
              "    }\n",
              "\n",
              "    [theme=dark] .colab-df-convert {\n",
              "      background-color: #3B4455;\n",
              "      fill: #D2E3FC;\n",
              "    }\n",
              "\n",
              "    [theme=dark] .colab-df-convert:hover {\n",
              "      background-color: #434B5C;\n",
              "      box-shadow: 0px 1px 3px 1px rgba(0, 0, 0, 0.15);\n",
              "      filter: drop-shadow(0px 1px 2px rgba(0, 0, 0, 0.3));\n",
              "      fill: #FFFFFF;\n",
              "    }\n",
              "  </style>\n",
              "\n",
              "    <script>\n",
              "      const buttonEl =\n",
              "        document.querySelector('#df-d0031360-5049-4d96-82da-fb051bc573a9 button.colab-df-convert');\n",
              "      buttonEl.style.display =\n",
              "        google.colab.kernel.accessAllowed ? 'block' : 'none';\n",
              "\n",
              "      async function convertToInteractive(key) {\n",
              "        const element = document.querySelector('#df-d0031360-5049-4d96-82da-fb051bc573a9');\n",
              "        const dataTable =\n",
              "          await google.colab.kernel.invokeFunction('convertToInteractive',\n",
              "                                                    [key], {});\n",
              "        if (!dataTable) return;\n",
              "\n",
              "        const docLinkHtml = 'Like what you see? Visit the ' +\n",
              "          '<a target=\"_blank\" href=https://colab.research.google.com/notebooks/data_table.ipynb>data table notebook</a>'\n",
              "          + ' to learn more about interactive tables.';\n",
              "        element.innerHTML = '';\n",
              "        dataTable['output_type'] = 'display_data';\n",
              "        await google.colab.output.renderOutput(dataTable, element);\n",
              "        const docLink = document.createElement('div');\n",
              "        docLink.innerHTML = docLinkHtml;\n",
              "        element.appendChild(docLink);\n",
              "      }\n",
              "    </script>\n",
              "  </div>\n",
              "\n",
              "\n",
              "<div id=\"df-6c772ac7-e2d3-4e1a-b137-c530c50bc1b1\">\n",
              "  <button class=\"colab-df-quickchart\" onclick=\"quickchart('df-6c772ac7-e2d3-4e1a-b137-c530c50bc1b1')\"\n",
              "            title=\"Suggest charts\"\n",
              "            style=\"display:none;\">\n",
              "\n",
              "<svg xmlns=\"http://www.w3.org/2000/svg\" height=\"24px\"viewBox=\"0 0 24 24\"\n",
              "     width=\"24px\">\n",
              "    <g>\n",
              "        <path d=\"M19 3H5c-1.1 0-2 .9-2 2v14c0 1.1.9 2 2 2h14c1.1 0 2-.9 2-2V5c0-1.1-.9-2-2-2zM9 17H7v-7h2v7zm4 0h-2V7h2v10zm4 0h-2v-4h2v4z\"/>\n",
              "    </g>\n",
              "</svg>\n",
              "  </button>\n",
              "\n",
              "<style>\n",
              "  .colab-df-quickchart {\n",
              "      --bg-color: #E8F0FE;\n",
              "      --fill-color: #1967D2;\n",
              "      --hover-bg-color: #E2EBFA;\n",
              "      --hover-fill-color: #174EA6;\n",
              "      --disabled-fill-color: #AAA;\n",
              "      --disabled-bg-color: #DDD;\n",
              "  }\n",
              "\n",
              "  [theme=dark] .colab-df-quickchart {\n",
              "      --bg-color: #3B4455;\n",
              "      --fill-color: #D2E3FC;\n",
              "      --hover-bg-color: #434B5C;\n",
              "      --hover-fill-color: #FFFFFF;\n",
              "      --disabled-bg-color: #3B4455;\n",
              "      --disabled-fill-color: #666;\n",
              "  }\n",
              "\n",
              "  .colab-df-quickchart {\n",
              "    background-color: var(--bg-color);\n",
              "    border: none;\n",
              "    border-radius: 50%;\n",
              "    cursor: pointer;\n",
              "    display: none;\n",
              "    fill: var(--fill-color);\n",
              "    height: 32px;\n",
              "    padding: 0;\n",
              "    width: 32px;\n",
              "  }\n",
              "\n",
              "  .colab-df-quickchart:hover {\n",
              "    background-color: var(--hover-bg-color);\n",
              "    box-shadow: 0 1px 2px rgba(60, 64, 67, 0.3), 0 1px 3px 1px rgba(60, 64, 67, 0.15);\n",
              "    fill: var(--button-hover-fill-color);\n",
              "  }\n",
              "\n",
              "  .colab-df-quickchart-complete:disabled,\n",
              "  .colab-df-quickchart-complete:disabled:hover {\n",
              "    background-color: var(--disabled-bg-color);\n",
              "    fill: var(--disabled-fill-color);\n",
              "    box-shadow: none;\n",
              "  }\n",
              "\n",
              "  .colab-df-spinner {\n",
              "    border: 2px solid var(--fill-color);\n",
              "    border-color: transparent;\n",
              "    border-bottom-color: var(--fill-color);\n",
              "    animation:\n",
              "      spin 1s steps(1) infinite;\n",
              "  }\n",
              "\n",
              "  @keyframes spin {\n",
              "    0% {\n",
              "      border-color: transparent;\n",
              "      border-bottom-color: var(--fill-color);\n",
              "      border-left-color: var(--fill-color);\n",
              "    }\n",
              "    20% {\n",
              "      border-color: transparent;\n",
              "      border-left-color: var(--fill-color);\n",
              "      border-top-color: var(--fill-color);\n",
              "    }\n",
              "    30% {\n",
              "      border-color: transparent;\n",
              "      border-left-color: var(--fill-color);\n",
              "      border-top-color: var(--fill-color);\n",
              "      border-right-color: var(--fill-color);\n",
              "    }\n",
              "    40% {\n",
              "      border-color: transparent;\n",
              "      border-right-color: var(--fill-color);\n",
              "      border-top-color: var(--fill-color);\n",
              "    }\n",
              "    60% {\n",
              "      border-color: transparent;\n",
              "      border-right-color: var(--fill-color);\n",
              "    }\n",
              "    80% {\n",
              "      border-color: transparent;\n",
              "      border-right-color: var(--fill-color);\n",
              "      border-bottom-color: var(--fill-color);\n",
              "    }\n",
              "    90% {\n",
              "      border-color: transparent;\n",
              "      border-bottom-color: var(--fill-color);\n",
              "    }\n",
              "  }\n",
              "</style>\n",
              "\n",
              "  <script>\n",
              "    async function quickchart(key) {\n",
              "      const quickchartButtonEl =\n",
              "        document.querySelector('#' + key + ' button');\n",
              "      quickchartButtonEl.disabled = true;  // To prevent multiple clicks.\n",
              "      quickchartButtonEl.classList.add('colab-df-spinner');\n",
              "      try {\n",
              "        const charts = await google.colab.kernel.invokeFunction(\n",
              "            'suggestCharts', [key], {});\n",
              "      } catch (error) {\n",
              "        console.error('Error during call to suggestCharts:', error);\n",
              "      }\n",
              "      quickchartButtonEl.classList.remove('colab-df-spinner');\n",
              "      quickchartButtonEl.classList.add('colab-df-quickchart-complete');\n",
              "    }\n",
              "    (() => {\n",
              "      let quickchartButtonEl =\n",
              "        document.querySelector('#df-6c772ac7-e2d3-4e1a-b137-c530c50bc1b1 button');\n",
              "      quickchartButtonEl.style.display =\n",
              "        google.colab.kernel.accessAllowed ? 'block' : 'none';\n",
              "    })();\n",
              "  </script>\n",
              "</div>\n",
              "    </div>\n",
              "  </div>\n"
            ],
            "application/vnd.google.colaboratory.intrinsic+json": {
              "type": "dataframe",
              "variable_name": "df",
              "summary": "{\n  \"name\": \"df\",\n  \"rows\": 7000,\n  \"fields\": [\n    {\n      \"column\": \"id\",\n      \"properties\": {\n        \"dtype\": \"number\",\n        \"std\": 29022558,\n        \"min\": 2591,\n        \"max\": 99999917,\n        \"num_unique_values\": 7000,\n        \"samples\": [\n          49162232,\n          54729522,\n          55340129\n        ],\n        \"semantic_type\": \"\",\n        \"description\": \"\"\n      }\n    },\n    {\n      \"column\": \"\\u041f\\u043e\\u043b\",\n      \"properties\": {\n        \"dtype\": \"category\",\n        \"num_unique_values\": 2,\n        \"samples\": [\n          \"\\u0436\\u0435\\u043d\",\n          \"\\u043c\\u0443\\u0436\"\n        ],\n        \"semantic_type\": \"\",\n        \"description\": \"\"\n      }\n    },\n    {\n      \"column\": \"\\u0412\\u043e\\u0437\\u0440\\u0430\\u0441\\u0442\",\n      \"properties\": {\n        \"dtype\": \"number\",\n        \"std\": 14,\n        \"min\": 18,\n        \"max\": 80,\n        \"num_unique_values\": 63,\n        \"samples\": [\n          74,\n          71\n        ],\n        \"semantic_type\": \"\",\n        \"description\": \"\"\n      }\n    },\n    {\n      \"column\": \"\\u041f\\u0443\\u0442\\u0435\\u0448\\u0435\\u0441\\u0442\\u0432\\u0443\\u0435\\u0442 \\u0441 \\u0434\\u0435\\u0442\\u044c\\u043c\\u0438\",\n      \"properties\": {\n        \"dtype\": \"category\",\n        \"num_unique_values\": 2,\n        \"samples\": [\n          \"\\u0434\\u0430\",\n          \"\\u043d\\u0435\\u0442\"\n        ],\n        \"semantic_type\": \"\",\n        \"description\": \"\"\n      }\n    },\n    {\n      \"column\": \"\\u041f\\u0443\\u0442\\u0435\\u0448\\u0435\\u0441\\u0442\\u0432\\u0443\\u0435\\u0442 \\u043f\\u043e \\u0440\\u0430\\u0431\\u043e\\u0442\\u0435\",\n      \"properties\": {\n        \"dtype\": \"category\",\n        \"num_unique_values\": 2,\n        \"samples\": [\n          \"\\u043d\\u0435\\u0442\",\n          \"\\u0434\\u0430\"\n        ],\n        \"semantic_type\": \"\",\n        \"description\": \"\"\n      }\n    },\n    {\n      \"column\": \"\\u0422\\u0438\\u043f\",\n      \"properties\": {\n        \"dtype\": \"category\",\n        \"num_unique_values\": 3,\n        \"samples\": [\n          \"\\u043a\\u0443\\u043f\\u0435\",\n          \"\\u043f\\u043b\\u0430\\u0446\\u043a\\u0430\\u0440\\u0442\"\n        ],\n        \"semantic_type\": \"\",\n        \"description\": \"\"\n      }\n    },\n    {\n      \"column\": \"\\u0420\\u0430\\u0441\\u0441\\u0442\\u043e\\u044f\\u043d\\u0438\\u0435\",\n      \"properties\": {\n        \"dtype\": \"number\",\n        \"std\": 635,\n        \"min\": 104,\n        \"max\": 4539,\n        \"num_unique_values\": 1249,\n        \"samples\": [\n          1104,\n          183\n        ],\n        \"semantic_type\": \"\",\n        \"description\": \"\"\n      }\n    },\n    {\n      \"column\": \"\\u041f\\u043e\\u043a\\u0443\\u043f\\u043a\\u0430 \\u0431\\u0438\\u043b\\u0435\\u0442\\u0430 \\u043e\\u043d\\u043b\\u0430\\u0439\\u043d\",\n      \"properties\": {\n        \"dtype\": \"number\",\n        \"std\": 0,\n        \"min\": 0,\n        \"max\": 1,\n        \"num_unique_values\": 2,\n        \"samples\": [\n          0,\n          1\n        ],\n        \"semantic_type\": \"\",\n        \"description\": \"\"\n      }\n    },\n    {\n      \"column\": \"\\u041f\\u0438\\u0442\\u0430\\u043d\\u0438\\u0435 \\u0432\\u043a\\u043b\\u044e\\u0447\\u0435\\u043d\\u043e\",\n      \"properties\": {\n        \"dtype\": \"number\",\n        \"std\": 0,\n        \"min\": 0,\n        \"max\": 1,\n        \"num_unique_values\": 2,\n        \"samples\": [\n          1,\n          0\n        ],\n        \"semantic_type\": \"\",\n        \"description\": \"\"\n      }\n    },\n    {\n      \"column\": \"\\u041d\\u0430\\u043b\\u0438\\u0447\\u0438\\u0435 wifi\",\n      \"properties\": {\n        \"dtype\": \"number\",\n        \"std\": 0,\n        \"min\": 0,\n        \"max\": 1,\n        \"num_unique_values\": 2,\n        \"samples\": [\n          0,\n          1\n        ],\n        \"semantic_type\": \"\",\n        \"description\": \"\"\n      }\n    },\n    {\n      \"column\": \"\\u041e\\u0446\\u0435\\u043d\\u043a\\u0430 \\u043a\\u043e\\u043c\\u0444\\u043e\\u0440\\u0442\\u043d\\u043e\\u0441\\u0442\\u0438 \\u043c\\u0435\\u0441\\u0442\\u0430\",\n      \"properties\": {\n        \"dtype\": \"number\",\n        \"std\": 1,\n        \"min\": 1,\n        \"max\": 5,\n        \"num_unique_values\": 5,\n        \"samples\": [\n          2,\n          5\n        ],\n        \"semantic_type\": \"\",\n        \"description\": \"\"\n      }\n    },\n    {\n      \"column\": \"\\u041e\\u0446\\u0435\\u043d\\u043a\\u0430 \\u043a\\u0430\\u0447\\u0435\\u0441\\u0442\\u0432\\u0430 \\u0443\\u0431\\u043e\\u0440\\u043a\\u0438\",\n      \"properties\": {\n        \"dtype\": \"number\",\n        \"std\": 1,\n        \"min\": 1,\n        \"max\": 5,\n        \"num_unique_values\": 5,\n        \"samples\": [\n          2,\n          5\n        ],\n        \"semantic_type\": \"\",\n        \"description\": \"\"\n      }\n    },\n    {\n      \"column\": \"\\u041e\\u0446\\u0435\\u043d\\u043a\\u0430 \\u043a\\u0430\\u0447\\u0435\\u0441\\u0442\\u0432\\u0430 \\u043e\\u0431\\u0441\\u043b\\u0443\\u0436\\u0438\\u0432\\u0430\\u043d\\u0438\\u044f \\u0432 \\u043f\\u0443\\u0442\\u0438\",\n      \"properties\": {\n        \"dtype\": \"number\",\n        \"std\": 0,\n        \"min\": 1,\n        \"max\": 5,\n        \"num_unique_values\": 5,\n        \"samples\": [\n          5,\n          1\n        ],\n        \"semantic_type\": \"\",\n        \"description\": \"\"\n      }\n    },\n    {\n      \"column\": \"\\u0423\\u0434\\u043e\\u0432\\u043b\\u0435\\u0442\\u0432\\u043e\\u0440\\u0451\\u043d \\u043f\\u0440\\u0435\\u0434\\u043e\\u0441\\u0442\\u0430\\u0432\\u043b\\u0435\\u043d\\u043d\\u043e\\u0439 \\u0443\\u0441\\u043b\\u0443\\u0433\\u043e\\u0439\",\n      \"properties\": {\n        \"dtype\": \"number\",\n        \"std\": 0,\n        \"min\": 0,\n        \"max\": 1,\n        \"num_unique_values\": 2,\n        \"samples\": [\n          0,\n          1\n        ],\n        \"semantic_type\": \"\",\n        \"description\": \"\"\n      }\n    }\n  ]\n}"
            }
          },
          "metadata": {},
          "execution_count": 5
        }
      ],
      "source": [
        "# первые 5 строк датасета\n",
        "df.head()"
      ]
    },
    {
      "cell_type": "markdown",
      "id": "74b27d29",
      "metadata": {
        "id": "74b27d29"
      },
      "source": [
        "Определите, какие признаки категориальные, а какие — количественные. Изучите данные и их типы методом `info()`"
      ]
    },
    {
      "cell_type": "code",
      "execution_count": null,
      "id": "198099c1",
      "metadata": {
        "id": "198099c1",
        "colab": {
          "base_uri": "https://localhost:8080/"
        },
        "outputId": "2a009c49-9ba1-42d3-c912-0d9d83542e59"
      },
      "outputs": [
        {
          "output_type": "stream",
          "name": "stdout",
          "text": [
            "<class 'pandas.core.frame.DataFrame'>\n",
            "Index: 7000 entries, 23224169 to 63859956\n",
            "Data columns (total 13 columns):\n",
            " #   Column                                Non-Null Count  Dtype \n",
            "---  ------                                --------------  ----- \n",
            " 0   Пол                                   7000 non-null   object\n",
            " 1   Возраст                               7000 non-null   int64 \n",
            " 2   Путешествует с детьми                 7000 non-null   object\n",
            " 3   Путешествует по работе                7000 non-null   object\n",
            " 4   Тип                                   7000 non-null   object\n",
            " 5   Расстояние                            7000 non-null   int64 \n",
            " 6   Покупка билета онлайн                 7000 non-null   int64 \n",
            " 7   Питание включено                      7000 non-null   int64 \n",
            " 8   Наличие wifi                          7000 non-null   int64 \n",
            " 9   Оценка комфортности места             7000 non-null   int64 \n",
            " 10  Оценка качества уборки                7000 non-null   int64 \n",
            " 11  Оценка качества обслуживания в пути   7000 non-null   int64 \n",
            " 12  Удовлетворён предоставленной услугой  7000 non-null   int64 \n",
            "dtypes: int64(9), object(4)\n",
            "memory usage: 765.6+ KB\n"
          ]
        }
      ],
      "source": [
        "df.info()"
      ]
    },
    {
      "cell_type": "markdown",
      "id": "95c178bb",
      "metadata": {
        "id": "95c178bb"
      },
      "source": [
        "Количественными признаками здесь являются только `Возраст` и `Расстояние`. Остальные признаки - категориальные.\n",
        "\n",
        "Категориальных признаков гораздо больше, чем количественных. С такими данными линейные модели или `kNN` справляются не очень хорошо. Базовой моделью, которая больше подходит к таким данным, является дерево решений (англ. `Decision Tree`).\n",
        "\n",
        "Перед тем как начать основную работу, важно изучить распределение целевого признака. Сделайте это, а затем примите решение, какую метрику использовать для оценки качества работы модели."
      ]
    },
    {
      "cell_type": "code",
      "execution_count": null,
      "id": "7b15622e",
      "metadata": {
        "id": "7b15622e",
        "colab": {
          "base_uri": "https://localhost:8080/"
        },
        "outputId": "f7b52f21-7f6b-49ad-a074-b8ceea830afd"
      },
      "outputs": [
        {
          "output_type": "execute_result",
          "data": {
            "text/plain": [
              "Удовлетворён предоставленной услугой\n",
              "1    0.865857\n",
              "0    0.134143\n",
              "Name: proportion, dtype: float64"
            ]
          },
          "metadata": {},
          "execution_count": 7
        }
      ],
      "source": [
        "# посчитайте, сколько раз встречается каждый класс, методом value_counts()\n",
        "df['Удовлетворён предоставленной услугой'].value_counts(normalize=True)"
      ]
    },
    {
      "cell_type": "markdown",
      "id": "60125f56",
      "metadata": {
        "id": "60125f56"
      },
      "source": [
        "Налицо дисбаланс классов. Нужно это учесть при выборе подходящей метрики качества.\n",
        "\n",
        "Перед нами задача бинарной классификации и дисбаланс в классах — это работа для метрики `ROC-AUC`. Она отлично подходит для бинарной классификации с несбалансированной выборкой.\n",
        "\n",
        "Т.к. в данных есть дисбаланс классов, нужно обязательно выполнить стратификацию по целевому признаку.\n"
      ]
    },
    {
      "cell_type": "markdown",
      "id": "5dd6393f",
      "metadata": {
        "id": "5dd6393f"
      },
      "source": [
        "Поделите данные на тренировочную и тестовую выборки в отношении 3:1, сделайте стратификацию по целевому признаку. Затем подготовьте список строковых категорий для кодирования."
      ]
    },
    {
      "cell_type": "code",
      "execution_count": null,
      "id": "245bf10e",
      "metadata": {
        "id": "245bf10e"
      },
      "outputs": [],
      "source": [
        "# делим данные на входные и целевые\n",
        "X =df.drop(columns=['Удовлетворён предоставленной услугой'])\n",
        "y =df['Удовлетворён предоставленной услугой']"
      ]
    },
    {
      "cell_type": "code",
      "execution_count": null,
      "id": "603167a0",
      "metadata": {
        "id": "603167a0"
      },
      "outputs": [],
      "source": [
        "# Разделите данные на тренировочную и тестовую выборки:\n",
        "# - используйте константы с размером тестовой выборки и random_state;\n",
        "# - сделайте стратификацию по целевому признаку.\n",
        "X_train, X_test, y_train, y_test = train_test_split(X,y, test_size=0.25,random_state=RANDOM_STATE, stratify=y)\n"
      ]
    },
    {
      "cell_type": "code",
      "execution_count": null,
      "id": "d184c71c",
      "metadata": {
        "id": "d184c71c"
      },
      "outputs": [],
      "source": [
        "# создайте списки с количественными и категориальными признаками\n",
        "cat_col_names = X_train.select_dtypes(include='object').columns.tolist()\n",
        "num_col_names = X_train.select_dtypes(include='number').columns.tolist()\n",
        "\n",
        "# выберите класс OrdinalEncoder() для кодирования\n",
        "\n",
        "ord = OrdinalEncoder()\n",
        "\n",
        "# обучите и преобразуйте категориальные признаки из тренировочной и тестовой выборок\n",
        "# для тренировочной выборки выполните действия одной командой\n",
        "X_train_ord =ord.fit_transform(X_train[cat_col_names])\n",
        "X_test_ord =ord.transform(X_test[cat_col_names])\n",
        "\n",
        "# сохраняем в переменной encoder_col_names список названий новых столбцов\n",
        "encoder_col_names = cat_col_names\n",
        "\n",
        "\n",
        "# создаём датафрейм из закодированных данных\n",
        "# передаём названия столбцов из переменной encoder_col_names\n",
        "X_train_ord = pd.DataFrame(X_train_ord, columns=encoder_col_names)\n",
        "X_test_ord = pd.DataFrame(X_test_ord, columns=encoder_col_names)\n",
        "\n",
        "# обнуляем индексы строк перед объединением количественных и категориальных\n",
        "# признаков в датафрейм\n",
        "X_train = X_train.reset_index()\n",
        "X_test = X_test.reset_index()\n",
        "\n",
        "# объедините количественные и категориальные признаки для тренировочного\n",
        "# и тестового датасетов\n",
        "X_train = pd.concat([X_train_ord, X_train[num_col_names]], axis=1)\n",
        "X_test = pd.concat([X_test_ord, X_test[num_col_names]], axis=1)"
      ]
    },
    {
      "cell_type": "code",
      "execution_count": null,
      "id": "b2a7ed36",
      "metadata": {
        "id": "b2a7ed36",
        "colab": {
          "base_uri": "https://localhost:8080/",
          "height": 441
        },
        "outputId": "8e4c6b54-d857-4398-d58d-5664d5e42e26"
      },
      "outputs": [
        {
          "output_type": "execute_result",
          "data": {
            "text/plain": [
              "      Пол  Путешествует с детьми  Путешествует по работе  Тип  Возраст  \\\n",
              "0     0.0                    1.0                     1.0  1.0       70   \n",
              "1     0.0                    1.0                     0.0  0.0       78   \n",
              "2     1.0                    1.0                     1.0  1.0       57   \n",
              "3     0.0                    1.0                     0.0  1.0       36   \n",
              "4     0.0                    1.0                     1.0  2.0       40   \n",
              "...   ...                    ...                     ...  ...      ...   \n",
              "5245  0.0                    1.0                     0.0  2.0       50   \n",
              "5246  1.0                    1.0                     0.0  1.0       44   \n",
              "5247  1.0                    0.0                     0.0  1.0       52   \n",
              "5248  1.0                    1.0                     1.0  1.0       53   \n",
              "5249  0.0                    1.0                     0.0  1.0       42   \n",
              "\n",
              "      Расстояние  Покупка билета онлайн  Питание включено  Наличие wifi  \\\n",
              "0            818                      1                 1             0   \n",
              "1            709                      1                 1             1   \n",
              "2            899                      1                 0             1   \n",
              "3            345                      1                 0             0   \n",
              "4            734                      1                 1             1   \n",
              "...          ...                    ...               ...           ...   \n",
              "5245        3605                      1                 0             0   \n",
              "5246         193                      1                 1             0   \n",
              "5247        1046                      1                 1             0   \n",
              "5248         588                      1                 1             1   \n",
              "5249         904                      1                 0             1   \n",
              "\n",
              "      Оценка комфортности места  Оценка качества уборки  \\\n",
              "0                             5                       4   \n",
              "1                             5                       3   \n",
              "2                             5                       5   \n",
              "3                             5                       5   \n",
              "4                             2                       3   \n",
              "...                         ...                     ...   \n",
              "5245                          5                       3   \n",
              "5246                          2                       2   \n",
              "5247                          3                       3   \n",
              "5248                          4                       1   \n",
              "5249                          1                       2   \n",
              "\n",
              "      Оценка качества обслуживания в пути  \n",
              "0                                       4  \n",
              "1                                       4  \n",
              "2                                       4  \n",
              "3                                       3  \n",
              "4                                       4  \n",
              "...                                   ...  \n",
              "5245                                    4  \n",
              "5246                                    2  \n",
              "5247                                    3  \n",
              "5248                                    3  \n",
              "5249                                    5  \n",
              "\n",
              "[5250 rows x 12 columns]"
            ],
            "text/html": [
              "\n",
              "  <div id=\"df-c02db8bc-38c7-45c6-8939-49726dc34675\" class=\"colab-df-container\">\n",
              "    <div>\n",
              "<style scoped>\n",
              "    .dataframe tbody tr th:only-of-type {\n",
              "        vertical-align: middle;\n",
              "    }\n",
              "\n",
              "    .dataframe tbody tr th {\n",
              "        vertical-align: top;\n",
              "    }\n",
              "\n",
              "    .dataframe thead th {\n",
              "        text-align: right;\n",
              "    }\n",
              "</style>\n",
              "<table border=\"1\" class=\"dataframe\">\n",
              "  <thead>\n",
              "    <tr style=\"text-align: right;\">\n",
              "      <th></th>\n",
              "      <th>Пол</th>\n",
              "      <th>Путешествует с детьми</th>\n",
              "      <th>Путешествует по работе</th>\n",
              "      <th>Тип</th>\n",
              "      <th>Возраст</th>\n",
              "      <th>Расстояние</th>\n",
              "      <th>Покупка билета онлайн</th>\n",
              "      <th>Питание включено</th>\n",
              "      <th>Наличие wifi</th>\n",
              "      <th>Оценка комфортности места</th>\n",
              "      <th>Оценка качества уборки</th>\n",
              "      <th>Оценка качества обслуживания в пути</th>\n",
              "    </tr>\n",
              "  </thead>\n",
              "  <tbody>\n",
              "    <tr>\n",
              "      <th>0</th>\n",
              "      <td>0.0</td>\n",
              "      <td>1.0</td>\n",
              "      <td>1.0</td>\n",
              "      <td>1.0</td>\n",
              "      <td>70</td>\n",
              "      <td>818</td>\n",
              "      <td>1</td>\n",
              "      <td>1</td>\n",
              "      <td>0</td>\n",
              "      <td>5</td>\n",
              "      <td>4</td>\n",
              "      <td>4</td>\n",
              "    </tr>\n",
              "    <tr>\n",
              "      <th>1</th>\n",
              "      <td>0.0</td>\n",
              "      <td>1.0</td>\n",
              "      <td>0.0</td>\n",
              "      <td>0.0</td>\n",
              "      <td>78</td>\n",
              "      <td>709</td>\n",
              "      <td>1</td>\n",
              "      <td>1</td>\n",
              "      <td>1</td>\n",
              "      <td>5</td>\n",
              "      <td>3</td>\n",
              "      <td>4</td>\n",
              "    </tr>\n",
              "    <tr>\n",
              "      <th>2</th>\n",
              "      <td>1.0</td>\n",
              "      <td>1.0</td>\n",
              "      <td>1.0</td>\n",
              "      <td>1.0</td>\n",
              "      <td>57</td>\n",
              "      <td>899</td>\n",
              "      <td>1</td>\n",
              "      <td>0</td>\n",
              "      <td>1</td>\n",
              "      <td>5</td>\n",
              "      <td>5</td>\n",
              "      <td>4</td>\n",
              "    </tr>\n",
              "    <tr>\n",
              "      <th>3</th>\n",
              "      <td>0.0</td>\n",
              "      <td>1.0</td>\n",
              "      <td>0.0</td>\n",
              "      <td>1.0</td>\n",
              "      <td>36</td>\n",
              "      <td>345</td>\n",
              "      <td>1</td>\n",
              "      <td>0</td>\n",
              "      <td>0</td>\n",
              "      <td>5</td>\n",
              "      <td>5</td>\n",
              "      <td>3</td>\n",
              "    </tr>\n",
              "    <tr>\n",
              "      <th>4</th>\n",
              "      <td>0.0</td>\n",
              "      <td>1.0</td>\n",
              "      <td>1.0</td>\n",
              "      <td>2.0</td>\n",
              "      <td>40</td>\n",
              "      <td>734</td>\n",
              "      <td>1</td>\n",
              "      <td>1</td>\n",
              "      <td>1</td>\n",
              "      <td>2</td>\n",
              "      <td>3</td>\n",
              "      <td>4</td>\n",
              "    </tr>\n",
              "    <tr>\n",
              "      <th>...</th>\n",
              "      <td>...</td>\n",
              "      <td>...</td>\n",
              "      <td>...</td>\n",
              "      <td>...</td>\n",
              "      <td>...</td>\n",
              "      <td>...</td>\n",
              "      <td>...</td>\n",
              "      <td>...</td>\n",
              "      <td>...</td>\n",
              "      <td>...</td>\n",
              "      <td>...</td>\n",
              "      <td>...</td>\n",
              "    </tr>\n",
              "    <tr>\n",
              "      <th>5245</th>\n",
              "      <td>0.0</td>\n",
              "      <td>1.0</td>\n",
              "      <td>0.0</td>\n",
              "      <td>2.0</td>\n",
              "      <td>50</td>\n",
              "      <td>3605</td>\n",
              "      <td>1</td>\n",
              "      <td>0</td>\n",
              "      <td>0</td>\n",
              "      <td>5</td>\n",
              "      <td>3</td>\n",
              "      <td>4</td>\n",
              "    </tr>\n",
              "    <tr>\n",
              "      <th>5246</th>\n",
              "      <td>1.0</td>\n",
              "      <td>1.0</td>\n",
              "      <td>0.0</td>\n",
              "      <td>1.0</td>\n",
              "      <td>44</td>\n",
              "      <td>193</td>\n",
              "      <td>1</td>\n",
              "      <td>1</td>\n",
              "      <td>0</td>\n",
              "      <td>2</td>\n",
              "      <td>2</td>\n",
              "      <td>2</td>\n",
              "    </tr>\n",
              "    <tr>\n",
              "      <th>5247</th>\n",
              "      <td>1.0</td>\n",
              "      <td>0.0</td>\n",
              "      <td>0.0</td>\n",
              "      <td>1.0</td>\n",
              "      <td>52</td>\n",
              "      <td>1046</td>\n",
              "      <td>1</td>\n",
              "      <td>1</td>\n",
              "      <td>0</td>\n",
              "      <td>3</td>\n",
              "      <td>3</td>\n",
              "      <td>3</td>\n",
              "    </tr>\n",
              "    <tr>\n",
              "      <th>5248</th>\n",
              "      <td>1.0</td>\n",
              "      <td>1.0</td>\n",
              "      <td>1.0</td>\n",
              "      <td>1.0</td>\n",
              "      <td>53</td>\n",
              "      <td>588</td>\n",
              "      <td>1</td>\n",
              "      <td>1</td>\n",
              "      <td>1</td>\n",
              "      <td>4</td>\n",
              "      <td>1</td>\n",
              "      <td>3</td>\n",
              "    </tr>\n",
              "    <tr>\n",
              "      <th>5249</th>\n",
              "      <td>0.0</td>\n",
              "      <td>1.0</td>\n",
              "      <td>0.0</td>\n",
              "      <td>1.0</td>\n",
              "      <td>42</td>\n",
              "      <td>904</td>\n",
              "      <td>1</td>\n",
              "      <td>0</td>\n",
              "      <td>1</td>\n",
              "      <td>1</td>\n",
              "      <td>2</td>\n",
              "      <td>5</td>\n",
              "    </tr>\n",
              "  </tbody>\n",
              "</table>\n",
              "<p>5250 rows × 12 columns</p>\n",
              "</div>\n",
              "    <div class=\"colab-df-buttons\">\n",
              "\n",
              "  <div class=\"colab-df-container\">\n",
              "    <button class=\"colab-df-convert\" onclick=\"convertToInteractive('df-c02db8bc-38c7-45c6-8939-49726dc34675')\"\n",
              "            title=\"Convert this dataframe to an interactive table.\"\n",
              "            style=\"display:none;\">\n",
              "\n",
              "  <svg xmlns=\"http://www.w3.org/2000/svg\" height=\"24px\" viewBox=\"0 -960 960 960\">\n",
              "    <path d=\"M120-120v-720h720v720H120Zm60-500h600v-160H180v160Zm220 220h160v-160H400v160Zm0 220h160v-160H400v160ZM180-400h160v-160H180v160Zm440 0h160v-160H620v160ZM180-180h160v-160H180v160Zm440 0h160v-160H620v160Z\"/>\n",
              "  </svg>\n",
              "    </button>\n",
              "\n",
              "  <style>\n",
              "    .colab-df-container {\n",
              "      display:flex;\n",
              "      gap: 12px;\n",
              "    }\n",
              "\n",
              "    .colab-df-convert {\n",
              "      background-color: #E8F0FE;\n",
              "      border: none;\n",
              "      border-radius: 50%;\n",
              "      cursor: pointer;\n",
              "      display: none;\n",
              "      fill: #1967D2;\n",
              "      height: 32px;\n",
              "      padding: 0 0 0 0;\n",
              "      width: 32px;\n",
              "    }\n",
              "\n",
              "    .colab-df-convert:hover {\n",
              "      background-color: #E2EBFA;\n",
              "      box-shadow: 0px 1px 2px rgba(60, 64, 67, 0.3), 0px 1px 3px 1px rgba(60, 64, 67, 0.15);\n",
              "      fill: #174EA6;\n",
              "    }\n",
              "\n",
              "    .colab-df-buttons div {\n",
              "      margin-bottom: 4px;\n",
              "    }\n",
              "\n",
              "    [theme=dark] .colab-df-convert {\n",
              "      background-color: #3B4455;\n",
              "      fill: #D2E3FC;\n",
              "    }\n",
              "\n",
              "    [theme=dark] .colab-df-convert:hover {\n",
              "      background-color: #434B5C;\n",
              "      box-shadow: 0px 1px 3px 1px rgba(0, 0, 0, 0.15);\n",
              "      filter: drop-shadow(0px 1px 2px rgba(0, 0, 0, 0.3));\n",
              "      fill: #FFFFFF;\n",
              "    }\n",
              "  </style>\n",
              "\n",
              "    <script>\n",
              "      const buttonEl =\n",
              "        document.querySelector('#df-c02db8bc-38c7-45c6-8939-49726dc34675 button.colab-df-convert');\n",
              "      buttonEl.style.display =\n",
              "        google.colab.kernel.accessAllowed ? 'block' : 'none';\n",
              "\n",
              "      async function convertToInteractive(key) {\n",
              "        const element = document.querySelector('#df-c02db8bc-38c7-45c6-8939-49726dc34675');\n",
              "        const dataTable =\n",
              "          await google.colab.kernel.invokeFunction('convertToInteractive',\n",
              "                                                    [key], {});\n",
              "        if (!dataTable) return;\n",
              "\n",
              "        const docLinkHtml = 'Like what you see? Visit the ' +\n",
              "          '<a target=\"_blank\" href=https://colab.research.google.com/notebooks/data_table.ipynb>data table notebook</a>'\n",
              "          + ' to learn more about interactive tables.';\n",
              "        element.innerHTML = '';\n",
              "        dataTable['output_type'] = 'display_data';\n",
              "        await google.colab.output.renderOutput(dataTable, element);\n",
              "        const docLink = document.createElement('div');\n",
              "        docLink.innerHTML = docLinkHtml;\n",
              "        element.appendChild(docLink);\n",
              "      }\n",
              "    </script>\n",
              "  </div>\n",
              "\n",
              "\n",
              "<div id=\"df-7ea78e75-3460-43af-aaed-579c8fdc423b\">\n",
              "  <button class=\"colab-df-quickchart\" onclick=\"quickchart('df-7ea78e75-3460-43af-aaed-579c8fdc423b')\"\n",
              "            title=\"Suggest charts\"\n",
              "            style=\"display:none;\">\n",
              "\n",
              "<svg xmlns=\"http://www.w3.org/2000/svg\" height=\"24px\"viewBox=\"0 0 24 24\"\n",
              "     width=\"24px\">\n",
              "    <g>\n",
              "        <path d=\"M19 3H5c-1.1 0-2 .9-2 2v14c0 1.1.9 2 2 2h14c1.1 0 2-.9 2-2V5c0-1.1-.9-2-2-2zM9 17H7v-7h2v7zm4 0h-2V7h2v10zm4 0h-2v-4h2v4z\"/>\n",
              "    </g>\n",
              "</svg>\n",
              "  </button>\n",
              "\n",
              "<style>\n",
              "  .colab-df-quickchart {\n",
              "      --bg-color: #E8F0FE;\n",
              "      --fill-color: #1967D2;\n",
              "      --hover-bg-color: #E2EBFA;\n",
              "      --hover-fill-color: #174EA6;\n",
              "      --disabled-fill-color: #AAA;\n",
              "      --disabled-bg-color: #DDD;\n",
              "  }\n",
              "\n",
              "  [theme=dark] .colab-df-quickchart {\n",
              "      --bg-color: #3B4455;\n",
              "      --fill-color: #D2E3FC;\n",
              "      --hover-bg-color: #434B5C;\n",
              "      --hover-fill-color: #FFFFFF;\n",
              "      --disabled-bg-color: #3B4455;\n",
              "      --disabled-fill-color: #666;\n",
              "  }\n",
              "\n",
              "  .colab-df-quickchart {\n",
              "    background-color: var(--bg-color);\n",
              "    border: none;\n",
              "    border-radius: 50%;\n",
              "    cursor: pointer;\n",
              "    display: none;\n",
              "    fill: var(--fill-color);\n",
              "    height: 32px;\n",
              "    padding: 0;\n",
              "    width: 32px;\n",
              "  }\n",
              "\n",
              "  .colab-df-quickchart:hover {\n",
              "    background-color: var(--hover-bg-color);\n",
              "    box-shadow: 0 1px 2px rgba(60, 64, 67, 0.3), 0 1px 3px 1px rgba(60, 64, 67, 0.15);\n",
              "    fill: var(--button-hover-fill-color);\n",
              "  }\n",
              "\n",
              "  .colab-df-quickchart-complete:disabled,\n",
              "  .colab-df-quickchart-complete:disabled:hover {\n",
              "    background-color: var(--disabled-bg-color);\n",
              "    fill: var(--disabled-fill-color);\n",
              "    box-shadow: none;\n",
              "  }\n",
              "\n",
              "  .colab-df-spinner {\n",
              "    border: 2px solid var(--fill-color);\n",
              "    border-color: transparent;\n",
              "    border-bottom-color: var(--fill-color);\n",
              "    animation:\n",
              "      spin 1s steps(1) infinite;\n",
              "  }\n",
              "\n",
              "  @keyframes spin {\n",
              "    0% {\n",
              "      border-color: transparent;\n",
              "      border-bottom-color: var(--fill-color);\n",
              "      border-left-color: var(--fill-color);\n",
              "    }\n",
              "    20% {\n",
              "      border-color: transparent;\n",
              "      border-left-color: var(--fill-color);\n",
              "      border-top-color: var(--fill-color);\n",
              "    }\n",
              "    30% {\n",
              "      border-color: transparent;\n",
              "      border-left-color: var(--fill-color);\n",
              "      border-top-color: var(--fill-color);\n",
              "      border-right-color: var(--fill-color);\n",
              "    }\n",
              "    40% {\n",
              "      border-color: transparent;\n",
              "      border-right-color: var(--fill-color);\n",
              "      border-top-color: var(--fill-color);\n",
              "    }\n",
              "    60% {\n",
              "      border-color: transparent;\n",
              "      border-right-color: var(--fill-color);\n",
              "    }\n",
              "    80% {\n",
              "      border-color: transparent;\n",
              "      border-right-color: var(--fill-color);\n",
              "      border-bottom-color: var(--fill-color);\n",
              "    }\n",
              "    90% {\n",
              "      border-color: transparent;\n",
              "      border-bottom-color: var(--fill-color);\n",
              "    }\n",
              "  }\n",
              "</style>\n",
              "\n",
              "  <script>\n",
              "    async function quickchart(key) {\n",
              "      const quickchartButtonEl =\n",
              "        document.querySelector('#' + key + ' button');\n",
              "      quickchartButtonEl.disabled = true;  // To prevent multiple clicks.\n",
              "      quickchartButtonEl.classList.add('colab-df-spinner');\n",
              "      try {\n",
              "        const charts = await google.colab.kernel.invokeFunction(\n",
              "            'suggestCharts', [key], {});\n",
              "      } catch (error) {\n",
              "        console.error('Error during call to suggestCharts:', error);\n",
              "      }\n",
              "      quickchartButtonEl.classList.remove('colab-df-spinner');\n",
              "      quickchartButtonEl.classList.add('colab-df-quickchart-complete');\n",
              "    }\n",
              "    (() => {\n",
              "      let quickchartButtonEl =\n",
              "        document.querySelector('#df-7ea78e75-3460-43af-aaed-579c8fdc423b button');\n",
              "      quickchartButtonEl.style.display =\n",
              "        google.colab.kernel.accessAllowed ? 'block' : 'none';\n",
              "    })();\n",
              "  </script>\n",
              "</div>\n",
              "    </div>\n",
              "  </div>\n"
            ],
            "application/vnd.google.colaboratory.intrinsic+json": {
              "type": "dataframe",
              "variable_name": "X_train",
              "summary": "{\n  \"name\": \"X_train\",\n  \"rows\": 5250,\n  \"fields\": [\n    {\n      \"column\": \"\\u041f\\u043e\\u043b\",\n      \"properties\": {\n        \"dtype\": \"number\",\n        \"std\": 0.49988954499425936,\n        \"min\": 0.0,\n        \"max\": 1.0,\n        \"num_unique_values\": 2,\n        \"samples\": [\n          1.0,\n          0.0\n        ],\n        \"semantic_type\": \"\",\n        \"description\": \"\"\n      }\n    },\n    {\n      \"column\": \"\\u041f\\u0443\\u0442\\u0435\\u0448\\u0435\\u0441\\u0442\\u0432\\u0443\\u0435\\u0442 \\u0441 \\u0434\\u0435\\u0442\\u044c\\u043c\\u0438\",\n      \"properties\": {\n        \"dtype\": \"number\",\n        \"std\": 0.39627510214660083,\n        \"min\": 0.0,\n        \"max\": 1.0,\n        \"num_unique_values\": 2,\n        \"samples\": [\n          0.0,\n          1.0\n        ],\n        \"semantic_type\": \"\",\n        \"description\": \"\"\n      }\n    },\n    {\n      \"column\": \"\\u041f\\u0443\\u0442\\u0435\\u0448\\u0435\\u0441\\u0442\\u0432\\u0443\\u0435\\u0442 \\u043f\\u043e \\u0440\\u0430\\u0431\\u043e\\u0442\\u0435\",\n      \"properties\": {\n        \"dtype\": \"number\",\n        \"std\": 0.4916872785623259,\n        \"min\": 0.0,\n        \"max\": 1.0,\n        \"num_unique_values\": 2,\n        \"samples\": [\n          0.0,\n          1.0\n        ],\n        \"semantic_type\": \"\",\n        \"description\": \"\"\n      }\n    },\n    {\n      \"column\": \"\\u0422\\u0438\\u043f\",\n      \"properties\": {\n        \"dtype\": \"number\",\n        \"std\": 0.5009671039736189,\n        \"min\": 0.0,\n        \"max\": 2.0,\n        \"num_unique_values\": 3,\n        \"samples\": [\n          1.0,\n          0.0\n        ],\n        \"semantic_type\": \"\",\n        \"description\": \"\"\n      }\n    },\n    {\n      \"column\": \"\\u0412\\u043e\\u0437\\u0440\\u0430\\u0441\\u0442\",\n      \"properties\": {\n        \"dtype\": \"number\",\n        \"std\": 14,\n        \"min\": 18,\n        \"max\": 80,\n        \"num_unique_values\": 62,\n        \"samples\": [\n          58,\n          77\n        ],\n        \"semantic_type\": \"\",\n        \"description\": \"\"\n      }\n    },\n    {\n      \"column\": \"\\u0420\\u0430\\u0441\\u0441\\u0442\\u043e\\u044f\\u043d\\u0438\\u0435\",\n      \"properties\": {\n        \"dtype\": \"number\",\n        \"std\": 633,\n        \"min\": 104,\n        \"max\": 4539,\n        \"num_unique_values\": 1152,\n        \"samples\": [\n          1036,\n          1984\n        ],\n        \"semantic_type\": \"\",\n        \"description\": \"\"\n      }\n    },\n    {\n      \"column\": \"\\u041f\\u043e\\u043a\\u0443\\u043f\\u043a\\u0430 \\u0431\\u0438\\u043b\\u0435\\u0442\\u0430 \\u043e\\u043d\\u043b\\u0430\\u0439\\u043d\",\n      \"properties\": {\n        \"dtype\": \"number\",\n        \"std\": 0,\n        \"min\": 0,\n        \"max\": 1,\n        \"num_unique_values\": 2,\n        \"samples\": [\n          0,\n          1\n        ],\n        \"semantic_type\": \"\",\n        \"description\": \"\"\n      }\n    },\n    {\n      \"column\": \"\\u041f\\u0438\\u0442\\u0430\\u043d\\u0438\\u0435 \\u0432\\u043a\\u043b\\u044e\\u0447\\u0435\\u043d\\u043e\",\n      \"properties\": {\n        \"dtype\": \"number\",\n        \"std\": 0,\n        \"min\": 0,\n        \"max\": 1,\n        \"num_unique_values\": 2,\n        \"samples\": [\n          0,\n          1\n        ],\n        \"semantic_type\": \"\",\n        \"description\": \"\"\n      }\n    },\n    {\n      \"column\": \"\\u041d\\u0430\\u043b\\u0438\\u0447\\u0438\\u0435 wifi\",\n      \"properties\": {\n        \"dtype\": \"number\",\n        \"std\": 0,\n        \"min\": 0,\n        \"max\": 1,\n        \"num_unique_values\": 2,\n        \"samples\": [\n          1,\n          0\n        ],\n        \"semantic_type\": \"\",\n        \"description\": \"\"\n      }\n    },\n    {\n      \"column\": \"\\u041e\\u0446\\u0435\\u043d\\u043a\\u0430 \\u043a\\u043e\\u043c\\u0444\\u043e\\u0440\\u0442\\u043d\\u043e\\u0441\\u0442\\u0438 \\u043c\\u0435\\u0441\\u0442\\u0430\",\n      \"properties\": {\n        \"dtype\": \"number\",\n        \"std\": 1,\n        \"min\": 1,\n        \"max\": 5,\n        \"num_unique_values\": 5,\n        \"samples\": [\n          2,\n          3\n        ],\n        \"semantic_type\": \"\",\n        \"description\": \"\"\n      }\n    },\n    {\n      \"column\": \"\\u041e\\u0446\\u0435\\u043d\\u043a\\u0430 \\u043a\\u0430\\u0447\\u0435\\u0441\\u0442\\u0432\\u0430 \\u0443\\u0431\\u043e\\u0440\\u043a\\u0438\",\n      \"properties\": {\n        \"dtype\": \"number\",\n        \"std\": 1,\n        \"min\": 1,\n        \"max\": 5,\n        \"num_unique_values\": 5,\n        \"samples\": [\n          3,\n          2\n        ],\n        \"semantic_type\": \"\",\n        \"description\": \"\"\n      }\n    },\n    {\n      \"column\": \"\\u041e\\u0446\\u0435\\u043d\\u043a\\u0430 \\u043a\\u0430\\u0447\\u0435\\u0441\\u0442\\u0432\\u0430 \\u043e\\u0431\\u0441\\u043b\\u0443\\u0436\\u0438\\u0432\\u0430\\u043d\\u0438\\u044f \\u0432 \\u043f\\u0443\\u0442\\u0438\",\n      \"properties\": {\n        \"dtype\": \"number\",\n        \"std\": 0,\n        \"min\": 1,\n        \"max\": 5,\n        \"num_unique_values\": 5,\n        \"samples\": [\n          3,\n          5\n        ],\n        \"semantic_type\": \"\",\n        \"description\": \"\"\n      }\n    }\n  ]\n}"
            }
          },
          "metadata": {},
          "execution_count": 11
        }
      ],
      "source": [
        "# выводим тренировочные данные\n",
        "X_train"
      ]
    },
    {
      "cell_type": "markdown",
      "id": "d2b48c68",
      "metadata": {
        "id": "d2b48c68"
      },
      "source": [
        "## Модель Decision Tree с настройками по умолчанию"
      ]
    },
    {
      "cell_type": "markdown",
      "id": "83ed1fa7",
      "metadata": {
        "id": "83ed1fa7"
      },
      "source": [
        "Создайте модель дерева решений и обучите её на тренировочной выборке. Оцените метрику `ROC-AUC`\n",
        "\n",
        "Инициализируем модель. При инициализации модели важно «зафиксировать» параметр `random_state` и передать ему любое целое число, чтобы модель при обучении была одинаковой. Если этого не сделать, при перезапуске ячейки дерево может строиться по-разному. На метриках это тоже отразится.\n"
      ]
    },
    {
      "cell_type": "markdown",
      "id": "e2b08157",
      "metadata": {
        "id": "e2b08157"
      },
      "source": [
        "Чтобы визуализировать построенное дерево, понадобится функция `plot_tree` из модуля `sklearn.tree`.\n",
        "\n",
        "Функции нужно передать обученную модель с помощью параметра `decision_tree`. В конце строки указывают точку с запятой, чтобы вместе с графиком не выводился лишний текст. С помощью параметра `feature_names` отражаем наименование признаков в правилах.  Схему можно сделать цветной, указав аргумент `filled=True`"
      ]
    },
    {
      "cell_type": "code",
      "execution_count": null,
      "id": "66768824",
      "metadata": {
        "id": "66768824"
      },
      "outputs": [],
      "source": [
        "# инициализируйте модель дерева решений и обучите её на тренировочных данных\n",
        "model = DecisionTreeClassifier(random_state=RANDOM_STATE, class_weight='balanced').fit(X_train,y_train)\n"
      ]
    },
    {
      "cell_type": "code",
      "execution_count": null,
      "id": "42f6b2c0",
      "metadata": {
        "id": "42f6b2c0",
        "outputId": "a4ba05be-154a-40b7-cc1f-5f7754feb058",
        "colab": {
          "base_uri": "https://localhost:8080/",
          "height": 653
        }
      },
      "outputs": [
        {
          "output_type": "display_data",
          "data": {
            "text/plain": [
              "<Figure size 1000x800 with 1 Axes>"
            ],
            "image/png": "[encoded data removed]"
          },
          "metadata": {}
        }
      ],
      "source": [
        "# добавляем размер графика\n",
        "plt.figure(figsize=(10, 8))\n",
        "\n",
        "# визуализируйте модель дерева решений, отобразите названия признаков\n",
        "# и раскрасьте узлы\n",
        "\n",
        "plot_tree(decision_tree=model, feature_names=X_train.columns, filled=True,rounded=True);"
      ]
    },
    {
      "cell_type": "code",
      "execution_count": null,
      "id": "755a1e8d",
      "metadata": {
        "id": "755a1e8d",
        "outputId": "b97c915f-fa39-46ee-ecb7-28bd25a07ab6",
        "colab": {
          "base_uri": "https://localhost:8080/"
        }
      },
      "outputs": [
        {
          "output_type": "stream",
          "name": "stdout",
          "text": [
            "ROC-AUC train: 0.9998900131984162\n",
            "ROC-AUC test: 0.6611684572712591\n"
          ]
        }
      ],
      "source": [
        "# посчитайте метрику качества accuracy на тренировочной и тестовой выборках\n",
        "roc_train = roc_auc_score(y_train, model.predict(X_train))\n",
        "roc_test = roc_auc_score(y_test,model.predict(X_test))\n",
        "\n",
        "print('ROC-AUC train:', roc_train)\n",
        "print('ROC-AUC test:', roc_test)"
      ]
    },
    {
      "cell_type": "markdown",
      "id": "081df0ae",
      "metadata": {
        "id": "081df0ae"
      },
      "source": [
        "На тренировочной выборке значение метрики идеально. На тестовой — оно меньше. Кажется, это переобучение. Стоит поменять гиперпараметры модели, чтобы метрика на тесте стала больше."
      ]
    },
    {
      "cell_type": "markdown",
      "id": "a01fed69",
      "metadata": {
        "id": "a01fed69"
      },
      "source": [
        "Для устранения переобучения проведем кросс-валидацию и вычислим метрику `ROC-AUC` на валидационной выборке. Чтобы при кросс-валидации оценивалась интересующая вас метрика: `accuracy`, `ROC-AUC` или другая, метрику из `sklearn` необходмо передать параметру `scoring` функции `cross_val_score()`."
      ]
    },
    {
      "cell_type": "code",
      "execution_count": null,
      "id": "4a5f6c38",
      "metadata": {
        "id": "4a5f6c38",
        "outputId": "9d3f4a71-4594-4110-d863-8942de70d15c",
        "colab": {
          "base_uri": "https://localhost:8080/"
        }
      },
      "outputs": [
        {
          "output_type": "stream",
          "name": "stdout",
          "text": [
            "0.68\n"
          ]
        }
      ],
      "source": [
        "# инициализируйте модель дерева решений\n",
        "model = DecisionTreeClassifier(random_state=RANDOM_STATE, class_weight='balanced')\n",
        "# посчитайте метрику ROC_AUC при кросс-валидации и сразу усредните результат\n",
        "roc_auc_cv = cross_val_score(model,X_train,y_train,scoring='roc_auc').mean()\n",
        "\n",
        "# выводим метрику ROC_AUC с двумя знаками после запятой\n",
        "print(roc_auc_cv.round(2))"
      ]
    },
    {
      "cell_type": "markdown",
      "id": "4898d251",
      "metadata": {
        "id": "4898d251"
      },
      "source": [
        "Модель обучена, но метрика получилась не очень впечатляющей. Попробуем в модели поменять гиперпараметры, чтобы улучшить качество."
      ]
    },
    {
      "cell_type": "markdown",
      "id": "69de9544",
      "metadata": {
        "id": "69de9544"
      },
      "source": [
        "## Модель Decision Tree с различными настройками гиперпараметров"
      ]
    },
    {
      "cell_type": "markdown",
      "id": "04282c3e",
      "metadata": {
        "id": "04282c3e"
      },
      "source": [
        "Обучите две модели дерева решений: с максимальной глубиной 2 и числом объектов в одном листе 3. Вычислите метрику `ROC_AUC` на тренировочной и тестовой выборках."
      ]
    },
    {
      "cell_type": "code",
      "execution_count": null,
      "id": "20bf6aec",
      "metadata": {
        "id": "20bf6aec",
        "outputId": "c1d4d193-c511-42d5-876e-330288b77062",
        "colab": {
          "base_uri": "https://localhost:8080/"
        }
      },
      "outputs": [
        {
          "output_type": "stream",
          "name": "stdout",
          "text": [
            "Максимальная глубина 2\n",
            "ROC-AUC train: 0.8236158535975682\n",
            "ROC-AUC test: 0.7929569552699951\n"
          ]
        }
      ],
      "source": [
        "# инициализируйте модель дерева решений с максимальной глубиной 2\n",
        "model1 = DecisionTreeClassifier(random_state=RANDOM_STATE, class_weight='balanced', max_depth=2).fit(X_train,y_train)\n",
        "\n",
        "# посчитайте метрику качества accuracy на тренировочной и тестовой выборках\n",
        "roc_train = roc_auc_score(y_train.tolist(), model1.predict(X_train))\n",
        "roc_test = roc_auc_score(y_test.tolist(), model1.predict(X_test))\n",
        "print('Максимальная глубина 2')\n",
        "print('ROC-AUC train:', roc_train)\n",
        "print('ROC-AUC test:', roc_test)"
      ]
    },
    {
      "cell_type": "code",
      "execution_count": null,
      "id": "7f004c53",
      "metadata": {
        "id": "7f004c53",
        "outputId": "8de3b60a-1759-42a0-ccb6-60b17b301ec3",
        "colab": {
          "base_uri": "https://localhost:8080/"
        }
      },
      "outputs": [
        {
          "output_type": "stream",
          "name": "stdout",
          "text": [
            "Минимальное количество объектов в одном листе 3\n",
            "ROC-AUC train: 0.9544654641443027\n",
            "ROC-AUC test: 0.7359033775717998\n"
          ]
        }
      ],
      "source": [
        "# инициализируйте модель дерева решений с минимальным числом объектов в листе 3\n",
        "model2 = DecisionTreeClassifier(random_state=RANDOM_STATE, class_weight='balanced',min_samples_leaf=3).fit(X_train,y_train)\n",
        "\n",
        "# посчитайте метрику качества accuracy на тренировочной и тестовой выборках\n",
        "roc_train = roc_auc_score(y_train.tolist(), model2.predict(X_train))\n",
        "roc_test = roc_auc_score(y_test.tolist(), model2.predict(X_test))\n",
        "print('Минимальное количество объектов в одном листе 3')\n",
        "print('ROC-AUC train:', roc_train)\n",
        "print('ROC-AUC test:', roc_test)"
      ]
    },
    {
      "cell_type": "markdown",
      "id": "5227ace7",
      "metadata": {
        "id": "5227ace7"
      },
      "source": [
        "Пока вы меняли по одному гиперпараметру, а если нужно поменять больше? Это можно: запустим цикл, чтобы найти гиперпараметры, которые дадут лучшую метрику.\n",
        "\n",
        "Пройдёмся в цикле сначала по первому гиперпараметру, затем по второму и так далее. При этом каждый раз будем инициализировать модель с текущими значениями гиперпараметров:"
      ]
    },
    {
      "cell_type": "code",
      "execution_count": null,
      "id": "4df04b3c",
      "metadata": {
        "id": "4df04b3c",
        "outputId": "4b4fe497-ad25-49f6-82cc-6d4fe26120c9",
        "colab": {
          "base_uri": "https://localhost:8080/"
        }
      },
      "outputs": [
        {
          "output_type": "stream",
          "name": "stdout",
          "text": [
            "Search time:11.513140439987183\n",
            "       Score                                                           Params\n",
            "0   0.894746  {'min_samples_split': 2, 'min_samples_leaf': 1, 'max_depth': 4}\n",
            "1   0.894746  {'min_samples_split': 2, 'min_samples_leaf': 2, 'max_depth': 4}\n",
            "2   0.894746  {'min_samples_split': 2, 'min_samples_leaf': 3, 'max_depth': 4}\n",
            "3   0.894746  {'min_samples_split': 2, 'min_samples_leaf': 4, 'max_depth': 4}\n",
            "4   0.894746  {'min_samples_split': 2, 'min_samples_leaf': 5, 'max_depth': 4}\n",
            "5   0.894746  {'min_samples_split': 3, 'min_samples_leaf': 1, 'max_depth': 4}\n",
            "6   0.894746  {'min_samples_split': 3, 'min_samples_leaf': 2, 'max_depth': 4}\n",
            "7   0.894746  {'min_samples_split': 3, 'min_samples_leaf': 3, 'max_depth': 4}\n",
            "8   0.894746  {'min_samples_split': 3, 'min_samples_leaf': 4, 'max_depth': 4}\n",
            "9   0.894746  {'min_samples_split': 3, 'min_samples_leaf': 5, 'max_depth': 4}\n",
            "10  0.894746  {'min_samples_split': 4, 'min_samples_leaf': 1, 'max_depth': 4}\n",
            "11  0.894746  {'min_samples_split': 4, 'min_samples_leaf': 2, 'max_depth': 4}\n",
            "12  0.894746  {'min_samples_split': 4, 'min_samples_leaf': 3, 'max_depth': 4}\n",
            "13  0.894746  {'min_samples_split': 4, 'min_samples_leaf': 4, 'max_depth': 4}\n",
            "14  0.894746  {'min_samples_split': 4, 'min_samples_leaf': 5, 'max_depth': 4}\n"
          ]
        }
      ],
      "source": [
        "# запускаем таймер\n",
        "start = time.time()\n",
        "# создаём список для фиксации результатов обучения модели\n",
        "cv_results = []\n",
        "\n",
        "# переберите значения min_samples_split в диапазоне от 2 до 6 (не включительно)\n",
        "for min_samples_split in range(2, 6):\n",
        "    # переберите значения min_samples_leaf в диапазоне от 1 до 6 (не включительно)\n",
        "    for min_samples_leaf in range(1, 6):\n",
        "        # переберите значения max_depth в диапазоне от 2 до 6 (не включительно)\n",
        "        for max_depth in range(1, 6):\n",
        "            # инициализируйте модель дерева решений с этими гиперпараметрами\n",
        "            model = DecisionTreeClassifier(\n",
        "                random_state=RANDOM_STATE,\n",
        "                class_weight = 'balanced',\n",
        "                min_samples_split=min_samples_split,\n",
        "                min_samples_leaf=min_samples_leaf,\n",
        "                max_depth = max_depth\n",
        "            )\n",
        "\n",
        "            # посчитайте метрику roc-auc при кросс-валидации\n",
        "            roc_auc_cv = cross_val_score(model,\n",
        "                                         X_train,\n",
        "                                         y_train,\n",
        "                                         scoring='roc_auc',\n",
        "                                         n_jobs=-1\n",
        "                                        ).mean()\n",
        "\n",
        "\n",
        "            # добавляем метрику и гиперпараметры в список\n",
        "            cv_results.append((roc_auc_cv, {\n",
        "                'min_samples_split': min_samples_split,\n",
        "                'min_samples_leaf': min_samples_leaf,\n",
        "                'max_depth': max_depth\n",
        "            }))\n",
        "\n",
        "# считаем, сколько секунд прошло с начала запуска\n",
        "search_time = time.time() - start\n",
        "print(f'Search time:{search_time}')\n",
        "\n",
        "# сортируем результаты метрики от самых больших до самых маленьких\n",
        "search_cv_results = pd.DataFrame(sorted(cv_results, key=lambda x: x[0], reverse=True))\n",
        "search_cv_results.columns = ['Score', 'Params']\n",
        "print(search_cv_results[:15])\n"
      ]
    },
    {
      "cell_type": "markdown",
      "id": "169562db",
      "metadata": {
        "id": "169562db"
      },
      "source": [
        "Метрика `ROC-AUC` у модели с базовыми настройками была 0.68. Вы изменили три гиперпараметра и получили почти 0.895 — приличный рост. Подбирать гиперпараметры действительно важно. При этом разные значения гиперпараметров могут давать одинаковую метрику качества."
      ]
    },
    {
      "cell_type": "markdown",
      "id": "2f133b01",
      "metadata": {
        "id": "2f133b01"
      },
      "source": [
        "## GridSearchCV"
      ]
    },
    {
      "cell_type": "markdown",
      "id": "4435d6d2",
      "metadata": {
        "id": "4435d6d2"
      },
      "source": [
        "Подбирать гиперпараметры с помощью циклов не самый эффективный способ. Во-первых, это долго: понадобится перебрать все комбинации настроек. Во-вторых, сложно: придётся написать много кода, который, к тому же, трудно читать.\n",
        "\n",
        "Инструмент для автоматизированного поиска гиперпараметров — `GridSearchCV` в `sklearn` - создаёт отдельную модель для каждой комбинации настроек, обучает её и считает метрику при кросс-валидации. Пользоваться таким инструментом удобно: он быстрее циклов и требует меньше кода."
      ]
    },
    {
      "cell_type": "markdown",
      "id": "cf0e45fe",
      "metadata": {
        "id": "cf0e45fe"
      },
      "source": [
        "Класс `GridSearchCV` выглядит следующим образом:\n",
        "\n",
        "`GridSearchCV(\n",
        "  estimator,\n",
        "  param_grid,\n",
        "  scoring=None,\n",
        "  n_jobs=None,\n",
        "  cv=None\n",
        ") `\n",
        "\n",
        "Параметры класса:\n",
        "* `estimator` (обязательный) — инициализированная модель.\n",
        "* `param_grid` (обязательный) — словарь со значениями гиперпараметров. Ключи — названия гиперпараметров, а по ключам хранятся списки значений гиперпараметров.\n",
        "* `scoring` — метрика, которая будет считаться на обученных моделях.\n",
        "* `n_jobs` — количество вычислительных мощностей. Чтобы считалось быстрее, указывают -1.\n",
        "* `cv` — тип кросс-валидации.\n",
        "\n",
        "Чтобы запустить поиск лучших значений гиперпараметров, нужно вызвать метод `fit()`:\n",
        "\n",
        "инициализируем класс для поиска гиперпараметров\n",
        "\n",
        "`gs = GridSearchCV(\n",
        "    model,\n",
        "    parameters\n",
        ")`\n",
        "\n",
        "запускаем поиск лучших гиперпараметров\n",
        "\n",
        "`gs.fit(X_train, y_train)`\n",
        "\n",
        "Когда поиск выполнится, код выведет лучшие значения гиперпараметров с помощью атрибута класса `GridSearchCV` — `gs.best_params_`\n",
        "\n",
        "Что ещё вам может пригодиться:\n",
        "* `best_estimator_ ` — лучшая обученная модель;\n",
        "* `best_score_` — лучшая метрика при кросс-валидации;\n",
        "* `cv_results_` — общие результаты поиска гиперпараметров."
      ]
    },
    {
      "cell_type": "markdown",
      "id": "5873b404",
      "metadata": {
        "id": "5873b404"
      },
      "source": [
        "### Задание\n",
        "\n",
        "Подберите лучшие значения гиперпараметров на примере датасета про пассажирские перевозки. Вы уже делали подобное в цикле, используйте те же значения гиперпараметров.\n",
        "\n",
        "Создайте словарь со значениями гиперпараметров:\n",
        "* `min_samples_split` в диапазоне от 2 до 6 (не включительно);\n",
        "* `min_samples_leaf` в диапазоне от 1 до 6 (не включительно);\n",
        "* `max_depth` в диапазоне от 2 до 6 (не включительно).\n",
        "\n",
        "Инициализируйте класс `GridSearchCV`. В качестве значения кросс-валидации укажите 5, также передайте метрику `roc-auc` и `n_jobs=-1`.\n",
        "\n",
        "Запустите поиск гиперпараметров."
      ]
    },
    {
      "cell_type": "code",
      "execution_count": null,
      "id": "ed4a078a",
      "metadata": {
        "id": "ed4a078a",
        "outputId": "aa9039f1-0c2c-46b7-e44d-55ddaeb0e5d6",
        "colab": {
          "base_uri": "https://localhost:8080/"
        }
      },
      "outputs": [
        {
          "output_type": "stream",
          "name": "stdout",
          "text": [
            "Search time:4.017693281173706\n",
            "Гиперпараметры {'max_depth': 4, 'min_samples_leaf': 1, 'min_samples_split': 2}\n",
            "ROC-AUC 0.8947455152331315\n"
          ]
        }
      ],
      "source": [
        "# запускаем таймер\n",
        "start = time.time()\n",
        "\n",
        "\n",
        "# инициализируем модель дерева решений\n",
        "model = DecisionTreeClassifier(class_weight='balanced', random_state=RANDOM_STATE)\n",
        "\n",
        "# Создайте словарь с гиперпараметрами:\n",
        "# - min_samples_split в диапазоне от 2 до 6 (не включительно);\n",
        "# - min_samples_leaf в диапазоне от 1 до 6 (не включительно);\n",
        "# - max_depth в диапазоне от 2 до 6 (не включительно).\n",
        "parameters = {\n",
        "    'min_samples_split': range(2,6),\n",
        "    'min_samples_leaf': range(1,6),\n",
        "    'max_depth':range(2,6)\n",
        "}\n",
        "\n",
        "# Инициализируйте класс для автоматизированного поиска:\n",
        "# значение кросс-валидации 5, метрика roc-auc и n_jobs=-1.\n",
        "gs = GridSearchCV(model,parameters,cv=5,scoring='roc_auc',n_jobs=-1\n",
        "\n",
        ")\n",
        "\n",
        "\n",
        "# запустите поиск гиперпараметров\n",
        "gs.fit(X_train,y_train)\n",
        "\n",
        "# считаем, сколько секунд прошло с начала запуска\n",
        "gs_search_time = time.time() - start\n",
        "print(f'Search time:{gs_search_time}')\n",
        "\n",
        "# выведите лучшие гиперпараметры\n",
        "print('Гиперпараметры', gs.best_params_)\n",
        "# выведите лучшую метрику качества\n",
        "print('ROC-AUC', gs.best_score_)"
      ]
    },
    {
      "cell_type": "markdown",
      "id": "7b93a3ab",
      "metadata": {
        "id": "7b93a3ab"
      },
      "source": [
        "Та же лучшая метрика, что была в циклах, но за меньшее время. Получается, не нужно писать много кода, чтобы найти самую подходящую модель."
      ]
    },
    {
      "cell_type": "markdown",
      "id": "781df3bb",
      "metadata": {
        "id": "781df3bb"
      },
      "source": [
        "## GridSearchCV с мультискорингом"
      ]
    },
    {
      "cell_type": "markdown",
      "id": "46ab9451",
      "metadata": {
        "id": "46ab9451"
      },
      "source": [
        "Задача предсказать удовлетворённость поездкой решена неплохо. Но въедливый заказчик из компании «Маршрут Экспресс» недоволен. Он пишет, что модель даёт много ложноположительных ответов, т.е. `False Positive`.\n",
        "Когда на класс 0 (пассажир недоволен) модель отвечает классом 1 (пассажир доволен)\n"
      ]
    },
    {
      "cell_type": "markdown",
      "id": "cde38792",
      "metadata": {
        "id": "cde38792"
      },
      "source": [
        "Заказчик заметил, что модель часто даёт ложноположительные ответы. Чем это грозит? Пассажиры, которые остались недовольны поездкой, не будут обнаружены. Так компании будет тяжелее узнать, что нужно поправить."
      ]
    },
    {
      "cell_type": "markdown",
      "id": "fd87af6f",
      "metadata": {
        "id": "fd87af6f"
      },
      "source": [
        "Нужно узнать долю недовольных пассажиров, которых модель ошибочно классифицирует как довольных. Для этого нам нужна  метрика `FPR (False Positive Rate)` - доля объектов класса 0, которые были неверно классифицированы, то есть им был назначен класс 1. Именно это значение и нужно искать."
      ]
    },
    {
      "cell_type": "markdown",
      "id": "3bea5f43",
      "metadata": {
        "id": "3bea5f43"
      },
      "source": [
        "Значит, помимо `ROC-AUC`, будем следить за метрикой `FPR` — долей ложноположительных ответов.\n",
        "\n",
        "Но вот незадача: этой метрики нет в `sklearn`. Придётся создавать функцию самостоятельно. Заодно проверим, действительно ли так велика доля `False Positive` ответов."
      ]
    },
    {
      "cell_type": "markdown",
      "id": "03e97698",
      "metadata": {
        "id": "03e97698"
      },
      "source": [
        "### Задание\n",
        "\n",
        "Напишите свою функцию для подсчёта `FPR`. Проверьте, действительно ли так много ложноположительных ответов даёт модель. Чтобы это сделать, примените функцию к тестовой выборке из датасета о пассажирских перевозках.\n",
        "Напомним, как высчитывается `FPR`:\n",
        "$$FPR = \\frac{FP}{FP+TN} $$\n",
        "\n",
        "В функции для расчёта `FPR` используйте матрицу ошибок из `sklearn`."
      ]
    },
    {
      "cell_type": "code",
      "execution_count": null,
      "id": "4bba59c7",
      "metadata": {
        "id": "4bba59c7"
      },
      "outputs": [],
      "source": [
        "# напишите функцию для подсчёта метрики FPR\n",
        "def get_false_positive_rate(y_true, y_pred):\n",
        "    conf_matrix = confusion_matrix(y_true, y_pred)\n",
        "    fpr =conf_matrix[0][1]/(conf_matrix[0][1]+conf_matrix[0][0])\n",
        "    return fpr"
      ]
    },
    {
      "cell_type": "code",
      "execution_count": null,
      "id": "00347e5f",
      "metadata": {
        "id": "00347e5f",
        "outputId": "11912b2c-f2b6-4829-c29a-c939b0b9409f",
        "colab": {
          "base_uri": "https://localhost:8080/"
        }
      },
      "outputs": [
        {
          "output_type": "execute_result",
          "data": {
            "text/plain": [
              "0.19574468085106383"
            ]
          },
          "metadata": {},
          "execution_count": 21
        }
      ],
      "source": [
        "# получите предсказания на тестовой выборке\n",
        "y_pred =gs.best_estimator_.predict(X_test)\n",
        "\n",
        "# посчитайте метрику FPR на тестовых данных и выведите результат\n",
        "get_false_positive_rate(y_test,y_pred)"
      ]
    },
    {
      "cell_type": "markdown",
      "id": "84f089b2",
      "metadata": {
        "id": "84f089b2"
      },
      "source": [
        "Хорошая новость — метрика `FPR` посчитана! Плохая новость — её значение с округлением 0.20. Это значит, что модель находит только 80% клиентов, недовольных поездкой. Остальные 20% модель отнесла к 1 классу. Непорядок, надо это исправить."
      ]
    },
    {
      "cell_type": "markdown",
      "id": "69436f87",
      "metadata": {
        "id": "69436f87"
      },
      "source": [
        "Попробуем сделать так, чтобы модель давала меньше ложноположительных ответов. Гиперпараметры снова подберём с помощью `GridSearchCV`, но теперь будем считать две метрики сразу. Всё-таки метрика `ROC-AUC` была довольно высокой — не хочется терять этот результат."
      ]
    },
    {
      "cell_type": "markdown",
      "id": "ca67fa29",
      "metadata": {
        "id": "ca67fa29"
      },
      "source": [
        "Оценка нескольких метрик качества одновременно называется мультискорингом. Теперь рассчитывать `FPR` будем с помощью функции `make_scorer()`. Если этого не сделать и передать `GridSearchCV` только результат функции `get_false_positive_rate()`, то метрика будет считаться некорректно."
      ]
    },
    {
      "cell_type": "markdown",
      "id": "ee0a6f3e",
      "metadata": {
        "id": "ee0a6f3e"
      },
      "source": [
        "Для создания функции подсчёта метрики `FPR` используем функцию `make_scorer()`. Функция `make_scorer()` принимает на вход функцию для подсчёта `FPR`.\n",
        "\n",
        "Метрика `False Positive Rate` должна быть минимальна: чем меньше ложноположительных ответов, тем лучше. Поэтому для `FPR` параметру `greater_is_better` передают значение `False`."
      ]
    },
    {
      "cell_type": "code",
      "execution_count": null,
      "id": "066c5ab1",
      "metadata": {
        "id": "066c5ab1"
      },
      "outputs": [],
      "source": [
        "fpr_score = make_scorer(\n",
        "    get_false_positive_rate,\n",
        "    greater_is_better=False\n",
        ")"
      ]
    },
    {
      "cell_type": "markdown",
      "id": "37286f13",
      "metadata": {
        "id": "37286f13"
      },
      "source": [
        "### Задание\n",
        "\n",
        "Посчитайте метрику `FPR` с помощью функции `make_scorer()`. Затем рассчитайте значение метрики при кросс-валидации."
      ]
    },
    {
      "cell_type": "code",
      "execution_count": null,
      "id": "cacae384",
      "metadata": {
        "id": "cacae384",
        "outputId": "8f08d18e-4318-4176-8aeb-b00a63f73071",
        "colab": {
          "base_uri": "https://localhost:8080/"
        }
      },
      "outputs": [
        {
          "output_type": "stream",
          "name": "stdout",
          "text": [
            "-0.5539918946301925\n"
          ]
        }
      ],
      "source": [
        "# инициализируем модель дерева решений\n",
        "model = DecisionTreeClassifier(class_weight='balanced', random_state=RANDOM_STATE)\n",
        "\n",
        "# посчитайте метрику FPR при кросс-валидации на 5 блоков\n",
        "fpr_cv = cross_val_score(model,X_train, y_train, scoring=fpr_score).mean()\n",
        "\n",
        "# выводим метрику\n",
        "print(fpr_cv)"
      ]
    },
    {
      "cell_type": "markdown",
      "id": "af181b11",
      "metadata": {
        "id": "af181b11"
      },
      "source": [
        "Метрика `FPR` при кросс-валидации получилась отрицательной — всё потому, что `make_scorer()` передали аргумент `greater_is_better=False`. Отрицательная метрика нам пригодится при автоматизированном подборе гиперпараметров.\n",
        "\n",
        "Обычно при переборе ищут максимальную метрику, но не в случае `FPR`.\n",
        "\n",
        "Маленькая хитрость: чтобы минимизировать метрику `FPR`, добавим перед ней минус. Тогда получится, что идеальная метрика равна 0, то есть модель даёт 0 ложноположительных ответов. Плохая — -1, когда модель дала столько ложноположительных ответов, сколько вообще возможно."
      ]
    },
    {
      "cell_type": "markdown",
      "id": "21a2e3d1",
      "metadata": {
        "id": "21a2e3d1"
      },
      "source": [
        "### Запуск GridSearchCV с мультискорингом"
      ]
    },
    {
      "cell_type": "markdown",
      "id": "7e914789",
      "metadata": {
        "id": "7e914789"
      },
      "source": [
        "Почти всё готово к тому, чтобы начать автоматизированный подбор гиперпараметров с несколькими метриками.\n",
        "\n",
        "Создадим словарь с метриками, в котором ключ — это название метрики, а значение — строка с названием метрики (если метрика есть в `sklearn`) или функция (если вы её написали самостоятельно):\n",
        "\n",
        "`scoring = {\n",
        "    'accuracy_score': 'accuracy',\n",
        "    'false_positive_rate': my_function\n",
        "} `\n",
        "\n",
        "Инициализируем класс `GridSearchCV` и передадим ему метрики из словаря `scoring`:\n",
        "\n",
        "`gs_multiscoring = GridSearchCV(\n",
        "    model,\n",
        "    parameters,\n",
        "    n_jobs=-1,\n",
        "    cv=5,\n",
        "    scoring=scoring\n",
        ") `\n",
        "\n",
        "Запускать поиск пока рано: если оставим всё как есть, получим ошибку `ValueError`. Чтобы решить проблему, используем параметр класса `refit` — он позволяет в конце обучить модель заново на лучших найденных гиперпараметрах.\n",
        "\n",
        "Есть два варианта:\n",
        "* Передать `GridSearchCV` аргумент `refit=False`. Тогда на выходе получим `cv_results_` со всеми показателями, но атрибуты `best_score_`, `best_params_`, `best_estimator_` будет недоступны.\n",
        "* Передать параметру `refit` интересующую нас метрику — одну из тех, что указали в словаре. На выходе получим `cv_results_` со всеми показателями. Атрибуты `best_score_`, `best_params_`, `best_estimator_` выдадут результаты для выбранной метрики."
      ]
    },
    {
      "cell_type": "markdown",
      "id": "58466279",
      "metadata": {
        "id": "58466279"
      },
      "source": [
        "Улучшите значение метрики `FPR` на данных о пассажирских перевозках.\n",
        "\n",
        "* Создайте словарь с метриками `ROC-AUC` и `FPR`.\n",
        "* Запустите автоматизированный поиск с мультискорингом. В конце обучите модель заново на метрике `FPR`.\n",
        "* Проверьте значение метрики `FPR` на тестовой выборке, используя лучшую модель из `GridSearchCV`."
      ]
    },
    {
      "cell_type": "code",
      "execution_count": null,
      "id": "aa780fd8",
      "metadata": {
        "id": "aa780fd8"
      },
      "outputs": [],
      "source": [
        "# инициализируем модель дерева решенийлох\n",
        "model = DecisionTreeClassifier(class_weight='balanced', random_state = RANDOM_STATE)\n"
      ]
    },
    {
      "cell_type": "code",
      "execution_count": null,
      "id": "ac631b6f",
      "metadata": {
        "id": "ac631b6f"
      },
      "outputs": [],
      "source": [
        "# создаём словарь с гиперпараметрами\n",
        "parameters = {\n",
        "    'min_samples_split': range(2,6),\n",
        "    'min_samples_leaf': range(1,6),\n",
        "    'max_depth':range(1,6)\n",
        "}\n"
      ]
    },
    {
      "cell_type": "code",
      "execution_count": null,
      "id": "c6a74b85",
      "metadata": {
        "id": "c6a74b85"
      },
      "outputs": [],
      "source": [
        "# Создайте словарь с двумя метриками:\n",
        "# - roc-auc с именем roc_auc_score;\n",
        "# - FPR с именем false_positive_rate.\n",
        "scoring = {\n",
        "    'roc_auc_score': 'roc_auc',\n",
        "    'false_positive_rate': fpr_score\n",
        "}\n"
      ]
    },
    {
      "cell_type": "code",
      "execution_count": null,
      "id": "626bc995",
      "metadata": {
        "id": "626bc995",
        "outputId": "059e2292-ea84-45d9-d346-fc3ef6f3f204",
        "colab": {
          "base_uri": "https://localhost:8080/",
          "height": 116
        }
      },
      "outputs": [
        {
          "output_type": "execute_result",
          "data": {
            "text/plain": [
              "GridSearchCV(estimator=DecisionTreeClassifier(class_weight='balanced',\n",
              "                                              random_state=12345),\n",
              "             param_grid={'max_depth': range(1, 6),\n",
              "                         'min_samples_leaf': range(1, 6),\n",
              "                         'min_samples_split': range(2, 6)},\n",
              "             refit='false_positive_rate',\n",
              "             scoring={'false_positive_rate': make_scorer(get_false_positive_rate, greater_is_better=False),\n",
              "                      'roc_auc_score': 'roc_auc'})"
            ],
            "text/html": [
              "<style>#sk-container-id-1 {color: black;background-color: white;}#sk-container-id-1 pre{padding: 0;}#sk-container-id-1 div.sk-toggleable {background-color: white;}#sk-container-id-1 label.sk-toggleable__label {cursor: pointer;display: block;width: 100%;margin-bottom: 0;padding: 0.3em;box-sizing: border-box;text-align: center;}#sk-container-id-1 label.sk-toggleable__label-arrow:before {content: \"▸\";float: left;margin-right: 0.25em;color: #696969;}#sk-container-id-1 label.sk-toggleable__label-arrow:hover:before {color: black;}#sk-container-id-1 div.sk-estimator:hover label.sk-toggleable__label-arrow:before {color: black;}#sk-container-id-1 div.sk-toggleable__content {max-height: 0;max-width: 0;overflow: hidden;text-align: left;background-color: #f0f8ff;}#sk-container-id-1 div.sk-toggleable__content pre {margin: 0.2em;color: black;border-radius: 0.25em;background-color: #f0f8ff;}#sk-container-id-1 input.sk-toggleable__control:checked~div.sk-toggleable__content {max-height: 200px;max-width: 100%;overflow: auto;}#sk-container-id-1 input.sk-toggleable__control:checked~label.sk-toggleable__label-arrow:before {content: \"▾\";}#sk-container-id-1 div.sk-estimator input.sk-toggleable__control:checked~label.sk-toggleable__label {background-color: #d4ebff;}#sk-container-id-1 div.sk-label input.sk-toggleable__control:checked~label.sk-toggleable__label {background-color: #d4ebff;}#sk-container-id-1 input.sk-hidden--visually {border: 0;clip: rect(1px 1px 1px 1px);clip: rect(1px, 1px, 1px, 1px);height: 1px;margin: -1px;overflow: hidden;padding: 0;position: absolute;width: 1px;}#sk-container-id-1 div.sk-estimator {font-family: monospace;background-color: #f0f8ff;border: 1px dotted black;border-radius: 0.25em;box-sizing: border-box;margin-bottom: 0.5em;}#sk-container-id-1 div.sk-estimator:hover {background-color: #d4ebff;}#sk-container-id-1 div.sk-parallel-item::after {content: \"\";width: 100%;border-bottom: 1px solid gray;flex-grow: 1;}#sk-container-id-1 div.sk-label:hover label.sk-toggleable__label {background-color: #d4ebff;}#sk-container-id-1 div.sk-serial::before {content: \"\";position: absolute;border-left: 1px solid gray;box-sizing: border-box;top: 0;bottom: 0;left: 50%;z-index: 0;}#sk-container-id-1 div.sk-serial {display: flex;flex-direction: column;align-items: center;background-color: white;padding-right: 0.2em;padding-left: 0.2em;position: relative;}#sk-container-id-1 div.sk-item {position: relative;z-index: 1;}#sk-container-id-1 div.sk-parallel {display: flex;align-items: stretch;justify-content: center;background-color: white;position: relative;}#sk-container-id-1 div.sk-item::before, #sk-container-id-1 div.sk-parallel-item::before {content: \"\";position: absolute;border-left: 1px solid gray;box-sizing: border-box;top: 0;bottom: 0;left: 50%;z-index: -1;}#sk-container-id-1 div.sk-parallel-item {display: flex;flex-direction: column;z-index: 1;position: relative;background-color: white;}#sk-container-id-1 div.sk-parallel-item:first-child::after {align-self: flex-end;width: 50%;}#sk-container-id-1 div.sk-parallel-item:last-child::after {align-self: flex-start;width: 50%;}#sk-container-id-1 div.sk-parallel-item:only-child::after {width: 0;}#sk-container-id-1 div.sk-dashed-wrapped {border: 1px dashed gray;margin: 0 0.4em 0.5em 0.4em;box-sizing: border-box;padding-bottom: 0.4em;background-color: white;}#sk-container-id-1 div.sk-label label {font-family: monospace;font-weight: bold;display: inline-block;line-height: 1.2em;}#sk-container-id-1 div.sk-label-container {text-align: center;}#sk-container-id-1 div.sk-container {/* jupyter's `normalize.less` sets `[hidden] { display: none; }` but bootstrap.min.css set `[hidden] { display: none !important; }` so we also need the `!important` here to be able to override the default hidden behavior on the sphinx rendered scikit-learn.org. See: https://github.com/scikit-learn/scikit-learn/issues/21755 */display: inline-block !important;position: relative;}#sk-container-id-1 div.sk-text-repr-fallback {display: none;}</style><div id=\"sk-container-id-1\" class=\"sk-top-container\"><div class=\"sk-text-repr-fallback\"><pre>GridSearchCV(estimator=DecisionTreeClassifier(class_weight=&#x27;balanced&#x27;,\n",
              "                                              random_state=12345),\n",
              "             param_grid={&#x27;max_depth&#x27;: range(1, 6),\n",
              "                         &#x27;min_samples_leaf&#x27;: range(1, 6),\n",
              "                         &#x27;min_samples_split&#x27;: range(2, 6)},\n",
              "             refit=&#x27;false_positive_rate&#x27;,\n",
              "             scoring={&#x27;false_positive_rate&#x27;: make_scorer(get_false_positive_rate, greater_is_better=False),\n",
              "                      &#x27;roc_auc_score&#x27;: &#x27;roc_auc&#x27;})</pre><b>In a Jupyter environment, please rerun this cell to show the HTML representation or trust the notebook. <br />On GitHub, the HTML representation is unable to render, please try loading this page with nbviewer.org.</b></div><div class=\"sk-container\" hidden><div class=\"sk-item sk-dashed-wrapped\"><div class=\"sk-label-container\"><div class=\"sk-label sk-toggleable\"><input class=\"sk-toggleable__control sk-hidden--visually\" id=\"sk-estimator-id-1\" type=\"checkbox\" ><label for=\"sk-estimator-id-1\" class=\"sk-toggleable__label sk-toggleable__label-arrow\">GridSearchCV</label><div class=\"sk-toggleable__content\"><pre>GridSearchCV(estimator=DecisionTreeClassifier(class_weight=&#x27;balanced&#x27;,\n",
              "                                              random_state=12345),\n",
              "             param_grid={&#x27;max_depth&#x27;: range(1, 6),\n",
              "                         &#x27;min_samples_leaf&#x27;: range(1, 6),\n",
              "                         &#x27;min_samples_split&#x27;: range(2, 6)},\n",
              "             refit=&#x27;false_positive_rate&#x27;,\n",
              "             scoring={&#x27;false_positive_rate&#x27;: make_scorer(get_false_positive_rate, greater_is_better=False),\n",
              "                      &#x27;roc_auc_score&#x27;: &#x27;roc_auc&#x27;})</pre></div></div></div><div class=\"sk-parallel\"><div class=\"sk-parallel-item\"><div class=\"sk-item\"><div class=\"sk-label-container\"><div class=\"sk-label sk-toggleable\"><input class=\"sk-toggleable__control sk-hidden--visually\" id=\"sk-estimator-id-2\" type=\"checkbox\" ><label for=\"sk-estimator-id-2\" class=\"sk-toggleable__label sk-toggleable__label-arrow\">estimator: DecisionTreeClassifier</label><div class=\"sk-toggleable__content\"><pre>DecisionTreeClassifier(class_weight=&#x27;balanced&#x27;, random_state=12345)</pre></div></div></div><div class=\"sk-serial\"><div class=\"sk-item\"><div class=\"sk-estimator sk-toggleable\"><input class=\"sk-toggleable__control sk-hidden--visually\" id=\"sk-estimator-id-3\" type=\"checkbox\" ><label for=\"sk-estimator-id-3\" class=\"sk-toggleable__label sk-toggleable__label-arrow\">DecisionTreeClassifier</label><div class=\"sk-toggleable__content\"><pre>DecisionTreeClassifier(class_weight=&#x27;balanced&#x27;, random_state=12345)</pre></div></div></div></div></div></div></div></div></div></div>"
            ]
          },
          "metadata": {},
          "execution_count": 27
        }
      ],
      "source": [
        "# Инициализируйте класс для автоматизированного поиска:\n",
        "# значение кросс-валидации 5, метрики из словаря,\n",
        "# в конце обучить на метрике FPR.\n",
        "gs_multiscoring = GridSearchCV(model, parameters, scoring = scoring, refit = 'false_positive_rate'\n",
        "\n",
        ")\n",
        "\n",
        "# запускаем поиск гиперпараметров с мультискорингом\n",
        "gs_multiscoring.fit(X_train, y_train)"
      ]
    },
    {
      "cell_type": "code",
      "execution_count": null,
      "id": "3f957876",
      "metadata": {
        "id": "3f957876",
        "outputId": "1c92dd73-423d-494d-e2a4-71b626c1aeac",
        "colab": {
          "base_uri": "https://localhost:8080/"
        }
      },
      "outputs": [
        {
          "output_type": "execute_result",
          "data": {
            "text/plain": [
              "0.1276595744680851"
            ]
          },
          "metadata": {},
          "execution_count": 28
        }
      ],
      "source": [
        "# получите предсказания на тестовых данных с помощью лучшей модели\n",
        "y_pred = gs_multiscoring.predict(X_test)\n",
        "\n",
        "# считаем метрику FPR на тестовых данных\n",
        "get_false_positive_rate(y_test, y_pred)"
      ]
    },
    {
      "cell_type": "markdown",
      "id": "1222f9fd",
      "metadata": {
        "id": "1222f9fd"
      },
      "source": [
        "Метрика `FPR` на тестовых данных была 0.20, а сейчас — 0.17. Теперь модель находит больше недовольных пассажиров."
      ]
    },
    {
      "cell_type": "markdown",
      "id": "b550e688",
      "metadata": {
        "id": "b550e688"
      },
      "source": [
        "Напомним, что атрибут `cv_results_` хранит много полезной информации. Например, значения метрик `ROC-AUC` и `FPR` при кросс-валидации.\n",
        "\n",
        "Обернём словарь, который выдаёт атрибут, в датафрейм и умножим столбец с метриками `FPR` на -1, чтобы получить положительные значения:\n"
      ]
    },
    {
      "cell_type": "code",
      "execution_count": null,
      "id": "d3492a1b",
      "metadata": {
        "id": "d3492a1b"
      },
      "outputs": [],
      "source": [
        "gs_multiscoring_results = pd.DataFrame(\n",
        "    gs_multiscoring.cv_results_\n",
        ")\n",
        "\n",
        "gs_multiscoring_results[\n",
        "    'mean_test_false_positive_rate'\n",
        "] = gs_multiscoring_results['mean_test_false_positive_rate'] * -1"
      ]
    },
    {
      "cell_type": "markdown",
      "id": "eca223e6",
      "metadata": {
        "id": "eca223e6"
      },
      "source": [
        "Отсортируем таблицу по значению `rank_test_roc_auc_score`, чтобы сначала увидеть лучшие значения метрики. Строки с одинаковыми значениями `ROC-AUC` дополнительно отсортируем по `rank_test_false_positive_rate`:"
      ]
    },
    {
      "cell_type": "code",
      "execution_count": null,
      "id": "4421c83e",
      "metadata": {
        "id": "4421c83e",
        "outputId": "06670823-d604-4462-d4ae-723a1667f235",
        "colab": {
          "base_uri": "https://localhost:8080/",
          "height": 362
        }
      },
      "outputs": [
        {
          "output_type": "execute_result",
          "data": {
            "text/plain": [
              "                                                             params  \\\n",
              "60  {'max_depth': 4, 'min_samples_leaf': 1, 'min_samples_split': 2}   \n",
              "61  {'max_depth': 4, 'min_samples_leaf': 1, 'min_samples_split': 3}   \n",
              "62  {'max_depth': 4, 'min_samples_leaf': 1, 'min_samples_split': 4}   \n",
              "63  {'max_depth': 4, 'min_samples_leaf': 1, 'min_samples_split': 5}   \n",
              "64  {'max_depth': 4, 'min_samples_leaf': 2, 'min_samples_split': 2}   \n",
              "65  {'max_depth': 4, 'min_samples_leaf': 2, 'min_samples_split': 3}   \n",
              "66  {'max_depth': 4, 'min_samples_leaf': 2, 'min_samples_split': 4}   \n",
              "67  {'max_depth': 4, 'min_samples_leaf': 2, 'min_samples_split': 5}   \n",
              "68  {'max_depth': 4, 'min_samples_leaf': 3, 'min_samples_split': 2}   \n",
              "69  {'max_depth': 4, 'min_samples_leaf': 3, 'min_samples_split': 3}   \n",
              "\n",
              "    mean_test_roc_auc_score  rank_test_roc_auc_score  \\\n",
              "60                 0.894746                        1   \n",
              "61                 0.894746                        1   \n",
              "62                 0.894746                        1   \n",
              "63                 0.894746                        1   \n",
              "64                 0.894746                        1   \n",
              "65                 0.894746                        1   \n",
              "66                 0.894746                        1   \n",
              "67                 0.894746                        1   \n",
              "68                 0.894746                        1   \n",
              "69                 0.894746                        1   \n",
              "\n",
              "    mean_test_false_positive_rate  rank_test_false_positive_rate  \n",
              "60                       0.134934                             25  \n",
              "61                       0.134934                             25  \n",
              "62                       0.134934                             25  \n",
              "63                       0.134934                             25  \n",
              "64                       0.134934                             25  \n",
              "65                       0.134934                             25  \n",
              "66                       0.134934                             25  \n",
              "67                       0.134934                             25  \n",
              "68                       0.134934                             25  \n",
              "69                       0.134934                             25  "
            ],
            "text/html": [
              "\n",
              "  <div id=\"df-537581f3-05a5-41e8-8a34-35794b09b4d7\" class=\"colab-df-container\">\n",
              "    <div>\n",
              "<style scoped>\n",
              "    .dataframe tbody tr th:only-of-type {\n",
              "        vertical-align: middle;\n",
              "    }\n",
              "\n",
              "    .dataframe tbody tr th {\n",
              "        vertical-align: top;\n",
              "    }\n",
              "\n",
              "    .dataframe thead th {\n",
              "        text-align: right;\n",
              "    }\n",
              "</style>\n",
              "<table border=\"1\" class=\"dataframe\">\n",
              "  <thead>\n",
              "    <tr style=\"text-align: right;\">\n",
              "      <th></th>\n",
              "      <th>params</th>\n",
              "      <th>mean_test_roc_auc_score</th>\n",
              "      <th>rank_test_roc_auc_score</th>\n",
              "      <th>mean_test_false_positive_rate</th>\n",
              "      <th>rank_test_false_positive_rate</th>\n",
              "    </tr>\n",
              "  </thead>\n",
              "  <tbody>\n",
              "    <tr>\n",
              "      <th>60</th>\n",
              "      <td>{'max_depth': 4, 'min_samples_leaf': 1, 'min_samples_split': 2}</td>\n",
              "      <td>0.894746</td>\n",
              "      <td>1</td>\n",
              "      <td>0.134934</td>\n",
              "      <td>25</td>\n",
              "    </tr>\n",
              "    <tr>\n",
              "      <th>61</th>\n",
              "      <td>{'max_depth': 4, 'min_samples_leaf': 1, 'min_samples_split': 3}</td>\n",
              "      <td>0.894746</td>\n",
              "      <td>1</td>\n",
              "      <td>0.134934</td>\n",
              "      <td>25</td>\n",
              "    </tr>\n",
              "    <tr>\n",
              "      <th>62</th>\n",
              "      <td>{'max_depth': 4, 'min_samples_leaf': 1, 'min_samples_split': 4}</td>\n",
              "      <td>0.894746</td>\n",
              "      <td>1</td>\n",
              "      <td>0.134934</td>\n",
              "      <td>25</td>\n",
              "    </tr>\n",
              "    <tr>\n",
              "      <th>63</th>\n",
              "      <td>{'max_depth': 4, 'min_samples_leaf': 1, 'min_samples_split': 5}</td>\n",
              "      <td>0.894746</td>\n",
              "      <td>1</td>\n",
              "      <td>0.134934</td>\n",
              "      <td>25</td>\n",
              "    </tr>\n",
              "    <tr>\n",
              "      <th>64</th>\n",
              "      <td>{'max_depth': 4, 'min_samples_leaf': 2, 'min_samples_split': 2}</td>\n",
              "      <td>0.894746</td>\n",
              "      <td>1</td>\n",
              "      <td>0.134934</td>\n",
              "      <td>25</td>\n",
              "    </tr>\n",
              "    <tr>\n",
              "      <th>65</th>\n",
              "      <td>{'max_depth': 4, 'min_samples_leaf': 2, 'min_samples_split': 3}</td>\n",
              "      <td>0.894746</td>\n",
              "      <td>1</td>\n",
              "      <td>0.134934</td>\n",
              "      <td>25</td>\n",
              "    </tr>\n",
              "    <tr>\n",
              "      <th>66</th>\n",
              "      <td>{'max_depth': 4, 'min_samples_leaf': 2, 'min_samples_split': 4}</td>\n",
              "      <td>0.894746</td>\n",
              "      <td>1</td>\n",
              "      <td>0.134934</td>\n",
              "      <td>25</td>\n",
              "    </tr>\n",
              "    <tr>\n",
              "      <th>67</th>\n",
              "      <td>{'max_depth': 4, 'min_samples_leaf': 2, 'min_samples_split': 5}</td>\n",
              "      <td>0.894746</td>\n",
              "      <td>1</td>\n",
              "      <td>0.134934</td>\n",
              "      <td>25</td>\n",
              "    </tr>\n",
              "    <tr>\n",
              "      <th>68</th>\n",
              "      <td>{'max_depth': 4, 'min_samples_leaf': 3, 'min_samples_split': 2}</td>\n",
              "      <td>0.894746</td>\n",
              "      <td>1</td>\n",
              "      <td>0.134934</td>\n",
              "      <td>25</td>\n",
              "    </tr>\n",
              "    <tr>\n",
              "      <th>69</th>\n",
              "      <td>{'max_depth': 4, 'min_samples_leaf': 3, 'min_samples_split': 3}</td>\n",
              "      <td>0.894746</td>\n",
              "      <td>1</td>\n",
              "      <td>0.134934</td>\n",
              "      <td>25</td>\n",
              "    </tr>\n",
              "  </tbody>\n",
              "</table>\n",
              "</div>\n",
              "    <div class=\"colab-df-buttons\">\n",
              "\n",
              "  <div class=\"colab-df-container\">\n",
              "    <button class=\"colab-df-convert\" onclick=\"convertToInteractive('df-537581f3-05a5-41e8-8a34-35794b09b4d7')\"\n",
              "            title=\"Convert this dataframe to an interactive table.\"\n",
              "            style=\"display:none;\">\n",
              "\n",
              "  <svg xmlns=\"http://www.w3.org/2000/svg\" height=\"24px\" viewBox=\"0 -960 960 960\">\n",
              "    <path d=\"M120-120v-720h720v720H120Zm60-500h600v-160H180v160Zm220 220h160v-160H400v160Zm0 220h160v-160H400v160ZM180-400h160v-160H180v160Zm440 0h160v-160H620v160ZM180-180h160v-160H180v160Zm440 0h160v-160H620v160Z\"/>\n",
              "  </svg>\n",
              "    </button>\n",
              "\n",
              "  <style>\n",
              "    .colab-df-container {\n",
              "      display:flex;\n",
              "      gap: 12px;\n",
              "    }\n",
              "\n",
              "    .colab-df-convert {\n",
              "      background-color: #E8F0FE;\n",
              "      border: none;\n",
              "      border-radius: 50%;\n",
              "      cursor: pointer;\n",
              "      display: none;\n",
              "      fill: #1967D2;\n",
              "      height: 32px;\n",
              "      padding: 0 0 0 0;\n",
              "      width: 32px;\n",
              "    }\n",
              "\n",
              "    .colab-df-convert:hover {\n",
              "      background-color: #E2EBFA;\n",
              "      box-shadow: 0px 1px 2px rgba(60, 64, 67, 0.3), 0px 1px 3px 1px rgba(60, 64, 67, 0.15);\n",
              "      fill: #174EA6;\n",
              "    }\n",
              "\n",
              "    .colab-df-buttons div {\n",
              "      margin-bottom: 4px;\n",
              "    }\n",
              "\n",
              "    [theme=dark] .colab-df-convert {\n",
              "      background-color: #3B4455;\n",
              "      fill: #D2E3FC;\n",
              "    }\n",
              "\n",
              "    [theme=dark] .colab-df-convert:hover {\n",
              "      background-color: #434B5C;\n",
              "      box-shadow: 0px 1px 3px 1px rgba(0, 0, 0, 0.15);\n",
              "      filter: drop-shadow(0px 1px 2px rgba(0, 0, 0, 0.3));\n",
              "      fill: #FFFFFF;\n",
              "    }\n",
              "  </style>\n",
              "\n",
              "    <script>\n",
              "      const buttonEl =\n",
              "        document.querySelector('#df-537581f3-05a5-41e8-8a34-35794b09b4d7 button.colab-df-convert');\n",
              "      buttonEl.style.display =\n",
              "        google.colab.kernel.accessAllowed ? 'block' : 'none';\n",
              "\n",
              "      async function convertToInteractive(key) {\n",
              "        const element = document.querySelector('#df-537581f3-05a5-41e8-8a34-35794b09b4d7');\n",
              "        const dataTable =\n",
              "          await google.colab.kernel.invokeFunction('convertToInteractive',\n",
              "                                                    [key], {});\n",
              "        if (!dataTable) return;\n",
              "\n",
              "        const docLinkHtml = 'Like what you see? Visit the ' +\n",
              "          '<a target=\"_blank\" href=https://colab.research.google.com/notebooks/data_table.ipynb>data table notebook</a>'\n",
              "          + ' to learn more about interactive tables.';\n",
              "        element.innerHTML = '';\n",
              "        dataTable['output_type'] = 'display_data';\n",
              "        await google.colab.output.renderOutput(dataTable, element);\n",
              "        const docLink = document.createElement('div');\n",
              "        docLink.innerHTML = docLinkHtml;\n",
              "        element.appendChild(docLink);\n",
              "      }\n",
              "    </script>\n",
              "  </div>\n",
              "\n",
              "\n",
              "<div id=\"df-f0ffd766-d4a2-4166-8be1-bea65dcd447f\">\n",
              "  <button class=\"colab-df-quickchart\" onclick=\"quickchart('df-f0ffd766-d4a2-4166-8be1-bea65dcd447f')\"\n",
              "            title=\"Suggest charts\"\n",
              "            style=\"display:none;\">\n",
              "\n",
              "<svg xmlns=\"http://www.w3.org/2000/svg\" height=\"24px\"viewBox=\"0 0 24 24\"\n",
              "     width=\"24px\">\n",
              "    <g>\n",
              "        <path d=\"M19 3H5c-1.1 0-2 .9-2 2v14c0 1.1.9 2 2 2h14c1.1 0 2-.9 2-2V5c0-1.1-.9-2-2-2zM9 17H7v-7h2v7zm4 0h-2V7h2v10zm4 0h-2v-4h2v4z\"/>\n",
              "    </g>\n",
              "</svg>\n",
              "  </button>\n",
              "\n",
              "<style>\n",
              "  .colab-df-quickchart {\n",
              "      --bg-color: #E8F0FE;\n",
              "      --fill-color: #1967D2;\n",
              "      --hover-bg-color: #E2EBFA;\n",
              "      --hover-fill-color: #174EA6;\n",
              "      --disabled-fill-color: #AAA;\n",
              "      --disabled-bg-color: #DDD;\n",
              "  }\n",
              "\n",
              "  [theme=dark] .colab-df-quickchart {\n",
              "      --bg-color: #3B4455;\n",
              "      --fill-color: #D2E3FC;\n",
              "      --hover-bg-color: #434B5C;\n",
              "      --hover-fill-color: #FFFFFF;\n",
              "      --disabled-bg-color: #3B4455;\n",
              "      --disabled-fill-color: #666;\n",
              "  }\n",
              "\n",
              "  .colab-df-quickchart {\n",
              "    background-color: var(--bg-color);\n",
              "    border: none;\n",
              "    border-radius: 50%;\n",
              "    cursor: pointer;\n",
              "    display: none;\n",
              "    fill: var(--fill-color);\n",
              "    height: 32px;\n",
              "    padding: 0;\n",
              "    width: 32px;\n",
              "  }\n",
              "\n",
              "  .colab-df-quickchart:hover {\n",
              "    background-color: var(--hover-bg-color);\n",
              "    box-shadow: 0 1px 2px rgba(60, 64, 67, 0.3), 0 1px 3px 1px rgba(60, 64, 67, 0.15);\n",
              "    fill: var(--button-hover-fill-color);\n",
              "  }\n",
              "\n",
              "  .colab-df-quickchart-complete:disabled,\n",
              "  .colab-df-quickchart-complete:disabled:hover {\n",
              "    background-color: var(--disabled-bg-color);\n",
              "    fill: var(--disabled-fill-color);\n",
              "    box-shadow: none;\n",
              "  }\n",
              "\n",
              "  .colab-df-spinner {\n",
              "    border: 2px solid var(--fill-color);\n",
              "    border-color: transparent;\n",
              "    border-bottom-color: var(--fill-color);\n",
              "    animation:\n",
              "      spin 1s steps(1) infinite;\n",
              "  }\n",
              "\n",
              "  @keyframes spin {\n",
              "    0% {\n",
              "      border-color: transparent;\n",
              "      border-bottom-color: var(--fill-color);\n",
              "      border-left-color: var(--fill-color);\n",
              "    }\n",
              "    20% {\n",
              "      border-color: transparent;\n",
              "      border-left-color: var(--fill-color);\n",
              "      border-top-color: var(--fill-color);\n",
              "    }\n",
              "    30% {\n",
              "      border-color: transparent;\n",
              "      border-left-color: var(--fill-color);\n",
              "      border-top-color: var(--fill-color);\n",
              "      border-right-color: var(--fill-color);\n",
              "    }\n",
              "    40% {\n",
              "      border-color: transparent;\n",
              "      border-right-color: var(--fill-color);\n",
              "      border-top-color: var(--fill-color);\n",
              "    }\n",
              "    60% {\n",
              "      border-color: transparent;\n",
              "      border-right-color: var(--fill-color);\n",
              "    }\n",
              "    80% {\n",
              "      border-color: transparent;\n",
              "      border-right-color: var(--fill-color);\n",
              "      border-bottom-color: var(--fill-color);\n",
              "    }\n",
              "    90% {\n",
              "      border-color: transparent;\n",
              "      border-bottom-color: var(--fill-color);\n",
              "    }\n",
              "  }\n",
              "</style>\n",
              "\n",
              "  <script>\n",
              "    async function quickchart(key) {\n",
              "      const quickchartButtonEl =\n",
              "        document.querySelector('#' + key + ' button');\n",
              "      quickchartButtonEl.disabled = true;  // To prevent multiple clicks.\n",
              "      quickchartButtonEl.classList.add('colab-df-spinner');\n",
              "      try {\n",
              "        const charts = await google.colab.kernel.invokeFunction(\n",
              "            'suggestCharts', [key], {});\n",
              "      } catch (error) {\n",
              "        console.error('Error during call to suggestCharts:', error);\n",
              "      }\n",
              "      quickchartButtonEl.classList.remove('colab-df-spinner');\n",
              "      quickchartButtonEl.classList.add('colab-df-quickchart-complete');\n",
              "    }\n",
              "    (() => {\n",
              "      let quickchartButtonEl =\n",
              "        document.querySelector('#df-f0ffd766-d4a2-4166-8be1-bea65dcd447f button');\n",
              "      quickchartButtonEl.style.display =\n",
              "        google.colab.kernel.accessAllowed ? 'block' : 'none';\n",
              "    })();\n",
              "  </script>\n",
              "</div>\n",
              "    </div>\n",
              "  </div>\n"
            ],
            "application/vnd.google.colaboratory.intrinsic+json": {
              "type": "dataframe",
              "summary": "{\n  \"name\": \"]]\",\n  \"rows\": 10,\n  \"fields\": [\n    {\n      \"column\": \"params\",\n      \"properties\": {\n        \"dtype\": \"object\",\n        \"semantic_type\": \"\",\n        \"description\": \"\"\n      }\n    },\n    {\n      \"column\": \"mean_test_roc_auc_score\",\n      \"properties\": {\n        \"dtype\": \"number\",\n        \"std\": 0.0,\n        \"min\": 0.8947455152331315,\n        \"max\": 0.8947455152331315,\n        \"num_unique_values\": 1,\n        \"samples\": [\n          0.8947455152331315\n        ],\n        \"semantic_type\": \"\",\n        \"description\": \"\"\n      }\n    },\n    {\n      \"column\": \"rank_test_roc_auc_score\",\n      \"properties\": {\n        \"dtype\": \"int32\",\n        \"num_unique_values\": 1,\n        \"samples\": [\n          1\n        ],\n        \"semantic_type\": \"\",\n        \"description\": \"\"\n      }\n    },\n    {\n      \"column\": \"mean_test_false_positive_rate\",\n      \"properties\": {\n        \"dtype\": \"number\",\n        \"std\": 0.0,\n        \"min\": 0.13493414387031405,\n        \"max\": 0.13493414387031405,\n        \"num_unique_values\": 1,\n        \"samples\": [\n          0.13493414387031405\n        ],\n        \"semantic_type\": \"\",\n        \"description\": \"\"\n      }\n    },\n    {\n      \"column\": \"rank_test_false_positive_rate\",\n      \"properties\": {\n        \"dtype\": \"int32\",\n        \"num_unique_values\": 1,\n        \"samples\": [\n          25\n        ],\n        \"semantic_type\": \"\",\n        \"description\": \"\"\n      }\n    }\n  ]\n}"
            }
          },
          "metadata": {},
          "execution_count": 30
        }
      ],
      "source": [
        "gs_multiscoring_results_roc_auc = gs_multiscoring_results.sort_values(\n",
        "    by=['rank_test_roc_auc_score', 'rank_test_false_positive_rate']\n",
        ")\n",
        "\n",
        "# Выведем часть таблицы:\n",
        "gs_multiscoring_results_roc_auc[[\n",
        "    'params',\n",
        "    'mean_test_roc_auc_score',\n",
        "    'rank_test_roc_auc_score',\n",
        "    'mean_test_false_positive_rate',\n",
        "    'rank_test_false_positive_rate'\n",
        "]].head(10)"
      ]
    },
    {
      "cell_type": "markdown",
      "id": "ee2ad805",
      "metadata": {
        "id": "ee2ad805"
      },
      "source": [
        "При самой высокой метрике `ROC-AUC` лучшими гиперпараметрами оказались {'max_depth': 4, 'min_samples_leaf': 1, 'min_samples_split': 2}.\n",
        "\n",
        "FPR 0.134934 — это много (напомним: чем больше — тем хуже). Это значение меньше того, что вы получили до подбора гиперпараметров. Поэтому попробуйте отсортировать данные по-другому."
      ]
    },
    {
      "cell_type": "code",
      "execution_count": null,
      "id": "344d48fa",
      "metadata": {
        "id": "344d48fa",
        "outputId": "1df73080-673d-4a40-cc4d-eb06ef42306d",
        "colab": {
          "base_uri": "https://localhost:8080/",
          "height": 362
        }
      },
      "outputs": [
        {
          "output_type": "execute_result",
          "data": {
            "text/plain": [
              "                                                            params  \\\n",
              "0  {'max_depth': 1, 'min_samples_leaf': 1, 'min_samples_split': 2}   \n",
              "1  {'max_depth': 1, 'min_samples_leaf': 1, 'min_samples_split': 3}   \n",
              "2  {'max_depth': 1, 'min_samples_leaf': 1, 'min_samples_split': 4}   \n",
              "3  {'max_depth': 1, 'min_samples_leaf': 1, 'min_samples_split': 5}   \n",
              "4  {'max_depth': 1, 'min_samples_leaf': 2, 'min_samples_split': 2}   \n",
              "5  {'max_depth': 1, 'min_samples_leaf': 2, 'min_samples_split': 3}   \n",
              "6  {'max_depth': 1, 'min_samples_leaf': 2, 'min_samples_split': 4}   \n",
              "7  {'max_depth': 1, 'min_samples_leaf': 2, 'min_samples_split': 5}   \n",
              "8  {'max_depth': 1, 'min_samples_leaf': 3, 'min_samples_split': 2}   \n",
              "9  {'max_depth': 1, 'min_samples_leaf': 3, 'min_samples_split': 3}   \n",
              "\n",
              "   mean_test_roc_auc_score  rank_test_roc_auc_score  \\\n",
              "0                 0.815871                       81   \n",
              "1                 0.815871                       81   \n",
              "2                 0.815871                       81   \n",
              "3                 0.815871                       81   \n",
              "4                 0.815871                       81   \n",
              "5                 0.815871                       81   \n",
              "6                 0.815871                       81   \n",
              "7                 0.815871                       81   \n",
              "8                 0.815871                       81   \n",
              "9                 0.815871                       81   \n",
              "\n",
              "   mean_test_false_positive_rate  rank_test_false_positive_rate  \n",
              "0                       0.109352                              1  \n",
              "1                       0.109352                              1  \n",
              "2                       0.109352                              1  \n",
              "3                       0.109352                              1  \n",
              "4                       0.109352                              1  \n",
              "5                       0.109352                              1  \n",
              "6                       0.109352                              1  \n",
              "7                       0.109352                              1  \n",
              "8                       0.109352                              1  \n",
              "9                       0.109352                              1  "
            ],
            "text/html": [
              "\n",
              "  <div id=\"df-ccdb8e6a-5e12-4ad3-ae23-93b9fd305ceb\" class=\"colab-df-container\">\n",
              "    <div>\n",
              "<style scoped>\n",
              "    .dataframe tbody tr th:only-of-type {\n",
              "        vertical-align: middle;\n",
              "    }\n",
              "\n",
              "    .dataframe tbody tr th {\n",
              "        vertical-align: top;\n",
              "    }\n",
              "\n",
              "    .dataframe thead th {\n",
              "        text-align: right;\n",
              "    }\n",
              "</style>\n",
              "<table border=\"1\" class=\"dataframe\">\n",
              "  <thead>\n",
              "    <tr style=\"text-align: right;\">\n",
              "      <th></th>\n",
              "      <th>params</th>\n",
              "      <th>mean_test_roc_auc_score</th>\n",
              "      <th>rank_test_roc_auc_score</th>\n",
              "      <th>mean_test_false_positive_rate</th>\n",
              "      <th>rank_test_false_positive_rate</th>\n",
              "    </tr>\n",
              "  </thead>\n",
              "  <tbody>\n",
              "    <tr>\n",
              "      <th>0</th>\n",
              "      <td>{'max_depth': 1, 'min_samples_leaf': 1, 'min_samples_split': 2}</td>\n",
              "      <td>0.815871</td>\n",
              "      <td>81</td>\n",
              "      <td>0.109352</td>\n",
              "      <td>1</td>\n",
              "    </tr>\n",
              "    <tr>\n",
              "      <th>1</th>\n",
              "      <td>{'max_depth': 1, 'min_samples_leaf': 1, 'min_samples_split': 3}</td>\n",
              "      <td>0.815871</td>\n",
              "      <td>81</td>\n",
              "      <td>0.109352</td>\n",
              "      <td>1</td>\n",
              "    </tr>\n",
              "    <tr>\n",
              "      <th>2</th>\n",
              "      <td>{'max_depth': 1, 'min_samples_leaf': 1, 'min_samples_split': 4}</td>\n",
              "      <td>0.815871</td>\n",
              "      <td>81</td>\n",
              "      <td>0.109352</td>\n",
              "      <td>1</td>\n",
              "    </tr>\n",
              "    <tr>\n",
              "      <th>3</th>\n",
              "      <td>{'max_depth': 1, 'min_samples_leaf': 1, 'min_samples_split': 5}</td>\n",
              "      <td>0.815871</td>\n",
              "      <td>81</td>\n",
              "      <td>0.109352</td>\n",
              "      <td>1</td>\n",
              "    </tr>\n",
              "    <tr>\n",
              "      <th>4</th>\n",
              "      <td>{'max_depth': 1, 'min_samples_leaf': 2, 'min_samples_split': 2}</td>\n",
              "      <td>0.815871</td>\n",
              "      <td>81</td>\n",
              "      <td>0.109352</td>\n",
              "      <td>1</td>\n",
              "    </tr>\n",
              "    <tr>\n",
              "      <th>5</th>\n",
              "      <td>{'max_depth': 1, 'min_samples_leaf': 2, 'min_samples_split': 3}</td>\n",
              "      <td>0.815871</td>\n",
              "      <td>81</td>\n",
              "      <td>0.109352</td>\n",
              "      <td>1</td>\n",
              "    </tr>\n",
              "    <tr>\n",
              "      <th>6</th>\n",
              "      <td>{'max_depth': 1, 'min_samples_leaf': 2, 'min_samples_split': 4}</td>\n",
              "      <td>0.815871</td>\n",
              "      <td>81</td>\n",
              "      <td>0.109352</td>\n",
              "      <td>1</td>\n",
              "    </tr>\n",
              "    <tr>\n",
              "      <th>7</th>\n",
              "      <td>{'max_depth': 1, 'min_samples_leaf': 2, 'min_samples_split': 5}</td>\n",
              "      <td>0.815871</td>\n",
              "      <td>81</td>\n",
              "      <td>0.109352</td>\n",
              "      <td>1</td>\n",
              "    </tr>\n",
              "    <tr>\n",
              "      <th>8</th>\n",
              "      <td>{'max_depth': 1, 'min_samples_leaf': 3, 'min_samples_split': 2}</td>\n",
              "      <td>0.815871</td>\n",
              "      <td>81</td>\n",
              "      <td>0.109352</td>\n",
              "      <td>1</td>\n",
              "    </tr>\n",
              "    <tr>\n",
              "      <th>9</th>\n",
              "      <td>{'max_depth': 1, 'min_samples_leaf': 3, 'min_samples_split': 3}</td>\n",
              "      <td>0.815871</td>\n",
              "      <td>81</td>\n",
              "      <td>0.109352</td>\n",
              "      <td>1</td>\n",
              "    </tr>\n",
              "  </tbody>\n",
              "</table>\n",
              "</div>\n",
              "    <div class=\"colab-df-buttons\">\n",
              "\n",
              "  <div class=\"colab-df-container\">\n",
              "    <button class=\"colab-df-convert\" onclick=\"convertToInteractive('df-ccdb8e6a-5e12-4ad3-ae23-93b9fd305ceb')\"\n",
              "            title=\"Convert this dataframe to an interactive table.\"\n",
              "            style=\"display:none;\">\n",
              "\n",
              "  <svg xmlns=\"http://www.w3.org/2000/svg\" height=\"24px\" viewBox=\"0 -960 960 960\">\n",
              "    <path d=\"M120-120v-720h720v720H120Zm60-500h600v-160H180v160Zm220 220h160v-160H400v160Zm0 220h160v-160H400v160ZM180-400h160v-160H180v160Zm440 0h160v-160H620v160ZM180-180h160v-160H180v160Zm440 0h160v-160H620v160Z\"/>\n",
              "  </svg>\n",
              "    </button>\n",
              "\n",
              "  <style>\n",
              "    .colab-df-container {\n",
              "      display:flex;\n",
              "      gap: 12px;\n",
              "    }\n",
              "\n",
              "    .colab-df-convert {\n",
              "      background-color: #E8F0FE;\n",
              "      border: none;\n",
              "      border-radius: 50%;\n",
              "      cursor: pointer;\n",
              "      display: none;\n",
              "      fill: #1967D2;\n",
              "      height: 32px;\n",
              "      padding: 0 0 0 0;\n",
              "      width: 32px;\n",
              "    }\n",
              "\n",
              "    .colab-df-convert:hover {\n",
              "      background-color: #E2EBFA;\n",
              "      box-shadow: 0px 1px 2px rgba(60, 64, 67, 0.3), 0px 1px 3px 1px rgba(60, 64, 67, 0.15);\n",
              "      fill: #174EA6;\n",
              "    }\n",
              "\n",
              "    .colab-df-buttons div {\n",
              "      margin-bottom: 4px;\n",
              "    }\n",
              "\n",
              "    [theme=dark] .colab-df-convert {\n",
              "      background-color: #3B4455;\n",
              "      fill: #D2E3FC;\n",
              "    }\n",
              "\n",
              "    [theme=dark] .colab-df-convert:hover {\n",
              "      background-color: #434B5C;\n",
              "      box-shadow: 0px 1px 3px 1px rgba(0, 0, 0, 0.15);\n",
              "      filter: drop-shadow(0px 1px 2px rgba(0, 0, 0, 0.3));\n",
              "      fill: #FFFFFF;\n",
              "    }\n",
              "  </style>\n",
              "\n",
              "    <script>\n",
              "      const buttonEl =\n",
              "        document.querySelector('#df-ccdb8e6a-5e12-4ad3-ae23-93b9fd305ceb button.colab-df-convert');\n",
              "      buttonEl.style.display =\n",
              "        google.colab.kernel.accessAllowed ? 'block' : 'none';\n",
              "\n",
              "      async function convertToInteractive(key) {\n",
              "        const element = document.querySelector('#df-ccdb8e6a-5e12-4ad3-ae23-93b9fd305ceb');\n",
              "        const dataTable =\n",
              "          await google.colab.kernel.invokeFunction('convertToInteractive',\n",
              "                                                    [key], {});\n",
              "        if (!dataTable) return;\n",
              "\n",
              "        const docLinkHtml = 'Like what you see? Visit the ' +\n",
              "          '<a target=\"_blank\" href=https://colab.research.google.com/notebooks/data_table.ipynb>data table notebook</a>'\n",
              "          + ' to learn more about interactive tables.';\n",
              "        element.innerHTML = '';\n",
              "        dataTable['output_type'] = 'display_data';\n",
              "        await google.colab.output.renderOutput(dataTable, element);\n",
              "        const docLink = document.createElement('div');\n",
              "        docLink.innerHTML = docLinkHtml;\n",
              "        element.appendChild(docLink);\n",
              "      }\n",
              "    </script>\n",
              "  </div>\n",
              "\n",
              "\n",
              "<div id=\"df-1907b52a-62e5-4169-abfb-9161f7991831\">\n",
              "  <button class=\"colab-df-quickchart\" onclick=\"quickchart('df-1907b52a-62e5-4169-abfb-9161f7991831')\"\n",
              "            title=\"Suggest charts\"\n",
              "            style=\"display:none;\">\n",
              "\n",
              "<svg xmlns=\"http://www.w3.org/2000/svg\" height=\"24px\"viewBox=\"0 0 24 24\"\n",
              "     width=\"24px\">\n",
              "    <g>\n",
              "        <path d=\"M19 3H5c-1.1 0-2 .9-2 2v14c0 1.1.9 2 2 2h14c1.1 0 2-.9 2-2V5c0-1.1-.9-2-2-2zM9 17H7v-7h2v7zm4 0h-2V7h2v10zm4 0h-2v-4h2v4z\"/>\n",
              "    </g>\n",
              "</svg>\n",
              "  </button>\n",
              "\n",
              "<style>\n",
              "  .colab-df-quickchart {\n",
              "      --bg-color: #E8F0FE;\n",
              "      --fill-color: #1967D2;\n",
              "      --hover-bg-color: #E2EBFA;\n",
              "      --hover-fill-color: #174EA6;\n",
              "      --disabled-fill-color: #AAA;\n",
              "      --disabled-bg-color: #DDD;\n",
              "  }\n",
              "\n",
              "  [theme=dark] .colab-df-quickchart {\n",
              "      --bg-color: #3B4455;\n",
              "      --fill-color: #D2E3FC;\n",
              "      --hover-bg-color: #434B5C;\n",
              "      --hover-fill-color: #FFFFFF;\n",
              "      --disabled-bg-color: #3B4455;\n",
              "      --disabled-fill-color: #666;\n",
              "  }\n",
              "\n",
              "  .colab-df-quickchart {\n",
              "    background-color: var(--bg-color);\n",
              "    border: none;\n",
              "    border-radius: 50%;\n",
              "    cursor: pointer;\n",
              "    display: none;\n",
              "    fill: var(--fill-color);\n",
              "    height: 32px;\n",
              "    padding: 0;\n",
              "    width: 32px;\n",
              "  }\n",
              "\n",
              "  .colab-df-quickchart:hover {\n",
              "    background-color: var(--hover-bg-color);\n",
              "    box-shadow: 0 1px 2px rgba(60, 64, 67, 0.3), 0 1px 3px 1px rgba(60, 64, 67, 0.15);\n",
              "    fill: var(--button-hover-fill-color);\n",
              "  }\n",
              "\n",
              "  .colab-df-quickchart-complete:disabled,\n",
              "  .colab-df-quickchart-complete:disabled:hover {\n",
              "    background-color: var(--disabled-bg-color);\n",
              "    fill: var(--disabled-fill-color);\n",
              "    box-shadow: none;\n",
              "  }\n",
              "\n",
              "  .colab-df-spinner {\n",
              "    border: 2px solid var(--fill-color);\n",
              "    border-color: transparent;\n",
              "    border-bottom-color: var(--fill-color);\n",
              "    animation:\n",
              "      spin 1s steps(1) infinite;\n",
              "  }\n",
              "\n",
              "  @keyframes spin {\n",
              "    0% {\n",
              "      border-color: transparent;\n",
              "      border-bottom-color: var(--fill-color);\n",
              "      border-left-color: var(--fill-color);\n",
              "    }\n",
              "    20% {\n",
              "      border-color: transparent;\n",
              "      border-left-color: var(--fill-color);\n",
              "      border-top-color: var(--fill-color);\n",
              "    }\n",
              "    30% {\n",
              "      border-color: transparent;\n",
              "      border-left-color: var(--fill-color);\n",
              "      border-top-color: var(--fill-color);\n",
              "      border-right-color: var(--fill-color);\n",
              "    }\n",
              "    40% {\n",
              "      border-color: transparent;\n",
              "      border-right-color: var(--fill-color);\n",
              "      border-top-color: var(--fill-color);\n",
              "    }\n",
              "    60% {\n",
              "      border-color: transparent;\n",
              "      border-right-color: var(--fill-color);\n",
              "    }\n",
              "    80% {\n",
              "      border-color: transparent;\n",
              "      border-right-color: var(--fill-color);\n",
              "      border-bottom-color: var(--fill-color);\n",
              "    }\n",
              "    90% {\n",
              "      border-color: transparent;\n",
              "      border-bottom-color: var(--fill-color);\n",
              "    }\n",
              "  }\n",
              "</style>\n",
              "\n",
              "  <script>\n",
              "    async function quickchart(key) {\n",
              "      const quickchartButtonEl =\n",
              "        document.querySelector('#' + key + ' button');\n",
              "      quickchartButtonEl.disabled = true;  // To prevent multiple clicks.\n",
              "      quickchartButtonEl.classList.add('colab-df-spinner');\n",
              "      try {\n",
              "        const charts = await google.colab.kernel.invokeFunction(\n",
              "            'suggestCharts', [key], {});\n",
              "      } catch (error) {\n",
              "        console.error('Error during call to suggestCharts:', error);\n",
              "      }\n",
              "      quickchartButtonEl.classList.remove('colab-df-spinner');\n",
              "      quickchartButtonEl.classList.add('colab-df-quickchart-complete');\n",
              "    }\n",
              "    (() => {\n",
              "      let quickchartButtonEl =\n",
              "        document.querySelector('#df-1907b52a-62e5-4169-abfb-9161f7991831 button');\n",
              "      quickchartButtonEl.style.display =\n",
              "        google.colab.kernel.accessAllowed ? 'block' : 'none';\n",
              "    })();\n",
              "  </script>\n",
              "</div>\n",
              "    </div>\n",
              "  </div>\n"
            ],
            "application/vnd.google.colaboratory.intrinsic+json": {
              "type": "dataframe",
              "summary": "{\n  \"name\": \"]]\",\n  \"rows\": 10,\n  \"fields\": [\n    {\n      \"column\": \"params\",\n      \"properties\": {\n        \"dtype\": \"object\",\n        \"semantic_type\": \"\",\n        \"description\": \"\"\n      }\n    },\n    {\n      \"column\": \"mean_test_roc_auc_score\",\n      \"properties\": {\n        \"dtype\": \"number\",\n        \"std\": 0.0,\n        \"min\": 0.8158707639527105,\n        \"max\": 0.8158707639527105,\n        \"num_unique_values\": 1,\n        \"samples\": [\n          0.8158707639527105\n        ],\n        \"semantic_type\": \"\",\n        \"description\": \"\"\n      }\n    },\n    {\n      \"column\": \"rank_test_roc_auc_score\",\n      \"properties\": {\n        \"dtype\": \"int32\",\n        \"num_unique_values\": 1,\n        \"samples\": [\n          81\n        ],\n        \"semantic_type\": \"\",\n        \"description\": \"\"\n      }\n    },\n    {\n      \"column\": \"mean_test_false_positive_rate\",\n      \"properties\": {\n        \"dtype\": \"number\",\n        \"std\": 0.0,\n        \"min\": 0.1093515704154002,\n        \"max\": 0.1093515704154002,\n        \"num_unique_values\": 1,\n        \"samples\": [\n          0.1093515704154002\n        ],\n        \"semantic_type\": \"\",\n        \"description\": \"\"\n      }\n    },\n    {\n      \"column\": \"rank_test_false_positive_rate\",\n      \"properties\": {\n        \"dtype\": \"int32\",\n        \"num_unique_values\": 1,\n        \"samples\": [\n          1\n        ],\n        \"semantic_type\": \"\",\n        \"description\": \"\"\n      }\n    }\n  ]\n}"
            }
          },
          "metadata": {},
          "execution_count": 31
        }
      ],
      "source": [
        "# сделайте сортировку по рейтингу модели: сначала FPR, затем ROC-AUC\n",
        "gs_multiscoring_results_fpr = gs_multiscoring_results.sort_values(\n",
        "    by=['rank_test_false_positive_rate','rank_test_roc_auc_score']\n",
        ")\n",
        "\n",
        "# отобразим первые десять строк таблицы и несколько столбцов\n",
        "gs_multiscoring_results_fpr[[\n",
        "    'params',\n",
        "    'mean_test_roc_auc_score',\n",
        "    'rank_test_roc_auc_score',\n",
        "    'mean_test_false_positive_rate',\n",
        "    'rank_test_false_positive_rate'\n",
        "]].head(10)"
      ]
    },
    {
      "cell_type": "markdown",
      "id": "60526e3e",
      "metadata": {
        "id": "60526e3e"
      },
      "source": [
        "Результат с минимальной `FPR` даёт менее качественную классификацию. Так бывает, и благодаря мультискорингу вам удалось это выяснить. Решение, какую модель использовать, теперь за заказчиком. Если важнее находить недовольных пассажиров — тогда выбор за моделью с лучшей `FPR`. Если важнее качественно классифицировать данные — стоит выбрать модель с высокой `ROC-AUC`."
      ]
    },
    {
      "cell_type": "markdown",
      "id": "43bba566",
      "metadata": {
        "id": "43bba566"
      },
      "source": [
        "## RandomizedSearchCV"
      ]
    },
    {
      "cell_type": "markdown",
      "id": "cf5f2c62",
      "metadata": {
        "id": "cf5f2c62"
      },
      "source": [
        "Вы уже умеете перебирать гиперпараметры с помощью `GridSearchCV`, да ещё и с мультискорингом. Не будем останавливаться на достигнутом — рассмотрим ещё один инструмент.\n",
        "\n",
        "Как бы ни был хорош `GridSearchCV`, у него есть недостатки. Перебирать большой диапазон гиперпараметров пришлось бы очень долго. У этой проблемы есть решение — рандомизированный (случайный) поиск гиперпараметров. С помощью `RandomizedSearchCV` можно перебирать не все значения гиперпараметров, а только фиксированное случайное количество.\n",
        "\n",
        "`GridSearchCV` — это так называемый поиск по сетке. При таком поиске будут перебираться все возможные комбинации, и ни одно значение не останется без внимания. Однако такой поиск занимает много времени.\n",
        "\n",
        "При рандомизированном поиске `RandomizedSearchCV` перебираться будет только ограниченное число значений. Это займёт меньше времени, но не все возможные комбинации будут проверены. Такой поиск лучше всего применять при широких диапазонах."
      ]
    },
    {
      "cell_type": "markdown",
      "id": "4fdca6cc",
      "metadata": {
        "id": "4fdca6cc"
      },
      "source": [
        "Так выглядит класс `RandomizedSearchCV`:\n",
        "\n",
        "`RandomizedSearchCV(\n",
        "    estimator,\n",
        "    param_grid,\n",
        "    scoring=None,\n",
        "    n_jobs=None,\n",
        "    cv=None,\n",
        "    n_iter=10,\n",
        "    random_state=None\n",
        ") `\n",
        "\n",
        "Его параметры:\n",
        "* `estimator` (обязательный) — инициализированная модель.\n",
        "* `param_grid` (обязательный) — это может быть словарь со значениями гиперпараметров (сами значения в списке или распределение параметров)\n",
        "* `scoring` — метрика, которая будет считаться на обученных моделях. По умолчанию — `accuracy`.\n",
        "* `n_jobs` — количество вычислительных мощностей. Чтобы считалось быстрее, указывают -1.\n",
        "* `cv` — тип кросс-валидации.\n",
        "* `n_iter` — сколько комбинаций гиперпараметров будет использовано.\n",
        "* `random_state` — значение, которое нужно зафиксировать для стабильности результатов.\n",
        "\n",
        "Чтобы запустить перебор лучших значений гиперпараметров, также нужно вызвать метод `fit()`:\n",
        "\n",
        "инициализируем класс для рандомизированного поиска гиперпараметров\n",
        "\n",
        "`rs = RandomizedSearchCV(\n",
        "    model,\n",
        "    parameters\n",
        ")`\n",
        "\n",
        "запускаем рандомизированный поиск лучших гиперпараметров\n",
        "\n",
        "`rs.fit(X_train, y_train)`"
      ]
    },
    {
      "cell_type": "markdown",
      "id": "f6d497b1",
      "metadata": {
        "id": "f6d497b1"
      },
      "source": [
        "### Задание\n",
        "\n",
        "Попробуйте `RandomizedSearchCV` в деле: подберите лучшие значения гиперпараметров на примере данных о пассажирских перевозках.\n",
        "\n",
        "1. Создайте словарь со значениями гиперпараметров:\n",
        "\n",
        "* `min_samples_split` в диапазоне от 2 до 6 (не включительно);\n",
        "* `min_samples_leaf` в диапазоне от 1 до 6 (не включительно);\n",
        "* `max_depth` в диапазоне от 2 до 6 (не включительно).\n",
        "2. Инициализируйте класс для рандомизированного поиска. В качестве значения кросс-валидации укажите 5 и установите метрику `roc-auc`.\n",
        "3. Запустите поиск гиперпараметров."
      ]
    },
    {
      "cell_type": "code",
      "execution_count": null,
      "id": "ab3d451b",
      "metadata": {
        "id": "ab3d451b",
        "outputId": "988cee5d-f980-47d8-ab8c-8e176c6b5068",
        "colab": {
          "base_uri": "https://localhost:8080/"
        }
      },
      "outputs": [
        {
          "output_type": "stream",
          "name": "stdout",
          "text": [
            "Search time:3.264721155166626\n",
            "Гиперпараметры {'min_samples_split': 4, 'min_samples_leaf': 2, 'max_depth': 4}\n",
            "ROC-AUC 0.8947455152331315\n"
          ]
        }
      ],
      "source": [
        "# запускаем таймер\n",
        "start = time.time()\n",
        "\n",
        "# инициализируем модель дерева решений\n",
        "model = DecisionTreeClassifier(class_weight='balanced', random_state = RANDOM_STATE)\n",
        "\n",
        "# Создайте словарь с гиперпараметрами:\n",
        "# - min_samples_split в диапазоне от 2 до 6 (не включительно);\n",
        "# - min_samples_leaf в диапазоне от 1 до 6 (не включительно);\n",
        "# - max_depth в диапазоне от 2 до 6 (не включительно).\n",
        "parameters = {\n",
        "    'min_samples_split': range(2,6),\n",
        "    'min_samples_leaf': range(1,6),\n",
        "    'max_depth':range(1,6)\n",
        "}\n",
        "\n",
        "# Инициализируйте класс для автоматизированного случайного поиска:\n",
        "# значение кросс-валидации 5, метрика roc-auc и n_jobs=-1.\n",
        "rs = RandomizedSearchCV(model, parameters, scoring = 'roc_auc', n_jobs=-1, cv = 5,\n",
        "                        n_iter = 25\n",
        "\n",
        ")\n",
        "\n",
        "# запустите поиск гиперп\n",
        "rs.fit(X_train, y_train)\n",
        "\n",
        "# считаем, сколько секунд прошло с начала запуска\n",
        "rs_search_time = time.time() - start\n",
        "print(f'Search time:{rs_search_time}')\n",
        "\n",
        "# выводим лучшие гиперпараметры\n",
        "print('Гиперпараметры', rs.best_params_)\n",
        "\n",
        "# выводим лучшую метрику качества\n",
        "print('ROC-AUC', rs.best_score_)"
      ]
    },
    {
      "cell_type": "markdown",
      "id": "ea4ecf58",
      "metadata": {
        "id": "ea4ecf58"
      },
      "source": [
        "Получаем практически такую же лучшую метрику, что и через `GridSearchCV` (было 0.8947), только гораздо быстрее.\n",
        "\n",
        "И кстати, у гиперпараметра `min_samples_leaf` выбрано другое значение: 2 вместо 1; у гиперпараметра `min_samples_split` выбрано другое значение: 3 вместо 2.\n"
      ]
    },
    {
      "cell_type": "markdown",
      "id": "1b8313ea",
      "metadata": {
        "id": "1b8313ea"
      },
      "source": [
        "## OptunaSearchCV"
      ]
    },
    {
      "cell_type": "markdown",
      "id": "7cea3c6f",
      "metadata": {
        "id": "7cea3c6f"
      },
      "source": [
        "**Байесовская оптимизация**\n",
        "\n",
        "К задаче улучшения метрики качества можно подойти как к задаче оптимизации. В математическом смысле оптимизация — это поиск минимального или максимального значения функции. Напомним, в виде функции также описывают зависимость итоговой метрики от параметров обучаемой модели. Наша задача — найти такие параметры обучения, при которых метрика (то есть функция) будет минимальной или максимальной. Это и есть оптимизация.\n",
        "\n",
        "Подбор значений гиперпараметров можно представить в виде задачи оптимизации. Для этого берём функцию, которую нужно оптимизировать, — например, значение метрики при кросс-валидации в зависимости от значений гиперпараметров.\n",
        "\n",
        "Рассчитать такую метрику быстро не получится: сначала нужно обучить модель, потом посчитать метрику, а затем повторить это несколько раз.\n",
        "\n",
        "Хочется иметь инструмент, который не будет обучать все возможные модели на всех значениях гиперпараметров, как `GridSearchCV`, и не будет каждый раз случайно выбирать комбинации гиперпараметров, как `RandomizedSearchCV`. Такой инструмент есть — это `OptunaSearchCV`, который использует байесовскую оптимизацию.\n",
        "\n",
        "Метод работает итерациями и на каждой итерации указывает, в какой следующей точке с наибольшей вероятностью улучшается текущая оценка. Это позволяет вычислять функцию реже и, соответственно, тратить меньше времени на вычисления.\n",
        "\n",
        "Такая оптимизация действительно «оптимальна»: каждые следующие гиперпараметры выбираются не просто так, а с целью потратить меньше времени и меньше вызывать целевую функцию. Используя прошлые результаты, байесовская оптимизация может быстрее находить лучшие значения гиперпараметров, чем случайный поиск, и за меньшее количество итераций.\n"
      ]
    },
    {
      "cell_type": "markdown",
      "id": "0cb6ca38",
      "metadata": {
        "id": "0cb6ca38"
      },
      "source": [
        "Синтаксис инициализации класса `OptunaSearchCV` напоминает инструменты для поиска из `sklearn`:\n",
        "\n",
        "`oscv = OptunaSearchCV(\n",
        "    estimator,\n",
        "    param_distributions,\n",
        "    scoring=None,\n",
        "    n_jobs=None,\n",
        "    cv=None,\n",
        "    n_trials=None,\n",
        "    random_state=RANDOM_STATE\n",
        ") `\n",
        "\n"
      ]
    },
    {
      "cell_type": "markdown",
      "id": "ec8f1781",
      "metadata": {
        "id": "ec8f1781"
      },
      "source": [
        "Параметры класса:\n",
        "* `estimator` (обязательный) — инициализированная модель.\n",
        "* `param_distributions` (обязательный) — распределение гиперпараметров. Его можно взять из модуля `distributions` в `optuna`.\n",
        "\n",
        "Будем пользоваться распределением с целыми числами (все числа диапазона включаются в распределение (значение 10 тоже включено)):\n",
        "\n",
        "`parameters = {\n",
        "    'max_depth': distributions.IntDistribution(1, 10),\n",
        "    'min_samples_split': distributions.IntDistribution(2, 10)\n",
        "} `\n",
        "\n",
        "* `scoring` — метрика, которая будет считаться на обученных моделях.\n",
        "* `n_jobs` — количество вычислительных мощностей. Если укажем -1, результаты будут нестабильными. Лучше не пользоваться этим параметром, если важна воспроизводимость.\n",
        "* `cv` — тип кросс-валидации.\n",
        "* `n_trials` — показывает, сколько итераций поиска будет использовано (по умолчанию 10).\n",
        "* `random_state` — значение, которое нужно зафиксировать для стабильности результатов.\n",
        "\n",
        "Чтобы запустить подбор лучших значений гиперпараметров, вызываем метод `fit()`:\n",
        "\n",
        "`oscv.fit(X_train, y_train)`"
      ]
    },
    {
      "cell_type": "markdown",
      "id": "2ae526b7",
      "metadata": {
        "id": "2ae526b7"
      },
      "source": [
        "### Задание\n",
        "\n",
        "Подберите гиперпараметры с помощью байесовской оптимизации для задачи про пассажирские перевозки.\n",
        "\n",
        "1. Создайте словарь со значениями гиперпараметров:\n",
        "* `min_samples_split` в диапазоне от 2 до 6 (не включительно);\n",
        "* `min_samples_leaf` в диапазоне от 1 до 6 (не включительно);\n",
        "* `max_depth` в диапазоне от 2 до 6 (не включительно).\n",
        "\n",
        "2. Инициализируйте класс для байесовской оптимизации. Проведите кросс-валидацию на 5 блоков, укажите метрику `ROC-AUC` и количество итераций 20.\n",
        "3. Запустите поиск лучших гиперпараметров.\n",
        "4. Выведите на экран лучшие гиперпараметры и значение метрики."
      ]
    },
    {
      "cell_type": "code",
      "execution_count": null,
      "id": "8eaeb7c0",
      "metadata": {
        "id": "8eaeb7c0",
        "outputId": "0d78c269-85ae-4bf1-f9f0-7347180a6285",
        "colab": {
          "base_uri": "https://localhost:8080/"
        }
      },
      "outputs": [
        {
          "output_type": "stream",
          "name": "stderr",
          "text": [
            "[I 2024-05-18 07:33:29,761] A new study created in memory with name: no-name-77808e4b-77b5-469c-aadb-97382b18cc8e\n",
            "[I 2024-05-18 07:33:30,032] Trial 0 finished with value: 0.8906809953126423 and parameters: {'min_samples_split': 5, 'min_samples_leaf': 4, 'max_depth': 5}. Best is trial 0 with value: 0.8906809953126423.\n",
            "[I 2024-05-18 07:33:30,169] Trial 1 finished with value: 0.8558098334967937 and parameters: {'min_samples_split': 2, 'min_samples_leaf': 5, 'max_depth': 2}. Best is trial 0 with value: 0.8906809953126423.\n",
            "[I 2024-05-18 07:33:30,399] Trial 2 finished with value: 0.8859802900845214 and parameters: {'min_samples_split': 4, 'min_samples_leaf': 2, 'max_depth': 3}. Best is trial 0 with value: 0.8906809953126423.\n",
            "[I 2024-05-18 07:33:30,727] Trial 3 finished with value: 0.8906208178423863 and parameters: {'min_samples_split': 3, 'min_samples_leaf': 3, 'max_depth': 5}. Best is trial 0 with value: 0.8906809953126423.\n",
            "[I 2024-05-18 07:33:31,134] Trial 4 finished with value: 0.8859802900845214 and parameters: {'min_samples_split': 3, 'min_samples_leaf': 4, 'max_depth': 3}. Best is trial 0 with value: 0.8906809953126423.\n",
            "[I 2024-05-18 07:33:31,568] Trial 5 finished with value: 0.8859802900845214 and parameters: {'min_samples_split': 5, 'min_samples_leaf': 5, 'max_depth': 3}. Best is trial 0 with value: 0.8906809953126423.\n",
            "[I 2024-05-18 07:33:32,003] Trial 6 finished with value: 0.8947455152331315 and parameters: {'min_samples_split': 4, 'min_samples_leaf': 2, 'max_depth': 4}. Best is trial 6 with value: 0.8947455152331315.\n",
            "[I 2024-05-18 07:33:32,266] Trial 7 finished with value: 0.8558098334967937 and parameters: {'min_samples_split': 5, 'min_samples_leaf': 2, 'max_depth': 2}. Best is trial 6 with value: 0.8947455152331315.\n",
            "[I 2024-05-18 07:33:32,502] Trial 8 finished with value: 0.8947455152331315 and parameters: {'min_samples_split': 5, 'min_samples_leaf': 5, 'max_depth': 4}. Best is trial 6 with value: 0.8947455152331315.\n",
            "[I 2024-05-18 07:33:32,688] Trial 9 finished with value: 0.8859802900845214 and parameters: {'min_samples_split': 2, 'min_samples_leaf': 4, 'max_depth': 3}. Best is trial 6 with value: 0.8947455152331315.\n",
            "[I 2024-05-18 07:33:33,176] Trial 10 finished with value: 0.8947455152331315 and parameters: {'min_samples_split': 4, 'min_samples_leaf': 1, 'max_depth': 4}. Best is trial 6 with value: 0.8947455152331315.\n",
            "[I 2024-05-18 07:33:33,564] Trial 11 finished with value: 0.8947455152331315 and parameters: {'min_samples_split': 4, 'min_samples_leaf': 2, 'max_depth': 4}. Best is trial 6 with value: 0.8947455152331315.\n",
            "[I 2024-05-18 07:33:33,973] Trial 12 finished with value: 0.8947455152331315 and parameters: {'min_samples_split': 5, 'min_samples_leaf': 1, 'max_depth': 4}. Best is trial 6 with value: 0.8947455152331315.\n",
            "[I 2024-05-18 07:33:34,351] Trial 13 finished with value: 0.8906208178423863 and parameters: {'min_samples_split': 4, 'min_samples_leaf': 3, 'max_depth': 5}. Best is trial 6 with value: 0.8947455152331315.\n",
            "[I 2024-05-18 07:33:34,607] Trial 14 finished with value: 0.8947455152331315 and parameters: {'min_samples_split': 3, 'min_samples_leaf': 2, 'max_depth': 4}. Best is trial 6 with value: 0.8947455152331315.\n",
            "[I 2024-05-18 07:33:34,953] Trial 15 finished with value: 0.8947455152331315 and parameters: {'min_samples_split': 5, 'min_samples_leaf': 5, 'max_depth': 4}. Best is trial 6 with value: 0.8947455152331315.\n",
            "[I 2024-05-18 07:33:35,226] Trial 16 finished with value: 0.8906208178423863 and parameters: {'min_samples_split': 4, 'min_samples_leaf': 3, 'max_depth': 5}. Best is trial 6 with value: 0.8947455152331315.\n",
            "[I 2024-05-18 07:33:35,518] Trial 17 finished with value: 0.8947455152331315 and parameters: {'min_samples_split': 5, 'min_samples_leaf': 4, 'max_depth': 4}. Best is trial 6 with value: 0.8947455152331315.\n",
            "[I 2024-05-18 07:33:35,855] Trial 18 finished with value: 0.8859802900845214 and parameters: {'min_samples_split': 4, 'min_samples_leaf': 3, 'max_depth': 3}. Best is trial 6 with value: 0.8947455152331315.\n",
            "[I 2024-05-18 07:33:36,177] Trial 19 finished with value: 0.8877252414036398 and parameters: {'min_samples_split': 3, 'min_samples_leaf': 1, 'max_depth': 5}. Best is trial 6 with value: 0.8947455152331315.\n"
          ]
        },
        {
          "output_type": "stream",
          "name": "stdout",
          "text": [
            "Search time:6.468755483627319\n",
            "Гиперпараметры {'min_samples_split': 4, 'min_samples_leaf': 2, 'max_depth': 4}\n",
            "ROC-AUC 0.8947455152331315\n"
          ]
        }
      ],
      "source": [
        "# запускаем таймер\n",
        "start = time.time()\n",
        "\n",
        "# инициализируем модель дерева решений\n",
        "model = DecisionTreeClassifier(class_weight='balanced', random_state = RANDOM_STATE)\n",
        "\n",
        "# Создайте словарь с гиперпараметрами:\n",
        "# - min_samples_split в диапазоне от 2 до 6 (не включительно);\n",
        "# - min_samples_leaf в диапазоне от 1 до 6 (не включительно);\n",
        "# - max_depth в диапазоне от 2 до 6 (не включительно).\n",
        "parameters = {\n",
        "    'min_samples_split':  distributions.IntDistribution(2,5),\n",
        "    'min_samples_leaf':  distributions.IntDistribution(1,5),\n",
        "    'max_depth': distributions.IntDistribution(2,5) ,\n",
        "\n",
        "}\n",
        "\n",
        "# Инициализируйте класс для байесовского поиска на 20 итераций:\n",
        "# значение кросс-валидации 5, метрика roc-auc.\n",
        "oscv = OptunaSearchCV(model, parameters, scoring = 'roc_auc',  cv = 5,\n",
        "                        n_trials = 20, random_state = RANDOM_STATE\n",
        "\n",
        ")\n",
        "\n",
        "# запустите поиск гиперпараметров\n",
        "oscv.fit(X_train, y_train)\n",
        "\n",
        "# считаем, сколько секунд прошло с начала запуска\n",
        "oscv_search_time = time.time() - start\n",
        "print(f'Search time:{oscv_search_time}')\n",
        "\n",
        "# выведите лучшие гиперпараметры\n",
        "print('Гиперпараметры', oscv.best_params_)\n",
        "# выведите лучшую метрику качества\n",
        "print('ROC-AUC', oscv.best_score_)"
      ]
    },
    {
      "cell_type": "markdown",
      "id": "672ba043",
      "metadata": {
        "id": "672ba043"
      },
      "source": [
        "Лучшая метрика 0.8947 — то же самое, что после `GridSearchCV`. И кстати, у гиперпараметра `min_samples_leaf` выбрано другое значение: 2 вместо 1; у гиперпараметра `min_samples_split` выбрано другое значение: 4 вместо 2.\n"
      ]
    },
    {
      "cell_type": "markdown",
      "id": "b395da7c",
      "metadata": {
        "id": "b395da7c"
      },
      "source": [
        "### Визуализируем оптимизацию\n"
      ]
    },
    {
      "cell_type": "markdown",
      "id": "f998afd9",
      "metadata": {
        "id": "f998afd9"
      },
      "source": [
        "Как убедиться, что во время обучения гиперпараметры выбираются не случайно, а только в той области, где большая метрика вероятнее? С помощью визуализации, конечно! Готовые функции для графиков есть в модуле `visualization` библиотеки `optuna`.\n",
        "\n",
        "С помощью `plot_contour()` можно изучить зависимость гиперпараметров и метрики качества. Функции передают объект байесовской оптимизации `oscv.study_` (именно так — с атрибутом) и гиперпараметры для визуализации, например `params=['min_samples_split', 'max_depth']`:"
      ]
    },
    {
      "cell_type": "code",
      "execution_count": null,
      "id": "c8071c2c",
      "metadata": {
        "id": "c8071c2c",
        "outputId": "e7f8efdf-f5ff-46cd-bbbf-a3d003afc3b7",
        "colab": {
          "base_uri": "https://localhost:8080/",
          "height": 542
        }
      },
      "outputs": [
        {
          "output_type": "display_data",
          "data": {
            "text/html": [
              "<html>\n",
              "<head><meta charset=\"utf-8\" /></head>\n",
              "<body>\n",
              "    <div>            <script src=\"https://cdnjs.cloudflare.com/ajax/libs/mathjax/2.7.5/MathJax.js?config=TeX-AMS-MML_SVG\"></script><script type=\"text/javascript\">if (window.MathJax && window.MathJax.Hub && window.MathJax.Hub.Config) {window.MathJax.Hub.Config({SVG: {font: \"STIX-Web\"}});}</script>                <script type=\"text/javascript\">window.PlotlyConfig = {MathJaxConfig: 'local'};</script>\n",
              "        <script charset=\"utf-8\" src=\"https://cdn.plot.ly/plotly-2.24.1.min.js\"></script>                <div id=\"59f1813a-ccf3-47ef-adfa-a6fc210031d1\" class=\"plotly-graph-div\" style=\"height:525px; width:100%;\"></div>            <script type=\"text/javascript\">                                    window.PLOTLYENV=window.PLOTLYENV || {};                                    if (document.getElementById(\"59f1813a-ccf3-47ef-adfa-a6fc210031d1\")) {                    Plotly.newPlot(                        \"59f1813a-ccf3-47ef-adfa-a6fc210031d1\",                        [{\"colorbar\":{\"title\":{\"text\":\"Objective Value\"}},\"colorscale\":[[0.0,\"rgb(247,251,255)\"],[0.125,\"rgb(222,235,247)\"],[0.25,\"rgb(198,219,239)\"],[0.375,\"rgb(158,202,225)\"],[0.5,\"rgb(107,174,214)\"],[0.625,\"rgb(66,146,198)\"],[0.75,\"rgb(33,113,181)\"],[0.875,\"rgb(8,81,156)\"],[1.0,\"rgb(8,48,107)\"]],\"connectgaps\":true,\"contours\":{\"coloring\":\"heatmap\"},\"hoverinfo\":\"none\",\"line\":{\"smoothing\":1.3},\"reversescale\":false,\"x\":[1.85,2,3,4,5,5.15],\"y\":[0.8,1,2,3,4,5,5.2],\"z\":[[null,null,null,null,null,null],[null,null,null,0.8947455152331315,0.8877252414036398,null],[null,0.8558098334967937,0.8859802900845214,0.8947455152331315,null,null],[null,null,0.8859802900845214,null,0.8906208178423863,null],[null,null,0.8859802900845214,0.8947455152331315,0.8906809953126423,null],[null,0.8558098334967937,0.8859802900845214,0.8947455152331315,null,null],[null,null,null,null,null,null]],\"type\":\"contour\"},{\"marker\":{\"color\":\"black\",\"line\":{\"color\":\"Gray\",\"width\":2.0}},\"mode\":\"markers\",\"name\":\"Feasible Trial\",\"showlegend\":false,\"x\":[5,2,3,5,3,3,4,2,4,3,4,4,4,5,4,4,5,4,3,5],\"y\":[4,5,2,3,4,5,2,2,5,4,1,2,1,3,2,5,3,4,3,1],\"type\":\"scatter\"},{\"marker\":{\"color\":\"#cccccc\",\"line\":{\"color\":\"Gray\",\"width\":2.0}},\"mode\":\"markers\",\"name\":\"Infeasible Trial\",\"showlegend\":false,\"x\":[],\"y\":[],\"type\":\"scatter\"}],                        {\"title\":{\"text\":\"Contour Plot\"},\"template\":{\"data\":{\"histogram2dcontour\":[{\"type\":\"histogram2dcontour\",\"colorbar\":{\"outlinewidth\":0,\"ticks\":\"\"},\"colorscale\":[[0.0,\"#0d0887\"],[0.1111111111111111,\"#46039f\"],[0.2222222222222222,\"#7201a8\"],[0.3333333333333333,\"#9c179e\"],[0.4444444444444444,\"#bd3786\"],[0.5555555555555556,\"#d8576b\"],[0.6666666666666666,\"#ed7953\"],[0.7777777777777778,\"#fb9f3a\"],[0.8888888888888888,\"#fdca26\"],[1.0,\"#f0f921\"]]}],\"choropleth\":[{\"type\":\"choropleth\",\"colorbar\":{\"outlinewidth\":0,\"ticks\":\"\"}}],\"histogram2d\":[{\"type\":\"histogram2d\",\"colorbar\":{\"outlinewidth\":0,\"ticks\":\"\"},\"colorscale\":[[0.0,\"#0d0887\"],[0.1111111111111111,\"#46039f\"],[0.2222222222222222,\"#7201a8\"],[0.3333333333333333,\"#9c179e\"],[0.4444444444444444,\"#bd3786\"],[0.5555555555555556,\"#d8576b\"],[0.6666666666666666,\"#ed7953\"],[0.7777777777777778,\"#fb9f3a\"],[0.8888888888888888,\"#fdca26\"],[1.0,\"#f0f921\"]]}],\"heatmap\":[{\"type\":\"heatmap\",\"colorbar\":{\"outlinewidth\":0,\"ticks\":\"\"},\"colorscale\":[[0.0,\"#0d0887\"],[0.1111111111111111,\"#46039f\"],[0.2222222222222222,\"#7201a8\"],[0.3333333333333333,\"#9c179e\"],[0.4444444444444444,\"#bd3786\"],[0.5555555555555556,\"#d8576b\"],[0.6666666666666666,\"#ed7953\"],[0.7777777777777778,\"#fb9f3a\"],[0.8888888888888888,\"#fdca26\"],[1.0,\"#f0f921\"]]}],\"heatmapgl\":[{\"type\":\"heatmapgl\",\"colorbar\":{\"outlinewidth\":0,\"ticks\":\"\"},\"colorscale\":[[0.0,\"#0d0887\"],[0.1111111111111111,\"#46039f\"],[0.2222222222222222,\"#7201a8\"],[0.3333333333333333,\"#9c179e\"],[0.4444444444444444,\"#bd3786\"],[0.5555555555555556,\"#d8576b\"],[0.6666666666666666,\"#ed7953\"],[0.7777777777777778,\"#fb9f3a\"],[0.8888888888888888,\"#fdca26\"],[1.0,\"#f0f921\"]]}],\"contourcarpet\":[{\"type\":\"contourcarpet\",\"colorbar\":{\"outlinewidth\":0,\"ticks\":\"\"}}],\"contour\":[{\"type\":\"contour\",\"colorbar\":{\"outlinewidth\":0,\"ticks\":\"\"},\"colorscale\":[[0.0,\"#0d0887\"],[0.1111111111111111,\"#46039f\"],[0.2222222222222222,\"#7201a8\"],[0.3333333333333333,\"#9c179e\"],[0.4444444444444444,\"#bd3786\"],[0.5555555555555556,\"#d8576b\"],[0.6666666666666666,\"#ed7953\"],[0.7777777777777778,\"#fb9f3a\"],[0.8888888888888888,\"#fdca26\"],[1.0,\"#f0f921\"]]}],\"surface\":[{\"type\":\"surface\",\"colorbar\":{\"outlinewidth\":0,\"ticks\":\"\"},\"colorscale\":[[0.0,\"#0d0887\"],[0.1111111111111111,\"#46039f\"],[0.2222222222222222,\"#7201a8\"],[0.3333333333333333,\"#9c179e\"],[0.4444444444444444,\"#bd3786\"],[0.5555555555555556,\"#d8576b\"],[0.6666666666666666,\"#ed7953\"],[0.7777777777777778,\"#fb9f3a\"],[0.8888888888888888,\"#fdca26\"],[1.0,\"#f0f921\"]]}],\"mesh3d\":[{\"type\":\"mesh3d\",\"colorbar\":{\"outlinewidth\":0,\"ticks\":\"\"}}],\"scatter\":[{\"fillpattern\":{\"fillmode\":\"overlay\",\"size\":10,\"solidity\":0.2},\"type\":\"scatter\"}],\"parcoords\":[{\"type\":\"parcoords\",\"line\":{\"colorbar\":{\"outlinewidth\":0,\"ticks\":\"\"}}}],\"scatterpolargl\":[{\"type\":\"scatterpolargl\",\"marker\":{\"colorbar\":{\"outlinewidth\":0,\"ticks\":\"\"}}}],\"bar\":[{\"error_x\":{\"color\":\"#2a3f5f\"},\"error_y\":{\"color\":\"#2a3f5f\"},\"marker\":{\"line\":{\"color\":\"#E5ECF6\",\"width\":0.5},\"pattern\":{\"fillmode\":\"overlay\",\"size\":10,\"solidity\":0.2}},\"type\":\"bar\"}],\"scattergeo\":[{\"type\":\"scattergeo\",\"marker\":{\"colorbar\":{\"outlinewidth\":0,\"ticks\":\"\"}}}],\"scatterpolar\":[{\"type\":\"scatterpolar\",\"marker\":{\"colorbar\":{\"outlinewidth\":0,\"ticks\":\"\"}}}],\"histogram\":[{\"marker\":{\"pattern\":{\"fillmode\":\"overlay\",\"size\":10,\"solidity\":0.2}},\"type\":\"histogram\"}],\"scattergl\":[{\"type\":\"scattergl\",\"marker\":{\"colorbar\":{\"outlinewidth\":0,\"ticks\":\"\"}}}],\"scatter3d\":[{\"type\":\"scatter3d\",\"line\":{\"colorbar\":{\"outlinewidth\":0,\"ticks\":\"\"}},\"marker\":{\"colorbar\":{\"outlinewidth\":0,\"ticks\":\"\"}}}],\"scattermapbox\":[{\"type\":\"scattermapbox\",\"marker\":{\"colorbar\":{\"outlinewidth\":0,\"ticks\":\"\"}}}],\"scatterternary\":[{\"type\":\"scatterternary\",\"marker\":{\"colorbar\":{\"outlinewidth\":0,\"ticks\":\"\"}}}],\"scattercarpet\":[{\"type\":\"scattercarpet\",\"marker\":{\"colorbar\":{\"outlinewidth\":0,\"ticks\":\"\"}}}],\"carpet\":[{\"aaxis\":{\"endlinecolor\":\"#2a3f5f\",\"gridcolor\":\"white\",\"linecolor\":\"white\",\"minorgridcolor\":\"white\",\"startlinecolor\":\"#2a3f5f\"},\"baxis\":{\"endlinecolor\":\"#2a3f5f\",\"gridcolor\":\"white\",\"linecolor\":\"white\",\"minorgridcolor\":\"white\",\"startlinecolor\":\"#2a3f5f\"},\"type\":\"carpet\"}],\"table\":[{\"cells\":{\"fill\":{\"color\":\"#EBF0F8\"},\"line\":{\"color\":\"white\"}},\"header\":{\"fill\":{\"color\":\"#C8D4E3\"},\"line\":{\"color\":\"white\"}},\"type\":\"table\"}],\"barpolar\":[{\"marker\":{\"line\":{\"color\":\"#E5ECF6\",\"width\":0.5},\"pattern\":{\"fillmode\":\"overlay\",\"size\":10,\"solidity\":0.2}},\"type\":\"barpolar\"}],\"pie\":[{\"automargin\":true,\"type\":\"pie\"}]},\"layout\":{\"autotypenumbers\":\"strict\",\"colorway\":[\"#636efa\",\"#EF553B\",\"#00cc96\",\"#ab63fa\",\"#FFA15A\",\"#19d3f3\",\"#FF6692\",\"#B6E880\",\"#FF97FF\",\"#FECB52\"],\"font\":{\"color\":\"#2a3f5f\"},\"hovermode\":\"closest\",\"hoverlabel\":{\"align\":\"left\"},\"paper_bgcolor\":\"white\",\"plot_bgcolor\":\"#E5ECF6\",\"polar\":{\"bgcolor\":\"#E5ECF6\",\"angularaxis\":{\"gridcolor\":\"white\",\"linecolor\":\"white\",\"ticks\":\"\"},\"radialaxis\":{\"gridcolor\":\"white\",\"linecolor\":\"white\",\"ticks\":\"\"}},\"ternary\":{\"bgcolor\":\"#E5ECF6\",\"aaxis\":{\"gridcolor\":\"white\",\"linecolor\":\"white\",\"ticks\":\"\"},\"baxis\":{\"gridcolor\":\"white\",\"linecolor\":\"white\",\"ticks\":\"\"},\"caxis\":{\"gridcolor\":\"white\",\"linecolor\":\"white\",\"ticks\":\"\"}},\"coloraxis\":{\"colorbar\":{\"outlinewidth\":0,\"ticks\":\"\"}},\"colorscale\":{\"sequential\":[[0.0,\"#0d0887\"],[0.1111111111111111,\"#46039f\"],[0.2222222222222222,\"#7201a8\"],[0.3333333333333333,\"#9c179e\"],[0.4444444444444444,\"#bd3786\"],[0.5555555555555556,\"#d8576b\"],[0.6666666666666666,\"#ed7953\"],[0.7777777777777778,\"#fb9f3a\"],[0.8888888888888888,\"#fdca26\"],[1.0,\"#f0f921\"]],\"sequentialminus\":[[0.0,\"#0d0887\"],[0.1111111111111111,\"#46039f\"],[0.2222222222222222,\"#7201a8\"],[0.3333333333333333,\"#9c179e\"],[0.4444444444444444,\"#bd3786\"],[0.5555555555555556,\"#d8576b\"],[0.6666666666666666,\"#ed7953\"],[0.7777777777777778,\"#fb9f3a\"],[0.8888888888888888,\"#fdca26\"],[1.0,\"#f0f921\"]],\"diverging\":[[0,\"#8e0152\"],[0.1,\"#c51b7d\"],[0.2,\"#de77ae\"],[0.3,\"#f1b6da\"],[0.4,\"#fde0ef\"],[0.5,\"#f7f7f7\"],[0.6,\"#e6f5d0\"],[0.7,\"#b8e186\"],[0.8,\"#7fbc41\"],[0.9,\"#4d9221\"],[1,\"#276419\"]]},\"xaxis\":{\"gridcolor\":\"white\",\"linecolor\":\"white\",\"ticks\":\"\",\"title\":{\"standoff\":15},\"zerolinecolor\":\"white\",\"automargin\":true,\"zerolinewidth\":2},\"yaxis\":{\"gridcolor\":\"white\",\"linecolor\":\"white\",\"ticks\":\"\",\"title\":{\"standoff\":15},\"zerolinecolor\":\"white\",\"automargin\":true,\"zerolinewidth\":2},\"scene\":{\"xaxis\":{\"backgroundcolor\":\"#E5ECF6\",\"gridcolor\":\"white\",\"linecolor\":\"white\",\"showbackground\":true,\"ticks\":\"\",\"zerolinecolor\":\"white\",\"gridwidth\":2},\"yaxis\":{\"backgroundcolor\":\"#E5ECF6\",\"gridcolor\":\"white\",\"linecolor\":\"white\",\"showbackground\":true,\"ticks\":\"\",\"zerolinecolor\":\"white\",\"gridwidth\":2},\"zaxis\":{\"backgroundcolor\":\"#E5ECF6\",\"gridcolor\":\"white\",\"linecolor\":\"white\",\"showbackground\":true,\"ticks\":\"\",\"zerolinecolor\":\"white\",\"gridwidth\":2}},\"shapedefaults\":{\"line\":{\"color\":\"#2a3f5f\"}},\"annotationdefaults\":{\"arrowcolor\":\"#2a3f5f\",\"arrowhead\":0,\"arrowwidth\":1},\"geo\":{\"bgcolor\":\"white\",\"landcolor\":\"#E5ECF6\",\"subunitcolor\":\"white\",\"showland\":true,\"showlakes\":true,\"lakecolor\":\"white\"},\"title\":{\"x\":0.05},\"mapbox\":{\"style\":\"light\"}}},\"xaxis\":{\"title\":{\"text\":\"max_depth\"},\"range\":[1.85,5.15]},\"yaxis\":{\"title\":{\"text\":\"min_samples_leaf\"},\"range\":[0.8,5.2]}},                        {\"responsive\": true}                    ).then(function(){\n",
              "                            \n",
              "var gd = document.getElementById('59f1813a-ccf3-47ef-adfa-a6fc210031d1');\n",
              "var x = new MutationObserver(function (mutations, observer) {{\n",
              "        var display = window.getComputedStyle(gd).display;\n",
              "        if (!display || display === 'none') {{\n",
              "            console.log([gd, 'removed!']);\n",
              "            Plotly.purge(gd);\n",
              "            observer.disconnect();\n",
              "        }}\n",
              "}});\n",
              "\n",
              "// Listen for the removal of the full notebook cells\n",
              "var notebookContainer = gd.closest('#notebook-container');\n",
              "if (notebookContainer) {{\n",
              "    x.observe(notebookContainer, {childList: true});\n",
              "}}\n",
              "\n",
              "// Listen for the clearing of the current output cell\n",
              "var outputEl = gd.closest('.output');\n",
              "if (outputEl) {{\n",
              "    x.observe(outputEl, {childList: true});\n",
              "}}\n",
              "\n",
              "                        })                };                            </script>        </div>\n",
              "</body>\n",
              "</html>"
            ]
          },
          "metadata": {}
        }
      ],
      "source": [
        "fig = visualization.plot_contour(oscv.study_, params=['min_samples_leaf', 'max_depth']\n",
        "\n",
        ")\n",
        "fig.show()"
      ]
    },
    {
      "cell_type": "markdown",
      "id": "8bbe33d5",
      "metadata": {
        "id": "8bbe33d5"
      },
      "source": [
        "Получим график, на котором по оси `X` — значения гиперпараметра `max_depth`, по оси `Y` — значения гиперпараметра `min_samples_split`, а на пересечении — метрика качества. Где цвет графика светлее, там метрика меньше, и наоборот."
      ]
    },
    {
      "cell_type": "markdown",
      "id": "c62149a3",
      "metadata": {
        "id": "c62149a3"
      },
      "source": [
        "## Сравнение способов автоматизированного поиска гиперпараметров"
      ]
    },
    {
      "cell_type": "markdown",
      "id": "bac4ca49",
      "metadata": {
        "id": "bac4ca49"
      },
      "source": [
        "Проверьте особенности разных способов поиска на практике и сравните результаты. Возьмите одинаковые диапазоны гиперпараметров, чтобы сравнение было корректным.\n",
        "\n",
        "Алгоритм действий такой:\n",
        "1. Создайте словарь со значениями гиперпараметров для случайного поиска и поиска по сетке:\n",
        "* `min_samples_split` в диапазоне от 2 до 6 (не включительно);\n",
        "* `min_samples_leaf` в диапазоне от 1 до 6 (не включительно);\n",
        "* `max_depth` в диапазоне от 2 до 6 (не включительно).\n",
        "2. Инициализируйте классы для случайного поиска и поиска по сетке со значением кросс-валидации 5 и метрикой `roc-auc`.\n",
        "3. Задайте распределение гиперпараметров для байесовской оптимизации с такими же значениями гиперпараметров, как и для двух других способов.\n",
        "4. Инициализируйте класс для байесовской оптимизации на 20 итераций со значением кросс-валидации 5 и метрикой `roc-auc`."
      ]
    },
    {
      "cell_type": "code",
      "execution_count": null,
      "id": "1225378a",
      "metadata": {
        "id": "1225378a"
      },
      "outputs": [],
      "source": [
        "# инициализируем модель дерева решений\n",
        "model = DecisionTreeClassifier(random_state=RANDOM_STATE, class_weight='balanced')"
      ]
    },
    {
      "cell_type": "code",
      "execution_count": null,
      "id": "75346344",
      "metadata": {
        "id": "75346344"
      },
      "outputs": [],
      "source": [
        "# Создайте словарь с гиперпараметрами для GridSearchCV и RandomizedSearchCV:\n",
        "# - min_samples_split в диапазоне от 2 до 6 (не включительно)\n",
        "# - min_samples_leaf в диапазоне от 1 до 6 (не включительно)\n",
        "# - max_depth в диапазоне от 2 до 6 (не включительно)\n",
        "gs_rs_parameters = {\n",
        "    'min_samples_split': range(2,6),\n",
        "    'min_samples_leaf': range(1,6),\n",
        "    'max_depth':range(2,6)\n",
        "}"
      ]
    },
    {
      "cell_type": "code",
      "execution_count": null,
      "id": "f306cdd9",
      "metadata": {
        "id": "f306cdd9"
      },
      "outputs": [],
      "source": [
        "# Создайте словарь с гиперпараметрами для байесовской оптимизации:\n",
        "# - min_samples_split в диапазоне от 2 до 6 (не включительно)\n",
        "# - min_samples_leaf в диапазоне от 1 до 6 (не включительно)\n",
        "# - max_depth в диапазоне от 2 до 6 (не включительно)\n",
        "oscv_parameters = {\n",
        "    'min_samples_split': distributions.IntDistribution(2,5),\n",
        "    'min_samples_leaf': distributions.IntDistribution(1,5),\n",
        "    'max_depth':distributions.IntDistribution(2,5)\n",
        "}"
      ]
    },
    {
      "cell_type": "code",
      "execution_count": null,
      "id": "b810f4c5",
      "metadata": {
        "id": "b810f4c5"
      },
      "outputs": [],
      "source": [
        "# Подбор гиперпараметров с помощью GridSearchCV\n",
        "# запускаем таймер\n",
        "start = time.time()\n",
        "\n",
        "# Инициализируйте класс для поиска по сетке:\n",
        "# значение кросс-валидации 5, метрика roc-auc и n_jobs=-1.\n",
        "gs = GridSearchCV(model,gs_rs_parameters,scoring='roc_auc', cv=5)\n",
        "\n",
        "# запускаем поиск гиперпараметров\n",
        "gs.fit(X_train, y_train)\n",
        "\n",
        "# считаем, сколько секунд прошло с начала запуска\n",
        "gs_search_time = time.time() - start"
      ]
    },
    {
      "cell_type": "code",
      "execution_count": null,
      "id": "e730e0c9",
      "metadata": {
        "id": "e730e0c9"
      },
      "outputs": [],
      "source": [
        "# Подбор гиперпараметров с помощью RandomizedSearchCV\n",
        "# запускаем таймер\n",
        "start = time.time()\n",
        "\n",
        "# Инициализируйте класс для случайного поиска:\n",
        "# значение кросс-валидации 5, метрика roc-auc и n_jobs=-1.\n",
        "rs = RandomizedSearchCV(model,gs_rs_parameters,scoring='roc_auc', cv=5,random_state=RANDOM_STATE)\n",
        "\n",
        "# запускаем поиск гиперпараметров\n",
        "rs.fit(X_train, y_train)\n",
        "\n",
        "# считаем, сколько секунд прошло с начала запуска\n",
        "rs_search_time = time.time() - start"
      ]
    },
    {
      "cell_type": "code",
      "execution_count": null,
      "id": "855ff9c0",
      "metadata": {
        "id": "855ff9c0",
        "outputId": "d3a663a2-8b55-4949-e47d-866bbb9f17c8",
        "colab": {
          "base_uri": "https://localhost:8080/"
        }
      },
      "outputs": [
        {
          "output_type": "stream",
          "name": "stderr",
          "text": [
            "[I 2024-05-18 07:44:01,699] A new study created in memory with name: no-name-fa586b36-a8a1-4ac4-aaa5-aed8360ea55e\n",
            "[I 2024-05-18 07:44:01,955] Trial 0 finished with value: 0.8906809953126423 and parameters: {'min_samples_split': 5, 'min_samples_leaf': 4, 'max_depth': 5}. Best is trial 0 with value: 0.8906809953126423.\n",
            "[I 2024-05-18 07:44:02,416] Trial 1 finished with value: 0.8558098334967937 and parameters: {'min_samples_split': 2, 'min_samples_leaf': 5, 'max_depth': 2}. Best is trial 0 with value: 0.8906809953126423.\n",
            "[I 2024-05-18 07:44:02,800] Trial 2 finished with value: 0.8859802900845214 and parameters: {'min_samples_split': 4, 'min_samples_leaf': 2, 'max_depth': 3}. Best is trial 0 with value: 0.8906809953126423.\n",
            "[I 2024-05-18 07:44:03,203] Trial 3 finished with value: 0.8906208178423863 and parameters: {'min_samples_split': 3, 'min_samples_leaf': 3, 'max_depth': 5}. Best is trial 0 with value: 0.8906809953126423.\n",
            "[I 2024-05-18 07:44:03,488] Trial 4 finished with value: 0.8859802900845214 and parameters: {'min_samples_split': 3, 'min_samples_leaf': 4, 'max_depth': 3}. Best is trial 0 with value: 0.8906809953126423.\n",
            "[I 2024-05-18 07:44:03,954] Trial 5 finished with value: 0.8859802900845214 and parameters: {'min_samples_split': 5, 'min_samples_leaf': 5, 'max_depth': 3}. Best is trial 0 with value: 0.8906809953126423.\n",
            "[I 2024-05-18 07:44:04,429] Trial 6 finished with value: 0.8947455152331315 and parameters: {'min_samples_split': 4, 'min_samples_leaf': 2, 'max_depth': 4}. Best is trial 6 with value: 0.8947455152331315.\n",
            "[I 2024-05-18 07:44:04,755] Trial 7 finished with value: 0.8558098334967937 and parameters: {'min_samples_split': 5, 'min_samples_leaf': 2, 'max_depth': 2}. Best is trial 6 with value: 0.8947455152331315.\n",
            "[I 2024-05-18 07:44:05,324] Trial 8 finished with value: 0.8947455152331315 and parameters: {'min_samples_split': 5, 'min_samples_leaf': 5, 'max_depth': 4}. Best is trial 6 with value: 0.8947455152331315.\n",
            "[I 2024-05-18 07:44:05,647] Trial 9 finished with value: 0.8859802900845214 and parameters: {'min_samples_split': 2, 'min_samples_leaf': 4, 'max_depth': 3}. Best is trial 6 with value: 0.8947455152331315.\n"
          ]
        }
      ],
      "source": [
        "# Подбор гиперпараметров с помощью OptunaSearchCV\n",
        "# запускаем таймер\n",
        "start = time.time()\n",
        "\n",
        "# Инициализируйте класс для байесовского поиска на 20 итераций:\n",
        "# значение кросс-валидации 5, метрика roc-auc\n",
        "oscv = OptunaSearchCV(model,oscv_parameters,scoring='roc_auc', cv=5,random_state=RANDOM_STATE\n",
        "\n",
        ")\n",
        "\n",
        "# запускаем поиск гиперпараметров\n",
        "oscv.fit(X_train, y_train)\n",
        "\n",
        "# считаем, сколько секунд прошло с начала запуска\n",
        "oscv_search_time = time.time() - start"
      ]
    },
    {
      "cell_type": "code",
      "execution_count": null,
      "id": "ae3424ed",
      "metadata": {
        "colab": {
          "base_uri": "https://localhost:8080/",
          "height": 143
        },
        "id": "ae3424ed",
        "outputId": "c64cbd30-804c-4ab5-8ef6-3f45ff0b22ea"
      },
      "outputs": [
        {
          "output_type": "execute_result",
          "data": {
            "text/plain": [
              "                    best_score_  \\\n",
              "GridSearchCV           0.894746   \n",
              "RandomizedSearchCV     0.894746   \n",
              "OptunaSearchCV         0.894746   \n",
              "\n",
              "                                                                       best_params_  \\\n",
              "GridSearchCV        {'max_depth': 4, 'min_samples_leaf': 1, 'min_samples_split': 2}   \n",
              "RandomizedSearchCV  {'min_samples_split': 3, 'min_samples_leaf': 2, 'max_depth': 4}   \n",
              "OptunaSearchCV      {'min_samples_split': 4, 'min_samples_leaf': 2, 'max_depth': 4}   \n",
              "\n",
              "                    Search time  \n",
              "GridSearchCV           9.912703  \n",
              "RandomizedSearchCV     1.131877  \n",
              "OptunaSearchCV         3.998428  "
            ],
            "text/html": [
              "\n",
              "  <div id=\"df-f2350dd5-42ce-4000-af1e-232aa4449a54\" class=\"colab-df-container\">\n",
              "    <div>\n",
              "<style scoped>\n",
              "    .dataframe tbody tr th:only-of-type {\n",
              "        vertical-align: middle;\n",
              "    }\n",
              "\n",
              "    .dataframe tbody tr th {\n",
              "        vertical-align: top;\n",
              "    }\n",
              "\n",
              "    .dataframe thead th {\n",
              "        text-align: right;\n",
              "    }\n",
              "</style>\n",
              "<table border=\"1\" class=\"dataframe\">\n",
              "  <thead>\n",
              "    <tr style=\"text-align: right;\">\n",
              "      <th></th>\n",
              "      <th>best_score_</th>\n",
              "      <th>best_params_</th>\n",
              "      <th>Search time</th>\n",
              "    </tr>\n",
              "  </thead>\n",
              "  <tbody>\n",
              "    <tr>\n",
              "      <th>GridSearchCV</th>\n",
              "      <td>0.894746</td>\n",
              "      <td>{'max_depth': 4, 'min_samples_leaf': 1, 'min_samples_split': 2}</td>\n",
              "      <td>9.912703</td>\n",
              "    </tr>\n",
              "    <tr>\n",
              "      <th>RandomizedSearchCV</th>\n",
              "      <td>0.894746</td>\n",
              "      <td>{'min_samples_split': 3, 'min_samples_leaf': 2, 'max_depth': 4}</td>\n",
              "      <td>1.131877</td>\n",
              "    </tr>\n",
              "    <tr>\n",
              "      <th>OptunaSearchCV</th>\n",
              "      <td>0.894746</td>\n",
              "      <td>{'min_samples_split': 4, 'min_samples_leaf': 2, 'max_depth': 4}</td>\n",
              "      <td>3.998428</td>\n",
              "    </tr>\n",
              "  </tbody>\n",
              "</table>\n",
              "</div>\n",
              "    <div class=\"colab-df-buttons\">\n",
              "\n",
              "  <div class=\"colab-df-container\">\n",
              "    <button class=\"colab-df-convert\" onclick=\"convertToInteractive('df-f2350dd5-42ce-4000-af1e-232aa4449a54')\"\n",
              "            title=\"Convert this dataframe to an interactive table.\"\n",
              "            style=\"display:none;\">\n",
              "\n",
              "  <svg xmlns=\"http://www.w3.org/2000/svg\" height=\"24px\" viewBox=\"0 -960 960 960\">\n",
              "    <path d=\"M120-120v-720h720v720H120Zm60-500h600v-160H180v160Zm220 220h160v-160H400v160Zm0 220h160v-160H400v160ZM180-400h160v-160H180v160Zm440 0h160v-160H620v160ZM180-180h160v-160H180v160Zm440 0h160v-160H620v160Z\"/>\n",
              "  </svg>\n",
              "    </button>\n",
              "\n",
              "  <style>\n",
              "    .colab-df-container {\n",
              "      display:flex;\n",
              "      gap: 12px;\n",
              "    }\n",
              "\n",
              "    .colab-df-convert {\n",
              "      background-color: #E8F0FE;\n",
              "      border: none;\n",
              "      border-radius: 50%;\n",
              "      cursor: pointer;\n",
              "      display: none;\n",
              "      fill: #1967D2;\n",
              "      height: 32px;\n",
              "      padding: 0 0 0 0;\n",
              "      width: 32px;\n",
              "    }\n",
              "\n",
              "    .colab-df-convert:hover {\n",
              "      background-color: #E2EBFA;\n",
              "      box-shadow: 0px 1px 2px rgba(60, 64, 67, 0.3), 0px 1px 3px 1px rgba(60, 64, 67, 0.15);\n",
              "      fill: #174EA6;\n",
              "    }\n",
              "\n",
              "    .colab-df-buttons div {\n",
              "      margin-bottom: 4px;\n",
              "    }\n",
              "\n",
              "    [theme=dark] .colab-df-convert {\n",
              "      background-color: #3B4455;\n",
              "      fill: #D2E3FC;\n",
              "    }\n",
              "\n",
              "    [theme=dark] .colab-df-convert:hover {\n",
              "      background-color: #434B5C;\n",
              "      box-shadow: 0px 1px 3px 1px rgba(0, 0, 0, 0.15);\n",
              "      filter: drop-shadow(0px 1px 2px rgba(0, 0, 0, 0.3));\n",
              "      fill: #FFFFFF;\n",
              "    }\n",
              "  </style>\n",
              "\n",
              "    <script>\n",
              "      const buttonEl =\n",
              "        document.querySelector('#df-f2350dd5-42ce-4000-af1e-232aa4449a54 button.colab-df-convert');\n",
              "      buttonEl.style.display =\n",
              "        google.colab.kernel.accessAllowed ? 'block' : 'none';\n",
              "\n",
              "      async function convertToInteractive(key) {\n",
              "        const element = document.querySelector('#df-f2350dd5-42ce-4000-af1e-232aa4449a54');\n",
              "        const dataTable =\n",
              "          await google.colab.kernel.invokeFunction('convertToInteractive',\n",
              "                                                    [key], {});\n",
              "        if (!dataTable) return;\n",
              "\n",
              "        const docLinkHtml = 'Like what you see? Visit the ' +\n",
              "          '<a target=\"_blank\" href=https://colab.research.google.com/notebooks/data_table.ipynb>data table notebook</a>'\n",
              "          + ' to learn more about interactive tables.';\n",
              "        element.innerHTML = '';\n",
              "        dataTable['output_type'] = 'display_data';\n",
              "        await google.colab.output.renderOutput(dataTable, element);\n",
              "        const docLink = document.createElement('div');\n",
              "        docLink.innerHTML = docLinkHtml;\n",
              "        element.appendChild(docLink);\n",
              "      }\n",
              "    </script>\n",
              "  </div>\n",
              "\n",
              "\n",
              "<div id=\"df-89bb00e9-4a68-499a-89a6-3cc86068aa6c\">\n",
              "  <button class=\"colab-df-quickchart\" onclick=\"quickchart('df-89bb00e9-4a68-499a-89a6-3cc86068aa6c')\"\n",
              "            title=\"Suggest charts\"\n",
              "            style=\"display:none;\">\n",
              "\n",
              "<svg xmlns=\"http://www.w3.org/2000/svg\" height=\"24px\"viewBox=\"0 0 24 24\"\n",
              "     width=\"24px\">\n",
              "    <g>\n",
              "        <path d=\"M19 3H5c-1.1 0-2 .9-2 2v14c0 1.1.9 2 2 2h14c1.1 0 2-.9 2-2V5c0-1.1-.9-2-2-2zM9 17H7v-7h2v7zm4 0h-2V7h2v10zm4 0h-2v-4h2v4z\"/>\n",
              "    </g>\n",
              "</svg>\n",
              "  </button>\n",
              "\n",
              "<style>\n",
              "  .colab-df-quickchart {\n",
              "      --bg-color: #E8F0FE;\n",
              "      --fill-color: #1967D2;\n",
              "      --hover-bg-color: #E2EBFA;\n",
              "      --hover-fill-color: #174EA6;\n",
              "      --disabled-fill-color: #AAA;\n",
              "      --disabled-bg-color: #DDD;\n",
              "  }\n",
              "\n",
              "  [theme=dark] .colab-df-quickchart {\n",
              "      --bg-color: #3B4455;\n",
              "      --fill-color: #D2E3FC;\n",
              "      --hover-bg-color: #434B5C;\n",
              "      --hover-fill-color: #FFFFFF;\n",
              "      --disabled-bg-color: #3B4455;\n",
              "      --disabled-fill-color: #666;\n",
              "  }\n",
              "\n",
              "  .colab-df-quickchart {\n",
              "    background-color: var(--bg-color);\n",
              "    border: none;\n",
              "    border-radius: 50%;\n",
              "    cursor: pointer;\n",
              "    display: none;\n",
              "    fill: var(--fill-color);\n",
              "    height: 32px;\n",
              "    padding: 0;\n",
              "    width: 32px;\n",
              "  }\n",
              "\n",
              "  .colab-df-quickchart:hover {\n",
              "    background-color: var(--hover-bg-color);\n",
              "    box-shadow: 0 1px 2px rgba(60, 64, 67, 0.3), 0 1px 3px 1px rgba(60, 64, 67, 0.15);\n",
              "    fill: var(--button-hover-fill-color);\n",
              "  }\n",
              "\n",
              "  .colab-df-quickchart-complete:disabled,\n",
              "  .colab-df-quickchart-complete:disabled:hover {\n",
              "    background-color: var(--disabled-bg-color);\n",
              "    fill: var(--disabled-fill-color);\n",
              "    box-shadow: none;\n",
              "  }\n",
              "\n",
              "  .colab-df-spinner {\n",
              "    border: 2px solid var(--fill-color);\n",
              "    border-color: transparent;\n",
              "    border-bottom-color: var(--fill-color);\n",
              "    animation:\n",
              "      spin 1s steps(1) infinite;\n",
              "  }\n",
              "\n",
              "  @keyframes spin {\n",
              "    0% {\n",
              "      border-color: transparent;\n",
              "      border-bottom-color: var(--fill-color);\n",
              "      border-left-color: var(--fill-color);\n",
              "    }\n",
              "    20% {\n",
              "      border-color: transparent;\n",
              "      border-left-color: var(--fill-color);\n",
              "      border-top-color: var(--fill-color);\n",
              "    }\n",
              "    30% {\n",
              "      border-color: transparent;\n",
              "      border-left-color: var(--fill-color);\n",
              "      border-top-color: var(--fill-color);\n",
              "      border-right-color: var(--fill-color);\n",
              "    }\n",
              "    40% {\n",
              "      border-color: transparent;\n",
              "      border-right-color: var(--fill-color);\n",
              "      border-top-color: var(--fill-color);\n",
              "    }\n",
              "    60% {\n",
              "      border-color: transparent;\n",
              "      border-right-color: var(--fill-color);\n",
              "    }\n",
              "    80% {\n",
              "      border-color: transparent;\n",
              "      border-right-color: var(--fill-color);\n",
              "      border-bottom-color: var(--fill-color);\n",
              "    }\n",
              "    90% {\n",
              "      border-color: transparent;\n",
              "      border-bottom-color: var(--fill-color);\n",
              "    }\n",
              "  }\n",
              "</style>\n",
              "\n",
              "  <script>\n",
              "    async function quickchart(key) {\n",
              "      const quickchartButtonEl =\n",
              "        document.querySelector('#' + key + ' button');\n",
              "      quickchartButtonEl.disabled = true;  // To prevent multiple clicks.\n",
              "      quickchartButtonEl.classList.add('colab-df-spinner');\n",
              "      try {\n",
              "        const charts = await google.colab.kernel.invokeFunction(\n",
              "            'suggestCharts', [key], {});\n",
              "      } catch (error) {\n",
              "        console.error('Error during call to suggestCharts:', error);\n",
              "      }\n",
              "      quickchartButtonEl.classList.remove('colab-df-spinner');\n",
              "      quickchartButtonEl.classList.add('colab-df-quickchart-complete');\n",
              "    }\n",
              "    (() => {\n",
              "      let quickchartButtonEl =\n",
              "        document.querySelector('#df-89bb00e9-4a68-499a-89a6-3cc86068aa6c button');\n",
              "      quickchartButtonEl.style.display =\n",
              "        google.colab.kernel.accessAllowed ? 'block' : 'none';\n",
              "    })();\n",
              "  </script>\n",
              "</div>\n",
              "    </div>\n",
              "  </div>\n"
            ],
            "application/vnd.google.colaboratory.intrinsic+json": {
              "type": "dataframe",
              "variable_name": "result",
              "summary": "{\n  \"name\": \"result\",\n  \"rows\": 3,\n  \"fields\": [\n    {\n      \"column\": \"best_score_\",\n      \"properties\": {\n        \"dtype\": \"number\",\n        \"std\": 0.0,\n        \"min\": 0.8947455152331315,\n        \"max\": 0.8947455152331315,\n        \"num_unique_values\": 1,\n        \"samples\": [\n          0.8947455152331315\n        ],\n        \"semantic_type\": \"\",\n        \"description\": \"\"\n      }\n    },\n    {\n      \"column\": \"best_params_\",\n      \"properties\": {\n        \"dtype\": \"object\",\n        \"semantic_type\": \"\",\n        \"description\": \"\"\n      }\n    },\n    {\n      \"column\": \"Search time\",\n      \"properties\": {\n        \"dtype\": \"number\",\n        \"std\": 4.477697422563051,\n        \"min\": 1.1318774223327637,\n        \"max\": 9.912702560424805,\n        \"num_unique_values\": 3,\n        \"samples\": [\n          9.912702560424805\n        ],\n        \"semantic_type\": \"\",\n        \"description\": \"\"\n      }\n    }\n  ]\n}"
            }
          },
          "metadata": {},
          "execution_count": 48
        }
      ],
      "source": [
        "# объединяем результаты в одну таблицу\n",
        "result = pd.DataFrame([\n",
        "    [gs.best_score_, gs.best_params_, gs_search_time],\n",
        "    [rs.best_score_, rs.best_params_, rs_search_time],\n",
        "    [oscv.best_score_, oscv.best_params_, oscv_search_time]\n",
        "])\n",
        "result.index = ['GridSearchCV', 'RandomizedSearchCV', 'OptunaSearchCV']\n",
        "result.columns = ['best_score_', 'best_params_', 'Search time']\n",
        "result"
      ]
    },
    {
      "cell_type": "markdown",
      "id": "e2db8747",
      "metadata": {
        "id": "e2db8747"
      },
      "source": [
        "Теперь результаты трёх способов как на ладони. Лучшая метрика у всех одинаковая, а гиперпараметры немного различаются. Время поиска различается больше всего: победитель здесь — случайный поиск, за ним байесовская оптимизация, а замыкает тройку — поиск по сетке.\n",
        "\n",
        "Среди способов не хватает ручного перебора через циклы — его вы тоже практиковали. Такой поиск занял бы ещё больше времени, чем поиск по сетке, так что лучше обойтись без циклов."
      ]
    },
    {
      "cell_type": "code",
      "execution_count": null,
      "id": "921bbb72",
      "metadata": {
        "id": "921bbb72"
      },
      "outputs": [],
      "source": []
    }
  ],
  "metadata": {
    "kernelspec": {
      "display_name": "Python 3 (ipykernel)",
      "language": "python",
      "name": "python3"
    },
    "language_info": {
      "codemirror_mode": {
        "name": "ipython",
        "version": 3
      },
      "file_extension": ".py",
      "mimetype": "text/x-python",
      "name": "python",
      "nbconvert_exporter": "python",
      "pygments_lexer": "ipython3",
      "version": "3.9.12"
    },
    "toc": {
      "base_numbering": 1,
      "nav_menu": {},
      "number_sections": true,
      "sideBar": true,
      "skip_h1_title": true,
      "title_cell": "Table of Contents",
      "title_sidebar": "Contents",
      "toc_cell": true,
      "toc_position": {},
      "toc_section_display": true,
      "toc_window_display": false
    },
    "colab": {
      "provenance": []
    }
  },
  "nbformat": 4,
  "nbformat_minor": 5
}