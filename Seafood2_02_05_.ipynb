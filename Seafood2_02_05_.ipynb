{
  "cells": [
    {
      "cell_type": "markdown",
      "id": "11298d33",
      "metadata": {
        "id": "11298d33",
        "toc": true
      },
      "source": [
        "<h1>Table of Contents<span class=\"tocSkip\"></span></h1>\n",
        "<div class=\"toc\"><ul class=\"toc-item\"><li><span><a href=\"#Подготовка-данных\" data-toc-modified-id=\"Подготовка-данных-1\"><span class=\"toc-item-num\">1&nbsp;&nbsp;</span>Подготовка данных</a></span></li><li><span><a href=\"#Логистическая-регрессия\" data-toc-modified-id=\"Логистическая-регрессия-2\"><span class=\"toc-item-num\">2&nbsp;&nbsp;</span>Логистическая регрессия</a></span></li><li><span><a href=\"#SVC\" data-toc-modified-id=\"SVC-3\"><span class=\"toc-item-num\">3&nbsp;&nbsp;</span>SVC</a></span></li><li><span><a href=\"#Дерево-решений\" data-toc-modified-id=\"Дерево-решений-4\"><span class=\"toc-item-num\">4&nbsp;&nbsp;</span>Дерево решений</a></span></li><li><span><a href=\"#Корреляция-между-метриками-и-сэкономленными-деньгами\" data-toc-modified-id=\"Корреляция-между-метриками-и-сэкономленными-деньгами-5\"><span class=\"toc-item-num\">5&nbsp;&nbsp;</span>Корреляция между метриками и сэкономленными деньгами</a></span></li><li><span><a href=\"#Выводы\" data-toc-modified-id=\"Выводы-6\"><span class=\"toc-item-num\">6&nbsp;&nbsp;</span>Выводы</a></span></li></ul></div>"
      ]
    },
    {
      "cell_type": "markdown",
      "id": "212f169b",
      "metadata": {
        "id": "212f169b"
      },
      "source": [
        "Компания «Морские гады» доставляет корпоративным клиентам блюда из морепродуктов. На прибыль сильно влияет отмена заказов, потому что их не оплачивают, а товар приходится выбрасывать. Морепродукты нельзя замораживать повторно, иначе портится вкус. Менеджмент задумал отбивать себестоимость и ввести предоплату, но для этого необходима модель, которая будет предсказывать отмену заказов.\n",
        "\n",
        "Менеджмент задумал отбивать себестоимость и ввести предоплату, но осторожно. Опыт показывает, что эта мера отпугивает 20% клиентов. Решено запрашивать предоплату 70% в тех случаях, когда есть явный риск отмены заказа. Вам нужно научиться предсказывать такие случаи. При этом важно сэкономить больше 850 тыс. рублей, чтобы окупить затраты на новое решение.\n",
        "\n",
        "«Морские гады» предоставили датасет за последние несколько месяцев. Владелец данных предупредил:\n",
        "\n",
        "Бизнес небольшой, поэтому информации мало.\n",
        "Клиенты и заказы бывают разные. Нужна модель, которая сможет делать предсказания для любых случаев.\n",
        "\n",
        "Такие вводные означают, что нужно учесть все данные. Удалять нетипичные объекты из признакового описания нельзя."
      ]
    },
    {
      "cell_type": "markdown",
      "id": "f20124df",
      "metadata": {
        "id": "f20124df"
      },
      "source": [
        "А вот и новая информация о клиентах «Морских вкуснях» и их заказах. У нас появилась выборка с обновленными данными о заказах. Изучите данные файла `orders_seafood_new.csv`."
      ]
    },
    {
      "cell_type": "markdown",
      "id": "45b1209b",
      "metadata": {
        "id": "45b1209b"
      },
      "source": [
        "Напомним описание признаков заказчика:\n",
        "\n",
        "* `client_id` — идентификатор клиента;\n",
        "* `reject_count` — количество отменённых заказов за всю историю;\n",
        "* `confirm_count` — количество подтверждённых заказов;\n",
        "* `last_summ` — сумма, полученная от клиента за всю историю;\n",
        "* `summ_`— стоимость последнего заказа клиента;\n",
        "* `count_position` — число позиций в последнем заказе;\n",
        "* `target` — заказ отменён (1), заказ подтверждён (0).\n"
      ]
    },
    {
      "cell_type": "markdown",
      "id": "bb713130",
      "metadata": {
        "id": "bb713130"
      },
      "source": [
        "## Подготовка данных"
      ]
    },
    {
      "cell_type": "code",
      "execution_count": null,
      "id": "e80e5c5c",
      "metadata": {
        "id": "e80e5c5c"
      },
      "outputs": [],
      "source": [
        "# Загрузим необходимые библиотеки\n",
        "import pandas as pd  #Основной инструмент аналитика — `pandas`.\n",
        "import numpy as np\n",
        "import seaborn as sns\n",
        "import matplotlib.pyplot as plt\n",
        "from scipy.stats import pearsonr\n",
        "\n",
        "from sklearn.model_selection import train_test_split\n",
        "from sklearn.preprocessing import StandardScaler, PolynomialFeatures\n",
        "from sklearn.feature_selection import SelectKBest, f_classif, mutual_info_classif\n",
        "\n",
        "# Загрузим необходимые модели для классификации и метрики качества\n",
        "from sklearn.linear_model import LogisticRegression\n",
        "from sklearn.neighbors import KNeighborsClassifier\n",
        "from sklearn.svm import SVC\n",
        "from sklearn.tree import DecisionTreeClassifier\n",
        "\n",
        "\n",
        "from sklearn import metrics\n",
        "from sklearn.metrics import accuracy_score, f1_score, roc_auc_score\n",
        "\n",
        "\n",
        "\n",
        "import warnings\n",
        "warnings.filterwarnings('ignore')\n",
        "\n",
        "RANDOM_STATE = 123"
      ]
    },
    {
      "cell_type": "code",
      "execution_count": null,
      "id": "9569e402",
      "metadata": {
        "id": "9569e402",
        "colab": {
          "base_uri": "https://localhost:8080/"
        },
        "outputId": "82d49567-7753-4b3f-8972-b06afb41e818"
      },
      "outputs": [
        {
          "output_type": "stream",
          "name": "stdout",
          "text": [
            "Mounted at /content/drive\n"
          ]
        }
      ],
      "source": [
        "# Прочитаем файл с данными в переменную df и изучим их\n",
        "try:\n",
        "    from google.colab import drive\n",
        "    drive.mount('/content/drive')\n",
        "    df = pd.read_csv('/content/drive/My Drive/orders_seafood.csv')\n",
        "    df_new = pd.read_csv('/content/drive/My Drive/orders_seafood_new.csv')\n",
        "except:\n",
        "    df = pd.read_csv('orders_seafood.csv')\n",
        "    df_new = pd.read_csv('orders_seafood_new.csv')"
      ]
    },
    {
      "cell_type": "code",
      "execution_count": null,
      "id": "8e097c37",
      "metadata": {
        "id": "8e097c37",
        "colab": {
          "base_uri": "https://localhost:8080/",
          "height": 206
        },
        "outputId": "cd799e09-1d44-407d-e05e-d472f2e5b0f2"
      },
      "outputs": [
        {
          "output_type": "execute_result",
          "data": {
            "text/plain": [
              "   client_id  reject_count  confirm_count  last_summ    summ_  count_position  \\\n",
              "0     180224             8            173   136444.7  18747.0              11   \n",
              "1     118790             6             10    50043.7  26028.1              16   \n",
              "2     143366             7             17   190715.9  32471.4              19   \n",
              "3     135176             5             23   140677.7  39759.9              18   \n",
              "4     135175             2             19    92773.0  17608.3              10   \n",
              "\n",
              "   target  \n",
              "0       0  \n",
              "1       1  \n",
              "2       1  \n",
              "3       1  \n",
              "4       1  "
            ],
            "text/html": [
              "\n",
              "  <div id=\"df-68d42475-0dd4-4131-9372-e32e05a8f9f6\" class=\"colab-df-container\">\n",
              "    <div>\n",
              "<style scoped>\n",
              "    .dataframe tbody tr th:only-of-type {\n",
              "        vertical-align: middle;\n",
              "    }\n",
              "\n",
              "    .dataframe tbody tr th {\n",
              "        vertical-align: top;\n",
              "    }\n",
              "\n",
              "    .dataframe thead th {\n",
              "        text-align: right;\n",
              "    }\n",
              "</style>\n",
              "<table border=\"1\" class=\"dataframe\">\n",
              "  <thead>\n",
              "    <tr style=\"text-align: right;\">\n",
              "      <th></th>\n",
              "      <th>client_id</th>\n",
              "      <th>reject_count</th>\n",
              "      <th>confirm_count</th>\n",
              "      <th>last_summ</th>\n",
              "      <th>summ_</th>\n",
              "      <th>count_position</th>\n",
              "      <th>target</th>\n",
              "    </tr>\n",
              "  </thead>\n",
              "  <tbody>\n",
              "    <tr>\n",
              "      <th>0</th>\n",
              "      <td>180224</td>\n",
              "      <td>8</td>\n",
              "      <td>173</td>\n",
              "      <td>136444.7</td>\n",
              "      <td>18747.0</td>\n",
              "      <td>11</td>\n",
              "      <td>0</td>\n",
              "    </tr>\n",
              "    <tr>\n",
              "      <th>1</th>\n",
              "      <td>118790</td>\n",
              "      <td>6</td>\n",
              "      <td>10</td>\n",
              "      <td>50043.7</td>\n",
              "      <td>26028.1</td>\n",
              "      <td>16</td>\n",
              "      <td>1</td>\n",
              "    </tr>\n",
              "    <tr>\n",
              "      <th>2</th>\n",
              "      <td>143366</td>\n",
              "      <td>7</td>\n",
              "      <td>17</td>\n",
              "      <td>190715.9</td>\n",
              "      <td>32471.4</td>\n",
              "      <td>19</td>\n",
              "      <td>1</td>\n",
              "    </tr>\n",
              "    <tr>\n",
              "      <th>3</th>\n",
              "      <td>135176</td>\n",
              "      <td>5</td>\n",
              "      <td>23</td>\n",
              "      <td>140677.7</td>\n",
              "      <td>39759.9</td>\n",
              "      <td>18</td>\n",
              "      <td>1</td>\n",
              "    </tr>\n",
              "    <tr>\n",
              "      <th>4</th>\n",
              "      <td>135175</td>\n",
              "      <td>2</td>\n",
              "      <td>19</td>\n",
              "      <td>92773.0</td>\n",
              "      <td>17608.3</td>\n",
              "      <td>10</td>\n",
              "      <td>1</td>\n",
              "    </tr>\n",
              "  </tbody>\n",
              "</table>\n",
              "</div>\n",
              "    <div class=\"colab-df-buttons\">\n",
              "\n",
              "  <div class=\"colab-df-container\">\n",
              "    <button class=\"colab-df-convert\" onclick=\"convertToInteractive('df-68d42475-0dd4-4131-9372-e32e05a8f9f6')\"\n",
              "            title=\"Convert this dataframe to an interactive table.\"\n",
              "            style=\"display:none;\">\n",
              "\n",
              "  <svg xmlns=\"http://www.w3.org/2000/svg\" height=\"24px\" viewBox=\"0 -960 960 960\">\n",
              "    <path d=\"M120-120v-720h720v720H120Zm60-500h600v-160H180v160Zm220 220h160v-160H400v160Zm0 220h160v-160H400v160ZM180-400h160v-160H180v160Zm440 0h160v-160H620v160ZM180-180h160v-160H180v160Zm440 0h160v-160H620v160Z\"/>\n",
              "  </svg>\n",
              "    </button>\n",
              "\n",
              "  <style>\n",
              "    .colab-df-container {\n",
              "      display:flex;\n",
              "      gap: 12px;\n",
              "    }\n",
              "\n",
              "    .colab-df-convert {\n",
              "      background-color: #E8F0FE;\n",
              "      border: none;\n",
              "      border-radius: 50%;\n",
              "      cursor: pointer;\n",
              "      display: none;\n",
              "      fill: #1967D2;\n",
              "      height: 32px;\n",
              "      padding: 0 0 0 0;\n",
              "      width: 32px;\n",
              "    }\n",
              "\n",
              "    .colab-df-convert:hover {\n",
              "      background-color: #E2EBFA;\n",
              "      box-shadow: 0px 1px 2px rgba(60, 64, 67, 0.3), 0px 1px 3px 1px rgba(60, 64, 67, 0.15);\n",
              "      fill: #174EA6;\n",
              "    }\n",
              "\n",
              "    .colab-df-buttons div {\n",
              "      margin-bottom: 4px;\n",
              "    }\n",
              "\n",
              "    [theme=dark] .colab-df-convert {\n",
              "      background-color: #3B4455;\n",
              "      fill: #D2E3FC;\n",
              "    }\n",
              "\n",
              "    [theme=dark] .colab-df-convert:hover {\n",
              "      background-color: #434B5C;\n",
              "      box-shadow: 0px 1px 3px 1px rgba(0, 0, 0, 0.15);\n",
              "      filter: drop-shadow(0px 1px 2px rgba(0, 0, 0, 0.3));\n",
              "      fill: #FFFFFF;\n",
              "    }\n",
              "  </style>\n",
              "\n",
              "    <script>\n",
              "      const buttonEl =\n",
              "        document.querySelector('#df-68d42475-0dd4-4131-9372-e32e05a8f9f6 button.colab-df-convert');\n",
              "      buttonEl.style.display =\n",
              "        google.colab.kernel.accessAllowed ? 'block' : 'none';\n",
              "\n",
              "      async function convertToInteractive(key) {\n",
              "        const element = document.querySelector('#df-68d42475-0dd4-4131-9372-e32e05a8f9f6');\n",
              "        const dataTable =\n",
              "          await google.colab.kernel.invokeFunction('convertToInteractive',\n",
              "                                                    [key], {});\n",
              "        if (!dataTable) return;\n",
              "\n",
              "        const docLinkHtml = 'Like what you see? Visit the ' +\n",
              "          '<a target=\"_blank\" href=https://colab.research.google.com/notebooks/data_table.ipynb>data table notebook</a>'\n",
              "          + ' to learn more about interactive tables.';\n",
              "        element.innerHTML = '';\n",
              "        dataTable['output_type'] = 'display_data';\n",
              "        await google.colab.output.renderOutput(dataTable, element);\n",
              "        const docLink = document.createElement('div');\n",
              "        docLink.innerHTML = docLinkHtml;\n",
              "        element.appendChild(docLink);\n",
              "      }\n",
              "    </script>\n",
              "  </div>\n",
              "\n",
              "\n",
              "<div id=\"df-868c65d4-0c2f-44b0-95f3-3a2ab175db00\">\n",
              "  <button class=\"colab-df-quickchart\" onclick=\"quickchart('df-868c65d4-0c2f-44b0-95f3-3a2ab175db00')\"\n",
              "            title=\"Suggest charts\"\n",
              "            style=\"display:none;\">\n",
              "\n",
              "<svg xmlns=\"http://www.w3.org/2000/svg\" height=\"24px\"viewBox=\"0 0 24 24\"\n",
              "     width=\"24px\">\n",
              "    <g>\n",
              "        <path d=\"M19 3H5c-1.1 0-2 .9-2 2v14c0 1.1.9 2 2 2h14c1.1 0 2-.9 2-2V5c0-1.1-.9-2-2-2zM9 17H7v-7h2v7zm4 0h-2V7h2v10zm4 0h-2v-4h2v4z\"/>\n",
              "    </g>\n",
              "</svg>\n",
              "  </button>\n",
              "\n",
              "<style>\n",
              "  .colab-df-quickchart {\n",
              "      --bg-color: #E8F0FE;\n",
              "      --fill-color: #1967D2;\n",
              "      --hover-bg-color: #E2EBFA;\n",
              "      --hover-fill-color: #174EA6;\n",
              "      --disabled-fill-color: #AAA;\n",
              "      --disabled-bg-color: #DDD;\n",
              "  }\n",
              "\n",
              "  [theme=dark] .colab-df-quickchart {\n",
              "      --bg-color: #3B4455;\n",
              "      --fill-color: #D2E3FC;\n",
              "      --hover-bg-color: #434B5C;\n",
              "      --hover-fill-color: #FFFFFF;\n",
              "      --disabled-bg-color: #3B4455;\n",
              "      --disabled-fill-color: #666;\n",
              "  }\n",
              "\n",
              "  .colab-df-quickchart {\n",
              "    background-color: var(--bg-color);\n",
              "    border: none;\n",
              "    border-radius: 50%;\n",
              "    cursor: pointer;\n",
              "    display: none;\n",
              "    fill: var(--fill-color);\n",
              "    height: 32px;\n",
              "    padding: 0;\n",
              "    width: 32px;\n",
              "  }\n",
              "\n",
              "  .colab-df-quickchart:hover {\n",
              "    background-color: var(--hover-bg-color);\n",
              "    box-shadow: 0 1px 2px rgba(60, 64, 67, 0.3), 0 1px 3px 1px rgba(60, 64, 67, 0.15);\n",
              "    fill: var(--button-hover-fill-color);\n",
              "  }\n",
              "\n",
              "  .colab-df-quickchart-complete:disabled,\n",
              "  .colab-df-quickchart-complete:disabled:hover {\n",
              "    background-color: var(--disabled-bg-color);\n",
              "    fill: var(--disabled-fill-color);\n",
              "    box-shadow: none;\n",
              "  }\n",
              "\n",
              "  .colab-df-spinner {\n",
              "    border: 2px solid var(--fill-color);\n",
              "    border-color: transparent;\n",
              "    border-bottom-color: var(--fill-color);\n",
              "    animation:\n",
              "      spin 1s steps(1) infinite;\n",
              "  }\n",
              "\n",
              "  @keyframes spin {\n",
              "    0% {\n",
              "      border-color: transparent;\n",
              "      border-bottom-color: var(--fill-color);\n",
              "      border-left-color: var(--fill-color);\n",
              "    }\n",
              "    20% {\n",
              "      border-color: transparent;\n",
              "      border-left-color: var(--fill-color);\n",
              "      border-top-color: var(--fill-color);\n",
              "    }\n",
              "    30% {\n",
              "      border-color: transparent;\n",
              "      border-left-color: var(--fill-color);\n",
              "      border-top-color: var(--fill-color);\n",
              "      border-right-color: var(--fill-color);\n",
              "    }\n",
              "    40% {\n",
              "      border-color: transparent;\n",
              "      border-right-color: var(--fill-color);\n",
              "      border-top-color: var(--fill-color);\n",
              "    }\n",
              "    60% {\n",
              "      border-color: transparent;\n",
              "      border-right-color: var(--fill-color);\n",
              "    }\n",
              "    80% {\n",
              "      border-color: transparent;\n",
              "      border-right-color: var(--fill-color);\n",
              "      border-bottom-color: var(--fill-color);\n",
              "    }\n",
              "    90% {\n",
              "      border-color: transparent;\n",
              "      border-bottom-color: var(--fill-color);\n",
              "    }\n",
              "  }\n",
              "</style>\n",
              "\n",
              "  <script>\n",
              "    async function quickchart(key) {\n",
              "      const quickchartButtonEl =\n",
              "        document.querySelector('#' + key + ' button');\n",
              "      quickchartButtonEl.disabled = true;  // To prevent multiple clicks.\n",
              "      quickchartButtonEl.classList.add('colab-df-spinner');\n",
              "      try {\n",
              "        const charts = await google.colab.kernel.invokeFunction(\n",
              "            'suggestCharts', [key], {});\n",
              "      } catch (error) {\n",
              "        console.error('Error during call to suggestCharts:', error);\n",
              "      }\n",
              "      quickchartButtonEl.classList.remove('colab-df-spinner');\n",
              "      quickchartButtonEl.classList.add('colab-df-quickchart-complete');\n",
              "    }\n",
              "    (() => {\n",
              "      let quickchartButtonEl =\n",
              "        document.querySelector('#df-868c65d4-0c2f-44b0-95f3-3a2ab175db00 button');\n",
              "      quickchartButtonEl.style.display =\n",
              "        google.colab.kernel.accessAllowed ? 'block' : 'none';\n",
              "    })();\n",
              "  </script>\n",
              "</div>\n",
              "    </div>\n",
              "  </div>\n"
            ],
            "application/vnd.google.colaboratory.intrinsic+json": {
              "type": "dataframe",
              "variable_name": "df_new",
              "summary": "{\n  \"name\": \"df_new\",\n  \"rows\": 550,\n  \"fields\": [\n    {\n      \"column\": \"client_id\",\n      \"properties\": {\n        \"dtype\": \"number\",\n        \"std\": 28835,\n        \"min\": 102602,\n        \"max\": 201451,\n        \"num_unique_values\": 550,\n        \"samples\": [\n          196912,\n          172151,\n          174900\n        ],\n        \"semantic_type\": \"\",\n        \"description\": \"\"\n      }\n    },\n    {\n      \"column\": \"reject_count\",\n      \"properties\": {\n        \"dtype\": \"number\",\n        \"std\": 4,\n        \"min\": 0,\n        \"max\": 21,\n        \"num_unique_values\": 21,\n        \"samples\": [\n          8,\n          16,\n          14\n        ],\n        \"semantic_type\": \"\",\n        \"description\": \"\"\n      }\n    },\n    {\n      \"column\": \"confirm_count\",\n      \"properties\": {\n        \"dtype\": \"number\",\n        \"std\": 40,\n        \"min\": 6,\n        \"max\": 198,\n        \"num_unique_values\": 82,\n        \"samples\": [\n          56,\n          173,\n          57\n        ],\n        \"semantic_type\": \"\",\n        \"description\": \"\"\n      }\n    },\n    {\n      \"column\": \"last_summ\",\n      \"properties\": {\n        \"dtype\": \"number\",\n        \"std\": 33906.23678294843,\n        \"min\": 30431.2,\n        \"max\": 219305.0,\n        \"num_unique_values\": 550,\n        \"samples\": [\n          152836.1,\n          106988.3,\n          130196.9\n        ],\n        \"semantic_type\": \"\",\n        \"description\": \"\"\n      }\n    },\n    {\n      \"column\": \"summ_\",\n      \"properties\": {\n        \"dtype\": \"number\",\n        \"std\": 8875.699405954314,\n        \"min\": 1391.7,\n        \"max\": 49446.7,\n        \"num_unique_values\": 549,\n        \"samples\": [\n          3285.5,\n          18728.4,\n          6850.6\n        ],\n        \"semantic_type\": \"\",\n        \"description\": \"\"\n      }\n    },\n    {\n      \"column\": \"count_position\",\n      \"properties\": {\n        \"dtype\": \"number\",\n        \"std\": 5,\n        \"min\": 1,\n        \"max\": 28,\n        \"num_unique_values\": 25,\n        \"samples\": [\n          20,\n          23,\n          11\n        ],\n        \"semantic_type\": \"\",\n        \"description\": \"\"\n      }\n    },\n    {\n      \"column\": \"target\",\n      \"properties\": {\n        \"dtype\": \"number\",\n        \"std\": 0,\n        \"min\": 0,\n        \"max\": 1,\n        \"num_unique_values\": 2,\n        \"samples\": [\n          1,\n          0\n        ],\n        \"semantic_type\": \"\",\n        \"description\": \"\"\n      }\n    }\n  ]\n}"
            }
          },
          "metadata": {},
          "execution_count": 3
        }
      ],
      "source": [
        "# первые 5 строк нового датасета\n",
        "df_new.head()"
      ]
    },
    {
      "cell_type": "markdown",
      "id": "95c178bb",
      "metadata": {
        "id": "95c178bb"
      },
      "source": [
        "Посмотрим, сильно ли отличаются друг от друга новые и старые данные. Изучим описательную статистику каждого датасета методом `describe()`:"
      ]
    },
    {
      "cell_type": "code",
      "execution_count": null,
      "id": "cd5af87b",
      "metadata": {
        "id": "cd5af87b",
        "colab": {
          "base_uri": "https://localhost:8080/",
          "height": 300
        },
        "outputId": "3faba24a-d402-4a04-91c1-c4d1c0f34d6f"
      },
      "outputs": [
        {
          "output_type": "execute_result",
          "data": {
            "text/plain": [
              "          client_id  reject_count  confirm_count      last_summ         summ_  \\\n",
              "count    750.000000    750.000000     750.000000     750.000000    750.000000   \n",
              "mean    8911.952000     20.524000      43.281333  117236.968533  13642.938933   \n",
              "std     6815.642179      6.190896      55.671117   33535.611602  11264.546470   \n",
              "min       25.000000      5.000000       5.000000   32896.400000   1460.100000   \n",
              "25%     1030.250000     16.000000      14.000000   98092.800000   5028.400000   \n",
              "50%     8928.000000     21.000000      17.000000  120045.100000   8134.700000   \n",
              "75%    16768.000000     25.000000      24.750000  142483.850000  22788.950000   \n",
              "max    17776.000000     39.000000     204.000000  191564.800000  69465.900000   \n",
              "\n",
              "       count_position      target  \n",
              "count      750.000000  750.000000  \n",
              "mean         8.010667    0.700000  \n",
              "std          6.231184    0.458563  \n",
              "min          1.000000    0.000000  \n",
              "25%          3.000000    0.000000  \n",
              "50%          5.000000    1.000000  \n",
              "75%         13.000000    1.000000  \n",
              "max         30.000000    1.000000  "
            ],
            "text/html": [
              "\n",
              "  <div id=\"df-5789dc8e-4a2e-4c61-ab0b-abdf7e5a0341\" class=\"colab-df-container\">\n",
              "    <div>\n",
              "<style scoped>\n",
              "    .dataframe tbody tr th:only-of-type {\n",
              "        vertical-align: middle;\n",
              "    }\n",
              "\n",
              "    .dataframe tbody tr th {\n",
              "        vertical-align: top;\n",
              "    }\n",
              "\n",
              "    .dataframe thead th {\n",
              "        text-align: right;\n",
              "    }\n",
              "</style>\n",
              "<table border=\"1\" class=\"dataframe\">\n",
              "  <thead>\n",
              "    <tr style=\"text-align: right;\">\n",
              "      <th></th>\n",
              "      <th>client_id</th>\n",
              "      <th>reject_count</th>\n",
              "      <th>confirm_count</th>\n",
              "      <th>last_summ</th>\n",
              "      <th>summ_</th>\n",
              "      <th>count_position</th>\n",
              "      <th>target</th>\n",
              "    </tr>\n",
              "  </thead>\n",
              "  <tbody>\n",
              "    <tr>\n",
              "      <th>count</th>\n",
              "      <td>750.000000</td>\n",
              "      <td>750.000000</td>\n",
              "      <td>750.000000</td>\n",
              "      <td>750.000000</td>\n",
              "      <td>750.000000</td>\n",
              "      <td>750.000000</td>\n",
              "      <td>750.000000</td>\n",
              "    </tr>\n",
              "    <tr>\n",
              "      <th>mean</th>\n",
              "      <td>8911.952000</td>\n",
              "      <td>20.524000</td>\n",
              "      <td>43.281333</td>\n",
              "      <td>117236.968533</td>\n",
              "      <td>13642.938933</td>\n",
              "      <td>8.010667</td>\n",
              "      <td>0.700000</td>\n",
              "    </tr>\n",
              "    <tr>\n",
              "      <th>std</th>\n",
              "      <td>6815.642179</td>\n",
              "      <td>6.190896</td>\n",
              "      <td>55.671117</td>\n",
              "      <td>33535.611602</td>\n",
              "      <td>11264.546470</td>\n",
              "      <td>6.231184</td>\n",
              "      <td>0.458563</td>\n",
              "    </tr>\n",
              "    <tr>\n",
              "      <th>min</th>\n",
              "      <td>25.000000</td>\n",
              "      <td>5.000000</td>\n",
              "      <td>5.000000</td>\n",
              "      <td>32896.400000</td>\n",
              "      <td>1460.100000</td>\n",
              "      <td>1.000000</td>\n",
              "      <td>0.000000</td>\n",
              "    </tr>\n",
              "    <tr>\n",
              "      <th>25%</th>\n",
              "      <td>1030.250000</td>\n",
              "      <td>16.000000</td>\n",
              "      <td>14.000000</td>\n",
              "      <td>98092.800000</td>\n",
              "      <td>5028.400000</td>\n",
              "      <td>3.000000</td>\n",
              "      <td>0.000000</td>\n",
              "    </tr>\n",
              "    <tr>\n",
              "      <th>50%</th>\n",
              "      <td>8928.000000</td>\n",
              "      <td>21.000000</td>\n",
              "      <td>17.000000</td>\n",
              "      <td>120045.100000</td>\n",
              "      <td>8134.700000</td>\n",
              "      <td>5.000000</td>\n",
              "      <td>1.000000</td>\n",
              "    </tr>\n",
              "    <tr>\n",
              "      <th>75%</th>\n",
              "      <td>16768.000000</td>\n",
              "      <td>25.000000</td>\n",
              "      <td>24.750000</td>\n",
              "      <td>142483.850000</td>\n",
              "      <td>22788.950000</td>\n",
              "      <td>13.000000</td>\n",
              "      <td>1.000000</td>\n",
              "    </tr>\n",
              "    <tr>\n",
              "      <th>max</th>\n",
              "      <td>17776.000000</td>\n",
              "      <td>39.000000</td>\n",
              "      <td>204.000000</td>\n",
              "      <td>191564.800000</td>\n",
              "      <td>69465.900000</td>\n",
              "      <td>30.000000</td>\n",
              "      <td>1.000000</td>\n",
              "    </tr>\n",
              "  </tbody>\n",
              "</table>\n",
              "</div>\n",
              "    <div class=\"colab-df-buttons\">\n",
              "\n",
              "  <div class=\"colab-df-container\">\n",
              "    <button class=\"colab-df-convert\" onclick=\"convertToInteractive('df-5789dc8e-4a2e-4c61-ab0b-abdf7e5a0341')\"\n",
              "            title=\"Convert this dataframe to an interactive table.\"\n",
              "            style=\"display:none;\">\n",
              "\n",
              "  <svg xmlns=\"http://www.w3.org/2000/svg\" height=\"24px\" viewBox=\"0 -960 960 960\">\n",
              "    <path d=\"M120-120v-720h720v720H120Zm60-500h600v-160H180v160Zm220 220h160v-160H400v160Zm0 220h160v-160H400v160ZM180-400h160v-160H180v160Zm440 0h160v-160H620v160ZM180-180h160v-160H180v160Zm440 0h160v-160H620v160Z\"/>\n",
              "  </svg>\n",
              "    </button>\n",
              "\n",
              "  <style>\n",
              "    .colab-df-container {\n",
              "      display:flex;\n",
              "      gap: 12px;\n",
              "    }\n",
              "\n",
              "    .colab-df-convert {\n",
              "      background-color: #E8F0FE;\n",
              "      border: none;\n",
              "      border-radius: 50%;\n",
              "      cursor: pointer;\n",
              "      display: none;\n",
              "      fill: #1967D2;\n",
              "      height: 32px;\n",
              "      padding: 0 0 0 0;\n",
              "      width: 32px;\n",
              "    }\n",
              "\n",
              "    .colab-df-convert:hover {\n",
              "      background-color: #E2EBFA;\n",
              "      box-shadow: 0px 1px 2px rgba(60, 64, 67, 0.3), 0px 1px 3px 1px rgba(60, 64, 67, 0.15);\n",
              "      fill: #174EA6;\n",
              "    }\n",
              "\n",
              "    .colab-df-buttons div {\n",
              "      margin-bottom: 4px;\n",
              "    }\n",
              "\n",
              "    [theme=dark] .colab-df-convert {\n",
              "      background-color: #3B4455;\n",
              "      fill: #D2E3FC;\n",
              "    }\n",
              "\n",
              "    [theme=dark] .colab-df-convert:hover {\n",
              "      background-color: #434B5C;\n",
              "      box-shadow: 0px 1px 3px 1px rgba(0, 0, 0, 0.15);\n",
              "      filter: drop-shadow(0px 1px 2px rgba(0, 0, 0, 0.3));\n",
              "      fill: #FFFFFF;\n",
              "    }\n",
              "  </style>\n",
              "\n",
              "    <script>\n",
              "      const buttonEl =\n",
              "        document.querySelector('#df-5789dc8e-4a2e-4c61-ab0b-abdf7e5a0341 button.colab-df-convert');\n",
              "      buttonEl.style.display =\n",
              "        google.colab.kernel.accessAllowed ? 'block' : 'none';\n",
              "\n",
              "      async function convertToInteractive(key) {\n",
              "        const element = document.querySelector('#df-5789dc8e-4a2e-4c61-ab0b-abdf7e5a0341');\n",
              "        const dataTable =\n",
              "          await google.colab.kernel.invokeFunction('convertToInteractive',\n",
              "                                                    [key], {});\n",
              "        if (!dataTable) return;\n",
              "\n",
              "        const docLinkHtml = 'Like what you see? Visit the ' +\n",
              "          '<a target=\"_blank\" href=https://colab.research.google.com/notebooks/data_table.ipynb>data table notebook</a>'\n",
              "          + ' to learn more about interactive tables.';\n",
              "        element.innerHTML = '';\n",
              "        dataTable['output_type'] = 'display_data';\n",
              "        await google.colab.output.renderOutput(dataTable, element);\n",
              "        const docLink = document.createElement('div');\n",
              "        docLink.innerHTML = docLinkHtml;\n",
              "        element.appendChild(docLink);\n",
              "      }\n",
              "    </script>\n",
              "  </div>\n",
              "\n",
              "\n",
              "<div id=\"df-917120f0-527d-47ee-8456-4c70c5e507c4\">\n",
              "  <button class=\"colab-df-quickchart\" onclick=\"quickchart('df-917120f0-527d-47ee-8456-4c70c5e507c4')\"\n",
              "            title=\"Suggest charts\"\n",
              "            style=\"display:none;\">\n",
              "\n",
              "<svg xmlns=\"http://www.w3.org/2000/svg\" height=\"24px\"viewBox=\"0 0 24 24\"\n",
              "     width=\"24px\">\n",
              "    <g>\n",
              "        <path d=\"M19 3H5c-1.1 0-2 .9-2 2v14c0 1.1.9 2 2 2h14c1.1 0 2-.9 2-2V5c0-1.1-.9-2-2-2zM9 17H7v-7h2v7zm4 0h-2V7h2v10zm4 0h-2v-4h2v4z\"/>\n",
              "    </g>\n",
              "</svg>\n",
              "  </button>\n",
              "\n",
              "<style>\n",
              "  .colab-df-quickchart {\n",
              "      --bg-color: #E8F0FE;\n",
              "      --fill-color: #1967D2;\n",
              "      --hover-bg-color: #E2EBFA;\n",
              "      --hover-fill-color: #174EA6;\n",
              "      --disabled-fill-color: #AAA;\n",
              "      --disabled-bg-color: #DDD;\n",
              "  }\n",
              "\n",
              "  [theme=dark] .colab-df-quickchart {\n",
              "      --bg-color: #3B4455;\n",
              "      --fill-color: #D2E3FC;\n",
              "      --hover-bg-color: #434B5C;\n",
              "      --hover-fill-color: #FFFFFF;\n",
              "      --disabled-bg-color: #3B4455;\n",
              "      --disabled-fill-color: #666;\n",
              "  }\n",
              "\n",
              "  .colab-df-quickchart {\n",
              "    background-color: var(--bg-color);\n",
              "    border: none;\n",
              "    border-radius: 50%;\n",
              "    cursor: pointer;\n",
              "    display: none;\n",
              "    fill: var(--fill-color);\n",
              "    height: 32px;\n",
              "    padding: 0;\n",
              "    width: 32px;\n",
              "  }\n",
              "\n",
              "  .colab-df-quickchart:hover {\n",
              "    background-color: var(--hover-bg-color);\n",
              "    box-shadow: 0 1px 2px rgba(60, 64, 67, 0.3), 0 1px 3px 1px rgba(60, 64, 67, 0.15);\n",
              "    fill: var(--button-hover-fill-color);\n",
              "  }\n",
              "\n",
              "  .colab-df-quickchart-complete:disabled,\n",
              "  .colab-df-quickchart-complete:disabled:hover {\n",
              "    background-color: var(--disabled-bg-color);\n",
              "    fill: var(--disabled-fill-color);\n",
              "    box-shadow: none;\n",
              "  }\n",
              "\n",
              "  .colab-df-spinner {\n",
              "    border: 2px solid var(--fill-color);\n",
              "    border-color: transparent;\n",
              "    border-bottom-color: var(--fill-color);\n",
              "    animation:\n",
              "      spin 1s steps(1) infinite;\n",
              "  }\n",
              "\n",
              "  @keyframes spin {\n",
              "    0% {\n",
              "      border-color: transparent;\n",
              "      border-bottom-color: var(--fill-color);\n",
              "      border-left-color: var(--fill-color);\n",
              "    }\n",
              "    20% {\n",
              "      border-color: transparent;\n",
              "      border-left-color: var(--fill-color);\n",
              "      border-top-color: var(--fill-color);\n",
              "    }\n",
              "    30% {\n",
              "      border-color: transparent;\n",
              "      border-left-color: var(--fill-color);\n",
              "      border-top-color: var(--fill-color);\n",
              "      border-right-color: var(--fill-color);\n",
              "    }\n",
              "    40% {\n",
              "      border-color: transparent;\n",
              "      border-right-color: var(--fill-color);\n",
              "      border-top-color: var(--fill-color);\n",
              "    }\n",
              "    60% {\n",
              "      border-color: transparent;\n",
              "      border-right-color: var(--fill-color);\n",
              "    }\n",
              "    80% {\n",
              "      border-color: transparent;\n",
              "      border-right-color: var(--fill-color);\n",
              "      border-bottom-color: var(--fill-color);\n",
              "    }\n",
              "    90% {\n",
              "      border-color: transparent;\n",
              "      border-bottom-color: var(--fill-color);\n",
              "    }\n",
              "  }\n",
              "</style>\n",
              "\n",
              "  <script>\n",
              "    async function quickchart(key) {\n",
              "      const quickchartButtonEl =\n",
              "        document.querySelector('#' + key + ' button');\n",
              "      quickchartButtonEl.disabled = true;  // To prevent multiple clicks.\n",
              "      quickchartButtonEl.classList.add('colab-df-spinner');\n",
              "      try {\n",
              "        const charts = await google.colab.kernel.invokeFunction(\n",
              "            'suggestCharts', [key], {});\n",
              "      } catch (error) {\n",
              "        console.error('Error during call to suggestCharts:', error);\n",
              "      }\n",
              "      quickchartButtonEl.classList.remove('colab-df-spinner');\n",
              "      quickchartButtonEl.classList.add('colab-df-quickchart-complete');\n",
              "    }\n",
              "    (() => {\n",
              "      let quickchartButtonEl =\n",
              "        document.querySelector('#df-917120f0-527d-47ee-8456-4c70c5e507c4 button');\n",
              "      quickchartButtonEl.style.display =\n",
              "        google.colab.kernel.accessAllowed ? 'block' : 'none';\n",
              "    })();\n",
              "  </script>\n",
              "</div>\n",
              "    </div>\n",
              "  </div>\n"
            ],
            "application/vnd.google.colaboratory.intrinsic+json": {
              "type": "dataframe",
              "summary": "{\n  \"name\": \"df\",\n  \"rows\": 8,\n  \"fields\": [\n    {\n      \"column\": \"client_id\",\n      \"properties\": {\n        \"dtype\": \"number\",\n        \"std\": 6960.733891543777,\n        \"min\": 25.0,\n        \"max\": 17776.0,\n        \"num_unique_values\": 8,\n        \"samples\": [\n          8911.952,\n          8928.0,\n          750.0\n        ],\n        \"semantic_type\": \"\",\n        \"description\": \"\"\n      }\n    },\n    {\n      \"column\": \"reject_count\",\n      \"properties\": {\n        \"dtype\": \"number\",\n        \"std\": 258.6860654791425,\n        \"min\": 5.0,\n        \"max\": 750.0,\n        \"num_unique_values\": 8,\n        \"samples\": [\n          20.524,\n          21.0,\n          750.0\n        ],\n        \"semantic_type\": \"\",\n        \"description\": \"\"\n      }\n    },\n    {\n      \"column\": \"confirm_count\",\n      \"properties\": {\n        \"dtype\": \"number\",\n        \"std\": 254.9984499047114,\n        \"min\": 5.0,\n        \"max\": 750.0,\n        \"num_unique_values\": 8,\n        \"samples\": [\n          43.281333333333336,\n          17.0,\n          750.0\n        ],\n        \"semantic_type\": \"\",\n        \"description\": \"\"\n      }\n    },\n    {\n      \"column\": \"last_summ\",\n      \"properties\": {\n        \"dtype\": \"number\",\n        \"std\": 64542.52180520367,\n        \"min\": 750.0,\n        \"max\": 191564.8,\n        \"num_unique_values\": 8,\n        \"samples\": [\n          117236.96853333335,\n          120045.1,\n          750.0\n        ],\n        \"semantic_type\": \"\",\n        \"description\": \"\"\n      }\n    },\n    {\n      \"column\": \"summ_\",\n      \"properties\": {\n        \"dtype\": \"number\",\n        \"std\": 22539.84192937089,\n        \"min\": 750.0,\n        \"max\": 69465.9,\n        \"num_unique_values\": 8,\n        \"samples\": [\n          13642.938933333333,\n          8134.7,\n          750.0\n        ],\n        \"semantic_type\": \"\",\n        \"description\": \"\"\n      }\n    },\n    {\n      \"column\": \"count_position\",\n      \"properties\": {\n        \"dtype\": \"number\",\n        \"std\": 261.9775490790576,\n        \"min\": 1.0,\n        \"max\": 750.0,\n        \"num_unique_values\": 8,\n        \"samples\": [\n          8.010666666666667,\n          5.0,\n          750.0\n        ],\n        \"semantic_type\": \"\",\n        \"description\": \"\"\n      }\n    },\n    {\n      \"column\": \"target\",\n      \"properties\": {\n        \"dtype\": \"number\",\n        \"std\": 264.9553353034587,\n        \"min\": 0.0,\n        \"max\": 750.0,\n        \"num_unique_values\": 5,\n        \"samples\": [\n          0.7,\n          1.0,\n          0.4585633803868073\n        ],\n        \"semantic_type\": \"\",\n        \"description\": \"\"\n      }\n    }\n  ]\n}"
            }
          },
          "metadata": {},
          "execution_count": 5
        }
      ],
      "source": [
        "# Описательная статистика старых данных\n",
        "df.describe()"
      ]
    },
    {
      "cell_type": "code",
      "execution_count": null,
      "id": "27d409a5",
      "metadata": {
        "id": "27d409a5",
        "colab": {
          "base_uri": "https://localhost:8080/",
          "height": 300
        },
        "outputId": "7f363411-cf4a-4a45-8c43-ef137867525d"
      },
      "outputs": [
        {
          "output_type": "execute_result",
          "data": {
            "text/plain": [
              "           client_id  reject_count  confirm_count      last_summ  \\\n",
              "count     550.000000    550.000000     550.000000     550.000000   \n",
              "mean   150260.001818      5.378182      33.627273  120544.595636   \n",
              "std     28835.926536      4.188052      40.578077   33906.236783   \n",
              "min    102602.000000      0.000000       6.000000   30431.200000   \n",
              "25%    125597.000000      2.000000      14.000000   99622.075000   \n",
              "50%    149653.500000      4.000000      18.000000  122427.550000   \n",
              "75%    174543.750000      7.000000      24.000000  145620.300000   \n",
              "max    201451.000000     21.000000     198.000000  219305.000000   \n",
              "\n",
              "              summ_  count_position      target  \n",
              "count    550.000000      550.000000  550.000000  \n",
              "mean   10061.329636        5.980000    0.616364  \n",
              "std     8875.699406        5.002509    0.486714  \n",
              "min     1391.700000        1.000000    0.000000  \n",
              "25%     4837.450000        3.000000    0.000000  \n",
              "50%     6736.400000        4.000000    1.000000  \n",
              "75%    11080.925000        6.000000    1.000000  \n",
              "max    49446.700000       28.000000    1.000000  "
            ],
            "text/html": [
              "\n",
              "  <div id=\"df-d61f478e-4072-4f77-b81c-5ee894f97dbe\" class=\"colab-df-container\">\n",
              "    <div>\n",
              "<style scoped>\n",
              "    .dataframe tbody tr th:only-of-type {\n",
              "        vertical-align: middle;\n",
              "    }\n",
              "\n",
              "    .dataframe tbody tr th {\n",
              "        vertical-align: top;\n",
              "    }\n",
              "\n",
              "    .dataframe thead th {\n",
              "        text-align: right;\n",
              "    }\n",
              "</style>\n",
              "<table border=\"1\" class=\"dataframe\">\n",
              "  <thead>\n",
              "    <tr style=\"text-align: right;\">\n",
              "      <th></th>\n",
              "      <th>client_id</th>\n",
              "      <th>reject_count</th>\n",
              "      <th>confirm_count</th>\n",
              "      <th>last_summ</th>\n",
              "      <th>summ_</th>\n",
              "      <th>count_position</th>\n",
              "      <th>target</th>\n",
              "    </tr>\n",
              "  </thead>\n",
              "  <tbody>\n",
              "    <tr>\n",
              "      <th>count</th>\n",
              "      <td>550.000000</td>\n",
              "      <td>550.000000</td>\n",
              "      <td>550.000000</td>\n",
              "      <td>550.000000</td>\n",
              "      <td>550.000000</td>\n",
              "      <td>550.000000</td>\n",
              "      <td>550.000000</td>\n",
              "    </tr>\n",
              "    <tr>\n",
              "      <th>mean</th>\n",
              "      <td>150260.001818</td>\n",
              "      <td>5.378182</td>\n",
              "      <td>33.627273</td>\n",
              "      <td>120544.595636</td>\n",
              "      <td>10061.329636</td>\n",
              "      <td>5.980000</td>\n",
              "      <td>0.616364</td>\n",
              "    </tr>\n",
              "    <tr>\n",
              "      <th>std</th>\n",
              "      <td>28835.926536</td>\n",
              "      <td>4.188052</td>\n",
              "      <td>40.578077</td>\n",
              "      <td>33906.236783</td>\n",
              "      <td>8875.699406</td>\n",
              "      <td>5.002509</td>\n",
              "      <td>0.486714</td>\n",
              "    </tr>\n",
              "    <tr>\n",
              "      <th>min</th>\n",
              "      <td>102602.000000</td>\n",
              "      <td>0.000000</td>\n",
              "      <td>6.000000</td>\n",
              "      <td>30431.200000</td>\n",
              "      <td>1391.700000</td>\n",
              "      <td>1.000000</td>\n",
              "      <td>0.000000</td>\n",
              "    </tr>\n",
              "    <tr>\n",
              "      <th>25%</th>\n",
              "      <td>125597.000000</td>\n",
              "      <td>2.000000</td>\n",
              "      <td>14.000000</td>\n",
              "      <td>99622.075000</td>\n",
              "      <td>4837.450000</td>\n",
              "      <td>3.000000</td>\n",
              "      <td>0.000000</td>\n",
              "    </tr>\n",
              "    <tr>\n",
              "      <th>50%</th>\n",
              "      <td>149653.500000</td>\n",
              "      <td>4.000000</td>\n",
              "      <td>18.000000</td>\n",
              "      <td>122427.550000</td>\n",
              "      <td>6736.400000</td>\n",
              "      <td>4.000000</td>\n",
              "      <td>1.000000</td>\n",
              "    </tr>\n",
              "    <tr>\n",
              "      <th>75%</th>\n",
              "      <td>174543.750000</td>\n",
              "      <td>7.000000</td>\n",
              "      <td>24.000000</td>\n",
              "      <td>145620.300000</td>\n",
              "      <td>11080.925000</td>\n",
              "      <td>6.000000</td>\n",
              "      <td>1.000000</td>\n",
              "    </tr>\n",
              "    <tr>\n",
              "      <th>max</th>\n",
              "      <td>201451.000000</td>\n",
              "      <td>21.000000</td>\n",
              "      <td>198.000000</td>\n",
              "      <td>219305.000000</td>\n",
              "      <td>49446.700000</td>\n",
              "      <td>28.000000</td>\n",
              "      <td>1.000000</td>\n",
              "    </tr>\n",
              "  </tbody>\n",
              "</table>\n",
              "</div>\n",
              "    <div class=\"colab-df-buttons\">\n",
              "\n",
              "  <div class=\"colab-df-container\">\n",
              "    <button class=\"colab-df-convert\" onclick=\"convertToInteractive('df-d61f478e-4072-4f77-b81c-5ee894f97dbe')\"\n",
              "            title=\"Convert this dataframe to an interactive table.\"\n",
              "            style=\"display:none;\">\n",
              "\n",
              "  <svg xmlns=\"http://www.w3.org/2000/svg\" height=\"24px\" viewBox=\"0 -960 960 960\">\n",
              "    <path d=\"M120-120v-720h720v720H120Zm60-500h600v-160H180v160Zm220 220h160v-160H400v160Zm0 220h160v-160H400v160ZM180-400h160v-160H180v160Zm440 0h160v-160H620v160ZM180-180h160v-160H180v160Zm440 0h160v-160H620v160Z\"/>\n",
              "  </svg>\n",
              "    </button>\n",
              "\n",
              "  <style>\n",
              "    .colab-df-container {\n",
              "      display:flex;\n",
              "      gap: 12px;\n",
              "    }\n",
              "\n",
              "    .colab-df-convert {\n",
              "      background-color: #E8F0FE;\n",
              "      border: none;\n",
              "      border-radius: 50%;\n",
              "      cursor: pointer;\n",
              "      display: none;\n",
              "      fill: #1967D2;\n",
              "      height: 32px;\n",
              "      padding: 0 0 0 0;\n",
              "      width: 32px;\n",
              "    }\n",
              "\n",
              "    .colab-df-convert:hover {\n",
              "      background-color: #E2EBFA;\n",
              "      box-shadow: 0px 1px 2px rgba(60, 64, 67, 0.3), 0px 1px 3px 1px rgba(60, 64, 67, 0.15);\n",
              "      fill: #174EA6;\n",
              "    }\n",
              "\n",
              "    .colab-df-buttons div {\n",
              "      margin-bottom: 4px;\n",
              "    }\n",
              "\n",
              "    [theme=dark] .colab-df-convert {\n",
              "      background-color: #3B4455;\n",
              "      fill: #D2E3FC;\n",
              "    }\n",
              "\n",
              "    [theme=dark] .colab-df-convert:hover {\n",
              "      background-color: #434B5C;\n",
              "      box-shadow: 0px 1px 3px 1px rgba(0, 0, 0, 0.15);\n",
              "      filter: drop-shadow(0px 1px 2px rgba(0, 0, 0, 0.3));\n",
              "      fill: #FFFFFF;\n",
              "    }\n",
              "  </style>\n",
              "\n",
              "    <script>\n",
              "      const buttonEl =\n",
              "        document.querySelector('#df-d61f478e-4072-4f77-b81c-5ee894f97dbe button.colab-df-convert');\n",
              "      buttonEl.style.display =\n",
              "        google.colab.kernel.accessAllowed ? 'block' : 'none';\n",
              "\n",
              "      async function convertToInteractive(key) {\n",
              "        const element = document.querySelector('#df-d61f478e-4072-4f77-b81c-5ee894f97dbe');\n",
              "        const dataTable =\n",
              "          await google.colab.kernel.invokeFunction('convertToInteractive',\n",
              "                                                    [key], {});\n",
              "        if (!dataTable) return;\n",
              "\n",
              "        const docLinkHtml = 'Like what you see? Visit the ' +\n",
              "          '<a target=\"_blank\" href=https://colab.research.google.com/notebooks/data_table.ipynb>data table notebook</a>'\n",
              "          + ' to learn more about interactive tables.';\n",
              "        element.innerHTML = '';\n",
              "        dataTable['output_type'] = 'display_data';\n",
              "        await google.colab.output.renderOutput(dataTable, element);\n",
              "        const docLink = document.createElement('div');\n",
              "        docLink.innerHTML = docLinkHtml;\n",
              "        element.appendChild(docLink);\n",
              "      }\n",
              "    </script>\n",
              "  </div>\n",
              "\n",
              "\n",
              "<div id=\"df-b0848ea4-b343-4de3-9add-706850d062c8\">\n",
              "  <button class=\"colab-df-quickchart\" onclick=\"quickchart('df-b0848ea4-b343-4de3-9add-706850d062c8')\"\n",
              "            title=\"Suggest charts\"\n",
              "            style=\"display:none;\">\n",
              "\n",
              "<svg xmlns=\"http://www.w3.org/2000/svg\" height=\"24px\"viewBox=\"0 0 24 24\"\n",
              "     width=\"24px\">\n",
              "    <g>\n",
              "        <path d=\"M19 3H5c-1.1 0-2 .9-2 2v14c0 1.1.9 2 2 2h14c1.1 0 2-.9 2-2V5c0-1.1-.9-2-2-2zM9 17H7v-7h2v7zm4 0h-2V7h2v10zm4 0h-2v-4h2v4z\"/>\n",
              "    </g>\n",
              "</svg>\n",
              "  </button>\n",
              "\n",
              "<style>\n",
              "  .colab-df-quickchart {\n",
              "      --bg-color: #E8F0FE;\n",
              "      --fill-color: #1967D2;\n",
              "      --hover-bg-color: #E2EBFA;\n",
              "      --hover-fill-color: #174EA6;\n",
              "      --disabled-fill-color: #AAA;\n",
              "      --disabled-bg-color: #DDD;\n",
              "  }\n",
              "\n",
              "  [theme=dark] .colab-df-quickchart {\n",
              "      --bg-color: #3B4455;\n",
              "      --fill-color: #D2E3FC;\n",
              "      --hover-bg-color: #434B5C;\n",
              "      --hover-fill-color: #FFFFFF;\n",
              "      --disabled-bg-color: #3B4455;\n",
              "      --disabled-fill-color: #666;\n",
              "  }\n",
              "\n",
              "  .colab-df-quickchart {\n",
              "    background-color: var(--bg-color);\n",
              "    border: none;\n",
              "    border-radius: 50%;\n",
              "    cursor: pointer;\n",
              "    display: none;\n",
              "    fill: var(--fill-color);\n",
              "    height: 32px;\n",
              "    padding: 0;\n",
              "    width: 32px;\n",
              "  }\n",
              "\n",
              "  .colab-df-quickchart:hover {\n",
              "    background-color: var(--hover-bg-color);\n",
              "    box-shadow: 0 1px 2px rgba(60, 64, 67, 0.3), 0 1px 3px 1px rgba(60, 64, 67, 0.15);\n",
              "    fill: var(--button-hover-fill-color);\n",
              "  }\n",
              "\n",
              "  .colab-df-quickchart-complete:disabled,\n",
              "  .colab-df-quickchart-complete:disabled:hover {\n",
              "    background-color: var(--disabled-bg-color);\n",
              "    fill: var(--disabled-fill-color);\n",
              "    box-shadow: none;\n",
              "  }\n",
              "\n",
              "  .colab-df-spinner {\n",
              "    border: 2px solid var(--fill-color);\n",
              "    border-color: transparent;\n",
              "    border-bottom-color: var(--fill-color);\n",
              "    animation:\n",
              "      spin 1s steps(1) infinite;\n",
              "  }\n",
              "\n",
              "  @keyframes spin {\n",
              "    0% {\n",
              "      border-color: transparent;\n",
              "      border-bottom-color: var(--fill-color);\n",
              "      border-left-color: var(--fill-color);\n",
              "    }\n",
              "    20% {\n",
              "      border-color: transparent;\n",
              "      border-left-color: var(--fill-color);\n",
              "      border-top-color: var(--fill-color);\n",
              "    }\n",
              "    30% {\n",
              "      border-color: transparent;\n",
              "      border-left-color: var(--fill-color);\n",
              "      border-top-color: var(--fill-color);\n",
              "      border-right-color: var(--fill-color);\n",
              "    }\n",
              "    40% {\n",
              "      border-color: transparent;\n",
              "      border-right-color: var(--fill-color);\n",
              "      border-top-color: var(--fill-color);\n",
              "    }\n",
              "    60% {\n",
              "      border-color: transparent;\n",
              "      border-right-color: var(--fill-color);\n",
              "    }\n",
              "    80% {\n",
              "      border-color: transparent;\n",
              "      border-right-color: var(--fill-color);\n",
              "      border-bottom-color: var(--fill-color);\n",
              "    }\n",
              "    90% {\n",
              "      border-color: transparent;\n",
              "      border-bottom-color: var(--fill-color);\n",
              "    }\n",
              "  }\n",
              "</style>\n",
              "\n",
              "  <script>\n",
              "    async function quickchart(key) {\n",
              "      const quickchartButtonEl =\n",
              "        document.querySelector('#' + key + ' button');\n",
              "      quickchartButtonEl.disabled = true;  // To prevent multiple clicks.\n",
              "      quickchartButtonEl.classList.add('colab-df-spinner');\n",
              "      try {\n",
              "        const charts = await google.colab.kernel.invokeFunction(\n",
              "            'suggestCharts', [key], {});\n",
              "      } catch (error) {\n",
              "        console.error('Error during call to suggestCharts:', error);\n",
              "      }\n",
              "      quickchartButtonEl.classList.remove('colab-df-spinner');\n",
              "      quickchartButtonEl.classList.add('colab-df-quickchart-complete');\n",
              "    }\n",
              "    (() => {\n",
              "      let quickchartButtonEl =\n",
              "        document.querySelector('#df-b0848ea4-b343-4de3-9add-706850d062c8 button');\n",
              "      quickchartButtonEl.style.display =\n",
              "        google.colab.kernel.accessAllowed ? 'block' : 'none';\n",
              "    })();\n",
              "  </script>\n",
              "</div>\n",
              "    </div>\n",
              "  </div>\n"
            ],
            "application/vnd.google.colaboratory.intrinsic+json": {
              "type": "dataframe",
              "summary": "{\n  \"name\": \"df_new\",\n  \"rows\": 8,\n  \"fields\": [\n    {\n      \"column\": \"client_id\",\n      \"properties\": {\n        \"dtype\": \"number\",\n        \"std\": 69928.19275277996,\n        \"min\": 550.0,\n        \"max\": 201451.0,\n        \"num_unique_values\": 8,\n        \"samples\": [\n          150260.00181818183,\n          149653.5,\n          550.0\n        ],\n        \"semantic_type\": \"\",\n        \"description\": \"\"\n      }\n    },\n    {\n      \"column\": \"reject_count\",\n      \"properties\": {\n        \"dtype\": \"number\",\n        \"std\": 192.3599139270868,\n        \"min\": 0.0,\n        \"max\": 550.0,\n        \"num_unique_values\": 8,\n        \"samples\": [\n          5.378181818181818,\n          4.0,\n          550.0\n        ],\n        \"semantic_type\": \"\",\n        \"description\": \"\"\n      }\n    },\n    {\n      \"column\": \"confirm_count\",\n      \"properties\": {\n        \"dtype\": \"number\",\n        \"std\": 188.18151809991528,\n        \"min\": 6.0,\n        \"max\": 550.0,\n        \"num_unique_values\": 8,\n        \"samples\": [\n          33.627272727272725,\n          18.0,\n          550.0\n        ],\n        \"semantic_type\": \"\",\n        \"description\": \"\"\n      }\n    },\n    {\n      \"column\": \"last_summ\",\n      \"properties\": {\n        \"dtype\": \"number\",\n        \"std\": 71955.78702333622,\n        \"min\": 550.0,\n        \"max\": 219305.0,\n        \"num_unique_values\": 8,\n        \"samples\": [\n          120544.59563636362,\n          122427.54999999999,\n          550.0\n        ],\n        \"semantic_type\": \"\",\n        \"description\": \"\"\n      }\n    },\n    {\n      \"column\": \"summ_\",\n      \"properties\": {\n        \"dtype\": \"number\",\n        \"std\": 15757.6556320397,\n        \"min\": 550.0,\n        \"max\": 49446.7,\n        \"num_unique_values\": 8,\n        \"samples\": [\n          10061.329636363638,\n          6736.4,\n          550.0\n        ],\n        \"semantic_type\": \"\",\n        \"description\": \"\"\n      }\n    },\n    {\n      \"column\": \"count_position\",\n      \"properties\": {\n        \"dtype\": \"number\",\n        \"std\": 191.96662551139448,\n        \"min\": 1.0,\n        \"max\": 550.0,\n        \"num_unique_values\": 8,\n        \"samples\": [\n          5.98,\n          4.0,\n          550.0\n        ],\n        \"semantic_type\": \"\",\n        \"description\": \"\"\n      }\n    },\n    {\n      \"column\": \"target\",\n      \"properties\": {\n        \"dtype\": \"number\",\n        \"std\": 194.24757371416223,\n        \"min\": 0.0,\n        \"max\": 550.0,\n        \"num_unique_values\": 5,\n        \"samples\": [\n          0.6163636363636363,\n          1.0,\n          0.48671368751199623\n        ],\n        \"semantic_type\": \"\",\n        \"description\": \"\"\n      }\n    }\n  ]\n}"
            }
          },
          "metadata": {},
          "execution_count": 6
        }
      ],
      "source": [
        "# Описательная статистика новых данных\n",
        "df_new.describe()"
      ]
    },
    {
      "cell_type": "markdown",
      "id": "308446e9",
      "metadata": {
        "id": "308446e9"
      },
      "source": [
        "Сравнивая данные, в первую очередь смотрите на медиану, а не на среднее — это более робастная оценка распределения.\n",
        "Обратите внимание на медианы признаков `reject_count` и `summ_`.\n"
      ]
    },
    {
      "cell_type": "markdown",
      "id": "8d3e0c81",
      "metadata": {
        "id": "8d3e0c81"
      },
      "source": [
        "Количество отказов существенно сократилось — предоплата оправдала себя.\n",
        "\n",
        "Это указывает на то, что распределение признаков в тренировочной и тестовой выборках заметно различается. Похоже, произошли структурные изменения, о которых модель не знала и поэтому не сможет учитывать в будущем.\n",
        "\n",
        "У этого может быть много причин: например, в меню появились новые позиции, исчезла часть старых, выросла цена на блюда или появились промоакции или предоплаты заказов. Специалисты по Data Science должны отслеживать такие изменения, чтобы поддерживать модель в актуальном состоянии.\n",
        "\n",
        "В вашем случае всё оказалось просто: похоже, ещё до внедрения модели заказчик решил ввести предоплату! Правда, опирался он не на модель машинного обучения, а просто ввёл её на все заказы. Вот бы ещё вам эту информацию сообщили вовремя…\n",
        "\n",
        "Из-за таких структурных изменений больше нельзя просто использовать старую тренировочную выборку для обучения модели — теперь она стала аномальной.\n",
        "\n",
        "Вот что с этим можно сделать:\n",
        "* Удалить наблюдения, где значение признака reject_count сильно выше, чем в новых данных. Так исходные данные будут выровнены под новую тестовую выборку.\n",
        "* Использовать для обучения тестовую выборку.\n",
        "\n",
        "Второй вариант предпочтительнее. Это связано с тем, что в случае с «Морскими гадами» структурные изменения нельзя экстраполировать на старые данные. Отмены заказов в прошлом никак не связаны с нововведениями, и даже клиенты с тем же количеством отмен могли их делать по другой причине.\n",
        "\n",
        "Ваша модель всё ещё востребована. Теперь её необходимо адаптировать под новые реалии."
      ]
    },
    {
      "cell_type": "markdown",
      "id": "33121028",
      "metadata": {
        "id": "33121028"
      },
      "source": [
        "Новый датасет не больше старых данных, но он всё равно не слишком большой. Поэтому стоит объединить все данные, чтобы модель могла лучше обучиться.\n",
        "\n",
        "Объединяем данные и затем делим их на тренировочную и валидационную выборки.\n",
        "\n",
        "Для объединения двух датасетов используем метод `concat()`."
      ]
    },
    {
      "cell_type": "code",
      "execution_count": null,
      "id": "8120d3ba",
      "metadata": {
        "id": "8120d3ba"
      },
      "outputs": [],
      "source": [
        "# объединяем данные\n",
        "all_data = pd.concat([df,df_new],axis=0)"
      ]
    },
    {
      "cell_type": "code",
      "execution_count": null,
      "id": "244f180c",
      "metadata": {
        "id": "244f180c",
        "colab": {
          "base_uri": "https://localhost:8080/",
          "height": 300
        },
        "outputId": "ff9189c5-7a6a-435f-abae-b39f0b3a5367"
      },
      "outputs": [
        {
          "output_type": "execute_result",
          "data": {
            "text/plain": [
              "           client_id  reject_count  confirm_count      last_summ  \\\n",
              "count    1300.000000   1300.000000    1300.000000    1300.000000   \n",
              "mean    68713.050000     14.116154      39.196923  118636.349231   \n",
              "std     72515.927305      9.249158      50.056947   33719.547344   \n",
              "min        25.000000      0.000000       5.000000   30431.200000   \n",
              "25%      8608.500000      5.000000      14.000000   99008.875000   \n",
              "50%     17252.500000     14.000000      17.000000  120795.300000   \n",
              "75%    139327.000000     22.000000      24.000000  144464.800000   \n",
              "max    201451.000000     39.000000     204.000000  219305.000000   \n",
              "\n",
              "              summ_  count_position       target  \n",
              "count   1300.000000     1300.000000  1300.000000  \n",
              "mean   12127.642692        7.151538     0.664615  \n",
              "std    10468.625314        5.828519     0.472306  \n",
              "min     1391.700000        1.000000     0.000000  \n",
              "25%     4974.500000        3.000000     0.000000  \n",
              "50%     7496.350000        5.000000     1.000000  \n",
              "75%    17331.300000       10.000000     1.000000  \n",
              "max    69465.900000       30.000000     1.000000  "
            ],
            "text/html": [
              "\n",
              "  <div id=\"df-c61f6b5b-8ce7-4560-9d35-cb4dab6dae89\" class=\"colab-df-container\">\n",
              "    <div>\n",
              "<style scoped>\n",
              "    .dataframe tbody tr th:only-of-type {\n",
              "        vertical-align: middle;\n",
              "    }\n",
              "\n",
              "    .dataframe tbody tr th {\n",
              "        vertical-align: top;\n",
              "    }\n",
              "\n",
              "    .dataframe thead th {\n",
              "        text-align: right;\n",
              "    }\n",
              "</style>\n",
              "<table border=\"1\" class=\"dataframe\">\n",
              "  <thead>\n",
              "    <tr style=\"text-align: right;\">\n",
              "      <th></th>\n",
              "      <th>client_id</th>\n",
              "      <th>reject_count</th>\n",
              "      <th>confirm_count</th>\n",
              "      <th>last_summ</th>\n",
              "      <th>summ_</th>\n",
              "      <th>count_position</th>\n",
              "      <th>target</th>\n",
              "    </tr>\n",
              "  </thead>\n",
              "  <tbody>\n",
              "    <tr>\n",
              "      <th>count</th>\n",
              "      <td>1300.000000</td>\n",
              "      <td>1300.000000</td>\n",
              "      <td>1300.000000</td>\n",
              "      <td>1300.000000</td>\n",
              "      <td>1300.000000</td>\n",
              "      <td>1300.000000</td>\n",
              "      <td>1300.000000</td>\n",
              "    </tr>\n",
              "    <tr>\n",
              "      <th>mean</th>\n",
              "      <td>68713.050000</td>\n",
              "      <td>14.116154</td>\n",
              "      <td>39.196923</td>\n",
              "      <td>118636.349231</td>\n",
              "      <td>12127.642692</td>\n",
              "      <td>7.151538</td>\n",
              "      <td>0.664615</td>\n",
              "    </tr>\n",
              "    <tr>\n",
              "      <th>std</th>\n",
              "      <td>72515.927305</td>\n",
              "      <td>9.249158</td>\n",
              "      <td>50.056947</td>\n",
              "      <td>33719.547344</td>\n",
              "      <td>10468.625314</td>\n",
              "      <td>5.828519</td>\n",
              "      <td>0.472306</td>\n",
              "    </tr>\n",
              "    <tr>\n",
              "      <th>min</th>\n",
              "      <td>25.000000</td>\n",
              "      <td>0.000000</td>\n",
              "      <td>5.000000</td>\n",
              "      <td>30431.200000</td>\n",
              "      <td>1391.700000</td>\n",
              "      <td>1.000000</td>\n",
              "      <td>0.000000</td>\n",
              "    </tr>\n",
              "    <tr>\n",
              "      <th>25%</th>\n",
              "      <td>8608.500000</td>\n",
              "      <td>5.000000</td>\n",
              "      <td>14.000000</td>\n",
              "      <td>99008.875000</td>\n",
              "      <td>4974.500000</td>\n",
              "      <td>3.000000</td>\n",
              "      <td>0.000000</td>\n",
              "    </tr>\n",
              "    <tr>\n",
              "      <th>50%</th>\n",
              "      <td>17252.500000</td>\n",
              "      <td>14.000000</td>\n",
              "      <td>17.000000</td>\n",
              "      <td>120795.300000</td>\n",
              "      <td>7496.350000</td>\n",
              "      <td>5.000000</td>\n",
              "      <td>1.000000</td>\n",
              "    </tr>\n",
              "    <tr>\n",
              "      <th>75%</th>\n",
              "      <td>139327.000000</td>\n",
              "      <td>22.000000</td>\n",
              "      <td>24.000000</td>\n",
              "      <td>144464.800000</td>\n",
              "      <td>17331.300000</td>\n",
              "      <td>10.000000</td>\n",
              "      <td>1.000000</td>\n",
              "    </tr>\n",
              "    <tr>\n",
              "      <th>max</th>\n",
              "      <td>201451.000000</td>\n",
              "      <td>39.000000</td>\n",
              "      <td>204.000000</td>\n",
              "      <td>219305.000000</td>\n",
              "      <td>69465.900000</td>\n",
              "      <td>30.000000</td>\n",
              "      <td>1.000000</td>\n",
              "    </tr>\n",
              "  </tbody>\n",
              "</table>\n",
              "</div>\n",
              "    <div class=\"colab-df-buttons\">\n",
              "\n",
              "  <div class=\"colab-df-container\">\n",
              "    <button class=\"colab-df-convert\" onclick=\"convertToInteractive('df-c61f6b5b-8ce7-4560-9d35-cb4dab6dae89')\"\n",
              "            title=\"Convert this dataframe to an interactive table.\"\n",
              "            style=\"display:none;\">\n",
              "\n",
              "  <svg xmlns=\"http://www.w3.org/2000/svg\" height=\"24px\" viewBox=\"0 -960 960 960\">\n",
              "    <path d=\"M120-120v-720h720v720H120Zm60-500h600v-160H180v160Zm220 220h160v-160H400v160Zm0 220h160v-160H400v160ZM180-400h160v-160H180v160Zm440 0h160v-160H620v160ZM180-180h160v-160H180v160Zm440 0h160v-160H620v160Z\"/>\n",
              "  </svg>\n",
              "    </button>\n",
              "\n",
              "  <style>\n",
              "    .colab-df-container {\n",
              "      display:flex;\n",
              "      gap: 12px;\n",
              "    }\n",
              "\n",
              "    .colab-df-convert {\n",
              "      background-color: #E8F0FE;\n",
              "      border: none;\n",
              "      border-radius: 50%;\n",
              "      cursor: pointer;\n",
              "      display: none;\n",
              "      fill: #1967D2;\n",
              "      height: 32px;\n",
              "      padding: 0 0 0 0;\n",
              "      width: 32px;\n",
              "    }\n",
              "\n",
              "    .colab-df-convert:hover {\n",
              "      background-color: #E2EBFA;\n",
              "      box-shadow: 0px 1px 2px rgba(60, 64, 67, 0.3), 0px 1px 3px 1px rgba(60, 64, 67, 0.15);\n",
              "      fill: #174EA6;\n",
              "    }\n",
              "\n",
              "    .colab-df-buttons div {\n",
              "      margin-bottom: 4px;\n",
              "    }\n",
              "\n",
              "    [theme=dark] .colab-df-convert {\n",
              "      background-color: #3B4455;\n",
              "      fill: #D2E3FC;\n",
              "    }\n",
              "\n",
              "    [theme=dark] .colab-df-convert:hover {\n",
              "      background-color: #434B5C;\n",
              "      box-shadow: 0px 1px 3px 1px rgba(0, 0, 0, 0.15);\n",
              "      filter: drop-shadow(0px 1px 2px rgba(0, 0, 0, 0.3));\n",
              "      fill: #FFFFFF;\n",
              "    }\n",
              "  </style>\n",
              "\n",
              "    <script>\n",
              "      const buttonEl =\n",
              "        document.querySelector('#df-c61f6b5b-8ce7-4560-9d35-cb4dab6dae89 button.colab-df-convert');\n",
              "      buttonEl.style.display =\n",
              "        google.colab.kernel.accessAllowed ? 'block' : 'none';\n",
              "\n",
              "      async function convertToInteractive(key) {\n",
              "        const element = document.querySelector('#df-c61f6b5b-8ce7-4560-9d35-cb4dab6dae89');\n",
              "        const dataTable =\n",
              "          await google.colab.kernel.invokeFunction('convertToInteractive',\n",
              "                                                    [key], {});\n",
              "        if (!dataTable) return;\n",
              "\n",
              "        const docLinkHtml = 'Like what you see? Visit the ' +\n",
              "          '<a target=\"_blank\" href=https://colab.research.google.com/notebooks/data_table.ipynb>data table notebook</a>'\n",
              "          + ' to learn more about interactive tables.';\n",
              "        element.innerHTML = '';\n",
              "        dataTable['output_type'] = 'display_data';\n",
              "        await google.colab.output.renderOutput(dataTable, element);\n",
              "        const docLink = document.createElement('div');\n",
              "        docLink.innerHTML = docLinkHtml;\n",
              "        element.appendChild(docLink);\n",
              "      }\n",
              "    </script>\n",
              "  </div>\n",
              "\n",
              "\n",
              "<div id=\"df-3ae8806c-1d4d-4b29-8ffa-732defbd2241\">\n",
              "  <button class=\"colab-df-quickchart\" onclick=\"quickchart('df-3ae8806c-1d4d-4b29-8ffa-732defbd2241')\"\n",
              "            title=\"Suggest charts\"\n",
              "            style=\"display:none;\">\n",
              "\n",
              "<svg xmlns=\"http://www.w3.org/2000/svg\" height=\"24px\"viewBox=\"0 0 24 24\"\n",
              "     width=\"24px\">\n",
              "    <g>\n",
              "        <path d=\"M19 3H5c-1.1 0-2 .9-2 2v14c0 1.1.9 2 2 2h14c1.1 0 2-.9 2-2V5c0-1.1-.9-2-2-2zM9 17H7v-7h2v7zm4 0h-2V7h2v10zm4 0h-2v-4h2v4z\"/>\n",
              "    </g>\n",
              "</svg>\n",
              "  </button>\n",
              "\n",
              "<style>\n",
              "  .colab-df-quickchart {\n",
              "      --bg-color: #E8F0FE;\n",
              "      --fill-color: #1967D2;\n",
              "      --hover-bg-color: #E2EBFA;\n",
              "      --hover-fill-color: #174EA6;\n",
              "      --disabled-fill-color: #AAA;\n",
              "      --disabled-bg-color: #DDD;\n",
              "  }\n",
              "\n",
              "  [theme=dark] .colab-df-quickchart {\n",
              "      --bg-color: #3B4455;\n",
              "      --fill-color: #D2E3FC;\n",
              "      --hover-bg-color: #434B5C;\n",
              "      --hover-fill-color: #FFFFFF;\n",
              "      --disabled-bg-color: #3B4455;\n",
              "      --disabled-fill-color: #666;\n",
              "  }\n",
              "\n",
              "  .colab-df-quickchart {\n",
              "    background-color: var(--bg-color);\n",
              "    border: none;\n",
              "    border-radius: 50%;\n",
              "    cursor: pointer;\n",
              "    display: none;\n",
              "    fill: var(--fill-color);\n",
              "    height: 32px;\n",
              "    padding: 0;\n",
              "    width: 32px;\n",
              "  }\n",
              "\n",
              "  .colab-df-quickchart:hover {\n",
              "    background-color: var(--hover-bg-color);\n",
              "    box-shadow: 0 1px 2px rgba(60, 64, 67, 0.3), 0 1px 3px 1px rgba(60, 64, 67, 0.15);\n",
              "    fill: var(--button-hover-fill-color);\n",
              "  }\n",
              "\n",
              "  .colab-df-quickchart-complete:disabled,\n",
              "  .colab-df-quickchart-complete:disabled:hover {\n",
              "    background-color: var(--disabled-bg-color);\n",
              "    fill: var(--disabled-fill-color);\n",
              "    box-shadow: none;\n",
              "  }\n",
              "\n",
              "  .colab-df-spinner {\n",
              "    border: 2px solid var(--fill-color);\n",
              "    border-color: transparent;\n",
              "    border-bottom-color: var(--fill-color);\n",
              "    animation:\n",
              "      spin 1s steps(1) infinite;\n",
              "  }\n",
              "\n",
              "  @keyframes spin {\n",
              "    0% {\n",
              "      border-color: transparent;\n",
              "      border-bottom-color: var(--fill-color);\n",
              "      border-left-color: var(--fill-color);\n",
              "    }\n",
              "    20% {\n",
              "      border-color: transparent;\n",
              "      border-left-color: var(--fill-color);\n",
              "      border-top-color: var(--fill-color);\n",
              "    }\n",
              "    30% {\n",
              "      border-color: transparent;\n",
              "      border-left-color: var(--fill-color);\n",
              "      border-top-color: var(--fill-color);\n",
              "      border-right-color: var(--fill-color);\n",
              "    }\n",
              "    40% {\n",
              "      border-color: transparent;\n",
              "      border-right-color: var(--fill-color);\n",
              "      border-top-color: var(--fill-color);\n",
              "    }\n",
              "    60% {\n",
              "      border-color: transparent;\n",
              "      border-right-color: var(--fill-color);\n",
              "    }\n",
              "    80% {\n",
              "      border-color: transparent;\n",
              "      border-right-color: var(--fill-color);\n",
              "      border-bottom-color: var(--fill-color);\n",
              "    }\n",
              "    90% {\n",
              "      border-color: transparent;\n",
              "      border-bottom-color: var(--fill-color);\n",
              "    }\n",
              "  }\n",
              "</style>\n",
              "\n",
              "  <script>\n",
              "    async function quickchart(key) {\n",
              "      const quickchartButtonEl =\n",
              "        document.querySelector('#' + key + ' button');\n",
              "      quickchartButtonEl.disabled = true;  // To prevent multiple clicks.\n",
              "      quickchartButtonEl.classList.add('colab-df-spinner');\n",
              "      try {\n",
              "        const charts = await google.colab.kernel.invokeFunction(\n",
              "            'suggestCharts', [key], {});\n",
              "      } catch (error) {\n",
              "        console.error('Error during call to suggestCharts:', error);\n",
              "      }\n",
              "      quickchartButtonEl.classList.remove('colab-df-spinner');\n",
              "      quickchartButtonEl.classList.add('colab-df-quickchart-complete');\n",
              "    }\n",
              "    (() => {\n",
              "      let quickchartButtonEl =\n",
              "        document.querySelector('#df-3ae8806c-1d4d-4b29-8ffa-732defbd2241 button');\n",
              "      quickchartButtonEl.style.display =\n",
              "        google.colab.kernel.accessAllowed ? 'block' : 'none';\n",
              "    })();\n",
              "  </script>\n",
              "</div>\n",
              "    </div>\n",
              "  </div>\n"
            ],
            "application/vnd.google.colaboratory.intrinsic+json": {
              "type": "dataframe",
              "summary": "{\n  \"name\": \"all_data\",\n  \"rows\": 8,\n  \"fields\": [\n    {\n      \"column\": \"client_id\",\n      \"properties\": {\n        \"dtype\": \"number\",\n        \"std\": 73619.02017396234,\n        \"min\": 25.0,\n        \"max\": 201451.0,\n        \"num_unique_values\": 8,\n        \"samples\": [\n          68713.05,\n          17252.5,\n          1300.0\n        ],\n        \"semantic_type\": \"\",\n        \"description\": \"\"\n      }\n    },\n    {\n      \"column\": \"reject_count\",\n      \"properties\": {\n        \"dtype\": \"number\",\n        \"std\": 454.5533974316283,\n        \"min\": 0.0,\n        \"max\": 1300.0,\n        \"num_unique_values\": 8,\n        \"samples\": [\n          14.116153846153846,\n          14.0,\n          1300.0\n        ],\n        \"semantic_type\": \"\",\n        \"description\": \"\"\n      }\n    },\n    {\n      \"column\": \"confirm_count\",\n      \"properties\": {\n        \"dtype\": \"number\",\n        \"std\": 446.4283740267167,\n        \"min\": 5.0,\n        \"max\": 1300.0,\n        \"num_unique_values\": 8,\n        \"samples\": [\n          39.19692307692308,\n          17.0,\n          1300.0\n        ],\n        \"semantic_type\": \"\",\n        \"description\": \"\"\n      }\n    },\n    {\n      \"column\": \"last_summ\",\n      \"properties\": {\n        \"dtype\": \"number\",\n        \"std\": 71549.60552826515,\n        \"min\": 1300.0,\n        \"max\": 219305.0,\n        \"num_unique_values\": 8,\n        \"samples\": [\n          118636.34923076924,\n          120795.3,\n          1300.0\n        ],\n        \"semantic_type\": \"\",\n        \"description\": \"\"\n      }\n    },\n    {\n      \"column\": \"summ_\",\n      \"properties\": {\n        \"dtype\": \"number\",\n        \"std\": 22449.46577635136,\n        \"min\": 1300.0,\n        \"max\": 69465.9,\n        \"num_unique_values\": 8,\n        \"samples\": [\n          12127.642692307692,\n          7496.35,\n          1300.0\n        ],\n        \"semantic_type\": \"\",\n        \"description\": \"\"\n      }\n    },\n    {\n      \"column\": \"count_position\",\n      \"properties\": {\n        \"dtype\": \"number\",\n        \"std\": 456.57833104138484,\n        \"min\": 1.0,\n        \"max\": 1300.0,\n        \"num_unique_values\": 8,\n        \"samples\": [\n          7.151538461538461,\n          5.0,\n          1300.0\n        ],\n        \"semantic_type\": \"\",\n        \"description\": \"\"\n      }\n    },\n    {\n      \"column\": \"target\",\n      \"properties\": {\n        \"dtype\": \"number\",\n        \"std\": 459.41065133647305,\n        \"min\": 0.0,\n        \"max\": 1300.0,\n        \"num_unique_values\": 5,\n        \"samples\": [\n          0.6646153846153846,\n          1.0,\n          0.47230643659383464\n        ],\n        \"semantic_type\": \"\",\n        \"description\": \"\"\n      }\n    }\n  ]\n}"
            }
          },
          "metadata": {},
          "execution_count": 8
        }
      ],
      "source": [
        "# оценим числовые характеристики данных\n",
        "all_data.describe()"
      ]
    },
    {
      "cell_type": "code",
      "execution_count": null,
      "id": "f7084569",
      "metadata": {
        "id": "f7084569",
        "colab": {
          "base_uri": "https://localhost:8080/"
        },
        "outputId": "a6d973c4-8265-47d6-bae6-2ed116755988"
      },
      "outputs": [
        {
          "output_type": "execute_result",
          "data": {
            "text/plain": [
              "target\n",
              "1    0.664615\n",
              "0    0.335385\n",
              "Name: proportion, dtype: float64"
            ]
          },
          "metadata": {},
          "execution_count": 9
        }
      ],
      "source": [
        "# Оценим баланс классов\n",
        "all_data['target'].value_counts(normalize=True)"
      ]
    },
    {
      "cell_type": "markdown",
      "id": "d32bf6b5",
      "metadata": {
        "id": "d32bf6b5"
      },
      "source": [
        "Видим дисбаланс классов, поэтому для обучения моделей будем использовать взвешивание классов.\n",
        "\n",
        "Для обучения моделей выделим целевой признак и факторы."
      ]
    },
    {
      "cell_type": "code",
      "execution_count": null,
      "id": "15859676",
      "metadata": {
        "id": "15859676"
      },
      "outputs": [],
      "source": [
        "X =all_data.drop(columns=['target','client_id'])\n",
        "y =all_data['target']"
      ]
    },
    {
      "cell_type": "markdown",
      "id": "b4a43082",
      "metadata": {
        "id": "b4a43082"
      },
      "source": [
        "Разделим выборку на тренировочную и тестовую в соотношении 75:25. Используем метод `train_test_split`."
      ]
    },
    {
      "cell_type": "code",
      "execution_count": null,
      "id": "ac5f0ed9",
      "metadata": {
        "id": "ac5f0ed9"
      },
      "outputs": [],
      "source": [
        "X_train, X_test, y_train, y_test =train_test_split(X,y, test_size=0.25, random_state=RANDOM_STATE, stratify=y)\n"
      ]
    },
    {
      "cell_type": "markdown",
      "id": "a5997aaf",
      "metadata": {
        "id": "a5997aaf"
      },
      "source": [
        "Также руководство «Морских гадов» передало, что цели экономить 850 тысяч рублей больше нет, потому что закончился основной сезон, когда к ним обращаются клиенты. Теперь нужно просто сберечь как можно больше средств."
      ]
    },
    {
      "cell_type": "code",
      "execution_count": null,
      "id": "4c1c8f03",
      "metadata": {
        "id": "4c1c8f03"
      },
      "outputs": [],
      "source": [
        "# Для интерпретации модели логистической регрессии нормализуем данные\n",
        "# Обучим и преобразуем количественные признаки из тренировочной и тестовой выборок\n",
        "# для тренировочной выборки выполним действия одной командой\n",
        "\n",
        "scaler = StandardScaler()\n",
        "X_train_scalled =scaler.fit_transform(X_train)\n",
        "X_test_scalled =scaler.transform(X_test)\n"
      ]
    },
    {
      "cell_type": "markdown",
      "id": "7690cb47",
      "metadata": {
        "id": "7690cb47"
      },
      "source": [
        "## Логистическая регрессия"
      ]
    },
    {
      "cell_type": "code",
      "execution_count": null,
      "id": "6fe9c743",
      "metadata": {
        "id": "6fe9c743",
        "colab": {
          "base_uri": "https://localhost:8080/"
        },
        "outputId": "1800dfa0-51b2-411b-a8a5-d414a9ff16b5"
      },
      "outputs": [
        {
          "output_type": "execute_result",
          "data": {
            "text/plain": [
              "0.5846153846153846"
            ]
          },
          "metadata": {},
          "execution_count": 13
        }
      ],
      "source": [
        "# Инициируем класс логистической регрессии и обучим модель на стандартизованных данных\n",
        "\n",
        "logreg =LogisticRegression(class_weight='balanced').fit(X_train_scalled,y_train)\n",
        "# Построим прогноз на валидационной выборке\n",
        "\n",
        "y_pred =logreg.predict(X_test_scalled)\n",
        "\n",
        "# Вычислим метрику accuracy на валидационной выборке\n",
        "r = accuracy_score(y_test,y_pred)\n",
        "r"
      ]
    },
    {
      "cell_type": "markdown",
      "id": "35b90d96",
      "metadata": {
        "id": "35b90d96"
      },
      "source": [
        "Модель звёзд с небес не хватает, но она и не должна: это лишь стартовая точка для поиска более точных решений.\n",
        "\n",
        "Логистическая регрессия улавливает только линейные зависимости, поэтому её можно улучшить, добавив в признаковое описание полиномиальные признаки с помощью полиномизации."
      ]
    },
    {
      "cell_type": "code",
      "execution_count": null,
      "id": "6780032a",
      "metadata": {
        "id": "6780032a"
      },
      "outputs": [],
      "source": [
        "# Формируем полиномиальные признаки до 2 порядка\n",
        "poly = PolynomialFeatures(2)\n",
        "\n",
        "X_train =poly.fit_transform(X_train)\n",
        "X_test =poly.transform(X_test)"
      ]
    },
    {
      "cell_type": "code",
      "execution_count": null,
      "id": "bb2fd3bf",
      "metadata": {
        "id": "bb2fd3bf"
      },
      "outputs": [],
      "source": [
        "# сохранение таблицы X_test с полиномиальными признаками до стандартизации\n",
        "X_test_df = pd.DataFrame(X_test,columns = poly.get_feature_names_out())\n"
      ]
    },
    {
      "cell_type": "code",
      "execution_count": null,
      "id": "e59b5b20",
      "metadata": {
        "id": "e59b5b20"
      },
      "outputs": [],
      "source": [
        "# стандартизация\n",
        "X_train_scalled =pd.DataFrame(scaler.fit_transform(X_train),columns=poly.get_feature_names_out())\n",
        "X_test_scalled =pd.DataFrame(scaler.transform(X_test),columns=poly.get_feature_names_out())\n"
      ]
    },
    {
      "cell_type": "code",
      "execution_count": null,
      "id": "149dfcec",
      "metadata": {
        "id": "149dfcec",
        "colab": {
          "base_uri": "https://localhost:8080/"
        },
        "outputId": "44b0ce94-ec6a-465a-9852-a71ed15b7fb8"
      },
      "outputs": [
        {
          "output_type": "execute_result",
          "data": {
            "text/plain": [
              "0.6153846153846154"
            ]
          },
          "metadata": {},
          "execution_count": 18
        }
      ],
      "source": [
        "# инициализируем и обучаем модель\n",
        "# считаем accuracy\n",
        "model =LogisticRegression(class_weight='balanced').fit(X_train_scalled,y_train)\n",
        "\n",
        "\n",
        "acc1 = accuracy_score(y_test,model.predict(X_test_scalled))\n",
        "acc1"
      ]
    },
    {
      "cell_type": "markdown",
      "id": "381885b0",
      "metadata": {
        "id": "381885b0"
      },
      "source": [
        "Прирост на три процента — медленно, но верно!\n",
        "\n",
        "Построим график важности признаков, т.е. коэффициентов регрессии (будем оценивать их значения по модулю):"
      ]
    },
    {
      "cell_type": "code",
      "execution_count": null,
      "id": "1e54b823",
      "metadata": {
        "id": "1e54b823",
        "colab": {
          "base_uri": "https://localhost:8080/",
          "height": 447
        },
        "outputId": "a0e61b83-06a3-4a0c-cabc-40899c1ec989"
      },
      "outputs": [
        {
          "output_type": "execute_result",
          "data": {
            "text/plain": [
              "<Axes: ylabel='Feature'>"
            ]
          },
          "metadata": {},
          "execution_count": 19
        },
        {
          "output_type": "display_data",
          "data": {
            "text/plain": [
              "<Figure size 640x480 with 1 Axes>"
            ],
            "image/png": "[encoded data removed]"
          },
          "metadata": {}
        }
      ],
      "source": [
        "coefficients = model.coef_[0]\n",
        "feature_importance = pd.DataFrame({'Feature': poly.get_feature_names_out(),\n",
        "                                   'Importance': np.abs(coefficients)}).sort_values('Importance', ascending=True)\n",
        "\n",
        "# График важности признаков\n",
        "feature_importance.plot(x='Feature',y='Importance', kind='barh')\n",
        "\n"
      ]
    },
    {
      "cell_type": "markdown",
      "id": "c64743c0",
      "metadata": {
        "id": "c64743c0"
      },
      "source": [
        "Видно, что не все входные признаки хорошо объясняют целевой. А значит, некоторыми можно пренебречь.\n",
        "\n",
        "Чтобы отобрать признаки, используем `SelectKBest` несколько раз с помощью цикла. Заодно проверим, сколько средств сэкономили бы «Морские гады», если бы остановились на разных `k`.\n",
        "\n",
        "Напоминаем:\n",
        "* каждая предсказанная отмена заказа сохранит компании 0.7*0.8 от стоимости заказа, где 0.7 — это размер предоплаты, 0.8 — поправка на клиентов, которые откажутся от заказа из-за предоплаты;\n",
        "* компания также потеряет 0.2 от суммы заказа в случае ошибочно предсказанной отмены.\n"
      ]
    },
    {
      "cell_type": "code",
      "execution_count": null,
      "id": "d4179112",
      "metadata": {
        "id": "d4179112",
        "colab": {
          "base_uri": "https://localhost:8080/"
        },
        "outputId": "f0365bb5-824a-4569-cea3-b4ea7cb72305"
      },
      "outputs": [
        {
          "output_type": "stream",
          "name": "stdout",
          "text": [
            "Число признаков:  1 accuracy_last =  0.61538 accuracy =  0.56308 money =  1194636.872\n",
            "Число признаков:  2 accuracy_last =  0.61538 accuracy =  0.56308 money =  1183943.608\n",
            "Число признаков:  3 accuracy_last =  0.61538 accuracy =  0.56308 money =  1183943.608\n",
            "Число признаков:  4 accuracy_last =  0.61538 accuracy =  0.56308 money =  1183943.608\n",
            "Число признаков:  5 accuracy_last =  0.61538 accuracy =  0.56308 money =  1183943.608\n",
            "Число признаков:  6 accuracy_last =  0.61538 accuracy =  0.56 money =  1174551.512\n",
            "Число признаков:  7 accuracy_last =  0.61538 accuracy =  0.56 money =  1174551.512\n",
            "Число признаков:  8 accuracy_last =  0.61538 accuracy =  0.56308 money =  1180292.312\n",
            "Число признаков:  9 accuracy_last =  0.61538 accuracy =  0.56 money =  1178402.912\n",
            "Число признаков:  10 accuracy_last =  0.61538 accuracy =  0.59385 money =  1262841.792\n",
            "Число признаков:  11 accuracy_last =  0.61538 accuracy =  0.59385 money =  1276501.388\n",
            "Число признаков:  12 accuracy_last =  0.61538 accuracy =  0.63385 money =  1297609.56\n",
            "Число признаков:  13 accuracy_last =  0.61538 accuracy =  0.63385 money =  1301973.528\n",
            "Число признаков:  14 accuracy_last =  0.61538 accuracy =  0.64 money =  1312115.632\n",
            "Число признаков:  15 accuracy_last =  0.61538 accuracy =  0.63385 money =  1301006.856\n",
            "Число признаков:  16 accuracy_last =  0.61538 accuracy =  0.62462 money =  1285424.74\n",
            "Число признаков:  17 accuracy_last =  0.61538 accuracy =  0.64 money =  1305342.204\n",
            "Число признаков:  18 accuracy_last =  0.61538 accuracy =  0.63077 money =  1301429.66\n",
            "Число признаков:  19 accuracy_last =  0.61538 accuracy =  0.62154 money =  1230762.372\n",
            "Число признаков:  20 accuracy_last =  0.61538 accuracy =  0.61538 money =  1222366.764\n",
            "Число признаков:  21 accuracy_last =  0.61538 accuracy =  0.61538 money =  1222366.764\n"
          ]
        }
      ],
      "source": [
        "accs_logreg = []\n",
        "money_logreg = []\n",
        "\n",
        "for i in range(len(X_test_df.columns)):\n",
        "        # объявляем селектор\n",
        "    # он будет подбирать разное количество признаков за счёт цикла\n",
        "    selector = SelectKBest(f_classif, k=i+1)\n",
        "    selector.fit(X_train_scalled, y_train)\n",
        "\n",
        "    # сохраняем названия признаков в переменную features_names\n",
        "    features_names = selector.get_feature_names_out()\n",
        "\n",
        "    # стандартизируем признаки\n",
        "    X_train_new = X_train_scalled[list(features_names)]\n",
        "    X_test_new = X_test_scalled[list(features_names)]\n",
        "\n",
        "    # инициализируем и обучаем модель\n",
        "    model = LogisticRegression(class_weight = 'balanced', random_state=RANDOM_STATE)\n",
        "    model.fit(X_train_new, y_train)\n",
        "\n",
        "    acc_new = accuracy_score(y_test, model.predict(X_test_new))\n",
        "\n",
        "\n",
        "    # создаём таблицы предсказаний для подсчёта сэкономленных средств\n",
        "    predicts = X_test_df[['summ_']].copy()\n",
        "    predicts['logreg'] = model.predict(X_test_new)\n",
        "    predicts['y_test'] = y_test.tolist()\n",
        "\n",
        "    TP = predicts[(predicts['logreg']==1)&(predicts['y_test']==1)]['summ_'].sum()*0.7*0.8\n",
        "    FP = predicts[(predicts['logreg']==1)&(predicts['y_test']==0)]['summ_'].sum()*0.2\n",
        "\n",
        "    accs_logreg.append(acc_new)\n",
        "    money_logreg.append(TP-FP)\n",
        "\n",
        "    print('Число признаков: ', i+1, 'accuracy_last = ', round(acc1, 5), 'accuracy = ', round(acc_new, 5), 'money = ', round(TP-FP,3))\n"
      ]
    },
    {
      "cell_type": "markdown",
      "id": "4c5afeba",
      "metadata": {
        "id": "4c5afeba"
      },
      "source": [
        "Обратите внимание: при 14 признаках модель прирастает в качестве. Это решение также экономит неплохие деньги.\n"
      ]
    },
    {
      "cell_type": "markdown",
      "id": "0b209720",
      "metadata": {
        "id": "0b209720"
      },
      "source": [
        "Какие признаки отобрала логистическая регрессия?"
      ]
    },
    {
      "cell_type": "code",
      "execution_count": null,
      "id": "de4dc2dd",
      "metadata": {
        "id": "de4dc2dd",
        "colab": {
          "base_uri": "https://localhost:8080/"
        },
        "outputId": "fa306c20-254a-4e69-aabb-56594d6297a0"
      },
      "outputs": [
        {
          "output_type": "execute_result",
          "data": {
            "text/plain": [
              "array(['reject_count', 'confirm_count', 'summ_', 'count_position',\n",
              "       'reject_count^2', 'reject_count last_summ', 'reject_count summ_',\n",
              "       'reject_count count_position', 'confirm_count^2',\n",
              "       'last_summ summ_', 'last_summ count_position', 'summ_^2',\n",
              "       'summ_ count_position', 'count_position^2'], dtype=object)"
            ]
          },
          "metadata": {},
          "execution_count": 21
        }
      ],
      "source": [
        "selector = SelectKBest(f_classif,k=14)\n",
        "selector.fit_transform(X_train_scalled,y_train)\n",
        "\n",
        "features_names =selector.get_feature_names_out()\n",
        "\n",
        "features_names"
      ]
    },
    {
      "cell_type": "markdown",
      "id": "47116ed4",
      "metadata": {
        "id": "47116ed4"
      },
      "source": [
        "`SelectKBest` оставил исходные признаки: количество отменённых заказов за всю историю, количество подтверждённых заказов, стоимость последнего заказа клиента и число позиций в последнем заказе. Вместе с ними в модели остались комбинации разных признаков."
      ]
    },
    {
      "cell_type": "markdown",
      "id": "f0535704",
      "metadata": {
        "id": "f0535704"
      },
      "source": [
        "Для сравнения надо попробовать другие методы отбора признаков — например, `L1`-регуляризацию.\n",
        "\n",
        "Инициализируйте и обучите логистическую регрессию с `L1`-регуляризацией на полиномиальных признаках.\n",
        "\n",
        "Проверьте её работу с разными значениями гиперпараметра `C` при помощи цикла. Выведите на экран все значения `С`, `accuracy` и сэкономленных средств."
      ]
    },
    {
      "cell_type": "code",
      "execution_count": null,
      "id": "160a34e8",
      "metadata": {
        "id": "160a34e8",
        "colab": {
          "base_uri": "https://localhost:8080/"
        },
        "outputId": "15bc14bd-1254-4459-9d09-e86dcc8a8856"
      },
      "outputs": [
        {
          "output_type": "stream",
          "name": "stdout",
          "text": [
            "C =  0.1 accuracy =  0.5692307692 money =  1175147.088\n",
            "C =  0.4 accuracy =  0.6215384615 money =  1252223.508\n",
            "C =  0.5 accuracy =  0.6215384615 money =  1252223.508\n",
            "C =  0.6 accuracy =  0.6184615385 money =  1246108.14\n",
            "C =  0.7 accuracy =  0.6184615385 money =  1246108.14\n",
            "C =  0.8 accuracy =  0.6215384615 money =  1248020.708\n",
            "C =  1 accuracy =  0.6215384615 money =  1231844.32\n",
            "C =  2 accuracy =  0.6215384615 money =  1229132.52\n",
            "C =  5 accuracy =  0.6184615385 money =  1225260.452\n",
            "C =  10 accuracy =  0.6153846154 money =  1224040.192\n"
          ]
        }
      ],
      "source": [
        "# запускаем цикл, который обучит несколько моделей с разной силой регуляризации\n",
        "# итоговая выдача — таблица с информацией о C, точности и сэкономленных деньгах\n",
        "C_ = [0.1,0.4,0.5,0.6,0.7,0.8,1,2,5,10]\n",
        "\n",
        "for c in C_:\n",
        "    model = LogisticRegression(class_weight = 'balanced', random_state=RANDOM_STATE, penalty = 'l1' , solver = 'saga',C=c)\n",
        "    model.fit(X_train_scalled, y_train)\n",
        "\n",
        "    acc1 = accuracy_score(y_test, model.predict(X_test_scalled))\n",
        "\n",
        "    predicts = X_test_df[['summ_']].copy()\n",
        "    predicts['logreg'] = model.predict(X_test_scalled)\n",
        "    predicts['y_test'] = y_test.tolist()\n",
        "\n",
        "    TP = predicts[(predicts['logreg']==1)&(predicts['y_test']==1)]['summ_'].sum()*0.7*0.8\n",
        "    FP = predicts[(predicts['logreg']==1)&(predicts['y_test']==0)]['summ_'].sum()*0.2\n",
        "\n",
        "    print('C = ', c, 'accuracy = ', round(acc1, 10), 'money = ', round(TP-FP, 6))"
      ]
    },
    {
      "cell_type": "markdown",
      "id": "e8f56099",
      "metadata": {
        "id": "e8f56099"
      },
      "source": [
        "Похоже, модель лучше всего экономит средства при значении `C=0.4`"
      ]
    },
    {
      "cell_type": "markdown",
      "id": "3971ad69",
      "metadata": {
        "id": "3971ad69"
      },
      "source": [
        "Вот сколько признаков содержит лучшая модель:"
      ]
    },
    {
      "cell_type": "code",
      "execution_count": null,
      "id": "02dde25a",
      "metadata": {
        "id": "02dde25a",
        "colab": {
          "base_uri": "https://localhost:8080/"
        },
        "outputId": "1bd6f515-2bde-4479-944b-a3722f4c948c"
      },
      "outputs": [
        {
          "output_type": "execute_result",
          "data": {
            "text/plain": [
              "array([[ 0.        ,  0.010512  ,  1.61437042,  0.        ,  0.        ,\n",
              "         0.01952166,  0.        ,  0.43692167,  0.        ,  0.        ,\n",
              "         0.17283511, -2.09937804,  0.39486648, -0.73806725, -0.37450287,\n",
              "         0.        ,  0.        ,  0.        ,  0.        ,  0.78809601,\n",
              "         1.39310361]])"
            ]
          },
          "metadata": {},
          "execution_count": 23
        }
      ],
      "source": [
        "model =LogisticRegression(class_weight = 'balanced', random_state=RANDOM_STATE, penalty = 'l1' , solver = 'saga',C=0.4)\n",
        "model.fit(X_train_scalled, y_train)\n",
        "acc1 = accuracy_score(y_test, model.predict(X_test_scalled))\n",
        "model.coef_"
      ]
    },
    {
      "cell_type": "code",
      "execution_count": null,
      "id": "b3f82e05",
      "metadata": {
        "id": "b3f82e05",
        "scrolled": false,
        "colab": {
          "base_uri": "https://localhost:8080/",
          "height": 447
        },
        "outputId": "3d919be0-d1b9-4f1a-a05e-d5363aad7075"
      },
      "outputs": [
        {
          "output_type": "execute_result",
          "data": {
            "text/plain": [
              "<Axes: ylabel='Feature'>"
            ]
          },
          "metadata": {},
          "execution_count": 24
        },
        {
          "output_type": "display_data",
          "data": {
            "text/plain": [
              "<Figure size 640x480 with 1 Axes>"
            ],
            "image/png": "[encoded data removed]"
          },
          "metadata": {}
        }
      ],
      "source": [
        "coefficients = model.coef_[0]\n",
        "feature_importance = pd.DataFrame({'Feature': poly.get_feature_names_out(),\n",
        "                                   'Importance':np.abs(coefficients )}).sort_values('Importance', ascending=True)\n",
        "\n",
        "# График важности признаков\n",
        "feature_importance.plot(x='Feature',y='Importance',kind='barh')"
      ]
    },
    {
      "cell_type": "markdown",
      "id": "4937cd5e",
      "metadata": {
        "id": "4937cd5e"
      },
      "source": [
        "Выходит, модель обнулила коэффициенты десяти признаков, однако она всё равно отобрала признаки менее эффективно, чем `SelectKBest`."
      ]
    },
    {
      "cell_type": "markdown",
      "id": "50f37f95",
      "metadata": {
        "id": "50f37f95"
      },
      "source": [
        "## SVC"
      ]
    },
    {
      "cell_type": "markdown",
      "id": "7988021f",
      "metadata": {
        "id": "7988021f"
      },
      "source": [
        "Взяв от логистической регрессии максимум, сравним её с другими моделями. Для начала — c `SVM`, которая часто показывала себя хорошо на данных «Морских гадах»."
      ]
    },
    {
      "cell_type": "markdown",
      "id": "16ef7052",
      "metadata": {
        "id": "16ef7052"
      },
      "source": [
        "Инициализируем модель `SVC` и посмотрим на качество её предсказаний без настройки гиперпараметров и отбора признаков на полиномиальном наборе признаков"
      ]
    },
    {
      "cell_type": "code",
      "execution_count": null,
      "id": "47b66d6d",
      "metadata": {
        "id": "47b66d6d",
        "colab": {
          "base_uri": "https://localhost:8080/"
        },
        "outputId": "c68a9b8d-6742-4fdb-93b1-0963b19469d6"
      },
      "outputs": [
        {
          "output_type": "execute_result",
          "data": {
            "text/plain": [
              "0.6092307692307692"
            ]
          },
          "metadata": {},
          "execution_count": 25
        }
      ],
      "source": [
        "model =SVC(class_weight='balanced').fit(X_train_scalled,y_train)\n",
        "\n",
        "acc1 =accuracy_score(y_test,model.predict(X_test_scalled))\n",
        "acc1"
      ]
    },
    {
      "cell_type": "markdown",
      "id": "8120586f",
      "metadata": {
        "id": "8120586f"
      },
      "source": [
        "Результат немного хуже, чем у базовой модели. Поможет ли отбор признаков?\n",
        "\n"
      ]
    },
    {
      "cell_type": "markdown",
      "id": "28210084",
      "metadata": {
        "id": "28210084"
      },
      "source": [
        "Подберите количество лучших признаков для модели `SVC()`. Выведите на экран количество признаков, значение переменной `acc1`, `accuracy` при разном количестве признаков и количество сэкономленных средств компании."
      ]
    },
    {
      "cell_type": "code",
      "execution_count": null,
      "id": "5ad2aea3",
      "metadata": {
        "id": "5ad2aea3",
        "colab": {
          "base_uri": "https://localhost:8080/"
        },
        "outputId": "879adc3e-44aa-4fab-b4d8-ba05b974f0b4"
      },
      "outputs": [
        {
          "output_type": "stream",
          "name": "stdout",
          "text": [
            "Число признаков:  1 accuracy_last =  0.60923 accuracy =  0.53846 money =  1102594.108\n",
            "Число признаков:  2 accuracy_last =  0.60923 accuracy =  0.53846 money =  1102594.108\n",
            "Число признаков:  3 accuracy_last =  0.60923 accuracy =  0.53846 money =  1102594.108\n",
            "Число признаков:  4 accuracy_last =  0.60923 accuracy =  0.53846 money =  1102594.108\n",
            "Число признаков:  5 accuracy_last =  0.60923 accuracy =  0.53846 money =  1102594.108\n",
            "Число признаков:  6 accuracy_last =  0.60923 accuracy =  0.54154 money =  1111986.204\n",
            "Число признаков:  7 accuracy_last =  0.60923 accuracy =  0.53846 money =  1102727.78\n",
            "Число признаков:  8 accuracy_last =  0.60923 accuracy =  0.54154 money =  1111698.924\n",
            "Число признаков:  9 accuracy_last =  0.60923 accuracy =  0.53846 money =  1102727.78\n",
            "Число признаков:  10 accuracy_last =  0.60923 accuracy =  0.59077 money =  1177743.116\n",
            "Число признаков:  11 accuracy_last =  0.60923 accuracy =  0.57846 money =  1158485.84\n",
            "Число признаков:  12 accuracy_last =  0.60923 accuracy =  0.60615 money =  1182587.56\n",
            "Число признаков:  13 accuracy_last =  0.60923 accuracy =  0.60308 money =  1171245.244\n",
            "Число признаков:  14 accuracy_last =  0.60923 accuracy =  0.60923 money =  1199483.432\n",
            "Число признаков:  15 accuracy_last =  0.60923 accuracy =  0.59692 money =  1161281.78\n",
            "Число признаков:  16 accuracy_last =  0.60923 accuracy =  0.6 money =  1163028.42\n",
            "Число признаков:  17 accuracy_last =  0.60923 accuracy =  0.59692 money =  1156538.02\n",
            "Число признаков:  18 accuracy_last =  0.60923 accuracy =  0.60615 money =  1180629.332\n",
            "Число признаков:  19 accuracy_last =  0.60923 accuracy =  0.60615 money =  1180629.332\n",
            "Число признаков:  20 accuracy_last =  0.60923 accuracy =  0.60923 money =  1187336.892\n",
            "Число признаков:  21 accuracy_last =  0.60923 accuracy =  0.60923 money =  1187336.892\n"
          ]
        }
      ],
      "source": [
        "# объявляем селектор\n",
        "# он будет подбирать разное количество признаков за счёт цикла\n",
        "# обучите модель с разным числом признаков и сравните их точность с базовой моделью\n",
        "for i in range(len(X_test_df.columns)):\n",
        "    selector = SelectKBest(f_classif, k= i + 1)\n",
        "    selector.fit(X_train_scalled, y_train)\n",
        "\n",
        "    features_names = X_train_scalled.columns[selector.get_support(indices=True)]\n",
        "\n",
        "    X_train_new = X_train_scalled[list(features_names)]\n",
        "    X_test_new = X_test_scalled[list(features_names)]\n",
        "\n",
        "    model = SVC(class_weight = 'balanced', kernel = 'rbf')\n",
        "    model.fit(X_train_new, y_train)\n",
        "\n",
        "    acc_new = accuracy_score(y_test, model.predict(X_test_new))\n",
        "\n",
        "    predicts = X_test_df[['summ_']].copy()\n",
        "    predicts['svm'] = model.predict(X_test_new)\n",
        "    predicts['y_test'] = y_test.tolist()\n",
        "\n",
        "    TP = predicts[(predicts['svm']==1)&(predicts['y_test']==1)]['summ_'].sum()*0.7*0.8\n",
        "    FP = predicts[(predicts['svm']==1)&(predicts['y_test']==0)]['summ_'].sum()*0.2\n",
        "\n",
        "    print('Число признаков: ', i+1, 'accuracy_last = ', round(acc1, 5), 'accuracy = ', round(acc_new, 5), 'money = ', round(TP-FP,3))\n"
      ]
    },
    {
      "cell_type": "markdown",
      "id": "29705348",
      "metadata": {
        "id": "29705348"
      },
      "source": [
        "Превзойти не удалось, увы. Качество модели остается низкое, несмотря на достаточно высокую экономию средств. Видимо, после внедрения предоплаты данные стали слишком простыми, и `SVM` больше не нужна.\n",
        "\n",
        "Осталось проверить дерево решений.\n"
      ]
    },
    {
      "cell_type": "markdown",
      "id": "f0b12370",
      "metadata": {
        "id": "f0b12370"
      },
      "source": [
        "Какие признаки отобрал метод опорных векторов?"
      ]
    },
    {
      "cell_type": "code",
      "execution_count": null,
      "id": "e51ce198",
      "metadata": {
        "id": "e51ce198",
        "colab": {
          "base_uri": "https://localhost:8080/"
        },
        "outputId": "1c5de6ae-826b-4009-c7a3-6c8c37f5ca3b"
      },
      "outputs": [
        {
          "output_type": "execute_result",
          "data": {
            "text/plain": [
              "array(['reject_count', 'confirm_count', 'summ_', 'count_position',\n",
              "       'reject_count^2', 'reject_count last_summ', 'reject_count summ_',\n",
              "       'reject_count count_position', 'confirm_count^2',\n",
              "       'last_summ summ_', 'last_summ count_position', 'summ_^2',\n",
              "       'summ_ count_position', 'count_position^2'], dtype=object)"
            ]
          },
          "metadata": {},
          "execution_count": 28
        }
      ],
      "source": [
        "selector =SelectKBest(f_classif,k=14)\n",
        "selector.fit_transform(X_train_scalled, y_train)\n",
        "features_names =selector.get_feature_names_out()\n",
        "features_names"
      ]
    },
    {
      "cell_type": "markdown",
      "id": "ab7bd8fd",
      "metadata": {
        "id": "ab7bd8fd"
      },
      "source": [
        "`SelectKBest` оставил исходные признаки: количество отменённых заказов за всю историю, количество подтверждённых заказов, стоимость последнего заказа клиента и число позиций в последнем заказе. Вместе с ними в модели остались комбинации разных признаков."
      ]
    },
    {
      "cell_type": "markdown",
      "id": "7fcc8492",
      "metadata": {
        "id": "7fcc8492"
      },
      "source": [
        "## Дерево решений"
      ]
    },
    {
      "cell_type": "markdown",
      "id": "d3c1c79e",
      "metadata": {
        "id": "d3c1c79e"
      },
      "source": [
        "Обучим стандартную модель с полиномиальными признаками:"
      ]
    },
    {
      "cell_type": "code",
      "execution_count": null,
      "id": "630c7318",
      "metadata": {
        "id": "630c7318",
        "colab": {
          "base_uri": "https://localhost:8080/"
        },
        "outputId": "d27e2a34-9e0d-479e-843d-6e6cba815963"
      },
      "outputs": [
        {
          "output_type": "execute_result",
          "data": {
            "text/plain": [
              "0.6523076923076923"
            ]
          },
          "metadata": {},
          "execution_count": 29
        }
      ],
      "source": [
        "# обучим модель, выведем её accuracy\n",
        "model =DecisionTreeClassifier(class_weight='balanced',random_state=RANDOM_STATE).fit(X_train_scalled,y_train)\n",
        "\n",
        "acc1 =accuracy_score(y_test,model.predict(X_test_scalled))\n",
        "acc1"
      ]
    },
    {
      "cell_type": "markdown",
      "id": "f6149e46",
      "metadata": {
        "id": "f6149e46"
      },
      "source": [
        "Очень хороший результат! Посмотрим на важность признаков:"
      ]
    },
    {
      "cell_type": "code",
      "execution_count": null,
      "id": "cd3b3f46",
      "metadata": {
        "id": "cd3b3f46",
        "colab": {
          "base_uri": "https://localhost:8080/",
          "height": 539
        },
        "outputId": "1cab1d7c-fe3b-4a5a-fde7-17920eac3808"
      },
      "outputs": [
        {
          "output_type": "execute_result",
          "data": {
            "text/plain": [
              "<Axes: ylabel='Feature'>"
            ]
          },
          "metadata": {},
          "execution_count": 31
        },
        {
          "output_type": "display_data",
          "data": {
            "text/plain": [
              "<Figure size 1000x600 with 1 Axes>"
            ],
            "image/png": "[encoded data removed]"
          },
          "metadata": {}
        }
      ],
      "source": [
        "feature_importance = pd.DataFrame({'Feature': poly.get_feature_names_out(),\n",
        "                                   'Importance':model.feature_importances_ }).sort_values('Importance', ascending=True)\n",
        "# График важности признаков\n",
        "feature_importance.plot(x='Feature', y='Importance', kind='barh', figsize=(10, 6))\n"
      ]
    },
    {
      "cell_type": "markdown",
      "id": "88f605b4",
      "metadata": {
        "id": "88f605b4"
      },
      "source": [
        "От лишних признаков стоит избавиться с помощью `SelectKBest`.\n",
        "\n",
        "Для линейной регрессии вы использовали статистический тест `f_classif`, поскольку оценивали линейное влияние входных признаков на целевой.\n",
        "\n",
        "Дерево решений не ищет линейные зависимости, поэтому выбираем другой метод — `mutual_info_classif`:"
      ]
    },
    {
      "cell_type": "code",
      "execution_count": null,
      "id": "74104a45",
      "metadata": {
        "id": "74104a45",
        "scrolled": false,
        "colab": {
          "base_uri": "https://localhost:8080/"
        },
        "outputId": "aed8ed39-9444-4094-f5a4-f532561783e1"
      },
      "outputs": [
        {
          "output_type": "stream",
          "name": "stdout",
          "text": [
            "Число признаков:  1 accuracy_last =  0.65231 accuracy =  0.59077 money =  1058410.84\n",
            "Число признаков:  2 accuracy_last =  0.65231 accuracy =  0.60923 money =  1330183.38\n",
            "Число признаков:  3 accuracy_last =  0.65231 accuracy =  0.65231 money =  1429783.896\n",
            "Число признаков:  4 accuracy_last =  0.65231 accuracy =  0.64615 money =  1409864.328\n",
            "Число признаков:  5 accuracy_last =  0.65231 accuracy =  0.59692 money =  1288062.616\n",
            "Число признаков:  6 accuracy_last =  0.65231 accuracy =  0.68308 money =  1404862.844\n",
            "Число признаков:  7 accuracy_last =  0.65231 accuracy =  0.65231 money =  1427843.528\n",
            "Число признаков:  8 accuracy_last =  0.65231 accuracy =  0.66769 money =  1441018.224\n",
            "Число признаков:  9 accuracy_last =  0.65231 accuracy =  0.66154 money =  1411147.288\n",
            "Число признаков:  10 accuracy_last =  0.65231 accuracy =  0.66769 money =  1422618.524\n",
            "Число признаков:  11 accuracy_last =  0.65231 accuracy =  0.69538 money =  1450872.86\n",
            "Число признаков:  12 accuracy_last =  0.65231 accuracy =  0.69538 money =  1453877.544\n",
            "Число признаков:  13 accuracy_last =  0.65231 accuracy =  0.66769 money =  1429599.384\n",
            "Число признаков:  14 accuracy_last =  0.65231 accuracy =  0.67385 money =  1442455.024\n",
            "Число признаков:  15 accuracy_last =  0.65231 accuracy =  0.67692 money =  1443297.996\n",
            "Число признаков:  16 accuracy_last =  0.65231 accuracy =  0.68308 money =  1425993.604\n",
            "Число признаков:  17 accuracy_last =  0.65231 accuracy =  0.68615 money =  1419597.34\n",
            "Число признаков:  18 accuracy_last =  0.65231 accuracy =  0.69538 money =  1448087.968\n",
            "Число признаков:  19 accuracy_last =  0.65231 accuracy =  0.65538 money =  1427281.512\n",
            "Число признаков:  20 accuracy_last =  0.65231 accuracy =  0.66462 money =  1423033.032\n",
            "Число признаков:  21 accuracy_last =  0.65231 accuracy =  0.65231 money =  1418597.692\n"
          ]
        }
      ],
      "source": [
        "accs_tree = []\n",
        "money_tree = []\n",
        "\n",
        "# объявляем селектор\n",
        "# он будет подбирать разное количество признаков за счёт цикла\n",
        "# обучим модель с разным числом признаков и сравним их с точностью лучшей модели\n",
        "for i in range(len(X_test_df.columns)):\n",
        "    selector = SelectKBest(mutual_info_classif, k=i+1)\n",
        "    selector.fit(X_train_scalled, y_train)\n",
        "\n",
        "    features_names = selector.get_feature_names_out()\n",
        "\n",
        "    X_train_new = X_train_scalled[list(features_names)]\n",
        "    X_test_new = X_test_scalled[list(features_names)]\n",
        "\n",
        "    model = DecisionTreeClassifier(class_weight = 'balanced', random_state=RANDOM_STATE)\n",
        "    model.fit(X_train_new, y_train)\n",
        "\n",
        "    acc_new = accuracy_score(y_test, model.predict(X_test_new))\n",
        "\n",
        "    predicts = X_test_df[['summ_']].copy()\n",
        "    predicts['tree'] = model.predict(X_test_new)\n",
        "    predicts['y_test'] = y_test.tolist()\n",
        "\n",
        "    TP = predicts[(predicts['tree']==1)&(predicts['y_test']==1)]['summ_'].sum()*0.7*0.8\n",
        "    FP = predicts[(predicts['tree']==1)&(predicts['y_test']==0)]['summ_'].sum()*0.2\n",
        "\n",
        "    accs_tree.append(acc_new)\n",
        "    money_tree.append(TP-FP)\n",
        "\n",
        "    print('Число признаков: ', i+1, 'accuracy_last = ', round(acc1, 5), 'accuracy = ', round(acc_new, 5), 'money = ', round(TP-FP,3))\n",
        "\n"
      ]
    },
    {
      "cell_type": "markdown",
      "id": "2ab7fc5d",
      "metadata": {
        "id": "2ab7fc5d"
      },
      "source": [
        "У дерева решений с 17 и 18 признаками качество выше лучшей версии логистической регрессии, при этом оно экономит больше денег.\n",
        "\n",
        "Какие признаки отобрало дерево решений?"
      ]
    },
    {
      "cell_type": "code",
      "execution_count": null,
      "id": "9368d2b9",
      "metadata": {
        "id": "9368d2b9",
        "colab": {
          "base_uri": "https://localhost:8080/"
        },
        "outputId": "44bd2242-d8b6-46ce-8fa4-bee29432fcce"
      },
      "outputs": [
        {
          "output_type": "execute_result",
          "data": {
            "text/plain": [
              "array(['confirm_count', 'summ_', 'count_position', 'reject_count summ_',\n",
              "       'confirm_count^2', 'confirm_count summ_',\n",
              "       'confirm_count count_position', 'last_summ summ_', 'summ_^2',\n",
              "       'summ_ count_position', 'count_position^2'], dtype=object)"
            ]
          },
          "metadata": {},
          "execution_count": 34
        }
      ],
      "source": [
        "selector =SelectKBest(mutual_info_classif,k=11).fit(X_train_scalled, y_train)\n",
        "\n",
        "features_names =selector.get_feature_names_out()\n",
        "features_names"
      ]
    },
    {
      "cell_type": "markdown",
      "id": "9751c0ca",
      "metadata": {
        "id": "9751c0ca"
      },
      "source": [
        "## Корреляция между метриками и сэкономленными деньгами"
      ]
    },
    {
      "cell_type": "markdown",
      "id": "b2625081",
      "metadata": {
        "id": "b2625081"
      },
      "source": [
        "Выше мы заметили, что прирост значений метрики не всегда сопровождается большей экономией денег. Разберёмся, почему так.\n",
        "\n",
        "Для начала нужно посчитать корреляцию Пирсона между `accuracy` и оценкой сберегаемых средств, а затем посмотреть, изменится ли взаимосвязь, если оценивать модель другой метрикой. Также стоит применить эти расчёты к обеим моделям с лучшим качеством: к логистической регрессии и к дереву решений.\n",
        "\n",
        "Посмотрим на распределение значений логистической регрессии на диаграмме рассеяния:"
      ]
    },
    {
      "cell_type": "code",
      "execution_count": null,
      "id": "edc9ef7b",
      "metadata": {
        "id": "edc9ef7b",
        "colab": {
          "base_uri": "https://localhost:8080/",
          "height": 466
        },
        "outputId": "25b3cc2e-200f-439b-dd5a-b6efef835919"
      },
      "outputs": [
        {
          "output_type": "execute_result",
          "data": {
            "text/plain": [
              "<Axes: xlabel='money', ylabel='accuracy'>"
            ]
          },
          "metadata": {},
          "execution_count": 36
        },
        {
          "output_type": "display_data",
          "data": {
            "text/plain": [
              "<Figure size 640x480 with 1 Axes>"
            ],
            "image/png": "[encoded data removed]"
          },
          "metadata": {}
        }
      ],
      "source": [
        "# строим диаграмму рассеяния между метрикой и сэкономленными деньгами\n",
        "\n",
        "quality = pd.DataFrame()\n",
        "quality['money'] = money_logreg\n",
        "quality['accuracy'] = accs_logreg\n",
        "\n",
        "# Диаграмма рассеяния accuracy от money\n",
        "sns.scatterplot(x=quality['money'],y=quality['accuracy'])"
      ]
    },
    {
      "cell_type": "markdown",
      "id": "7bb400da",
      "metadata": {
        "id": "7bb400da"
      },
      "source": [
        "Видим некоторую зависимость. Вычислим коэффициент корреляции:"
      ]
    },
    {
      "cell_type": "code",
      "execution_count": null,
      "id": "f786229d",
      "metadata": {
        "id": "f786229d",
        "colab": {
          "base_uri": "https://localhost:8080/",
          "height": 112
        },
        "outputId": "489e5b90-f067-4707-888a-810254780e92"
      },
      "outputs": [
        {
          "output_type": "execute_result",
          "data": {
            "text/plain": [
              "             money  accuracy\n",
              "money     1.000000  0.919719\n",
              "accuracy  0.919719  1.000000"
            ],
            "text/html": [
              "\n",
              "  <div id=\"df-60b9ab6d-ac52-4ac4-a965-95b51c82e367\" class=\"colab-df-container\">\n",
              "    <div>\n",
              "<style scoped>\n",
              "    .dataframe tbody tr th:only-of-type {\n",
              "        vertical-align: middle;\n",
              "    }\n",
              "\n",
              "    .dataframe tbody tr th {\n",
              "        vertical-align: top;\n",
              "    }\n",
              "\n",
              "    .dataframe thead th {\n",
              "        text-align: right;\n",
              "    }\n",
              "</style>\n",
              "<table border=\"1\" class=\"dataframe\">\n",
              "  <thead>\n",
              "    <tr style=\"text-align: right;\">\n",
              "      <th></th>\n",
              "      <th>money</th>\n",
              "      <th>accuracy</th>\n",
              "    </tr>\n",
              "  </thead>\n",
              "  <tbody>\n",
              "    <tr>\n",
              "      <th>money</th>\n",
              "      <td>1.000000</td>\n",
              "      <td>0.919719</td>\n",
              "    </tr>\n",
              "    <tr>\n",
              "      <th>accuracy</th>\n",
              "      <td>0.919719</td>\n",
              "      <td>1.000000</td>\n",
              "    </tr>\n",
              "  </tbody>\n",
              "</table>\n",
              "</div>\n",
              "    <div class=\"colab-df-buttons\">\n",
              "\n",
              "  <div class=\"colab-df-container\">\n",
              "    <button class=\"colab-df-convert\" onclick=\"convertToInteractive('df-60b9ab6d-ac52-4ac4-a965-95b51c82e367')\"\n",
              "            title=\"Convert this dataframe to an interactive table.\"\n",
              "            style=\"display:none;\">\n",
              "\n",
              "  <svg xmlns=\"http://www.w3.org/2000/svg\" height=\"24px\" viewBox=\"0 -960 960 960\">\n",
              "    <path d=\"M120-120v-720h720v720H120Zm60-500h600v-160H180v160Zm220 220h160v-160H400v160Zm0 220h160v-160H400v160ZM180-400h160v-160H180v160Zm440 0h160v-160H620v160ZM180-180h160v-160H180v160Zm440 0h160v-160H620v160Z\"/>\n",
              "  </svg>\n",
              "    </button>\n",
              "\n",
              "  <style>\n",
              "    .colab-df-container {\n",
              "      display:flex;\n",
              "      gap: 12px;\n",
              "    }\n",
              "\n",
              "    .colab-df-convert {\n",
              "      background-color: #E8F0FE;\n",
              "      border: none;\n",
              "      border-radius: 50%;\n",
              "      cursor: pointer;\n",
              "      display: none;\n",
              "      fill: #1967D2;\n",
              "      height: 32px;\n",
              "      padding: 0 0 0 0;\n",
              "      width: 32px;\n",
              "    }\n",
              "\n",
              "    .colab-df-convert:hover {\n",
              "      background-color: #E2EBFA;\n",
              "      box-shadow: 0px 1px 2px rgba(60, 64, 67, 0.3), 0px 1px 3px 1px rgba(60, 64, 67, 0.15);\n",
              "      fill: #174EA6;\n",
              "    }\n",
              "\n",
              "    .colab-df-buttons div {\n",
              "      margin-bottom: 4px;\n",
              "    }\n",
              "\n",
              "    [theme=dark] .colab-df-convert {\n",
              "      background-color: #3B4455;\n",
              "      fill: #D2E3FC;\n",
              "    }\n",
              "\n",
              "    [theme=dark] .colab-df-convert:hover {\n",
              "      background-color: #434B5C;\n",
              "      box-shadow: 0px 1px 3px 1px rgba(0, 0, 0, 0.15);\n",
              "      filter: drop-shadow(0px 1px 2px rgba(0, 0, 0, 0.3));\n",
              "      fill: #FFFFFF;\n",
              "    }\n",
              "  </style>\n",
              "\n",
              "    <script>\n",
              "      const buttonEl =\n",
              "        document.querySelector('#df-60b9ab6d-ac52-4ac4-a965-95b51c82e367 button.colab-df-convert');\n",
              "      buttonEl.style.display =\n",
              "        google.colab.kernel.accessAllowed ? 'block' : 'none';\n",
              "\n",
              "      async function convertToInteractive(key) {\n",
              "        const element = document.querySelector('#df-60b9ab6d-ac52-4ac4-a965-95b51c82e367');\n",
              "        const dataTable =\n",
              "          await google.colab.kernel.invokeFunction('convertToInteractive',\n",
              "                                                    [key], {});\n",
              "        if (!dataTable) return;\n",
              "\n",
              "        const docLinkHtml = 'Like what you see? Visit the ' +\n",
              "          '<a target=\"_blank\" href=https://colab.research.google.com/notebooks/data_table.ipynb>data table notebook</a>'\n",
              "          + ' to learn more about interactive tables.';\n",
              "        element.innerHTML = '';\n",
              "        dataTable['output_type'] = 'display_data';\n",
              "        await google.colab.output.renderOutput(dataTable, element);\n",
              "        const docLink = document.createElement('div');\n",
              "        docLink.innerHTML = docLinkHtml;\n",
              "        element.appendChild(docLink);\n",
              "      }\n",
              "    </script>\n",
              "  </div>\n",
              "\n",
              "\n",
              "<div id=\"df-a9ebbab2-bd46-4112-bcf0-cbd9615a94aa\">\n",
              "  <button class=\"colab-df-quickchart\" onclick=\"quickchart('df-a9ebbab2-bd46-4112-bcf0-cbd9615a94aa')\"\n",
              "            title=\"Suggest charts\"\n",
              "            style=\"display:none;\">\n",
              "\n",
              "<svg xmlns=\"http://www.w3.org/2000/svg\" height=\"24px\"viewBox=\"0 0 24 24\"\n",
              "     width=\"24px\">\n",
              "    <g>\n",
              "        <path d=\"M19 3H5c-1.1 0-2 .9-2 2v14c0 1.1.9 2 2 2h14c1.1 0 2-.9 2-2V5c0-1.1-.9-2-2-2zM9 17H7v-7h2v7zm4 0h-2V7h2v10zm4 0h-2v-4h2v4z\"/>\n",
              "    </g>\n",
              "</svg>\n",
              "  </button>\n",
              "\n",
              "<style>\n",
              "  .colab-df-quickchart {\n",
              "      --bg-color: #E8F0FE;\n",
              "      --fill-color: #1967D2;\n",
              "      --hover-bg-color: #E2EBFA;\n",
              "      --hover-fill-color: #174EA6;\n",
              "      --disabled-fill-color: #AAA;\n",
              "      --disabled-bg-color: #DDD;\n",
              "  }\n",
              "\n",
              "  [theme=dark] .colab-df-quickchart {\n",
              "      --bg-color: #3B4455;\n",
              "      --fill-color: #D2E3FC;\n",
              "      --hover-bg-color: #434B5C;\n",
              "      --hover-fill-color: #FFFFFF;\n",
              "      --disabled-bg-color: #3B4455;\n",
              "      --disabled-fill-color: #666;\n",
              "  }\n",
              "\n",
              "  .colab-df-quickchart {\n",
              "    background-color: var(--bg-color);\n",
              "    border: none;\n",
              "    border-radius: 50%;\n",
              "    cursor: pointer;\n",
              "    display: none;\n",
              "    fill: var(--fill-color);\n",
              "    height: 32px;\n",
              "    padding: 0;\n",
              "    width: 32px;\n",
              "  }\n",
              "\n",
              "  .colab-df-quickchart:hover {\n",
              "    background-color: var(--hover-bg-color);\n",
              "    box-shadow: 0 1px 2px rgba(60, 64, 67, 0.3), 0 1px 3px 1px rgba(60, 64, 67, 0.15);\n",
              "    fill: var(--button-hover-fill-color);\n",
              "  }\n",
              "\n",
              "  .colab-df-quickchart-complete:disabled,\n",
              "  .colab-df-quickchart-complete:disabled:hover {\n",
              "    background-color: var(--disabled-bg-color);\n",
              "    fill: var(--disabled-fill-color);\n",
              "    box-shadow: none;\n",
              "  }\n",
              "\n",
              "  .colab-df-spinner {\n",
              "    border: 2px solid var(--fill-color);\n",
              "    border-color: transparent;\n",
              "    border-bottom-color: var(--fill-color);\n",
              "    animation:\n",
              "      spin 1s steps(1) infinite;\n",
              "  }\n",
              "\n",
              "  @keyframes spin {\n",
              "    0% {\n",
              "      border-color: transparent;\n",
              "      border-bottom-color: var(--fill-color);\n",
              "      border-left-color: var(--fill-color);\n",
              "    }\n",
              "    20% {\n",
              "      border-color: transparent;\n",
              "      border-left-color: var(--fill-color);\n",
              "      border-top-color: var(--fill-color);\n",
              "    }\n",
              "    30% {\n",
              "      border-color: transparent;\n",
              "      border-left-color: var(--fill-color);\n",
              "      border-top-color: var(--fill-color);\n",
              "      border-right-color: var(--fill-color);\n",
              "    }\n",
              "    40% {\n",
              "      border-color: transparent;\n",
              "      border-right-color: var(--fill-color);\n",
              "      border-top-color: var(--fill-color);\n",
              "    }\n",
              "    60% {\n",
              "      border-color: transparent;\n",
              "      border-right-color: var(--fill-color);\n",
              "    }\n",
              "    80% {\n",
              "      border-color: transparent;\n",
              "      border-right-color: var(--fill-color);\n",
              "      border-bottom-color: var(--fill-color);\n",
              "    }\n",
              "    90% {\n",
              "      border-color: transparent;\n",
              "      border-bottom-color: var(--fill-color);\n",
              "    }\n",
              "  }\n",
              "</style>\n",
              "\n",
              "  <script>\n",
              "    async function quickchart(key) {\n",
              "      const quickchartButtonEl =\n",
              "        document.querySelector('#' + key + ' button');\n",
              "      quickchartButtonEl.disabled = true;  // To prevent multiple clicks.\n",
              "      quickchartButtonEl.classList.add('colab-df-spinner');\n",
              "      try {\n",
              "        const charts = await google.colab.kernel.invokeFunction(\n",
              "            'suggestCharts', [key], {});\n",
              "      } catch (error) {\n",
              "        console.error('Error during call to suggestCharts:', error);\n",
              "      }\n",
              "      quickchartButtonEl.classList.remove('colab-df-spinner');\n",
              "      quickchartButtonEl.classList.add('colab-df-quickchart-complete');\n",
              "    }\n",
              "    (() => {\n",
              "      let quickchartButtonEl =\n",
              "        document.querySelector('#df-a9ebbab2-bd46-4112-bcf0-cbd9615a94aa button');\n",
              "      quickchartButtonEl.style.display =\n",
              "        google.colab.kernel.accessAllowed ? 'block' : 'none';\n",
              "    })();\n",
              "  </script>\n",
              "</div>\n",
              "    </div>\n",
              "  </div>\n"
            ],
            "application/vnd.google.colaboratory.intrinsic+json": {
              "type": "dataframe",
              "summary": "{\n  \"name\": \"quality\",\n  \"rows\": 2,\n  \"fields\": [\n    {\n      \"column\": \"money\",\n      \"properties\": {\n        \"dtype\": \"number\",\n        \"std\": 0.05676700193746229,\n        \"min\": 0.9197193359647811,\n        \"max\": 1.0,\n        \"num_unique_values\": 2,\n        \"samples\": [\n          0.9197193359647811,\n          1.0\n        ],\n        \"semantic_type\": \"\",\n        \"description\": \"\"\n      }\n    },\n    {\n      \"column\": \"accuracy\",\n      \"properties\": {\n        \"dtype\": \"number\",\n        \"std\": 0.05676700193746229,\n        \"min\": 0.9197193359647811,\n        \"max\": 1.0,\n        \"num_unique_values\": 2,\n        \"samples\": [\n          1.0,\n          0.9197193359647811\n        ],\n        \"semantic_type\": \"\",\n        \"description\": \"\"\n      }\n    }\n  ]\n}"
            }
          },
          "metadata": {},
          "execution_count": 37
        }
      ],
      "source": [
        "quality.corr()"
      ]
    },
    {
      "cell_type": "markdown",
      "id": "cc468fb8",
      "metadata": {
        "id": "cc468fb8"
      },
      "source": [
        "Теперь посмотрим на связь между сэкономленными деньгами и `ROC-AUC`:"
      ]
    },
    {
      "cell_type": "code",
      "execution_count": null,
      "id": "06b25043",
      "metadata": {
        "id": "06b25043"
      },
      "outputs": [],
      "source": [
        "rocs = []\n",
        "money = []\n",
        "for i in range(len(X_test_df.columns)):\n",
        "    selector = SelectKBest(f_classif, k=i+1)\n",
        "    selector.fit(X_train_scalled, y_train)\n",
        "\n",
        "    features_names = selector.get_feature_names_out()\n",
        "\n",
        "    X_train_new = X_train_scalled[list(features_names)]\n",
        "    X_test_new = X_test_scalled[list(features_names)]\n",
        "\n",
        "    model = LogisticRegression(class_weight = 'balanced')\n",
        "    model.fit(X_train_new, y_train)\n",
        "\n",
        "    roc1 = roc_auc_score(y_test.tolist(), model.predict(X_test_new))\n",
        "\n",
        "    predicts = X_test_df[['summ_']].copy()\n",
        "    predicts['logreg'] = model.predict(X_test_new)\n",
        "    predicts['y_test'] = y_test.tolist()\n",
        "\n",
        "    TP = predicts[(predicts['logreg']==1)&(predicts['y_test']==1)]['summ_'].sum()*0.7**0.8\n",
        "    FP = predicts[(predicts['logreg']==1)&(predicts['y_test']==0)]['summ_'].sum()*0.2\n",
        "\n",
        "    rocs.append(roc1)\n",
        "    money.append(TP-FP)"
      ]
    },
    {
      "cell_type": "code",
      "execution_count": null,
      "id": "864387ff",
      "metadata": {
        "id": "864387ff",
        "colab": {
          "base_uri": "https://localhost:8080/",
          "height": 466
        },
        "outputId": "3c76d94c-8b68-4db8-93a7-28633d61f887"
      },
      "outputs": [
        {
          "output_type": "stream",
          "name": "stdout",
          "text": [
            "Коэффициент корреляции =  0.7145936486235094\n"
          ]
        },
        {
          "output_type": "display_data",
          "data": {
            "text/plain": [
              "<Figure size 640x480 with 1 Axes>"
            ],
            "image/png": "[encoded data removed]"
          },
          "metadata": {}
        }
      ],
      "source": [
        "quality = pd.DataFrame()\n",
        "quality['money'] = money\n",
        "quality['ROC-AUC'] = rocs\n",
        "\n",
        "# Диаграмма рассеяния ROC-AUC от money\n",
        "a = sns.scatterplot(data = quality, x = 'money', y = 'ROC-AUC')\n",
        "print('Коэффициент корреляции = ',quality['money'].corr(quality['ROC-AUC']) )"
      ]
    },
    {
      "cell_type": "markdown",
      "id": "753f93c4",
      "metadata": {
        "id": "753f93c4"
      },
      "source": [
        "Лучше не стало… А что насчёт `F1`-меры?"
      ]
    },
    {
      "cell_type": "code",
      "execution_count": null,
      "id": "33d10824",
      "metadata": {
        "id": "33d10824",
        "colab": {
          "base_uri": "https://localhost:8080/"
        },
        "outputId": "3a2c625b-2b66-48bb-d75a-6ade7e254816"
      },
      "outputs": [
        {
          "output_type": "stream",
          "name": "stdout",
          "text": [
            "Число признаков:  1 f1 =  0.54777 money =  1194636.872\n",
            "Число признаков:  2 f1 =  0.53896 money =  1183943.608\n",
            "Число признаков:  3 f1 =  0.53896 money =  1183943.608\n",
            "Число признаков:  4 f1 =  0.53896 money =  1183943.608\n",
            "Число признаков:  5 f1 =  0.53896 money =  1183943.608\n",
            "Число признаков:  6 f1 =  0.5342 money =  1174551.512\n",
            "Число признаков:  7 f1 =  0.5342 money =  1174551.512\n",
            "Число признаков:  8 f1 =  0.53896 money =  1180292.312\n",
            "Число признаков:  9 f1 =  0.53722 money =  1178402.912\n",
            "Число признаков:  10 f1 =  0.60241 money =  1262841.792\n",
            "Число признаков:  11 f1 =  0.62286 money =  1276501.388\n",
            "Число признаков:  12 f1 =  0.66289 money =  1297609.56\n",
            "Число признаков:  13 f1 =  0.66667 money =  1301973.528\n",
            "Число признаков:  14 f1 =  0.67409 money =  1312115.632\n",
            "Число признаков:  15 f1 =  0.66667 money =  1301006.856\n",
            "Число признаков:  16 f1 =  0.65341 money =  1285424.74\n",
            "Число признаков:  17 f1 =  0.67227 money =  1305342.204\n",
            "Число признаков:  18 f1 =  0.66292 money =  1301429.66\n",
            "Число признаков:  19 f1 =  0.6393 money =  1230762.372\n",
            "Число признаков:  20 f1 =  0.63343 money =  1222366.764\n",
            "Число признаков:  21 f1 =  0.63343 money =  1222366.764\n"
          ]
        }
      ],
      "source": [
        "f1= []\n",
        "money = []\n",
        "\n",
        "for i in range(len(X_test_df.columns)):\n",
        "    selector = SelectKBest(f_classif, k=i+1)\n",
        "    selector.fit(X_train_scalled, y_train)\n",
        "\n",
        "    features_names = selector.get_feature_names_out()\n",
        "\n",
        "    X_train_new = X_train_scalled[list(features_names)]\n",
        "    X_test_new = X_test_scalled[list(features_names)]\n",
        "\n",
        "    model = LogisticRegression(class_weight = 'balanced')\n",
        "    model.fit(X_train_new, y_train)\n",
        "\n",
        "    f1_new = f1_score(y_test, model.predict(X_test_new))\n",
        "\n",
        "    predicts = X_test_df[['summ_']].copy()\n",
        "    predicts['logreg'] = model.predict(X_test_new)\n",
        "    predicts['y_test'] = y_test.tolist()\n",
        "\n",
        "    TP = predicts[(predicts['logreg']==1)&(predicts['y_test']==1)]['summ_'].sum()*0.7*0.8\n",
        "    FP = predicts[(predicts['logreg']==1)&(predicts['y_test']==0)]['summ_'].sum()*0.2\n",
        "\n",
        "    f1.append(f1_new)\n",
        "    money.append(TP-FP)\n",
        "\n",
        "    print('Число признаков: ', i+1, 'f1 = ', round(f1_new, 5), 'money = ', round(TP-FP,3))"
      ]
    },
    {
      "cell_type": "markdown",
      "id": "862894fb",
      "metadata": {
        "id": "862894fb"
      },
      "source": [
        "Кажется, что прирост стал гораздо более синхронным. Посмотрим, заметна ли разница на графике и по коэффициенту корреляции:"
      ]
    },
    {
      "cell_type": "code",
      "execution_count": null,
      "id": "0f739c4a",
      "metadata": {
        "id": "0f739c4a",
        "colab": {
          "base_uri": "https://localhost:8080/",
          "height": 469
        },
        "outputId": "27f7bbaf-7a90-46ce-d9ab-740ac4c8d677"
      },
      "outputs": [
        {
          "output_type": "stream",
          "name": "stdout",
          "text": [
            "Коэффициент корреляции =  0.941256835145834\n"
          ]
        },
        {
          "output_type": "display_data",
          "data": {
            "text/plain": [
              "<Figure size 640x480 with 1 Axes>"
            ],
            "image/png": "[encoded data removed]"
          },
          "metadata": {}
        }
      ],
      "source": [
        "quality = pd.DataFrame()\n",
        "quality['money'] = money\n",
        "quality['f1'] = f1\n",
        "\n",
        "# Диаграмма рассеяния f1 от money\n",
        "a = sns.scatterplot(data = quality, x = 'money', y = 'f1')\n",
        "print('Коэффициент корреляции = ',quality['money'].corr(quality['f1']) )"
      ]
    },
    {
      "cell_type": "markdown",
      "id": "4a7699b2",
      "metadata": {
        "id": "4a7699b2"
      },
      "source": [
        "Теперь взглянем на то, есть ли такая же взаимосвязь у показателей дерева решений.\n",
        "\n",
        "Сначала оценим корреляцию между сэкономленными средствами и метрикой `accuracy`."
      ]
    },
    {
      "cell_type": "code",
      "execution_count": null,
      "id": "b5282a49",
      "metadata": {
        "id": "b5282a49",
        "scrolled": true,
        "colab": {
          "base_uri": "https://localhost:8080/",
          "height": 470
        },
        "outputId": "6c54a6b4-787b-4b88-b0a1-24e1f1a76880"
      },
      "outputs": [
        {
          "output_type": "stream",
          "name": "stdout",
          "text": [
            "Коэффициент корреляции = 0.8053463115191611\n"
          ]
        },
        {
          "output_type": "display_data",
          "data": {
            "text/plain": [
              "<Figure size 640x480 with 1 Axes>"
            ],
            "image/png": "[encoded data removed]"
          },
          "metadata": {}
        }
      ],
      "source": [
        "quality = pd.DataFrame()\n",
        "quality['money'] = money_tree\n",
        "quality['accuracy'] = accs_tree\n",
        "\n",
        "# Диаграмма рассеяния accuracy от money\n",
        "a = sns.scatterplot(data = quality, x = 'money', y = 'accuracy')\n",
        "print('Коэффициент корреляции =', quality['money'].corr(quality['accuracy']))"
      ]
    },
    {
      "cell_type": "markdown",
      "id": "a94b978f",
      "metadata": {
        "id": "a94b978f"
      },
      "source": [
        "Теперь посмотрим на корреляцию между метрикой `f1` и сэкономленными деньгами."
      ]
    },
    {
      "cell_type": "code",
      "execution_count": null,
      "id": "283d0d1e",
      "metadata": {
        "id": "283d0d1e",
        "colab": {
          "base_uri": "https://localhost:8080/"
        },
        "outputId": "8217052d-47b3-4f2e-d433-f5800e9ac801"
      },
      "outputs": [
        {
          "output_type": "stream",
          "name": "stdout",
          "text": [
            "Число признаков:  1 f1 =  0.5424836601 money =  1141396.584\n",
            "Число признаков:  2 f1 =  0.6952380952 money =  1288745.28\n",
            "Число признаков:  3 f1 =  0.6983372922 money =  1312624.296\n",
            "Число признаков:  4 f1 =  0.6983372922 money =  1312730.08\n",
            "Число признаков:  5 f1 =  0.7417840376 money =  1378047.608\n",
            "Число признаков:  6 f1 =  0.7242990654 money =  1396622.3\n",
            "Число признаков:  7 f1 =  0.7285382831 money =  1407089.168\n",
            "Число признаков:  8 f1 =  0.7534246575 money =  1441018.224\n",
            "Число признаков:  9 f1 =  0.7441860465 money =  1411147.288\n",
            "Число признаков:  10 f1 =  0.7320574163 money =  1375156.9\n",
            "Число признаков:  11 f1 =  0.7599067599 money =  1428753.736\n",
            "Число признаков:  12 f1 =  0.7612293144 money =  1436071.132\n",
            "Число признаков:  13 f1 =  0.7494033413 money =  1407833.824\n",
            "Число признаков:  14 f1 =  0.7289719626 money =  1383686.1\n",
            "Число признаков:  15 f1 =  0.7614678899 money =  1445172.176\n",
            "Число признаков:  16 f1 =  0.7546296296 money =  1415498.388\n",
            "Число признаков:  17 f1 =  0.7800453515 money =  1470058.192\n",
            "Число признаков:  18 f1 =  0.7734553776 money =  1448087.968\n",
            "Число признаков:  19 f1 =  0.7488789238 money =  1427281.512\n",
            "Число признаков:  20 f1 =  0.7517084282 money =  1423033.032\n",
            "Число признаков:  21 f1 =  0.7449209932 money =  1418597.692\n"
          ]
        }
      ],
      "source": [
        "f1= []\n",
        "money = []\n",
        "\n",
        "for i in range(len(X_test_df.columns)):\n",
        "    selector = SelectKBest(mutual_info_classif, k=i+1)\n",
        "    selector.fit(X_train_scalled, y_train)\n",
        "\n",
        "    features_names = selector.get_feature_names_out()\n",
        "\n",
        "    X_train_new = X_train_scalled[list(features_names)]\n",
        "    X_test_new = X_test_scalled[list(features_names)]\n",
        "\n",
        "    model = DecisionTreeClassifier(class_weight = 'balanced', random_state=RANDOM_STATE)\n",
        "    model.fit(X_train_new, y_train)\n",
        "\n",
        "    f1_new = f1_score(y_test, model.predict(X_test_new))\n",
        "\n",
        "    predicts = X_test_df[['summ_']].copy()\n",
        "    predicts['tree'] = model.predict(X_test_new)\n",
        "    predicts['y_test'] = y_test.tolist()\n",
        "\n",
        "    TP = predicts[(predicts['tree']==1)&(predicts['y_test']==1)]['summ_'].sum()*0.7*0.8\n",
        "    FP = predicts[(predicts['tree']==1)&(predicts['y_test']==0)]['summ_'].sum()*0.2\n",
        "\n",
        "    f1.append(f1_new)\n",
        "    money.append(TP-FP)\n",
        "\n",
        "    print('Число признаков: ', i+1, 'f1 = ', round(f1_new, 10), 'money = ', round(TP-FP,3))\n"
      ]
    },
    {
      "cell_type": "markdown",
      "id": "6d65984f",
      "metadata": {
        "id": "6d65984f"
      },
      "source": [
        "Диаграмма рассеяния и коэффициент корреляции:"
      ]
    },
    {
      "cell_type": "code",
      "execution_count": null,
      "id": "415aa499",
      "metadata": {
        "id": "415aa499"
      },
      "outputs": [],
      "source": [
        "quality = pd.DataFrame()\n",
        "quality['money'] = money\n",
        "quality['f1'] = f1\n",
        "# Диаграмма рассеяния f1 от money\n",
        "a = sns.scatterplot(data = quality, x = 'money', y = 'f1')\n",
        "print('Коэффициент корреляции =',quality['money'].corr(quality['accuracy']))"
      ]
    },
    {
      "cell_type": "markdown",
      "id": "601b47fa",
      "metadata": {
        "id": "601b47fa"
      },
      "source": [
        "Итак, зафиксируем результаты анализа:\n",
        "* Оптимальный баланс экономии средств, качества модели и количества признаков показала модель дерева решений с 18 признаками.\n",
        "* Подходящая метрика для задачи — F1-мера."
      ]
    },
    {
      "cell_type": "markdown",
      "id": "2e8bc2ca",
      "metadata": {
        "id": "2e8bc2ca"
      },
      "source": [
        "## Выводы"
      ]
    },
    {
      "cell_type": "markdown",
      "id": "1fc8a178",
      "metadata": {
        "id": "1fc8a178"
      },
      "source": [
        "* Отбор модели и признаков для задачи — это постепенный процесс. Сначала вы обучаете бейзлайн-модель, затем смотрите на её метрики, а потом начинаете искать более надёжные решения, превосходящие базовое по качеству.\n",
        "* Чтобы качественно отобрать признаки, нужно провести тщательный анализ данных и подобрать подходящие для вашей ситуации инструменты. К примеру, перед использованием регрессий достаточно выявить линейные закономерности, а для других моделей подойдут иные статистические тесты.\n",
        "* Не всегда базовая метрика будет коррелировать с показателем, который вы должны улучшить, внедрив модель МО. Поэтому всегда уделяйте время подбору метрики, которая будет корректно отражать способность модели решать вашу задачу."
      ]
    },
    {
      "cell_type": "code",
      "execution_count": null,
      "id": "c0233e7c",
      "metadata": {
        "id": "c0233e7c"
      },
      "outputs": [],
      "source": []
    }
  ],
  "metadata": {
    "colab": {
      "provenance": []
    },
    "kernelspec": {
      "display_name": "Python 3 (ipykernel)",
      "language": "python",
      "name": "python3"
    },
    "language_info": {
      "codemirror_mode": {
        "name": "ipython",
        "version": 3
      },
      "file_extension": ".py",
      "mimetype": "text/x-python",
      "name": "python",
      "nbconvert_exporter": "python",
      "pygments_lexer": "ipython3",
      "version": "3.9.12"
    },
    "toc": {
      "base_numbering": 1,
      "nav_menu": {},
      "number_sections": true,
      "sideBar": true,
      "skip_h1_title": true,
      "title_cell": "Table of Contents",
      "title_sidebar": "Contents",
      "toc_cell": true,
      "toc_position": {},
      "toc_section_display": true,
      "toc_window_display": false
    }
  },
  "nbformat": 4,
  "nbformat_minor": 5
}