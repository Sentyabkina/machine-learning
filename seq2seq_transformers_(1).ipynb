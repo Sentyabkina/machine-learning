{
  "nbformat": 4,
  "nbformat_minor": 0,
  "metadata": {
    "colab": {
      "provenance": [],
      "gpuType": "T4"
    },
    "kernelspec": {
      "name": "python3",
      "display_name": "Python 3"
    },
    "language_info": {
      "name": "python"
    },
    "accelerator": "GPU"
  },
  "cells": [
    {
      "cell_type": "markdown",
      "source": [
        "# Перевод с испанского на английский с помощью модели sequence-to-sequence Transformer"
      ],
      "metadata": {
        "id": "Fqxdh1RjhDEF"
      }
    },
    {
      "cell_type": "markdown",
      "source": [
        "## Introduction\n",
        "\n",
        "Рассмотрим простейшую реализацию модели Transformer, адаптированную из книги [Deep Learning with Python, Second Edition (chapter 11: Deep learning for text)](https://www.piter.com/collection/programmirovanie-osnovy-i-algoritmy/product/glubokoe-obuchenie-na-python-2-e-mezhd-izdanie)."
      ],
      "metadata": {
        "id": "OJEZxyDShNyB"
      }
    },
    {
      "cell_type": "markdown",
      "source": [
        "## Загрузка необходимых библиотек и модулей"
      ],
      "metadata": {
        "id": "92HkkdPGhSjO"
      }
    },
    {
      "cell_type": "code",
      "execution_count": null,
      "metadata": {
        "id": "xXybzN1hhBkO"
      },
      "outputs": [],
      "source": [
        "\n",
        "import os\n",
        "\n",
        "os.environ[\"KERAS_BACKEND\"] = \"tensorflow\"\n",
        "\n",
        "import pathlib\n",
        "import random\n",
        "import string\n",
        "import re\n",
        "import numpy as np\n",
        "\n",
        "import tensorflow.data as tf_data\n",
        "import tensorflow.strings as tf_strings\n",
        "\n",
        "import keras\n",
        "from keras import layers\n",
        "from keras import ops\n",
        "from keras.layers import TextVectorization"
      ]
    },
    {
      "cell_type": "code",
      "source": [
        "import pandas as pd"
      ],
      "metadata": {
        "id": "BjLt8PyqRg5o"
      },
      "execution_count": null,
      "outputs": []
    },
    {
      "cell_type": "markdown",
      "source": [
        "## Загрузка данных"
      ],
      "metadata": {
        "id": "4iL-bXESha6s"
      }
    },
    {
      "cell_type": "markdown",
      "source": [
        "Мы будем работать с набором данных для перевода с испанского на английский, предоставленным компанией [Anki](https://www.manythings.org/anki/)."
      ],
      "metadata": {
        "id": "KlOOaSGxhgQp"
      }
    },
    {
      "cell_type": "code",
      "source": [
        "from google.colab import drive\n",
        "drive.mount('/content/drive')"
      ],
      "metadata": {
        "colab": {
          "base_uri": "https://localhost:8080/"
        },
        "id": "ndjdq2X03mdv",
        "outputId": "86d541a3-1315-4dd8-eed2-20034cedd8fd"
      },
      "execution_count": null,
      "outputs": [
        {
          "output_type": "stream",
          "name": "stdout",
          "text": [
            "Drive already mounted at /content/drive; to attempt to forcibly remount, call drive.mount(\"/content/drive\", force_remount=True).\n"
          ]
        }
      ]
    },
    {
      "cell_type": "markdown",
      "source": [
        "## Анализ и подготовка данных"
      ],
      "metadata": {
        "id": "zRaruwlvhspo"
      }
    },
    {
      "cell_type": "markdown",
      "source": [
        "Каждая строка содержит английское предложение и соответствующее ему предложение на испанском языке. Испанское предложение является исходной последовательностью, а английское - целевой. Мы добавляем к английскому предложению символ `[начало]` и символ `[конец]`."
      ],
      "metadata": {
        "id": "3N2KTPR7hvMP"
      }
    },
    {
      "cell_type": "code",
      "source": [
        "with open('/content/drive/MyDrive/da/fra.txt', 'r', encoding='utf-8') as df:\n",
        "    path_to_file1= df.read()"
      ],
      "metadata": {
        "id": "a8nrPYCiQhm_"
      },
      "execution_count": null,
      "outputs": []
    },
    {
      "cell_type": "code",
      "source": [
        "lines = path_to_file1.split(\"\\n\")[:-1]"
      ],
      "metadata": {
        "id": "A-eNl-5BQtHd"
      },
      "execution_count": null,
      "outputs": []
    },
    {
      "cell_type": "code",
      "source": [
        "lines[0]"
      ],
      "metadata": {
        "colab": {
          "base_uri": "https://localhost:8080/",
          "height": 35
        },
        "id": "LV_cXLLKVZ9D",
        "outputId": "9f26e22e-40b2-443b-8243-864966aa21a2"
      },
      "execution_count": null,
      "outputs": [
        {
          "output_type": "execute_result",
          "data": {
            "text/plain": [
              "'Go.\\tVa !\\tCC-BY 2.0 (France) Attribution: tatoeba.org #2877272 (CM) & #1158250 (Wittydev)'"
            ],
            "application/vnd.google.colaboratory.intrinsic+json": {
              "type": "string"
            }
          },
          "metadata": {},
          "execution_count": 10
        }
      ]
    },
    {
      "cell_type": "code",
      "source": [
        "pairs = [line.split('\\t') for line in lines]"
      ],
      "metadata": {
        "id": "8_ZAuogrT_AR"
      },
      "execution_count": null,
      "outputs": []
    },
    {
      "cell_type": "code",
      "source": [
        "pairs[4][0]"
      ],
      "metadata": {
        "colab": {
          "base_uri": "https://localhost:8080/",
          "height": 35
        },
        "id": "P6o5hxY6RYl5",
        "outputId": "5877d092-81c4-4926-ca8a-1211c5e8535f"
      },
      "execution_count": null,
      "outputs": [
        {
          "output_type": "execute_result",
          "data": {
            "text/plain": [
              "'Hi.'"
            ],
            "application/vnd.google.colaboratory.intrinsic+json": {
              "type": "string"
            }
          },
          "metadata": {},
          "execution_count": 12
        }
      ]
    },
    {
      "cell_type": "code",
      "source": [
        "df=pd.DataFrame(pairs)"
      ],
      "metadata": {
        "id": "a0mU_CB2URjz"
      },
      "execution_count": null,
      "outputs": []
    },
    {
      "cell_type": "code",
      "source": [
        "df=df.drop(columns=2)"
      ],
      "metadata": {
        "id": "Fby6GT38UXdc"
      },
      "execution_count": null,
      "outputs": []
    },
    {
      "cell_type": "code",
      "source": [
        "pairs=df.reset_index(drop=True).values.tolist()"
      ],
      "metadata": {
        "id": "3NvFcqu2UUvr"
      },
      "execution_count": null,
      "outputs": []
    },
    {
      "cell_type": "code",
      "source": [
        "text_pairs = []\n",
        "for i in range(len(pairs)):\n",
        "  spa=pairs[i][1]\n",
        "  eng=pairs[i][0]\n",
        "  eng = \"[start] \" + eng + \" [end]\"\n",
        "  text_pairs.append((spa, eng))"
      ],
      "metadata": {
        "id": "UD0gbQW2Wzug"
      },
      "execution_count": null,
      "outputs": []
    },
    {
      "cell_type": "code",
      "source": [
        "text_pairs"
      ],
      "metadata": {
        "colab": {
          "base_uri": "https://localhost:8080/"
        },
        "id": "BoKXbgAYXocQ",
        "outputId": "a363d09c-636d-401f-b66b-9b15875809c4"
      },
      "execution_count": null,
      "outputs": [
        {
          "output_type": "execute_result",
          "data": {
            "text/plain": [
              "[('Va !', '[start] Go. [end]'),\n",
              " ('Marche.', '[start] Go. [end]'),\n",
              " ('En route !', '[start] Go. [end]'),\n",
              " ('Bouge !', '[start] Go. [end]'),\n",
              " ('Salut !', '[start] Hi. [end]'),\n",
              " ('Salut.', '[start] Hi. [end]'),\n",
              " ('Cours\\u202f!', '[start] Run! [end]'),\n",
              " ('Courez\\u202f!', '[start] Run! [end]'),\n",
              " ('Prenez vos jambes à vos cous !', '[start] Run! [end]'),\n",
              " ('File !', '[start] Run! [end]'),\n",
              " ('Filez !', '[start] Run! [end]'),\n",
              " ('Cours !', '[start] Run! [end]'),\n",
              " ('Fuyez !', '[start] Run! [end]'),\n",
              " ('Fuyons !', '[start] Run! [end]'),\n",
              " ('Cours\\u202f!', '[start] Run. [end]'),\n",
              " ('Courez\\u202f!', '[start] Run. [end]'),\n",
              " ('Prenez vos jambes à vos cous !', '[start] Run. [end]'),\n",
              " ('File !', '[start] Run. [end]'),\n",
              " ('Filez !', '[start] Run. [end]'),\n",
              " ('Cours !', '[start] Run. [end]'),\n",
              " ('Fuyez !', '[start] Run. [end]'),\n",
              " ('Fuyons !', '[start] Run. [end]'),\n",
              " ('Qui ?', '[start] Who? [end]'),\n",
              " ('Ça alors\\u202f!', '[start] Wow! [end]'),\n",
              " ('Waouh\\xa0!', '[start] Wow! [end]'),\n",
              " ('Wah\\xa0!', '[start] Wow! [end]'),\n",
              " ('À terre\\xa0!', '[start] Duck! [end]'),\n",
              " ('Baisse-toi\\xa0!', '[start] Duck! [end]'),\n",
              " ('Baissez-vous\\xa0!', '[start] Duck! [end]'),\n",
              " ('Au feu !', '[start] Fire! [end]'),\n",
              " (\"À l'aide\\u202f!\", '[start] Help! [end]'),\n",
              " ('Cache-toi.', '[start] Hide. [end]'),\n",
              " ('Cachez-vous.', '[start] Hide. [end]'),\n",
              " ('Saute.', '[start] Jump! [end]'),\n",
              " ('Saute.', '[start] Jump. [end]'),\n",
              " ('Ça suffit\\u202f!', '[start] Stop! [end]'),\n",
              " ('Stop\\u202f!', '[start] Stop! [end]'),\n",
              " ('Arrête-toi !', '[start] Stop! [end]'),\n",
              " ('Attends !', '[start] Wait! [end]'),\n",
              " ('Attendez !', '[start] Wait! [end]'),\n",
              " ('Attendez.', '[start] Wait! [end]'),\n",
              " ('Attends !', '[start] Wait. [end]'),\n",
              " ('Attendez !', '[start] Wait. [end]'),\n",
              " ('Attends.', '[start] Wait. [end]'),\n",
              " ('Attendez.', '[start] Wait. [end]'),\n",
              " ('Commencez.', '[start] Begin. [end]'),\n",
              " ('Commence.', '[start] Begin. [end]'),\n",
              " ('Poursuis.', '[start] Go on. [end]'),\n",
              " ('Continuez.', '[start] Go on. [end]'),\n",
              " ('Poursuivez.', '[start] Go on. [end]'),\n",
              " ('Bonjour !', '[start] Hello! [end]'),\n",
              " ('Salut !', '[start] Hello! [end]'),\n",
              " ('Bonjour !', '[start] Hello. [end]'),\n",
              " ('Salut !', '[start] Hello. [end]'),\n",
              " ('Bonjour.', '[start] Hello. [end]'),\n",
              " ('Salut.', '[start] Hello. [end]'),\n",
              " ('Je comprends.', '[start] I see. [end]'),\n",
              " ('Aha.', '[start] I see. [end]'),\n",
              " (\"J'essaye.\", '[start] I try. [end]'),\n",
              " (\"J'ai gagné !\", '[start] I won! [end]'),\n",
              " (\"Je l'ai emporté !\", '[start] I won! [end]'),\n",
              " ('J’ai gagné.', '[start] I won. [end]'),\n",
              " ('Oh non !', '[start] Oh no! [end]'),\n",
              " ('Calme-toi.', '[start] Relax. [end]'),\n",
              " ('Détends-toi\\u202f!', '[start] Relax. [end]'),\n",
              " ('Détendez-vous\\u202f!', '[start] Relax. [end]'),\n",
              " ('Relaxe, Max\\u202f!', '[start] Relax. [end]'),\n",
              " ('Cool, Raoul\\u202f!', '[start] Relax. [end]'),\n",
              " ('Du calme\\u202f!', '[start] Relax. [end]'),\n",
              " ('Relaxe !', '[start] Relax. [end]'),\n",
              " ('Calmez-vous !', '[start] Relax. [end]'),\n",
              " ('Détends-toi.', '[start] Relax. [end]'),\n",
              " ('Détends-toi !', '[start] Relax. [end]'),\n",
              " ('Du calme.', '[start] Relax. [end]'),\n",
              " ('Tranquille.', '[start] Relax. [end]'),\n",
              " ('Souriez\\u202f!', '[start] Smile. [end]'),\n",
              " ('Souris pour la caméra.', '[start] Smile. [end]'),\n",
              " ('Souriez\\u2009!', '[start] Smile. [end]'),\n",
              " ('Pardon ?', '[start] Sorry? [end]'),\n",
              " ('Attaque !', '[start] Attack! [end]'),\n",
              " ('Attaquez !', '[start] Attack! [end]'),\n",
              " (\"À l'attaque !\", '[start] Attack! [end]'),\n",
              " (\"À l'attaque\\xa0!\", '[start] Attack! [end]'),\n",
              " ('Achetez-la !', '[start] Buy it. [end]'),\n",
              " ('Achète-le !', '[start] Buy it. [end]'),\n",
              " ('Achetez-le !', '[start] Buy it. [end]'),\n",
              " ('Achète-la !', '[start] Buy it. [end]'),\n",
              " ('Santé !', '[start] Cheers! [end]'),\n",
              " ('À votre santé !', '[start] Cheers! [end]'),\n",
              " ('Merci !', '[start] Cheers! [end]'),\n",
              " ('Tchin-tchin !', '[start] Cheers! [end]'),\n",
              " ('Mangez-le.', '[start] Eat it. [end]'),\n",
              " ('Mange-le.', '[start] Eat it. [end]'),\n",
              " ('Expire.', '[start] Exhale. [end]'),\n",
              " ('Lève-toi.', '[start] Get up. [end]'),\n",
              " ('Lève-toi !', '[start] Get up. [end]'),\n",
              " ('Debout.', '[start] Get up. [end]'),\n",
              " ('Va, maintenant.', '[start] Go now. [end]'),\n",
              " ('Allez-y maintenant.', '[start] Go now. [end]'),\n",
              " ('Vas-y maintenant.', '[start] Go now. [end]'),\n",
              " (\"J'ai pigé !\", '[start] Got it! [end]'),\n",
              " ('Compris !', '[start] Got it! [end]'),\n",
              " ('Aha !', '[start] Got it! [end]'),\n",
              " ('Pigé\\u202f?', '[start] Got it? [end]'),\n",
              " ('Compris\\u202f?', '[start] Got it? [end]'),\n",
              " (\"T'as capté\\u202f?\", '[start] Got it? [end]'),\n",
              " ('Monte.', '[start] Hop in. [end]'),\n",
              " ('Montez.', '[start] Hop in. [end]'),\n",
              " ('Serre-moi dans tes bras !', '[start] Hug me. [end]'),\n",
              " ('Serrez-moi dans vos bras !', '[start] Hug me. [end]'),\n",
              " ('Je suis tombée.', '[start] I fell. [end]'),\n",
              " ('Je suis tombé.', '[start] I fell. [end]'),\n",
              " (\"J'ai fui.\", '[start] I fled. [end]'),\n",
              " ('Je chasse.', '[start] I hunt. [end]'),\n",
              " ('Je tricote.', '[start] I knit. [end]'),\n",
              " ('Je sais.', '[start] I know. [end]'),\n",
              " ('Je suis parti.', '[start] I left. [end]'),\n",
              " ('Je suis partie.', '[start] I left. [end]'),\n",
              " (\"J'ai menti.\", '[start] I lied. [end]'),\n",
              " (\"J'ai perdu.\", '[start] I lost. [end]'),\n",
              " ('Je payais.', '[start] I paid. [end]'),\n",
              " ('Je payai.', '[start] I paid. [end]'),\n",
              " ('J’ai payé.', '[start] I paid. [end]'),\n",
              " ('Je passe.', '[start] I pass. [end]'),\n",
              " (\"J'arrête.\", '[start] I quit. [end]'),\n",
              " (\"J'ai arrêté.\", '[start] I quit. [end]'),\n",
              " ('Je nage.', '[start] I swim. [end]'),\n",
              " (\"J'ai 19 ans.\", \"[start] I'm 19. [end]\"),\n",
              " ('Je vais bien.', \"[start] I'm OK. [end]\"),\n",
              " ('Ça va.', \"[start] I'm OK. [end]\"),\n",
              " ('Inspire.', '[start] Inhale. [end]'),\n",
              " ('Écoutez !', '[start] Listen. [end]'),\n",
              " (\"C'est pas possible\\u202f!\", '[start] No way! [end]'),\n",
              " ('Impossible\\u202f!', '[start] No way! [end]'),\n",
              " ('Hors de question\\u202f!', '[start] No way! [end]'),\n",
              " ('En aucun cas.', '[start] No way! [end]'),\n",
              " ('Sans façons\\u202f!', '[start] No way! [end]'),\n",
              " ('Mon œil\\u202f!', '[start] No way! [end]'),\n",
              " (\"C'est hors de question !\", '[start] No way! [end]'),\n",
              " (\"Il n'en est pas question !\", '[start] No way! [end]'),\n",
              " (\"C'est exclu !\", '[start] No way! [end]'),\n",
              " ('En aucune manière !', '[start] No way! [end]'),\n",
              " ('Hors de question !', '[start] No way! [end]'),\n",
              " ('Sans blague !', '[start] No way! [end]'),\n",
              " ('Vraiment\\u202f?', '[start] Really? [end]'),\n",
              " ('Vrai ?', '[start] Really? [end]'),\n",
              " ('Ah bon ?', '[start] Really? [end]'),\n",
              " ('Ah vraiment ?', '[start] Really? [end]'),\n",
              " ('Vraiment ?', '[start] Really? [end]'),\n",
              " ('Merci !', '[start] Thanks! [end]'),\n",
              " ('Je te remercie.', '[start] Thanks. [end]'),\n",
              " ('Merci !', '[start] Thanks. [end]'),\n",
              " ('Merci.', '[start] Thanks. [end]'),\n",
              " ('Essaie.', '[start] Try it. [end]'),\n",
              " ('Essayez.', '[start] Try it. [end]'),\n",
              " ('Essaye.', '[start] Try it. [end]'),\n",
              " ('On essaye.', '[start] We try. [end]'),\n",
              " ('Nous avons gagné.', '[start] We won. [end]'),\n",
              " ('Nous gagnâmes.', '[start] We won. [end]'),\n",
              " (\"Nous l'avons emporté.\", '[start] We won. [end]'),\n",
              " (\"Nous l'emportâmes.\", '[start] We won. [end]'),\n",
              " ('On a gagné.', '[start] We won. [end]'),\n",
              " ('Demande à Tom.', '[start] Ask Tom. [end]'),\n",
              " ('Demande-lui.', '[start] Ask him. [end]'),\n",
              " ('Fantastique\\u202f!', '[start] Awesome! [end]'),\n",
              " ('Sensass !', '[start] Awesome! [end]'),\n",
              " ('Trop cool !', '[start] Awesome! [end]'),\n",
              " ('Génial.', '[start] Awesome. [end]'),\n",
              " ('Sois calme !', '[start] Be calm. [end]'),\n",
              " ('Soyez calme !', '[start] Be calm. [end]'),\n",
              " ('Soyez calmes !', '[start] Be calm. [end]'),\n",
              " ('Sois détendu !', '[start] Be cool. [end]'),\n",
              " ('Sois juste !', '[start] Be fair. [end]'),\n",
              " ('Soyez juste !', '[start] Be fair. [end]'),\n",
              " ('Soyez justes !', '[start] Be fair. [end]'),\n",
              " ('Sois équitable !', '[start] Be fair. [end]'),\n",
              " ('Soyez équitable !', '[start] Be fair. [end]'),\n",
              " ('Soyez équitables !', '[start] Be fair. [end]'),\n",
              " ('Sois honnête.', '[start] Be fair. [end]'),\n",
              " ('Sois sincère.', '[start] Be fair. [end]'),\n",
              " ('Soyez honnêtes.', '[start] Be fair. [end]'),\n",
              " ('Sois gentil.', '[start] Be kind. [end]'),\n",
              " ('Sois gentil !', '[start] Be nice. [end]'),\n",
              " ('Sois gentille !', '[start] Be nice. [end]'),\n",
              " ('Soyez gentil !', '[start] Be nice. [end]'),\n",
              " ('Soyez gentille !', '[start] Be nice. [end]'),\n",
              " ('Soyez gentils !', '[start] Be nice. [end]'),\n",
              " ('Soyez gentilles !', '[start] Be nice. [end]'),\n",
              " ('Cassez-vous\\xa0!', '[start] Beat it! [end]'),\n",
              " ('Va te faire foutre !', '[start] Beat it. [end]'),\n",
              " ('Dégage\\u202f!', '[start] Beat it. [end]'),\n",
              " ('Casse-toi.', '[start] Beat it. [end]'),\n",
              " ('Pars !', '[start] Beat it. [end]'),\n",
              " ('Foutez le camp !', '[start] Beat it. [end]'),\n",
              " ('Fous le camp !', '[start] Beat it. [end]'),\n",
              " (\"Pars d'ici.\", '[start] Beat it. [end]'),\n",
              " ('Va-t’en\\xa0!', '[start] Beat it. [end]'),\n",
              " ('Disparais !', '[start] Beat it. [end]'),\n",
              " ('Fiche le camp.', '[start] Beat it. [end]'),\n",
              " ('Tire-toi de là.', '[start] Beat it. [end]'),\n",
              " ('Casse-toi de là.', '[start] Beat it. [end]'),\n",
              " ('Oust !', '[start] Beat it. [end]'),\n",
              " ('Dégage.', '[start] Beat it. [end]'),\n",
              " (\"Fiche le camp d'ici.\", '[start] Beat it. [end]'),\n",
              " ('Déguerpissez.', '[start] Beat it. [end]'),\n",
              " ('Bouge !', '[start] Beat it. [end]'),\n",
              " ('Décampe !', '[start] Beat it. [end]'),\n",
              " ('Brûlez-le.', '[start] Burn it. [end]'),\n",
              " ('Brûlez-la.', '[start] Burn it. [end]'),\n",
              " ('Brûle-la.', '[start] Burn it. [end]'),\n",
              " ('Brûle-le.', '[start] Burn it. [end]'),\n",
              " ('Enterrez-le.', '[start] Bury it. [end]'),\n",
              " ('Enterre-le.', '[start] Bury it. [end]'),\n",
              " ('Enterrez-la.', '[start] Bury it. [end]'),\n",
              " ('Enterre-la.', '[start] Bury it. [end]'),\n",
              " ('Appelle-moi !', '[start] Call me. [end]'),\n",
              " ('Appelez-moi\\xa0!', '[start] Call me. [end]'),\n",
              " ('Appelle-nous !', '[start] Call us. [end]'),\n",
              " ('Appelez-nous !', '[start] Call us. [end]'),\n",
              " ('Entrez\\u202f!', '[start] Come in. [end]'),\n",
              " ('Entre.', '[start] Come in. [end]'),\n",
              " ('Entre !', '[start] Come in. [end]'),\n",
              " ('Entrez !', '[start] Come in. [end]'),\n",
              " ('Allez\\u202f!', '[start] Come on! [end]'),\n",
              " ('En avant\\u202f!', '[start] Come on! [end]'),\n",
              " ('Allons !', '[start] Come on! [end]'),\n",
              " (\"C'est pas vrai, dis !\", '[start] Come on! [end]'),\n",
              " ('Viens\\xa0!', '[start] Come on! [end]'),\n",
              " ('Venez\\u202f!', '[start] Come on! [end]'),\n",
              " ('Secouez-vous !', '[start] Come on! [end]'),\n",
              " ('Secoue-toi !', '[start] Come on! [end]'),\n",
              " ('Allez, on y va\\xa0!', '[start] Come on! [end]'),\n",
              " ('Allez !', '[start] Come on. [end]'),\n",
              " ('Viens\\xa0!', '[start] Come on. [end]'),\n",
              " ('Venez\\u202f!', '[start] Come on. [end]'),\n",
              " ('Laisse tomber !', '[start] Drop it! [end]'),\n",
              " ('Laissez tomber !', '[start] Drop it! [end]'),\n",
              " ('Laisse-le tomber !', '[start] Drop it! [end]'),\n",
              " ('Laissez-le tomber !', '[start] Drop it! [end]'),\n",
              " ('Pliez-le.', '[start] Fold it. [end]'),\n",
              " ('Plie-le.', '[start] Fold it. [end]'),\n",
              " ('Pliez-la.', '[start] Fold it. [end]'),\n",
              " ('Plie-la.', '[start] Fold it. [end]'),\n",
              " ('Va chercher Tom.', '[start] Get Tom. [end]'),\n",
              " ('Sors.', '[start] Get out! [end]'),\n",
              " ('Sortez\\u202f!', '[start] Get out! [end]'),\n",
              " ('Dégage\\u202f!', '[start] Get out! [end]'),\n",
              " ('Disparais\\u202f!', '[start] Get out! [end]'),\n",
              " ('Casse-toi.', '[start] Get out! [end]'),\n",
              " ('Dégagez !', '[start] Get out! [end]'),\n",
              " ('Sors !', '[start] Get out! [end]'),\n",
              " ('Sortez !', '[start] Get out! [end]'),\n",
              " ('Dégage !', '[start] Get out! [end]'),\n",
              " ('Disparais !', '[start] Get out! [end]'),\n",
              " ('Du balai !', '[start] Get out! [end]'),\n",
              " ('Fiche le camp.', '[start] Get out! [end]'),\n",
              " ('Oust !', '[start] Get out! [end]'),\n",
              " (\"Vers l'extérieur !\", '[start] Get out! [end]'),\n",
              " ('Fichez le camp !', '[start] Get out! [end]'),\n",
              " ('Sortez.', '[start] Get out! [end]'),\n",
              " ('Décampez !', '[start] Get out! [end]'),\n",
              " ('Décampe !', '[start] Get out! [end]'),\n",
              " ('Sors.', '[start] Get out. [end]'),\n",
              " ('Sortez\\u202f!', '[start] Get out. [end]'),\n",
              " ('Dégage\\u202f!', '[start] Get out. [end]'),\n",
              " ('Disparais\\u202f!', '[start] Get out. [end]'),\n",
              " ('Casse-toi.', '[start] Get out. [end]'),\n",
              " ('Dégagez !', '[start] Get out. [end]'),\n",
              " ('Sors !', '[start] Get out. [end]'),\n",
              " ('Sortez !', '[start] Get out. [end]'),\n",
              " ('Disparais !', '[start] Get out. [end]'),\n",
              " ('Fiche le camp.', '[start] Get out. [end]'),\n",
              " ('Oust !', '[start] Get out. [end]'),\n",
              " ('Sortez.', '[start] Get out. [end]'),\n",
              " ('Bouge !', '[start] Get out. [end]'),\n",
              " ('Décampez !', '[start] Get out. [end]'),\n",
              " ('Décampe !', '[start] Get out. [end]'),\n",
              " ('Dégage\\u202f!', '[start] Go away! [end]'),\n",
              " ('Pars !', '[start] Go away! [end]'),\n",
              " ('Allez-vous-en\\xa0!', '[start] Go away! [end]'),\n",
              " ('Déguerpissez.', '[start] Go away! [end]'),\n",
              " ('Cassez-vous.', '[start] Go away! [end]'),\n",
              " ('Bouge !', '[start] Go away! [end]'),\n",
              " ('Décampez !', '[start] Go away! [end]'),\n",
              " ('Décampe !', '[start] Go away! [end]'),\n",
              " ('Va te faire foutre !', '[start] Go away. [end]'),\n",
              " ('Pars !', '[start] Go away. [end]'),\n",
              " ('Dégage !', '[start] Go away. [end]'),\n",
              " ('Fous le camp !', '[start] Go away. [end]'),\n",
              " (\"Pars d'ici.\", '[start] Go away. [end]'),\n",
              " ('Va-t’en\\xa0!', '[start] Go away. [end]'),\n",
              " ('Disparais !', '[start] Go away. [end]'),\n",
              " ('Déguerpissez.', '[start] Go away. [end]'),\n",
              " ('Cassez-vous.', '[start] Go away. [end]'),\n",
              " ('Bouge !', '[start] Go away. [end]'),\n",
              " ('Décampez !', '[start] Go away. [end]'),\n",
              " ('Décampe !', '[start] Go away. [end]'),\n",
              " ('Allez-vous-en.', '[start] Go away. [end]'),\n",
              " ('Recule.', '[start] Go back. [end]'),\n",
              " ('Rentrez à la maison.', '[start] Go home. [end]'),\n",
              " ('Rentre à la maison.', '[start] Go home. [end]'),\n",
              " ('Rentre chez toi.', '[start] Go home. [end]'),\n",
              " ('Rentrez chez vous.', '[start] Go home. [end]'),\n",
              " ('Va doucement !', '[start] Go slow. [end]'),\n",
              " ('Allez doucement !', '[start] Go slow. [end]'),\n",
              " ('Adieu !', '[start] Goodbye! [end]'),\n",
              " ('À la revoyure.', '[start] Goodbye! [end]'),\n",
              " ('Ciao.', '[start] Goodbye! [end]'),\n",
              " ('Au revoir.', '[start] Goodbye. [end]'),\n",
              " ('Ciao.', '[start] Goodbye. [end]'),\n",
              " ('Attends un peu !', '[start] Hang on! [end]'),\n",
              " ('Attendez un peu !', '[start] Hang on! [end]'),\n",
              " ('Attendez.', '[start] Hang on! [end]'),\n",
              " ('Tiens bon !', '[start] Hang on. [end]'),\n",
              " ('Tenez bon !', '[start] Hang on. [end]'),\n",
              " ('Attendez.', '[start] Hang on. [end]'),\n",
              " ('Il est parti.', '[start] He left. [end]'),\n",
              " ('Il court.', '[start] He runs. [end]'),\n",
              " ('Aide-moi !', '[start] Help me! [end]'),\n",
              " (\"À l'aide\\u202f!\", '[start] Help me. [end]'),\n",
              " ('Aide-moi.', '[start] Help me. [end]'),\n",
              " ('Aidez-moi.', '[start] Help me. [end]'),\n",
              " ('Aide-moi !', '[start] Help me. [end]'),\n",
              " ('Aidez-nous !', '[start] Help us. [end]'),\n",
              " ('Aide-nous !', '[start] Help us. [end]'),\n",
              " ('Engagez-moi.', '[start] Hire me. [end]'),\n",
              " ('Engage-moi.', '[start] Hire me. [end]'),\n",
              " ('Embauchez-moi.', '[start] Hire me. [end]'),\n",
              " ('Embauche-moi.', '[start] Hire me. [end]'),\n",
              " ('Ne bouge plus !', '[start] Hold it! [end]'),\n",
              " ('Ne bougez plus !', '[start] Hold it! [end]'),\n",
              " ('Restez où vous êtes !', '[start] Hold it! [end]'),\n",
              " ('Attendez.', '[start] Hold it! [end]'),\n",
              " ('Ne quittez pas.', '[start] Hold on. [end]'),\n",
              " ('Attends.', '[start] Hold on. [end]'),\n",
              " ('Ne quitte pas !', '[start] Hold on. [end]'),\n",
              " ('Accroche-toi !', '[start] Hold on. [end]'),\n",
              " ('Tiens-bon !', '[start] Hold on. [end]'),\n",
              " ('Tiens bon.', '[start] Hold up. [end]'),\n",
              " ('Tenez bon.', '[start] Hold up. [end]'),\n",
              " (\"Comme c'est triste.\", '[start] How sad! [end]'),\n",
              " ('Fais un câlin à Tom.', '[start] Hug Tom. [end]'),\n",
              " ('Je suis du même avis.', '[start] I agree. [end]'),\n",
              " (\"J'ai pleuré.\", '[start] I cried. [end]'),\n",
              " ('Je me suis assoupi.', '[start] I dozed. [end]'),\n",
              " ('Je me suis assoupie.', '[start] I dozed. [end]'),\n",
              " ('Je conduis.', '[start] I drive. [end]'),\n",
              " ('Je conduisis.', '[start] I drove. [end]'),\n",
              " (\"J'ai tiré.\", '[start] I fired. [end]'),\n",
              " ('Je me suis figé.', '[start] I froze. [end]'),\n",
              " ('Je me suis figée.', '[start] I froze. [end]'),\n",
              " ('Je fume.', '[start] I smoke. [end]'),\n",
              " ('Je ronfle.', '[start] I snore. [end]'),\n",
              " ('Je pue.', '[start] I stink. [end]'),\n",
              " ('Je me suis tenu debout.', '[start] I stood. [end]'),\n",
              " ('Je me suis tenue debout.', '[start] I stood. [end]'),\n",
              " ('J’ai promis.', '[start] I swore. [end]'),\n",
              " ('J’ai juré.', '[start] I swore. [end]'),\n",
              " (\"J'essayai.\", '[start] I tried. [end]'),\n",
              " (\"J'ai essayé.\", '[start] I tried. [end]'),\n",
              " (\"J'ai tenté.\", '[start] I tried. [end]'),\n",
              " ('J’ai fait signe.', '[start] I waved. [end]'),\n",
              " (\"J'irai.\", \"[start] I'll go. [end]\"),\n",
              " ('Je suis Tom.', \"[start] I'm Tom. [end]\"),\n",
              " ('Je suis gras.', \"[start] I'm fat. [end]\"),\n",
              " ('Je suis gros.', \"[start] I'm fat. [end]\"),\n",
              " ('Je suis en forme.', \"[start] I'm fit. [end]\"),\n",
              " ('Je suis touché !', \"[start] I'm hit! [end]\"),\n",
              " ('Je suis touchée !', \"[start] I'm hit! [end]\"),\n",
              " ('Je suis malade.', \"[start] I'm ill. [end]\"),\n",
              " ('Je suis fou.', \"[start] I'm mad. [end]\"),\n",
              " ('Je suis folle.', \"[start] I'm mad. [end]\"),\n",
              " ('Je suis en colère.', \"[start] I'm mad. [end]\"),\n",
              " ('Je suis triste.', \"[start] I'm sad. [end]\"),\n",
              " (\"J'ai un coup de cafard.\", \"[start] I'm sad. [end]\"),\n",
              " ('Je suis malheureux.', \"[start] I'm sad. [end]\"),\n",
              " ('Je suis timide.', \"[start] I'm shy. [end]\"),\n",
              " ('Je suis mouillé.', \"[start] I'm wet. [end]\"),\n",
              " ('Je suis mouillée.', \"[start] I'm wet. [end]\"),\n",
              " (\"C'est bibi\\u202f!\", \"[start] It's me! [end]\"),\n",
              " ('Rejoignez-moi.', '[start] Join me. [end]'),\n",
              " ('Joignez-vous.', '[start] Join us. [end]'),\n",
              " ('Joignez-vous à nous.', '[start] Join us. [end]'),\n",
              " ('Garde-le !', '[start] Keep it. [end]'),\n",
              " ('Gardez-le !', '[start] Keep it. [end]'),\n",
              " ('Donne-lui un coup de pied.', '[start] Kick it. [end]'),\n",
              " ('Donnez-lui un coup de pied.', '[start] Kick it. [end]'),\n",
              " ('Tuez-le.', '[start] Kill it. [end]'),\n",
              " ('Tue-le.', '[start] Kill it. [end]'),\n",
              " ('Tue-la.', '[start] Kill it. [end]'),\n",
              " ('Tuez-la.', '[start] Kill it. [end]'),\n",
              " ('Embrasse-moi.', '[start] Kiss me. [end]'),\n",
              " ('Embrassez-moi.', '[start] Kiss me. [end]'),\n",
              " ('À terre !', '[start] Lie low. [end]'),\n",
              " ('Au sol !', '[start] Lie low. [end]'),\n",
              " ('Verrouillez-le.', '[start] Lock it. [end]'),\n",
              " ('Verrouille-le.', '[start] Lock it. [end]'),\n",
              " ('Verrouillez-la.', '[start] Lock it. [end]'),\n",
              " ('Verrouille-la.', '[start] Lock it. [end]'),\n",
              " ('Levez les yeux.', '[start] Look up. [end]'),\n",
              " ('Lève les yeux.', '[start] Look up. [end]'),\n",
              " ('Moi aussi.', '[start] Me, too. [end]'),\n",
              " ('À moi aussi.', '[start] Me, too. [end]'),\n",
              " ('Passez à autre chose.', '[start] Move on. [end]'),\n",
              " ('Passe à autre chose.', '[start] Move on. [end]'),\n",
              " ('Ouvrez-le.', '[start] Open it. [end]'),\n",
              " ('Ouvre-le.', '[start] Open it. [end]'),\n",
              " ('Ouvre-la.', '[start] Open it. [end]'),\n",
              " ('Ouvrez-la.', '[start] Open it. [end]'),\n",
              " ('Ouvre-moi\\u202f!', '[start] Open up. [end]'),\n",
              " ('Ouvre.', '[start] Open up. [end]'),\n",
              " ('Faites équipe.', '[start] Pair up. [end]'),\n",
              " ('Parfait\\u202f!', '[start] Perfect! [end]'),\n",
              " ('Nickel\\u202f!', '[start] Perfect! [end]'),\n",
              " ('Parfait !', '[start] Perfect! [end]'),\n",
              " ('Tirez dessus.', '[start] Pull it. [end]'),\n",
              " ('Tire dessus.', '[start] Pull it. [end]'),\n",
              " ('Appuie dessus.', '[start] Push it. [end]'),\n",
              " ('Poussez-le.', '[start] Push it. [end]'),\n",
              " ('Pousse-le.', '[start] Push it. [end]'),\n",
              " ('Poussez-la.', '[start] Push it. [end]'),\n",
              " ('Pousse-la.', '[start] Push it. [end]'),\n",
              " ('À plus tard\\xa0!', '[start] See you! [end]'),\n",
              " ('À bientôt !', '[start] See you! [end]'),\n",
              " ('À la prochaine !', '[start] See you! [end]'),\n",
              " ('Ciao.', '[start] See you! [end]'),\n",
              " ('À plus.', '[start] See you. [end]'),\n",
              " ('Ciao.', '[start] See you. [end]'),\n",
              " ('Montre-moi !', '[start] Show me. [end]'),\n",
              " ('Montrez-moi !', '[start] Show me. [end]'),\n",
              " ('Taisez-vous\\u202f!', '[start] Shut up! [end]'),\n",
              " ('Ferme-la\\u202f!', '[start] Shut up! [end]'),\n",
              " ('Tais-toi !', '[start] Shut up! [end]'),\n",
              " ('Ferme-la !', '[start] Shut up! [end]'),\n",
              " ('La ferme !', '[start] Shut up! [end]'),\n",
              " ('Bouclez-la !', '[start] Shut up! [end]'),\n",
              " ('Fermez-la\\xa0!', '[start] Shut up! [end]'),\n",
              " ('Ferme-la\\xa0!', '[start] Shut up! [end]'),\n",
              " ('Inscrivez-vous.', '[start] Sign up. [end]'),\n",
              " ('Inscris-toi.', '[start] Sign up. [end]'),\n",
              " ('Laisse tomber.', '[start] Skip it. [end]'),\n",
              " ('Pas grave.', '[start] Skip it. [end]'),\n",
              " ('À plus tard\\xa0!', '[start] So long. [end]'),\n",
              " ('Prends-le\\u202f!', '[start] Take it. [end]'),\n",
              " ('Prenez-le\\u202f!', '[start] Take it. [end]'),\n",
              " ('Prends-le !', '[start] Take it. [end]'),\n",
              " ('Prenez-le !', '[start] Take it. [end]'),\n",
              " ('Prenez-le.', '[start] Take it. [end]'),\n",
              " ('Prends-le.', '[start] Take it. [end]'),\n",
              " ('Dis-moi !', '[start] Tell me. [end]'),\n",
              " ('Dites-moi !', '[start] Tell me. [end]'),\n",
              " ('Tom a gagné.', '[start] Tom won. [end]'),\n",
              " ('Réveille-toi\\u202f!', '[start] Wake up! [end]'),\n",
              " ('Réveille-toi !', '[start] Wake up! [end]'),\n",
              " ('Réveillez-vous !', '[start] Wake up! [end]'),\n",
              " ('Réveille-toi !', '[start] Wake up. [end]'),\n",
              " ('Réveillez-vous !', '[start] Wake up. [end]'),\n",
              " ('Lave-toi !', '[start] Wash up. [end]'),\n",
              " ('Lavez-vous !', '[start] Wash up. [end]'),\n",
              " ('Nous nous en soucions.', '[start] We care. [end]'),\n",
              " ('Nous savons.', '[start] We know. [end]'),\n",
              " ('On sait.', '[start] We know. [end]'),\n",
              " ('Nous perdîmes.', '[start] We lost. [end]'),\n",
              " ('Nous avons perdu.', '[start] We lost. [end]'),\n",
              " ('Nous fûmes battus.', '[start] We lost. [end]'),\n",
              " ('Nous fûmes battues.', '[start] We lost. [end]'),\n",
              " ('Nous fûmes défaits.', '[start] We lost. [end]'),\n",
              " ('Nous fûmes défaites.', '[start] We lost. [end]'),\n",
              " ('Nous avons été défaits.', '[start] We lost. [end]'),\n",
              " ('Nous avons été défaites.', '[start] We lost. [end]'),\n",
              " ('Nous avons été battus.', '[start] We lost. [end]'),\n",
              " ('Nous avons été battues.', '[start] We lost. [end]'),\n",
              " ('Bienvenue\\u202f!', '[start] Welcome. [end]'),\n",
              " ('Soyez le bienvenu !', '[start] Welcome. [end]'),\n",
              " ('Qui courait\\xa0?', '[start] Who ran? [end]'),\n",
              " ('Qui a gagné ?', '[start] Who won? [end]'),\n",
              " (\"Qui l'a emporté ?\", '[start] Who won? [end]'),\n",
              " ('Tu cours.', '[start] You run. [end]'),\n",
              " ('Vous avez gagné.', '[start] You win. [end]'),\n",
              " ('Visez haut.', '[start] Aim high. [end]'),\n",
              " ('Vise haut.', '[start] Aim high. [end]'),\n",
              " ('Suis-je gros ?', '[start] Am I fat? [end]'),\n",
              " ('Suis-je grosse ?', '[start] Am I fat? [end]'),\n",
              " ('Demande-leur.', '[start] Ask them. [end]'),\n",
              " ('Demandez-leur.', '[start] Ask them. [end]'),\n",
              " ('Recule\\u2009!', '[start] Back off! [end]'),\n",
              " ('Reculez.', '[start] Back off! [end]'),\n",
              " ('Cassez-vous.', '[start] Back off! [end]'),\n",
              " ('Recule\\u2009!', '[start] Back off. [end]'),\n",
              " ('Reculez.', '[start] Back off. [end]'),\n",
              " ('Retire-toi\\u2009!', '[start] Back off. [end]'),\n",
              " ('Retirez-vous.', '[start] Back off. [end]'),\n",
              " ('Cassez-vous.', '[start] Back off. [end]'),\n",
              " ('Sois un homme !', '[start] Be a man. [end]'),\n",
              " ('Soyez un homme !', '[start] Be a man. [end]'),\n",
              " ('Soyez courageux !', '[start] Be brave. [end]'),\n",
              " ('Soyez bref.', '[start] Be brief. [end]'),\n",
              " ('Sois bref.', '[start] Be brief. [end]'),\n",
              " ('Sois brève.', '[start] Be brief. [end]'),\n",
              " ('Soyez brève.', '[start] Be brief. [end]'),\n",
              " ('Soyez brefs.', '[start] Be brief. [end]'),\n",
              " ('Soyez brèves.', '[start] Be brief. [end]'),\n",
              " ('Sois calme !', '[start] Be still. [end]'),\n",
              " ('Soyez calme !', '[start] Be still. [end]'),\n",
              " ('Soyez calmes !', '[start] Be still. [end]'),\n",
              " ('Casse-toi.', '[start] Buzz off. [end]'),\n",
              " ('Appelle Tom.', '[start] Call Tom. [end]'),\n",
              " ('Appelez Tom.', '[start] Call Tom. [end]'),\n",
              " ('Je peux y aller\\xa0?', '[start] Can I go? [end]'),\n",
              " ('Courage\\u202f!', '[start] Cheer up! [end]'),\n",
              " ('Courage\\u202f!', '[start] Cheer up. [end]'),\n",
              " ('Détends-toi\\u202f!', '[start] Cool off! [end]'),\n",
              " ('Couvre-moi.', '[start] Cover me. [end]'),\n",
              " ('Menottez-le.', '[start] Cuff him. [end]'),\n",
              " ('Avance !', '[start] Drive on. [end]'),\n",
              " ('Avancez !', '[start] Drive on. [end]'),\n",
              " ('Continue à rouler !', '[start] Drive on. [end]'),\n",
              " ('Continuez à rouler !', '[start] Drive on. [end]'),\n",
              " ('Trouve Tom.', '[start] Find Tom. [end]'),\n",
              " ('Trouvez Tom.', '[start] Find Tom. [end]'),\n",
              " ('Réparez ceci.', '[start] Fix this. [end]'),\n",
              " ('Répare ça.', '[start] Fix this. [end]'),\n",
              " ('Dégage\\u202f!', '[start] Get away! [end]'),\n",
              " ('Casse-toi.', '[start] Get away! [end]'),\n",
              " ('Pars !', '[start] Get away! [end]'),\n",
              " ('Dégage !', '[start] Get away! [end]'),\n",
              " ('Fous le camp !', '[start] Get away! [end]'),\n",
              " (\"Pars d'ici.\", '[start] Get away! [end]'),\n",
              " ('Va-t’en\\xa0!', '[start] Get away! [end]'),\n",
              " ('Écarte-toi !', '[start] Get away! [end]'),\n",
              " ('Disparais !', '[start] Get away! [end]'),\n",
              " ('Allez-vous-en\\xa0!', '[start] Get away! [end]'),\n",
              " ('Fiche le camp.', '[start] Get away! [end]'),\n",
              " ('Tire-toi de là.', '[start] Get away! [end]'),\n",
              " ('Dégage.', '[start] Get away! [end]'),\n",
              " (\"Va-t'en !\", '[start] Get away! [end]'),\n",
              " (\"Criss ton camp d'icit !\", '[start] Get away! [end]'),\n",
              " ('Fichez le camp.', '[start] Get away! [end]'),\n",
              " ('Déguerpissez.', '[start] Get away! [end]'),\n",
              " ('Cassez-vous.', '[start] Get away! [end]'),\n",
              " ('Barrez-vous.', '[start] Get away! [end]'),\n",
              " ('Barre-toi.', '[start] Get away! [end]'),\n",
              " ('Va-t’en !', '[start] Get away! [end]'),\n",
              " ('Bouge !', '[start] Get away! [end]'),\n",
              " ('Décampez !', '[start] Get away! [end]'),\n",
              " ('Décampe !', '[start] Get away! [end]'),\n",
              " ('Tu dis n’importe quoi\\xa0!', '[start] Get away! [end]'),\n",
              " ('Pars.', '[start] Get away. [end]'),\n",
              " ('Partez.', '[start] Get away. [end]'),\n",
              " ('Lâche-toi !', '[start] Get down! [end]'),\n",
              " ('À terre !', '[start] Get down! [end]'),\n",
              " ('Au sol !', '[start] Get down! [end]'),\n",
              " ('Descends.', '[start] Get down! [end]'),\n",
              " ('Descends !', '[start] Get down. [end]'),\n",
              " ('Descendez !', '[start] Get down. [end]'),\n",
              " ('Lâche-toi !', '[start] Get down. [end]'),\n",
              " ('Lâchez-vous !', '[start] Get down. [end]'),\n",
              " ('À terre !', '[start] Get down. [end]'),\n",
              " ('Au sol !', '[start] Get down. [end]'),\n",
              " ('Descends.', '[start] Get down. [end]'),\n",
              " (\"Va voir ailleurs si j'y suis\\u202f!\", '[start] Get lost! [end]'),\n",
              " ('Dégage\\u202f!', '[start] Get lost! [end]'),\n",
              " ('Va au diable !', '[start] Get lost! [end]'),\n",
              " ('Déguerpissez.', '[start] Get lost! [end]'),\n",
              " ('Cassez-vous.', '[start] Get lost! [end]'),\n",
              " ('Bouge !', '[start] Get lost! [end]'),\n",
              " ('Décampez !', '[start] Get lost! [end]'),\n",
              " ('Décampe !', '[start] Get lost! [end]'),\n",
              " ('Va te faire foutre\\xa0!', '[start] Get lost! [end]'),\n",
              " ('Va te faire voir\\xa0!', '[start] Get lost! [end]'),\n",
              " ('Fiche le camp.', '[start] Get lost. [end]'),\n",
              " ('Fichez le camp.', '[start] Get lost. [end]'),\n",
              " ('Déguerpissez.', '[start] Get lost. [end]'),\n",
              " ('Cassez-vous.', '[start] Get lost. [end]'),\n",
              " ('Bouge !', '[start] Get lost. [end]'),\n",
              " ('Décampez !', '[start] Get lost. [end]'),\n",
              " ('Décampe !', '[start] Get lost. [end]'),\n",
              " ('Sois réaliste !', '[start] Get real! [end]'),\n",
              " ('Tu délires\\xa0!', '[start] Get real! [end]'),\n",
              " ('Allez\\u202f!', '[start] Go ahead! [end]'),\n",
              " ('Vas-y.', '[start] Go ahead! [end]'),\n",
              " ('En avant\\u202f!', '[start] Go ahead! [end]'),\n",
              " ('Va !', '[start] Go ahead! [end]'),\n",
              " ('Poursuis !', '[start] Go ahead! [end]'),\n",
              " ('Poursuivez !', '[start] Go ahead! [end]'),\n",
              " ('Passe devant !', '[start] Go ahead! [end]'),\n",
              " ('Vas-y !', '[start] Go ahead! [end]'),\n",
              " ('Allez-y !', '[start] Go ahead! [end]'),\n",
              " ('Continuez !', '[start] Go ahead! [end]'),\n",
              " ('Continue !', '[start] Go ahead! [end]'),\n",
              " ('Allez !', '[start] Go ahead! [end]'),\n",
              " ('Avance !', '[start] Go ahead! [end]'),\n",
              " ('En avant\\xa0!', '[start] Go ahead! [end]'),\n",
              " ('Allez\\u202f!', '[start] Go ahead. [end]'),\n",
              " ('Vas-y.', '[start] Go ahead. [end]'),\n",
              " ('Va !', '[start] Go ahead. [end]'),\n",
              " ('Poursuis !', '[start] Go ahead. [end]'),\n",
              " ('Poursuivez !', '[start] Go ahead. [end]'),\n",
              " ('Passe devant !', '[start] Go ahead. [end]'),\n",
              " ('Vas-y !', '[start] Go ahead. [end]'),\n",
              " ('Allez-y !', '[start] Go ahead. [end]'),\n",
              " ('Continuez !', '[start] Go ahead. [end]'),\n",
              " ('Continue !', '[start] Go ahead. [end]'),\n",
              " ('Allez !', '[start] Go ahead. [end]'),\n",
              " ('Avance !', '[start] Go ahead. [end]'),\n",
              " ('En route !', '[start] Go ahead. [end]'),\n",
              " ('Bien joué\\u202f!', '[start] Good job! [end]'),\n",
              " ('Bon boulot\\u202f!', '[start] Good job! [end]'),\n",
              " ('Beau travail\\u202f!', '[start] Good job! [end]'),\n",
              " ('Bravo !', '[start] Good job! [end]'),\n",
              " ('Attrape Tom.', '[start] Grab Tom. [end]'),\n",
              " ('Attrapez Tom.', '[start] Grab Tom. [end]'),\n",
              " ('Attrape-le.', '[start] Grab him. [end]'),\n",
              " ('Attrapez-le.', '[start] Grab him. [end]'),\n",
              " ('Mettez-lui la main dessus !', '[start] Grab him. [end]'),\n",
              " ('Amuse-toi bien !', '[start] Have fun. [end]'),\n",
              " ('Amusez-vous bien !', '[start] Have fun. [end]'),\n",
              " ('Amuse-toi bien.', '[start] Have fun. [end]'),\n",
              " ('Amusez-vous bien.', '[start] Have fun. [end]'),\n",
              " ('Il a parlé.', '[start] He spoke. [end]'),\n",
              " ('Il a pris la parole.', '[start] He spoke. [end]'),\n",
              " (\"Il s'est exprimé.\", '[start] He spoke. [end]'),\n",
              " ('Il essaye.', '[start] He tries. [end]'),\n",
              " ('Il est mouillé.', \"[start] He's wet. [end]\"),\n",
              " ('Aide Tom.', '[start] Help Tom. [end]'),\n",
              " ('Aidez Tom.', '[start] Help Tom. [end]'),\n",
              " ('Aidez Tom !', '[start] Help Tom. [end]'),\n",
              " ('Salut, les mecs !', '[start] Hi, guys. [end]'),\n",
              " ('Riposte.', '[start] Hit back. [end]'),\n",
              " ('Ripostez.', '[start] Hit back. [end]'),\n",
              " (\"Comme c'est mignon\\u202f!\", '[start] How cute! [end]'),\n",
              " ('Trop mignon !', '[start] How cute! [end]'),\n",
              " ('Trop mignonne !', '[start] How cute! [end]'),\n",
              " ('Quelle profondeur\\u202f?', '[start] How deep? [end]'),\n",
              " ('Comme elle est belle\\u202f!', '[start] How nice! [end]'),\n",
              " (\"Comme c'est chouette !\", '[start] How nice! [end]'),\n",
              " (\"Comme c'est gentil !\", '[start] How nice! [end]'),\n",
              " (\"C'est du joli !\", '[start] How nice! [end]'),\n",
              " (\"Comme c'est agréable !\", '[start] How nice! [end]'),\n",
              " ('Quelle grossièreté !', '[start] How rude! [end]'),\n",
              " ('Quelle sagesse !', '[start] How wise! [end]'),\n",
              " ('Dépêche-toi.', '[start] Hurry up. [end]'),\n",
              " ('Grouille\\u202f!', '[start] Hurry up. [end]'),\n",
              " ('Pressez-vous !', '[start] Hurry up. [end]'),\n",
              " ('Fiça !', '[start] Hurry up. [end]'),\n",
              " ('Magne-toi !', '[start] Hurry up. [end]'),\n",
              " ('Magnez-vous !', '[start] Hurry up. [end]'),\n",
              " ('Je suis Tom.', '[start] I am Tom. [end]'),\n",
              " (\"J'ai juré.\", '[start] I cursed. [end]'),\n",
              " (\"Je m'en suis bien sorti.\", '[start] I did OK. [end]'),\n",
              " (\"Je m'en suis bien sortie.\", '[start] I did OK. [end]'),\n",
              " (\"Je l'ai fait.\", '[start] I did it. [end]'),\n",
              " (\"C'est moi qui l'ai fait.\", '[start] I did it. [end]'),\n",
              " (\"J'ai échoué.\", '[start] I failed. [end]'),\n",
              " (\"J'ai oublié.\", '[start] I forgot. [end]'),\n",
              " (\"J'ai compris.\", '[start] I get it. [end]'),\n",
              " (\"J'ai fait une gaffe.\", '[start] I goofed. [end]'),\n",
              " (\"J'ai fait une bourde.\", '[start] I goofed. [end]'),\n",
              " (\"J'ai fait une boulette.\", '[start] I goofed. [end]'),\n",
              " (\"J'ai compris.\", '[start] I got it. [end]'),\n",
              " (\"J'ai capté.\", '[start] I got it. [end]'),\n",
              " (\"J'ai aidé.\", '[start] I helped. [end]'),\n",
              " (\"J'ai sauté.\", '[start] I jumped. [end]'),\n",
              " ('J’ai regardé.', '[start] I looked. [end]'),\n",
              " ('J’ai râlé.', '[start] I moaned. [end]'),\n",
              " ('J’ai fait signe de la tête.', '[start] I nodded. [end]'),\n",
              " ('J’ai obéi.', '[start] I obeyed. [end]'),\n",
              " ('Je téléphonai.', '[start] I phoned. [end]'),\n",
              " (\"J'ai téléphoné.\", '[start] I phoned. [end]'),\n",
              " ('Je refuse.', '[start] I refuse. [end]'),\n",
              " ('Je le refuse.', '[start] I refuse. [end]'),\n",
              " ('Je me suis reposé.', '[start] I rested. [end]'),\n",
              " ('Je me suis reposée.', '[start] I rested. [end]'),\n",
              " (\"Je l'ai vu.\", '[start] I saw it. [end]'),\n",
              " ('Je l’ai vu.', '[start] I saw it. [end]'),\n",
              " ('J’ai soupiré.', '[start] I sighed. [end]'),\n",
              " (\"J'ai souri.\", '[start] I smiled. [end]'),\n",
              " ('Je suis resté.', '[start] I stayed. [end]'),\n",
              " ('Je suis restée.', '[start] I stayed. [end]'),\n",
              " ('J’ai parlé.', '[start] I talked. [end]'),\n",
              " (\"Je l'utilise.\", '[start] I use it. [end]'),\n",
              " (\"J'en fais usage.\", '[start] I use it. [end]'),\n",
              " (\"Je m'en sers.\", '[start] I use it. [end]'),\n",
              " ('Je paierai.', \"[start] I'll pay. [end]\"),\n",
              " ('Je paie.', \"[start] I'll pay. [end]\"),\n",
              " ('Je vais essayer.', \"[start] I'll try. [end]\"),\n",
              " (\"J'essaierai.\", \"[start] I'll try. [end]\"),\n",
              " ('Je suis revenu.', \"[start] I'm back. [end]\"),\n",
              " ('Me revoilà.', \"[start] I'm back. [end]\"),\n",
              " ('Je suis chauve.', \"[start] I'm bald. [end]\"),\n",
              " ('Je suis occupé.', \"[start] I'm busy. [end]\"),\n",
              " ('Je suis occupée.', \"[start] I'm busy. [end]\"),\n",
              " ('Je suis calme.', \"[start] I'm calm. [end]\"),\n",
              " (\"J'ai froid.\", \"[start] I'm cold. [end]\"),\n",
              " ('Je suis détendu.', \"[start] I'm cool. [end]\"),\n",
              " ('Je suis détendue.', \"[start] I'm cool. [end]\"),\n",
              " ('Je suis sourd.', \"[start] I'm deaf. [end]\"),\n",
              " ('Je suis sourde.', \"[start] I'm deaf. [end]\"),\n",
              " (\"J'en ai fini.\", \"[start] I'm done. [end]\"),\n",
              " ('Je suis juste.', \"[start] I'm fair. [end]\"),\n",
              " (\"J'ai la peau claire.\", \"[start] I'm fair. [end]\"),\n",
              " (\"J'ai le teint clair.\", \"[start] I'm fair. [end]\"),\n",
              " ('Je suis rapide.', \"[start] I'm fast. [end]\"),\n",
              " ('Tout va bien.', \"[start] I'm fine. [end]\"),\n",
              " ('Je vais bien.', \"[start] I'm fine. [end]\"),\n",
              " ('Ça va.', \"[start] I'm fine. [end]\"),\n",
              " ('Je suis libre !', \"[start] I'm free! [end]\"),\n",
              " ('Je suis libre.', \"[start] I'm free. [end]\"),\n",
              " ('Je suis disponible.', \"[start] I'm free. [end]\"),\n",
              " ('Je suis repu\\u202f!', \"[start] I'm full. [end]\"),\n",
              " ('Je suis rassasié\\u202f!', \"[start] I'm full. [end]\"),\n",
              " (\"J'en suis.\", \"[start] I'm game. [end]\"),\n",
              " ('Je suis de la partie.', \"[start] I'm game. [end]\"),\n",
              " ('Je suis content.', \"[start] I'm glad. [end]\"),\n",
              " ('Je vais bien.', \"[start] I'm good. [end]\"),\n",
              " ('Je suis bon.', \"[start] I'm good. [end]\"),\n",
              " ('Je suis chez moi.', \"[start] I'm home. [end]\"),\n",
              " ('Je suis en retard.', \"[start] I'm late. [end]\"),\n",
              " ('Je suis paresseux.', \"[start] I'm lazy. [end]\"),\n",
              " ('Je suis fainéant.', \"[start] I'm lazy. [end]\"),\n",
              " ('Je suis paresseuse.', \"[start] I'm lazy. [end]\"),\n",
              " ('Je suis fainéante.', \"[start] I'm lazy. [end]\"),\n",
              " ('Je suis paumé.', \"[start] I'm lost. [end]\"),\n",
              " ('Je suis perdue.', \"[start] I'm lost. [end]\"),\n",
              " ('Je vais bien.', \"[start] I'm okay. [end]\"),\n",
              " ('Je me porte bien.', \"[start] I'm okay. [end]\"),\n",
              " ('Je suis riche.', \"[start] I'm rich. [end]\"),\n",
              " ('Je suis en sécurité.', \"[start] I'm safe. [end]\"),\n",
              " ('Je suis malade.', \"[start] I'm sick. [end]\"),\n",
              " (\"J'en suis certain.\", \"[start] I'm sure. [end]\"),\n",
              " ('Je suis certain.', \"[start] I'm sure. [end]\"),\n",
              " (\"J'en suis sûr.\", \"[start] I'm sure. [end]\"),\n",
              " (\"J'en suis sûre.\", \"[start] I'm sure. [end]\"),\n",
              " ('Je suis grande.', \"[start] I'm tall. [end]\"),\n",
              " ('Je suis mince.', \"[start] I'm thin. [end]\"),\n",
              " ('Je suis ordonné.', \"[start] I'm tidy. [end]\"),\n",
              " ('Je suis ordonnée.', \"[start] I'm tidy. [end]\"),\n",
              " ('Je suis laid.', \"[start] I'm ugly. [end]\"),\n",
              " ('Je suis laide.', \"[start] I'm ugly. [end]\"),\n",
              " ('Je suis moche.', \"[start] I'm ugly. [end]\"),\n",
              " ('Je suis faible.', \"[start] I'm weak. [end]\"),\n",
              " ('Je vais bien.', \"[start] I'm well. [end]\"),\n",
              " ('Je me porte bien.', \"[start] I'm well. [end]\"),\n",
              " (\"J'ai gagné.\", \"[start] I've won. [end]\"),\n",
              " (\"Je l'ai emporté.\", \"[start] I've won. [end]\"),\n",
              " ('Ça aide.', '[start] It helps. [end]'),\n",
              " ('Ça fait mal.', '[start] It hurts. [end]'),\n",
              " ('Elle marche.', '[start] It works. [end]'),\n",
              " ('Ça fonctionne.', '[start] It works. [end]'),\n",
              " (\"C'est Tom.\", \"[start] It's Tom. [end]\"),\n",
              " (\"C'est marrant.\", \"[start] It's fun. [end]\"),\n",
              " (\"C'est rigolo.\", \"[start] It's fun. [end]\"),\n",
              " (\"C'est le sien.\", \"[start] It's his. [end]\"),\n",
              " (\"C'est la sienne.\", \"[start] It's his. [end]\"),\n",
              " (\"C'est chaud.\", \"[start] It's hot. [end]\"),\n",
              " (\"C'est nouveau.\", \"[start] It's new. [end]\"),\n",
              " (\"C'est neuf.\", \"[start] It's new. [end]\"),\n",
              " (\"C'est bizarre.\", \"[start] It's odd. [end]\"),\n",
              " ('Il est rouge.', \"[start] It's red. [end]\"),\n",
              " ('C’est triste.', \"[start] It's sad. [end]\"),\n",
              " (\"Défense d'entrer.\", '[start] Keep out! [end]'),\n",
              " (\"N'entrez pas.\", '[start] Keep out. [end]'),\n",
              " ('Tuez Tom.', '[start] Kill Tom. [end]'),\n",
              " ('Tue Tom.', '[start] Kill Tom. [end]'),\n",
              " ('Embrasse Tom.', '[start] Kiss Tom. [end]'),\n",
              " ('Laisse tomber !', '[start] Leave it. [end]'),\n",
              " ('Laissez tomber !', '[start] Leave it. [end]'),\n",
              " ('Laisse !', '[start] Leave it. [end]'),\n",
              " ('Laissez ça.', '[start] Leave it. [end]'),\n",
              " ('Laisse ça.', '[start] Leave it. [end]'),\n",
              " ('Laissez-moi !', '[start] Leave me. [end]'),\n",
              " ('Laisse-nous !', '[start] Leave us. [end]'),\n",
              " ('Laissez-nous !', '[start] Leave us. [end]'),\n",
              " ('Allons-y !', \"[start] Let's go! [end]\"),\n",
              " ('Allons !', \"[start] Let's go! [end]\"),\n",
              " ('En route !', \"[start] Let's go! [end]\"),\n",
              " ('Allons-y !', \"[start] Let's go. [end]\"),\n",
              " ('En route !', \"[start] Let's go. [end]\"),\n",
              " ('Attention !', '[start] Look out! [end]'),\n",
              " ('Faites attention\\u202f!', '[start] Look out! [end]'),\n",
              " ('Fais attention\\u202f!', '[start] Look out! [end]'),\n",
              " ('Soyez prudente !', '[start] Look out! [end]'),\n",
              " ('Fais gaffe !', '[start] Look out! [end]'),\n",
              " ('Faites gaffe !', '[start] Look out! [end]'),\n",
              " ('Fais attention !', '[start] Look out! [end]'),\n",
              " ('Regarde donc !', '[start] Look out! [end]'),\n",
              " ('Faites attention.', '[start] Look out! [end]'),\n",
              " ('Fais attention.', '[start] Look out! [end]'),\n",
              " ('Épouse-moi !', '[start] Marry me. [end]'),\n",
              " ('Épousez-moi !', '[start] Marry me. [end]'),\n",
              " ('Puis-je partir ?', '[start] May I go? [end]'),\n",
              " ('Puis-je y aller ?', '[start] May I go? [end]'),\n",
              " (\"Puis-je m'y rendre ?\", '[start] May I go? [end]'),\n",
              " ('Belle tentative.', '[start] Nice try. [end]'),\n",
              " ('Arrêtez-vous maintenant\\xa0!', '[start] Now stop! [end]'),\n",
              " ('Arrête-toi maintenant\\xa0!', '[start] Now stop! [end]'),\n",
              " ('Prouvez-le.', '[start] Prove it. [end]'),\n",
              " ('Prouve-le.', '[start] Prove it. [end]'),\n",
              " ('Fuyez.', '[start] Run away. [end]'),\n",
              " ('Fuis.', '[start] Run away. [end]'),\n",
              " ('Enfuyez-vous.', '[start] Run away. [end]'),\n",
              " ('Enfuis-toi.', '[start] Run away. [end]'),\n",
              " ('Sauve Tom.', '[start] Save Tom. [end]'),\n",
              " ('Sauvez Tom.', '[start] Save Tom. [end]'),\n",
              " ('De quoi\\u202f?', '[start] Say what? [end]'),\n",
              " ('Elle est venue.', '[start] She came. [end]'),\n",
              " ('Elle est morte.', '[start] She died. [end]'),\n",
              " ('Elle est partie.', '[start] She left. [end]'),\n",
              " ('Elle court.', '[start] She runs. [end]'),\n",
              " ('Assieds-toi !', '[start] Sit down! [end]'),\n",
              " ('Asseyez-vous !', '[start] Sit down! [end]'),\n",
              " ('Asseyez-vous.', '[start] Sit down! [end]'),\n",
              " ('Assieds-toi.', '[start] Sit down. [end]'),\n",
              " ('Asseyez-vous.', '[start] Sit down. [end]'),\n",
              " ('Assieds-toi ici.', '[start] Sit here. [end]'),\n",
              " ('Asseyez-vous ici.', '[start] Sit here. [end]'),\n",
              " ('Parle plus fort\\u202f!', '[start] Speak up! [end]'),\n",
              " ('Parlez plus fort\\u202f!', '[start] Speak up! [end]'),\n",
              " ('Parle plus fort !', '[start] Speak up! [end]'),\n",
              " ('Accélère.', '[start] Speed up. [end]'),\n",
              " ('Accélérez.', '[start] Speed up. [end]'),\n",
              " ('Lève-toi.', '[start] Stand up. [end]'),\n",
              " ('Arrête Tom.', '[start] Stop Tom. [end]'),\n",
              " ('Stoppez Tom.', '[start] Stop Tom. [end]'),\n",
              " ('Prends Tom.', '[start] Take Tom. [end]'),\n",
              " ('Goûte-le.', '[start] Taste it. [end]'),\n",
              " ('Goûte-la.', '[start] Taste it. [end]'),\n",
              " ('Goûtez-le.', '[start] Taste it. [end]'),\n",
              " ('Goûtez-la.', '[start] Taste it. [end]'),\n",
              " ('Dis-le à Tom.', '[start] Tell Tom. [end]'),\n",
              " ('Informez-en Tom.', '[start] Tell Tom. [end]'),\n",
              " ('Fantastique\\u202f!', '[start] Terrific! [end]'),\n",
              " ('Génial\\u202f!', '[start] Terrific! [end]'),\n",
              " ('Super\\u202f!', '[start] Terrific! [end]'),\n",
              " ('Au poil\\u202f!', '[start] Terrific! [end]'),\n",
              " ('Impeccable\\u202f!', '[start] Terrific! [end]'),\n",
              " ('Nickel\\u202f!', '[start] Terrific! [end]'),\n",
              " ('Excellent\\u202f!', '[start] Terrific! [end]'),\n",
              " ('Magnifique\\u202f!', '[start] Terrific! [end]'),\n",
              " ('Nickel chrome\\u202f!', '[start] Terrific! [end]'),\n",
              " ('Bien.', '[start] Terrific! [end]'),\n",
              " ('Formidable !', '[start] Terrific! [end]'),\n",
              " (\"C'est génial !\", '[start] Terrific! [end]'),\n",
              " ('À la bonne heure !', '[start] Terrific! [end]'),\n",
              " (\"C'est super.\", '[start] Terrific! [end]'),\n",
              " ('Super !', '[start] Terrific! [end]'),\n",
              " ('Génial !', '[start] Terrific! [end]'),\n",
              " ('Sensass !', '[start] Terrific! [end]'),\n",
              " ('Ils gagnèrent.', '[start] They won. [end]'),\n",
              " ('Elles gagnèrent.', '[start] They won. [end]'),\n",
              " ('Ils ont gagné.', '[start] They won. [end]'),\n",
              " ('Elles ont gagné.', '[start] They won. [end]'),\n",
              " ('Tom est venu.', '[start] Tom came. [end]'),\n",
              " ('Tom est mort.', '[start] Tom died. [end]'),\n",
              " ('Tom savait.', '[start] Tom knew. [end]'),\n",
              " ('Tom est parti.', '[start] Tom left. [end]'),\n",
              " ('Tom partit.', '[start] Tom left. [end]'),\n",
              " ('Tom a menti.', '[start] Tom lied. [end]'),\n",
              " ('Tom ment.', '[start] Tom lies. [end]'),\n",
              " ('Tom a perdu.', '[start] Tom lost. [end]'),\n",
              " ('Tom a payé.', '[start] Tom paid. [end]'),\n",
              " ('Tom payait.', '[start] Tom paid. [end]'),\n",
              " ('Tom est parti.', '[start] Tom went. [end]'),\n",
              " ('Tom est debout.', \"[start] Tom's up. [end]\"),\n",
              " ('Trop tard.', '[start] Too late. [end]'),\n",
              " ('Touchez-le.', '[start] Touch it. [end]'),\n",
              " ('Touchez-la.', '[start] Touch it. [end]'),\n",
              " ('Touche-le.', '[start] Touch it. [end]'),\n",
              " ('Touche-la.', '[start] Touch it. [end]'),\n",
              " ('Fais-moi confiance\\u202f!', '[start] Trust me! [end]'),\n",
              " ('Faites-moi confiance.', '[start] Trust me. [end]'),\n",
              " ('Fais-moi confiance.', '[start] Trust me. [end]'),\n",
              " ('Ayez confiance en moi.', '[start] Trust me. [end]'),\n",
              " ('Aie confiance en moi.', '[start] Trust me. [end]'),\n",
              " ('Essaies-en !', '[start] Try some. [end]'),\n",
              " ('Essayez-en !', '[start] Try some. [end]'),\n",
              " ('Essaie.', '[start] Try some. [end]'),\n",
              " ('Essaie ceci !', '[start] Try this. [end]'),\n",
              " ('Essayez ceci !', '[start] Try this. [end]'),\n",
              " ('Essaye ceci.', '[start] Try this. [end]'),\n",
              " ('Utilise ceci.', '[start] Use this. [end]'),\n",
              " ('Utilisez ceci.', '[start] Use this. [end]'),\n",
              " ('Emploie ceci !', '[start] Use this. [end]'),\n",
              " ('Employez ceci !', '[start] Use this. [end]'),\n",
              " ('Avertis Tom.', '[start] Warn Tom. [end]'),\n",
              " ('Préviens Tom.', '[start] Warn Tom. [end]'),\n",
              " ('Regarde-moi !', '[start] Watch me. [end]'),\n",
              " ('Regardez-moi !', '[start] Watch me. [end]'),\n",
              " ('Regardez-nous !', '[start] Watch us. [end]'),\n",
              " ('Regarde-nous !', '[start] Watch us. [end]'),\n",
              " (\"Nous sommes d'accord.\", '[start] We agree. [end]'),\n",
              " ('Nous irons.', \"[start] We'll go. [end]\"),\n",
              " ('Nous allons bien.', \"[start] We're OK. [end]\"),\n",
              " ('Pour quoi faire\\u202f?', '[start] What for? [end]'),\n",
              " ('À quoi bon ?', '[start] What for? [end]'),\n",
              " (\"Qu'est-ce qu'on s'est marrés !\", '[start] What fun! [end]'),\n",
              " (\"Qu'est-ce qu'on s'est marrées !\", '[start] What fun! [end]'),\n",
              " ('Qui suis-je ?', '[start] Who am I? [end]'),\n",
              " ('Qui est venu ?', '[start] Who came? [end]'),\n",
              " ('Qui est mort ?', '[start] Who died? [end]'),\n",
              " ('Qui est tombé\\xa0?', '[start] Who fell? [end]'),\n",
              " ('Qui a perdu ?', '[start] Who lost? [end]'),\n",
              " ('Qui a payé\\xa0?', '[start] Who paid? [end]'),\n",
              " ('Qui démissionne\\xa0?', '[start] Who quit? [end]'),\n",
              " ('Qui est-il\\u202f?', \"[start] Who's he? [end]\"),\n",
              " ('Écris-moi !', '[start] Write me. [end]'),\n",
              " ('Écrivez-moi !', '[start] Write me. [end]'),\n",
              " ('Tu as perdu.', '[start] You lost. [end]'),\n",
              " ('Vous avez perdu.', '[start] You lost. [end]'),\n",
              " ('T’as perdu.', '[start] You lost. [end]'),\n",
              " ('Je vous en prie.', '[start] After you. [end]'),\n",
              " ('Après vous.', '[start] After you. [end]'),\n",
              " ('À vous l’honneur.', '[start] After you. [end]'),\n",
              " ('À toi l’honneur.', '[start] After you. [end]'),\n",
              " ('En joue ! Feu !', '[start] Aim. Fire! [end]'),\n",
              " ('Suis-je mignon ?', '[start] Am I cute? [end]'),\n",
              " ('Suis-je en retard ?', '[start] Am I late? [end]'),\n",
              " ('Répondez-moi.', '[start] Answer me. [end]'),\n",
              " ('Sois honnête.', '[start] Be honest. [end]'),\n",
              " ('Soyez honnêtes.', '[start] Be honest. [end]'),\n",
              " ('Soyez honnête.', '[start] Be honest. [end]'),\n",
              " ('Assieds-toi !', '[start] Be seated. [end]'),\n",
              " ('Asseyez-vous !', '[start] Be seated. [end]'),\n",
              " ('Asseyez-vous.', '[start] Be seated. [end]'),\n",
              " ('Sois puissante\\xa0!', '[start] Be strong. [end]'),\n",
              " ('Les oiseaux volent.', '[start] Birds fly. [end]'),\n",
              " ('À tes souhaits\\u202f!', '[start] Bless you. [end]'),\n",
              " ('Appelle à la maison !', '[start] Call home! [end]'),\n",
              " ('Calmez-vous !', '[start] Calm down! [end]'),\n",
              " ('Du calme.', '[start] Calm down! [end]'),\n",
              " ('Tranquille.', '[start] Calm down! [end]'),\n",
              " ('Calme-toi.', '[start] Calm down. [end]'),\n",
              " ('Du calme.', '[start] Calm down. [end]'),\n",
              " ('Tranquille.', '[start] Calm down. [end]'),\n",
              " ('Pouvons-nous partir ?', '[start] Can we go? [end]'),\n",
              " ('Pouvons-nous nous en aller ?', '[start] Can we go? [end]'),\n",
              " ('Pouvons-nous y aller ?', '[start] Can we go? [end]'),\n",
              " ('Attrape Tom.', '[start] Catch Tom. [end]'),\n",
              " ('Attrapez Tom.', '[start] Catch Tom. [end]'),\n",
              " ('Attrape-le\\u202f!', '[start] Catch him. [end]'),\n",
              " ('Rattrape-le.', '[start] Catch him. [end]'),\n",
              " ('Saisissez-le.', '[start] Catch him. [end]'),\n",
              " ('Calme-toi.', '[start] Chill out. [end]'),\n",
              " ('Tranquille.', '[start] Chill out. [end]'),\n",
              " ('Choisis-moi !', '[start] Choose me. [end]'),\n",
              " ('Reviens !', '[start] Come back. [end]'),\n",
              " ('Revenez !', '[start] Come back. [end]'),\n",
              " ('Viens ici.', '[start] Come here. [end]'),\n",
              " ('Venez là.', '[start] Come here. [end]'),\n",
              " ('Venez ici !', '[start] Come over. [end]'),\n",
              " ('Viens chez nous !', '[start] Come over. [end]'),\n",
              " ('Venez chez nous !', '[start] Come over. [end]'),\n",
              " ('Viens chez moi !', '[start] Come over. [end]'),\n",
              " ('Venez chez moi !', '[start] Come over. [end]'),\n",
              " ('Viens bientôt !', '[start] Come soon. [end]'),\n",
              " ('Venez bientôt !', '[start] Come soon. [end]'),\n",
              " ('Calmez-vous !', '[start] Cool down. [end]'),\n",
              " ('Ai-je gagné ?', '[start] Did I win? [end]'),\n",
              " (\"L'ai-je emporté ?\", '[start] Did I win? [end]'),\n",
              " ('Est-ce moi qui ai gagné ?', '[start] Did I win? [end]'),\n",
              " ('Faites-le maintenant.', '[start] Do it now. [end]'),\n",
              " ('Des chiens aboient.', '[start] Dogs bark. [end]'),\n",
              " ('Les chiens aboient.', '[start] Dogs bark. [end]'),\n",
              " ('Ne demande pas !', \"[start] Don't ask. [end]\"),\n",
              " ('Ne pleure pas !', \"[start] Don't cry. [end]\"),\n",
              " ('Ne meurs pas !', \"[start] Don't die. [end]\"),\n",
              " ('Ne mourez pas !', \"[start] Don't die. [end]\"),\n",
              " ('Ne mens pas.', \"[start] Don't lie. [end]\"),\n",
              " ('Ne mens pas !', \"[start] Don't lie. [end]\"),\n",
              " ('Ne courez pas.', \"[start] Don't run. [end]\"),\n",
              " ('Ne cours pas.', \"[start] Don't run. [end]\"),\n",
              " ('Excuse-moi.', '[start] Excuse me. [end]'),\n",
              " ('Excusez-moi.', '[start] Excuse me. [end]'),\n",
              " ('Pardon\\u202f?', '[start] Excuse me? [end]'),\n",
              " ('Je vous demande pardon\\u202f?', '[start] Excuse me? [end]'),\n",
              " ('Plaît-il\\u202f?', '[start] Excuse me? [end]'),\n",
              " ('Plait-il\\u202f?', '[start] Excuse me? [end]'),\n",
              " ('Pardon ?', '[start] Excuse me? [end]'),\n",
              " ('Fantastique\\u202f!', '[start] Fantastic! [end]'),\n",
              " ('Fantastique\\xa0!', '[start] Fantastic! [end]'),\n",
              " ('Sensass !', '[start] Fantastic! [end]'),\n",
              " ('Sens ça !', '[start] Feel this. [end]'),\n",
              " ('Sentez ça !', '[start] Feel this. [end]'),\n",
              " ('Touche ça !', '[start] Feel this. [end]'),\n",
              " ('Touchez ça !', '[start] Feel this. [end]'),\n",
              " ('Filmez ceci.', '[start] Film this. [end]'),\n",
              " ('Filme ceci.', '[start] Film this. [end]'),\n",
              " ('Suis-moi.', '[start] Follow me. [end]'),\n",
              " ('Suis-nous !', '[start] Follow us. [end]'),\n",
              " ('Suivez-nous !', '[start] Follow us. [end]'),\n",
              " ('Oublie !', '[start] Forget it! [end]'),\n",
              " ('Oublie-le !', '[start] Forget it! [end]'),\n",
              " ('Oubliez !', '[start] Forget it! [end]'),\n",
              " ('Oubliez-le !', '[start] Forget it! [end]'),\n",
              " ('Laissez tomber.', '[start] Forget it! [end]'),\n",
              " ('Oubliez ça !', '[start] Forget it! [end]'),\n",
              " ('Laisse tomber.', '[start] Forget it. [end]'),\n",
              " ('Oublie.', '[start] Forget it. [end]'),\n",
              " ('Oublie-le !', '[start] Forget it. [end]'),\n",
              " ('Laissez tomber.', '[start] Forget it. [end]'),\n",
              " ...]"
            ]
          },
          "metadata": {},
          "execution_count": 17
        }
      ]
    },
    {
      "cell_type": "markdown",
      "source": [
        "Посмотрим, как выглядят сформированные пары предложений."
      ],
      "metadata": {
        "id": "owLUPF2sh2g9"
      }
    },
    {
      "cell_type": "code",
      "source": [
        "for _ in range(5):\n",
        "    print(random.choice(text_pairs))"
      ],
      "metadata": {
        "colab": {
          "base_uri": "https://localhost:8080/"
        },
        "id": "4xXn1vgbht5b",
        "outputId": "fbbdaca8-646e-4a33-8d47-3ec1aa6857c9"
      },
      "execution_count": null,
      "outputs": [
        {
          "output_type": "stream",
          "name": "stdout",
          "text": [
            "('Je ne devrais pas être ici.', \"[start] I shouldn't be here. [end]\")\n",
            "(\"Je t'aime !\", '[start] I love you. [end]')\n",
            "(\"J'espère que tu ne fais pas cela.\", \"[start] I hope you don't do that. [end]\")\n",
            "(\"Je ne me sens pas bien et j'aimerais rester à la maison aujourd'hui.\", \"[start] I'm not feeling well and would like to stay home today. [end]\")\n",
            "('Je me sens presque désolé pour toi.', '[start] I almost feel sorry for you. [end]')\n"
          ]
        }
      ]
    },
    {
      "cell_type": "markdown",
      "source": [
        "Теперь разделим все пары предложений на обучающий набор, валидационный набор и тестовый набор."
      ],
      "metadata": {
        "id": "EjaKnAsXh7jX"
      }
    },
    {
      "cell_type": "code",
      "source": [
        "random.shuffle(text_pairs)\n",
        "num_val_samples = int(0.15 * len(text_pairs))\n",
        "num_train_samples = len(text_pairs) - 2 * num_val_samples\n",
        "train_pairs = text_pairs[:num_train_samples]\n",
        "val_pairs = text_pairs[num_train_samples : num_train_samples + num_val_samples]\n",
        "test_pairs = text_pairs[num_train_samples + num_val_samples :]\n",
        "\n",
        "print(f\"{len(text_pairs)} total pairs\")\n",
        "print(f\"{len(train_pairs)} training pairs\")\n",
        "print(f\"{len(val_pairs)} validation pairs\")\n",
        "print(f\"{len(test_pairs)} test pairs\")"
      ],
      "metadata": {
        "colab": {
          "base_uri": "https://localhost:8080/"
        },
        "id": "Bz-1nvBeh44I",
        "outputId": "c9ed7078-67d4-49c0-dbda-64b3eae682b8"
      },
      "execution_count": null,
      "outputs": [
        {
          "output_type": "stream",
          "name": "stdout",
          "text": [
            "232736 total pairs\n",
            "162916 training pairs\n",
            "34910 validation pairs\n",
            "34910 test pairs\n"
          ]
        }
      ]
    },
    {
      "cell_type": "markdown",
      "source": [
        "## Векторизация текстовых данных"
      ],
      "metadata": {
        "id": "bqnsdTHmiAqu"
      }
    },
    {
      "cell_type": "markdown",
      "source": [
        "Мы будем использовать два экземпляра слоя `TextVectorization` для векторизации текстовых данных (один для английского и один для испанского языков), то есть для преобразования исходных строк в целочисленные последовательности, где каждое целое число представляет индекс слова в словаре.\n",
        "\n",
        "В английском слое будет использоваться стандартизация строк по умолчанию (удаление знаков препинания) и схема разделения (разделение на пробелы), в то время как в испанском слое будет использоваться пользовательская стандартизация, где мы добавим символ \"¿\" к набору символов препинания, которые нужно удалить.\n",
        "\n",
        "**Примечание:** в модели машинного перевода, используемой в производственных условиях, не рекомендуют удалять знаки препинания ни на одном из языков. Вместо этого преобразовают каждый знак препинания в отдельный токен. Этого можно добиться испольванием пользовательской функции разделения на уровне векторизации текста."
      ],
      "metadata": {
        "id": "dp_e7L4RiEkO"
      }
    },
    {
      "cell_type": "code",
      "source": [
        "strip_chars = string.punctuation + \"¿\"\n",
        "strip_chars = strip_chars.replace(\"[\", \"\")\n",
        "strip_chars = strip_chars.replace(\"]\", \"\")\n",
        "\n",
        "vocab_size = 20000\n",
        "sequence_length = 20\n",
        "batch_size = 64\n",
        "\n",
        "\n",
        "def custom_standardization(input_string):\n",
        "    lowercase = tf_strings.lower(input_string)\n",
        "    return tf_strings.regex_replace(lowercase, \"[%s]\" % re.escape(strip_chars), \"\")\n",
        "\n",
        "\n",
        "spa_vectorization = TextVectorization(\n",
        "    max_tokens=vocab_size,\n",
        "    output_mode=\"int\",\n",
        "    output_sequence_length=sequence_length,\n",
        "    standardize=custom_standardization,\n",
        ")\n",
        "\n",
        "eng_vectorization = TextVectorization(\n",
        "    max_tokens=vocab_size,\n",
        "    output_mode=\"int\",\n",
        "    output_sequence_length=sequence_length + 1,\n",
        ")\n",
        "\n",
        "train_spa_texts = [pair[0] for pair in train_pairs]\n",
        "train_eng_texts = [pair[1] for pair in train_pairs]\n",
        "\n",
        "spa_vectorization.adapt(train_spa_texts)\n",
        "eng_vectorization.adapt(train_eng_texts)\n"
      ],
      "metadata": {
        "id": "kcIQylNkh-D9"
      },
      "execution_count": null,
      "outputs": []
    },
    {
      "cell_type": "markdown",
      "source": [
        "Далее отформатируем наши наборы данных.\n",
        "\n",
        "На каждом этапе обучения модель будет пытаться предсказать целевые слова `N+1` (и далее), используя исходное предложение и целевые слова от 0 до `N`.\n",
        "\n",
        "Таким образом, набор обучающих данных будет содержать кортеж (входные данные, целевые объекты), где:\n",
        "\n",
        "* `inputs` - это словарь с ключами `encoder_inputs` и `decoder_inputs`. `encoder_inputs` - это векторизованное исходное предложение, а `encoder_inputs` - это целевое предложение \"до сих пор\", то есть слова от 0 до `N`, используемые для предсказания слова `N`+1 (и далее) в целевом предложении.\n",
        "* `target` – это целевое предложение, смещенное на один шаг: оно содержит следующие слова в целевом предложении - то, что модель попытается предсказать."
      ],
      "metadata": {
        "id": "UvVAEHOWiOXJ"
      }
    },
    {
      "cell_type": "code",
      "source": [
        "def format_dataset(spa, eng):\n",
        "    spa = spa_vectorization(spa)\n",
        "    eng = eng_vectorization(eng)\n",
        "\n",
        "    return (\n",
        "        {\n",
        "            \"encoder_inputs\": spa,\n",
        "            \"decoder_inputs\": eng[:, :-1],\n",
        "        },\n",
        "        eng[:, 1:],\n",
        "    )\n",
        "\n",
        "\n",
        "def make_dataset(pairs):\n",
        "    spa_texts,  eng_texts = zip(*pairs)\n",
        "    eng_texts = list(eng_texts)\n",
        "    spa_texts = list(spa_texts)\n",
        "    dataset = tf_data.Dataset.from_tensor_slices((spa_texts, eng_texts))\n",
        "    dataset = dataset.batch(batch_size)\n",
        "    dataset = dataset.map(format_dataset)\n",
        "    return dataset.cache().shuffle(2048).prefetch(16)\n",
        "\n",
        "\n",
        "train_ds = make_dataset(train_pairs)\n",
        "val_ds = make_dataset(val_pairs)"
      ],
      "metadata": {
        "id": "XpPFi7bMiKRh"
      },
      "execution_count": null,
      "outputs": []
    },
    {
      "cell_type": "markdown",
      "source": [
        "Рассмотрим формы последовательности (у нас есть наборы из 64 пар, и все последовательности состоят из 20 предложений)."
      ],
      "metadata": {
        "id": "HVM45NeDiY8B"
      }
    },
    {
      "cell_type": "code",
      "source": [
        "for inputs, targets in train_ds.take(1):\n",
        "    print(f'inputs[\"encoder_inputs\"].shape: {inputs[\"encoder_inputs\"].shape}')\n",
        "    print(f'inputs[\"decoder_inputs\"].shape: {inputs[\"decoder_inputs\"].shape}')\n",
        "    print(f\"targets.shape: {targets.shape}\")"
      ],
      "metadata": {
        "colab": {
          "base_uri": "https://localhost:8080/"
        },
        "id": "BagX2z9CiWJ4",
        "outputId": "fcd5360f-25f1-47b7-fff4-d34aeaeaf269"
      },
      "execution_count": null,
      "outputs": [
        {
          "output_type": "stream",
          "name": "stdout",
          "text": [
            "inputs[\"encoder_inputs\"].shape: (64, 20)\n",
            "inputs[\"decoder_inputs\"].shape: (64, 20)\n",
            "targets.shape: (64, 20)\n"
          ]
        }
      ]
    },
    {
      "cell_type": "markdown",
      "source": [
        "## Построение модели"
      ],
      "metadata": {
        "id": "l-OfXA89inkX"
      }
    },
    {
      "cell_type": "markdown",
      "source": [
        "Модель sequence-to-sequence Transformer состоит из TransformerEncoder и TransformerDecoder, соединенных вместе. Чтобы модель учитывала порядок слов, мы также используем слой PositionalEmbedding (позиционного встраивания).\n",
        "\n",
        "Исходная последовательность передается в TransformerEncoder, который создает новое представление. Это новое представление затем передается в TransformerDecoder вместе с целевой последовательностью на данный момент (целевые слова от 0 до N). Затем TransformerDecoder попытается предсказать следующие слова в целевой последовательности (N+1 и далее).\n",
        "\n",
        "Ключевой деталью, которая делает это возможным, является причинное маскирование (см. метод get_causal_attention_mask() в TransformerDecoder). Transformer Decoder видит все последовательности сразу, и поэтому необходимо убедиться, что он использует только информацию от целевых токенов от 0 до N при прогнозировании токена N+1 (в противном случае он мог бы использовать информацию из будущего, что приводит к модели, которую нельзя использовать во время вывода)."
      ],
      "metadata": {
        "id": "HJ7hTqyXmImm"
      }
    },
    {
      "cell_type": "markdown",
      "source": [
        "![image.png](data:image/png;base64,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)"
      ],
      "metadata": {
        "id": "51cP1nGrmop3"
      }
    },
    {
      "cell_type": "markdown",
      "source": [
        "### TransformerEncoder"
      ],
      "metadata": {
        "id": "Ed1IgnBxMPzz"
      }
    },
    {
      "cell_type": "code",
      "source": [
        "import keras.ops as ops\n",
        "\n",
        "\n",
        "class TransformerEncoder(layers.Layer):\n",
        "    def __init__(self, embed_dim, dense_dim, num_heads, **kwargs):\n",
        "        super().__init__(**kwargs)\n",
        "        self.embed_dim = embed_dim\n",
        "        self.dense_dim = dense_dim\n",
        "        self.num_heads = num_heads\n",
        "        self.attention = layers.MultiHeadAttention(\n",
        "            num_heads=num_heads, key_dim=embed_dim\n",
        "        )\n",
        "        self.dense_proj = keras.Sequential(\n",
        "            [\n",
        "                layers.Dense(dense_dim, activation=\"relu\"),\n",
        "                layers.Dense(embed_dim),\n",
        "            ]\n",
        "        )\n",
        "        self.layernorm_1 = layers.LayerNormalization()\n",
        "        self.layernorm_2 = layers.LayerNormalization()\n",
        "        self.supports_masking = True\n",
        "\n",
        "    def call(self, inputs, mask=None):\n",
        "        if mask is not None:\n",
        "            padding_mask = ops.cast(mask[:, None, :], dtype=\"int32\")\n",
        "        else:\n",
        "            padding_mask = None\n",
        "\n",
        "        attention_output = self.attention(\n",
        "            query=inputs, value=inputs, key=inputs, attention_mask=padding_mask\n",
        "        )\n",
        "        proj_input = self.layernorm_1(inputs + attention_output)\n",
        "        proj_output = self.dense_proj(proj_input)\n",
        "        return self.layernorm_2(proj_input + proj_output)\n",
        "\n",
        "    def get_config(self):\n",
        "        config = super().get_config()\n",
        "        config.update(\n",
        "            {\n",
        "                \"embed_dim\": self.embed_dim,\n",
        "                \"dense_dim\": self.dense_dim,\n",
        "                \"num_heads\": self.num_heads,\n",
        "            }\n",
        "        )\n",
        "        return config\n",
        "\n",
        "\n"
      ],
      "metadata": {
        "id": "fbGkW-CYibxj"
      },
      "execution_count": null,
      "outputs": []
    },
    {
      "cell_type": "markdown",
      "source": [
        "### Позиционное кодирование\n",
        "\n",
        "Слои внимания видят свои входные данные как набор векторов без учета порядка в последовательности. Эта модель не содержит рекуррентных или сверточных слоев. Из-за этого добавляется «позиционное кодирование», чтобы дать модели некоторую информацию об относительном положении токенов в предложении.\n",
        "\n",
        "Вектор позиционного кодирования добавляется к вектору встраивания. Вложения представляют токен в d-мерном пространстве, где токены со схожим значением будут ближе друг к другу. Но вложения не кодируют относительное положение токенов в предложении. Таким образом, после добавления позиционного кодирования токены будут ближе друг к другу на основе схожести их значения и их положения в предложении , в d-мерном пространстве."
      ],
      "metadata": {
        "id": "b7b4YPa4G7Jl"
      }
    },
    {
      "cell_type": "code",
      "source": [
        "class PositionalEmbedding(layers.Layer):\n",
        "    def __init__(self, sequence_length, vocab_size, embed_dim, **kwargs):\n",
        "        super().__init__(**kwargs)\n",
        "        self.token_embeddings = layers.Embedding(\n",
        "            input_dim=vocab_size, output_dim=embed_dim\n",
        "        )\n",
        "        self.position_embeddings = layers.Embedding(\n",
        "            input_dim=sequence_length, output_dim=embed_dim\n",
        "        )\n",
        "        self.sequence_length = sequence_length\n",
        "        self.vocab_size = vocab_size\n",
        "        self.embed_dim = embed_dim\n",
        "\n",
        "    def call(self, inputs):\n",
        "        length = ops.shape(inputs)[-1]\n",
        "        positions = ops.arange(0, length, 1)\n",
        "        embedded_tokens = self.token_embeddings(inputs)\n",
        "        embedded_positions = self.position_embeddings(positions)\n",
        "        return embedded_tokens + embedded_positions\n",
        "\n",
        "    def compute_mask(self, inputs, mask=None):\n",
        "        if mask is None:\n",
        "            return None\n",
        "        else:\n",
        "            return ops.not_equal(inputs, 0)\n",
        "\n",
        "    def get_config(self):\n",
        "        config = super().get_config()\n",
        "        config.update(\n",
        "            {\n",
        "                \"sequence_length\": self.sequence_length,\n",
        "                \"vocab_size\": self.vocab_size,\n",
        "                \"embed_dim\": self.embed_dim,\n",
        "            }\n",
        "        )\n",
        "        return config\n",
        "\n",
        "\n"
      ],
      "metadata": {
        "id": "bCKqxJc-mVsf"
      },
      "execution_count": null,
      "outputs": []
    },
    {
      "cell_type": "markdown",
      "source": [
        "### TransformerDecoder"
      ],
      "metadata": {
        "id": "_Ze7rowUMJyE"
      }
    },
    {
      "cell_type": "code",
      "source": [
        "class TransformerDecoder(layers.Layer):\n",
        "    def __init__(self, embed_dim, latent_dim, num_heads, **kwargs):\n",
        "        super().__init__(**kwargs)\n",
        "        self.embed_dim = embed_dim\n",
        "        self.latent_dim = latent_dim\n",
        "        self.num_heads = num_heads\n",
        "        self.attention_1 = layers.MultiHeadAttention(\n",
        "            num_heads=num_heads, key_dim=embed_dim\n",
        "        )\n",
        "        self.attention_2 = layers.MultiHeadAttention(\n",
        "            num_heads=num_heads, key_dim=embed_dim\n",
        "        )\n",
        "        self.dense_proj = keras.Sequential(\n",
        "            [\n",
        "                layers.Dense(latent_dim, activation=\"relu\"),\n",
        "                layers.Dense(embed_dim),\n",
        "            ]\n",
        "        )\n",
        "        self.layernorm_1 = layers.LayerNormalization()\n",
        "        self.layernorm_2 = layers.LayerNormalization()\n",
        "        self.layernorm_3 = layers.LayerNormalization()\n",
        "        self.supports_masking = True\n",
        "\n",
        "    def call(self, inputs, encoder_outputs, mask=None):\n",
        "        causal_mask = self.get_causal_attention_mask(inputs)\n",
        "        if mask is not None:\n",
        "            padding_mask = ops.cast(mask[:, None, :], dtype=\"int32\")\n",
        "            padding_mask = ops.minimum(padding_mask, causal_mask)\n",
        "        else:\n",
        "            padding_mask = None\n",
        "\n",
        "        attention_output_1 = self.attention_1(\n",
        "            query=inputs, value=inputs, key=inputs, attention_mask=causal_mask\n",
        "        )\n",
        "        out_1 = self.layernorm_1(inputs + attention_output_1)\n",
        "\n",
        "        attention_output_2 = self.attention_2(\n",
        "            query=out_1,\n",
        "            value=encoder_outputs,\n",
        "            key=encoder_outputs,\n",
        "            attention_mask=padding_mask,\n",
        "        )\n",
        "        out_2 = self.layernorm_2(out_1 + attention_output_2)\n",
        "\n",
        "        proj_output = self.dense_proj(out_2)\n",
        "        return self.layernorm_3(out_2 + proj_output)\n",
        "\n",
        "    def get_causal_attention_mask(self, inputs):\n",
        "        input_shape = ops.shape(inputs)\n",
        "        batch_size, sequence_length = input_shape[0], input_shape[1]\n",
        "        i = ops.arange(sequence_length)[:, None]\n",
        "        j = ops.arange(sequence_length)\n",
        "        mask = ops.cast(i >= j, dtype=\"int32\")\n",
        "        mask = ops.reshape(mask, (1, input_shape[1], input_shape[1]))\n",
        "        mult = ops.concatenate(\n",
        "            [ops.expand_dims(batch_size, -1), ops.convert_to_tensor([1, 1])],\n",
        "            axis=0,\n",
        "        )\n",
        "        return ops.tile(mask, mult)\n",
        "\n",
        "    def get_config(self):\n",
        "        config = super().get_config()\n",
        "        config.update(\n",
        "            {\n",
        "                \"embed_dim\": self.embed_dim,\n",
        "                \"latent_dim\": self.latent_dim,\n",
        "                \"num_heads\": self.num_heads,\n",
        "            }\n",
        "        )\n",
        "        return config\n"
      ],
      "metadata": {
        "id": "aIgm54GRmZky"
      },
      "execution_count": null,
      "outputs": []
    },
    {
      "cell_type": "markdown",
      "source": [
        "Теперь собираем модель."
      ],
      "metadata": {
        "id": "eHRXQVnjmdMm"
      }
    },
    {
      "cell_type": "code",
      "source": [
        "embed_dim = 256\n",
        "latent_dim = 2048\n",
        "num_heads = 8\n",
        "\n",
        "encoder_inputs = keras.Input(shape=(None,), dtype=\"int64\", name=\"encoder_inputs\")\n",
        "x = PositionalEmbedding(sequence_length, vocab_size, embed_dim)(encoder_inputs)\n",
        "encoder_outputs = TransformerEncoder(embed_dim, latent_dim, num_heads)(x)\n",
        "encoder = keras.Model(encoder_inputs, encoder_outputs)\n",
        "\n",
        "decoder_inputs = keras.Input(shape=(None,), dtype=\"int64\", name=\"decoder_inputs\")\n",
        "encoded_seq_inputs = keras.Input(shape=(None, embed_dim), name=\"decoder_state_inputs\")\n",
        "x = PositionalEmbedding(sequence_length, vocab_size, embed_dim)(decoder_inputs)\n",
        "x = TransformerDecoder(embed_dim, latent_dim, num_heads)(x, encoded_seq_inputs)\n",
        "x = layers.Dropout(0.5)(x)\n",
        "decoder_outputs = layers.Dense(vocab_size, activation=\"softmax\")(x)\n",
        "decoder = keras.Model([decoder_inputs, encoded_seq_inputs], decoder_outputs)\n",
        "\n",
        "decoder_outputs = decoder([decoder_inputs, encoder_outputs])\n",
        "transformer = keras.Model(\n",
        "    [encoder_inputs, decoder_inputs], decoder_outputs, name=\"transformer\"\n",
        ")\n"
      ],
      "metadata": {
        "id": "0zZZRcCRmaFk"
      },
      "execution_count": null,
      "outputs": []
    },
    {
      "cell_type": "markdown",
      "source": [
        "## Обучение модели"
      ],
      "metadata": {
        "id": "4ieNTZ0rmizB"
      }
    },
    {
      "cell_type": "markdown",
      "source": [
        "Для быстрого отслеживания прогресса обучения на основе валидационных данных будем использовать `accuracy`. Обратите внимание, что при машинном переводе обычно используются оценки [`BLEU`](https://www.digitalocean.com/community/tutorials/bleu-score-in-python) и другие показатели, а не `accuracy`.\n",
        "\n",
        "Процесс обучения проведем на 30 эпохах.\n",
        "\n"
      ],
      "metadata": {
        "id": "kLpOcSrLmmyA"
      }
    },
    {
      "cell_type": "code",
      "source": [
        "epochs = 30\n",
        "\n",
        "transformer.summary()\n",
        "transformer.compile(\n",
        "    \"rmsprop\", loss=\"sparse_categorical_crossentropy\", metrics=[\"accuracy\"]\n",
        ")\n",
        "transformer.fit(train_ds, epochs=epochs, validation_data=val_ds)\n",
        "\n",
        "\n"
      ],
      "metadata": {
        "colab": {
          "base_uri": "https://localhost:8080/",
          "height": 1000
        },
        "id": "qyEGELW-mgQ1",
        "outputId": "9b841aa6-abd0-4a22-cea8-94682fbaeba2"
      },
      "execution_count": null,
      "outputs": [
        {
          "data": {
            "text/html": [
              "<pre style=\"white-space:pre;overflow-x:auto;line-height:normal;font-family:Menlo,'DejaVu Sans Mono',consolas,'Courier New',monospace\"><span style=\"font-weight: bold\">Model: \"transformer\"</span>\n",
              "</pre>\n"
            ],
            "text/plain": [
              "\u001b[1mModel: \"transformer\"\u001b[0m\n"
            ]
          },
          "metadata": {},
          "output_type": "display_data"
        },
        {
          "data": {
            "text/html": [
              "<pre style=\"white-space:pre;overflow-x:auto;line-height:normal;font-family:Menlo,'DejaVu Sans Mono',consolas,'Courier New',monospace\">┏━━━━━━━━━━━━━━━━━━━━━━━━━━━┳━━━━━━━━━━━━━━━━━━━━━━━━┳━━━━━━━━━━━━━━━━┳━━━━━━━━━━━━━━━━━━━━━━━━┓\n",
              "┃<span style=\"font-weight: bold\"> Layer (type)              </span>┃<span style=\"font-weight: bold\"> Output Shape           </span>┃<span style=\"font-weight: bold\">        Param # </span>┃<span style=\"font-weight: bold\"> Connected to           </span>┃\n",
              "┡━━━━━━━━━━━━━━━━━━━━━━━━━━━╇━━━━━━━━━━━━━━━━━━━━━━━━╇━━━━━━━━━━━━━━━━╇━━━━━━━━━━━━━━━━━━━━━━━━┩\n",
              "│ encoder_inputs            │ (<span style=\"color: #00d7ff; text-decoration-color: #00d7ff\">None</span>, <span style=\"color: #00d7ff; text-decoration-color: #00d7ff\">None</span>)           │              <span style=\"color: #00af00; text-decoration-color: #00af00\">0</span> │ -                      │\n",
              "│ (<span style=\"color: #0087ff; text-decoration-color: #0087ff\">InputLayer</span>)              │                        │                │                        │\n",
              "├───────────────────────────┼────────────────────────┼────────────────┼────────────────────────┤\n",
              "│ positional_embedding      │ (<span style=\"color: #00d7ff; text-decoration-color: #00d7ff\">None</span>, <span style=\"color: #00d7ff; text-decoration-color: #00d7ff\">None</span>, <span style=\"color: #00af00; text-decoration-color: #00af00\">256</span>)      │      <span style=\"color: #00af00; text-decoration-color: #00af00\">5,125,120</span> │ encoder_inputs[<span style=\"color: #00af00; text-decoration-color: #00af00\">0</span>][<span style=\"color: #00af00; text-decoration-color: #00af00\">0</span>]   │\n",
              "│ (<span style=\"color: #0087ff; text-decoration-color: #0087ff\">PositionalEmbedding</span>)     │                        │                │                        │\n",
              "├───────────────────────────┼────────────────────────┼────────────────┼────────────────────────┤\n",
              "│ decoder_inputs            │ (<span style=\"color: #00d7ff; text-decoration-color: #00d7ff\">None</span>, <span style=\"color: #00d7ff; text-decoration-color: #00d7ff\">None</span>)           │              <span style=\"color: #00af00; text-decoration-color: #00af00\">0</span> │ -                      │\n",
              "│ (<span style=\"color: #0087ff; text-decoration-color: #0087ff\">InputLayer</span>)              │                        │                │                        │\n",
              "├───────────────────────────┼────────────────────────┼────────────────┼────────────────────────┤\n",
              "│ transformer_encoder       │ (<span style=\"color: #00d7ff; text-decoration-color: #00d7ff\">None</span>, <span style=\"color: #00d7ff; text-decoration-color: #00d7ff\">None</span>, <span style=\"color: #00af00; text-decoration-color: #00af00\">256</span>)      │      <span style=\"color: #00af00; text-decoration-color: #00af00\">3,155,456</span> │ positional_embedding[<span style=\"color: #00af00; text-decoration-color: #00af00\">…</span> │\n",
              "│ (<span style=\"color: #0087ff; text-decoration-color: #0087ff\">TransformerEncoder</span>)      │                        │                │                        │\n",
              "├───────────────────────────┼────────────────────────┼────────────────┼────────────────────────┤\n",
              "│ functional_3 (<span style=\"color: #0087ff; text-decoration-color: #0087ff\">Functional</span>) │ (<span style=\"color: #00d7ff; text-decoration-color: #00d7ff\">None</span>, <span style=\"color: #00d7ff; text-decoration-color: #00d7ff\">None</span>, <span style=\"color: #00af00; text-decoration-color: #00af00\">20000</span>)    │     <span style=\"color: #00af00; text-decoration-color: #00af00\">15,524,640</span> │ decoder_inputs[<span style=\"color: #00af00; text-decoration-color: #00af00\">0</span>][<span style=\"color: #00af00; text-decoration-color: #00af00\">0</span>],  │\n",
              "│                           │                        │                │ transformer_encoder[<span style=\"color: #00af00; text-decoration-color: #00af00\">0</span>… │\n",
              "└───────────────────────────┴────────────────────────┴────────────────┴────────────────────────┘\n",
              "</pre>\n"
            ],
            "text/plain": [
              "┏━━━━━━━━━━━━━━━━━━━━━━━━━━━┳━━━━━━━━━━━━━━━━━━━━━━━━┳━━━━━━━━━━━━━━━━┳━━━━━━━━━━━━━━━━━━━━━━━━┓\n",
              "┃\u001b[1m \u001b[0m\u001b[1mLayer (type)             \u001b[0m\u001b[1m \u001b[0m┃\u001b[1m \u001b[0m\u001b[1mOutput Shape          \u001b[0m\u001b[1m \u001b[0m┃\u001b[1m \u001b[0m\u001b[1m       Param #\u001b[0m\u001b[1m \u001b[0m┃\u001b[1m \u001b[0m\u001b[1mConnected to          \u001b[0m\u001b[1m \u001b[0m┃\n",
              "┡━━━━━━━━━━━━━━━━━━━━━━━━━━━╇━━━━━━━━━━━━━━━━━━━━━━━━╇━━━━━━━━━━━━━━━━╇━━━━━━━━━━━━━━━━━━━━━━━━┩\n",
              "│ encoder_inputs            │ (\u001b[38;5;45mNone\u001b[0m, \u001b[38;5;45mNone\u001b[0m)           │              \u001b[38;5;34m0\u001b[0m │ -                      │\n",
              "│ (\u001b[38;5;33mInputLayer\u001b[0m)              │                        │                │                        │\n",
              "├───────────────────────────┼────────────────────────┼────────────────┼────────────────────────┤\n",
              "│ positional_embedding      │ (\u001b[38;5;45mNone\u001b[0m, \u001b[38;5;45mNone\u001b[0m, \u001b[38;5;34m256\u001b[0m)      │      \u001b[38;5;34m5,125,120\u001b[0m │ encoder_inputs[\u001b[38;5;34m0\u001b[0m][\u001b[38;5;34m0\u001b[0m]   │\n",
              "│ (\u001b[38;5;33mPositionalEmbedding\u001b[0m)     │                        │                │                        │\n",
              "├───────────────────────────┼────────────────────────┼────────────────┼────────────────────────┤\n",
              "│ decoder_inputs            │ (\u001b[38;5;45mNone\u001b[0m, \u001b[38;5;45mNone\u001b[0m)           │              \u001b[38;5;34m0\u001b[0m │ -                      │\n",
              "│ (\u001b[38;5;33mInputLayer\u001b[0m)              │                        │                │                        │\n",
              "├───────────────────────────┼────────────────────────┼────────────────┼────────────────────────┤\n",
              "│ transformer_encoder       │ (\u001b[38;5;45mNone\u001b[0m, \u001b[38;5;45mNone\u001b[0m, \u001b[38;5;34m256\u001b[0m)      │      \u001b[38;5;34m3,155,456\u001b[0m │ positional_embedding[\u001b[38;5;34m…\u001b[0m │\n",
              "│ (\u001b[38;5;33mTransformerEncoder\u001b[0m)      │                        │                │                        │\n",
              "├───────────────────────────┼────────────────────────┼────────────────┼────────────────────────┤\n",
              "│ functional_3 (\u001b[38;5;33mFunctional\u001b[0m) │ (\u001b[38;5;45mNone\u001b[0m, \u001b[38;5;45mNone\u001b[0m, \u001b[38;5;34m20000\u001b[0m)    │     \u001b[38;5;34m15,524,640\u001b[0m │ decoder_inputs[\u001b[38;5;34m0\u001b[0m][\u001b[38;5;34m0\u001b[0m],  │\n",
              "│                           │                        │                │ transformer_encoder[\u001b[38;5;34m0\u001b[0m… │\n",
              "└───────────────────────────┴────────────────────────┴────────────────┴────────────────────────┘\n"
            ]
          },
          "metadata": {},
          "output_type": "display_data"
        },
        {
          "data": {
            "text/html": [
              "<pre style=\"white-space:pre;overflow-x:auto;line-height:normal;font-family:Menlo,'DejaVu Sans Mono',consolas,'Courier New',monospace\"><span style=\"font-weight: bold\"> Total params: </span><span style=\"color: #00af00; text-decoration-color: #00af00\">23,805,216</span> (90.81 MB)\n",
              "</pre>\n"
            ],
            "text/plain": [
              "\u001b[1m Total params: \u001b[0m\u001b[38;5;34m23,805,216\u001b[0m (90.81 MB)\n"
            ]
          },
          "metadata": {},
          "output_type": "display_data"
        },
        {
          "data": {
            "text/html": [
              "<pre style=\"white-space:pre;overflow-x:auto;line-height:normal;font-family:Menlo,'DejaVu Sans Mono',consolas,'Courier New',monospace\"><span style=\"font-weight: bold\"> Trainable params: </span><span style=\"color: #00af00; text-decoration-color: #00af00\">23,805,216</span> (90.81 MB)\n",
              "</pre>\n"
            ],
            "text/plain": [
              "\u001b[1m Trainable params: \u001b[0m\u001b[38;5;34m23,805,216\u001b[0m (90.81 MB)\n"
            ]
          },
          "metadata": {},
          "output_type": "display_data"
        },
        {
          "data": {
            "text/html": [
              "<pre style=\"white-space:pre;overflow-x:auto;line-height:normal;font-family:Menlo,'DejaVu Sans Mono',consolas,'Courier New',monospace\"><span style=\"font-weight: bold\"> Non-trainable params: </span><span style=\"color: #00af00; text-decoration-color: #00af00\">0</span> (0.00 B)\n",
              "</pre>\n"
            ],
            "text/plain": [
              "\u001b[1m Non-trainable params: \u001b[0m\u001b[38;5;34m0\u001b[0m (0.00 B)\n"
            ]
          },
          "metadata": {},
          "output_type": "display_data"
        },
        {
          "output_type": "stream",
          "name": "stdout",
          "text": [
            "Epoch 1/30\n",
            "\u001b[1m2546/2546\u001b[0m \u001b[32m━━━━━━━━━━━━━━━━━━━━\u001b[0m\u001b[37m\u001b[0m \u001b[1m177s\u001b[0m 63ms/step - accuracy: 0.7261 - loss: 1.9582 - val_accuracy: 0.7984 - val_loss: 1.2662\n",
            "Epoch 2/30\n",
            "\u001b[1m2546/2546\u001b[0m \u001b[32m━━━━━━━━━━━━━━━━━━━━\u001b[0m\u001b[37m\u001b[0m \u001b[1m145s\u001b[0m 57ms/step - accuracy: 0.8607 - loss: 0.8966 - val_accuracy: 0.9879 - val_loss: 0.1151\n",
            "Epoch 3/30\n",
            "\u001b[1m2546/2546\u001b[0m \u001b[32m━━━━━━━━━━━━━━━━━━━━\u001b[0m\u001b[37m\u001b[0m \u001b[1m143s\u001b[0m 56ms/step - accuracy: 0.9874 - loss: 0.1097 - val_accuracy: 0.9942 - val_loss: 0.0612\n",
            "Epoch 4/30\n",
            "\u001b[1m2546/2546\u001b[0m \u001b[32m━━━━━━━━━━━━━━━━━━━━\u001b[0m\u001b[37m\u001b[0m \u001b[1m200s\u001b[0m 55ms/step - accuracy: 0.9941 - loss: 0.0533 - val_accuracy: 0.9962 - val_loss: 0.0424\n",
            "Epoch 5/30\n",
            "\u001b[1m2546/2546\u001b[0m \u001b[32m━━━━━━━━━━━━━━━━━━━━\u001b[0m\u001b[37m\u001b[0m \u001b[1m142s\u001b[0m 56ms/step - accuracy: 0.9965 - loss: 0.0321 - val_accuracy: 0.9970 - val_loss: 0.0332\n",
            "Epoch 6/30\n",
            "\u001b[1m2546/2546\u001b[0m \u001b[32m━━━━━━━━━━━━━━━━━━━━\u001b[0m\u001b[37m\u001b[0m \u001b[1m141s\u001b[0m 56ms/step - accuracy: 0.9972 - loss: 0.0264 - val_accuracy: 0.9975 - val_loss: 0.0280\n",
            "Epoch 7/30\n",
            "\u001b[1m2546/2546\u001b[0m \u001b[32m━━━━━━━━━━━━━━━━━━━━\u001b[0m\u001b[37m\u001b[0m \u001b[1m139s\u001b[0m 55ms/step - accuracy: 0.9983 - loss: 0.0153 - val_accuracy: 0.9981 - val_loss: 0.0249\n",
            "Epoch 8/30\n",
            "\u001b[1m2546/2546\u001b[0m \u001b[32m━━━━━━━━━━━━━━━━━━━━\u001b[0m\u001b[37m\u001b[0m \u001b[1m141s\u001b[0m 55ms/step - accuracy: 0.9987 - loss: 0.0110 - val_accuracy: 0.9984 - val_loss: 0.0220\n",
            "Epoch 9/30\n",
            "\u001b[1m2546/2546\u001b[0m \u001b[32m━━━━━━━━━━━━━━━━━━━━\u001b[0m\u001b[37m\u001b[0m \u001b[1m141s\u001b[0m 55ms/step - accuracy: 0.9993 - loss: 0.0077 - val_accuracy: 0.9984 - val_loss: 0.0205\n",
            "Epoch 10/30\n",
            "\u001b[1m2546/2546\u001b[0m \u001b[32m━━━━━━━━━━━━━━━━━━━━\u001b[0m\u001b[37m\u001b[0m \u001b[1m142s\u001b[0m 55ms/step - accuracy: 0.9998 - loss: 0.0057 - val_accuracy: 0.9984 - val_loss: 0.0191\n",
            "Epoch 11/30\n",
            "\u001b[1m2546/2546\u001b[0m \u001b[32m━━━━━━━━━━━━━━━━━━━━\u001b[0m\u001b[37m\u001b[0m \u001b[1m140s\u001b[0m 55ms/step - accuracy: 0.9999 - loss: 0.0040 - val_accuracy: 0.9984 - val_loss: 0.0181\n",
            "Epoch 12/30\n",
            "\u001b[1m2546/2546\u001b[0m \u001b[32m━━━━━━━━━━━━━━━━━━━━\u001b[0m\u001b[37m\u001b[0m \u001b[1m140s\u001b[0m 54ms/step - accuracy: 1.0000 - loss: 0.0025 - val_accuracy: 0.9984 - val_loss: 0.0172\n",
            "Epoch 13/30\n",
            "\u001b[1m2546/2546\u001b[0m \u001b[32m━━━━━━━━━━━━━━━━━━━━\u001b[0m\u001b[37m\u001b[0m \u001b[1m144s\u001b[0m 55ms/step - accuracy: 1.0000 - loss: 0.0014 - val_accuracy: 0.9984 - val_loss: 0.0169\n",
            "Epoch 14/30\n",
            "\u001b[1m2546/2546\u001b[0m \u001b[32m━━━━━━━━━━━━━━━━━━━━\u001b[0m\u001b[37m\u001b[0m \u001b[1m140s\u001b[0m 54ms/step - accuracy: 1.0000 - loss: 7.2380e-04 - val_accuracy: 0.9984 - val_loss: 0.0169\n",
            "Epoch 15/30\n",
            "\u001b[1m2546/2546\u001b[0m \u001b[32m━━━━━━━━━━━━━━━━━━━━\u001b[0m\u001b[37m\u001b[0m \u001b[1m139s\u001b[0m 54ms/step - accuracy: 1.0000 - loss: 3.6487e-04 - val_accuracy: 0.9984 - val_loss: 0.0170\n",
            "Epoch 16/30\n",
            "\u001b[1m2546/2546\u001b[0m \u001b[32m━━━━━━━━━━━━━━━━━━━━\u001b[0m\u001b[37m\u001b[0m \u001b[1m139s\u001b[0m 54ms/step - accuracy: 1.0000 - loss: 2.3848e-04 - val_accuracy: 0.9984 - val_loss: 0.0169\n",
            "Epoch 17/30\n",
            "\u001b[1m2546/2546\u001b[0m \u001b[32m━━━━━━━━━━━━━━━━━━━━\u001b[0m\u001b[37m\u001b[0m \u001b[1m138s\u001b[0m 54ms/step - accuracy: 1.0000 - loss: 1.5915e-04 - val_accuracy: 0.9984 - val_loss: 0.0170\n",
            "Epoch 18/30\n",
            "\u001b[1m2546/2546\u001b[0m \u001b[32m━━━━━━━━━━━━━━━━━━━━\u001b[0m\u001b[37m\u001b[0m \u001b[1m142s\u001b[0m 54ms/step - accuracy: 1.0000 - loss: 1.1405e-04 - val_accuracy: 0.9984 - val_loss: 0.0171\n",
            "Epoch 19/30\n",
            "\u001b[1m2546/2546\u001b[0m \u001b[32m━━━━━━━━━━━━━━━━━━━━\u001b[0m\u001b[37m\u001b[0m \u001b[1m138s\u001b[0m 54ms/step - accuracy: 1.0000 - loss: 9.6389e-05 - val_accuracy: 0.9984 - val_loss: 0.0168\n",
            "Epoch 20/30\n",
            "\u001b[1m2546/2546\u001b[0m \u001b[32m━━━━━━━━━━━━━━━━━━━━\u001b[0m\u001b[37m\u001b[0m \u001b[1m138s\u001b[0m 54ms/step - accuracy: 1.0000 - loss: 7.7270e-05 - val_accuracy: 0.9984 - val_loss: 0.0170\n",
            "Epoch 21/30\n",
            "\u001b[1m2546/2546\u001b[0m \u001b[32m━━━━━━━━━━━━━━━━━━━━\u001b[0m\u001b[37m\u001b[0m \u001b[1m142s\u001b[0m 54ms/step - accuracy: 1.0000 - loss: 7.0651e-05 - val_accuracy: 0.9984 - val_loss: 0.0171\n",
            "Epoch 22/30\n",
            "\u001b[1m2546/2546\u001b[0m \u001b[32m━━━━━━━━━━━━━━━━━━━━\u001b[0m\u001b[37m\u001b[0m \u001b[1m144s\u001b[0m 55ms/step - accuracy: 1.0000 - loss: 6.3722e-05 - val_accuracy: 0.9984 - val_loss: 0.0171\n",
            "Epoch 23/30\n",
            "\u001b[1m2546/2546\u001b[0m \u001b[32m━━━━━━━━━━━━━━━━━━━━\u001b[0m\u001b[37m\u001b[0m \u001b[1m140s\u001b[0m 54ms/step - accuracy: 1.0000 - loss: 5.7447e-05 - val_accuracy: 0.9984 - val_loss: 0.0172\n",
            "Epoch 24/30\n",
            "\u001b[1m2546/2546\u001b[0m \u001b[32m━━━━━━━━━━━━━━━━━━━━\u001b[0m\u001b[37m\u001b[0m \u001b[1m138s\u001b[0m 54ms/step - accuracy: 1.0000 - loss: 5.1177e-05 - val_accuracy: 0.9984 - val_loss: 0.0172\n",
            "Epoch 25/30\n",
            "\u001b[1m2546/2546\u001b[0m \u001b[32m━━━━━━━━━━━━━━━━━━━━\u001b[0m\u001b[37m\u001b[0m \u001b[1m143s\u001b[0m 55ms/step - accuracy: 1.0000 - loss: 4.6300e-05 - val_accuracy: 0.9984 - val_loss: 0.0172\n",
            "Epoch 26/30\n",
            "\u001b[1m2546/2546\u001b[0m \u001b[32m━━━━━━━━━━━━━━━━━━━━\u001b[0m\u001b[37m\u001b[0m \u001b[1m141s\u001b[0m 54ms/step - accuracy: 1.0000 - loss: 4.3238e-05 - val_accuracy: 0.9984 - val_loss: 0.0173\n",
            "Epoch 27/30\n",
            "\u001b[1m2546/2546\u001b[0m \u001b[32m━━━━━━━━━━━━━━━━━━━━\u001b[0m\u001b[37m\u001b[0m \u001b[1m142s\u001b[0m 54ms/step - accuracy: 1.0000 - loss: 3.8210e-05 - val_accuracy: 0.9984 - val_loss: 0.0173\n",
            "Epoch 28/30\n",
            "\u001b[1m2546/2546\u001b[0m \u001b[32m━━━━━━━━━━━━━━━━━━━━\u001b[0m\u001b[37m\u001b[0m \u001b[1m140s\u001b[0m 55ms/step - accuracy: 1.0000 - loss: 3.6009e-05 - val_accuracy: 0.9984 - val_loss: 0.0172\n",
            "Epoch 29/30\n",
            "\u001b[1m2546/2546\u001b[0m \u001b[32m━━━━━━━━━━━━━━━━━━━━\u001b[0m\u001b[37m\u001b[0m \u001b[1m142s\u001b[0m 55ms/step - accuracy: 1.0000 - loss: 3.4199e-05 - val_accuracy: 0.9984 - val_loss: 0.0173\n",
            "Epoch 30/30\n",
            "\u001b[1m2546/2546\u001b[0m \u001b[32m━━━━━━━━━━━━━━━━━━━━\u001b[0m\u001b[37m\u001b[0m \u001b[1m138s\u001b[0m 54ms/step - accuracy: 1.0000 - loss: 3.1203e-05 - val_accuracy: 0.9984 - val_loss: 0.0173\n"
          ]
        },
        {
          "output_type": "execute_result",
          "data": {
            "text/plain": [
              "<keras.src.callbacks.history.History at 0x7f6e3ae6bfd0>"
            ]
          },
          "metadata": {},
          "execution_count": 27
        }
      ]
    },
    {
      "cell_type": "markdown",
      "source": [
        "## Decoding (перевод) тестовых предложений"
      ],
      "metadata": {
        "id": "LFtoSlD_mvyI"
      }
    },
    {
      "cell_type": "markdown",
      "source": [
        "Для перевода новых английских предложений нужно ввести в модель векторизованное английское предложение, а также целевой токен `[start]`, затем повторно сгенерировать следующий токен, пока не достигнем токена `[end]`.\n"
      ],
      "metadata": {
        "id": "Kax9HtzYmzMh"
      }
    },
    {
      "cell_type": "code",
      "source": [
        "eng_vocab = eng_vectorization.get_vocabulary()\n",
        "eng_index_lookup = dict(zip(range(len(eng_vocab)), eng_vocab))\n",
        "max_decoded_sentence_length = 20\n",
        "\n",
        "\n",
        "def decode_sequence(input_sentence):\n",
        "    tokenized_input_sentence = spa_vectorization([input_sentence])\n",
        "    decoded_sentence = \"[start]\"\n",
        "    for i in range(max_decoded_sentence_length):\n",
        "        tokenized_target_sentence = eng_vectorization([decoded_sentence])[:, :-1]\n",
        "        predictions = transformer([tokenized_input_sentence, tokenized_target_sentence])\n",
        "\n",
        "        # ops.argmax(predictions[0, i, :]) is not a concrete value for jax here\n",
        "        sampled_token_index = ops.convert_to_numpy(\n",
        "            ops.argmax(predictions[0, i, :])\n",
        "        ).item(0)\n",
        "        sampled_token = eng_index_lookup[sampled_token_index]\n",
        "        decoded_sentence += \" \" + sampled_token\n",
        "\n",
        "        if sampled_token == \"[end]\":\n",
        "            break\n",
        "    return decoded_sentence\n",
        "\n",
        "\n"
      ],
      "metadata": {
        "id": "DxdTW1epm2_Q"
      },
      "execution_count": null,
      "outputs": []
    },
    {
      "cell_type": "code",
      "source": [
        "test_spa_texts = [pair[0] for pair in test_pairs]\n",
        "for _ in range(30):\n",
        "    input_sentence = random.choice(test_spa_texts)\n",
        "    translated = decode_sequence(input_sentence)\n",
        "    print(input_sentence, translated)\n",
        "\n"
      ],
      "metadata": {
        "id": "1p-TyZdeo7Dg",
        "colab": {
          "base_uri": "https://localhost:8080/"
        },
        "outputId": "640faba6-96f3-4773-d7a8-b20975c47d76"
      },
      "execution_count": null,
      "outputs": [
        {
          "output_type": "stream",
          "name": "stdout",
          "text": [
            "Que serait la vie sans espoir ? [start] sister a nothing theres lies               \n",
            "Voici une rose jaune. [start] he brain essential                 \n",
            "On va te protéger. [start] something with rice                 \n",
            "Ça semble tellement simple avec toi. [start] name meeting beginning how see               \n",
            "Il a gloussé. [start] dont insured                  \n",
            "Je n'étais pas d'humeur à cuisiner. [start] vacation i rising tom birds               \n",
            "Je suis vraiment désolé pour ce qui s'est passé. [start] my would looks for in like please ask            \n",
            "Elle peut à peine parler. [start] talk tom marys should                \n",
            "Je ne savais pas que tu serais là. [start] to read i you it taking lets             \n",
            "Tom a vu Mary. [start] dont whats any                 \n",
            "Pensez-vous que je devrais demander de l'aide à Tom ? [start] you start understand anybody end whose tom that            \n",
            "Je ne veux pas être choisi. [start] to youre i will rope               \n",
            "Viens rencontrer tout le monde ! [start] company on the isnt                \n",
            "Veuillez saisir une adresse électronique valide. [start] stress he thief congress rereading               \n",
            "Vous n'êtes pas marrants, les mecs. [start] drink i vivaldi have mobile               \n",
            "Ce n'est pas la même chose. [start] didnt i a love had               \n",
            "Tom a-t-il été assassiné ? [start] hope there behaves                 \n",
            "J'étais très grosse. [start] here eggs                  \n",
            "C'est ma fille. [start] were took                  \n",
            "J'ai raté le début du film. [start] rumor the charge can eating               \n",
            "Ce qui est en question dans ce débat est la survie de notre planète. [start] like of was kind what in couples of a roundabout end before scarf       \n",
            "Tu peux utiliser cette voiture. [start] up report go many                \n",
            "Cet été nous avons eu un nombre inhabituel de précipitations. [start] there me could wont this apples whales end studio           \n",
            "La nourriture sera incluse. [start] until often commended                 \n",
            "Je suis sûre qu'il y a un autre chemin de sortie. [start] my through and they dont this their ok end unlikely          \n",
            "Jamais je n'ai vu quoi que ce soit de tel. [start] start out whats home you in people end songs           \n",
            "J'ai continué à chanter. [start] subject tom country                 \n",
            "J'ai promis de ne rien dire. [start] impossible end to really tell               \n",
            "Pour autant que je sache, ce composé chimique empêchera les germes de se multiplier. [start] under you start though in asserted impatiently commended have commended end did commended       \n",
            "Il mit le feu à sa propre maison. [start] grow the ten tom from fix some             \n"
          ]
        }
      ]
    },
    {
      "cell_type": "code",
      "source": [
        "from nltk.translate.bleu_score import sentence_bleu"
      ],
      "metadata": {
        "id": "M8eTXOETvdRb"
      },
      "execution_count": null,
      "outputs": []
    },
    {
      "cell_type": "code",
      "source": [
        "num=[400,1479,29562,6426,30658,17580,6840,34678,21544,5830]\n",
        "pairs2=[]\n",
        "for i in range(10):\n",
        "  #print(num[i])\n",
        "  pairs2.append(test_pairs[num[i]])\n",
        "pairs2"
      ],
      "metadata": {
        "colab": {
          "base_uri": "https://localhost:8080/"
        },
        "id": "Zf9Cdl6KMnlM",
        "outputId": "1c97ef7f-632f-4afc-e8e3-3ac6dda37c0f"
      },
      "execution_count": null,
      "outputs": [
        {
          "output_type": "execute_result",
          "data": {
            "text/plain": [
              "[('Vous êtes fort drôle.', \"[start] You're very funny. [end]\"),\n",
              " (\"Elle ne voulait pas qu'il restât plus longtemps.\",\n",
              "  \"[start] She didn't want him to stay any longer. [end]\"),\n",
              " ('Tire la langue !', '[start] Stick out your tongue. [end]'),\n",
              " ('Je lui ai donné le livre.', '[start] I gave him the book. [end]'),\n",
              " ('Elle chantait en marchant.', '[start] She sang as she walked. [end]'),\n",
              " ('Il faut que tu te battes !', '[start] You have to fight. [end]'),\n",
              " ('Ne vous en faites pas. Je suis bon là-dedans.',\n",
              "  \"[start] Don't worry. I'm good at this. [end]\"),\n",
              " ('Nous prévoyons de demander une extension.',\n",
              "  \"[start] We're planning to apply for an extension. [end]\"),\n",
              " ('Vous ne seriez pas capable de gérer la pression.',\n",
              "  \"[start] You wouldn't be able to handle the pressure. [end]\"),\n",
              " ('Parfois, je ne te comprends pas.',\n",
              "  \"[start] Sometimes I don't get you. [end]\")]"
            ]
          },
          "metadata": {},
          "execution_count": 52
        }
      ]
    },
    {
      "cell_type": "code",
      "source": [
        "est_eng_texts = [pair[1] for pair in pairs2]\n",
        "est_eng_texts"
      ],
      "metadata": {
        "id": "tnvzaNdywTJC",
        "colab": {
          "base_uri": "https://localhost:8080/"
        },
        "outputId": "0e9cb85f-bdc4-4858-d208-1edeb3641e7d"
      },
      "execution_count": null,
      "outputs": [
        {
          "output_type": "execute_result",
          "data": {
            "text/plain": [
              "[\"[start] You're very funny. [end]\",\n",
              " \"[start] She didn't want him to stay any longer. [end]\",\n",
              " '[start] Stick out your tongue. [end]',\n",
              " '[start] I gave him the book. [end]',\n",
              " '[start] She sang as she walked. [end]',\n",
              " '[start] You have to fight. [end]',\n",
              " \"[start] Don't worry. I'm good at this. [end]\",\n",
              " \"[start] We're planning to apply for an extension. [end]\",\n",
              " \"[start] You wouldn't be able to handle the pressure. [end]\",\n",
              " \"[start] Sometimes I don't get you. [end]\"]"
            ]
          },
          "metadata": {},
          "execution_count": 55
        }
      ]
    },
    {
      "cell_type": "code",
      "source": [
        "pairs = [line.split(' ') for line in est_eng_texts]"
      ],
      "metadata": {
        "id": "mwPd9f8b0K24"
      },
      "execution_count": null,
      "outputs": []
    },
    {
      "cell_type": "code",
      "source": [
        "pairs1 = [line.remove('[start]') for line in pairs]"
      ],
      "metadata": {
        "id": "Pu6WKuvayUt3"
      },
      "execution_count": null,
      "outputs": []
    },
    {
      "cell_type": "code",
      "source": [
        "pairs1 = [line.remove('[end]') for line in pairs]"
      ],
      "metadata": {
        "id": "Fx_O2WpH1VpW"
      },
      "execution_count": null,
      "outputs": []
    },
    {
      "cell_type": "code",
      "source": [
        "(pairs)"
      ],
      "metadata": {
        "colab": {
          "base_uri": "https://localhost:8080/"
        },
        "id": "bExjqpMUyved",
        "outputId": "2b9776fd-f18c-4b36-91f1-6f7c1cbfb76b"
      },
      "execution_count": null,
      "outputs": [
        {
          "output_type": "execute_result",
          "data": {
            "text/plain": [
              "[[\"You're\", 'very', 'funny.'],\n",
              " ['She', \"didn't\", 'want', 'him', 'to', 'stay', 'any', 'longer.'],\n",
              " ['Stick', 'out', 'your', 'tongue.'],\n",
              " ['I', 'gave', 'him', 'the', 'book.'],\n",
              " ['She', 'sang', 'as', 'she', 'walked.'],\n",
              " ['You', 'have', 'to', 'fight.'],\n",
              " [\"Don't\", 'worry.', \"I'm\", 'good', 'at', 'this.'],\n",
              " [\"We're\", 'planning', 'to', 'apply', 'for', 'an', 'extension.'],\n",
              " ['You', \"wouldn't\", 'be', 'able', 'to', 'handle', 'the', 'pressure.'],\n",
              " ['Sometimes', 'I', \"don't\", 'get', 'you.']]"
            ]
          },
          "metadata": {},
          "execution_count": 59
        }
      ]
    },
    {
      "cell_type": "code",
      "source": [
        "est_spa_texts = [pair[0] for pair in pairs2]\n",
        "est_spa_texts"
      ],
      "metadata": {
        "id": "ZkwO4rYJ1sOK",
        "colab": {
          "base_uri": "https://localhost:8080/"
        },
        "outputId": "7a79c827-06fc-4b67-87d0-ee5719066a4e"
      },
      "execution_count": null,
      "outputs": [
        {
          "output_type": "execute_result",
          "data": {
            "text/plain": [
              "['Vous êtes fort drôle.',\n",
              " \"Elle ne voulait pas qu'il restât plus longtemps.\",\n",
              " 'Tire la langue !',\n",
              " 'Je lui ai donné le livre.',\n",
              " 'Elle chantait en marchant.',\n",
              " 'Il faut que tu te battes !',\n",
              " 'Ne vous en faites pas. Je suis bon là-dedans.',\n",
              " 'Nous prévoyons de demander une extension.',\n",
              " 'Vous ne seriez pas capable de gérer la pression.',\n",
              " 'Parfois, je ne te comprends pas.']"
            ]
          },
          "metadata": {},
          "execution_count": 83
        }
      ]
    },
    {
      "cell_type": "code",
      "source": [
        "est_spa_texts[1]"
      ],
      "metadata": {
        "colab": {
          "base_uri": "https://localhost:8080/",
          "height": 35
        },
        "id": "n63XvJu_PnW3",
        "outputId": "c0f58e05-de2d-4701-9c87-6c7e6d49afc5"
      },
      "execution_count": null,
      "outputs": [
        {
          "output_type": "execute_result",
          "data": {
            "text/plain": [
              "\"Elle ne voulait pas qu'il restât plus longtemps.\""
            ],
            "application/vnd.google.colaboratory.intrinsic+json": {
              "type": "string"
            }
          },
          "metadata": {},
          "execution_count": 62
        }
      ]
    },
    {
      "cell_type": "code",
      "source": [
        "#test_spa_texts = [pair[0] for pair in test_pairs]\n",
        "predict=[]\n",
        "for i in range(10):\n",
        "    input_sentence = est_spa_texts[i]\n",
        "    translated = decode_sequence(input_sentence)\n",
        "    predict.append(translated)\n",
        "    print(input_sentence, translated)\n"
      ],
      "metadata": {
        "colab": {
          "base_uri": "https://localhost:8080/"
        },
        "id": "QGGErzwZQCDe",
        "outputId": "56604695-cafd-4660-fc11-7a767f56c7a0"
      },
      "execution_count": null,
      "outputs": [
        {
          "output_type": "stream",
          "name": "stdout",
          "text": [
            "Vous êtes fort drôle. [start] us while twice                 \n",
            "Elle ne voulait pas qu'il restât plus longtemps. [start] to such i and rehearsals be children             \n",
            "Tire la langue ! [start] a then                  \n",
            "Je lui ai donné le livre. [start] so doing mine the may               \n",
            "Elle chantait en marchant. [start] smartphone was prevents                 \n",
            "Il faut que tu te battes ! [start] car you it with studio               \n",
            "Ne vous en faites pas. Je suis bon là-dedans. [start] is was those i start my doesnt covered            \n",
            "Nous prévoyons de demander une extension. [start] ballpoint end anybody he studio               \n",
            "Vous ne seriez pas capable de gérer la pression. [start] to younger i dance end grew a wondered            \n",
            "Parfois, je ne te comprends pas. [start] start to with questions i               \n"
          ]
        }
      ]
    },
    {
      "cell_type": "code",
      "source": [
        "predict"
      ],
      "metadata": {
        "colab": {
          "base_uri": "https://localhost:8080/"
        },
        "id": "aiRPAN-kQb_A",
        "outputId": "c1f8c2d8-90b9-4209-f5e6-3169d4069690"
      },
      "execution_count": null,
      "outputs": [
        {
          "output_type": "execute_result",
          "data": {
            "text/plain": [
              "['[start] us while twice',\n",
              " '[start] to such i and rehearsals be children',\n",
              " '[start] a then',\n",
              " '[start] so doing mine the may',\n",
              " '[start] smartphone was prevents',\n",
              " '[start] car you it with studio',\n",
              " '[start] is was those i start my doesnt covered',\n",
              " '[start] ballpoint end anybody he studio',\n",
              " '[start] to younger i dance end grew a wondered',\n",
              " '[start] start to with questions i']"
            ]
          },
          "metadata": {},
          "execution_count": 95
        }
      ]
    },
    {
      "cell_type": "code",
      "source": [
        "pairs3"
      ],
      "metadata": {
        "colab": {
          "base_uri": "https://localhost:8080/"
        },
        "id": "YfH4YEf9SmWf",
        "outputId": "3e067421-24d4-41f0-ddb0-d5161c2e33fa"
      },
      "execution_count": null,
      "outputs": [
        {
          "output_type": "execute_result",
          "data": {
            "text/plain": [
              "[['us', 'while', 'twice'],\n",
              " ['to', 'such', 'i', 'and', 'rehearsals', 'be', 'children'],\n",
              " ['a', 'then'],\n",
              " ['so', 'doing', 'mine', 'the', 'may'],\n",
              " ['smartphone', 'was', 'prevents'],\n",
              " ['car', 'you', 'it', 'with', 'studio'],\n",
              " ['is', 'was', 'those', 'i', 'start', 'my', 'doesnt', 'covered'],\n",
              " ['ballpoint', 'end', 'anybody', 'he', 'studio'],\n",
              " ['to', 'younger', 'i', 'dance', 'end', 'grew', 'a', 'wondered'],\n",
              " ['start', 'to', 'with', 'questions', 'i']]"
            ]
          },
          "metadata": {},
          "execution_count": 96
        }
      ]
    },
    {
      "cell_type": "code",
      "source": [
        "for i in range(len(predict)):\n",
        "    predict[i]=predict[i].strip()"
      ],
      "metadata": {
        "id": "diArIeR2Q74d"
      },
      "execution_count": null,
      "outputs": []
    },
    {
      "cell_type": "code",
      "source": [
        "pairs3 = [line.split(' ') for line in predict]"
      ],
      "metadata": {
        "id": "K8fijdzvQkBJ"
      },
      "execution_count": null,
      "outputs": []
    },
    {
      "cell_type": "code",
      "source": [
        "pairs4 = [line.remove('[start]') for line in pairs3]\n",
        "pairs4"
      ],
      "metadata": {
        "colab": {
          "base_uri": "https://localhost:8080/"
        },
        "id": "LnqUL-aMR2cQ",
        "outputId": "faaa833a-5914-4ed2-fcfe-731ebd62304b"
      },
      "execution_count": null,
      "outputs": [
        {
          "output_type": "execute_result",
          "data": {
            "text/plain": [
              "[None, None, None, None, None, None, None, None, None, None]"
            ]
          },
          "metadata": {},
          "execution_count": 94
        }
      ]
    },
    {
      "cell_type": "code",
      "source": [
        "for i in range(10):\n",
        "  print(sentence_bleu(pairs[i], pairs3[i]))"
      ],
      "metadata": {
        "colab": {
          "base_uri": "https://localhost:8080/"
        },
        "id": "7IAp5DsUTmUr",
        "outputId": "4dba9afc-25e4-421e-bdc5-4472bbf1cd9c"
      },
      "execution_count": null,
      "outputs": [
        {
          "output_type": "stream",
          "name": "stdout",
          "text": [
            "0\n",
            "1.1200407237786664e-231\n",
            "0\n",
            "0\n",
            "0\n",
            "0\n",
            "1.0832677820940877e-231\n",
            "0\n",
            "1.0832677820940877e-231\n",
            "1.2183324802375697e-231\n"
          ]
        },
        {
          "output_type": "stream",
          "name": "stderr",
          "text": [
            "/usr/local/lib/python3.10/dist-packages/nltk/translate/bleu_score.py:577: UserWarning: \n",
            "The hypothesis contains 0 counts of 2-gram overlaps.\n",
            "Therefore the BLEU score evaluates to 0, independently of\n",
            "how many N-gram overlaps of lower order it contains.\n",
            "Consider using lower n-gram order or use SmoothingFunction()\n",
            "  warnings.warn(_msg)\n",
            "/usr/local/lib/python3.10/dist-packages/nltk/translate/bleu_score.py:577: UserWarning: \n",
            "The hypothesis contains 0 counts of 3-gram overlaps.\n",
            "Therefore the BLEU score evaluates to 0, independently of\n",
            "how many N-gram overlaps of lower order it contains.\n",
            "Consider using lower n-gram order or use SmoothingFunction()\n",
            "  warnings.warn(_msg)\n",
            "/usr/local/lib/python3.10/dist-packages/nltk/translate/bleu_score.py:577: UserWarning: \n",
            "The hypothesis contains 0 counts of 4-gram overlaps.\n",
            "Therefore the BLEU score evaluates to 0, independently of\n",
            "how many N-gram overlaps of lower order it contains.\n",
            "Consider using lower n-gram order or use SmoothingFunction()\n",
            "  warnings.warn(_msg)\n"
          ]
        }
      ]
    },
    {
      "cell_type": "code",
      "source": [
        "from nltk.translate.bleu_score import corpus_bleu"
      ],
      "metadata": {
        "id": "KYmS-KQIURf4"
      },
      "execution_count": null,
      "outputs": []
    },
    {
      "cell_type": "code",
      "source": [
        "bleu_score_corpus = corpus_bleu(pairs, pairs3)"
      ],
      "metadata": {
        "id": "SkUgP4OFUHhz"
      },
      "execution_count": null,
      "outputs": []
    },
    {
      "cell_type": "code",
      "source": [
        "bleu_score_corpus"
      ],
      "metadata": {
        "colab": {
          "base_uri": "https://localhost:8080/"
        },
        "id": "c_CRdDxeUfwg",
        "outputId": "91298d42-b808-4336-83eb-6934ece256ab"
      },
      "execution_count": null,
      "outputs": [
        {
          "output_type": "execute_result",
          "data": {
            "text/plain": [
              "9.641193013181824e-232"
            ]
          },
          "metadata": {},
          "execution_count": 105
        }
      ]
    },
    {
      "cell_type": "code",
      "source": [],
      "metadata": {
        "id": "UBEOyc_r3dNW"
      },
      "execution_count": null,
      "outputs": []
    }
  ]
}