{
  "nbformat": 4,
  "nbformat_minor": 0,
  "metadata": {
    "colab": {
      "provenance": [],
      "gpuType": "T4"
    },
    "kernelspec": {
      "name": "python3",
      "display_name": "Python 3"
    },
    "language_info": {
      "name": "python"
    },
    "widgets": {
      "application/vnd.jupyter.widget-state+json": {
        "01eb8b3855524ad5bce48cbf61d799f7": {
          "model_module": "@jupyter-widgets/controls",
          "model_name": "HBoxModel",
          "model_module_version": "1.5.0",
          "state": {
            "_dom_classes": [],
            "_model_module": "@jupyter-widgets/controls",
            "_model_module_version": "1.5.0",
            "_model_name": "HBoxModel",
            "_view_count": null,
            "_view_module": "@jupyter-widgets/controls",
            "_view_module_version": "1.5.0",
            "_view_name": "HBoxView",
            "box_style": "",
            "children": [
              "IPY_MODEL_06fed26638874ffa88e6bde0ff5952bf",
              "IPY_MODEL_4d07f2f697f34164a3867cdd2613b270",
              "IPY_MODEL_87def094e2154fc9a34ae41c476d8d56"
            ],
            "layout": "IPY_MODEL_78b1c08135654618a3e1873a7ae2ef02"
          }
        },
        "06fed26638874ffa88e6bde0ff5952bf": {
          "model_module": "@jupyter-widgets/controls",
          "model_name": "HTMLModel",
          "model_module_version": "1.5.0",
          "state": {
            "_dom_classes": [],
            "_model_module": "@jupyter-widgets/controls",
            "_model_module_version": "1.5.0",
            "_model_name": "HTMLModel",
            "_view_count": null,
            "_view_module": "@jupyter-widgets/controls",
            "_view_module_version": "1.5.0",
            "_view_name": "HTMLView",
            "description": "",
            "description_tooltip": null,
            "layout": "IPY_MODEL_42226c5619cd487ca50412ac2452b118",
            "placeholder": "​",
            "style": "IPY_MODEL_ee8f4ae2bab54965b5bfc53b02b19a24",
            "value": "Dl Completed...: 100%"
          }
        },
        "4d07f2f697f34164a3867cdd2613b270": {
          "model_module": "@jupyter-widgets/controls",
          "model_name": "FloatProgressModel",
          "model_module_version": "1.5.0",
          "state": {
            "_dom_classes": [],
            "_model_module": "@jupyter-widgets/controls",
            "_model_module_version": "1.5.0",
            "_model_name": "FloatProgressModel",
            "_view_count": null,
            "_view_module": "@jupyter-widgets/controls",
            "_view_module_version": "1.5.0",
            "_view_name": "ProgressView",
            "bar_style": "success",
            "description": "",
            "description_tooltip": null,
            "layout": "IPY_MODEL_40c58d9713b14b06b619c46f6e5a7d09",
            "max": 1,
            "min": 0,
            "orientation": "horizontal",
            "style": "IPY_MODEL_a2c685bf32c14dad96bcee368a9b4535",
            "value": 1
          }
        },
        "87def094e2154fc9a34ae41c476d8d56": {
          "model_module": "@jupyter-widgets/controls",
          "model_name": "HTMLModel",
          "model_module_version": "1.5.0",
          "state": {
            "_dom_classes": [],
            "_model_module": "@jupyter-widgets/controls",
            "_model_module_version": "1.5.0",
            "_model_name": "HTMLModel",
            "_view_count": null,
            "_view_module": "@jupyter-widgets/controls",
            "_view_module_version": "1.5.0",
            "_view_name": "HTMLView",
            "description": "",
            "description_tooltip": null,
            "layout": "IPY_MODEL_432419ec06bf46b4b9316a3950b89df6",
            "placeholder": "​",
            "style": "IPY_MODEL_3f20a264cf494216ad87a513acfe7f00",
            "value": " 1/1 [00:12&lt;00:00,  4.81s/ url]"
          }
        },
        "78b1c08135654618a3e1873a7ae2ef02": {
          "model_module": "@jupyter-widgets/base",
          "model_name": "LayoutModel",
          "model_module_version": "1.2.0",
          "state": {
            "_model_module": "@jupyter-widgets/base",
            "_model_module_version": "1.2.0",
            "_model_name": "LayoutModel",
            "_view_count": null,
            "_view_module": "@jupyter-widgets/base",
            "_view_module_version": "1.2.0",
            "_view_name": "LayoutView",
            "align_content": null,
            "align_items": null,
            "align_self": null,
            "border": null,
            "bottom": null,
            "display": null,
            "flex": null,
            "flex_flow": null,
            "grid_area": null,
            "grid_auto_columns": null,
            "grid_auto_flow": null,
            "grid_auto_rows": null,
            "grid_column": null,
            "grid_gap": null,
            "grid_row": null,
            "grid_template_areas": null,
            "grid_template_columns": null,
            "grid_template_rows": null,
            "height": null,
            "justify_content": null,
            "justify_items": null,
            "left": null,
            "margin": null,
            "max_height": null,
            "max_width": null,
            "min_height": null,
            "min_width": null,
            "object_fit": null,
            "object_position": null,
            "order": null,
            "overflow": null,
            "overflow_x": null,
            "overflow_y": null,
            "padding": null,
            "right": null,
            "top": null,
            "visibility": null,
            "width": null
          }
        },
        "42226c5619cd487ca50412ac2452b118": {
          "model_module": "@jupyter-widgets/base",
          "model_name": "LayoutModel",
          "model_module_version": "1.2.0",
          "state": {
            "_model_module": "@jupyter-widgets/base",
            "_model_module_version": "1.2.0",
            "_model_name": "LayoutModel",
            "_view_count": null,
            "_view_module": "@jupyter-widgets/base",
            "_view_module_version": "1.2.0",
            "_view_name": "LayoutView",
            "align_content": null,
            "align_items": null,
            "align_self": null,
            "border": null,
            "bottom": null,
            "display": null,
            "flex": null,
            "flex_flow": null,
            "grid_area": null,
            "grid_auto_columns": null,
            "grid_auto_flow": null,
            "grid_auto_rows": null,
            "grid_column": null,
            "grid_gap": null,
            "grid_row": null,
            "grid_template_areas": null,
            "grid_template_columns": null,
            "grid_template_rows": null,
            "height": null,
            "justify_content": null,
            "justify_items": null,
            "left": null,
            "margin": null,
            "max_height": null,
            "max_width": null,
            "min_height": null,
            "min_width": null,
            "object_fit": null,
            "object_position": null,
            "order": null,
            "overflow": null,
            "overflow_x": null,
            "overflow_y": null,
            "padding": null,
            "right": null,
            "top": null,
            "visibility": null,
            "width": null
          }
        },
        "ee8f4ae2bab54965b5bfc53b02b19a24": {
          "model_module": "@jupyter-widgets/controls",
          "model_name": "DescriptionStyleModel",
          "model_module_version": "1.5.0",
          "state": {
            "_model_module": "@jupyter-widgets/controls",
            "_model_module_version": "1.5.0",
            "_model_name": "DescriptionStyleModel",
            "_view_count": null,
            "_view_module": "@jupyter-widgets/base",
            "_view_module_version": "1.2.0",
            "_view_name": "StyleView",
            "description_width": ""
          }
        },
        "40c58d9713b14b06b619c46f6e5a7d09": {
          "model_module": "@jupyter-widgets/base",
          "model_name": "LayoutModel",
          "model_module_version": "1.2.0",
          "state": {
            "_model_module": "@jupyter-widgets/base",
            "_model_module_version": "1.2.0",
            "_model_name": "LayoutModel",
            "_view_count": null,
            "_view_module": "@jupyter-widgets/base",
            "_view_module_version": "1.2.0",
            "_view_name": "LayoutView",
            "align_content": null,
            "align_items": null,
            "align_self": null,
            "border": null,
            "bottom": null,
            "display": null,
            "flex": null,
            "flex_flow": null,
            "grid_area": null,
            "grid_auto_columns": null,
            "grid_auto_flow": null,
            "grid_auto_rows": null,
            "grid_column": null,
            "grid_gap": null,
            "grid_row": null,
            "grid_template_areas": null,
            "grid_template_columns": null,
            "grid_template_rows": null,
            "height": null,
            "justify_content": null,
            "justify_items": null,
            "left": null,
            "margin": null,
            "max_height": null,
            "max_width": null,
            "min_height": null,
            "min_width": null,
            "object_fit": null,
            "object_position": null,
            "order": null,
            "overflow": null,
            "overflow_x": null,
            "overflow_y": null,
            "padding": null,
            "right": null,
            "top": null,
            "visibility": null,
            "width": "20px"
          }
        },
        "a2c685bf32c14dad96bcee368a9b4535": {
          "model_module": "@jupyter-widgets/controls",
          "model_name": "ProgressStyleModel",
          "model_module_version": "1.5.0",
          "state": {
            "_model_module": "@jupyter-widgets/controls",
            "_model_module_version": "1.5.0",
            "_model_name": "ProgressStyleModel",
            "_view_count": null,
            "_view_module": "@jupyter-widgets/base",
            "_view_module_version": "1.2.0",
            "_view_name": "StyleView",
            "bar_color": null,
            "description_width": ""
          }
        },
        "432419ec06bf46b4b9316a3950b89df6": {
          "model_module": "@jupyter-widgets/base",
          "model_name": "LayoutModel",
          "model_module_version": "1.2.0",
          "state": {
            "_model_module": "@jupyter-widgets/base",
            "_model_module_version": "1.2.0",
            "_model_name": "LayoutModel",
            "_view_count": null,
            "_view_module": "@jupyter-widgets/base",
            "_view_module_version": "1.2.0",
            "_view_name": "LayoutView",
            "align_content": null,
            "align_items": null,
            "align_self": null,
            "border": null,
            "bottom": null,
            "display": null,
            "flex": null,
            "flex_flow": null,
            "grid_area": null,
            "grid_auto_columns": null,
            "grid_auto_flow": null,
            "grid_auto_rows": null,
            "grid_column": null,
            "grid_gap": null,
            "grid_row": null,
            "grid_template_areas": null,
            "grid_template_columns": null,
            "grid_template_rows": null,
            "height": null,
            "justify_content": null,
            "justify_items": null,
            "left": null,
            "margin": null,
            "max_height": null,
            "max_width": null,
            "min_height": null,
            "min_width": null,
            "object_fit": null,
            "object_position": null,
            "order": null,
            "overflow": null,
            "overflow_x": null,
            "overflow_y": null,
            "padding": null,
            "right": null,
            "top": null,
            "visibility": null,
            "width": null
          }
        },
        "3f20a264cf494216ad87a513acfe7f00": {
          "model_module": "@jupyter-widgets/controls",
          "model_name": "DescriptionStyleModel",
          "model_module_version": "1.5.0",
          "state": {
            "_model_module": "@jupyter-widgets/controls",
            "_model_module_version": "1.5.0",
            "_model_name": "DescriptionStyleModel",
            "_view_count": null,
            "_view_module": "@jupyter-widgets/base",
            "_view_module_version": "1.2.0",
            "_view_name": "StyleView",
            "description_width": ""
          }
        },
        "44eefa5801ee4c2c9bdd4ff92b493279": {
          "model_module": "@jupyter-widgets/controls",
          "model_name": "HBoxModel",
          "model_module_version": "1.5.0",
          "state": {
            "_dom_classes": [],
            "_model_module": "@jupyter-widgets/controls",
            "_model_module_version": "1.5.0",
            "_model_name": "HBoxModel",
            "_view_count": null,
            "_view_module": "@jupyter-widgets/controls",
            "_view_module_version": "1.5.0",
            "_view_name": "HBoxView",
            "box_style": "",
            "children": [
              "IPY_MODEL_6e03c3ac078e45dda53de33b77343591",
              "IPY_MODEL_93929e2e5d974f0899e0138dfc5189ef",
              "IPY_MODEL_bb82e82e5f304953b71db4a490a3f684"
            ],
            "layout": "IPY_MODEL_5a5a23e868ec4746bf028a8c3912f271"
          }
        },
        "6e03c3ac078e45dda53de33b77343591": {
          "model_module": "@jupyter-widgets/controls",
          "model_name": "HTMLModel",
          "model_module_version": "1.5.0",
          "state": {
            "_dom_classes": [],
            "_model_module": "@jupyter-widgets/controls",
            "_model_module_version": "1.5.0",
            "_model_name": "HTMLModel",
            "_view_count": null,
            "_view_module": "@jupyter-widgets/controls",
            "_view_module_version": "1.5.0",
            "_view_name": "HTMLView",
            "description": "",
            "description_tooltip": null,
            "layout": "IPY_MODEL_2a7ea8723da242c0b5c1dafa05de389d",
            "placeholder": "​",
            "style": "IPY_MODEL_ede55b1e595245ca9b40cce11c139d6d",
            "value": "Dl Size...: 100%"
          }
        },
        "93929e2e5d974f0899e0138dfc5189ef": {
          "model_module": "@jupyter-widgets/controls",
          "model_name": "FloatProgressModel",
          "model_module_version": "1.5.0",
          "state": {
            "_dom_classes": [],
            "_model_module": "@jupyter-widgets/controls",
            "_model_module_version": "1.5.0",
            "_model_name": "FloatProgressModel",
            "_view_count": null,
            "_view_module": "@jupyter-widgets/controls",
            "_view_module_version": "1.5.0",
            "_view_name": "ProgressView",
            "bar_style": "success",
            "description": "",
            "description_tooltip": null,
            "layout": "IPY_MODEL_4403e450671942d0b9d44a796ea44cfd",
            "max": 1,
            "min": 0,
            "orientation": "horizontal",
            "style": "IPY_MODEL_a6452a2ad2b74a4db53b678e035b8cfd",
            "value": 1
          }
        },
        "bb82e82e5f304953b71db4a490a3f684": {
          "model_module": "@jupyter-widgets/controls",
          "model_name": "HTMLModel",
          "model_module_version": "1.5.0",
          "state": {
            "_dom_classes": [],
            "_model_module": "@jupyter-widgets/controls",
            "_model_module_version": "1.5.0",
            "_model_name": "HTMLModel",
            "_view_count": null,
            "_view_module": "@jupyter-widgets/controls",
            "_view_module_version": "1.5.0",
            "_view_name": "HTMLView",
            "description": "",
            "description_tooltip": null,
            "layout": "IPY_MODEL_a02804d1657a42508b89e080ea678b01",
            "placeholder": "​",
            "style": "IPY_MODEL_2c9aaffb8d3f49778ac19e8bf1f266ba",
            "value": " 124/124 [00:12&lt;00:00, 28.68 MiB/s]"
          }
        },
        "5a5a23e868ec4746bf028a8c3912f271": {
          "model_module": "@jupyter-widgets/base",
          "model_name": "LayoutModel",
          "model_module_version": "1.2.0",
          "state": {
            "_model_module": "@jupyter-widgets/base",
            "_model_module_version": "1.2.0",
            "_model_name": "LayoutModel",
            "_view_count": null,
            "_view_module": "@jupyter-widgets/base",
            "_view_module_version": "1.2.0",
            "_view_name": "LayoutView",
            "align_content": null,
            "align_items": null,
            "align_self": null,
            "border": null,
            "bottom": null,
            "display": null,
            "flex": null,
            "flex_flow": null,
            "grid_area": null,
            "grid_auto_columns": null,
            "grid_auto_flow": null,
            "grid_auto_rows": null,
            "grid_column": null,
            "grid_gap": null,
            "grid_row": null,
            "grid_template_areas": null,
            "grid_template_columns": null,
            "grid_template_rows": null,
            "height": null,
            "justify_content": null,
            "justify_items": null,
            "left": null,
            "margin": null,
            "max_height": null,
            "max_width": null,
            "min_height": null,
            "min_width": null,
            "object_fit": null,
            "object_position": null,
            "order": null,
            "overflow": null,
            "overflow_x": null,
            "overflow_y": null,
            "padding": null,
            "right": null,
            "top": null,
            "visibility": null,
            "width": null
          }
        },
        "2a7ea8723da242c0b5c1dafa05de389d": {
          "model_module": "@jupyter-widgets/base",
          "model_name": "LayoutModel",
          "model_module_version": "1.2.0",
          "state": {
            "_model_module": "@jupyter-widgets/base",
            "_model_module_version": "1.2.0",
            "_model_name": "LayoutModel",
            "_view_count": null,
            "_view_module": "@jupyter-widgets/base",
            "_view_module_version": "1.2.0",
            "_view_name": "LayoutView",
            "align_content": null,
            "align_items": null,
            "align_self": null,
            "border": null,
            "bottom": null,
            "display": null,
            "flex": null,
            "flex_flow": null,
            "grid_area": null,
            "grid_auto_columns": null,
            "grid_auto_flow": null,
            "grid_auto_rows": null,
            "grid_column": null,
            "grid_gap": null,
            "grid_row": null,
            "grid_template_areas": null,
            "grid_template_columns": null,
            "grid_template_rows": null,
            "height": null,
            "justify_content": null,
            "justify_items": null,
            "left": null,
            "margin": null,
            "max_height": null,
            "max_width": null,
            "min_height": null,
            "min_width": null,
            "object_fit": null,
            "object_position": null,
            "order": null,
            "overflow": null,
            "overflow_x": null,
            "overflow_y": null,
            "padding": null,
            "right": null,
            "top": null,
            "visibility": null,
            "width": null
          }
        },
        "ede55b1e595245ca9b40cce11c139d6d": {
          "model_module": "@jupyter-widgets/controls",
          "model_name": "DescriptionStyleModel",
          "model_module_version": "1.5.0",
          "state": {
            "_model_module": "@jupyter-widgets/controls",
            "_model_module_version": "1.5.0",
            "_model_name": "DescriptionStyleModel",
            "_view_count": null,
            "_view_module": "@jupyter-widgets/base",
            "_view_module_version": "1.2.0",
            "_view_name": "StyleView",
            "description_width": ""
          }
        },
        "4403e450671942d0b9d44a796ea44cfd": {
          "model_module": "@jupyter-widgets/base",
          "model_name": "LayoutModel",
          "model_module_version": "1.2.0",
          "state": {
            "_model_module": "@jupyter-widgets/base",
            "_model_module_version": "1.2.0",
            "_model_name": "LayoutModel",
            "_view_count": null,
            "_view_module": "@jupyter-widgets/base",
            "_view_module_version": "1.2.0",
            "_view_name": "LayoutView",
            "align_content": null,
            "align_items": null,
            "align_self": null,
            "border": null,
            "bottom": null,
            "display": null,
            "flex": null,
            "flex_flow": null,
            "grid_area": null,
            "grid_auto_columns": null,
            "grid_auto_flow": null,
            "grid_auto_rows": null,
            "grid_column": null,
            "grid_gap": null,
            "grid_row": null,
            "grid_template_areas": null,
            "grid_template_columns": null,
            "grid_template_rows": null,
            "height": null,
            "justify_content": null,
            "justify_items": null,
            "left": null,
            "margin": null,
            "max_height": null,
            "max_width": null,
            "min_height": null,
            "min_width": null,
            "object_fit": null,
            "object_position": null,
            "order": null,
            "overflow": null,
            "overflow_x": null,
            "overflow_y": null,
            "padding": null,
            "right": null,
            "top": null,
            "visibility": null,
            "width": "20px"
          }
        },
        "a6452a2ad2b74a4db53b678e035b8cfd": {
          "model_module": "@jupyter-widgets/controls",
          "model_name": "ProgressStyleModel",
          "model_module_version": "1.5.0",
          "state": {
            "_model_module": "@jupyter-widgets/controls",
            "_model_module_version": "1.5.0",
            "_model_name": "ProgressStyleModel",
            "_view_count": null,
            "_view_module": "@jupyter-widgets/base",
            "_view_module_version": "1.2.0",
            "_view_name": "StyleView",
            "bar_color": null,
            "description_width": ""
          }
        },
        "a02804d1657a42508b89e080ea678b01": {
          "model_module": "@jupyter-widgets/base",
          "model_name": "LayoutModel",
          "model_module_version": "1.2.0",
          "state": {
            "_model_module": "@jupyter-widgets/base",
            "_model_module_version": "1.2.0",
            "_model_name": "LayoutModel",
            "_view_count": null,
            "_view_module": "@jupyter-widgets/base",
            "_view_module_version": "1.2.0",
            "_view_name": "LayoutView",
            "align_content": null,
            "align_items": null,
            "align_self": null,
            "border": null,
            "bottom": null,
            "display": null,
            "flex": null,
            "flex_flow": null,
            "grid_area": null,
            "grid_auto_columns": null,
            "grid_auto_flow": null,
            "grid_auto_rows": null,
            "grid_column": null,
            "grid_gap": null,
            "grid_row": null,
            "grid_template_areas": null,
            "grid_template_columns": null,
            "grid_template_rows": null,
            "height": null,
            "justify_content": null,
            "justify_items": null,
            "left": null,
            "margin": null,
            "max_height": null,
            "max_width": null,
            "min_height": null,
            "min_width": null,
            "object_fit": null,
            "object_position": null,
            "order": null,
            "overflow": null,
            "overflow_x": null,
            "overflow_y": null,
            "padding": null,
            "right": null,
            "top": null,
            "visibility": null,
            "width": null
          }
        },
        "2c9aaffb8d3f49778ac19e8bf1f266ba": {
          "model_module": "@jupyter-widgets/controls",
          "model_name": "DescriptionStyleModel",
          "model_module_version": "1.5.0",
          "state": {
            "_model_module": "@jupyter-widgets/controls",
            "_model_module_version": "1.5.0",
            "_model_name": "DescriptionStyleModel",
            "_view_count": null,
            "_view_module": "@jupyter-widgets/base",
            "_view_module_version": "1.2.0",
            "_view_name": "StyleView",
            "description_width": ""
          }
        },
        "abff799b722240fd9598b9baa5e644a6": {
          "model_module": "@jupyter-widgets/controls",
          "model_name": "HBoxModel",
          "model_module_version": "1.5.0",
          "state": {
            "_dom_classes": [],
            "_model_module": "@jupyter-widgets/controls",
            "_model_module_version": "1.5.0",
            "_model_name": "HBoxModel",
            "_view_count": null,
            "_view_module": "@jupyter-widgets/controls",
            "_view_module_version": "1.5.0",
            "_view_name": "HBoxView",
            "box_style": "",
            "children": [
              "IPY_MODEL_4112813a4568474da97252609c52b9ed",
              "IPY_MODEL_c469b8704f7f40208fd9e55ee7f07724",
              "IPY_MODEL_9e7c3810d90e4b2b99512bbb06f8f7d3"
            ],
            "layout": "IPY_MODEL_c780ffcfa8264b97a7ba492404b2e0a1"
          }
        },
        "4112813a4568474da97252609c52b9ed": {
          "model_module": "@jupyter-widgets/controls",
          "model_name": "HTMLModel",
          "model_module_version": "1.5.0",
          "state": {
            "_dom_classes": [],
            "_model_module": "@jupyter-widgets/controls",
            "_model_module_version": "1.5.0",
            "_model_name": "HTMLModel",
            "_view_count": null,
            "_view_module": "@jupyter-widgets/controls",
            "_view_module_version": "1.5.0",
            "_view_name": "HTMLView",
            "description": "",
            "description_tooltip": null,
            "layout": "IPY_MODEL_215cf59020fa480b9927bd18efb4398a",
            "placeholder": "​",
            "style": "IPY_MODEL_9338a8901c43465ba343dc94bfa66c09",
            "value": "Extraction completed...: 100%"
          }
        },
        "c469b8704f7f40208fd9e55ee7f07724": {
          "model_module": "@jupyter-widgets/controls",
          "model_name": "FloatProgressModel",
          "model_module_version": "1.5.0",
          "state": {
            "_dom_classes": [],
            "_model_module": "@jupyter-widgets/controls",
            "_model_module_version": "1.5.0",
            "_model_name": "FloatProgressModel",
            "_view_count": null,
            "_view_module": "@jupyter-widgets/controls",
            "_view_module_version": "1.5.0",
            "_view_name": "ProgressView",
            "bar_style": "success",
            "description": "",
            "description_tooltip": null,
            "layout": "IPY_MODEL_9876372bed624c6f81cc3b7bd9b5609a",
            "max": 1,
            "min": 0,
            "orientation": "horizontal",
            "style": "IPY_MODEL_7ef826abae994286bac45dcd821bd6ea",
            "value": 1
          }
        },
        "9e7c3810d90e4b2b99512bbb06f8f7d3": {
          "model_module": "@jupyter-widgets/controls",
          "model_name": "HTMLModel",
          "model_module_version": "1.5.0",
          "state": {
            "_dom_classes": [],
            "_model_module": "@jupyter-widgets/controls",
            "_model_module_version": "1.5.0",
            "_model_name": "HTMLModel",
            "_view_count": null,
            "_view_module": "@jupyter-widgets/controls",
            "_view_module_version": "1.5.0",
            "_view_name": "HTMLView",
            "description": "",
            "description_tooltip": null,
            "layout": "IPY_MODEL_96bab763489a4da2be5029b9e2d821ae",
            "placeholder": "​",
            "style": "IPY_MODEL_faf9784b19be446dad65f12e56718c03",
            "value": " 112/112 [00:12&lt;00:00, 12.67s/ file]"
          }
        },
        "c780ffcfa8264b97a7ba492404b2e0a1": {
          "model_module": "@jupyter-widgets/base",
          "model_name": "LayoutModel",
          "model_module_version": "1.2.0",
          "state": {
            "_model_module": "@jupyter-widgets/base",
            "_model_module_version": "1.2.0",
            "_model_name": "LayoutModel",
            "_view_count": null,
            "_view_module": "@jupyter-widgets/base",
            "_view_module_version": "1.2.0",
            "_view_name": "LayoutView",
            "align_content": null,
            "align_items": null,
            "align_self": null,
            "border": null,
            "bottom": null,
            "display": null,
            "flex": null,
            "flex_flow": null,
            "grid_area": null,
            "grid_auto_columns": null,
            "grid_auto_flow": null,
            "grid_auto_rows": null,
            "grid_column": null,
            "grid_gap": null,
            "grid_row": null,
            "grid_template_areas": null,
            "grid_template_columns": null,
            "grid_template_rows": null,
            "height": null,
            "justify_content": null,
            "justify_items": null,
            "left": null,
            "margin": null,
            "max_height": null,
            "max_width": null,
            "min_height": null,
            "min_width": null,
            "object_fit": null,
            "object_position": null,
            "order": null,
            "overflow": null,
            "overflow_x": null,
            "overflow_y": null,
            "padding": null,
            "right": null,
            "top": null,
            "visibility": null,
            "width": null
          }
        },
        "215cf59020fa480b9927bd18efb4398a": {
          "model_module": "@jupyter-widgets/base",
          "model_name": "LayoutModel",
          "model_module_version": "1.2.0",
          "state": {
            "_model_module": "@jupyter-widgets/base",
            "_model_module_version": "1.2.0",
            "_model_name": "LayoutModel",
            "_view_count": null,
            "_view_module": "@jupyter-widgets/base",
            "_view_module_version": "1.2.0",
            "_view_name": "LayoutView",
            "align_content": null,
            "align_items": null,
            "align_self": null,
            "border": null,
            "bottom": null,
            "display": null,
            "flex": null,
            "flex_flow": null,
            "grid_area": null,
            "grid_auto_columns": null,
            "grid_auto_flow": null,
            "grid_auto_rows": null,
            "grid_column": null,
            "grid_gap": null,
            "grid_row": null,
            "grid_template_areas": null,
            "grid_template_columns": null,
            "grid_template_rows": null,
            "height": null,
            "justify_content": null,
            "justify_items": null,
            "left": null,
            "margin": null,
            "max_height": null,
            "max_width": null,
            "min_height": null,
            "min_width": null,
            "object_fit": null,
            "object_position": null,
            "order": null,
            "overflow": null,
            "overflow_x": null,
            "overflow_y": null,
            "padding": null,
            "right": null,
            "top": null,
            "visibility": null,
            "width": null
          }
        },
        "9338a8901c43465ba343dc94bfa66c09": {
          "model_module": "@jupyter-widgets/controls",
          "model_name": "DescriptionStyleModel",
          "model_module_version": "1.5.0",
          "state": {
            "_model_module": "@jupyter-widgets/controls",
            "_model_module_version": "1.5.0",
            "_model_name": "DescriptionStyleModel",
            "_view_count": null,
            "_view_module": "@jupyter-widgets/base",
            "_view_module_version": "1.2.0",
            "_view_name": "StyleView",
            "description_width": ""
          }
        },
        "9876372bed624c6f81cc3b7bd9b5609a": {
          "model_module": "@jupyter-widgets/base",
          "model_name": "LayoutModel",
          "model_module_version": "1.2.0",
          "state": {
            "_model_module": "@jupyter-widgets/base",
            "_model_module_version": "1.2.0",
            "_model_name": "LayoutModel",
            "_view_count": null,
            "_view_module": "@jupyter-widgets/base",
            "_view_module_version": "1.2.0",
            "_view_name": "LayoutView",
            "align_content": null,
            "align_items": null,
            "align_self": null,
            "border": null,
            "bottom": null,
            "display": null,
            "flex": null,
            "flex_flow": null,
            "grid_area": null,
            "grid_auto_columns": null,
            "grid_auto_flow": null,
            "grid_auto_rows": null,
            "grid_column": null,
            "grid_gap": null,
            "grid_row": null,
            "grid_template_areas": null,
            "grid_template_columns": null,
            "grid_template_rows": null,
            "height": null,
            "justify_content": null,
            "justify_items": null,
            "left": null,
            "margin": null,
            "max_height": null,
            "max_width": null,
            "min_height": null,
            "min_width": null,
            "object_fit": null,
            "object_position": null,
            "order": null,
            "overflow": null,
            "overflow_x": null,
            "overflow_y": null,
            "padding": null,
            "right": null,
            "top": null,
            "visibility": null,
            "width": "20px"
          }
        },
        "7ef826abae994286bac45dcd821bd6ea": {
          "model_module": "@jupyter-widgets/controls",
          "model_name": "ProgressStyleModel",
          "model_module_version": "1.5.0",
          "state": {
            "_model_module": "@jupyter-widgets/controls",
            "_model_module_version": "1.5.0",
            "_model_name": "ProgressStyleModel",
            "_view_count": null,
            "_view_module": "@jupyter-widgets/base",
            "_view_module_version": "1.2.0",
            "_view_name": "StyleView",
            "bar_color": null,
            "description_width": ""
          }
        },
        "96bab763489a4da2be5029b9e2d821ae": {
          "model_module": "@jupyter-widgets/base",
          "model_name": "LayoutModel",
          "model_module_version": "1.2.0",
          "state": {
            "_model_module": "@jupyter-widgets/base",
            "_model_module_version": "1.2.0",
            "_model_name": "LayoutModel",
            "_view_count": null,
            "_view_module": "@jupyter-widgets/base",
            "_view_module_version": "1.2.0",
            "_view_name": "LayoutView",
            "align_content": null,
            "align_items": null,
            "align_self": null,
            "border": null,
            "bottom": null,
            "display": null,
            "flex": null,
            "flex_flow": null,
            "grid_area": null,
            "grid_auto_columns": null,
            "grid_auto_flow": null,
            "grid_auto_rows": null,
            "grid_column": null,
            "grid_gap": null,
            "grid_row": null,
            "grid_template_areas": null,
            "grid_template_columns": null,
            "grid_template_rows": null,
            "height": null,
            "justify_content": null,
            "justify_items": null,
            "left": null,
            "margin": null,
            "max_height": null,
            "max_width": null,
            "min_height": null,
            "min_width": null,
            "object_fit": null,
            "object_position": null,
            "order": null,
            "overflow": null,
            "overflow_x": null,
            "overflow_y": null,
            "padding": null,
            "right": null,
            "top": null,
            "visibility": null,
            "width": null
          }
        },
        "faf9784b19be446dad65f12e56718c03": {
          "model_module": "@jupyter-widgets/controls",
          "model_name": "DescriptionStyleModel",
          "model_module_version": "1.5.0",
          "state": {
            "_model_module": "@jupyter-widgets/controls",
            "_model_module_version": "1.5.0",
            "_model_name": "DescriptionStyleModel",
            "_view_count": null,
            "_view_module": "@jupyter-widgets/base",
            "_view_module_version": "1.2.0",
            "_view_name": "StyleView",
            "description_width": ""
          }
        },
        "544b62ccb4414922b56ab661320f74e5": {
          "model_module": "@jupyter-widgets/controls",
          "model_name": "HBoxModel",
          "model_module_version": "1.5.0",
          "state": {
            "_dom_classes": [],
            "_model_module": "@jupyter-widgets/controls",
            "_model_module_version": "1.5.0",
            "_model_name": "HBoxModel",
            "_view_count": null,
            "_view_module": "@jupyter-widgets/controls",
            "_view_module_version": "1.5.0",
            "_view_name": "HBoxView",
            "box_style": "",
            "children": [
              "IPY_MODEL_2d25865abd7e4c9c9cdc72aa52994dac",
              "IPY_MODEL_dd795723156848d8a501852cf307ec29",
              "IPY_MODEL_b336825263c343d196b4194d203e8b37"
            ],
            "layout": "IPY_MODEL_815a206636384c0a86b49e256d2d65d1"
          }
        },
        "2d25865abd7e4c9c9cdc72aa52994dac": {
          "model_module": "@jupyter-widgets/controls",
          "model_name": "HTMLModel",
          "model_module_version": "1.5.0",
          "state": {
            "_dom_classes": [],
            "_model_module": "@jupyter-widgets/controls",
            "_model_module_version": "1.5.0",
            "_model_name": "HTMLModel",
            "_view_count": null,
            "_view_module": "@jupyter-widgets/controls",
            "_view_module_version": "1.5.0",
            "_view_name": "HTMLView",
            "description": "",
            "description_tooltip": null,
            "layout": "IPY_MODEL_f42f8f9d13924dd4bb97bcd77814b90c",
            "placeholder": "​",
            "style": "IPY_MODEL_78edf9e0dbcf49b89f08b29d95d4475c",
            "value": "Generating splits...: 100%"
          }
        },
        "dd795723156848d8a501852cf307ec29": {
          "model_module": "@jupyter-widgets/controls",
          "model_name": "FloatProgressModel",
          "model_module_version": "1.5.0",
          "state": {
            "_dom_classes": [],
            "_model_module": "@jupyter-widgets/controls",
            "_model_module_version": "1.5.0",
            "_model_name": "FloatProgressModel",
            "_view_count": null,
            "_view_module": "@jupyter-widgets/controls",
            "_view_module_version": "1.5.0",
            "_view_name": "ProgressView",
            "bar_style": "",
            "description": "",
            "description_tooltip": null,
            "layout": "IPY_MODEL_c3963e6d52ab446f91b8859c542bef04",
            "max": 3,
            "min": 0,
            "orientation": "horizontal",
            "style": "IPY_MODEL_ec8436be0ece42c2abb1cd091e8e92ea",
            "value": 3
          }
        },
        "b336825263c343d196b4194d203e8b37": {
          "model_module": "@jupyter-widgets/controls",
          "model_name": "HTMLModel",
          "model_module_version": "1.5.0",
          "state": {
            "_dom_classes": [],
            "_model_module": "@jupyter-widgets/controls",
            "_model_module_version": "1.5.0",
            "_model_name": "HTMLModel",
            "_view_count": null,
            "_view_module": "@jupyter-widgets/controls",
            "_view_module_version": "1.5.0",
            "_view_name": "HTMLView",
            "description": "",
            "description_tooltip": null,
            "layout": "IPY_MODEL_2fedd8915b5941afb6806d92516716f9",
            "placeholder": "​",
            "style": "IPY_MODEL_4c7b59aa340045e1984b9e6fe5f0db7a",
            "value": " 3/3 [00:11&lt;00:00,  2.69s/ splits]"
          }
        },
        "815a206636384c0a86b49e256d2d65d1": {
          "model_module": "@jupyter-widgets/base",
          "model_name": "LayoutModel",
          "model_module_version": "1.2.0",
          "state": {
            "_model_module": "@jupyter-widgets/base",
            "_model_module_version": "1.2.0",
            "_model_name": "LayoutModel",
            "_view_count": null,
            "_view_module": "@jupyter-widgets/base",
            "_view_module_version": "1.2.0",
            "_view_name": "LayoutView",
            "align_content": null,
            "align_items": null,
            "align_self": null,
            "border": null,
            "bottom": null,
            "display": null,
            "flex": null,
            "flex_flow": null,
            "grid_area": null,
            "grid_auto_columns": null,
            "grid_auto_flow": null,
            "grid_auto_rows": null,
            "grid_column": null,
            "grid_gap": null,
            "grid_row": null,
            "grid_template_areas": null,
            "grid_template_columns": null,
            "grid_template_rows": null,
            "height": null,
            "justify_content": null,
            "justify_items": null,
            "left": null,
            "margin": null,
            "max_height": null,
            "max_width": null,
            "min_height": null,
            "min_width": null,
            "object_fit": null,
            "object_position": null,
            "order": null,
            "overflow": null,
            "overflow_x": null,
            "overflow_y": null,
            "padding": null,
            "right": null,
            "top": null,
            "visibility": "hidden",
            "width": null
          }
        },
        "f42f8f9d13924dd4bb97bcd77814b90c": {
          "model_module": "@jupyter-widgets/base",
          "model_name": "LayoutModel",
          "model_module_version": "1.2.0",
          "state": {
            "_model_module": "@jupyter-widgets/base",
            "_model_module_version": "1.2.0",
            "_model_name": "LayoutModel",
            "_view_count": null,
            "_view_module": "@jupyter-widgets/base",
            "_view_module_version": "1.2.0",
            "_view_name": "LayoutView",
            "align_content": null,
            "align_items": null,
            "align_self": null,
            "border": null,
            "bottom": null,
            "display": null,
            "flex": null,
            "flex_flow": null,
            "grid_area": null,
            "grid_auto_columns": null,
            "grid_auto_flow": null,
            "grid_auto_rows": null,
            "grid_column": null,
            "grid_gap": null,
            "grid_row": null,
            "grid_template_areas": null,
            "grid_template_columns": null,
            "grid_template_rows": null,
            "height": null,
            "justify_content": null,
            "justify_items": null,
            "left": null,
            "margin": null,
            "max_height": null,
            "max_width": null,
            "min_height": null,
            "min_width": null,
            "object_fit": null,
            "object_position": null,
            "order": null,
            "overflow": null,
            "overflow_x": null,
            "overflow_y": null,
            "padding": null,
            "right": null,
            "top": null,
            "visibility": null,
            "width": null
          }
        },
        "78edf9e0dbcf49b89f08b29d95d4475c": {
          "model_module": "@jupyter-widgets/controls",
          "model_name": "DescriptionStyleModel",
          "model_module_version": "1.5.0",
          "state": {
            "_model_module": "@jupyter-widgets/controls",
            "_model_module_version": "1.5.0",
            "_model_name": "DescriptionStyleModel",
            "_view_count": null,
            "_view_module": "@jupyter-widgets/base",
            "_view_module_version": "1.2.0",
            "_view_name": "StyleView",
            "description_width": ""
          }
        },
        "c3963e6d52ab446f91b8859c542bef04": {
          "model_module": "@jupyter-widgets/base",
          "model_name": "LayoutModel",
          "model_module_version": "1.2.0",
          "state": {
            "_model_module": "@jupyter-widgets/base",
            "_model_module_version": "1.2.0",
            "_model_name": "LayoutModel",
            "_view_count": null,
            "_view_module": "@jupyter-widgets/base",
            "_view_module_version": "1.2.0",
            "_view_name": "LayoutView",
            "align_content": null,
            "align_items": null,
            "align_self": null,
            "border": null,
            "bottom": null,
            "display": null,
            "flex": null,
            "flex_flow": null,
            "grid_area": null,
            "grid_auto_columns": null,
            "grid_auto_flow": null,
            "grid_auto_rows": null,
            "grid_column": null,
            "grid_gap": null,
            "grid_row": null,
            "grid_template_areas": null,
            "grid_template_columns": null,
            "grid_template_rows": null,
            "height": null,
            "justify_content": null,
            "justify_items": null,
            "left": null,
            "margin": null,
            "max_height": null,
            "max_width": null,
            "min_height": null,
            "min_width": null,
            "object_fit": null,
            "object_position": null,
            "order": null,
            "overflow": null,
            "overflow_x": null,
            "overflow_y": null,
            "padding": null,
            "right": null,
            "top": null,
            "visibility": null,
            "width": null
          }
        },
        "ec8436be0ece42c2abb1cd091e8e92ea": {
          "model_module": "@jupyter-widgets/controls",
          "model_name": "ProgressStyleModel",
          "model_module_version": "1.5.0",
          "state": {
            "_model_module": "@jupyter-widgets/controls",
            "_model_module_version": "1.5.0",
            "_model_name": "ProgressStyleModel",
            "_view_count": null,
            "_view_module": "@jupyter-widgets/base",
            "_view_module_version": "1.2.0",
            "_view_name": "StyleView",
            "bar_color": null,
            "description_width": ""
          }
        },
        "2fedd8915b5941afb6806d92516716f9": {
          "model_module": "@jupyter-widgets/base",
          "model_name": "LayoutModel",
          "model_module_version": "1.2.0",
          "state": {
            "_model_module": "@jupyter-widgets/base",
            "_model_module_version": "1.2.0",
            "_model_name": "LayoutModel",
            "_view_count": null,
            "_view_module": "@jupyter-widgets/base",
            "_view_module_version": "1.2.0",
            "_view_name": "LayoutView",
            "align_content": null,
            "align_items": null,
            "align_self": null,
            "border": null,
            "bottom": null,
            "display": null,
            "flex": null,
            "flex_flow": null,
            "grid_area": null,
            "grid_auto_columns": null,
            "grid_auto_flow": null,
            "grid_auto_rows": null,
            "grid_column": null,
            "grid_gap": null,
            "grid_row": null,
            "grid_template_areas": null,
            "grid_template_columns": null,
            "grid_template_rows": null,
            "height": null,
            "justify_content": null,
            "justify_items": null,
            "left": null,
            "margin": null,
            "max_height": null,
            "max_width": null,
            "min_height": null,
            "min_width": null,
            "object_fit": null,
            "object_position": null,
            "order": null,
            "overflow": null,
            "overflow_x": null,
            "overflow_y": null,
            "padding": null,
            "right": null,
            "top": null,
            "visibility": null,
            "width": null
          }
        },
        "4c7b59aa340045e1984b9e6fe5f0db7a": {
          "model_module": "@jupyter-widgets/controls",
          "model_name": "DescriptionStyleModel",
          "model_module_version": "1.5.0",
          "state": {
            "_model_module": "@jupyter-widgets/controls",
            "_model_module_version": "1.5.0",
            "_model_name": "DescriptionStyleModel",
            "_view_count": null,
            "_view_module": "@jupyter-widgets/base",
            "_view_module_version": "1.2.0",
            "_view_name": "StyleView",
            "description_width": ""
          }
        },
        "dcd94aeda542423da143890b252c6ebb": {
          "model_module": "@jupyter-widgets/controls",
          "model_name": "HBoxModel",
          "model_module_version": "1.5.0",
          "state": {
            "_dom_classes": [],
            "_model_module": "@jupyter-widgets/controls",
            "_model_module_version": "1.5.0",
            "_model_name": "HBoxModel",
            "_view_count": null,
            "_view_module": "@jupyter-widgets/controls",
            "_view_module_version": "1.5.0",
            "_view_name": "HBoxView",
            "box_style": "",
            "children": [
              "IPY_MODEL_004a9da7c466445a92abc8620627116b",
              "IPY_MODEL_9ba953808efd48ef87d6b0006767bc3d",
              "IPY_MODEL_87aab52d084a48de811bb66f14b0ff68"
            ],
            "layout": "IPY_MODEL_ab946748b6854b8398363f7b28c273ca"
          }
        },
        "004a9da7c466445a92abc8620627116b": {
          "model_module": "@jupyter-widgets/controls",
          "model_name": "HTMLModel",
          "model_module_version": "1.5.0",
          "state": {
            "_dom_classes": [],
            "_model_module": "@jupyter-widgets/controls",
            "_model_module_version": "1.5.0",
            "_model_name": "HTMLModel",
            "_view_count": null,
            "_view_module": "@jupyter-widgets/controls",
            "_view_module_version": "1.5.0",
            "_view_name": "HTMLView",
            "description": "",
            "description_tooltip": null,
            "layout": "IPY_MODEL_5b51ce73589c4f7888948a6baf11caf6",
            "placeholder": "​",
            "style": "IPY_MODEL_0877b1b93c684491b27f288200068065",
            "value": "Generating train examples...:  94%"
          }
        },
        "9ba953808efd48ef87d6b0006767bc3d": {
          "model_module": "@jupyter-widgets/controls",
          "model_name": "FloatProgressModel",
          "model_module_version": "1.5.0",
          "state": {
            "_dom_classes": [],
            "_model_module": "@jupyter-widgets/controls",
            "_model_module_version": "1.5.0",
            "_model_name": "FloatProgressModel",
            "_view_count": null,
            "_view_module": "@jupyter-widgets/controls",
            "_view_module_version": "1.5.0",
            "_view_name": "ProgressView",
            "bar_style": "",
            "description": "",
            "description_tooltip": null,
            "layout": "IPY_MODEL_f8309e2a6b9d4a72bd0a35edc3ba7a2a",
            "max": 51785,
            "min": 0,
            "orientation": "horizontal",
            "style": "IPY_MODEL_39c3699844a7468183b07138683f34a9",
            "value": 51785
          }
        },
        "87aab52d084a48de811bb66f14b0ff68": {
          "model_module": "@jupyter-widgets/controls",
          "model_name": "HTMLModel",
          "model_module_version": "1.5.0",
          "state": {
            "_dom_classes": [],
            "_model_module": "@jupyter-widgets/controls",
            "_model_module_version": "1.5.0",
            "_model_name": "HTMLModel",
            "_view_count": null,
            "_view_module": "@jupyter-widgets/controls",
            "_view_module_version": "1.5.0",
            "_view_name": "HTMLView",
            "description": "",
            "description_tooltip": null,
            "layout": "IPY_MODEL_dc0120f207064f449505e2b0caf5f97d",
            "placeholder": "​",
            "style": "IPY_MODEL_4b606558c5d64d8bbeea18639e376881",
            "value": " 48701/51785 [00:09&lt;00:00, 5508.69 examples/s]"
          }
        },
        "ab946748b6854b8398363f7b28c273ca": {
          "model_module": "@jupyter-widgets/base",
          "model_name": "LayoutModel",
          "model_module_version": "1.2.0",
          "state": {
            "_model_module": "@jupyter-widgets/base",
            "_model_module_version": "1.2.0",
            "_model_name": "LayoutModel",
            "_view_count": null,
            "_view_module": "@jupyter-widgets/base",
            "_view_module_version": "1.2.0",
            "_view_name": "LayoutView",
            "align_content": null,
            "align_items": null,
            "align_self": null,
            "border": null,
            "bottom": null,
            "display": null,
            "flex": null,
            "flex_flow": null,
            "grid_area": null,
            "grid_auto_columns": null,
            "grid_auto_flow": null,
            "grid_auto_rows": null,
            "grid_column": null,
            "grid_gap": null,
            "grid_row": null,
            "grid_template_areas": null,
            "grid_template_columns": null,
            "grid_template_rows": null,
            "height": null,
            "justify_content": null,
            "justify_items": null,
            "left": null,
            "margin": null,
            "max_height": null,
            "max_width": null,
            "min_height": null,
            "min_width": null,
            "object_fit": null,
            "object_position": null,
            "order": null,
            "overflow": null,
            "overflow_x": null,
            "overflow_y": null,
            "padding": null,
            "right": null,
            "top": null,
            "visibility": "hidden",
            "width": null
          }
        },
        "5b51ce73589c4f7888948a6baf11caf6": {
          "model_module": "@jupyter-widgets/base",
          "model_name": "LayoutModel",
          "model_module_version": "1.2.0",
          "state": {
            "_model_module": "@jupyter-widgets/base",
            "_model_module_version": "1.2.0",
            "_model_name": "LayoutModel",
            "_view_count": null,
            "_view_module": "@jupyter-widgets/base",
            "_view_module_version": "1.2.0",
            "_view_name": "LayoutView",
            "align_content": null,
            "align_items": null,
            "align_self": null,
            "border": null,
            "bottom": null,
            "display": null,
            "flex": null,
            "flex_flow": null,
            "grid_area": null,
            "grid_auto_columns": null,
            "grid_auto_flow": null,
            "grid_auto_rows": null,
            "grid_column": null,
            "grid_gap": null,
            "grid_row": null,
            "grid_template_areas": null,
            "grid_template_columns": null,
            "grid_template_rows": null,
            "height": null,
            "justify_content": null,
            "justify_items": null,
            "left": null,
            "margin": null,
            "max_height": null,
            "max_width": null,
            "min_height": null,
            "min_width": null,
            "object_fit": null,
            "object_position": null,
            "order": null,
            "overflow": null,
            "overflow_x": null,
            "overflow_y": null,
            "padding": null,
            "right": null,
            "top": null,
            "visibility": null,
            "width": null
          }
        },
        "0877b1b93c684491b27f288200068065": {
          "model_module": "@jupyter-widgets/controls",
          "model_name": "DescriptionStyleModel",
          "model_module_version": "1.5.0",
          "state": {
            "_model_module": "@jupyter-widgets/controls",
            "_model_module_version": "1.5.0",
            "_model_name": "DescriptionStyleModel",
            "_view_count": null,
            "_view_module": "@jupyter-widgets/base",
            "_view_module_version": "1.2.0",
            "_view_name": "StyleView",
            "description_width": ""
          }
        },
        "f8309e2a6b9d4a72bd0a35edc3ba7a2a": {
          "model_module": "@jupyter-widgets/base",
          "model_name": "LayoutModel",
          "model_module_version": "1.2.0",
          "state": {
            "_model_module": "@jupyter-widgets/base",
            "_model_module_version": "1.2.0",
            "_model_name": "LayoutModel",
            "_view_count": null,
            "_view_module": "@jupyter-widgets/base",
            "_view_module_version": "1.2.0",
            "_view_name": "LayoutView",
            "align_content": null,
            "align_items": null,
            "align_self": null,
            "border": null,
            "bottom": null,
            "display": null,
            "flex": null,
            "flex_flow": null,
            "grid_area": null,
            "grid_auto_columns": null,
            "grid_auto_flow": null,
            "grid_auto_rows": null,
            "grid_column": null,
            "grid_gap": null,
            "grid_row": null,
            "grid_template_areas": null,
            "grid_template_columns": null,
            "grid_template_rows": null,
            "height": null,
            "justify_content": null,
            "justify_items": null,
            "left": null,
            "margin": null,
            "max_height": null,
            "max_width": null,
            "min_height": null,
            "min_width": null,
            "object_fit": null,
            "object_position": null,
            "order": null,
            "overflow": null,
            "overflow_x": null,
            "overflow_y": null,
            "padding": null,
            "right": null,
            "top": null,
            "visibility": null,
            "width": null
          }
        },
        "39c3699844a7468183b07138683f34a9": {
          "model_module": "@jupyter-widgets/controls",
          "model_name": "ProgressStyleModel",
          "model_module_version": "1.5.0",
          "state": {
            "_model_module": "@jupyter-widgets/controls",
            "_model_module_version": "1.5.0",
            "_model_name": "ProgressStyleModel",
            "_view_count": null,
            "_view_module": "@jupyter-widgets/base",
            "_view_module_version": "1.2.0",
            "_view_name": "StyleView",
            "bar_color": null,
            "description_width": ""
          }
        },
        "dc0120f207064f449505e2b0caf5f97d": {
          "model_module": "@jupyter-widgets/base",
          "model_name": "LayoutModel",
          "model_module_version": "1.2.0",
          "state": {
            "_model_module": "@jupyter-widgets/base",
            "_model_module_version": "1.2.0",
            "_model_name": "LayoutModel",
            "_view_count": null,
            "_view_module": "@jupyter-widgets/base",
            "_view_module_version": "1.2.0",
            "_view_name": "LayoutView",
            "align_content": null,
            "align_items": null,
            "align_self": null,
            "border": null,
            "bottom": null,
            "display": null,
            "flex": null,
            "flex_flow": null,
            "grid_area": null,
            "grid_auto_columns": null,
            "grid_auto_flow": null,
            "grid_auto_rows": null,
            "grid_column": null,
            "grid_gap": null,
            "grid_row": null,
            "grid_template_areas": null,
            "grid_template_columns": null,
            "grid_template_rows": null,
            "height": null,
            "justify_content": null,
            "justify_items": null,
            "left": null,
            "margin": null,
            "max_height": null,
            "max_width": null,
            "min_height": null,
            "min_width": null,
            "object_fit": null,
            "object_position": null,
            "order": null,
            "overflow": null,
            "overflow_x": null,
            "overflow_y": null,
            "padding": null,
            "right": null,
            "top": null,
            "visibility": null,
            "width": null
          }
        },
        "4b606558c5d64d8bbeea18639e376881": {
          "model_module": "@jupyter-widgets/controls",
          "model_name": "DescriptionStyleModel",
          "model_module_version": "1.5.0",
          "state": {
            "_model_module": "@jupyter-widgets/controls",
            "_model_module_version": "1.5.0",
            "_model_name": "DescriptionStyleModel",
            "_view_count": null,
            "_view_module": "@jupyter-widgets/base",
            "_view_module_version": "1.2.0",
            "_view_name": "StyleView",
            "description_width": ""
          }
        },
        "e7a971a56c0c4affa15113e776864ca8": {
          "model_module": "@jupyter-widgets/controls",
          "model_name": "HBoxModel",
          "model_module_version": "1.5.0",
          "state": {
            "_dom_classes": [],
            "_model_module": "@jupyter-widgets/controls",
            "_model_module_version": "1.5.0",
            "_model_name": "HBoxModel",
            "_view_count": null,
            "_view_module": "@jupyter-widgets/controls",
            "_view_module_version": "1.5.0",
            "_view_name": "HBoxView",
            "box_style": "",
            "children": [
              "IPY_MODEL_8c29c2201d53415ba3d0df4def068709",
              "IPY_MODEL_8bd13ae4515c4f1fa8ff0f9e253d23f5",
              "IPY_MODEL_1357d9a1225e4f398bb8dcbf4b9ec0bf"
            ],
            "layout": "IPY_MODEL_3d03f5f773e54e3180ce26aa16225575"
          }
        },
        "8c29c2201d53415ba3d0df4def068709": {
          "model_module": "@jupyter-widgets/controls",
          "model_name": "HTMLModel",
          "model_module_version": "1.5.0",
          "state": {
            "_dom_classes": [],
            "_model_module": "@jupyter-widgets/controls",
            "_model_module_version": "1.5.0",
            "_model_name": "HTMLModel",
            "_view_count": null,
            "_view_module": "@jupyter-widgets/controls",
            "_view_module_version": "1.5.0",
            "_view_name": "HTMLView",
            "description": "",
            "description_tooltip": null,
            "layout": "IPY_MODEL_f1acaf5a3d664578889bed6e9a8cd01a",
            "placeholder": "​",
            "style": "IPY_MODEL_659bc597dc23485387016ff4bdea51bf",
            "value": "Shuffling /root/tensorflow_datasets/ted_hrlr_translate/pt_to_en/incomplete.W8PR1K_1.0.0/ted_hrlr_translate-train.tfrecord*...:   0%"
          }
        },
        "8bd13ae4515c4f1fa8ff0f9e253d23f5": {
          "model_module": "@jupyter-widgets/controls",
          "model_name": "FloatProgressModel",
          "model_module_version": "1.5.0",
          "state": {
            "_dom_classes": [],
            "_model_module": "@jupyter-widgets/controls",
            "_model_module_version": "1.5.0",
            "_model_name": "FloatProgressModel",
            "_view_count": null,
            "_view_module": "@jupyter-widgets/controls",
            "_view_module_version": "1.5.0",
            "_view_name": "ProgressView",
            "bar_style": "",
            "description": "",
            "description_tooltip": null,
            "layout": "IPY_MODEL_5f11cd5282db4772b7c18d97b7f3ea18",
            "max": 51785,
            "min": 0,
            "orientation": "horizontal",
            "style": "IPY_MODEL_2c69c58e062242b99217ce198aee6ab3",
            "value": 51785
          }
        },
        "1357d9a1225e4f398bb8dcbf4b9ec0bf": {
          "model_module": "@jupyter-widgets/controls",
          "model_name": "HTMLModel",
          "model_module_version": "1.5.0",
          "state": {
            "_dom_classes": [],
            "_model_module": "@jupyter-widgets/controls",
            "_model_module_version": "1.5.0",
            "_model_name": "HTMLModel",
            "_view_count": null,
            "_view_module": "@jupyter-widgets/controls",
            "_view_module_version": "1.5.0",
            "_view_name": "HTMLView",
            "description": "",
            "description_tooltip": null,
            "layout": "IPY_MODEL_d54f2ae7fad24cf5840d8b2caeac74c9",
            "placeholder": "​",
            "style": "IPY_MODEL_420e598fc65447018d8b8aef8628ad47",
            "value": " 0/51785 [00:00&lt;?, ? examples/s]"
          }
        },
        "3d03f5f773e54e3180ce26aa16225575": {
          "model_module": "@jupyter-widgets/base",
          "model_name": "LayoutModel",
          "model_module_version": "1.2.0",
          "state": {
            "_model_module": "@jupyter-widgets/base",
            "_model_module_version": "1.2.0",
            "_model_name": "LayoutModel",
            "_view_count": null,
            "_view_module": "@jupyter-widgets/base",
            "_view_module_version": "1.2.0",
            "_view_name": "LayoutView",
            "align_content": null,
            "align_items": null,
            "align_self": null,
            "border": null,
            "bottom": null,
            "display": null,
            "flex": null,
            "flex_flow": null,
            "grid_area": null,
            "grid_auto_columns": null,
            "grid_auto_flow": null,
            "grid_auto_rows": null,
            "grid_column": null,
            "grid_gap": null,
            "grid_row": null,
            "grid_template_areas": null,
            "grid_template_columns": null,
            "grid_template_rows": null,
            "height": null,
            "justify_content": null,
            "justify_items": null,
            "left": null,
            "margin": null,
            "max_height": null,
            "max_width": null,
            "min_height": null,
            "min_width": null,
            "object_fit": null,
            "object_position": null,
            "order": null,
            "overflow": null,
            "overflow_x": null,
            "overflow_y": null,
            "padding": null,
            "right": null,
            "top": null,
            "visibility": "hidden",
            "width": null
          }
        },
        "f1acaf5a3d664578889bed6e9a8cd01a": {
          "model_module": "@jupyter-widgets/base",
          "model_name": "LayoutModel",
          "model_module_version": "1.2.0",
          "state": {
            "_model_module": "@jupyter-widgets/base",
            "_model_module_version": "1.2.0",
            "_model_name": "LayoutModel",
            "_view_count": null,
            "_view_module": "@jupyter-widgets/base",
            "_view_module_version": "1.2.0",
            "_view_name": "LayoutView",
            "align_content": null,
            "align_items": null,
            "align_self": null,
            "border": null,
            "bottom": null,
            "display": null,
            "flex": null,
            "flex_flow": null,
            "grid_area": null,
            "grid_auto_columns": null,
            "grid_auto_flow": null,
            "grid_auto_rows": null,
            "grid_column": null,
            "grid_gap": null,
            "grid_row": null,
            "grid_template_areas": null,
            "grid_template_columns": null,
            "grid_template_rows": null,
            "height": null,
            "justify_content": null,
            "justify_items": null,
            "left": null,
            "margin": null,
            "max_height": null,
            "max_width": null,
            "min_height": null,
            "min_width": null,
            "object_fit": null,
            "object_position": null,
            "order": null,
            "overflow": null,
            "overflow_x": null,
            "overflow_y": null,
            "padding": null,
            "right": null,
            "top": null,
            "visibility": null,
            "width": null
          }
        },
        "659bc597dc23485387016ff4bdea51bf": {
          "model_module": "@jupyter-widgets/controls",
          "model_name": "DescriptionStyleModel",
          "model_module_version": "1.5.0",
          "state": {
            "_model_module": "@jupyter-widgets/controls",
            "_model_module_version": "1.5.0",
            "_model_name": "DescriptionStyleModel",
            "_view_count": null,
            "_view_module": "@jupyter-widgets/base",
            "_view_module_version": "1.2.0",
            "_view_name": "StyleView",
            "description_width": ""
          }
        },
        "5f11cd5282db4772b7c18d97b7f3ea18": {
          "model_module": "@jupyter-widgets/base",
          "model_name": "LayoutModel",
          "model_module_version": "1.2.0",
          "state": {
            "_model_module": "@jupyter-widgets/base",
            "_model_module_version": "1.2.0",
            "_model_name": "LayoutModel",
            "_view_count": null,
            "_view_module": "@jupyter-widgets/base",
            "_view_module_version": "1.2.0",
            "_view_name": "LayoutView",
            "align_content": null,
            "align_items": null,
            "align_self": null,
            "border": null,
            "bottom": null,
            "display": null,
            "flex": null,
            "flex_flow": null,
            "grid_area": null,
            "grid_auto_columns": null,
            "grid_auto_flow": null,
            "grid_auto_rows": null,
            "grid_column": null,
            "grid_gap": null,
            "grid_row": null,
            "grid_template_areas": null,
            "grid_template_columns": null,
            "grid_template_rows": null,
            "height": null,
            "justify_content": null,
            "justify_items": null,
            "left": null,
            "margin": null,
            "max_height": null,
            "max_width": null,
            "min_height": null,
            "min_width": null,
            "object_fit": null,
            "object_position": null,
            "order": null,
            "overflow": null,
            "overflow_x": null,
            "overflow_y": null,
            "padding": null,
            "right": null,
            "top": null,
            "visibility": null,
            "width": null
          }
        },
        "2c69c58e062242b99217ce198aee6ab3": {
          "model_module": "@jupyter-widgets/controls",
          "model_name": "ProgressStyleModel",
          "model_module_version": "1.5.0",
          "state": {
            "_model_module": "@jupyter-widgets/controls",
            "_model_module_version": "1.5.0",
            "_model_name": "ProgressStyleModel",
            "_view_count": null,
            "_view_module": "@jupyter-widgets/base",
            "_view_module_version": "1.2.0",
            "_view_name": "StyleView",
            "bar_color": null,
            "description_width": ""
          }
        },
        "d54f2ae7fad24cf5840d8b2caeac74c9": {
          "model_module": "@jupyter-widgets/base",
          "model_name": "LayoutModel",
          "model_module_version": "1.2.0",
          "state": {
            "_model_module": "@jupyter-widgets/base",
            "_model_module_version": "1.2.0",
            "_model_name": "LayoutModel",
            "_view_count": null,
            "_view_module": "@jupyter-widgets/base",
            "_view_module_version": "1.2.0",
            "_view_name": "LayoutView",
            "align_content": null,
            "align_items": null,
            "align_self": null,
            "border": null,
            "bottom": null,
            "display": null,
            "flex": null,
            "flex_flow": null,
            "grid_area": null,
            "grid_auto_columns": null,
            "grid_auto_flow": null,
            "grid_auto_rows": null,
            "grid_column": null,
            "grid_gap": null,
            "grid_row": null,
            "grid_template_areas": null,
            "grid_template_columns": null,
            "grid_template_rows": null,
            "height": null,
            "justify_content": null,
            "justify_items": null,
            "left": null,
            "margin": null,
            "max_height": null,
            "max_width": null,
            "min_height": null,
            "min_width": null,
            "object_fit": null,
            "object_position": null,
            "order": null,
            "overflow": null,
            "overflow_x": null,
            "overflow_y": null,
            "padding": null,
            "right": null,
            "top": null,
            "visibility": null,
            "width": null
          }
        },
        "420e598fc65447018d8b8aef8628ad47": {
          "model_module": "@jupyter-widgets/controls",
          "model_name": "DescriptionStyleModel",
          "model_module_version": "1.5.0",
          "state": {
            "_model_module": "@jupyter-widgets/controls",
            "_model_module_version": "1.5.0",
            "_model_name": "DescriptionStyleModel",
            "_view_count": null,
            "_view_module": "@jupyter-widgets/base",
            "_view_module_version": "1.2.0",
            "_view_name": "StyleView",
            "description_width": ""
          }
        },
        "456373a8a7294dd88f12128d0bdfeaef": {
          "model_module": "@jupyter-widgets/controls",
          "model_name": "HBoxModel",
          "model_module_version": "1.5.0",
          "state": {
            "_dom_classes": [],
            "_model_module": "@jupyter-widgets/controls",
            "_model_module_version": "1.5.0",
            "_model_name": "HBoxModel",
            "_view_count": null,
            "_view_module": "@jupyter-widgets/controls",
            "_view_module_version": "1.5.0",
            "_view_name": "HBoxView",
            "box_style": "",
            "children": [
              "IPY_MODEL_fb36b17aae674f26bbe108853eeb6349",
              "IPY_MODEL_222495814047453d822364b94e88e3a3",
              "IPY_MODEL_750b99d259244ea7aab54ea8642ad4de"
            ],
            "layout": "IPY_MODEL_4ccf1289f4a3425097d89288dc96efd3"
          }
        },
        "fb36b17aae674f26bbe108853eeb6349": {
          "model_module": "@jupyter-widgets/controls",
          "model_name": "HTMLModel",
          "model_module_version": "1.5.0",
          "state": {
            "_dom_classes": [],
            "_model_module": "@jupyter-widgets/controls",
            "_model_module_version": "1.5.0",
            "_model_name": "HTMLModel",
            "_view_count": null,
            "_view_module": "@jupyter-widgets/controls",
            "_view_module_version": "1.5.0",
            "_view_name": "HTMLView",
            "description": "",
            "description_tooltip": null,
            "layout": "IPY_MODEL_f953dcce0db54fac92bca219d790cfdb",
            "placeholder": "​",
            "style": "IPY_MODEL_a59f7d6e13194fd3815d772fc73ddde1",
            "value": "Generating validation examples...:   0%"
          }
        },
        "222495814047453d822364b94e88e3a3": {
          "model_module": "@jupyter-widgets/controls",
          "model_name": "FloatProgressModel",
          "model_module_version": "1.5.0",
          "state": {
            "_dom_classes": [],
            "_model_module": "@jupyter-widgets/controls",
            "_model_module_version": "1.5.0",
            "_model_name": "FloatProgressModel",
            "_view_count": null,
            "_view_module": "@jupyter-widgets/controls",
            "_view_module_version": "1.5.0",
            "_view_name": "ProgressView",
            "bar_style": "",
            "description": "",
            "description_tooltip": null,
            "layout": "IPY_MODEL_07568f72186547e6a7a8fc8780f6fa6e",
            "max": 1193,
            "min": 0,
            "orientation": "horizontal",
            "style": "IPY_MODEL_62ac33474814441d9399b4a40a62ab92",
            "value": 1193
          }
        },
        "750b99d259244ea7aab54ea8642ad4de": {
          "model_module": "@jupyter-widgets/controls",
          "model_name": "HTMLModel",
          "model_module_version": "1.5.0",
          "state": {
            "_dom_classes": [],
            "_model_module": "@jupyter-widgets/controls",
            "_model_module_version": "1.5.0",
            "_model_name": "HTMLModel",
            "_view_count": null,
            "_view_module": "@jupyter-widgets/controls",
            "_view_module_version": "1.5.0",
            "_view_name": "HTMLView",
            "description": "",
            "description_tooltip": null,
            "layout": "IPY_MODEL_88fb4a4df806472fb9b6db9263a77205",
            "placeholder": "​",
            "style": "IPY_MODEL_bcd022d607614082b4022c9a3ec88801",
            "value": " 0/1193 [00:00&lt;?, ? examples/s]"
          }
        },
        "4ccf1289f4a3425097d89288dc96efd3": {
          "model_module": "@jupyter-widgets/base",
          "model_name": "LayoutModel",
          "model_module_version": "1.2.0",
          "state": {
            "_model_module": "@jupyter-widgets/base",
            "_model_module_version": "1.2.0",
            "_model_name": "LayoutModel",
            "_view_count": null,
            "_view_module": "@jupyter-widgets/base",
            "_view_module_version": "1.2.0",
            "_view_name": "LayoutView",
            "align_content": null,
            "align_items": null,
            "align_self": null,
            "border": null,
            "bottom": null,
            "display": null,
            "flex": null,
            "flex_flow": null,
            "grid_area": null,
            "grid_auto_columns": null,
            "grid_auto_flow": null,
            "grid_auto_rows": null,
            "grid_column": null,
            "grid_gap": null,
            "grid_row": null,
            "grid_template_areas": null,
            "grid_template_columns": null,
            "grid_template_rows": null,
            "height": null,
            "justify_content": null,
            "justify_items": null,
            "left": null,
            "margin": null,
            "max_height": null,
            "max_width": null,
            "min_height": null,
            "min_width": null,
            "object_fit": null,
            "object_position": null,
            "order": null,
            "overflow": null,
            "overflow_x": null,
            "overflow_y": null,
            "padding": null,
            "right": null,
            "top": null,
            "visibility": "hidden",
            "width": null
          }
        },
        "f953dcce0db54fac92bca219d790cfdb": {
          "model_module": "@jupyter-widgets/base",
          "model_name": "LayoutModel",
          "model_module_version": "1.2.0",
          "state": {
            "_model_module": "@jupyter-widgets/base",
            "_model_module_version": "1.2.0",
            "_model_name": "LayoutModel",
            "_view_count": null,
            "_view_module": "@jupyter-widgets/base",
            "_view_module_version": "1.2.0",
            "_view_name": "LayoutView",
            "align_content": null,
            "align_items": null,
            "align_self": null,
            "border": null,
            "bottom": null,
            "display": null,
            "flex": null,
            "flex_flow": null,
            "grid_area": null,
            "grid_auto_columns": null,
            "grid_auto_flow": null,
            "grid_auto_rows": null,
            "grid_column": null,
            "grid_gap": null,
            "grid_row": null,
            "grid_template_areas": null,
            "grid_template_columns": null,
            "grid_template_rows": null,
            "height": null,
            "justify_content": null,
            "justify_items": null,
            "left": null,
            "margin": null,
            "max_height": null,
            "max_width": null,
            "min_height": null,
            "min_width": null,
            "object_fit": null,
            "object_position": null,
            "order": null,
            "overflow": null,
            "overflow_x": null,
            "overflow_y": null,
            "padding": null,
            "right": null,
            "top": null,
            "visibility": null,
            "width": null
          }
        },
        "a59f7d6e13194fd3815d772fc73ddde1": {
          "model_module": "@jupyter-widgets/controls",
          "model_name": "DescriptionStyleModel",
          "model_module_version": "1.5.0",
          "state": {
            "_model_module": "@jupyter-widgets/controls",
            "_model_module_version": "1.5.0",
            "_model_name": "DescriptionStyleModel",
            "_view_count": null,
            "_view_module": "@jupyter-widgets/base",
            "_view_module_version": "1.2.0",
            "_view_name": "StyleView",
            "description_width": ""
          }
        },
        "07568f72186547e6a7a8fc8780f6fa6e": {
          "model_module": "@jupyter-widgets/base",
          "model_name": "LayoutModel",
          "model_module_version": "1.2.0",
          "state": {
            "_model_module": "@jupyter-widgets/base",
            "_model_module_version": "1.2.0",
            "_model_name": "LayoutModel",
            "_view_count": null,
            "_view_module": "@jupyter-widgets/base",
            "_view_module_version": "1.2.0",
            "_view_name": "LayoutView",
            "align_content": null,
            "align_items": null,
            "align_self": null,
            "border": null,
            "bottom": null,
            "display": null,
            "flex": null,
            "flex_flow": null,
            "grid_area": null,
            "grid_auto_columns": null,
            "grid_auto_flow": null,
            "grid_auto_rows": null,
            "grid_column": null,
            "grid_gap": null,
            "grid_row": null,
            "grid_template_areas": null,
            "grid_template_columns": null,
            "grid_template_rows": null,
            "height": null,
            "justify_content": null,
            "justify_items": null,
            "left": null,
            "margin": null,
            "max_height": null,
            "max_width": null,
            "min_height": null,
            "min_width": null,
            "object_fit": null,
            "object_position": null,
            "order": null,
            "overflow": null,
            "overflow_x": null,
            "overflow_y": null,
            "padding": null,
            "right": null,
            "top": null,
            "visibility": null,
            "width": null
          }
        },
        "62ac33474814441d9399b4a40a62ab92": {
          "model_module": "@jupyter-widgets/controls",
          "model_name": "ProgressStyleModel",
          "model_module_version": "1.5.0",
          "state": {
            "_model_module": "@jupyter-widgets/controls",
            "_model_module_version": "1.5.0",
            "_model_name": "ProgressStyleModel",
            "_view_count": null,
            "_view_module": "@jupyter-widgets/base",
            "_view_module_version": "1.2.0",
            "_view_name": "StyleView",
            "bar_color": null,
            "description_width": ""
          }
        },
        "88fb4a4df806472fb9b6db9263a77205": {
          "model_module": "@jupyter-widgets/base",
          "model_name": "LayoutModel",
          "model_module_version": "1.2.0",
          "state": {
            "_model_module": "@jupyter-widgets/base",
            "_model_module_version": "1.2.0",
            "_model_name": "LayoutModel",
            "_view_count": null,
            "_view_module": "@jupyter-widgets/base",
            "_view_module_version": "1.2.0",
            "_view_name": "LayoutView",
            "align_content": null,
            "align_items": null,
            "align_self": null,
            "border": null,
            "bottom": null,
            "display": null,
            "flex": null,
            "flex_flow": null,
            "grid_area": null,
            "grid_auto_columns": null,
            "grid_auto_flow": null,
            "grid_auto_rows": null,
            "grid_column": null,
            "grid_gap": null,
            "grid_row": null,
            "grid_template_areas": null,
            "grid_template_columns": null,
            "grid_template_rows": null,
            "height": null,
            "justify_content": null,
            "justify_items": null,
            "left": null,
            "margin": null,
            "max_height": null,
            "max_width": null,
            "min_height": null,
            "min_width": null,
            "object_fit": null,
            "object_position": null,
            "order": null,
            "overflow": null,
            "overflow_x": null,
            "overflow_y": null,
            "padding": null,
            "right": null,
            "top": null,
            "visibility": null,
            "width": null
          }
        },
        "bcd022d607614082b4022c9a3ec88801": {
          "model_module": "@jupyter-widgets/controls",
          "model_name": "DescriptionStyleModel",
          "model_module_version": "1.5.0",
          "state": {
            "_model_module": "@jupyter-widgets/controls",
            "_model_module_version": "1.5.0",
            "_model_name": "DescriptionStyleModel",
            "_view_count": null,
            "_view_module": "@jupyter-widgets/base",
            "_view_module_version": "1.2.0",
            "_view_name": "StyleView",
            "description_width": ""
          }
        },
        "c22ff6a7398444c0af0db9c9ba19515e": {
          "model_module": "@jupyter-widgets/controls",
          "model_name": "HBoxModel",
          "model_module_version": "1.5.0",
          "state": {
            "_dom_classes": [],
            "_model_module": "@jupyter-widgets/controls",
            "_model_module_version": "1.5.0",
            "_model_name": "HBoxModel",
            "_view_count": null,
            "_view_module": "@jupyter-widgets/controls",
            "_view_module_version": "1.5.0",
            "_view_name": "HBoxView",
            "box_style": "",
            "children": [
              "IPY_MODEL_e53bb433126a491e87fb2b6f9d0e49ad",
              "IPY_MODEL_8b3ceeaa6fe24924a580b89e184886b4",
              "IPY_MODEL_0fab54a494b44310ac535d9fbed3a8e8"
            ],
            "layout": "IPY_MODEL_c3c994bb25c84d5abd86ddad31228ae6"
          }
        },
        "e53bb433126a491e87fb2b6f9d0e49ad": {
          "model_module": "@jupyter-widgets/controls",
          "model_name": "HTMLModel",
          "model_module_version": "1.5.0",
          "state": {
            "_dom_classes": [],
            "_model_module": "@jupyter-widgets/controls",
            "_model_module_version": "1.5.0",
            "_model_name": "HTMLModel",
            "_view_count": null,
            "_view_module": "@jupyter-widgets/controls",
            "_view_module_version": "1.5.0",
            "_view_name": "HTMLView",
            "description": "",
            "description_tooltip": null,
            "layout": "IPY_MODEL_dbdb4cf705bf4c769386b105fe868de6",
            "placeholder": "​",
            "style": "IPY_MODEL_fa9115bba9c74bdb90d0bef4b6ded9c6",
            "value": "Shuffling /root/tensorflow_datasets/ted_hrlr_translate/pt_to_en/incomplete.W8PR1K_1.0.0/ted_hrlr_translate-validation.tfrecord*...:   0%"
          }
        },
        "8b3ceeaa6fe24924a580b89e184886b4": {
          "model_module": "@jupyter-widgets/controls",
          "model_name": "FloatProgressModel",
          "model_module_version": "1.5.0",
          "state": {
            "_dom_classes": [],
            "_model_module": "@jupyter-widgets/controls",
            "_model_module_version": "1.5.0",
            "_model_name": "FloatProgressModel",
            "_view_count": null,
            "_view_module": "@jupyter-widgets/controls",
            "_view_module_version": "1.5.0",
            "_view_name": "ProgressView",
            "bar_style": "",
            "description": "",
            "description_tooltip": null,
            "layout": "IPY_MODEL_09b7961cfb404497aa71fe3e1fb1c784",
            "max": 1193,
            "min": 0,
            "orientation": "horizontal",
            "style": "IPY_MODEL_86701d3dd17b4890a8d8bd2a7d58a2f2",
            "value": 1193
          }
        },
        "0fab54a494b44310ac535d9fbed3a8e8": {
          "model_module": "@jupyter-widgets/controls",
          "model_name": "HTMLModel",
          "model_module_version": "1.5.0",
          "state": {
            "_dom_classes": [],
            "_model_module": "@jupyter-widgets/controls",
            "_model_module_version": "1.5.0",
            "_model_name": "HTMLModel",
            "_view_count": null,
            "_view_module": "@jupyter-widgets/controls",
            "_view_module_version": "1.5.0",
            "_view_name": "HTMLView",
            "description": "",
            "description_tooltip": null,
            "layout": "IPY_MODEL_18b8acc9419c409f8585549f7d2dfc4d",
            "placeholder": "​",
            "style": "IPY_MODEL_04605f10c2084ee181010742379371cc",
            "value": " 0/1193 [00:00&lt;?, ? examples/s]"
          }
        },
        "c3c994bb25c84d5abd86ddad31228ae6": {
          "model_module": "@jupyter-widgets/base",
          "model_name": "LayoutModel",
          "model_module_version": "1.2.0",
          "state": {
            "_model_module": "@jupyter-widgets/base",
            "_model_module_version": "1.2.0",
            "_model_name": "LayoutModel",
            "_view_count": null,
            "_view_module": "@jupyter-widgets/base",
            "_view_module_version": "1.2.0",
            "_view_name": "LayoutView",
            "align_content": null,
            "align_items": null,
            "align_self": null,
            "border": null,
            "bottom": null,
            "display": null,
            "flex": null,
            "flex_flow": null,
            "grid_area": null,
            "grid_auto_columns": null,
            "grid_auto_flow": null,
            "grid_auto_rows": null,
            "grid_column": null,
            "grid_gap": null,
            "grid_row": null,
            "grid_template_areas": null,
            "grid_template_columns": null,
            "grid_template_rows": null,
            "height": null,
            "justify_content": null,
            "justify_items": null,
            "left": null,
            "margin": null,
            "max_height": null,
            "max_width": null,
            "min_height": null,
            "min_width": null,
            "object_fit": null,
            "object_position": null,
            "order": null,
            "overflow": null,
            "overflow_x": null,
            "overflow_y": null,
            "padding": null,
            "right": null,
            "top": null,
            "visibility": "hidden",
            "width": null
          }
        },
        "dbdb4cf705bf4c769386b105fe868de6": {
          "model_module": "@jupyter-widgets/base",
          "model_name": "LayoutModel",
          "model_module_version": "1.2.0",
          "state": {
            "_model_module": "@jupyter-widgets/base",
            "_model_module_version": "1.2.0",
            "_model_name": "LayoutModel",
            "_view_count": null,
            "_view_module": "@jupyter-widgets/base",
            "_view_module_version": "1.2.0",
            "_view_name": "LayoutView",
            "align_content": null,
            "align_items": null,
            "align_self": null,
            "border": null,
            "bottom": null,
            "display": null,
            "flex": null,
            "flex_flow": null,
            "grid_area": null,
            "grid_auto_columns": null,
            "grid_auto_flow": null,
            "grid_auto_rows": null,
            "grid_column": null,
            "grid_gap": null,
            "grid_row": null,
            "grid_template_areas": null,
            "grid_template_columns": null,
            "grid_template_rows": null,
            "height": null,
            "justify_content": null,
            "justify_items": null,
            "left": null,
            "margin": null,
            "max_height": null,
            "max_width": null,
            "min_height": null,
            "min_width": null,
            "object_fit": null,
            "object_position": null,
            "order": null,
            "overflow": null,
            "overflow_x": null,
            "overflow_y": null,
            "padding": null,
            "right": null,
            "top": null,
            "visibility": null,
            "width": null
          }
        },
        "fa9115bba9c74bdb90d0bef4b6ded9c6": {
          "model_module": "@jupyter-widgets/controls",
          "model_name": "DescriptionStyleModel",
          "model_module_version": "1.5.0",
          "state": {
            "_model_module": "@jupyter-widgets/controls",
            "_model_module_version": "1.5.0",
            "_model_name": "DescriptionStyleModel",
            "_view_count": null,
            "_view_module": "@jupyter-widgets/base",
            "_view_module_version": "1.2.0",
            "_view_name": "StyleView",
            "description_width": ""
          }
        },
        "09b7961cfb404497aa71fe3e1fb1c784": {
          "model_module": "@jupyter-widgets/base",
          "model_name": "LayoutModel",
          "model_module_version": "1.2.0",
          "state": {
            "_model_module": "@jupyter-widgets/base",
            "_model_module_version": "1.2.0",
            "_model_name": "LayoutModel",
            "_view_count": null,
            "_view_module": "@jupyter-widgets/base",
            "_view_module_version": "1.2.0",
            "_view_name": "LayoutView",
            "align_content": null,
            "align_items": null,
            "align_self": null,
            "border": null,
            "bottom": null,
            "display": null,
            "flex": null,
            "flex_flow": null,
            "grid_area": null,
            "grid_auto_columns": null,
            "grid_auto_flow": null,
            "grid_auto_rows": null,
            "grid_column": null,
            "grid_gap": null,
            "grid_row": null,
            "grid_template_areas": null,
            "grid_template_columns": null,
            "grid_template_rows": null,
            "height": null,
            "justify_content": null,
            "justify_items": null,
            "left": null,
            "margin": null,
            "max_height": null,
            "max_width": null,
            "min_height": null,
            "min_width": null,
            "object_fit": null,
            "object_position": null,
            "order": null,
            "overflow": null,
            "overflow_x": null,
            "overflow_y": null,
            "padding": null,
            "right": null,
            "top": null,
            "visibility": null,
            "width": null
          }
        },
        "86701d3dd17b4890a8d8bd2a7d58a2f2": {
          "model_module": "@jupyter-widgets/controls",
          "model_name": "ProgressStyleModel",
          "model_module_version": "1.5.0",
          "state": {
            "_model_module": "@jupyter-widgets/controls",
            "_model_module_version": "1.5.0",
            "_model_name": "ProgressStyleModel",
            "_view_count": null,
            "_view_module": "@jupyter-widgets/base",
            "_view_module_version": "1.2.0",
            "_view_name": "StyleView",
            "bar_color": null,
            "description_width": ""
          }
        },
        "18b8acc9419c409f8585549f7d2dfc4d": {
          "model_module": "@jupyter-widgets/base",
          "model_name": "LayoutModel",
          "model_module_version": "1.2.0",
          "state": {
            "_model_module": "@jupyter-widgets/base",
            "_model_module_version": "1.2.0",
            "_model_name": "LayoutModel",
            "_view_count": null,
            "_view_module": "@jupyter-widgets/base",
            "_view_module_version": "1.2.0",
            "_view_name": "LayoutView",
            "align_content": null,
            "align_items": null,
            "align_self": null,
            "border": null,
            "bottom": null,
            "display": null,
            "flex": null,
            "flex_flow": null,
            "grid_area": null,
            "grid_auto_columns": null,
            "grid_auto_flow": null,
            "grid_auto_rows": null,
            "grid_column": null,
            "grid_gap": null,
            "grid_row": null,
            "grid_template_areas": null,
            "grid_template_columns": null,
            "grid_template_rows": null,
            "height": null,
            "justify_content": null,
            "justify_items": null,
            "left": null,
            "margin": null,
            "max_height": null,
            "max_width": null,
            "min_height": null,
            "min_width": null,
            "object_fit": null,
            "object_position": null,
            "order": null,
            "overflow": null,
            "overflow_x": null,
            "overflow_y": null,
            "padding": null,
            "right": null,
            "top": null,
            "visibility": null,
            "width": null
          }
        },
        "04605f10c2084ee181010742379371cc": {
          "model_module": "@jupyter-widgets/controls",
          "model_name": "DescriptionStyleModel",
          "model_module_version": "1.5.0",
          "state": {
            "_model_module": "@jupyter-widgets/controls",
            "_model_module_version": "1.5.0",
            "_model_name": "DescriptionStyleModel",
            "_view_count": null,
            "_view_module": "@jupyter-widgets/base",
            "_view_module_version": "1.2.0",
            "_view_name": "StyleView",
            "description_width": ""
          }
        },
        "76c39887e2f54e7799f40333d8d605c8": {
          "model_module": "@jupyter-widgets/controls",
          "model_name": "HBoxModel",
          "model_module_version": "1.5.0",
          "state": {
            "_dom_classes": [],
            "_model_module": "@jupyter-widgets/controls",
            "_model_module_version": "1.5.0",
            "_model_name": "HBoxModel",
            "_view_count": null,
            "_view_module": "@jupyter-widgets/controls",
            "_view_module_version": "1.5.0",
            "_view_name": "HBoxView",
            "box_style": "",
            "children": [
              "IPY_MODEL_13052f14b3b345d0bfb9bec9145ee35c",
              "IPY_MODEL_b56a7b27b8fe4877a1f2c28f109c3a61",
              "IPY_MODEL_82c93f539bb24f459235a22ab9bd77f6"
            ],
            "layout": "IPY_MODEL_d667f891f6394ddba48763831868c09c"
          }
        },
        "13052f14b3b345d0bfb9bec9145ee35c": {
          "model_module": "@jupyter-widgets/controls",
          "model_name": "HTMLModel",
          "model_module_version": "1.5.0",
          "state": {
            "_dom_classes": [],
            "_model_module": "@jupyter-widgets/controls",
            "_model_module_version": "1.5.0",
            "_model_name": "HTMLModel",
            "_view_count": null,
            "_view_module": "@jupyter-widgets/controls",
            "_view_module_version": "1.5.0",
            "_view_name": "HTMLView",
            "description": "",
            "description_tooltip": null,
            "layout": "IPY_MODEL_226b5f0e713143b48089b38efdb07af7",
            "placeholder": "​",
            "style": "IPY_MODEL_50dfd3022cb2446c9501a54e443206fd",
            "value": "Generating test examples...:   0%"
          }
        },
        "b56a7b27b8fe4877a1f2c28f109c3a61": {
          "model_module": "@jupyter-widgets/controls",
          "model_name": "FloatProgressModel",
          "model_module_version": "1.5.0",
          "state": {
            "_dom_classes": [],
            "_model_module": "@jupyter-widgets/controls",
            "_model_module_version": "1.5.0",
            "_model_name": "FloatProgressModel",
            "_view_count": null,
            "_view_module": "@jupyter-widgets/controls",
            "_view_module_version": "1.5.0",
            "_view_name": "ProgressView",
            "bar_style": "",
            "description": "",
            "description_tooltip": null,
            "layout": "IPY_MODEL_1574a93a9c664c08aac7907901af4937",
            "max": 1803,
            "min": 0,
            "orientation": "horizontal",
            "style": "IPY_MODEL_c043fa5cba4f4da988ad0c45d9da2957",
            "value": 1803
          }
        },
        "82c93f539bb24f459235a22ab9bd77f6": {
          "model_module": "@jupyter-widgets/controls",
          "model_name": "HTMLModel",
          "model_module_version": "1.5.0",
          "state": {
            "_dom_classes": [],
            "_model_module": "@jupyter-widgets/controls",
            "_model_module_version": "1.5.0",
            "_model_name": "HTMLModel",
            "_view_count": null,
            "_view_module": "@jupyter-widgets/controls",
            "_view_module_version": "1.5.0",
            "_view_name": "HTMLView",
            "description": "",
            "description_tooltip": null,
            "layout": "IPY_MODEL_f141287d68b2467e85f532313fb05242",
            "placeholder": "​",
            "style": "IPY_MODEL_6720564cbda549f790e9478432a684b5",
            "value": " 0/1803 [00:00&lt;?, ? examples/s]"
          }
        },
        "d667f891f6394ddba48763831868c09c": {
          "model_module": "@jupyter-widgets/base",
          "model_name": "LayoutModel",
          "model_module_version": "1.2.0",
          "state": {
            "_model_module": "@jupyter-widgets/base",
            "_model_module_version": "1.2.0",
            "_model_name": "LayoutModel",
            "_view_count": null,
            "_view_module": "@jupyter-widgets/base",
            "_view_module_version": "1.2.0",
            "_view_name": "LayoutView",
            "align_content": null,
            "align_items": null,
            "align_self": null,
            "border": null,
            "bottom": null,
            "display": null,
            "flex": null,
            "flex_flow": null,
            "grid_area": null,
            "grid_auto_columns": null,
            "grid_auto_flow": null,
            "grid_auto_rows": null,
            "grid_column": null,
            "grid_gap": null,
            "grid_row": null,
            "grid_template_areas": null,
            "grid_template_columns": null,
            "grid_template_rows": null,
            "height": null,
            "justify_content": null,
            "justify_items": null,
            "left": null,
            "margin": null,
            "max_height": null,
            "max_width": null,
            "min_height": null,
            "min_width": null,
            "object_fit": null,
            "object_position": null,
            "order": null,
            "overflow": null,
            "overflow_x": null,
            "overflow_y": null,
            "padding": null,
            "right": null,
            "top": null,
            "visibility": "hidden",
            "width": null
          }
        },
        "226b5f0e713143b48089b38efdb07af7": {
          "model_module": "@jupyter-widgets/base",
          "model_name": "LayoutModel",
          "model_module_version": "1.2.0",
          "state": {
            "_model_module": "@jupyter-widgets/base",
            "_model_module_version": "1.2.0",
            "_model_name": "LayoutModel",
            "_view_count": null,
            "_view_module": "@jupyter-widgets/base",
            "_view_module_version": "1.2.0",
            "_view_name": "LayoutView",
            "align_content": null,
            "align_items": null,
            "align_self": null,
            "border": null,
            "bottom": null,
            "display": null,
            "flex": null,
            "flex_flow": null,
            "grid_area": null,
            "grid_auto_columns": null,
            "grid_auto_flow": null,
            "grid_auto_rows": null,
            "grid_column": null,
            "grid_gap": null,
            "grid_row": null,
            "grid_template_areas": null,
            "grid_template_columns": null,
            "grid_template_rows": null,
            "height": null,
            "justify_content": null,
            "justify_items": null,
            "left": null,
            "margin": null,
            "max_height": null,
            "max_width": null,
            "min_height": null,
            "min_width": null,
            "object_fit": null,
            "object_position": null,
            "order": null,
            "overflow": null,
            "overflow_x": null,
            "overflow_y": null,
            "padding": null,
            "right": null,
            "top": null,
            "visibility": null,
            "width": null
          }
        },
        "50dfd3022cb2446c9501a54e443206fd": {
          "model_module": "@jupyter-widgets/controls",
          "model_name": "DescriptionStyleModel",
          "model_module_version": "1.5.0",
          "state": {
            "_model_module": "@jupyter-widgets/controls",
            "_model_module_version": "1.5.0",
            "_model_name": "DescriptionStyleModel",
            "_view_count": null,
            "_view_module": "@jupyter-widgets/base",
            "_view_module_version": "1.2.0",
            "_view_name": "StyleView",
            "description_width": ""
          }
        },
        "1574a93a9c664c08aac7907901af4937": {
          "model_module": "@jupyter-widgets/base",
          "model_name": "LayoutModel",
          "model_module_version": "1.2.0",
          "state": {
            "_model_module": "@jupyter-widgets/base",
            "_model_module_version": "1.2.0",
            "_model_name": "LayoutModel",
            "_view_count": null,
            "_view_module": "@jupyter-widgets/base",
            "_view_module_version": "1.2.0",
            "_view_name": "LayoutView",
            "align_content": null,
            "align_items": null,
            "align_self": null,
            "border": null,
            "bottom": null,
            "display": null,
            "flex": null,
            "flex_flow": null,
            "grid_area": null,
            "grid_auto_columns": null,
            "grid_auto_flow": null,
            "grid_auto_rows": null,
            "grid_column": null,
            "grid_gap": null,
            "grid_row": null,
            "grid_template_areas": null,
            "grid_template_columns": null,
            "grid_template_rows": null,
            "height": null,
            "justify_content": null,
            "justify_items": null,
            "left": null,
            "margin": null,
            "max_height": null,
            "max_width": null,
            "min_height": null,
            "min_width": null,
            "object_fit": null,
            "object_position": null,
            "order": null,
            "overflow": null,
            "overflow_x": null,
            "overflow_y": null,
            "padding": null,
            "right": null,
            "top": null,
            "visibility": null,
            "width": null
          }
        },
        "c043fa5cba4f4da988ad0c45d9da2957": {
          "model_module": "@jupyter-widgets/controls",
          "model_name": "ProgressStyleModel",
          "model_module_version": "1.5.0",
          "state": {
            "_model_module": "@jupyter-widgets/controls",
            "_model_module_version": "1.5.0",
            "_model_name": "ProgressStyleModel",
            "_view_count": null,
            "_view_module": "@jupyter-widgets/base",
            "_view_module_version": "1.2.0",
            "_view_name": "StyleView",
            "bar_color": null,
            "description_width": ""
          }
        },
        "f141287d68b2467e85f532313fb05242": {
          "model_module": "@jupyter-widgets/base",
          "model_name": "LayoutModel",
          "model_module_version": "1.2.0",
          "state": {
            "_model_module": "@jupyter-widgets/base",
            "_model_module_version": "1.2.0",
            "_model_name": "LayoutModel",
            "_view_count": null,
            "_view_module": "@jupyter-widgets/base",
            "_view_module_version": "1.2.0",
            "_view_name": "LayoutView",
            "align_content": null,
            "align_items": null,
            "align_self": null,
            "border": null,
            "bottom": null,
            "display": null,
            "flex": null,
            "flex_flow": null,
            "grid_area": null,
            "grid_auto_columns": null,
            "grid_auto_flow": null,
            "grid_auto_rows": null,
            "grid_column": null,
            "grid_gap": null,
            "grid_row": null,
            "grid_template_areas": null,
            "grid_template_columns": null,
            "grid_template_rows": null,
            "height": null,
            "justify_content": null,
            "justify_items": null,
            "left": null,
            "margin": null,
            "max_height": null,
            "max_width": null,
            "min_height": null,
            "min_width": null,
            "object_fit": null,
            "object_position": null,
            "order": null,
            "overflow": null,
            "overflow_x": null,
            "overflow_y": null,
            "padding": null,
            "right": null,
            "top": null,
            "visibility": null,
            "width": null
          }
        },
        "6720564cbda549f790e9478432a684b5": {
          "model_module": "@jupyter-widgets/controls",
          "model_name": "DescriptionStyleModel",
          "model_module_version": "1.5.0",
          "state": {
            "_model_module": "@jupyter-widgets/controls",
            "_model_module_version": "1.5.0",
            "_model_name": "DescriptionStyleModel",
            "_view_count": null,
            "_view_module": "@jupyter-widgets/base",
            "_view_module_version": "1.2.0",
            "_view_name": "StyleView",
            "description_width": ""
          }
        },
        "70616b15dd504051aad0448611ec7657": {
          "model_module": "@jupyter-widgets/controls",
          "model_name": "HBoxModel",
          "model_module_version": "1.5.0",
          "state": {
            "_dom_classes": [],
            "_model_module": "@jupyter-widgets/controls",
            "_model_module_version": "1.5.0",
            "_model_name": "HBoxModel",
            "_view_count": null,
            "_view_module": "@jupyter-widgets/controls",
            "_view_module_version": "1.5.0",
            "_view_name": "HBoxView",
            "box_style": "",
            "children": [
              "IPY_MODEL_c8339d156e5d433195cc8fa7c4569bff",
              "IPY_MODEL_ff5d583147ea4c3a874461b9fe51418b",
              "IPY_MODEL_583afcf2639b4ef4af3159d491533ad6"
            ],
            "layout": "IPY_MODEL_01aa28df773143f88321e930bba0747b"
          }
        },
        "c8339d156e5d433195cc8fa7c4569bff": {
          "model_module": "@jupyter-widgets/controls",
          "model_name": "HTMLModel",
          "model_module_version": "1.5.0",
          "state": {
            "_dom_classes": [],
            "_model_module": "@jupyter-widgets/controls",
            "_model_module_version": "1.5.0",
            "_model_name": "HTMLModel",
            "_view_count": null,
            "_view_module": "@jupyter-widgets/controls",
            "_view_module_version": "1.5.0",
            "_view_name": "HTMLView",
            "description": "",
            "description_tooltip": null,
            "layout": "IPY_MODEL_93d05d903aee42dd92d63e02a1535043",
            "placeholder": "​",
            "style": "IPY_MODEL_3c960611dae54b9ab1449460ab34fd91",
            "value": "Shuffling /root/tensorflow_datasets/ted_hrlr_translate/pt_to_en/incomplete.W8PR1K_1.0.0/ted_hrlr_translate-test.tfrecord*...:   0%"
          }
        },
        "ff5d583147ea4c3a874461b9fe51418b": {
          "model_module": "@jupyter-widgets/controls",
          "model_name": "FloatProgressModel",
          "model_module_version": "1.5.0",
          "state": {
            "_dom_classes": [],
            "_model_module": "@jupyter-widgets/controls",
            "_model_module_version": "1.5.0",
            "_model_name": "FloatProgressModel",
            "_view_count": null,
            "_view_module": "@jupyter-widgets/controls",
            "_view_module_version": "1.5.0",
            "_view_name": "ProgressView",
            "bar_style": "",
            "description": "",
            "description_tooltip": null,
            "layout": "IPY_MODEL_8ad59b3e11b144bb8856405ca5a7834b",
            "max": 1803,
            "min": 0,
            "orientation": "horizontal",
            "style": "IPY_MODEL_06fedd5f9cce421d9d57602a96a9cb67",
            "value": 1803
          }
        },
        "583afcf2639b4ef4af3159d491533ad6": {
          "model_module": "@jupyter-widgets/controls",
          "model_name": "HTMLModel",
          "model_module_version": "1.5.0",
          "state": {
            "_dom_classes": [],
            "_model_module": "@jupyter-widgets/controls",
            "_model_module_version": "1.5.0",
            "_model_name": "HTMLModel",
            "_view_count": null,
            "_view_module": "@jupyter-widgets/controls",
            "_view_module_version": "1.5.0",
            "_view_name": "HTMLView",
            "description": "",
            "description_tooltip": null,
            "layout": "IPY_MODEL_c1c2ef70c7304fd2b8494b75c9906929",
            "placeholder": "​",
            "style": "IPY_MODEL_082806a62d3a47be944c0ae808ce1e9d",
            "value": " 0/1803 [00:00&lt;?, ? examples/s]"
          }
        },
        "01aa28df773143f88321e930bba0747b": {
          "model_module": "@jupyter-widgets/base",
          "model_name": "LayoutModel",
          "model_module_version": "1.2.0",
          "state": {
            "_model_module": "@jupyter-widgets/base",
            "_model_module_version": "1.2.0",
            "_model_name": "LayoutModel",
            "_view_count": null,
            "_view_module": "@jupyter-widgets/base",
            "_view_module_version": "1.2.0",
            "_view_name": "LayoutView",
            "align_content": null,
            "align_items": null,
            "align_self": null,
            "border": null,
            "bottom": null,
            "display": null,
            "flex": null,
            "flex_flow": null,
            "grid_area": null,
            "grid_auto_columns": null,
            "grid_auto_flow": null,
            "grid_auto_rows": null,
            "grid_column": null,
            "grid_gap": null,
            "grid_row": null,
            "grid_template_areas": null,
            "grid_template_columns": null,
            "grid_template_rows": null,
            "height": null,
            "justify_content": null,
            "justify_items": null,
            "left": null,
            "margin": null,
            "max_height": null,
            "max_width": null,
            "min_height": null,
            "min_width": null,
            "object_fit": null,
            "object_position": null,
            "order": null,
            "overflow": null,
            "overflow_x": null,
            "overflow_y": null,
            "padding": null,
            "right": null,
            "top": null,
            "visibility": "hidden",
            "width": null
          }
        },
        "93d05d903aee42dd92d63e02a1535043": {
          "model_module": "@jupyter-widgets/base",
          "model_name": "LayoutModel",
          "model_module_version": "1.2.0",
          "state": {
            "_model_module": "@jupyter-widgets/base",
            "_model_module_version": "1.2.0",
            "_model_name": "LayoutModel",
            "_view_count": null,
            "_view_module": "@jupyter-widgets/base",
            "_view_module_version": "1.2.0",
            "_view_name": "LayoutView",
            "align_content": null,
            "align_items": null,
            "align_self": null,
            "border": null,
            "bottom": null,
            "display": null,
            "flex": null,
            "flex_flow": null,
            "grid_area": null,
            "grid_auto_columns": null,
            "grid_auto_flow": null,
            "grid_auto_rows": null,
            "grid_column": null,
            "grid_gap": null,
            "grid_row": null,
            "grid_template_areas": null,
            "grid_template_columns": null,
            "grid_template_rows": null,
            "height": null,
            "justify_content": null,
            "justify_items": null,
            "left": null,
            "margin": null,
            "max_height": null,
            "max_width": null,
            "min_height": null,
            "min_width": null,
            "object_fit": null,
            "object_position": null,
            "order": null,
            "overflow": null,
            "overflow_x": null,
            "overflow_y": null,
            "padding": null,
            "right": null,
            "top": null,
            "visibility": null,
            "width": null
          }
        },
        "3c960611dae54b9ab1449460ab34fd91": {
          "model_module": "@jupyter-widgets/controls",
          "model_name": "DescriptionStyleModel",
          "model_module_version": "1.5.0",
          "state": {
            "_model_module": "@jupyter-widgets/controls",
            "_model_module_version": "1.5.0",
            "_model_name": "DescriptionStyleModel",
            "_view_count": null,
            "_view_module": "@jupyter-widgets/base",
            "_view_module_version": "1.2.0",
            "_view_name": "StyleView",
            "description_width": ""
          }
        },
        "8ad59b3e11b144bb8856405ca5a7834b": {
          "model_module": "@jupyter-widgets/base",
          "model_name": "LayoutModel",
          "model_module_version": "1.2.0",
          "state": {
            "_model_module": "@jupyter-widgets/base",
            "_model_module_version": "1.2.0",
            "_model_name": "LayoutModel",
            "_view_count": null,
            "_view_module": "@jupyter-widgets/base",
            "_view_module_version": "1.2.0",
            "_view_name": "LayoutView",
            "align_content": null,
            "align_items": null,
            "align_self": null,
            "border": null,
            "bottom": null,
            "display": null,
            "flex": null,
            "flex_flow": null,
            "grid_area": null,
            "grid_auto_columns": null,
            "grid_auto_flow": null,
            "grid_auto_rows": null,
            "grid_column": null,
            "grid_gap": null,
            "grid_row": null,
            "grid_template_areas": null,
            "grid_template_columns": null,
            "grid_template_rows": null,
            "height": null,
            "justify_content": null,
            "justify_items": null,
            "left": null,
            "margin": null,
            "max_height": null,
            "max_width": null,
            "min_height": null,
            "min_width": null,
            "object_fit": null,
            "object_position": null,
            "order": null,
            "overflow": null,
            "overflow_x": null,
            "overflow_y": null,
            "padding": null,
            "right": null,
            "top": null,
            "visibility": null,
            "width": null
          }
        },
        "06fedd5f9cce421d9d57602a96a9cb67": {
          "model_module": "@jupyter-widgets/controls",
          "model_name": "ProgressStyleModel",
          "model_module_version": "1.5.0",
          "state": {
            "_model_module": "@jupyter-widgets/controls",
            "_model_module_version": "1.5.0",
            "_model_name": "ProgressStyleModel",
            "_view_count": null,
            "_view_module": "@jupyter-widgets/base",
            "_view_module_version": "1.2.0",
            "_view_name": "StyleView",
            "bar_color": null,
            "description_width": ""
          }
        },
        "c1c2ef70c7304fd2b8494b75c9906929": {
          "model_module": "@jupyter-widgets/base",
          "model_name": "LayoutModel",
          "model_module_version": "1.2.0",
          "state": {
            "_model_module": "@jupyter-widgets/base",
            "_model_module_version": "1.2.0",
            "_model_name": "LayoutModel",
            "_view_count": null,
            "_view_module": "@jupyter-widgets/base",
            "_view_module_version": "1.2.0",
            "_view_name": "LayoutView",
            "align_content": null,
            "align_items": null,
            "align_self": null,
            "border": null,
            "bottom": null,
            "display": null,
            "flex": null,
            "flex_flow": null,
            "grid_area": null,
            "grid_auto_columns": null,
            "grid_auto_flow": null,
            "grid_auto_rows": null,
            "grid_column": null,
            "grid_gap": null,
            "grid_row": null,
            "grid_template_areas": null,
            "grid_template_columns": null,
            "grid_template_rows": null,
            "height": null,
            "justify_content": null,
            "justify_items": null,
            "left": null,
            "margin": null,
            "max_height": null,
            "max_width": null,
            "min_height": null,
            "min_width": null,
            "object_fit": null,
            "object_position": null,
            "order": null,
            "overflow": null,
            "overflow_x": null,
            "overflow_y": null,
            "padding": null,
            "right": null,
            "top": null,
            "visibility": null,
            "width": null
          }
        },
        "082806a62d3a47be944c0ae808ce1e9d": {
          "model_module": "@jupyter-widgets/controls",
          "model_name": "DescriptionStyleModel",
          "model_module_version": "1.5.0",
          "state": {
            "_model_module": "@jupyter-widgets/controls",
            "_model_module_version": "1.5.0",
            "_model_name": "DescriptionStyleModel",
            "_view_count": null,
            "_view_module": "@jupyter-widgets/base",
            "_view_module_version": "1.2.0",
            "_view_name": "StyleView",
            "description_width": ""
          }
        }
      }
    },
    "accelerator": "GPU"
  },
  "cells": [
    {
      "cell_type": "markdown",
      "source": [
        "# Перевод текстов с Transformers и Keras"
      ],
      "metadata": {
        "id": "dvjLDwKN6RNO"
      }
    },
    {
      "cell_type": "markdown",
      "source": [
        "Рассмотрим процесс создания и обучения модели `Transformer -to-sequence` для перевода с испанского на английский . `Transformer был первоначально предложен в статье [«Attention is all you need» Vaswani et al. (2017)].(https://arxiv.org/abs/1706.03762)\n",
        "\n",
        "Трансформеры — это глубокие нейронные сети, которые заменяют CNN и RNN на механизм [внутреннего внимания](https://developers.google.com/machine-learning/glossary?hl=ru#self-attention). Внутреннее внимание позволяет Трансформерам легко передавать информацию через входные последовательности.\n",
        "\n",
        "Основная идея модели Transformer — это самовнимание — способность обращать внимание на различные позиции входной последовательности для вычисления представления этой последовательности. Трансформер создает стопки слоев собственного внимания.\n",
        "\n",
        "Нейронные сети для машинного перевода обычно содержат кодер, считывающий входное предложение и генерирующий его представление. Затем декодер генерирует выходное предложение слово за словом, сверяясь с представлением, сгенерированным кодером. Трансформер начинает с создания начальных представлений, или вложений (embeddig), для каждого слова. Затем, используя внутреннее внимание, он объединяет информацию из всех остальных слов, генерируя новое представление для каждого слова, основанное на всем контексте, представленном на рисенке заполненными шариками. Затем этот шаг повторяется несколько раз параллельно для всех слов, последовательно генерируя новые представления.\n",
        "\n"
      ],
      "metadata": {
        "id": "zOPnA4Is6Ygx"
      }
    },
    {
      "cell_type": "markdown",
      "source": [
        "## 1.2. Компоненты Transformer\n",
        "\n",
        "\n",
        "\n",
        "![picture](https://github.com/arminnorouzi/machine_learning_course_UofA_MECE610/blob/main/L07_Generative_AI/figures/transformers.png?raw=true) Source: [1-2]\n",
        "\n",
        "На этом рисунке схематично показана архитектура transformers. Архитектура Transformer состоит из кодера и декодера, которые состоят из нескольких уровней, использующих механизмы внимания и саморегуляции для обработки входных и выходных последовательностей. Для кодирования положения токенов во входной последовательности используется технология позиционного кодирования. Эти компоненты работают вместе, позволяя transformers достигать самых современных результатов в различных задачах обработки естественного языка.\n",
        "\n",
        "\n",
        "- **Encoder:** Encoder - это часть архитектуры Transformer, которая обрабатывает входную последовательность и создает скрытое представление последовательности. Входная последовательность сначала преобразуется в последовательность вложений, которые затем передаются в стопку идентичных слоев. Каждый уровень в стеке кодировщика состоит из двух подуровней: уровня самообучения и уровня прямой связи. Уровень самообучения позволяет кодировщику отслеживать различные части входной последовательности и фиксировать долгосрочные зависимости, в то время как уровень прямой связи применяет нелинейное преобразование к скрытому представлению.\n",
        "\n",
        "- **Decoder:** Decoder - это часть архитектуры Transformer, которая генерирует выходную последовательность на основе скрытого представления, создаваемого кодером. Как и кодировщик, декодер также состоит из набора идентичных слоев, но каждый слой имеет три подслоя: слой самовнимания, слой внимания кодировщика-декодера и слой прямой связи. Уровень самовнимания позволяет декодеру обрабатывать различные части выходной последовательности, в то время как уровень внимания кодер-декодер позволяет декодеру обрабатывать различные части входной последовательности.\n",
        "\n",
        "- **Attention:** Attention - это механизм в нейронных сетях, который позволяет модели выборочно обрабатывать различные части входных данных при составлении прогноза. В архитектуре Transformer внимание используется как в кодере, так и в декодере. Механизм attention вычисляет взвешенную сумму значений входной последовательности, где веса определяются сходством между запросом и ключами. Механизм attention позволяет модели фокусироваться на различных частях входной последовательности в зависимости от выполняемой задачи.\n",
        "\n",
        "- **Self-Attention Mechanism:** Self-attention - это особый тип механизма внимания, который используется в архитектуре Transformer. В self-attention входная последовательность преобразуется в последовательность векторов запросов, ключей и значений. Векторы запросов используются для вычисления весов внимания для каждой позиции во входной последовательности на основе сходства между вектором запроса и ключевыми векторами. Затем векторы значений взвешиваются по весам внимания и суммируются для получения взвешенного представления входной последовательности. Это взвешенное представление затем используется в качестве входных данных для следующего уровня модели. Самонаблюдение позволяет модели отслеживать различные части входной последовательности и фиксировать долгосрочные зависимости.\n",
        "\n",
        "- **Positional Encoding:** Позиционное кодирование - это метод, используемый в архитектуре Transformer для кодирования положения токенов во входной последовательности. Поскольку преобразователь не имеет рекуррентной или сверточной структуры, которая могла бы фиксировать порядок входной последовательности, позиционное кодирование добавляется к встраиванию каждого токена, чтобы предоставить модели информацию о положении токена в последовательности. Позиционное кодирование вычисляется с использованием фиксированной функции, которая учитывает положение токена в последовательности и размер встраивания. Затем результат добавляется к встроенному токену, позволяя модели различать токены, которые появляются в разных позициях во входной последовательности.\n",
        "\n",
        "\n",
        "Чтобы узнать, как эти компоненты работают в общей картине, изучите материалы [Google AI Blog post](https://ai.googleblog.com/2017/08/transformer-novel-neural-network.html):\n",
        "\n",
        "> Нейронные сети для машинного перевода обычно содержат кодер, считывающий входное предложение и генерирующий его представление. Затем декодер генерирует выходное предложение слово за словом, сверяясь с представлением, сгенерированным кодером. Transformer начинает с создания начальных представлений, или вложений, для каждого слова. Затем, используя самонаблюдение, он объединяет информацию из всех остальных слов, генерируя новое представление для каждого слова, основанное на всем контексте, представленном заполненными шариками на рисунке ниже. Затем этот шаг повторяется несколько раз параллельно для всех слов, последовательно генерируя новые представления.\n",
        "\n",
        "<img src=\"https://www.tensorflow.org/images/tutorials/transformer/apply_the_transformer_to_machine_translation.gif\" alt=\"Applying the Transformer to machine translation\">\n",
        "\n",
        "Применение трансформера к машинному переводу. Источник: [Google AI Blog](https://ai.googleblog.com/2017/08/transformer-novel-neural-network.html).\n"
      ],
      "metadata": {
        "id": "IxY_aNRasxEI"
      }
    },
    {
      "cell_type": "markdown",
      "source": [
        "# 2. Реализация трансформера в Tensorflow\n",
        "## 2.1. Настройка среды и подготовка обучающих данных\n",
        "\n",
        "Импортируем необходимые библиотеки для создания и обучения модели-трансформера"
      ],
      "metadata": {
        "id": "k3T-2EeiWo1E"
      }
    },
    {
      "cell_type": "code",
      "source": [
        "!pip install -q -U tensorflow-text tensorflow"
      ],
      "metadata": {
        "colab": {
          "base_uri": "https://localhost:8080/"
        },
        "id": "W3usp6C16Gr7",
        "outputId": "744e2582-d54a-4212-c6cd-9045cb8d40e3"
      },
      "execution_count": null,
      "outputs": [
        {
          "output_type": "stream",
          "name": "stdout",
          "text": [
            "\u001b[2K   \u001b[90m━━━━━━━━━━━━━━━━━━━━━━━━━━━━━━━━━━━━━━━━\u001b[0m \u001b[32m5.2/5.2 MB\u001b[0m \u001b[31m29.6 MB/s\u001b[0m eta \u001b[36m0:00:00\u001b[0m\n",
            "\u001b[2K   \u001b[90m━━━━━━━━━━━━━━━━━━━━━━━━━━━━━━━━━━━━━━━━\u001b[0m \u001b[32m601.3/601.3 MB\u001b[0m \u001b[31m2.5 MB/s\u001b[0m eta \u001b[36m0:00:00\u001b[0m\n",
            "\u001b[?25h"
          ]
        }
      ]
    },
    {
      "cell_type": "code",
      "source": [
        "import logging\n",
        "import time\n",
        "\n",
        "import numpy as np\n",
        "import matplotlib.pyplot as plt\n",
        "\n",
        "import tensorflow_datasets as tfds\n",
        "import tensorflow as tf\n",
        "\n",
        "import tensorflow_text"
      ],
      "metadata": {
        "id": "QEqzBJen6GpK"
      },
      "execution_count": null,
      "outputs": []
    },
    {
      "cell_type": "markdown",
      "source": [
        "Загрузим набор данных TED Talks для [перевода с португальского на английский с использованием наборов данных TensorFlow (TFDS)](https://www.tensorflow.org/datasets/catalog/ted_hrlr_translate#ted_hrlr_translatept_to_en):\n",
        "\n",
        "Для загрузки набора данных используется функция `tfds.load()`.\n",
        "Функции передаются следующие аргументы:\n",
        "\n",
        "- `ted_hrlr_translate/pt_to_en` - имя загружаемого набора данных, который представляет собой набор данных TED Talks для перевода с португальского на английский.\n",
        "- `with_info=True:` - дополнительные метаданные о наборе данных должны быть возвращены вместе с самим набором данных.\n",
        "- `as_supervised=True:` - набор данных должен быть возвращен в виде набора пар `(input, target)`, где `input` - это предложение на португальском языке, а `target` - соответствующий перевод на английский."
      ],
      "metadata": {
        "id": "RidSkkSm6iu_"
      }
    },
    {
      "cell_type": "code",
      "source": [
        "examples, metadata = tfds.load('ted_hrlr_translate/pt_to_en',\n",
        "                               with_info=True,\n",
        "                               as_supervised=True)\n",
        "\n",
        "train_examples, val_examples = examples['train'], examples['validation']"
      ],
      "metadata": {
        "id": "e6q3zLPq6Gmk",
        "colab": {
          "base_uri": "https://localhost:8080/",
          "height": 169,
          "referenced_widgets": [
            "01eb8b3855524ad5bce48cbf61d799f7",
            "06fed26638874ffa88e6bde0ff5952bf",
            "4d07f2f697f34164a3867cdd2613b270",
            "87def094e2154fc9a34ae41c476d8d56",
            "78b1c08135654618a3e1873a7ae2ef02",
            "42226c5619cd487ca50412ac2452b118",
            "ee8f4ae2bab54965b5bfc53b02b19a24",
            "40c58d9713b14b06b619c46f6e5a7d09",
            "a2c685bf32c14dad96bcee368a9b4535",
            "432419ec06bf46b4b9316a3950b89df6",
            "3f20a264cf494216ad87a513acfe7f00",
            "44eefa5801ee4c2c9bdd4ff92b493279",
            "6e03c3ac078e45dda53de33b77343591",
            "93929e2e5d974f0899e0138dfc5189ef",
            "bb82e82e5f304953b71db4a490a3f684",
            "5a5a23e868ec4746bf028a8c3912f271",
            "2a7ea8723da242c0b5c1dafa05de389d",
            "ede55b1e595245ca9b40cce11c139d6d",
            "4403e450671942d0b9d44a796ea44cfd",
            "a6452a2ad2b74a4db53b678e035b8cfd",
            "a02804d1657a42508b89e080ea678b01",
            "2c9aaffb8d3f49778ac19e8bf1f266ba",
            "abff799b722240fd9598b9baa5e644a6",
            "4112813a4568474da97252609c52b9ed",
            "c469b8704f7f40208fd9e55ee7f07724",
            "9e7c3810d90e4b2b99512bbb06f8f7d3",
            "c780ffcfa8264b97a7ba492404b2e0a1",
            "215cf59020fa480b9927bd18efb4398a",
            "9338a8901c43465ba343dc94bfa66c09",
            "9876372bed624c6f81cc3b7bd9b5609a",
            "7ef826abae994286bac45dcd821bd6ea",
            "96bab763489a4da2be5029b9e2d821ae",
            "faf9784b19be446dad65f12e56718c03",
            "544b62ccb4414922b56ab661320f74e5",
            "2d25865abd7e4c9c9cdc72aa52994dac",
            "dd795723156848d8a501852cf307ec29",
            "b336825263c343d196b4194d203e8b37",
            "815a206636384c0a86b49e256d2d65d1",
            "f42f8f9d13924dd4bb97bcd77814b90c",
            "78edf9e0dbcf49b89f08b29d95d4475c",
            "c3963e6d52ab446f91b8859c542bef04",
            "ec8436be0ece42c2abb1cd091e8e92ea",
            "2fedd8915b5941afb6806d92516716f9",
            "4c7b59aa340045e1984b9e6fe5f0db7a",
            "dcd94aeda542423da143890b252c6ebb",
            "004a9da7c466445a92abc8620627116b",
            "9ba953808efd48ef87d6b0006767bc3d",
            "87aab52d084a48de811bb66f14b0ff68",
            "ab946748b6854b8398363f7b28c273ca",
            "5b51ce73589c4f7888948a6baf11caf6",
            "0877b1b93c684491b27f288200068065",
            "f8309e2a6b9d4a72bd0a35edc3ba7a2a",
            "39c3699844a7468183b07138683f34a9",
            "dc0120f207064f449505e2b0caf5f97d",
            "4b606558c5d64d8bbeea18639e376881",
            "e7a971a56c0c4affa15113e776864ca8",
            "8c29c2201d53415ba3d0df4def068709",
            "8bd13ae4515c4f1fa8ff0f9e253d23f5",
            "1357d9a1225e4f398bb8dcbf4b9ec0bf",
            "3d03f5f773e54e3180ce26aa16225575",
            "f1acaf5a3d664578889bed6e9a8cd01a",
            "659bc597dc23485387016ff4bdea51bf",
            "5f11cd5282db4772b7c18d97b7f3ea18",
            "2c69c58e062242b99217ce198aee6ab3",
            "d54f2ae7fad24cf5840d8b2caeac74c9",
            "420e598fc65447018d8b8aef8628ad47",
            "456373a8a7294dd88f12128d0bdfeaef",
            "fb36b17aae674f26bbe108853eeb6349",
            "222495814047453d822364b94e88e3a3",
            "750b99d259244ea7aab54ea8642ad4de",
            "4ccf1289f4a3425097d89288dc96efd3",
            "f953dcce0db54fac92bca219d790cfdb",
            "a59f7d6e13194fd3815d772fc73ddde1",
            "07568f72186547e6a7a8fc8780f6fa6e",
            "62ac33474814441d9399b4a40a62ab92",
            "88fb4a4df806472fb9b6db9263a77205",
            "bcd022d607614082b4022c9a3ec88801",
            "c22ff6a7398444c0af0db9c9ba19515e",
            "e53bb433126a491e87fb2b6f9d0e49ad",
            "8b3ceeaa6fe24924a580b89e184886b4",
            "0fab54a494b44310ac535d9fbed3a8e8",
            "c3c994bb25c84d5abd86ddad31228ae6",
            "dbdb4cf705bf4c769386b105fe868de6",
            "fa9115bba9c74bdb90d0bef4b6ded9c6",
            "09b7961cfb404497aa71fe3e1fb1c784",
            "86701d3dd17b4890a8d8bd2a7d58a2f2",
            "18b8acc9419c409f8585549f7d2dfc4d",
            "04605f10c2084ee181010742379371cc",
            "76c39887e2f54e7799f40333d8d605c8",
            "13052f14b3b345d0bfb9bec9145ee35c",
            "b56a7b27b8fe4877a1f2c28f109c3a61",
            "82c93f539bb24f459235a22ab9bd77f6",
            "d667f891f6394ddba48763831868c09c",
            "226b5f0e713143b48089b38efdb07af7",
            "50dfd3022cb2446c9501a54e443206fd",
            "1574a93a9c664c08aac7907901af4937",
            "c043fa5cba4f4da988ad0c45d9da2957",
            "f141287d68b2467e85f532313fb05242",
            "6720564cbda549f790e9478432a684b5",
            "70616b15dd504051aad0448611ec7657",
            "c8339d156e5d433195cc8fa7c4569bff",
            "ff5d583147ea4c3a874461b9fe51418b",
            "583afcf2639b4ef4af3159d491533ad6",
            "01aa28df773143f88321e930bba0747b",
            "93d05d903aee42dd92d63e02a1535043",
            "3c960611dae54b9ab1449460ab34fd91",
            "8ad59b3e11b144bb8856405ca5a7834b",
            "06fedd5f9cce421d9d57602a96a9cb67",
            "c1c2ef70c7304fd2b8494b75c9906929",
            "082806a62d3a47be944c0ae808ce1e9d"
          ]
        },
        "outputId": "bcc4fd08-58bb-4acb-a31e-e0988518f087"
      },
      "execution_count": null,
      "outputs": [
        {
          "output_type": "stream",
          "name": "stdout",
          "text": [
            "Downloading and preparing dataset 124.94 MiB (download: 124.94 MiB, generated: Unknown size, total: 124.94 MiB) to /root/tensorflow_datasets/ted_hrlr_translate/pt_to_en/1.0.0...\n"
          ]
        },
        {
          "output_type": "display_data",
          "data": {
            "text/plain": [
              "Dl Completed...: 0 url [00:00, ? url/s]"
            ],
            "application/vnd.jupyter.widget-view+json": {
              "version_major": 2,
              "version_minor": 0,
              "model_id": "01eb8b3855524ad5bce48cbf61d799f7"
            }
          },
          "metadata": {}
        },
        {
          "output_type": "display_data",
          "data": {
            "text/plain": [
              "Dl Size...: 0 MiB [00:00, ? MiB/s]"
            ],
            "application/vnd.jupyter.widget-view+json": {
              "version_major": 2,
              "version_minor": 0,
              "model_id": "44eefa5801ee4c2c9bdd4ff92b493279"
            }
          },
          "metadata": {}
        },
        {
          "output_type": "display_data",
          "data": {
            "text/plain": [
              "Extraction completed...: 0 file [00:00, ? file/s]"
            ],
            "application/vnd.jupyter.widget-view+json": {
              "version_major": 2,
              "version_minor": 0,
              "model_id": "abff799b722240fd9598b9baa5e644a6"
            }
          },
          "metadata": {}
        },
        {
          "output_type": "display_data",
          "data": {
            "text/plain": [
              "Generating splits...:   0%|          | 0/3 [00:00<?, ? splits/s]"
            ],
            "application/vnd.jupyter.widget-view+json": {
              "version_major": 2,
              "version_minor": 0,
              "model_id": "544b62ccb4414922b56ab661320f74e5"
            }
          },
          "metadata": {}
        },
        {
          "output_type": "display_data",
          "data": {
            "text/plain": [
              "Generating train examples...:   0%|          | 0/51785 [00:00<?, ? examples/s]"
            ],
            "application/vnd.jupyter.widget-view+json": {
              "version_major": 2,
              "version_minor": 0,
              "model_id": "dcd94aeda542423da143890b252c6ebb"
            }
          },
          "metadata": {}
        },
        {
          "output_type": "display_data",
          "data": {
            "text/plain": [
              "Shuffling /root/tensorflow_datasets/ted_hrlr_translate/pt_to_en/incomplete.W8PR1K_1.0.0/ted_hrlr_translate-tra…"
            ],
            "application/vnd.jupyter.widget-view+json": {
              "version_major": 2,
              "version_minor": 0,
              "model_id": "e7a971a56c0c4affa15113e776864ca8"
            }
          },
          "metadata": {}
        },
        {
          "output_type": "display_data",
          "data": {
            "text/plain": [
              "Generating validation examples...:   0%|          | 0/1193 [00:00<?, ? examples/s]"
            ],
            "application/vnd.jupyter.widget-view+json": {
              "version_major": 2,
              "version_minor": 0,
              "model_id": "456373a8a7294dd88f12128d0bdfeaef"
            }
          },
          "metadata": {}
        },
        {
          "output_type": "display_data",
          "data": {
            "text/plain": [
              "Shuffling /root/tensorflow_datasets/ted_hrlr_translate/pt_to_en/incomplete.W8PR1K_1.0.0/ted_hrlr_translate-val…"
            ],
            "application/vnd.jupyter.widget-view+json": {
              "version_major": 2,
              "version_minor": 0,
              "model_id": "c22ff6a7398444c0af0db9c9ba19515e"
            }
          },
          "metadata": {}
        },
        {
          "output_type": "display_data",
          "data": {
            "text/plain": [
              "Generating test examples...:   0%|          | 0/1803 [00:00<?, ? examples/s]"
            ],
            "application/vnd.jupyter.widget-view+json": {
              "version_major": 2,
              "version_minor": 0,
              "model_id": "76c39887e2f54e7799f40333d8d605c8"
            }
          },
          "metadata": {}
        },
        {
          "output_type": "display_data",
          "data": {
            "text/plain": [
              "Shuffling /root/tensorflow_datasets/ted_hrlr_translate/pt_to_en/incomplete.W8PR1K_1.0.0/ted_hrlr_translate-tes…"
            ],
            "application/vnd.jupyter.widget-view+json": {
              "version_major": 2,
              "version_minor": 0,
              "model_id": "70616b15dd504051aad0448611ec7657"
            }
          },
          "metadata": {}
        },
        {
          "output_type": "stream",
          "name": "stdout",
          "text": [
            "Dataset ted_hrlr_translate downloaded and prepared to /root/tensorflow_datasets/ted_hrlr_translate/pt_to_en/1.0.0. Subsequent calls will reuse this data.\n"
          ]
        }
      ]
    },
    {
      "cell_type": "markdown",
      "source": [
        "Давайте распечатаем первую порцию примеров из набора данных для перевода с португальского на английский, загруженного с помощью `TensorFlow Datasets (TFDS)`.\n",
        "\n",
        "Вызов функции `train_examples.batch(3).take(1)` разбивает набор данных на группы по три примера и затем принимает первый мини-батч. Это означает, что код распечатает первые три примера из набора данных.\n",
        "\n",
        "Затем код перебирает примеры в пакете и распечатывает каждый пример как на португальском, так и на английском языках. Вызов функции `.decode('utf-8')` используется для преобразования байтовых строк в наборе данных в удобочитаемый текст."
      ],
      "metadata": {
        "id": "eP1InZU4Alhw"
      }
    },
    {
      "cell_type": "code",
      "source": [
        "for pt_examples, en_examples in train_examples.batch(3).take(1):\n",
        "  print('Примеры на португальском:')\n",
        "  for pt in pt_examples.numpy():\n",
        "    print(pt.decode('utf-8'))\n",
        "  print()\n",
        "\n",
        "  print('Примеры на английском:')\n",
        "  for en in en_examples.numpy():\n",
        "    print(en.decode('utf-8'))"
      ],
      "metadata": {
        "id": "V9V4giEb6GkS",
        "colab": {
          "base_uri": "https://localhost:8080/"
        },
        "outputId": "15672f67-e0e0-450f-a0c8-ec8ddbc1584e"
      },
      "execution_count": null,
      "outputs": [
        {
          "output_type": "stream",
          "name": "stdout",
          "text": [
            "Примеры на португальском:\n",
            "e quando melhoramos a procura , tiramos a única vantagem da impressão , que é a serendipidade .\n",
            "mas e se estes fatores fossem ativos ?\n",
            "mas eles não tinham a curiosidade de me testar .\n",
            "\n",
            "Примеры на английском:\n",
            "and when you improve searchability , you actually take away the one advantage of print , which is serendipity .\n",
            "but what if it were active ?\n",
            "but they did n't test for curiosity .\n"
          ]
        }
      ]
    },
    {
      "cell_type": "markdown",
      "source": [
        "## 2.2. Настройка токенизатора\n",
        "\n",
        "Выполним разметку текста.\n",
        "\n",
        "Загрузим токенизаторы, используемые для модели перевода с португальского на английский, предоставленной `TensorFlow`.\n",
        "\n",
        "Воспользуемся руководством с веб-сайта [tensorflow website](https://www.tensorflow.org/text/tutorials/transformer) и используем токенизаторы, встроенные в руководство [subword tokenizer](https://www.tensorflow.org/text/guide/subwords_tokenizer). В этом руководстве оптимизированы два объекта `text.BertTokenizer` (один для английского, другой для португальского) для ** этого набора данных ** и экспортированы в формат `TensorFlow` `saved_model`.\n",
        "\n",
        "Функция `tf.keras.utils.get_file()` используется для загрузки архивированной версии токенизаторов с веб-сайта `TensorFlow`. Первый аргумент указывает имя загружаемого файла, второй аргумент указывает URL-адрес, с которого можно загрузить файл. Аргумент `cache_dir` указывает каталог, в котором должен быть кэширован загруженный файл, `cache_subdir` указывает подкаталог, в котором должен храниться файл. Аргумент `extract` указывает, следует ли извлекать содержимое загруженного zip-файла.\n",
        "\n"
      ],
      "metadata": {
        "id": "-XDbzjvZBAbc"
      }
    },
    {
      "cell_type": "code",
      "source": [
        "model_name = 'ted_hrlr_translate_pt_en_converter'\n",
        "tf.keras.utils.get_file(\n",
        "    f'{model_name}.zip',\n",
        "    f'https://storage.googleapis.com/download.tensorflow.org/models/{model_name}.zip',\n",
        "    cache_dir='.', cache_subdir='', extract=True\n",
        ")"
      ],
      "metadata": {
        "id": "8NL4zNeC6Ghl",
        "colab": {
          "base_uri": "https://localhost:8080/",
          "height": 71
        },
        "outputId": "9cadd08b-8e08-472d-afbd-ada8ab3e852a"
      },
      "execution_count": null,
      "outputs": [
        {
          "output_type": "stream",
          "name": "stdout",
          "text": [
            "Downloading data from https://storage.googleapis.com/download.tensorflow.org/models/ted_hrlr_translate_pt_en_converter.zip\n",
            "\u001b[1m184801/184801\u001b[0m \u001b[32m━━━━━━━━━━━━━━━━━━━━\u001b[0m\u001b[37m\u001b[0m \u001b[1m0s\u001b[0m 1us/step\n"
          ]
        },
        {
          "output_type": "execute_result",
          "data": {
            "text/plain": [
              "'./ted_hrlr_translate_pt_en_converter.zip'"
            ],
            "application/vnd.google.colaboratory.intrinsic+json": {
              "type": "string"
            }
          },
          "metadata": {},
          "execution_count": 5
        }
      ]
    },
    {
      "cell_type": "markdown",
      "source": [
        "Теперь можно использовать функцию `tf.saved_model.load()` для загрузки токенизаторов из сохраненной модели. Аргумент `model_name` указывает имя сохраненной модели для загрузки, которым в данном случае является `the_hrlr_translate_pt_en_converter`."
      ],
      "metadata": {
        "id": "G7ROGNQfDJD-"
      }
    },
    {
      "cell_type": "code",
      "source": [
        "tokenizers = tf.saved_model.load(model_name)"
      ],
      "metadata": {
        "id": "OvNUC4xk6Gch"
      },
      "execution_count": null,
      "outputs": []
    },
    {
      "cell_type": "markdown",
      "source": [
        "Функция `tokenize` используется для преобразования группы строк в набор идентификаторов токенов с дополнением. Перед токенизацией функция разбивает знаки препинания, преобразует все буквы в нижний регистр и нормализует ввод в формате `Unicode`. Так как входные данные уже стандартизированы, эти шаги не видны в коде. Рассмотрим пример до и после токенизации."
      ],
      "metadata": {
        "id": "g-msMcDRELkN"
      }
    },
    {
      "cell_type": "code",
      "source": [
        "print('Это набор строк:')\n",
        "for en in en_examples.numpy():\n",
        "  print(en.decode('utf-8'))"
      ],
      "metadata": {
        "id": "76-M1sSb6GaR",
        "colab": {
          "base_uri": "https://localhost:8080/"
        },
        "outputId": "23e51efb-64c9-47bf-bcdb-f74361fadcf5"
      },
      "execution_count": null,
      "outputs": [
        {
          "output_type": "stream",
          "name": "stdout",
          "text": [
            "Это набор строк:\n",
            "and when you improve searchability , you actually take away the one advantage of print , which is serendipity .\n",
            "but what if it were active ?\n",
            "but they did n't test for curiosity .\n"
          ]
        }
      ]
    },
    {
      "cell_type": "code",
      "source": [
        "\n",
        "encoded = tokenizers.en.tokenize(en_examples)\n",
        "\n",
        "print('Это набор дополненных идентификаторов токенов (IDs):')\n",
        "for row in encoded.to_list():\n",
        "  print(row)"
      ],
      "metadata": {
        "id": "X3l2ELyt6GX8",
        "colab": {
          "base_uri": "https://localhost:8080/"
        },
        "outputId": "ea5680c0-48cb-4b50-ad96-34bc0c95a61b"
      },
      "execution_count": null,
      "outputs": [
        {
          "output_type": "stream",
          "name": "stdout",
          "text": [
            "Это набор дополненных идентификаторов токенов (IDs):\n",
            "[2, 72, 117, 79, 1259, 1491, 2362, 13, 79, 150, 184, 311, 71, 103, 2308, 74, 2679, 13, 148, 80, 55, 4840, 1434, 2423, 540, 15, 3]\n",
            "[2, 87, 90, 107, 76, 129, 1852, 30, 3]\n",
            "[2, 87, 83, 149, 50, 9, 56, 664, 85, 2512, 15, 3]\n"
          ]
        }
      ]
    },
    {
      "cell_type": "markdown",
      "source": [
        "Метод `detokenize` пытается преобразовать идентификаторы токенов в текст, который может быть легко прочитан и понят человеком."
      ],
      "metadata": {
        "id": "Q1WOQPwmE4Ze"
      }
    },
    {
      "cell_type": "code",
      "source": [
        "round_trip = tokenizers.en.detokenize(encoded)\n",
        "\n",
        "print('Это удобочитаемый текст:')\n",
        "for line in round_trip.numpy():\n",
        "  print(line.decode('utf-8'))"
      ],
      "metadata": {
        "id": "zAcPDVsD6GVj",
        "colab": {
          "base_uri": "https://localhost:8080/"
        },
        "outputId": "df796bd8-cb19-4ffe-f806-4d67c420dadc"
      },
      "execution_count": null,
      "outputs": [
        {
          "output_type": "stream",
          "name": "stdout",
          "text": [
            "Это удобочитаемый текст:\n",
            "and when you improve searchability , you actually take away the one advantage of print , which is serendipity .\n",
            "but what if it were active ?\n",
            "but they did n ' t test for curiosity .\n"
          ]
        }
      ]
    },
    {
      "cell_type": "markdown",
      "source": [
        "Метод `lookup` преобразует идентификаторы токенов в текст токена:\n"
      ],
      "metadata": {
        "id": "f40UTTd4FY8h"
      }
    },
    {
      "cell_type": "code",
      "source": [
        "print('Это текст, разбитый на токены:')\n",
        "tokens = tokenizers.en.lookup(encoded)\n",
        "tokens"
      ],
      "metadata": {
        "id": "cRZfyI5x6GS7",
        "colab": {
          "base_uri": "https://localhost:8080/"
        },
        "outputId": "46a123c0-f330-4c44-ee3d-43f85719995c"
      },
      "execution_count": null,
      "outputs": [
        {
          "output_type": "stream",
          "name": "stdout",
          "text": [
            "Это текст, разбитый на токены:\n"
          ]
        },
        {
          "output_type": "execute_result",
          "data": {
            "text/plain": [
              "<tf.RaggedTensor [[b'[START]', b'and', b'when', b'you', b'improve', b'search', b'##ability',\n",
              "  b',', b'you', b'actually', b'take', b'away', b'the', b'one', b'advantage',\n",
              "  b'of', b'print', b',', b'which', b'is', b's', b'##ere', b'##nd', b'##ip',\n",
              "  b'##ity', b'.', b'[END]']                                                 ,\n",
              " [b'[START]', b'but', b'what', b'if', b'it', b'were', b'active', b'?',\n",
              "  b'[END]']                                                           ,\n",
              " [b'[START]', b'but', b'they', b'did', b'n', b\"'\", b't', b'test', b'for',\n",
              "  b'curiosity', b'.', b'[END]']                                          ]>"
            ]
          },
          "metadata": {},
          "execution_count": 10
        }
      ]
    },
    {
      "cell_type": "markdown",
      "source": [
        "Построим график распределения длин токенов.\n",
        "\n",
        "Сначала для хранения длин токенов создается пустой список под названием `lengths`. Затем для каждой партии из 1024 примеров в обучающем наборе мы можем использовать функции `tokenizers.pt.tokenize()` и `tokenizers.en.tokenize()` для токенизации португальского и английского примеров соответственно. Затем функция `row_lengths()` используется для вычисления количества токенов в каждой строке токенизированных данных, и результирующие длины добавляются в список длин.\n",
        "\n",
        "После обработки всех батчей функция `np.concatenate()` используется для объединения всех длин токенов в один массив `numpy`, называемый `all_lengths`. Затем этот массив используется для создания гистограммы длин токенов с помощью функции `plt.hist()`."
      ],
      "metadata": {
        "id": "M2EcKB4FHOtk"
      }
    },
    {
      "cell_type": "code",
      "source": [
        "lengths = []\n",
        "\n",
        "for pt_examples, en_examples in train_examples.batch(1024):\n",
        "  pt_tokens = tokenizers.pt.tokenize(pt_examples)\n",
        "  lengths.append(pt_tokens.row_lengths())\n",
        "\n",
        "  en_tokens = tokenizers.en.tokenize(en_examples)\n",
        "  lengths.append(en_tokens.row_lengths())\n",
        "  print('.', end='', flush=True)\n",
        "\n",
        "all_lengths = np.concatenate(lengths)\n"
      ],
      "metadata": {
        "id": "MvX44eGv6GQl",
        "colab": {
          "base_uri": "https://localhost:8080/"
        },
        "outputId": "b1d0f88c-6182-49bf-d22a-373ce58c6e6e"
      },
      "execution_count": null,
      "outputs": [
        {
          "output_type": "stream",
          "name": "stdout",
          "text": [
            "..................................................."
          ]
        }
      ]
    },
    {
      "cell_type": "code",
      "source": [
        "plt.hist(all_lengths, np.linspace(0, 500, 101))\n",
        "plt.ylim(plt.ylim())\n",
        "avg_length = all_lengths.mean()\n",
        "plt.plot([avg_length, avg_length], plt.ylim())\n",
        "max_length = max(all_lengths)\n",
        "plt.plot([max_length, max_length], plt.ylim())\n",
        "plt.title(f'Maximum tokens per example: {max_length} and average tokens per example: {avg_length}');"
      ],
      "metadata": {
        "id": "8NnAXLqy6GON",
        "colab": {
          "base_uri": "https://localhost:8080/",
          "height": 452
        },
        "outputId": "71f7815c-ace2-4cb4-af9b-737f346ec27e"
      },
      "execution_count": null,
      "outputs": [
        {
          "output_type": "display_data",
          "data": {
            "text/plain": [
              "<Figure size 640x480 with 1 Axes>"
            ],
            "image/png": "[encoded data removed]"
          },
          "metadata": {}
        }
      ]
    },
    {
      "cell_type": "markdown",
      "source": [
        "## 2.3. Настройка конвейера передачи данных\n",
        "\n",
        "Напишем функцию `prepare_batch()`, которая подготавливает серию примеров для обучения модели машинного перевода. Входными данными для функции являются предложения на португальском и английском языках, а выходными данными - кортеж из двух тензоров, представляющих входную и выходную последовательности для модели.\n",
        "\n",
        "Сначала предложения на португальском языке преобразуются в токены с помощью метода `tokenizers.pt.tokenize()`, который возвращает неравномерный тензор, представляющий преобразованные предложения. Затем код обрезает тензор до максимальной длины `MAX_TOKENS`, используя синтаксис `pt[:, :MAX_TOKENS]`, который выбирает первые токены `MAX_TOKENS` из каждого предложения. Результирующий тензор преобразуется в плотный тензор с нулевым заполнением с помощью метода `pt.to_tensor()`.\n",
        "\n",
        "Английские предложения выделяются и обрезаются аналогичным образом, но с дополнительным шагом. Синтаксис `en[:, :(MAX_TOKENS+1)]` выбирает первые токены `MAX_TOKENS+1` из каждого предложения, которое включает в себя начальный токен `[START]` и конечный токен `[END]`. Тензор `en_inputs` создается путем выбора всех токенов, кроме последнего, в каждом предложении, при этом конечный токен отбрасывается. Тензор `en_labels` создается путем выбора всех токенов, кроме первого, в каждом предложении, при этом начальный токен отбрасывается.\n",
        "\n",
        "Функция возвращает кортеж из двух тензоров `pt, en_inputs` и `en_labels`, которые представляют входную и выходную последовательности для модели машинного перевода. Эти тензоры могут быть использованы для обучения модели с использованием таких методов, как принуждение преподавателя, когда модель обучается предсказывать следующий токен в выходной последовательности, учитывая входную последовательность и последовательность вывода достоверности до этого момента."
      ],
      "metadata": {
        "id": "JQXiIHPIU1Sx"
      }
    },
    {
      "cell_type": "code",
      "source": [
        "MAX_TOKENS=128\n",
        "def prepare_batch(pt, en):\n",
        "    \"\"\"\n",
        "    Предварительная обработка батчей португальских и английских предложений для обучения модели машинного перевода.\n",
        "\n",
        "    Аргументы:\n",
        "        pt: Тензор португальских предложений размерности (batch_size,) и тип tf.string.\n",
        "        en: Тензор английских предложений размерности (batch_size,) и тип tf.string.\n",
        "\n",
        "    Выход:\n",
        "        Набор из двух тензоров, представляющих входную и выходную последовательности для модели, и тензор размерности\n",
        "        (batch_size, max_length) представления основных выходных последовательностей истинности. Тензор входной последовательности имеет\n",
        "        размерность (batch_size, max_length) и тип tf.int64, и тензор выходной последовательности имеет размерность (batch_size, max_length)\n",
        "        и тип tf.int64.\n",
        "    \"\"\"\n",
        "    pt = tokenizers.pt.tokenize(pt)      # Выходные данные.\n",
        "    pt = pt[:, :MAX_TOKENS]    # Обрезать до MAX_TOKENS.\n",
        "    pt = pt.to_tensor()  # Преобразовать в 0-padded dense Tensor\n",
        "\n",
        "    en = tokenizers.en.tokenize(en)\n",
        "    en = en[:, :(MAX_TOKENS+1)]\n",
        "    en_inputs = en[:, :-1].to_tensor()  # Отбросим токены [END]\n",
        "    en_labels = en[:, 1:].to_tensor()   # Отбросим токены [START]\n",
        "\n",
        "    return (pt, en_inputs), en_labels"
      ],
      "metadata": {
        "id": "C4pLQMs86GLz"
      },
      "execution_count": null,
      "outputs": []
    },
    {
      "cell_type": "markdown",
      "source": [
        "Теперь преобразуем набор данных в батчи, готовые к вводу в модель.\n",
        "\n",
        "Следующая функция перетасовывает примеры в наборе данных и разбивает их на батчи размером `BATCH_SIZE`. Затем к каждому батчу применяется функция `prepare_batch`, которая маркирует текст и подготавливает входные и выходные последовательности для модели. Далее выполняется предварительная выборка батчей для повышения производительности во время обучения. Параметр `BUFFER_SIZE` определяет количество примеров, загружаемых в память для перетасовки. Параметр `tf.data.AUTOTUNE` позволяет `TensorFlow` автоматически настраивать входной pipeline для достижения оптимальной производительности.\n",
        "\n"
      ],
      "metadata": {
        "id": "bPJefg1aV5k_"
      }
    },
    {
      "cell_type": "code",
      "source": [
        "BUFFER_SIZE = 20000\n",
        "BATCH_SIZE = 64"
      ],
      "metadata": {
        "id": "hTe_qJSM6GJn"
      },
      "execution_count": null,
      "outputs": []
    },
    {
      "cell_type": "code",
      "source": [
        "def make_batches(ds):\n",
        "  \"\"\"\n",
        "  Эта функция берет набор данных TensorFlow \"ds\" и обрабатывает его в батчи, готовые к отправке в модель.\n",
        "\n",
        "  Параметры:\n",
        "  ds (tf.data.Dataset): Набор данных TensorFlow для пакетной обработки\n",
        "\n",
        "  выход:\n",
        "  tf.data.Dataset: Обработанный и пакетный набор данных TensorFlow\n",
        "\n",
        "  \"\"\"\n",
        "  return (\n",
        "      ds\n",
        "      .shuffle(BUFFER_SIZE)\n",
        "      .batch(BATCH_SIZE)\n",
        "      .map(prepare_batch, tf.data.AUTOTUNE)\n",
        "      .prefetch(buffer_size=tf.data.AUTOTUNE))"
      ],
      "metadata": {
        "id": "rmDdwILj6GG7"
      },
      "execution_count": null,
      "outputs": []
    },
    {
      "cell_type": "markdown",
      "source": [
        "Протестируем функцию `make_batches`"
      ],
      "metadata": {
        "id": "DuFCoHaqXJFm"
      }
    },
    {
      "cell_type": "code",
      "source": [
        "# Создадим батчи для обучающих и валидационных наборов данных\n",
        "train_batches = make_batches(train_examples)\n",
        "val_batches = make_batches(val_examples)\n",
        "\n",
        "for (pt, en), en_labels in train_batches.take(1):\n",
        "  break\n",
        "\n",
        "print(f'pt.shape: {pt.shape}')\n",
        "print(f'en_labels.shape: {en_labels.shape}')"
      ],
      "metadata": {
        "id": "bLLjae4_6GEv",
        "colab": {
          "base_uri": "https://localhost:8080/"
        },
        "outputId": "20f19bbd-2ed9-4ddf-dbc1-f3e0619d0f79"
      },
      "execution_count": null,
      "outputs": [
        {
          "output_type": "stream",
          "name": "stdout",
          "text": [
            "pt.shape: (64, 79)\n",
            "en_labels.shape: (64, 86)\n"
          ]
        }
      ]
    },
    {
      "cell_type": "markdown",
      "source": [
        "Функция `make_batches` подготавливает объекты `tf.data.Dataset` для обучения модели `Keras`. Ожидается, что модель будет принимать входные данные в виде пар токенизированных португальских и английских последовательностей `(pt, en)` и предсказывать английские последовательности, сдвинутые на один токен. Это называется \"принуждение преподавателя\", потому что на каждом временном шаге модель получает истинное значение в качестве входных данных для следующего временного шага независимо от его предыдущего вывода. Это простой и эффективный способ обучения модели генерации текста, поскольку выходные данные могут вычисляться параллельно.\n",
        "\n",
        "Хотя можно было бы ожидать, что пары \"вход-выход\" будут просто последовательностями \"португальский - английский\", эта настройка добавляет \"контекст\" к модели, привязывая ее к португальской последовательности. Можно обучить модель, не привязывая ее к португальской последовательности, но для этого потребуется написать цикл логического вывода и передать выходные данные модели обратно на вход. Это медленнее и сложнее в освоении, но может привести к созданию более стабильной модели, поскольку модель должна научиться исправлять свои собственные ошибки во время обучения.\n",
        "\n",
        "Метки `en` и `en_labels` совпадают, просто сдвинуты на 1:"
      ],
      "metadata": {
        "id": "yTNer5cbYdQr"
      }
    },
    {
      "cell_type": "code",
      "source": [
        "print(f'en[0][:10]: {en[0][:10]}')\n",
        "print(f'en_labels[0][:10]: {en_labels[0][:10]}')"
      ],
      "metadata": {
        "id": "RnMFUfsw6GCP",
        "colab": {
          "base_uri": "https://localhost:8080/"
        },
        "outputId": "49aa093c-2005-449a-a28e-015776205017"
      },
      "execution_count": null,
      "outputs": [
        {
          "output_type": "stream",
          "name": "stdout",
          "text": [
            "en[0][:10]: [   2   10  177   11   78    9  105  364 1325 3908]\n",
            "en_labels[0][:10]: [  10  177   11   78    9  105  364 1325 3908   73]\n"
          ]
        }
      ]
    },
    {
      "cell_type": "markdown",
      "source": [
        "## 2.4. Определим компоненты"
      ],
      "metadata": {
        "id": "IQnXZvOBY1DQ"
      }
    },
    {
      "cell_type": "markdown",
      "source": [
        "### 2.4.1. Embedding и слой позиционного кодирования"
      ],
      "metadata": {
        "id": "ioH4wYpANBqG"
      }
    },
    {
      "cell_type": "markdown",
      "source": [
        "Входы как для кодера, так и для декодера используют одну и ту же логику встраивания и позиционного кодирования.\n",
        "\n",
        "<table>\n",
        "<tr>\n",
        "  <th colspan=1>The embedding and positional encoding layer</th>\n",
        "<tr>\n",
        "<tr>\n",
        "  <td>\n",
        "   <img src=\"https://www.tensorflow.org/images/tutorials/transformer/PositionalEmbedding.png\"/>\n",
        "  </td>\n",
        "</tr>\n",
        "</table>"
      ],
      "metadata": {
        "id": "rrk8Sa29MzGi"
      }
    },
    {
      "cell_type": "markdown",
      "source": [
        "Компоненты кодера и декодера используют одну и ту же логику для преобразования входных токенов в векторы. Это делается с помощью `tf.keras.layers.Embedding`, который создает векторное представление для каждого токена во входной последовательности.\n",
        "\n",
        "Уровни внимания в модели не зависят от порядка следования токенов во входной последовательности, поскольку модель не содержит каких-либо рекуррентных или сверточных уровней, которые по своей сути отражали бы порядок следования. Без способа определить порядок слов модель рассматривала бы входную последовательность как \"набор слов\", где порядок лексем не имеет значения. Например, последовательности \"как дела\", \"как ты поживаешь\" и \"как дела у тебя\" будут рассматриваться моделью как идентичные.\n",
        "\n",
        "Чтобы решить эту проблему, модель `Transformer` добавляет \"Позиционное кодирование\" к векторам встраивания. Позиционное кодирование использует набор синусов и косинусов на разных частотах в последовательности. Каждый токен во входной последовательности имеет уникальную позиционную кодировку, которая фиксирует его положение в последовательности. Соседние токены в последовательности будут иметь аналогичные позиционные кодировки. Включив эту информацию во входное представление, модель может поддерживать последовательный порядок входных токенов и лучше понимать смысл предложения.\n",
        "\n",
        "Формула для вычисления позиционного кодирования выглядит следующим образом:\n",
        "\n",
        "$$\\Large{PE_{(pos, 2i)} = \\sin(pos / 10000^{2i / d_{model}})} $$\n",
        "$$\\Large{PE_{(pos, 2i+1)} = \\cos(pos / 10000^{2i / d_{model}})} $$\n",
        "\n",
        "\n",
        "Функция `positional_encoding` генерирует матрицу позиционных кодировок для входной последовательности. Целью позиционного кодирования является добавление информации о положении каждого токена в последовательности, чтобы механизм самонаблюдения в преобразователе мог различать различные положения токенов.\n",
        "\n",
        "Функция принимает два аргумента: `length`, который определяет длину входной последовательности, и `depth`, который определяет размерность кодировки.\n",
        "\n",
        "Функция сначала создает две матрицы: `positions` и `depths`. `positions` имеют размерность `(length, 1)` и содержат индексы позиций во входной последовательности. `depths` имеют форму `(1, depth/2)` и содержат значения в диапазоне от 0 до `depth/2-1`, которые затем нормализуются на `depth/2`.\n",
        "\n",
        "Затем функция вычисляет угловые значения, используя формулу `1 / (10000**depths)`, которая имеет размерность `(1, depth/2)`. Угловые значения используются для вычисления угловых радиан по формуле `positions * angle_rates`, которая имеет форму `(length, depth/2)`.\n",
        "\n",
        "Наконец, функция объединяет значения синуса и косинуса в радианах угла вдоль последней оси, чтобы создать матрицу кодирования положения, которая имеет размерность `(length, dept)`. Затем результирующая матрица преобразуется в `f.float32` и возвращается."
      ],
      "metadata": {
        "id": "otp1lQsDIW4Y"
      }
    },
    {
      "cell_type": "code",
      "source": [
        "def positional_encoding(length, depth):\n",
        "  \"\"\"\n",
        "  Генерирует матрицу кодировок положения для входной последовательности.\n",
        "\n",
        "  Аргументы:\n",
        "      length: целое число, представляющее длину входной последовательности.\n",
        "      depth: целое число, представляющее размерность кодировки.\n",
        "\n",
        "  Выходы:\n",
        "      `tf.Tensor` размерности `(length, depth)` представляющий собой матрицу кодирования положения.\n",
        "  \"\"\"\n",
        "  depth = depth/2\n",
        "\n",
        "  positions = np.arange(length)[:, np.newaxis]     # (seq, 1)\n",
        "  depths = np.arange(depth)[np.newaxis, :]/depth   # (1, depth)\n",
        "\n",
        "  angle_rates = 1 / (10000**depths)         # (1, depth)\n",
        "  angle_rads = positions * angle_rates      # (pos, depth)\n",
        "\n",
        "  pos_encoding = np.concatenate(\n",
        "      [np.sin(angle_rads), np.cos(angle_rads)],\n",
        "      axis=-1)\n",
        "\n",
        "  return tf.cast(pos_encoding, dtype=tf.float32)"
      ],
      "metadata": {
        "id": "anu5uaGw6F_Z"
      },
      "execution_count": null,
      "outputs": []
    },
    {
      "cell_type": "markdown",
      "source": [
        "Функция кодирования положения использует последовательность синусов и косинусов, которые колеблются с различной частотой в зависимости от того, где они расположены по глубине вектора внедрения. Эти колебания происходят поперек оси положения. Давайте представим это в виде графика `pcolormesh` (псевдоцветной график с нерегулярной прямоугольной сеткой)."
      ],
      "metadata": {
        "id": "4dPq0tKLOjLM"
      }
    },
    {
      "cell_type": "code",
      "source": [
        "#@title\n",
        "pos_encoding = positional_encoding(length=2048, depth=512)\n",
        "\n",
        "# Check the shape.\n",
        "print(pos_encoding.shape)\n",
        "\n",
        "# Plot the dimensions.\n",
        "plt.pcolormesh(pos_encoding.numpy().T, cmap='RdBu')\n",
        "plt.ylabel('Глубина')\n",
        "plt.xlabel('Позиция')\n",
        "plt.colorbar()\n",
        "plt.show()"
      ],
      "metadata": {
        "id": "m7sZHG0I6F88",
        "colab": {
          "base_uri": "https://localhost:8080/",
          "height": 473
        },
        "outputId": "19eff6b3-376d-4b00-eaa4-c1e23d8a85c2"
      },
      "execution_count": null,
      "outputs": [
        {
          "output_type": "stream",
          "name": "stdout",
          "text": [
            "(2048, 512)\n"
          ]
        },
        {
          "output_type": "display_data",
          "data": {
            "text/plain": [
              "<Figure size 640x480 with 2 Axes>"
            ],
            "image/png": "[encoded data removed]"
          },
          "metadata": {}
        }
      ]
    },
    {
      "cell_type": "markdown",
      "source": [
        "Цель этого графика - визуализировать матрицу позиционного кодирования и увидеть, как она изменяется в зависимости от положения и глубины последовательности. Это также помогает обеспечить правильную нормализацию и распределение значений кодирования по матрице\n",
        "\n",
        "Давайте визуализируем косинусное сходство между вектором позиционного кодирования с индексом 1000 и всеми остальными векторами в матрице позиционного кодирования.\n",
        "\n",
        "Векторы позиционного кодирования сначала нормализуются с помощью `L2` нормализации. Затем код вычисляет скалярное произведение между вектором позиционного кодирования с индексом 1000 и всеми остальными векторами в матрице, используя функцию `einsum`. Полученные точечные произведения отображаются на графике, где ось `y` представляет значения косинусного сходства между векторами.\n"
      ],
      "metadata": {
        "id": "QkWh13SOPAec"
      }
    },
    {
      "cell_type": "code",
      "source": [
        "#@title\n",
        "pos_encoding/=tf.norm(pos_encoding, axis=1, keepdims=True)\n",
        "p = pos_encoding[1000]\n",
        "dots = tf.einsum('pd,d -> p', pos_encoding, p)\n",
        "plt.subplot(2,1,1)\n",
        "plt.plot(dots)\n",
        "plt.ylim([0,1])\n",
        "plt.plot([950, 950, float('nan'), 1050, 1050],\n",
        "         [0,1,float('nan'),0,1], color='k', label='Zoom')\n",
        "plt.legend()\n",
        "plt.subplot(2,1,2)\n",
        "plt.plot(dots)\n",
        "plt.xlim([950, 1050])\n",
        "plt.ylim([0,1])\n"
      ],
      "metadata": {
        "id": "4yGGwm896F6c",
        "colab": {
          "base_uri": "https://localhost:8080/",
          "height": 453
        },
        "outputId": "fa2b18d9-2844-4f22-851d-0967ca55f9ab"
      },
      "execution_count": null,
      "outputs": [
        {
          "output_type": "execute_result",
          "data": {
            "text/plain": [
              "(0.0, 1.0)"
            ]
          },
          "metadata": {},
          "execution_count": 20
        },
        {
          "output_type": "display_data",
          "data": {
            "text/plain": [
              "<Figure size 640x480 with 2 Axes>"
            ],
            "image/png": "[encoded data removed]"
          },
          "metadata": {}
        }
      ]
    },
    {
      "cell_type": "markdown",
      "source": [
        "На первом графике показан полный график косинусного сходства, в то время как на втором графике увеличены значения косинусного сходства между индексами 950 и 1050.\n",
        "\n",
        "Эта визуализация помогает проиллюстрировать, как векторы позиционного кодирования кодируют информацию о местоположении каждого токена в последовательности. Значения косинусоидального подобия являются самыми высокими для векторов, расположенных близко друг к другу вдоль оси координат, что указывает на то, что они содержат сходную информацию о местоположении.\n",
        "\n",
        "Создадим класс `Position Embedding`. Это `tf.keras.layers.Layer`, который объединяет слой embedding и слой позиционного кодирования для создания слоя, который можно использовать для кодирования входных последовательностей в модели `transformer`.\n",
        "\n",
        "Класс принимает два аргумента: `vocab_size`, который является размером словаря входных последовательностей, и `d_model`, который является размером векторов embedding и позиционного кодирования.\n",
        "\n",
        "В конструкторе он создает слой `Embedding`, который сопоставляет входные токены с их соответствующими векторами встраивания, и матрицу позиционного кодирования формы `(max_length, d_model)`, используя функцию `positional_encoding`.\n",
        "\n",
        "Метод `compute_mask` этого класса возвращает маску той же формы, что и входной тензор для слоя embedding.\n",
        "\n",
        "В методе `call` входной тензор сначала передается через слой embedding, а затем масштабируется на квадратный корень из значения `d_model`. Затем матрица позиционного кодирования добавляется к выходным данным embedding, соответствующим каждому входному токену. Наконец, возвращается закодированная входная последовательность."
      ],
      "metadata": {
        "id": "49bRm5m8POPl"
      }
    },
    {
      "cell_type": "code",
      "source": [
        "class PositionalEmbedding(tf.keras.layers.Layer):\n",
        "  \"\"\"\n",
        "  Этот слой объединяет входной embedding с позиционным кодированием, которое помогает трансформеру понять\n",
        "относительное расположение токенов в последовательности. Он принимает входную последовательность токенов и преобразует ее в\n",
        "последовательность векторов embedding, а затем добавляет к ней информацию о местоположении.\n",
        "\n",
        "  Аттрибуты:\n",
        "      vocab_size (int): Размер словаря, т.е. количество уникальных токенов во входной последовательности.\n",
        "      d_model (int): Количество измерений в векторе встраивания.\n",
        "\n",
        "  Методы:\n",
        "      compute_mask(*args, **kwargs): Вычисляет маску, которая будет применена к вложениям.\n",
        "      call(x): Выполняет вычисления для слоя.\n",
        "\n",
        "  \"\"\"\n",
        "  def __init__(self, vocab_size, d_model):\n",
        "    \"\"\"\n",
        "    Инициализируем слой PositionalEmbedding.\n",
        "\n",
        "    Аргументы:\n",
        "        vocab_size (int): Размер словаря, т.е. количество уникальных токенов во входной последовательности.\n",
        "        d_model (int): Количество измерений в векторе embedding.\n",
        "    \"\"\"\n",
        "    super().__init__()\n",
        "    self.d_model = d_model\n",
        "    self.embedding = tf.keras.layers.Embedding(vocab_size, d_model, mask_zero=True)\n",
        "    self.pos_encoding = positional_encoding(length=2048, depth=d_model)\n",
        "\n",
        "  def compute_mask(self, *args, **kwargs):\n",
        "    \"\"\"\n",
        "    Вычисляет маску, которая будет применена к вложениям.\n",
        "\n",
        "    Аргументы:\n",
        "        *args: Список аргументов переменной длины.\n",
        "        **kwargs: Произвольные аргументы ключевого слова.\n",
        "\n",
        "    Выходы:\n",
        "        Маска, которая будет применена к встраиваемым элементам.\n",
        "    \"\"\"\n",
        "    return self.embedding.compute_mask(*args, **kwargs)\n",
        "\n",
        "  def call(self, x):\n",
        "    \"\"\"\n",
        "    Вычисляет выходные данные слоя.\n",
        "\n",
        "    Аргументы:\n",
        "        x (tf.Tensor): Входная последовательность токенов.\n",
        "\n",
        "    Выходы:\n",
        "        Выходная последовательность векторов embedding с добавленной позиционной информацией.\n",
        "    \"\"\"\n",
        "    length = tf.shape(x)[1]\n",
        "    x = self.embedding(x)\n",
        "    # Этот коэффициент устанавливает относительный масштаб встраивания и позиционного кодирования.\n",
        "    x *= tf.math.sqrt(tf.cast(self.d_model, tf.float32))\n",
        "    x = x + self.pos_encoding[tf.newaxis, :length, :]\n",
        "    return x\n"
      ],
      "metadata": {
        "id": "hNB6rkPK6F4J"
      },
      "execution_count": null,
      "outputs": []
    },
    {
      "cell_type": "code",
      "source": [
        "class PositionalEmbedding(tf.keras.layers.Layer):\n",
        "  def __init__(self, vocab_size, d_model):\n",
        "    super().__init__()\n",
        "    self.d_model = d_model\n",
        "    self.embedding = tf.keras.layers.Embedding(vocab_size, d_model, mask_zero=True)\n",
        "    self.pos_encoding = positional_encoding(length=2048, depth=d_model)\n",
        "\n",
        "  def compute_mask(self, *args, **kwargs):\n",
        "    return self.embedding.compute_mask(*args, **kwargs)\n",
        "\n",
        "  def call(self, x):\n",
        "    length = tf.shape(x)[1]\n",
        "    x = self.embedding(x)\n",
        "    # Этот коэффициент устанавливает относительный масштаб встраивания и позиционного кодирования.\n",
        "    x *= tf.math.sqrt(tf.cast(self.d_model, tf.float32))\n",
        "    x = x + self.pos_encoding[tf.newaxis, :length, :]\n",
        "    return x"
      ],
      "metadata": {
        "id": "vRr1KcZ4kCcT"
      },
      "execution_count": null,
      "outputs": []
    },
    {
      "cell_type": "code",
      "source": [
        "vocab_size=tokenizers.pt.get_vocab_size()\n",
        "vocab_size"
      ],
      "metadata": {
        "colab": {
          "base_uri": "https://localhost:8080/"
        },
        "id": "iJVc5dtIkahN",
        "outputId": "67701456-abbe-4ed4-9e13-fee2c987962d"
      },
      "execution_count": null,
      "outputs": [
        {
          "output_type": "execute_result",
          "data": {
            "text/plain": [
              "<tf.Tensor: shape=(), dtype=int32, numpy=7765>"
            ]
          },
          "metadata": {},
          "execution_count": 23
        }
      ]
    },
    {
      "cell_type": "markdown",
      "source": [
        "**Примечание:**  Согласно [руководству по tensflow] (https://www.tensorflow.org/text/tutorials/transformer), в [оригинальной статье] (https://arxiv.org/pdf/1706.03762.pdf), разделах 3.4 и 5.1, используется единый токенизатор и весовая матрица как для исходного, так и для целевого языков. Здесь используются два отдельных токенизатора и весовые матрицы.\n",
        "\n",
        "Создадим два экземпляра класса `PositionalEmbedding`, один для португальского токенизатора и один для английского токенизатора. Мы передаем размер словаря каждого токенизатора и значение для `d_model`, которое является размерностью вектора внедрения.\n",
        "\n",
        "Затем мы вызываем эти экземпляры в наших токенизированных предложениях на португальском и английском языках (`pt` и `en`) соответственно. Результатом каждого вызова является встроенное представление предложения, где каждый токен представлен в виде вектора с добавленной к нему позиционной кодировкой, как описано в классе `PositionalEmbedding`.\n",
        "\n",
        "Полученные в результате встраивания данные могут быть использованы в качестве входных данных для кодера и декодера модели трансформера."
      ],
      "metadata": {
        "id": "iMsr1w65VfSp"
      }
    },
    {
      "cell_type": "code",
      "source": [
        "embed_pt = PositionalEmbedding(vocab_size=tokenizers.pt.get_vocab_size().numpy(), d_model=512)\n",
        "embed_en = PositionalEmbedding(vocab_size=tokenizers.en.get_vocab_size().numpy(), d_model=512)\n",
        "\n",
        "pt_emb = embed_pt(pt)\n",
        "en_emb = embed_en(en)"
      ],
      "metadata": {
        "id": "pE3inedG6F1z"
      },
      "execution_count": null,
      "outputs": []
    },
    {
      "cell_type": "markdown",
      "source": [
        "В `Keras` маскирование используется для указания временных шагов, которые следует игнорировать во время обработки, например, для заполнения временных шагов. Атрибут `_keras_mask` возвращает логический тензор той же формы, что и `en_emb`, который указывает, какие временные шаги следует маскировать (`True` для замаскированных временных шагов, `False` для немаскированных временных шагов). Если временной интервал замаскирован, это означает, что соответствующие ему значения будут проигнорированы во время вычисления."
      ],
      "metadata": {
        "id": "BxqDfGhNZVn8"
      }
    },
    {
      "cell_type": "code",
      "source": [
        "en_emb._keras_mask"
      ],
      "metadata": {
        "id": "IhyHR2At6Fzk",
        "colab": {
          "base_uri": "https://localhost:8080/"
        },
        "outputId": "eece381d-3baf-4913-bf02-ce214bc264f4"
      },
      "execution_count": null,
      "outputs": [
        {
          "output_type": "execute_result",
          "data": {
            "text/plain": [
              "<tf.Tensor: shape=(64, 86), dtype=bool, numpy=\n",
              "array([[ True,  True,  True, ..., False, False, False],\n",
              "       [ True,  True,  True, ..., False, False, False],\n",
              "       [ True,  True,  True, ..., False, False, False],\n",
              "       ...,\n",
              "       [ True,  True,  True, ..., False, False, False],\n",
              "       [ True,  True,  True, ..., False, False, False],\n",
              "       [ True,  True,  True, ..., False, False, False]])>"
            ]
          },
          "metadata": {},
          "execution_count": 25
        }
      ]
    },
    {
      "cell_type": "markdown",
      "source": [
        "### 2.4.5. Add и normalize"
      ],
      "metadata": {
        "id": "VGZwRLDwZeRI"
      }
    },
    {
      "cell_type": "markdown",
      "source": [
        "<table>\n",
        "<tr>\n",
        "  <th colspan=2>Add and normalize</th>\n",
        "<tr>\n",
        "<tr>\n",
        "  <td>\n",
        "   <img src=\"https://www.tensorflow.org/images/tutorials/transformer/Add+Norm.png\"/>\n",
        "  </td>\n",
        "</tr>\n",
        "</table>"
      ],
      "metadata": {
        "id": "-O1t0UM9NRvr"
      }
    },
    {
      "cell_type": "markdown",
      "source": [
        "Блоки `Add & Norm` используются в модели `Transformer` и помогают в эффективном обучении. Эти блоки состоят из остаточного соединения, которое обеспечивает прямой путь для градиента и гарантирует, что векторы обновляются, а не заменяются уровнями внимания, и слоя `LayerNormalization`, который поддерживает приемлемый масштаб для выходных данных. Эти блоки разбросаны по всей модели, и код организован вокруг них. Для каждого блока определены пользовательские классы слоев. Слой добавления используется в реализации для обеспечения распространения масок `Keras`, поскольку оператор `+` этого не делает.\n",
        "\n",
        "**Примечание:** В случае остаточного добавления исходные входные данные слоя добавляются к выходным данным этого слоя, создавая \"остаточное\" соединение, которое позволяет градиенту обходить слой во время обратного распространения. Это помогает предотвратить исчезновение градиентов и позволяет весам продолжать обновляться во время тренировки. В случае модели `Transformer` остаточные соединения используются в сочетании с нормализацией уровня, что повышает эффективность тренировки и поддерживает приемлемый масштаб результатов."
      ],
      "metadata": {
        "id": "y16GVDIjbrWF"
      }
    },
    {
      "cell_type": "markdown",
      "source": [
        "### 2.4.6. Слой внимания"
      ],
      "metadata": {
        "id": "xTQIoUY1NhwC"
      }
    },
    {
      "cell_type": "markdown",
      "source": [
        "\n",
        "\n",
        "<table>\n",
        "<tr>\n",
        "  <th colspan=2>The base attention layer</th>\n",
        "<tr>\n",
        "<tr>\n",
        "  <td>\n",
        "   <img src=\"https://www.tensorflow.org/images/tutorials/transformer/BaseAttention.png\"/>\n",
        "  </td>\n",
        "</tr>\n",
        "</table>"
      ],
      "metadata": {
        "id": "V_H3g2ISNh4B"
      }
    },
    {
      "cell_type": "markdown",
      "source": [
        "Модель включает в себя блоки внимания, каждый из которых содержит `layers.MultiHeadAttention`, `layers.LayerNormalization` и `layers.Add`. Чтобы создать эти уровни внимания, сначала определяем базовый класс, который включает в себя эти три компонента, а затем создаем специальные подклассы для каждого варианта использования. Хотя это требует написания большего количества кода, такой подход помогает сохранить реализацию организованной и простой для понимания.\n",
        "\n",
        "Класс содержит три слоя, `tf.keras.layers.MultiHeadAttention`, `tf.keras.layers.LayerNormalization`, и `tf.keras.layers.Add`.\n",
        "\n",
        "- Слой `tf.keras.layers.MultiHeadAttention` отвечает за вычисление весов внимания между входной и выходной последовательностями.\n",
        "- Слой `tf.keras.layers.LayerNormalization` нормализует активацию слоя в измерениях пакета и объекта.\n",
        "- `tf.keras.layers.Add` добавляет выходные данные слоя `MultiHeadAttention` к исходной входной последовательности, используя остаточное соединение.\n",
        "\n",
        "Создав базовый класс с этими уровнями, мы можем повторно использовать этот код для создания различных механизмов управления вниманием, наследуя от этого класса и определяя конкретные детали реализации. Это помогает сохранить код организованным и понятным.\n"
      ],
      "metadata": {
        "id": "SnmrtMYMfNw_"
      }
    },
    {
      "cell_type": "code",
      "source": [
        "class BaseAttention(tf.keras.layers.Layer):\n",
        "  \"\"\"\n",
        "  Базовый класс слоя Attention, который содержит MultiHeadAttention, LayerNormalization и Add слой.\n",
        "\n",
        "  Аттрибуты:\n",
        "\n",
        "  kwargs: dict\n",
        "      аргументы ключевых слов, которые будут переданы на уровень MultiHead Attention во время инициализации.\n",
        "\n",
        "  Методы:\n",
        "\n",
        "  call(inputs, mask=None, training=None):\n",
        "      Выполняет прямой проход по входным данным и возвращает выходные данные.\n",
        "\n",
        "  \"\"\"\n",
        "  def __init__(self, **kwargs):\n",
        "    \"\"\"\n",
        "    Инициализирует новый экземпляр базового класса уровня внимания.\n",
        "\n",
        "    Параметры:\n",
        "    -----------\n",
        "    kwargs: dict\n",
        "        аргументы ключевых слов, которые будут переданы на уровень MultiHead Attention во время инициализации.\n",
        "    \"\"\"\n",
        "    super().__init__()\n",
        "    self.mha = tf.keras.layers.MultiHeadAttention(**kwargs)\n",
        "    self.layernorm = tf.keras.layers.LayerNormalization()\n",
        "    self.add = tf.keras.layers.Add()"
      ],
      "metadata": {
        "id": "87yzDMJyZeEX"
      },
      "execution_count": null,
      "outputs": []
    },
    {
      "cell_type": "markdown",
      "source": [
        "**Как работает внимание?**\n",
        "\n",
        "На уровне внимания есть два входных сигнала: **последовательность запросов** и ** контекстная последовательность**. Последовательность запросов - это обрабатываемая последовательность, в то время как контекстная последовательность - это последовательность, на которую обращают внимание. Выходные данные имеют ту же форму, что и последовательность запросов.\n",
        "\n",
        "Работу уровня внимания часто сравнивают с поиском по словарю, но с нечеткими, дифференцируемыми и векторизованными характеристиками. Как и поиск по словарю, запрос используется для поиска соответствующей информации, которая представлена в виде **ключей** и **значений**. При поиске запроса в обычном словаре возвращается соответствующий ключ и соответствующее ему значение. Однако в нечетком словаре запрос не обязательно должен идеально соответствовать ключу, чтобы возвращаемое значение соответствовало ему.\n",
        "\n",
        "Например, если мы выполним поиск по ключу \"вид\" в словаре `{'color': 'blue', 'age': 22, 'type': 'pickup'}`, он может вернуть значение \"pickup\" как наиболее подходящее для запроса.\n",
        "\n",
        "**Уровень внимания работает аналогично поиску по нечеткому словарю, но вместо того, чтобы возвращать одно значение, он объединяет несколько значений в зависимости от того, насколько хорошо они соответствуют запросу.** Запрос, ключ и значение на уровне внимания представлены в виде векторов. Вместо использования поиска по хэшу, уровень внимания объединяет запрос и ключевые векторы, чтобы определить, насколько хорошо они совпадают, что называется оценкой внимания. Затем значения объединяются путем вычисления средневзвешенного значения всех значений, где веса определяются оценками внимания.\n",
        "\n",
        "В контексте NLP последовательность запросов может предоставлять вектор запроса в каждом местоположении, в то время как последовательность контекста служит словарем с ключом и вектором значений в каждом местоположении. Перед использованием входных векторов используются `layers.MultiHeadAttention` включает в себя `layers.Dense` слои для проецирования входных векторов."
      ],
      "metadata": {
        "id": "-rzqi3Fyk821"
      }
    },
    {
      "cell_type": "markdown",
      "source": [
        "Cоздадим:\n",
        "\n",
        "- Перекрестный уровень внимания: Decoder-encoder attention\n",
        "- Глобальный уровень самовнимания: Encoder self-attention\n",
        "- Каузальный уровень самовнимания: Decoder self-attention\n",
        "\n",
        "![рисунок](https://github.com/arminnorouzi/machine_learning_course_UofA_MECE610/blob/main/L07_Generative_AI/figures/transformers.png?raw=true) Источник: [1-2]"
      ],
      "metadata": {
        "id": "H502TypxjzPS"
      }
    },
    {
      "cell_type": "markdown",
      "source": [
        "#### 2.4.6.1. Перекрестный уровень внимания: Decoder-encoder attention\n"
      ],
      "metadata": {
        "id": "sGmU9cLKnHeM"
      }
    },
    {
      "cell_type": "markdown",
      "source": [
        "<table>\n",
        "<tr>\n",
        "  <th colspan=1>The cross attention layer</th>\n",
        "<tr>\n",
        "<tr>\n",
        "  <td>\n",
        "   <img src=\"https://www.tensorflow.org/images/tutorials/transformer/CrossAttention.png\"/>\n",
        "  </td>\n",
        "</tr>\n",
        "</table>"
      ],
      "metadata": {
        "id": "9n1WsaquQyrO"
      }
    },
    {
      "cell_type": "markdown",
      "source": [
        "Напишем класс `Cross Attention`, унаследовав его от класса `Base Attention`, который содержит многоуровневый уровень внимания, уровень нормализации уровня и дополнительный уровень.\n",
        "\n",
        "Метод `call` принимает два входных аргумента, `x` и `context`. `x` - это последовательность запросов, которая обрабатывается и выполняет проверку, а `context` - это последовательность `context`, на которую обращают внимание.\n",
        "\n",
        "Метод `call` передает `x` и `context` на уровень `self.mha`  (multi-head attention), который возвращает тензор выходных данных внимания и тензор оценок внимания. Атрибуту `self.last_attn_scores` присваивается значение тензора оценок внимания для последующего построения графика.\n",
        "\n",
        "Затем тензор выходного сигнала `attention` добавляется к исходному тензору `x`  с помощью слоя `self.add`, и результат нормализуется с помощью слоя `self.layernorm`. Затем возвращается окончательный результат."
      ],
      "metadata": {
        "id": "Nv31vak6nYNR"
      }
    },
    {
      "cell_type": "code",
      "source": [
        "class CrossAttention(BaseAttention):\n",
        "  \"\"\"\n",
        "  Класс, реализующий механизм перекрестного внимания путем наследования от класса BaseAttention.\n",
        "  Перекрестное внимание используется для обработки двух разных последовательностей и учитывает контекстную последовательность при обработке\n",
        "  последовательности запросов.\n",
        "  Наследует:\n",
        "      BaseAttention: Базовый класс, который определяет слой MultiHeadAttention, LayerNormalization, и Add operation.\n",
        "  Аргументы:\n",
        "      **kwargs: Аргументы для передачи в слой MultiHeadAttention.\n",
        "  \"\"\"\n",
        "  def call(self, x, context):\n",
        "    \"\"\"\n",
        "    Функция вызова, которая выполняет операцию перекрестного внимания.\n",
        "\n",
        "    Аргументы:\n",
        "        x: Тензор последовательности запросов, shape=(batch_size, seq_len, embedding_dim)\n",
        "        context: Тензор контекстной последовательности, shape=(batch_size, seq_len, embedding_dim)\n",
        "\n",
        "    Выходы:\n",
        "        Соответствующий тензор выходных данных, shape=(batch_size, seq_len, embedding_dim)\n",
        "    \"\"\"\n",
        "    attn_output, attn_scores = self.mha(\n",
        "        query=x,\n",
        "        key=context,\n",
        "        value=context,\n",
        "        return_attention_scores=True)\n",
        "\n",
        "    # Сохраним результаты оценки внимания для последующего построения графика.\n",
        "    self.last_attn_scores = attn_scores\n",
        "\n",
        "    x = self.add([x, attn_output])\n",
        "    x = self.layernorm(x)\n",
        "\n",
        "    return x"
      ],
      "metadata": {
        "id": "sMK1HCrdZeCM"
      },
      "execution_count": null,
      "outputs": []
    },
    {
      "cell_type": "code",
      "source": [
        "sample_ca = CrossAttention(num_heads=2, key_dim=512)\n",
        "\n",
        "print(pt_emb.shape)\n",
        "print(en_emb.shape)\n",
        "print(sample_ca(en_emb, pt_emb).shape)"
      ],
      "metadata": {
        "id": "3ycWWzWlZd_x",
        "colab": {
          "base_uri": "https://localhost:8080/"
        },
        "outputId": "c7f9780a-0220-4dcc-e264-933a4448e2fc"
      },
      "execution_count": null,
      "outputs": [
        {
          "output_type": "stream",
          "name": "stdout",
          "text": [
            "(64, 79, 512)\n",
            "(64, 86, 512)\n"
          ]
        },
        {
          "output_type": "stream",
          "name": "stderr",
          "text": [
            "/usr/local/lib/python3.10/dist-packages/keras/src/layers/layer.py:915: UserWarning: Layer 'query' (of type EinsumDense) was passed an input with a mask attached to it. However, this layer does not support masking and will therefore destroy the mask information. Downstream layers will not see the mask.\n",
            "  warnings.warn(\n",
            "/usr/local/lib/python3.10/dist-packages/keras/src/layers/layer.py:915: UserWarning: Layer 'key' (of type EinsumDense) was passed an input with a mask attached to it. However, this layer does not support masking and will therefore destroy the mask information. Downstream layers will not see the mask.\n",
            "  warnings.warn(\n",
            "/usr/local/lib/python3.10/dist-packages/keras/src/layers/layer.py:915: UserWarning: Layer 'value' (of type EinsumDense) was passed an input with a mask attached to it. However, this layer does not support masking and will therefore destroy the mask information. Downstream layers will not see the mask.\n",
            "  warnings.warn(\n"
          ]
        },
        {
          "output_type": "stream",
          "name": "stdout",
          "text": [
            "(64, 86, 512)\n"
          ]
        },
        {
          "output_type": "stream",
          "name": "stderr",
          "text": [
            "/usr/local/lib/python3.10/dist-packages/keras/src/layers/layer.py:915: UserWarning: Layer 'cross_attention' (of type CrossAttention) was passed an input with a mask attached to it. However, this layer does not support masking and will therefore destroy the mask information. Downstream layers will not see the mask.\n",
            "  warnings.warn(\n"
          ]
        }
      ]
    },
    {
      "cell_type": "markdown",
      "source": [
        "Выходная `length` - это длина последовательности запроса, а не длина контекстной последовательности `key/value`."
      ],
      "metadata": {
        "id": "Xtl7SCLwsmcN"
      }
    },
    {
      "cell_type": "markdown",
      "source": [
        "#### 2.4.6.2. Глобальный слой самовнимания: Encoder self-attention"
      ],
      "metadata": {
        "id": "W1MS8K1BSOls"
      }
    },
    {
      "cell_type": "markdown",
      "source": [
        "<table>\n",
        "<tr>\n",
        "  <th colspan=1>The global self-attention layer</th>\n",
        "<tr>\n",
        "<tr>\n",
        "  <td>\n",
        "   <img src=\"https://www.tensorflow.org/images/tutorials/transformer/SelfAttention.png\"/>\n",
        "  </td>\n",
        "</tr>\n",
        "</table>"
      ],
      "metadata": {
        "id": "eqVparwqSY9R"
      }
    },
    {
      "cell_type": "markdown",
      "source": [
        "Этот слой отвечает за обработку контекстной последовательности и распространение информации по всей ее длине. Напишем `GlobalSelfAttention`, унаследовав его от уровня `baseAttention`.\n",
        "\n",
        "В `GlobalSelfAttention` есть только один входной сигнал `x`, который представляет собой последовательность векторов, представляющих обрабатываемую последовательность. Этот входной сигнал используется в качестве запроса, ключа и значения для механизма `multi-head attention` (`MHA`). `MHA` вычисляет средневзвешенное значение значений на основе того, насколько хорошо запрос соответствует ключам, где баллы за внимание определяют вес каждого значения.\n",
        "\n",
        "Другими словами, `MHA` учится избирательно фокусироваться на различных частях входной последовательности, что может помочь модели получить релевантную информацию для конкретной задачи. В `GlobalSelfAttention`, поскольку входная последовательность используется как для `query`, так и для `key`, она фиксирует взаимосвязь между каждой позицией и всеми другими позициями в последовательности.\n",
        "\n",
        "Наконец, выходные данные `MHA` добавляются к исходным входным данным, после чего выполняется нормализация уровня, чтобы получить окончательный результат для уровня внимания. Нормализация помогает стабилизировать процесс обучения и повышает производительность модели."
      ],
      "metadata": {
        "id": "uDPuswcCnUGL"
      }
    },
    {
      "cell_type": "code",
      "source": [
        "class GlobalSelfAttention(BaseAttention):\n",
        "  def call(self, x):\n",
        "    \"\"\"\n",
        "    Применим глобальный механизм self-attention к входной последовательности\n",
        "\n",
        "    Аргументы:\n",
        "        x: Тензор размерности `(batch_size, seq_len, embedding_dim)`\n",
        "        представляющий входную последовательность.\n",
        "\n",
        "    Выходы:\n",
        "        Тензор той же формы, что и входные данные, представляющий последовательность\n",
        "        после преобразования механизмом self-attention.\n",
        "    \"\"\"\n",
        "    attn_output = self.mha(\n",
        "        query=x,\n",
        "        value=x,\n",
        "        key=x)\n",
        "    x = self.add([x, attn_output])\n",
        "    x = self.layernorm(x)\n",
        "    return x"
      ],
      "metadata": {
        "id": "joxGnjLeZd67"
      },
      "execution_count": null,
      "outputs": []
    },
    {
      "cell_type": "code",
      "source": [
        "sample_gsa = GlobalSelfAttention(num_heads=2, key_dim=512)\n",
        "\n",
        "print(pt_emb.shape)\n",
        "print(sample_gsa(pt_emb).shape)"
      ],
      "metadata": {
        "id": "0amzzHxgZd4n",
        "colab": {
          "base_uri": "https://localhost:8080/"
        },
        "outputId": "6f25d759-db32-4678-f308-ea227da746f1"
      },
      "execution_count": null,
      "outputs": [
        {
          "output_type": "stream",
          "name": "stdout",
          "text": [
            "(64, 79, 512)\n",
            "(64, 79, 512)\n"
          ]
        },
        {
          "output_type": "stream",
          "name": "stderr",
          "text": [
            "/usr/local/lib/python3.10/dist-packages/keras/src/layers/layer.py:915: UserWarning: Layer 'global_self_attention' (of type GlobalSelfAttention) was passed an input with a mask attached to it. However, this layer does not support masking and will therefore destroy the mask information. Downstream layers will not see the mask.\n",
            "  warnings.warn(\n"
          ]
        }
      ]
    },
    {
      "cell_type": "markdown",
      "source": [
        "Выходной тензор имеет ту же размерность, что и входной"
      ],
      "metadata": {
        "id": "WBM8rwQFthQG"
      }
    },
    {
      "cell_type": "markdown",
      "source": [
        "#### 2.4.6.3. Слой каузального самовнимания: Decoder self-attention"
      ],
      "metadata": {
        "id": "X_BU6LJBnVXa"
      }
    },
    {
      "cell_type": "markdown",
      "source": [
        "<table>\n",
        "<tr>\n",
        "  <th colspan=1>The causal self-attention layer</th>\n",
        "<tr>\n",
        "<tr>\n",
        "  <td>\n",
        "   <img src=\"https://www.tensorflow.org/images/tutorials/transformer/CausalSelfAttention.png\"/>\n",
        "  </td>\n",
        "</tr>\n",
        "</table>"
      ],
      "metadata": {
        "id": "pg4EZjnKTYeU"
      }
    },
    {
      "cell_type": "markdown",
      "source": [
        "Этот слой выполняет ту же работу, что и слой глобального внимания к себе, для выходной последовательности.  Напишем класс `CausalSelfAttention`, унаследовав его от слоя `baseAttention`.\n",
        "\n",
        "Класс `CausalSelfAttention` - это тип слоя self-attention, используемый в нейронных сетях для задач моделирования последовательности, где выходные данные на каждом временном шаге могут зависеть только от предыдущих временных шагов, а не от будущих временных шагов. В таких задачах уровень каузального самовнимания используется для обеспечения соблюдения ограничения, согласно которому модель может выполнять только предыдущие временные шаги в процессе декодирования.\n",
        "\n",
        "Метод `call` этого класса принимает тензор `x` в качестве входных данных и применяет к нему механизм каузального самовнимания. В частности, в этом методе используется метод `mha` (multi-head attention) класса `BaseAttention` с входными данными `query`, `key` и `value`, равными `x`. Кроме того, аргументу `use_causal_mask` метода mha присвоено значение `True`, которое применяет причинно-следственную маску к показателям внимания, чтобы **гарантировать, что модель может отслеживать только предыдущие временные шаги**.\n",
        "\n",
        "После применения механизма каузального самовнимания метод добавляет выходные данные к исходному входному тензору `x` и нормализует результат, используя нормализацию слоя. Наконец, нормализованный тензор возвращается в качестве выходных данных метода."
      ],
      "metadata": {
        "id": "uZdM3DCAt2lT"
      }
    },
    {
      "cell_type": "code",
      "source": [
        "class CausalSelfAttention(BaseAttention):\n",
        "  \"\"\"\n",
        "  каждая позиция на выходе зависит только от предыдущих позиций (т.е. от причинно-следственной модели).\n",
        "\n",
        "  Аргументы:\n",
        "      x: Тензор входной постледовательности размерности `(batch_size, seq_len, embed_dim)`.\n",
        "\n",
        "  Выходы:\n",
        "      Тензор выходной последовательности той же формы, что и входной, после self-attention\n",
        "      и остаточной связи с применением слоя нормализации\n",
        "\n",
        "  \"\"\"\n",
        "  def call(self, x):\n",
        "    attn_output = self.mha(\n",
        "        query=x,\n",
        "        value=x,\n",
        "        key=x,\n",
        "        use_causal_mask = True)\n",
        "    x = self.add([x, attn_output])\n",
        "    x = self.layernorm(x)\n",
        "    return x"
      ],
      "metadata": {
        "id": "L5LcuQAhZd2T"
      },
      "execution_count": null,
      "outputs": []
    },
    {
      "cell_type": "code",
      "source": [
        "sample_csa = CausalSelfAttention(num_heads=2, key_dim=512)\n",
        "\n",
        "print(en_emb.shape)\n",
        "print(sample_csa(en_emb).shape)"
      ],
      "metadata": {
        "id": "8mQMwgDNZdzz",
        "colab": {
          "base_uri": "https://localhost:8080/"
        },
        "outputId": "ee4be185-cc59-4704-98f5-bdd1c87e511d"
      },
      "execution_count": null,
      "outputs": [
        {
          "output_type": "stream",
          "name": "stdout",
          "text": [
            "(64, 86, 512)\n",
            "(64, 86, 512)\n"
          ]
        },
        {
          "output_type": "stream",
          "name": "stderr",
          "text": [
            "/usr/local/lib/python3.10/dist-packages/keras/src/layers/layer.py:915: UserWarning: Layer 'causal_self_attention' (of type CausalSelfAttention) was passed an input with a mask attached to it. However, this layer does not support masking and will therefore destroy the mask information. Downstream layers will not see the mask.\n",
            "  warnings.warn(\n"
          ]
        }
      ]
    },
    {
      "cell_type": "markdown",
      "source": [
        "Выходные данные для предыдущих элементов последовательности не зависят от более поздних элементов, поэтому не должно иметь значения, обрезаете ли вы элементы до или после нанесения слоя:"
      ],
      "metadata": {
        "id": "WyWbVmXAwF0W"
      }
    },
    {
      "cell_type": "code",
      "source": [
        "out1 = sample_csa(embed_en(en[:, :3]))\n",
        "out2 = sample_csa(embed_en(en))[:, :3]\n",
        "\n",
        "tf.reduce_max(abs(out1 - out2)).numpy()"
      ],
      "metadata": {
        "id": "eMyighGzZdxP",
        "colab": {
          "base_uri": "https://localhost:8080/"
        },
        "outputId": "c40ffce1-4812-4204-9ca5-1760d86e2024"
      },
      "execution_count": null,
      "outputs": [
        {
          "output_type": "execute_result",
          "data": {
            "text/plain": [
              "5.9604645e-07"
            ]
          },
          "metadata": {},
          "execution_count": 33
        }
      ]
    },
    {
      "cell_type": "markdown",
      "source": [
        "Разница между до и после обрезки `tf.reduce_max(abs(out1 - out2)).numpy()` равна нулю.\n"
      ],
      "metadata": {
        "id": "Xz5-zCFmx3Gr"
      }
    },
    {
      "cell_type": "markdown",
      "source": [
        "### 2.4.7. Сеть прямой связи\n",
        "\n",
        "Трансформер включает в себя точечную сеть прямой связи (point-wise feed-forward network ) как в кодере, так и в декодере:"
      ],
      "metadata": {
        "id": "8UzuTFIjW_3b"
      }
    },
    {
      "cell_type": "markdown",
      "source": [
        "<table>\n",
        "<tr>\n",
        "  <th colspan=1>The feed forward network</th>\n",
        "<tr>\n",
        "<tr>\n",
        "  <td>\n",
        "   <img src=\"https://www.tensorflow.org/images/tutorials/transformer/FeedForward.png\"/>\n",
        "  </td>\n",
        "</tr>\n",
        "</table>"
      ],
      "metadata": {
        "id": "NgVj1ZaGXILC"
      }
    },
    {
      "cell_type": "markdown",
      "source": [
        "Реализуем сеть прямой связи.\n",
        "\n",
        "Класс `FeedForward` - это пользовательский уровень в `TensorFlow`, который реализует нейронную сеть прямой связи. Он обычно используется в моделях на основе `transformer`, таких как `BERT` и `GPT2`, для обработки представления каждого токена.\n",
        "\n",
        "Слой принимает в качестве входных данных тензор `x` размерности `(batch_size, seq_len, d_model)`, где `d_model` - это размер последнего измерения. Он передает тензор `x` через сеть прямой связи, состоящую из двух плотных слоев со скрытыми модулями `dff` и функцией активации `relu`. После первого плотного слоя также применяется `dropout_rate`, чтобы предотвратить переобучение. Выходные данные сети прямой связи добавляются к исходным входным данным `x` с помощью слоя `Add()`. Наконец, выходные данные нормализуются с помощью слоя `LayerNormalization()`.\n",
        "\n",
        "Слой `FeedForward` может выполнять более сложные функции, чем простой линейный слой, что делает его полезным для моделирования нелинейных взаимосвязей между входными и выходными данными.\n"
      ],
      "metadata": {
        "id": "oofiI_quyCz6"
      }
    },
    {
      "cell_type": "code",
      "source": [
        "class FeedForward(tf.keras.layers.Layer):\n",
        "  \"\"\"\n",
        "  Реализует подуровень прямой связи блока трансформера.\n",
        "\n",
        "  Параметры:\n",
        "\n",
        "  d_model: int\n",
        "      Количество ожидаемых функций во входных и выходных данных.\n",
        "  dff: int\n",
        "      Количество нейронов в первом плотном слое.\n",
        "  dropout_rate: float, optional (default=0.1)\n",
        "      Коэффициент dropout rate для использования.\n",
        "\n",
        "  Аттрибуты:\n",
        "\n",
        "  seq: tf.keras.Sequential\n",
        "      Модель как последовательность, в которой применяются два полносвязных слоя и Dropout.\n",
        "  add: tf.keras.layers.Add\n",
        "      Дополнительный слой, который добавляет остаточное соединение.\n",
        "  layer_norm: tf.keras.layers.LayerNormalization\n",
        "      Слой нормализации, примененный к выходным данным.\n",
        "\n",
        "  Методы:\n",
        "\n",
        "  call(x):\n",
        "      Вычисляет подуровень прямой связи для входного тензора x и возвращает выходные данные.\n",
        "\n",
        "  \"\"\"\n",
        "  def __init__(self, d_model, dff, dropout_rate=0.1):\n",
        "    super().__init__()\n",
        "    self.seq = tf.keras.Sequential([\n",
        "      tf.keras.layers.Dense(dff, activation='relu'),\n",
        "      tf.keras.layers.Dense(d_model),\n",
        "      tf.keras.layers.Dropout(dropout_rate)\n",
        "    ])\n",
        "    self.add = tf.keras.layers.Add()\n",
        "    self.layer_norm = tf.keras.layers.LayerNormalization()\n",
        "\n",
        "  def call(self, x):\n",
        "    \"\"\"\n",
        "    Передает входной тензор \"x\" через сеть прямой связи, состоящую из двух\n",
        "полносвязных слоев со скрытыми модулями \"dff\" и функцией активации \"relu\".\n",
        "    После первого плотного слоя применяется \"dropout_rate\", чтобы предотвратить переобучение.\n",
        "    Выходные данные сети прямой связи добавляются к исходным входным данным \"x\" с помощью\n",
        "слоя \"Add()\". Наконец, выходные данные нормализуются с помощью слоя \"LayerNormalization()\".\n",
        "\n",
        "    Аргументы:\n",
        "        x (tf.Tensor): Входной тензор размерности `(batch_size, seq_len, d_model)`.\n",
        "\n",
        "    Выходы:\n",
        "        tf.Tensor: Выходной тензор размерности `(batch_size, seq_len, d_model)`.\n",
        "    \"\"\"\n",
        "    x = self.add([x, self.seq(x)])\n",
        "    x = self.layer_norm(x)\n",
        "    return x\n"
      ],
      "metadata": {
        "id": "VxZjK_F0Zduo"
      },
      "execution_count": null,
      "outputs": []
    },
    {
      "cell_type": "markdown",
      "source": [
        "Протестируйте слой, на выходе он должен иметь ту же размерность, что и на входе:"
      ],
      "metadata": {
        "id": "te7V6ngUzVzG"
      }
    },
    {
      "cell_type": "code",
      "source": [
        "sample_ffn = FeedForward(512, 2048)\n",
        "\n",
        "print(en_emb.shape)\n",
        "print(sample_ffn(en_emb).shape)"
      ],
      "metadata": {
        "id": "twb82mU8ZdsM",
        "colab": {
          "base_uri": "https://localhost:8080/"
        },
        "outputId": "4fc0e84e-ba7d-42b1-84a0-d570f2d3ac02"
      },
      "execution_count": null,
      "outputs": [
        {
          "output_type": "stream",
          "name": "stderr",
          "text": [
            "/usr/local/lib/python3.10/dist-packages/keras/src/layers/layer.py:915: UserWarning: Layer 'sequential' (of type Sequential) was passed an input with a mask attached to it. However, this layer does not support masking and will therefore destroy the mask information. Downstream layers will not see the mask.\n",
            "  warnings.warn(\n"
          ]
        },
        {
          "output_type": "stream",
          "name": "stdout",
          "text": [
            "(64, 86, 512)\n",
            "(64, 86, 512)\n"
          ]
        },
        {
          "output_type": "stream",
          "name": "stderr",
          "text": [
            "/usr/local/lib/python3.10/dist-packages/keras/src/layers/layer.py:915: UserWarning: Layer 'feed_forward' (of type FeedForward) was passed an input with a mask attached to it. However, this layer does not support masking and will therefore destroy the mask information. Downstream layers will not see the mask.\n",
            "  warnings.warn(\n"
          ]
        }
      ]
    },
    {
      "cell_type": "markdown",
      "source": [
        "### 2.4.8. Encoder"
      ],
      "metadata": {
        "id": "f1sFpTn_bhjl"
      }
    },
    {
      "cell_type": "markdown",
      "source": [
        "<table>\n",
        "<tr>\n",
        "  <th colspan=1>The encoder layer</th>\n",
        "<tr>\n",
        "<tr>\n",
        "  <td>\n",
        "   <img src=\"https://www.tensorflow.org/images/tutorials/transformer/EncoderLayer.png\"/>\n",
        "  </td>\n",
        "</tr>\n",
        "</table>"
      ],
      "metadata": {
        "id": "FIBuGwtmbhoB"
      }
    },
    {
      "cell_type": "markdown",
      "source": [
        "Кодировщик состоит из слоя `PositionalEmbedding` на входе и стека слоев `EncoderLayer`. Каждый `EncoderLayer` содержит слой `GlobalSelfAttention` и слой `FeedForward`.\n",
        "\n",
        "Напишем класс для `EncoderLayer` и объединим `GlobalSelfAttention` и `FeedForward`, затем используем стек `EncoderLayer` и `PositionalEmbedding` для создания `Encoder`."
      ],
      "metadata": {
        "id": "lOApxGK4zeIi"
      }
    },
    {
      "cell_type": "code",
      "source": [
        "class EncoderLayer(tf.keras.layers.Layer):\n",
        "  \"\"\"\n",
        "  Один слой в стэке кодеров transformers.\n",
        "\n",
        "  Аргументы:\n",
        "    d_model (int): Размерность входных и выходных последовательностей.\n",
        "    num_heads (int): Количество уровней внимания (голов), которые будут использоваться на подуровне самовнимания.\n",
        "    dff (int): Количество скрытых объектов в подуровне прямой связи.\n",
        "    dropout_rate (float): Коэффициент dropout, который будет применен после подуровня self-attention.\n",
        "\n",
        "  Аттрибуты:\n",
        "    self_attention (GlobalSelfAttention): Слой самовнимания.\n",
        "    ffn (FeedForward): Уровень нейронной сети с прямой связью.\n",
        "  \"\"\"\n",
        "  def __init__(self,*, d_model, num_heads, dff, dropout_rate=0.1):\n",
        "    super().__init__()\n",
        "\n",
        "    self.self_attention = GlobalSelfAttention(\n",
        "        num_heads=num_heads,\n",
        "        key_dim=d_model,\n",
        "        dropout=dropout_rate)\n",
        "\n",
        "    self.ffn = FeedForward(d_model, dff)\n",
        "\n",
        "  def call(self, x):\n",
        "    \"\"\"\n",
        "    Применяет прямой проход слоя кодировщика.\n",
        "\n",
        "    Аргументы:\n",
        "      x (tf.Tensor): Тензор входной последовательности.\n",
        "\n",
        "    Выходы:\n",
        "      tf.Tensor: тензор выходной последовательности.\n",
        "    \"\"\"\n",
        "    x = self.self_attention(x)\n",
        "    x = self.ffn(x)\n",
        "    return x"
      ],
      "metadata": {
        "id": "Xk7L3k9qZdp6"
      },
      "execution_count": null,
      "outputs": []
    },
    {
      "cell_type": "markdown",
      "source": [
        "Класс `EncoderLayer` представляет собой отдельный уровень в стеке кодировщиков `transformer`. Он состоит из двух подуровней: уровня самообучения и уровня нейронной сети прямого действия.\n",
        "\n",
        "Функция `__init__` инициализирует объект `ncoderLayer`, создавая его подслои. Слой `self_attention` является экземпляром класса `GlobalSelfAttention`, который выполняет самовнимание во входной последовательности. Параметры `num_heads` и `key_dim` определяют количество голов для внимания и размерность ключей и значений в каждой голове соответственно. Параметр `dropout_rate` определяет уровень отсева, который будет применен после подуровня `self-attention`. Подуровень `ffn` является экземпляром класса `FeedForward`, который состоит из двух плотных слоев с активацией `ReLU`, за которыми следует слой dropout.\n",
        "\n",
        "Функция `call` вызывается для применения прямого прохода `EncoderLayer`. Входная последовательность `x` передается через подуровень `self_attention`, за которым следует подуровень `ffn`, и возвращается результирующая выходная последовательность."
      ],
      "metadata": {
        "id": "VnspUqJm6had"
      }
    },
    {
      "cell_type": "markdown",
      "source": [
        "Теперь построим Encodeer."
      ],
      "metadata": {
        "id": "cMb3KcqRhhqX"
      }
    },
    {
      "cell_type": "markdown",
      "source": [
        "<table>\n",
        "<tr>\n",
        "  <th colspan=1>The encoder</th>\n",
        "<tr>\n",
        "<tr>\n",
        "  <td>\n",
        "   <img src=\"https://www.tensorflow.org/images/tutorials/transformer/Encoder.png\"/>\n",
        "  </td>\n",
        "</tr>\n",
        "</table>"
      ],
      "metadata": {
        "id": "_-hWQL20hUFd"
      }
    },
    {
      "cell_type": "code",
      "source": [
        "class Encoder(tf.keras.layers.Layer):\n",
        "  \"\"\"\n",
        "  Пользовательский уровень Keras, который реализует кодировщик\n",
        "архитектуры нейронной сети на основе transformer для задач обработки естественного языка, таких как\n",
        "  перевод или классификация текста.\n",
        "\n",
        "  Аргументы:\n",
        "    num_layers (int): Количество слоев в кодере.\n",
        "    d_model (int): Размерность выходного пространства.\n",
        "    num_heads (int): Количество голов управления вниманием в мультиголовом\n",
        "      механизме самовнимания.\n",
        "    dff (int): Размерность полносвязной сети прямой связи.\n",
        "    vocab_size (int): Размер словарного запаса языка ввода.\n",
        "    dropout_rate (float): Коэффициент dropout для регуляризации.\n",
        "\n",
        "  Аттрибуты:\n",
        "    d_model (int): Размерность выходного пространства.\n",
        "    num_layers (int): Количество слоев в кодере.\n",
        "    pos_embedding (PositionalEmbedding): Слой, который запоминает позицию\n",
        "      вложения для каждого токена во входной последовательности.\n",
        "    enc_layers (list): Список экземпляров \"EncoderLayer\", по одному для каждого уровня\n",
        "      в архитектуре encoder.\n",
        "    dropout (Dropout): Коэффициент dropout для регуляризации.\n",
        "\n",
        "  Методы:\n",
        "    call(x): Прямой проход уровня кодировщика.\n",
        "\n",
        "  Выходы:\n",
        "    Выходной тензор слоя кодера размерности `(batch_size, seq_len, d_model)`.\n",
        "  \"\"\"\n",
        "  def __init__(self, *, num_layers, d_model, num_heads,\n",
        "               dff, vocab_size, dropout_rate=0.1):\n",
        "    super().__init__()\n",
        "\n",
        "    self.d_model = d_model\n",
        "    self.num_layers = num_layers\n",
        "\n",
        "    self.pos_embedding = PositionalEmbedding(\n",
        "        vocab_size=vocab_size, d_model=d_model)\n",
        "\n",
        "    self.enc_layers = [\n",
        "        EncoderLayer(d_model=d_model,\n",
        "                     num_heads=num_heads,\n",
        "                     dff=dff,\n",
        "                     dropout_rate=dropout_rate)\n",
        "        for _ in range(num_layers)]\n",
        "    self.dropout = tf.keras.layers.Dropout(dropout_rate)\n",
        "\n",
        "  def call(self, x):\n",
        "    \"\"\"\n",
        "    Выполняет прямой проход слоя \"Кодировщик\".\n",
        "\n",
        "    Аргументы:\n",
        "    x: тензор размерности (batch_size, sequence_length) представляющий последовательность входных идентификаторов токенов.\n",
        "\n",
        "    Выходы:\n",
        "    тензор размерности (batch_size, sequence_length, d_model) представляющий выходные данные после применения\n",
        "    уровней самовнимания и обратной связи к входной последовательности.\n",
        "    \"\"\"\n",
        "    # `x` - это разменность token-IDs: (batch, seq_len)\n",
        "    x = self.pos_embedding(x)  # размерность `(batch_size, seq_len, d_model)`.\n",
        "\n",
        "    # Добавляем dropout.\n",
        "    x = self.dropout(x)\n",
        "\n",
        "    for i in range(self.num_layers):\n",
        "      x = self.enc_layers[i](x)\n",
        "\n",
        "    return x  # размерность `(batch_size, seq_len, d_model)`."
      ],
      "metadata": {
        "id": "Heclt9k8ZdnS"
      },
      "execution_count": null,
      "outputs": []
    },
    {
      "cell_type": "markdown",
      "source": [
        "Этот код определяет класс `Encoder`, который используется в архитектуре Transformer для задач обработки естественного языка, таких как языковой перевод и языковое моделирование.\n",
        "\n",
        "Класс `Encoder` является подклассом `tf.keras.слои.Класс Layer`, который является базовым классом для реализации новых слоев в `Keras`.\n",
        "\n",
        "Метод `__init__` инициализирует объект `Encoder` путем определения параметров модели, таких как `d_model` (размер выходного пространства), `num_heads` (количество голов в механизме multi-head attention), `dff` (размер сети прямой связи), `vocab_size` (размер словаря входных токенов) и `dropout_rate` (скорость отсева, которая будет применена к выходным данным слоя).\n",
        "\n",
        "Атрибут `post_embedding` инициализирует слой `PositionalEmbedding` , который добавляет позиционную информацию к входным токенам, чтобы учесть их положение в последовательности.\n",
        "\n",
        "Атрибут `enc_layers` инициализирует список объектов `EncoderLayer`, каждый из которых реализует функциональность `EncoderLayer`. Количество слоев в `encoder` определяется параметром `num_layers`.\n",
        "\n",
        "Атрибут `dropout` инициализирует слой dropout, чтобы применить его к выходным данным слоя.\n",
        "\n",
        "Метод `call` вызывается при вызове слоя для входных данных. Он применяет позиционное встраивание к входным токенам, а затем применяет выпадающий слой. Затем он итеративно применяет объект `EncoderLayer` к выходным данным предыдущего слоя. Конечный результат возвращается в виде тензора формы `(batch_size, seq_len, d_model)`."
      ],
      "metadata": {
        "id": "gO-cpmY7683o"
      }
    },
    {
      "cell_type": "markdown",
      "source": [
        "Протестируем encoder"
      ],
      "metadata": {
        "id": "4DglgTLfz8RO"
      }
    },
    {
      "cell_type": "code",
      "source": [
        "# Создаем экземпляр кодировщика.\n",
        "sample_encoder = Encoder(num_layers=4,\n",
        "                         d_model=512,\n",
        "                         num_heads=8,\n",
        "                         dff=2048,\n",
        "                         vocab_size=8500)\n",
        "\n",
        "sample_encoder_output = sample_encoder(pt, training=False)\n",
        "\n",
        "# выводим размерность.\n",
        "print(pt.shape)\n",
        "print(sample_encoder_output.shape)  # размерность `(batch_size, input_seq_len, d_model)`."
      ],
      "metadata": {
        "id": "35QuLpLYZdk0",
        "colab": {
          "base_uri": "https://localhost:8080/"
        },
        "outputId": "48fa0dee-0d17-45cc-8d73-82935e81cb14"
      },
      "execution_count": null,
      "outputs": [
        {
          "output_type": "stream",
          "name": "stderr",
          "text": [
            "/usr/local/lib/python3.10/dist-packages/keras/src/layers/layer.py:915: UserWarning: Layer 'global_self_attention_1' (of type GlobalSelfAttention) was passed an input with a mask attached to it. However, this layer does not support masking and will therefore destroy the mask information. Downstream layers will not see the mask.\n",
            "  warnings.warn(\n",
            "/usr/local/lib/python3.10/dist-packages/keras/src/layers/layer.py:915: UserWarning: Layer 'sequential_1' (of type Sequential) was passed an input with a mask attached to it. However, this layer does not support masking and will therefore destroy the mask information. Downstream layers will not see the mask.\n",
            "  warnings.warn(\n",
            "/usr/local/lib/python3.10/dist-packages/keras/src/layers/layer.py:915: UserWarning: Layer 'feed_forward_1' (of type FeedForward) was passed an input with a mask attached to it. However, this layer does not support masking and will therefore destroy the mask information. Downstream layers will not see the mask.\n",
            "  warnings.warn(\n",
            "/usr/local/lib/python3.10/dist-packages/keras/src/layers/layer.py:915: UserWarning: Layer 'encoder_layer' (of type EncoderLayer) was passed an input with a mask attached to it. However, this layer does not support masking and will therefore destroy the mask information. Downstream layers will not see the mask.\n",
            "  warnings.warn(\n",
            "/usr/local/lib/python3.10/dist-packages/keras/src/layers/layer.py:915: UserWarning: Layer 'global_self_attention_2' (of type GlobalSelfAttention) was passed an input with a mask attached to it. However, this layer does not support masking and will therefore destroy the mask information. Downstream layers will not see the mask.\n",
            "  warnings.warn(\n",
            "/usr/local/lib/python3.10/dist-packages/keras/src/layers/layer.py:915: UserWarning: Layer 'sequential_2' (of type Sequential) was passed an input with a mask attached to it. However, this layer does not support masking and will therefore destroy the mask information. Downstream layers will not see the mask.\n",
            "  warnings.warn(\n",
            "/usr/local/lib/python3.10/dist-packages/keras/src/layers/layer.py:915: UserWarning: Layer 'feed_forward_2' (of type FeedForward) was passed an input with a mask attached to it. However, this layer does not support masking and will therefore destroy the mask information. Downstream layers will not see the mask.\n",
            "  warnings.warn(\n",
            "/usr/local/lib/python3.10/dist-packages/keras/src/layers/layer.py:915: UserWarning: Layer 'encoder_layer_1' (of type EncoderLayer) was passed an input with a mask attached to it. However, this layer does not support masking and will therefore destroy the mask information. Downstream layers will not see the mask.\n",
            "  warnings.warn(\n",
            "/usr/local/lib/python3.10/dist-packages/keras/src/layers/layer.py:915: UserWarning: Layer 'global_self_attention_3' (of type GlobalSelfAttention) was passed an input with a mask attached to it. However, this layer does not support masking and will therefore destroy the mask information. Downstream layers will not see the mask.\n",
            "  warnings.warn(\n",
            "/usr/local/lib/python3.10/dist-packages/keras/src/layers/layer.py:915: UserWarning: Layer 'sequential_3' (of type Sequential) was passed an input with a mask attached to it. However, this layer does not support masking and will therefore destroy the mask information. Downstream layers will not see the mask.\n",
            "  warnings.warn(\n",
            "/usr/local/lib/python3.10/dist-packages/keras/src/layers/layer.py:915: UserWarning: Layer 'feed_forward_3' (of type FeedForward) was passed an input with a mask attached to it. However, this layer does not support masking and will therefore destroy the mask information. Downstream layers will not see the mask.\n",
            "  warnings.warn(\n",
            "/usr/local/lib/python3.10/dist-packages/keras/src/layers/layer.py:915: UserWarning: Layer 'encoder_layer_2' (of type EncoderLayer) was passed an input with a mask attached to it. However, this layer does not support masking and will therefore destroy the mask information. Downstream layers will not see the mask.\n",
            "  warnings.warn(\n",
            "/usr/local/lib/python3.10/dist-packages/keras/src/layers/layer.py:915: UserWarning: Layer 'global_self_attention_4' (of type GlobalSelfAttention) was passed an input with a mask attached to it. However, this layer does not support masking and will therefore destroy the mask information. Downstream layers will not see the mask.\n",
            "  warnings.warn(\n",
            "/usr/local/lib/python3.10/dist-packages/keras/src/layers/layer.py:915: UserWarning: Layer 'sequential_4' (of type Sequential) was passed an input with a mask attached to it. However, this layer does not support masking and will therefore destroy the mask information. Downstream layers will not see the mask.\n",
            "  warnings.warn(\n",
            "/usr/local/lib/python3.10/dist-packages/keras/src/layers/layer.py:915: UserWarning: Layer 'feed_forward_4' (of type FeedForward) was passed an input with a mask attached to it. However, this layer does not support masking and will therefore destroy the mask information. Downstream layers will not see the mask.\n",
            "  warnings.warn(\n",
            "/usr/local/lib/python3.10/dist-packages/keras/src/layers/layer.py:915: UserWarning: Layer 'encoder_layer_3' (of type EncoderLayer) was passed an input with a mask attached to it. However, this layer does not support masking and will therefore destroy the mask information. Downstream layers will not see the mask.\n",
            "  warnings.warn(\n"
          ]
        },
        {
          "output_type": "stream",
          "name": "stdout",
          "text": [
            "(64, 79)\n",
            "(64, 79, 512)\n"
          ]
        }
      ]
    },
    {
      "cell_type": "markdown",
      "source": [
        "### 2.4.9. Decoder"
      ],
      "metadata": {
        "id": "5iKTvV5pj5CU"
      }
    },
    {
      "cell_type": "markdown",
      "source": [
        "<table>\n",
        "<tr>\n",
        "  <th colspan=1>The decoder layer</th>\n",
        "<tr>\n",
        "<tr>\n",
        "  <td>\n",
        "   <img src=\"https://www.tensorflow.org/images/tutorials/transformer/DecoderLayer.png\"/>\n",
        "  </td>\n",
        "</tr>\n",
        "</table>"
      ],
      "metadata": {
        "id": "l8q9q-ZCj9g0"
      }
    },
    {
      "cell_type": "markdown",
      "source": [
        "Подобно `Encoder`, ``Decoder` состоит из `PositionalEmbedding` и стека `DecoderLayer`. А стек декодера немного сложнее, поскольку каждый `DecoderLayer` содержит слой `CausalSelfAttention`, слой `CrossAttention` и слой `FeedForward`.\n",
        "\n",
        "Сначала напишем `DecoderLayer`, а затем `Encoder`.\n",
        "\n",
        "Определим класс `DecoderLayer`, который является строительным блоком для декодера на основе преобразования в модели последовательностей. Класс наследуется от `tf.keras.layers.Layer`.\n",
        "\n",
        "В классе есть метод `__init__`, который инициализирует параметры слоя и подслоев. Он принимает следующие аргументы:\n",
        "\n",
        "- `d_model`: количество ожидаемых функций во входных и выходных данных.\n",
        "- `num_heads`: Количество параллельных голов внимания.\n",
        "- `df`: Количество нейронов в подуровне прямой связи.\n",
        "- `dropout_rate`: применяемый коэффициент отсева.\n",
        "\n",
        "\n",
        "Метод `call` определяет, как использовать слой при прямом переходе. Он принимает два аргумента: `x` и `context`. `x` - это входные данные для уровня декодирования, которые передаются через подуровни каузального самовнимания, перекрестного внимания и прямой связи для получения выходных данных `x`. `context` - это выходные данные уровня кодирования, которые используются в качестве контекста внимания для механизма перекрестного внимания.\n",
        "\n",
        "Класс содержит следующие подуровни:\n",
        "\n",
        "- `causal_self_attention`: уровень каузального само-внимания, который отслеживает входную последовательность каузальным образом, т.е. предсказывает будущие токены на основе предыдущих.\n",
        "- `cross_attention`: уровень перекрестного внимания, который использует контекст вывода кодера для согласования выходных данных декодера с входной последовательностью.\n",
        "- `ffn`: Подуровень прямой связи, который применяет нелинейное преобразование к выходным данным подуровней `attention`.\n",
        "\n",
        "Метод `call` также кэширует последние оценки внимания, вычисленные на подуровне `cross_attention`, которые могут быть использованы для целей визуализации и отладки."
      ],
      "metadata": {
        "id": "RQH5UBjU9XCu"
      }
    },
    {
      "cell_type": "code",
      "source": [
        "class DecoderLayer(tf.keras.layers.Layer):\n",
        "  \"\"\"\n",
        "  Одноуровневый декодер в архитектуре на основе трансформера.\n",
        "\n",
        "  Аргументы:\n",
        "    d_model (int): Количество ожидаемых функций во входных данных.\n",
        "    num_heads (int): Количество голов внимания.\n",
        "    dff (int): Размерность сети прямой связи.\n",
        "    dropout_rate (float): Коэффициент dropout, который ипользуется.\n",
        "\n",
        "  Аттрибуты:\n",
        "    causal_self_attention: AЭкземпляр слоя `CausalSelfAttention`.\n",
        "    cross_attention: Экземпляр слоя `CrossAttention`.\n",
        "    ffn: Экземпляр слоя `FeedForward`.\n",
        "    last_attn_scores: Тензор, содержащий последние оценки внимания.\n",
        "\n",
        "  \"\"\"\n",
        "  def __init__(self,\n",
        "               *,\n",
        "               d_model,\n",
        "               num_heads,\n",
        "               dff,\n",
        "               dropout_rate=0.1):\n",
        "    super(DecoderLayer, self).__init__()\n",
        "\n",
        "    self.causal_self_attention = CausalSelfAttention(\n",
        "        num_heads=num_heads,\n",
        "        key_dim=d_model,\n",
        "        dropout=dropout_rate)\n",
        "\n",
        "    self.cross_attention = CrossAttention(\n",
        "        num_heads=num_heads,\n",
        "        key_dim=d_model,\n",
        "        dropout=dropout_rate)\n",
        "\n",
        "    self.ffn = FeedForward(d_model, dff)\n",
        "\n",
        "  def call(self, x, context):\n",
        "    \"\"\"\n",
        "    Прямой проход по `DecoderLayer`.\n",
        "\n",
        "    Аргументы:\n",
        "      x (tf.Tensor): входной тензор размерности\n",
        "      `(batch_size, target_seq_len, d_model)`.\n",
        "      context (tf.Tensor): Контекстный тензор размерности\n",
        "      `(batch_size, input_seq_len, d_model)`.\n",
        "\n",
        "    Выходы:\n",
        "      выходной тензор `DecoderLayer` размерности\n",
        "      `(batch_size, target_seq_len, d_model)`.\n",
        "\n",
        "    \"\"\"\n",
        "    x = self.causal_self_attention(x=x)\n",
        "    x = self.cross_attention(x=x, context=context)\n",
        "\n",
        "    # Сохраним последние оценки за внимание для последующего построения графика\n",
        "    self.last_attn_scores = self.cross_attention.last_attn_scores\n",
        "\n",
        "    x = self.ffn(x)  # размерность `(batch_size, seq_len, d_model)`.\n",
        "    return x"
      ],
      "metadata": {
        "id": "JW3EiXHFZdiD"
      },
      "execution_count": null,
      "outputs": []
    },
    {
      "cell_type": "markdown",
      "source": [
        "Теперь поместим это в `Decoder` и напишем класс `Decoder`. Этот класс отвечает за декодирование закодированных входных последовательностей для генерации целевых последовательностей в моделях `sequence-to-sequence`. Уровень декодера состоит из нескольких блоков `DecoderLayer`, каждый из которых содержит механизм self-attention, механизм cross-attention и сеть прямой связи. Слой `Decoder` также включает в себя уровни позиционного embedding и dropout."
      ],
      "metadata": {
        "id": "8kc4DSHrKqJ4"
      }
    },
    {
      "cell_type": "markdown",
      "source": [
        "<table>\n",
        "<tr>\n",
        "  <th colspan=1>The embedding and positional encoding layer</th>\n",
        "<tr>\n",
        "<tr>\n",
        "  <td>\n",
        "   <img src=\"https://www.tensorflow.org/images/tutorials/transformer/Decoder.png\"/>\n",
        "  </td>\n",
        "</tr>\n",
        "</table>"
      ],
      "metadata": {
        "id": "DR262ve2kFal"
      }
    },
    {
      "cell_type": "code",
      "source": [
        "class Decoder(tf.keras.layers.Layer):\n",
        "  \"\"\"Модель декодера для последовательного обучения.\n",
        "\n",
        "  Этот класс реализует слой декодера для модели на основе трансформера, используемой для задач последовательного обучения.\n",
        "  Слой декодера принимает в качестве входных данных входные вложения, позиционные кодировки и маски внимания и возвращает выходные данные\n",
        "  слоя декодера после применения механизма самовнимания с несколькими головами,\n",
        "  за которым следует механизм перекрестного внимания с выводами из уровней кодера, а затем применяет нейронную сеть обратной связи.\n",
        "\n",
        "  Аттрибуты:\n",
        "    d_model (int): Количество выходных измерений для каждого слоя.\n",
        "    num_layers (int): Количество слоев в декодере.\n",
        "    pos_embedding (PositionalEmbedding): Слой positional embedding.\n",
        "    dropout (Dropout): Слой dropout.\n",
        "    dec_layers (list): Список объектов слоя декодера.\n",
        "    last_attn_scores (ndarray): Оценка внимания последнего слоя декодера.\n",
        "\n",
        "  Методы:\n",
        "    call(x, context): Реализует прямой проход для слоя декодера.\n",
        "\n",
        "  Аргументы:\n",
        "        x (ndarray): Тензор размерности (batch_size, target_seq_len), представляющий входные token IDs.\n",
        "        context (ndarray): A tensor of shape (batch_size, input_seq_len, d_model), представляющий выходные данные слоев кодера.\n",
        "  Выходы:\n",
        "        ndarray: Тензор размерности (batch_size, target_seq_len, d_model), представляющий выходные данные слоев декодера.\n",
        "  \"\"\"\n",
        "  def __init__(self, *, num_layers, d_model, num_heads, dff, vocab_size,\n",
        "               dropout_rate=0.1):\n",
        "    super(Decoder, self).__init__()\n",
        "\n",
        "    self.d_model = d_model\n",
        "    self.num_layers = num_layers\n",
        "\n",
        "    self.pos_embedding = PositionalEmbedding(vocab_size=vocab_size,\n",
        "                                             d_model=d_model)\n",
        "    self.dropout = tf.keras.layers.Dropout(dropout_rate)\n",
        "    self.dec_layers = [\n",
        "        DecoderLayer(d_model=d_model, num_heads=num_heads,\n",
        "                     dff=dff, dropout_rate=dropout_rate)\n",
        "        for _ in range(num_layers)]\n",
        "\n",
        "    self.last_attn_scores = None\n",
        "\n",
        "  def call(self, x, context):\n",
        "    \"\"\"\n",
        "    Реализует прямой проход для уровня декодера.\n",
        "\n",
        "    Аргументы:\n",
        "      x (ndarray): Тензор размерности (batch_size, target_seq_len), представляющий входные token IDs.\n",
        "      context (ndarray): Тензор размерности (batch_size, input_seq_len, d_model), представляющий выходные данные слоев кодера.\n",
        "\n",
        "    Выходы:\n",
        "      ndarray: Тензор размерности (batch_size, target_seq_len, d_model), представляющий выходные данные слоев декодера.\n",
        "    \"\"\"\n",
        "    # `x` - размерность token-IDs (batch, target_seq_len)\n",
        "    x = self.pos_embedding(x)  # (batch_size, target_seq_len, d_model)\n",
        "\n",
        "    x = self.dropout(x)\n",
        "\n",
        "    for i in range(self.num_layers):\n",
        "      x  = self.dec_layers[i](x, context)\n",
        "\n",
        "    self.last_attn_scores = self.dec_layers[-1].last_attn_scores\n",
        "\n",
        "    # Размерность x - (batch_size, target_seq_len, d_model).\n",
        "    return x"
      ],
      "metadata": {
        "id": "iaFR3eKJ9Wp5"
      },
      "execution_count": null,
      "outputs": []
    },
    {
      "cell_type": "markdown",
      "source": [
        "Класс `Decoder` ожидает в качестве входных данных последовательность идентификаторов токенов, представляющих целевую последовательность, и кодированную входную последовательность, или контекст, на который должен обратить внимание декодер. Класс состоит из стека экземпляров `DecoderLayer`, каждый из которых применяет ряд операций к входной последовательности для генерации выходной последовательности.\n",
        "\n",
        "В конструкторе класс `Decoder` инициализирует несколько экземпляров слоя, включая слой `PositionalEmbedding`, который добавляет позиционное кодирование к входным идентификаторам токенов, слой `dropout` и стек экземпляров `DecoderLayer`.\n",
        "\n",
        "Во время прямого прохождения входные идентификаторы токенов сначала передаются через уровни позиционного внедрения и выпадения. Затем для каждого `DecoderLayer` входные данные передаются через уровень каузального самовнимания, за которым следует уровень перекрестного внимания и, наконец, через уровень нейронной сети прямой связи. Выходные данные последнего \"DecoderLayer\" возвращаются в качестве выходных данных `Decoder`.\n",
        "\n",
        "Атрибут `last_attn_scores` экземпляра `Decoder` содержит оценки внимания на последнем уровне декодера, которые могут быть полезны для визуализации и отладки."
      ],
      "metadata": {
        "id": "XrwcSb47LVeP"
      }
    },
    {
      "cell_type": "code",
      "source": [
        "# Создайте экземпляр декодера.\n",
        "sample_decoder = Decoder(num_layers=4,\n",
        "                         d_model=512,\n",
        "                         num_heads=8,\n",
        "                         dff=2048,\n",
        "                         vocab_size=8000)\n",
        "\n",
        "output = sample_decoder(\n",
        "    x=en,\n",
        "    context=pt_emb)\n",
        "\n",
        "# Выведем размерности.\n",
        "print(en.shape)\n",
        "print(pt_emb.shape)\n",
        "print(output.shape)"
      ],
      "metadata": {
        "id": "xVWRCKhR9Wni",
        "colab": {
          "base_uri": "https://localhost:8080/"
        },
        "outputId": "23dab46e-096d-44bc-d7f7-9f54a9cc0fb9"
      },
      "execution_count": null,
      "outputs": [
        {
          "output_type": "stream",
          "name": "stderr",
          "text": [
            "/usr/local/lib/python3.10/dist-packages/keras/src/layers/layer.py:915: UserWarning: Layer 'causal_self_attention_1' (of type CausalSelfAttention) was passed an input with a mask attached to it. However, this layer does not support masking and will therefore destroy the mask information. Downstream layers will not see the mask.\n",
            "  warnings.warn(\n",
            "/usr/local/lib/python3.10/dist-packages/keras/src/layers/layer.py:915: UserWarning: Layer 'cross_attention_1' (of type CrossAttention) was passed an input with a mask attached to it. However, this layer does not support masking and will therefore destroy the mask information. Downstream layers will not see the mask.\n",
            "  warnings.warn(\n",
            "/usr/local/lib/python3.10/dist-packages/keras/src/layers/layer.py:915: UserWarning: Layer 'sequential_5' (of type Sequential) was passed an input with a mask attached to it. However, this layer does not support masking and will therefore destroy the mask information. Downstream layers will not see the mask.\n",
            "  warnings.warn(\n",
            "/usr/local/lib/python3.10/dist-packages/keras/src/layers/layer.py:915: UserWarning: Layer 'feed_forward_5' (of type FeedForward) was passed an input with a mask attached to it. However, this layer does not support masking and will therefore destroy the mask information. Downstream layers will not see the mask.\n",
            "  warnings.warn(\n",
            "/usr/local/lib/python3.10/dist-packages/keras/src/layers/layer.py:915: UserWarning: Layer 'decoder_layer' (of type DecoderLayer) was passed an input with a mask attached to it. However, this layer does not support masking and will therefore destroy the mask information. Downstream layers will not see the mask.\n",
            "  warnings.warn(\n",
            "/usr/local/lib/python3.10/dist-packages/keras/src/layers/layer.py:915: UserWarning: Layer 'causal_self_attention_2' (of type CausalSelfAttention) was passed an input with a mask attached to it. However, this layer does not support masking and will therefore destroy the mask information. Downstream layers will not see the mask.\n",
            "  warnings.warn(\n",
            "/usr/local/lib/python3.10/dist-packages/keras/src/layers/layer.py:915: UserWarning: Layer 'cross_attention_2' (of type CrossAttention) was passed an input with a mask attached to it. However, this layer does not support masking and will therefore destroy the mask information. Downstream layers will not see the mask.\n",
            "  warnings.warn(\n",
            "/usr/local/lib/python3.10/dist-packages/keras/src/layers/layer.py:915: UserWarning: Layer 'sequential_6' (of type Sequential) was passed an input with a mask attached to it. However, this layer does not support masking and will therefore destroy the mask information. Downstream layers will not see the mask.\n",
            "  warnings.warn(\n",
            "/usr/local/lib/python3.10/dist-packages/keras/src/layers/layer.py:915: UserWarning: Layer 'feed_forward_6' (of type FeedForward) was passed an input with a mask attached to it. However, this layer does not support masking and will therefore destroy the mask information. Downstream layers will not see the mask.\n",
            "  warnings.warn(\n",
            "/usr/local/lib/python3.10/dist-packages/keras/src/layers/layer.py:915: UserWarning: Layer 'decoder_layer_1' (of type DecoderLayer) was passed an input with a mask attached to it. However, this layer does not support masking and will therefore destroy the mask information. Downstream layers will not see the mask.\n",
            "  warnings.warn(\n",
            "/usr/local/lib/python3.10/dist-packages/keras/src/layers/layer.py:915: UserWarning: Layer 'causal_self_attention_3' (of type CausalSelfAttention) was passed an input with a mask attached to it. However, this layer does not support masking and will therefore destroy the mask information. Downstream layers will not see the mask.\n",
            "  warnings.warn(\n",
            "/usr/local/lib/python3.10/dist-packages/keras/src/layers/layer.py:915: UserWarning: Layer 'cross_attention_3' (of type CrossAttention) was passed an input with a mask attached to it. However, this layer does not support masking and will therefore destroy the mask information. Downstream layers will not see the mask.\n",
            "  warnings.warn(\n",
            "/usr/local/lib/python3.10/dist-packages/keras/src/layers/layer.py:915: UserWarning: Layer 'sequential_7' (of type Sequential) was passed an input with a mask attached to it. However, this layer does not support masking and will therefore destroy the mask information. Downstream layers will not see the mask.\n",
            "  warnings.warn(\n",
            "/usr/local/lib/python3.10/dist-packages/keras/src/layers/layer.py:915: UserWarning: Layer 'feed_forward_7' (of type FeedForward) was passed an input with a mask attached to it. However, this layer does not support masking and will therefore destroy the mask information. Downstream layers will not see the mask.\n",
            "  warnings.warn(\n",
            "/usr/local/lib/python3.10/dist-packages/keras/src/layers/layer.py:915: UserWarning: Layer 'decoder_layer_2' (of type DecoderLayer) was passed an input with a mask attached to it. However, this layer does not support masking and will therefore destroy the mask information. Downstream layers will not see the mask.\n",
            "  warnings.warn(\n",
            "/usr/local/lib/python3.10/dist-packages/keras/src/layers/layer.py:915: UserWarning: Layer 'causal_self_attention_4' (of type CausalSelfAttention) was passed an input with a mask attached to it. However, this layer does not support masking and will therefore destroy the mask information. Downstream layers will not see the mask.\n",
            "  warnings.warn(\n",
            "/usr/local/lib/python3.10/dist-packages/keras/src/layers/layer.py:915: UserWarning: Layer 'cross_attention_4' (of type CrossAttention) was passed an input with a mask attached to it. However, this layer does not support masking and will therefore destroy the mask information. Downstream layers will not see the mask.\n",
            "  warnings.warn(\n",
            "/usr/local/lib/python3.10/dist-packages/keras/src/layers/layer.py:915: UserWarning: Layer 'sequential_8' (of type Sequential) was passed an input with a mask attached to it. However, this layer does not support masking and will therefore destroy the mask information. Downstream layers will not see the mask.\n",
            "  warnings.warn(\n",
            "/usr/local/lib/python3.10/dist-packages/keras/src/layers/layer.py:915: UserWarning: Layer 'feed_forward_8' (of type FeedForward) was passed an input with a mask attached to it. However, this layer does not support masking and will therefore destroy the mask information. Downstream layers will not see the mask.\n",
            "  warnings.warn(\n",
            "/usr/local/lib/python3.10/dist-packages/keras/src/layers/layer.py:915: UserWarning: Layer 'decoder_layer_3' (of type DecoderLayer) was passed an input with a mask attached to it. However, this layer does not support masking and will therefore destroy the mask information. Downstream layers will not see the mask.\n",
            "  warnings.warn(\n"
          ]
        },
        {
          "output_type": "stream",
          "name": "stdout",
          "text": [
            "(64, 86)\n",
            "(64, 79, 512)\n",
            "(64, 86, 512)\n"
          ]
        }
      ]
    },
    {
      "cell_type": "code",
      "source": [
        "sample_decoder.last_attn_scores.shape  # (batch, heads, target_seq, input_seq)"
      ],
      "metadata": {
        "id": "oDjPqtQS9WlO",
        "colab": {
          "base_uri": "https://localhost:8080/"
        },
        "outputId": "7f6ea128-73dd-4144-ce7e-7d012b825ccd"
      },
      "execution_count": null,
      "outputs": [
        {
          "output_type": "execute_result",
          "data": {
            "text/plain": [
              "TensorShape([64, 8, 86, 79])"
            ]
          },
          "metadata": {},
          "execution_count": 42
        }
      ]
    },
    {
      "cell_type": "markdown",
      "source": [
        "## 2.5. Transformer"
      ],
      "metadata": {
        "id": "9b3zE342k-9n"
      }
    },
    {
      "cell_type": "markdown",
      "source": [
        "<table>\n",
        "<tr>\n",
        "  <th colspan=1>The transformer</th>\n",
        "<tr>\n",
        "<tr>\n",
        "  <td>\n",
        "   <img src=\"https://www.tensorflow.org/images/tutorials/transformer/transformer.png\"/>\n",
        "  </td>\n",
        "</tr>\n",
        "</table>"
      ],
      "metadata": {
        "id": "WJcrgAZYlffa"
      }
    },
    {
      "cell_type": "markdown",
      "source": [
        "`Encoder` и `Decoder` являются ключевыми компонентами модели `Transformer`, но их необходимо объединить, а затем создать окончательный слой `Dense` для получения вероятностей токенов. Теперь объединим эти два класса и создадим `Transformer`, расширяя `tf.keras.Model`."
      ],
      "metadata": {
        "id": "Vpvn4VbtLsW8"
      }
    },
    {
      "cell_type": "code",
      "source": [
        "class Transformer(tf.keras.Model):\n",
        "  \"\"\"\n",
        "  Модель Transformer, состоящая из кодера, декодера и конечного полносвязного слоя.\n",
        "\n",
        "  Аргументы:\n",
        "    num_layers (int): Количество уровней как в кодере, так и в декодере.\n",
        "    d_model (int): Скрытый размер модели.\n",
        "    num_heads (int): Количество голов внимания, используемых в модели.\n",
        "    dff (int): Размер слоя прямой связи в кодере и декодере.\n",
        "    input_vocab_size (int): Размер словарного запаса входных данных.\n",
        "    target_vocab_size (int): Размер словарного запаса целевого объекта.\n",
        "    dropout_rate (float): Коэффициент dropout, применяемый к выходным данным каждого подуровня.\n",
        "\n",
        "  Аттрибуты:\n",
        "    encoder (Encoder): Экземпляр класса Encoder.\n",
        "    decoder (Decoder): Экземпляр класса Decoder.\n",
        "    final_layer (Dense): Полносвязный слой, который преобразует конечный результат преобразования в вероятности выходных токенов.\n",
        "\n",
        "  Методы:\n",
        "    call(inputs): Прямой проход модели-трансформера.\n",
        "\n",
        "  Выходы:\n",
        "    logits (tf.Tensor): Выходной тензор конечного полносвязного слоя. Размерность (batch_size, target_len, target_vocab_size).\n",
        "  \"\"\"\n",
        "  def __init__(self, *, num_layers, d_model, num_heads, dff,\n",
        "               input_vocab_size, target_vocab_size, dropout_rate=0.1):\n",
        "    super().__init__()\n",
        "    self.encoder = Encoder(num_layers=num_layers, d_model=d_model,\n",
        "                           num_heads=num_heads, dff=dff,\n",
        "                           vocab_size=input_vocab_size,\n",
        "                           dropout_rate=dropout_rate)\n",
        "\n",
        "    self.decoder = Decoder(num_layers=num_layers, d_model=d_model,\n",
        "                           num_heads=num_heads, dff=dff,\n",
        "                           vocab_size=target_vocab_size,\n",
        "                           dropout_rate=dropout_rate)\n",
        "\n",
        "    self.final_layer = tf.keras.layers.Dense(target_vocab_size)\n",
        "\n",
        "  def call(self, inputs):\n",
        "    \"\"\"\n",
        "    Прямой проход модели-трансформера.\n",
        "\n",
        "    Аргументы:\n",
        "      inputs (tuple): Набор из двух тензоров. Первый тензор - это введенный контекстом тензор размерности (batch_size, context_len).\n",
        "                      Второй тензор - это целевой входной тензор размерности (batch_size, target_len).\n",
        "\n",
        "    Выходы:\n",
        "      logits (tf.Tensor): Выходной тензор конечного полносвязного слоя. Размерность (batch_size, target_len, target_vocab_size).\n",
        "    \"\"\"\n",
        "\n",
        "    # Чтобы использовать модель Keras с `.fit`, необходимо передать все свои входные данные в\n",
        "    # первый аргумент.\n",
        "    context, x  = inputs\n",
        "\n",
        "    context = self.encoder(context)  # (batch_size, context_len, d_model)\n",
        "\n",
        "    x = self.decoder(x, context)  # (batch_size, target_len, d_model)\n",
        "\n",
        "    # Окончательный вывод линейного слоя.\n",
        "    logits = self.final_layer(x)  # (batch_size, target_len, target_vocab_size)\n",
        "\n",
        "    try:\n",
        "      # Уберем маску keras, чтобы она не увеличивала losses/metrics.\n",
        "\n",
        "      del logits._keras_mask\n",
        "    except AttributeError:\n",
        "      pass\n",
        "\n",
        "    # Возвращаем конечный результат и значения весов внимания.\n",
        "    return logits"
      ],
      "metadata": {
        "id": "P-PMGP6o9WiZ"
      },
      "execution_count": null,
      "outputs": []
    },
    {
      "cell_type": "markdown",
      "source": [
        "Класс `Transformer` - это модель `Keras`, которая объединяет `Encoder` и `Decoder` для реализации архитектуры `Transformer`.\n",
        "\n",
        "`Encoder` - это экземпляр класса `Encoder`, который принимает последовательность токенов в качестве входных данных и выводит последовательность векторов, представляющих контекстуальную информацию для каждого токена в последовательности.\n",
        "\n",
        "`Decoder` - это экземпляр класса `Decoder`, который принимает последовательность целевых токенов и контекстную информацию от `Encoder` в качестве входных данных и выводит последовательность векторов, которые представляют контекстную информацию для каждого целевого токена в последовательности.\n",
        "\n",
        "`final_layer` - это полносвязный слой Keras, который принимает выходные данные \"Декодера\" и сопоставляет их с последовательностью вероятностей целевых токенов.\n",
        "\n",
        "Метод `call` класса `Transformer` принимает входной тензор `inputs`, который представляет собой набор из двух тензоров: тензора `context`, который является входной последовательностью для `Encoder`, и тензора `x`, который является целевой последовательностью для `Decoder`. Метод передает тензор `context` через `Encoder` для получения контекстуальной информации для каждого токена в последовательности, а затем передает тензор `x` и выходные данные `Encoder` в `Decoder` для генерации выходной последовательности. Наконец, метод передает выходные данные декодера через `final_layer`, чтобы получить вероятности целевых токенов. Метод возвращает `logits`, которые являются вероятностями целевых токенов, а также весами внимания."
      ],
      "metadata": {
        "id": "1anuCVBdMw-G"
      }
    },
    {
      "cell_type": "markdown",
      "source": [
        "Чтобы сохранить относительно быстрый и компактный пример, размер слоев, вложений и внутренние размеры слоя прямой связи в модели `Transformer` были уменьшены. В оригинальной статье использовалась базовая модель с `num_layers=6`, `d_model=512` и `dff=2048`. Однако количество голов `self-attention` в этом примере остается прежним, равным `num_heads=8`."
      ],
      "metadata": {
        "id": "qWC5rCM8NV52"
      }
    },
    {
      "cell_type": "code",
      "source": [
        "num_layers = 4\n",
        "d_model = 128\n",
        "dff = 512\n",
        "num_heads = 8\n",
        "dropout_rate = 0.1"
      ],
      "metadata": {
        "id": "o65sM0Bs9Wfz"
      },
      "execution_count": null,
      "outputs": []
    },
    {
      "cell_type": "markdown",
      "source": [
        "Cоздадим экземпляр модели `Transformer`:"
      ],
      "metadata": {
        "id": "t0Uc1UPQNnRz"
      }
    },
    {
      "cell_type": "code",
      "source": [
        "transformer = Transformer(\n",
        "    num_layers=num_layers,\n",
        "    d_model=d_model,\n",
        "    num_heads=num_heads,\n",
        "    dff=dff,\n",
        "    input_vocab_size=tokenizers.pt.get_vocab_size().numpy(),\n",
        "    target_vocab_size=tokenizers.en.get_vocab_size().numpy(),\n",
        "    dropout_rate=dropout_rate)"
      ],
      "metadata": {
        "id": "kstC4GFC9WdO"
      },
      "execution_count": null,
      "outputs": []
    },
    {
      "cell_type": "markdown",
      "source": [
        "Мы можем протестировать модель, прежде чем переходить к обучению модели."
      ],
      "metadata": {
        "id": "2ploBDHBNwZs"
      }
    },
    {
      "cell_type": "code",
      "source": [
        "output = transformer((pt, en))\n",
        "\n",
        "print(en.shape)\n",
        "print(pt.shape)\n",
        "print(output.shape)"
      ],
      "metadata": {
        "id": "GXl7UvrV9WZk",
        "colab": {
          "base_uri": "https://localhost:8080/"
        },
        "outputId": "75f9f52e-dbe8-4b1f-c3e4-c2521a39f514"
      },
      "execution_count": null,
      "outputs": [
        {
          "output_type": "stream",
          "name": "stderr",
          "text": [
            "/usr/local/lib/python3.10/dist-packages/keras/src/layers/layer.py:915: UserWarning: Layer 'global_self_attention_5' (of type GlobalSelfAttention) was passed an input with a mask attached to it. However, this layer does not support masking and will therefore destroy the mask information. Downstream layers will not see the mask.\n",
            "  warnings.warn(\n",
            "/usr/local/lib/python3.10/dist-packages/keras/src/layers/layer.py:915: UserWarning: Layer 'sequential_9' (of type Sequential) was passed an input with a mask attached to it. However, this layer does not support masking and will therefore destroy the mask information. Downstream layers will not see the mask.\n",
            "  warnings.warn(\n",
            "/usr/local/lib/python3.10/dist-packages/keras/src/layers/layer.py:915: UserWarning: Layer 'feed_forward_9' (of type FeedForward) was passed an input with a mask attached to it. However, this layer does not support masking and will therefore destroy the mask information. Downstream layers will not see the mask.\n",
            "  warnings.warn(\n",
            "/usr/local/lib/python3.10/dist-packages/keras/src/layers/layer.py:915: UserWarning: Layer 'encoder_layer_4' (of type EncoderLayer) was passed an input with a mask attached to it. However, this layer does not support masking and will therefore destroy the mask information. Downstream layers will not see the mask.\n",
            "  warnings.warn(\n",
            "/usr/local/lib/python3.10/dist-packages/keras/src/layers/layer.py:915: UserWarning: Layer 'global_self_attention_6' (of type GlobalSelfAttention) was passed an input with a mask attached to it. However, this layer does not support masking and will therefore destroy the mask information. Downstream layers will not see the mask.\n",
            "  warnings.warn(\n",
            "/usr/local/lib/python3.10/dist-packages/keras/src/layers/layer.py:915: UserWarning: Layer 'sequential_10' (of type Sequential) was passed an input with a mask attached to it. However, this layer does not support masking and will therefore destroy the mask information. Downstream layers will not see the mask.\n",
            "  warnings.warn(\n",
            "/usr/local/lib/python3.10/dist-packages/keras/src/layers/layer.py:915: UserWarning: Layer 'feed_forward_10' (of type FeedForward) was passed an input with a mask attached to it. However, this layer does not support masking and will therefore destroy the mask information. Downstream layers will not see the mask.\n",
            "  warnings.warn(\n",
            "/usr/local/lib/python3.10/dist-packages/keras/src/layers/layer.py:915: UserWarning: Layer 'encoder_layer_5' (of type EncoderLayer) was passed an input with a mask attached to it. However, this layer does not support masking and will therefore destroy the mask information. Downstream layers will not see the mask.\n",
            "  warnings.warn(\n",
            "/usr/local/lib/python3.10/dist-packages/keras/src/layers/layer.py:915: UserWarning: Layer 'global_self_attention_7' (of type GlobalSelfAttention) was passed an input with a mask attached to it. However, this layer does not support masking and will therefore destroy the mask information. Downstream layers will not see the mask.\n",
            "  warnings.warn(\n",
            "/usr/local/lib/python3.10/dist-packages/keras/src/layers/layer.py:915: UserWarning: Layer 'sequential_11' (of type Sequential) was passed an input with a mask attached to it. However, this layer does not support masking and will therefore destroy the mask information. Downstream layers will not see the mask.\n",
            "  warnings.warn(\n",
            "/usr/local/lib/python3.10/dist-packages/keras/src/layers/layer.py:915: UserWarning: Layer 'feed_forward_11' (of type FeedForward) was passed an input with a mask attached to it. However, this layer does not support masking and will therefore destroy the mask information. Downstream layers will not see the mask.\n",
            "  warnings.warn(\n",
            "/usr/local/lib/python3.10/dist-packages/keras/src/layers/layer.py:915: UserWarning: Layer 'encoder_layer_6' (of type EncoderLayer) was passed an input with a mask attached to it. However, this layer does not support masking and will therefore destroy the mask information. Downstream layers will not see the mask.\n",
            "  warnings.warn(\n",
            "/usr/local/lib/python3.10/dist-packages/keras/src/layers/layer.py:915: UserWarning: Layer 'global_self_attention_8' (of type GlobalSelfAttention) was passed an input with a mask attached to it. However, this layer does not support masking and will therefore destroy the mask information. Downstream layers will not see the mask.\n",
            "  warnings.warn(\n",
            "/usr/local/lib/python3.10/dist-packages/keras/src/layers/layer.py:915: UserWarning: Layer 'sequential_12' (of type Sequential) was passed an input with a mask attached to it. However, this layer does not support masking and will therefore destroy the mask information. Downstream layers will not see the mask.\n",
            "  warnings.warn(\n",
            "/usr/local/lib/python3.10/dist-packages/keras/src/layers/layer.py:915: UserWarning: Layer 'feed_forward_12' (of type FeedForward) was passed an input with a mask attached to it. However, this layer does not support masking and will therefore destroy the mask information. Downstream layers will not see the mask.\n",
            "  warnings.warn(\n",
            "/usr/local/lib/python3.10/dist-packages/keras/src/layers/layer.py:915: UserWarning: Layer 'encoder_layer_7' (of type EncoderLayer) was passed an input with a mask attached to it. However, this layer does not support masking and will therefore destroy the mask information. Downstream layers will not see the mask.\n",
            "  warnings.warn(\n",
            "/usr/local/lib/python3.10/dist-packages/keras/src/layers/layer.py:915: UserWarning: Layer 'causal_self_attention_5' (of type CausalSelfAttention) was passed an input with a mask attached to it. However, this layer does not support masking and will therefore destroy the mask information. Downstream layers will not see the mask.\n",
            "  warnings.warn(\n",
            "/usr/local/lib/python3.10/dist-packages/keras/src/layers/layer.py:915: UserWarning: Layer 'cross_attention_5' (of type CrossAttention) was passed an input with a mask attached to it. However, this layer does not support masking and will therefore destroy the mask information. Downstream layers will not see the mask.\n",
            "  warnings.warn(\n",
            "/usr/local/lib/python3.10/dist-packages/keras/src/layers/layer.py:915: UserWarning: Layer 'sequential_13' (of type Sequential) was passed an input with a mask attached to it. However, this layer does not support masking and will therefore destroy the mask information. Downstream layers will not see the mask.\n",
            "  warnings.warn(\n",
            "/usr/local/lib/python3.10/dist-packages/keras/src/layers/layer.py:915: UserWarning: Layer 'feed_forward_13' (of type FeedForward) was passed an input with a mask attached to it. However, this layer does not support masking and will therefore destroy the mask information. Downstream layers will not see the mask.\n",
            "  warnings.warn(\n",
            "/usr/local/lib/python3.10/dist-packages/keras/src/layers/layer.py:915: UserWarning: Layer 'decoder_layer_4' (of type DecoderLayer) was passed an input with a mask attached to it. However, this layer does not support masking and will therefore destroy the mask information. Downstream layers will not see the mask.\n",
            "  warnings.warn(\n",
            "/usr/local/lib/python3.10/dist-packages/keras/src/layers/layer.py:915: UserWarning: Layer 'causal_self_attention_6' (of type CausalSelfAttention) was passed an input with a mask attached to it. However, this layer does not support masking and will therefore destroy the mask information. Downstream layers will not see the mask.\n",
            "  warnings.warn(\n",
            "/usr/local/lib/python3.10/dist-packages/keras/src/layers/layer.py:915: UserWarning: Layer 'cross_attention_6' (of type CrossAttention) was passed an input with a mask attached to it. However, this layer does not support masking and will therefore destroy the mask information. Downstream layers will not see the mask.\n",
            "  warnings.warn(\n",
            "/usr/local/lib/python3.10/dist-packages/keras/src/layers/layer.py:915: UserWarning: Layer 'sequential_14' (of type Sequential) was passed an input with a mask attached to it. However, this layer does not support masking and will therefore destroy the mask information. Downstream layers will not see the mask.\n",
            "  warnings.warn(\n",
            "/usr/local/lib/python3.10/dist-packages/keras/src/layers/layer.py:915: UserWarning: Layer 'feed_forward_14' (of type FeedForward) was passed an input with a mask attached to it. However, this layer does not support masking and will therefore destroy the mask information. Downstream layers will not see the mask.\n",
            "  warnings.warn(\n",
            "/usr/local/lib/python3.10/dist-packages/keras/src/layers/layer.py:915: UserWarning: Layer 'decoder_layer_5' (of type DecoderLayer) was passed an input with a mask attached to it. However, this layer does not support masking and will therefore destroy the mask information. Downstream layers will not see the mask.\n",
            "  warnings.warn(\n",
            "/usr/local/lib/python3.10/dist-packages/keras/src/layers/layer.py:915: UserWarning: Layer 'causal_self_attention_7' (of type CausalSelfAttention) was passed an input with a mask attached to it. However, this layer does not support masking and will therefore destroy the mask information. Downstream layers will not see the mask.\n",
            "  warnings.warn(\n",
            "/usr/local/lib/python3.10/dist-packages/keras/src/layers/layer.py:915: UserWarning: Layer 'cross_attention_7' (of type CrossAttention) was passed an input with a mask attached to it. However, this layer does not support masking and will therefore destroy the mask information. Downstream layers will not see the mask.\n",
            "  warnings.warn(\n",
            "/usr/local/lib/python3.10/dist-packages/keras/src/layers/layer.py:915: UserWarning: Layer 'sequential_15' (of type Sequential) was passed an input with a mask attached to it. However, this layer does not support masking and will therefore destroy the mask information. Downstream layers will not see the mask.\n",
            "  warnings.warn(\n",
            "/usr/local/lib/python3.10/dist-packages/keras/src/layers/layer.py:915: UserWarning: Layer 'feed_forward_15' (of type FeedForward) was passed an input with a mask attached to it. However, this layer does not support masking and will therefore destroy the mask information. Downstream layers will not see the mask.\n",
            "  warnings.warn(\n",
            "/usr/local/lib/python3.10/dist-packages/keras/src/layers/layer.py:915: UserWarning: Layer 'decoder_layer_6' (of type DecoderLayer) was passed an input with a mask attached to it. However, this layer does not support masking and will therefore destroy the mask information. Downstream layers will not see the mask.\n",
            "  warnings.warn(\n",
            "/usr/local/lib/python3.10/dist-packages/keras/src/layers/layer.py:915: UserWarning: Layer 'causal_self_attention_8' (of type CausalSelfAttention) was passed an input with a mask attached to it. However, this layer does not support masking and will therefore destroy the mask information. Downstream layers will not see the mask.\n",
            "  warnings.warn(\n",
            "/usr/local/lib/python3.10/dist-packages/keras/src/layers/layer.py:915: UserWarning: Layer 'cross_attention_8' (of type CrossAttention) was passed an input with a mask attached to it. However, this layer does not support masking and will therefore destroy the mask information. Downstream layers will not see the mask.\n",
            "  warnings.warn(\n",
            "/usr/local/lib/python3.10/dist-packages/keras/src/layers/layer.py:915: UserWarning: Layer 'sequential_16' (of type Sequential) was passed an input with a mask attached to it. However, this layer does not support masking and will therefore destroy the mask information. Downstream layers will not see the mask.\n",
            "  warnings.warn(\n",
            "/usr/local/lib/python3.10/dist-packages/keras/src/layers/layer.py:915: UserWarning: Layer 'feed_forward_16' (of type FeedForward) was passed an input with a mask attached to it. However, this layer does not support masking and will therefore destroy the mask information. Downstream layers will not see the mask.\n",
            "  warnings.warn(\n",
            "/usr/local/lib/python3.10/dist-packages/keras/src/layers/layer.py:915: UserWarning: Layer 'decoder_layer_7' (of type DecoderLayer) was passed an input with a mask attached to it. However, this layer does not support masking and will therefore destroy the mask information. Downstream layers will not see the mask.\n",
            "  warnings.warn(\n"
          ]
        },
        {
          "output_type": "stream",
          "name": "stdout",
          "text": [
            "(64, 86)\n",
            "(64, 79)\n",
            "(64, 86, 7010)\n"
          ]
        }
      ]
    },
    {
      "cell_type": "markdown",
      "source": [
        "## 2.6. Обучение"
      ],
      "metadata": {
        "id": "XuoeG22kObyh"
      }
    },
    {
      "cell_type": "markdown",
      "source": [
        "### 2.6.1. Оптимизатор"
      ],
      "metadata": {
        "id": "hkj8CkuvUk4f"
      }
    },
    {
      "cell_type": "markdown",
      "source": [
        "Используем оптимизатор `Adam`  с настраиваемым планировщиком скорости обучения в соответствии с формулой, приведенной в оригинальной [статье](https://arxiv.org/abs/1706.03762).\n"
      ],
      "metadata": {
        "id": "goFafjotWs0A"
      }
    },
    {
      "cell_type": "code",
      "source": [
        "class CustomSchedule(tf.keras.optimizers.schedules.LearningRateSchedule):\n",
        "  \"\"\"\n",
        "  Настраиваемый график темпа обучения, который реализует функцию темпа обучения\n",
        ", описанную в оригинальной статье Transformer. Скорость обучения\n",
        "линейно увеличивается для первых этапов обучения \"warm up_steps\", а затем уменьшается\n",
        "пропорционально корню, обратному квадратному корню из номера шага.\n",
        "\n",
        "  Аргументы:\n",
        "    d_model (int): размерность модели.\n",
        "    warmup_steps (int): количество шагов, выполняемых для увеличения скорости обучения\n",
        "      линейно. Значение по умолчанию - 4000.\n",
        "\n",
        "  Аттрибуты:\n",
        "    d_model (float): размерность модели, float.\n",
        "    warmup_steps (int): количество шагов, предпринятых для повышения скорости обучения\n",
        "      линейно.\n",
        "\n",
        "  Методы:\n",
        "    __call__(step): возвращает скорость обучения на данном шаге.\n",
        "\n",
        "  Выходы:\n",
        "    Скорость обучения на данном этапе.\n",
        "  \"\"\"\n",
        "  def __init__(self, d_model, warmup_steps=4000):\n",
        "    super().__init__()\n",
        "\n",
        "    self.d_model = d_model\n",
        "    self.d_model = tf.cast(self.d_model, tf.float32)\n",
        "\n",
        "    self.warmup_steps = warmup_steps\n",
        "\n",
        "  def __call__(self, step):\n",
        "    \"\"\"\n",
        "    Возвращает скорость обучения на данном шаге.\n",
        "\n",
        "    Аргументы:\n",
        "      step (int): текущий этап обучения.\n",
        "\n",
        "    Выходы:\n",
        "      Скорость обучения на данном шаге в виде тензора float32.\n",
        "    \"\"\"\n",
        "    step = tf.cast(step, dtype=tf.float32)\n",
        "    arg1 = tf.math.rsqrt(step)\n",
        "    arg2 = step * (self.warmup_steps ** -1.5)\n",
        "\n",
        "    return tf.math.rsqrt(self.d_model) * tf.math.minimum(arg1, arg2)"
      ],
      "metadata": {
        "id": "QUB7VqatUkne"
      },
      "execution_count": null,
      "outputs": []
    },
    {
      "cell_type": "markdown",
      "source": [
        "Класс `CustomSchedule` является подклассом `tf.keras.optimizers.schedules.LearningRateSchedule`. Он принимает два аргумента `d_model` и `warmup_steps`. `d_model` представляет размерность модели, которая преобразуется в `float32`. `warmup_steps` - это количество шагов для линейного увеличения скорости обучения перед ее снижением.\n",
        "\n",
        "Метод `__call__` принимает единственный аргумент `step`, который представляет текущий шаг обучения. Он преобразует шаг в `float32` и вычисляет два аргумента `arg1` и `arg2`. `arg1` вычисляется путем извлечения `reciprocal` из `step`. `arg2` вычисляется путем умножения шага на обратный квадратный корень из `warmup_steps`, возведенный в степень `-1,5`.\n",
        "\n",
        "Наконец, метод возвращает произведение обратного квадратного корня из `d_model` и минимума из `arg1` и `arg2`. Этот метод используется для определения графика скорости обучения для оптимизатора, используемого в процессе обучения модели `Transformer`.\n",
        "\n",
        "Теперь мы можем создать экземпляр оптимизатора (в данном примере это `tf.keras.optimizers.Adam`).\n",
        "\n",
        "\n",
        "$$\\Large{lrate = d_{model}^{-0.5} * \\min(step{\\_}num^{-0.5}, step{\\_}num \\cdot warmup{\\_}steps^{-1.5})}$$"
      ],
      "metadata": {
        "id": "GSWNWXv3WxA1"
      }
    },
    {
      "cell_type": "code",
      "source": [
        "learning_rate = CustomSchedule(d_model)\n",
        "\n",
        "optimizer = tf.keras.optimizers.Adam(learning_rate, beta_1=0.9, beta_2=0.98,\n",
        "                                     epsilon=1e-9)"
      ],
      "metadata": {
        "id": "DkRosAjCUkkd"
      },
      "execution_count": null,
      "outputs": []
    },
    {
      "cell_type": "markdown",
      "source": [
        "Посмотрим, как это выглядит"
      ],
      "metadata": {
        "id": "wenzyx7gXdU8"
      }
    },
    {
      "cell_type": "code",
      "source": [
        "plt.plot(learning_rate(tf.range(40000, dtype=tf.float32)))\n",
        "plt.ylabel('Скорость обучения')\n",
        "plt.xlabel('Шаг обучения')"
      ],
      "metadata": {
        "id": "kkP_-PTMUket",
        "colab": {
          "base_uri": "https://localhost:8080/",
          "height": 467
        },
        "outputId": "c78ea2c2-b494-4289-8219-69ce88f52133"
      },
      "execution_count": null,
      "outputs": [
        {
          "output_type": "execute_result",
          "data": {
            "text/plain": [
              "Text(0.5, 0, 'Шаг обучения')"
            ]
          },
          "metadata": {},
          "execution_count": 49
        },
        {
          "output_type": "display_data",
          "data": {
            "text/plain": [
              "<Figure size 640x480 with 1 Axes>"
            ],
            "image/png": "[encoded data removed]"
          },
          "metadata": {}
        }
      ]
    },
    {
      "cell_type": "markdown",
      "source": [
        "### 2.6.1. Loss"
      ],
      "metadata": {
        "id": "CQ5G3HUhUrGm"
      }
    },
    {
      "cell_type": "markdown",
      "source": [
        "Определим функцию потерь и точности. Мы используем функцию потерь перекрестной энтропии, используя `tf.keras.losses.SparseCategoricalCrossentropy`"
      ],
      "metadata": {
        "id": "QKorl9P9XqUe"
      }
    },
    {
      "cell_type": "code",
      "source": [
        "def masked_loss(label, pred):\n",
        "  \"\"\"\n",
        "  Вычисляет маскированную разреженную категориальную потерю перекрестной энтропии между истинными метками и прогнозируемыми метками.\n",
        "\n",
        "  Аргументы:\n",
        "      label: Тензор размерности (batch_size, seq_length) содержащие истинные метки.\n",
        "      pred: Тензор размерности (batch_size, seq_length, target_vocab_size) содержащий предсказанные метки.\n",
        "\n",
        "  Выходы:\n",
        "      Скалярный тензор, представляющий маскированное значение потерь.\n",
        "\n",
        "  \"\"\"\n",
        "  mask = label != 0\n",
        "  loss_object = tf.keras.losses.SparseCategoricalCrossentropy(\n",
        "    from_logits=True, reduction='none')\n",
        "  loss = loss_object(label, pred)\n",
        "\n",
        "  mask = tf.cast(mask, dtype=loss.dtype)\n",
        "  loss *= mask\n",
        "\n",
        "  loss = tf.reduce_sum(loss)/tf.reduce_sum(mask)\n",
        "  return loss"
      ],
      "metadata": {
        "id": "7hNclceIUkZt"
      },
      "execution_count": null,
      "outputs": []
    },
    {
      "cell_type": "markdown",
      "source": [
        "Функция `masked_loss` вычисляет маскированную разреженную категориальную потерю перекрестной энтропии между предсказанными значениями и истинными метками. В этой функции входными данными `label` и `pred` являются истинные метки и предсказанные значения соответственно.\n",
        "\n",
        "Сначала функция создает логическую маску, чтобы исключить дополненные значения (0) из расчета потерь. Затем он определяет объект потерь как `SparseCategoricalCrossentropy` из `tf.keras.losses`, который вычисляет потерю перекрестной энтропии между истинной и прогнозируемой метками.\n",
        "\n",
        "На следующем шаге потери умножаются на маску, чтобы исключить любой вклад в потери от значений с дополнениями. Затем функция уменьшает потери, вычисляя сумму потерь по значениям без дополнений и деля ее на сумму по маске, чтобы получить среднее значение потерь по значениям без дополнений.\n",
        "\n",
        "Теперь напишем функцию для вычисления `accuracy` (точности):"
      ],
      "metadata": {
        "id": "12Q6AFGDYNb1"
      }
    },
    {
      "cell_type": "code",
      "source": [
        "def masked_accuracy(label, pred):\n",
        "  \"\"\"\n",
        "  Вычисляет маскированную точность между истинными метками и прогнозируемыми метками.\n",
        "\n",
        "  Аргументы:\n",
        "      label: Тензор размерности (batch_size, seq_length) содержит истинные метки.\n",
        "      pred:  Тензор размерности (batch_size, seq_length, target_vocab_size) содержит прогнозные метки.\n",
        "\n",
        "  Выходы:\n",
        "      Скалярный тензор, представляющий замаскированное значение accuracy.\n",
        "\n",
        "  \"\"\"\n",
        "  pred = tf.argmax(pred, axis=2)\n",
        "  label = tf.cast(label, pred.dtype)\n",
        "  match = label == pred\n",
        "\n",
        "  mask = label != 0\n",
        "\n",
        "  match = match & mask\n",
        "\n",
        "  match = tf.cast(match, dtype=tf.float32)\n",
        "  mask = tf.cast(mask, dtype=tf.float32)\n",
        "  return tf.reduce_sum(match)/tf.reduce_sum(mask)"
      ],
      "metadata": {
        "id": "qYnnVpnYYLsq"
      },
      "execution_count": null,
      "outputs": []
    },
    {
      "cell_type": "markdown",
      "source": [
        "Функция `masked_accuracy` вычисляет маскированную точность прогнозируемых значений с учетом истинных меток. Входными данными функции являются `label` и `pred`, которые являются истинными метками и прогнозируемыми значениями соответственно.\n",
        "\n",
        "Сначала функция использует `tf.argmax`, чтобы найти индекс максимального значения в `pred` по последнему измерению, которое представляет предсказанный класс. Затем метка `truelabels` преобразуется в тот же тип данных, что и предсказанные значения pred.\n",
        "\n",
        "Затем функция создает логическую маску, чтобы исключить из расчета значения с дополнениями. Функция использует оператор & для сравнения предсказанных и истинных меток и создания логического матричного соответствия. Значения в match указывают, совпадают ли предсказанные и истинные метки для значений без дополнений.\n",
        "\n",
        "Затем матрица соответствия и матрица маски преобразуются в `float32` и используются для вычисления средней точности по значениям без заполнения. Функция возвращает сумму совпадений, деленную на сумму значений маски."
      ],
      "metadata": {
        "id": "lKbAbe_mZjU4"
      }
    },
    {
      "cell_type": "markdown",
      "source": [
        "### 2.6.3. Обучение"
      ],
      "metadata": {
        "id": "bYixjv6BUsf9"
      }
    },
    {
      "cell_type": "markdown",
      "source": [
        "Компилируем модель и проведем обучение методом `.fit` на протяжении 20 эпох. Используйте Colab A100 GPU!"
      ],
      "metadata": {
        "id": "BmiA5DEraY5N"
      }
    },
    {
      "cell_type": "code",
      "source": [
        "transformer.compile(\n",
        "    loss=masked_loss,\n",
        "    optimizer=optimizer,\n",
        "    metrics=[masked_accuracy])"
      ],
      "metadata": {
        "id": "g8U7dVe09WTF"
      },
      "execution_count": null,
      "outputs": []
    },
    {
      "cell_type": "code",
      "source": [
        "transformer.fit(train_batches,\n",
        "                epochs=1, # Здесь нужно изменить количество эпох на 20\n",
        "                validation_data=val_batches)"
      ],
      "metadata": {
        "id": "E2XSvNE4OHKe",
        "colab": {
          "base_uri": "https://localhost:8080/"
        },
        "outputId": "f53e636d-b47c-4dee-cfd1-ef9095b0ec6f"
      },
      "execution_count": null,
      "outputs": [
        {
          "output_type": "stream",
          "name": "stdout",
          "text": [
            "\u001b[1m118/810\u001b[0m \u001b[32m━━\u001b[0m\u001b[37m━━━━━━━━━━━━━━━━━━\u001b[0m \u001b[1m5:03:54\u001b[0m 26s/step - loss: 8.7739 - masked_accuracy: 0.0217"
          ]
        }
      ]
    },
    {
      "cell_type": "markdown",
      "source": [
        "## 2.7. Тестирование"
      ],
      "metadata": {
        "id": "OMhHa6yfOegj"
      }
    },
    {
      "cell_type": "markdown",
      "source": [
        "После обучения модели попробуем использовать эту модель для перевода! Для этого напишем класс `Translator`.\n",
        "\n",
        "`Translator` принимает `tokenizers` и `transformer` в качестве входных данных в своем конструкторе. В нем есть метод `__call__`, который берет предложение на португальском языке и переводит его на английский, используя модель `transformer`.\n",
        "\n",
        "Входное предложение сначала преобразуется в токенизатор на португальском языке и преобразуется в тензор. Входным сигналом кодера является токенизированное предложение.\n",
        "\n",
        "Для его инициализации в выходные данные добавляется английский токен `[START]`. Выходные данные сохраняются в `tf.TensorArray`.\n",
        "\n",
        "Для каждого токена в выходных данных вызывается модель преобразования с входным сигналом кодера и текущим выходным сигналом. Выбирается последний токен из измерения `seq_len` прогнозов и добавляется к выходным данным. Если последним токеном является токен \"[END]\", цикл завершается. Выходные данные преобразуются в текст с использованием английского токенизатора и возвращаются вместе с весами внимания."
      ],
      "metadata": {
        "id": "hY16oj4ZaodB"
      }
    },
    {
      "cell_type": "code",
      "source": [
        "class Translator(tf.Module):\n",
        "  \"\"\"Переводчик, использующий модель трансформер для перевода\n",
        "предложений с португальского на английский.\n",
        "\n",
        "  Аттрибуты:\n",
        "      tokenizers (dict): Словарь токенизаторов для\n",
        "португальского и английского языков.\n",
        "      transformer (tf.keras.Model): Модель-трансформер, которая может\n",
        "быть использована для преобразования последовательности в последовательность.\n",
        "  \"\"\"\n",
        "  def __init__(self, tokenizers, transformer):\n",
        "    self.tokenizers = tokenizers\n",
        "    self.transformer = transformer\n",
        "\n",
        "  def __call__(self, sentence, max_length=MAX_TOKENS):\n",
        "    \"\"\"Переводит предложение с португальского на английский.\n",
        "\n",
        "    Аргументы:\n",
        "        sentence (str): Предложение, подлежащее переводу.\n",
        "        max_length (int): Максимальное количество лексем в выводимом предложении.\n",
        "\n",
        "    Вызоды:\n",
        "        tuple: Кортеж, содержащий переведенный текст, токены переведенного текста\n",
        "и значения весов внимания в модели-трансформере.\n",
        "    \"\"\"\n",
        "    # Входное предложение написано на португальском языке, поэтому добавлены символы `[START]` и `[END]`\n",
        "\n",
        "    assert isinstance(sentence, tf.Tensor)\n",
        "    if len(sentence.shape) == 0:\n",
        "      sentence = sentence[tf.newaxis]\n",
        "\n",
        "    sentence = self.tokenizers.pt.tokenize(sentence).to_tensor()\n",
        "\n",
        "    encoder_input = sentence\n",
        "\n",
        "    # Поскольку язык вывода - английский, инициализируйте вывод с помощью английского токена \"[START]\".\n",
        "    start_end = self.tokenizers.en.tokenize([''])[0]\n",
        "    start = start_end[0][tf.newaxis]\n",
        "    end = start_end[1][tf.newaxis]\n",
        "\n",
        "    # здесь требуется `tf.Sensor Array\" (вместо списка Python), чтобы динамический цикл\n",
        "    # можно было отследить с помощью `tf.function\".\n",
        "    output_array = tf.TensorArray(dtype=tf.int64, size=0, dynamic_size=True)\n",
        "    output_array = output_array.write(0, start)\n",
        "\n",
        "    for i in tf.range(max_length):\n",
        "      output = tf.transpose(output_array.stack())\n",
        "      predictions = self.transformer([encoder_input, output], training=False)\n",
        "\n",
        "      # Выберите последний токен из измерения `seq_len`.\n",
        "      predictions = predictions[:, -1:, :]  # размерность `(batch_size, 1, vocab_size)`.\n",
        "\n",
        "      predicted_id = tf.argmax(predictions, axis=-1)\n",
        "\n",
        "      # Соедините `predicted_id` с выходными данными, которые передаются\n",
        "# decoder в качестве входных данных.\n",
        "      output_array = output_array.write(i+1, predicted_id[0])\n",
        "\n",
        "      if predicted_id == end:\n",
        "        break\n",
        "\n",
        "    output = tf.transpose(output_array.stack())\n",
        "    # Выходная размерность `(1, tokens)`.\n",
        "    text = tokenizers.en.detokenize(output)[0]  # размерность: `()`.\n",
        "\n",
        "    tokens = tokenizers.en.lookup(output)[0]\n",
        "\n",
        "    # `tf.function` не позволяет нам использовать значения attention_weights, которые были\n",
        "    # рассчитаны на последней итерации цикла.\n",
        "    # Поэтому пересчитаем их вне цикла.\n",
        "    self.transformer([encoder_input, output[:,:-1]], training=False)\n",
        "    attention_weights = self.transformer.decoder.last_attn_scores\n",
        "\n",
        "    return text, tokens, attention_weights"
      ],
      "metadata": {
        "id": "luwTBk7oOHHL"
      },
      "execution_count": null,
      "outputs": []
    },
    {
      "cell_type": "markdown",
      "source": [
        "Создадим экземпляр этого класса `Translator` и опробуем его несколько раз:"
      ],
      "metadata": {
        "id": "-g0uNyG5cHK9"
      }
    },
    {
      "cell_type": "code",
      "source": [
        "translator = Translator(tokenizers, transformer)"
      ],
      "metadata": {
        "id": "7UXXBM_POHE7"
      },
      "execution_count": null,
      "outputs": []
    },
    {
      "cell_type": "markdown",
      "source": [
        "Напишем функцию для перевода предложений для нас."
      ],
      "metadata": {
        "id": "9lBD0qkIciNQ"
      }
    },
    {
      "cell_type": "code",
      "source": [
        "def print_translation(sentence, tokens, ground_truth):\n",
        "  \"\"\"\n",
        "  Функция print_translation принимает три аргумента: sentence, tokens\n",
        "и ground_truth и выводит на печать входное предложение, прогнозируемый перевод\n",
        "и перевод, основанный на истине.\n",
        "\n",
        "  Аргументы:\n",
        "\n",
        "    sentence: Строка, представляющая входное предложение.\n",
        "    tokens: Тензор целых чисел, представляющий прогнозируемый перевод.\n",
        "    ground_truth: Строка, представляющая основной перевод истины.\n",
        "\n",
        "  Выходы:\n",
        "    Эта функция ничего не возвращает, она просто выводит на печать введенное предложение,\n",
        "прогнозируемый перевод и точный перевод в определенном формате.\n",
        "  \"\"\"\n",
        "  print(f'{\"Input:\":15s}: {sentence}')\n",
        "  print(f'{\"Prediction\":15s}: {tokens.numpy().decode(\"utf-8\")}')\n",
        "  print(f'{\"Ground truth\":15s}: {ground_truth}')"
      ],
      "metadata": {
        "id": "2qneKTBecYXS"
      },
      "execution_count": null,
      "outputs": []
    },
    {
      "cell_type": "markdown",
      "source": [
        "Также можно написать функцию, которая будет возвращать значения внимания. Давайте напишем."
      ],
      "metadata": {
        "id": "S4FEN4w2iDws"
      }
    },
    {
      "cell_type": "code",
      "source": [
        "def plot_attention_head(in_tokens, translated_tokens, attention):\n",
        "  \"\"\"\n",
        "  Выводит на график значения весов внимания для одной головы механизма внимания.\n",
        "\n",
        "  Аргументы:\n",
        "  - in_tokens: тензор размерности (in_seq_length,), содержащий входные токены.\n",
        "  - translated_tokens: тензор размерности (out_seq_length,), содержащий переведенные токены.\n",
        "  - attention: тензор размерности (out_seq_length, in_seq_length), содержащий веса внимания.\n",
        "\n",
        "  Выходы:\n",
        "  None.\n",
        "  \"\"\"\n",
        "  # Модель не сгенерировала `<START>` в выходных данных. Пропустим это.\n",
        "  translated_tokens = translated_tokens[1:]\n",
        "\n",
        "  ax = plt.gca()\n",
        "  ax.matshow(attention)\n",
        "  ax.set_xticks(range(len(in_tokens)))\n",
        "  ax.set_yticks(range(len(translated_tokens)))\n",
        "\n",
        "  labels = [label.decode('utf-8') for label in in_tokens.numpy()]\n",
        "  ax.set_xticklabels(\n",
        "      labels, rotation=90)\n",
        "\n",
        "  labels = [label.decode('utf-8') for label in translated_tokens.numpy()]\n",
        "  ax.set_yticklabels(labels)"
      ],
      "metadata": {
        "id": "a4c2Uc6zjBy1"
      },
      "execution_count": null,
      "outputs": []
    },
    {
      "cell_type": "code",
      "source": [
        " def plot_attention_weights(sentence, translated_tokens, attention_heads):\n",
        "  \"\"\"\n",
        "  Строит график распределения внимания для каждой головы модели-трансформера.\n",
        "\n",
        "  Аргументы:\n",
        "      sentence (str): Вводное предложение на португальском языке.\n",
        "      translated_tokens (tf.Tensor): Переведенные токены на английском языке.\n",
        "      attention_heads (list): Головы внимания модели трансформер.\n",
        "\n",
        "  Выходы:\n",
        "      None\n",
        "  \"\"\"\n",
        "  in_tokens = tf.convert_to_tensor([sentence])\n",
        "  in_tokens = tokenizers.pt.tokenize(in_tokens).to_tensor()\n",
        "  in_tokens = tokenizers.pt.lookup(in_tokens)[0]\n",
        "\n",
        "  fig = plt.figure(figsize=(16, 8))\n",
        "\n",
        "  for h, head in enumerate(attention_heads):\n",
        "    ax = fig.add_subplot(2, 4, h+1)\n",
        "\n",
        "    plot_attention_head(in_tokens, translated_tokens, head)\n",
        "\n",
        "    ax.set_xlabel(f'Head {h+1}')\n",
        "\n",
        "  plt.tight_layout()\n",
        "  plt.show()\n"
      ],
      "metadata": {
        "id": "a2aEEaNOiDTv"
      },
      "execution_count": null,
      "outputs": []
    },
    {
      "cell_type": "markdown",
      "source": [
        "`plot_attention_weights` - это функция, которая отображает значения весов внимания для всех голов внимания в механизме `multi-head attention`. Она использует входное предложение, переведенные выходные лексемы и значения концентрации внимания и создает рисунок, где каждый подзаголовок представляет один раздел \"внимание\".\n",
        "\n",
        "`plot_attention_head` - это вспомогательная функция, используемая `plot_attention_weights`. Он принимает входные токены, выходные токены и матрицу внимания отдельного пользователя и строит тепловую карту, где ось `x` представляет входные токены, а ось `y` - выходные токены. Он вызывается один раз для каждой головы внимания, чтобы создать подзаголовки на рисунке `plot_attention_weights`."
      ],
      "metadata": {
        "id": "3evb6uSyi5Yy"
      }
    },
    {
      "cell_type": "markdown",
      "source": [
        "Составим несколько предложений для проверки."
      ],
      "metadata": {
        "id": "m0JemIgwcNHL"
      }
    },
    {
      "cell_type": "code",
      "source": [
        "sentence = 'Eu amo programar em Python.'\n",
        "ground_truth = 'I love programming in Python.'\n",
        "\n",
        "translated_text, translated_tokens, attention_weights = translator(\n",
        "    tf.constant(sentence))\n",
        "print_translation(sentence, translated_text, ground_truth)\n",
        "\n",
        "plot_attention_weights(sentence, translated_tokens, attention_weights[0])"
      ],
      "metadata": {
        "id": "iHjzBJu7cMj6"
      },
      "execution_count": null,
      "outputs": []
    },
    {
      "cell_type": "code",
      "source": [
        "sentence = 'O tempo está ótimo para uma caminhada no parque.'\n",
        "ground_truth = 'The weather is great for a walk in the park.'\n",
        "\n",
        "translated_text, translated_tokens, attention_weights = translator(\n",
        "    tf.constant(sentence))\n",
        "print_translation(sentence, translated_text, ground_truth)\n",
        "\n",
        "plot_attention_weights(sentence, translated_tokens, attention_weights[0])\n",
        "\n",
        "plot_attention_weights(sentence, translated_tokens, attention_weights[0])"
      ],
      "metadata": {
        "id": "iGQ8OByTcMhx"
      },
      "execution_count": null,
      "outputs": []
    },
    {
      "cell_type": "code",
      "source": [
        "sentence = 'Eu preciso comprar pão e leite na padaria.'\n",
        "ground_truth = \"I need to buy bread and milk at the bakery.\"\n",
        "\n",
        "translated_text, translated_tokens, attention_weights = translator(\n",
        "    tf.constant(sentence))\n",
        "print_translation(sentence, translated_text, ground_truth)\n",
        "\n",
        "plot_attention_weights(sentence, translated_tokens, attention_weights[0])"
      ],
      "metadata": {
        "id": "QCGETncycMfE"
      },
      "execution_count": null,
      "outputs": []
    },
    {
      "cell_type": "code",
      "source": [
        "sentence = 'A tecnologia tem transformado profundamente a forma como vivemos e trabalhamos.'\n",
        "ground_truth = \"Technology has profoundly transformed the way we live and work.\"\n",
        "\n",
        "translated_text, translated_tokens, attention_weights = translator(\n",
        "    tf.constant(sentence))\n",
        "print_translation(sentence, translated_text, ground_truth)\n",
        "\n",
        "plot_attention_weights(sentence, translated_tokens, attention_weights[0])"
      ],
      "metadata": {
        "id": "Yrvde46scMcp"
      },
      "execution_count": null,
      "outputs": []
    },
    {
      "cell_type": "code",
      "source": [
        "sentence = 'A pandemia de COVID-19 teve um impacto devastador na economia global.'\n",
        "ground_truth = \"The COVID-19 pandemic has had a devastating impact on the global economy.\"\n",
        "\n",
        "translated_text, translated_tokens, attention_weights = translator(\n",
        "    tf.constant(sentence))\n",
        "print_translation(sentence, translated_text, ground_truth)\n",
        "\n",
        "plot_attention_weights(sentence, translated_tokens, attention_weights[0])"
      ],
      "metadata": {
        "id": "u4qZ0zIDcMZs"
      },
      "execution_count": null,
      "outputs": []
    },
    {
      "cell_type": "markdown",
      "source": [
        "## 2.8. Export the model"
      ],
      "metadata": {
        "id": "mn2hxW6zOoMc"
      }
    },
    {
      "cell_type": "markdown",
      "source": [
        "Создадим класс под названием `ExportTranslator`, а затем добавим `translator` в `ExportTranslator`.\n"
      ],
      "metadata": {
        "id": "ypFEtlEelU8M"
      }
    },
    {
      "cell_type": "code",
      "source": [
        "class ExportTranslator(tf.Module):\n",
        "  \"\"\"\n",
        "  A class for exporting a trained Translator model as a `tf.Module` for inference.\n",
        "\n",
        "  Args:\n",
        "  translator (Translator): A trained instance of the Translator class.\n",
        "\n",
        "  Methods:\n",
        "  __call__(self, sentence):\n",
        "      Translates the input sentence to the target language and returns the translation.\n",
        "  \"\"\"\n",
        "  def __init__(self, translator):\n",
        "    self.translator = translator\n",
        "\n",
        "  @tf.function(input_signature=[tf.TensorSpec(shape=[], dtype=tf.string)])\n",
        "  def __call__(self, sentence):\n",
        "    \"\"\"\n",
        "    Translates the input sentence to the target language and returns the translation.\n",
        "\n",
        "    Args:\n",
        "    sentence (tf.string): The input sentence to translate.\n",
        "\n",
        "    Returns:\n",
        "    A string tensor representing the translated sentence.\n",
        "\n",
        "    \"\"\"\n",
        "    (result,\n",
        "     tokens,\n",
        "     attention_weights) = self.translator(sentence, max_length=MAX_TOKENS)\n",
        "\n",
        "    return result"
      ],
      "metadata": {
        "id": "61nDEoxzOHDG"
      },
      "execution_count": null,
      "outputs": []
    },
    {
      "cell_type": "markdown",
      "source": [
        "Класс `ExportTranslator` принимает объект `translator` в качестве входных данных и экспортирует его как модуль `TensorFlow`. У него есть метод `__call__`, который принимает предложение с одним строковым аргументом и возвращает результат перевода объекта `translator` для этого входного предложения.\n",
        "\n",
        "Метод `__call__` оформлен с помощью `tf.function` и `input_signature`, которые определяют тип данных и форму входного тензора. Тензор предложения имеет пустую форму и строковый тип данных. Метод `__call__` вызывает объект `translator` с входным предложением и аргументом `max_length`, равным `MAX_TOKENS`, и возвращает результат перевода в виде тензора."
      ],
      "metadata": {
        "id": "fdnEpr5Hl1gQ"
      }
    },
    {
      "cell_type": "code",
      "source": [
        "translator = ExportTranslator(translator)"
      ],
      "metadata": {
        "id": "5XZtgKHTlpTw"
      },
      "execution_count": null,
      "outputs": []
    },
    {
      "cell_type": "markdown",
      "source": [
        "Поскольку модель расшифровывает прогнозы с использованием `tf.argmax`, прогнозы являются детерминированными. Исходная модель и модель, загруженная повторно из `SavedModel`, должны давать идентичные прогнозы."
      ],
      "metadata": {
        "id": "wlUIx0i6lnU0"
      }
    },
    {
      "cell_type": "code",
      "source": [
        "translator('Eu amo programar em Python.').numpy()"
      ],
      "metadata": {
        "id": "xUzOW7mNOG_-"
      },
      "execution_count": null,
      "outputs": []
    },
    {
      "cell_type": "markdown",
      "source": [
        "Теперь мы можем использовать метод `.save` для сохранения модели!"
      ],
      "metadata": {
        "id": "U3Xw5hkimJyY"
      }
    },
    {
      "cell_type": "code",
      "source": [
        "tf.saved_model.save(translator, export_dir='translator')"
      ],
      "metadata": {
        "id": "d5Hv4sDbOG9i"
      },
      "execution_count": null,
      "outputs": []
    },
    {
      "cell_type": "markdown",
      "source": [
        "Мы можем перезагрузить модель и протестировать прогноз!"
      ],
      "metadata": {
        "id": "3SbMYeLQmQNY"
      }
    },
    {
      "cell_type": "code",
      "source": [
        "reloaded_translator = tf.saved_model.load('translator')"
      ],
      "metadata": {
        "id": "_QwpgjYVOG67"
      },
      "execution_count": null,
      "outputs": []
    },
    {
      "cell_type": "code",
      "source": [
        "reloaded_translator('Eu amo programar em Python.').numpy()"
      ],
      "metadata": {
        "id": "I4oSPvZqOG4Q"
      },
      "execution_count": null,
      "outputs": []
    },
    {
      "cell_type": "markdown",
      "source": [
        "## 2.9. Эксперименты с моделью\n",
        "\n",
        "Проведите обучение модели с 50 эпохами и сравните результаты!\n"
      ],
      "metadata": {
        "id": "CHTPtLZsj4Ob"
      }
    },
    {
      "cell_type": "code",
      "source": [
        "transformer.fit(train_batches,\n",
        "                epochs=50,\n",
        "                validation_data=val_batches)"
      ],
      "metadata": {
        "id": "eQgX-TAoknZY"
      },
      "execution_count": null,
      "outputs": []
    },
    {
      "cell_type": "code",
      "source": [
        "translator = Translator(tokenizers, transformer)"
      ],
      "metadata": {
        "id": "5VXO2TJpkz-i"
      },
      "execution_count": null,
      "outputs": []
    },
    {
      "cell_type": "code",
      "source": [
        "sentence = 'Eu amo programar em Python.'\n",
        "ground_truth = 'I love programming in Python.'\n",
        "\n",
        "translated_text, translated_tokens, attention_weights = translator(\n",
        "    tf.constant(sentence))\n",
        "print_translation(sentence, translated_text, ground_truth)\n",
        "\n",
        "plot_attention_weights(sentence, translated_tokens, attention_weights[0])"
      ],
      "metadata": {
        "id": "ojfVku3pkz1E"
      },
      "execution_count": null,
      "outputs": []
    },
    {
      "cell_type": "code",
      "source": [
        "sentence = 'O tempo está ótimo para uma caminhada no parque.'\n",
        "ground_truth = 'The weather is great for a walk in the park.'\n",
        "\n",
        "translated_text, translated_tokens, attention_weights = translator(\n",
        "    tf.constant(sentence))\n",
        "print_translation(sentence, translated_text, ground_truth)\n",
        "\n",
        "plot_attention_weights(sentence, translated_tokens, attention_weights[0])\n",
        "\n",
        "plot_attention_weights(sentence, translated_tokens, attention_weights[0])"
      ],
      "metadata": {
        "id": "t3Jhm7H4k1JQ"
      },
      "execution_count": null,
      "outputs": []
    },
    {
      "cell_type": "code",
      "source": [
        "sentence = 'Eu preciso comprar pão e leite na padaria.'\n",
        "ground_truth = \"I need to buy bread and milk at the bakery.\"\n",
        "\n",
        "translated_text, translated_tokens, attention_weights = translator(\n",
        "    tf.constant(sentence))\n",
        "print_translation(sentence, translated_text, ground_truth)\n",
        "\n",
        "plot_attention_weights(sentence, translated_tokens, attention_weights[0])"
      ],
      "metadata": {
        "id": "KjzNBJGmk1AS"
      },
      "execution_count": null,
      "outputs": []
    },
    {
      "cell_type": "code",
      "source": [
        "sentence = 'A tecnologia tem transformado profundamente a forma como vivemos e trabalhamos.'\n",
        "ground_truth = \"Technology has profoundly transformed the way we live and work.\"\n",
        "\n",
        "translated_text, translated_tokens, attention_weights = translator(\n",
        "    tf.constant(sentence))\n",
        "print_translation(sentence, translated_text, ground_truth)\n",
        "\n",
        "plot_attention_weights(sentence, translated_tokens, attention_weights[0])"
      ],
      "metadata": {
        "id": "WeliTB2xk05G"
      },
      "execution_count": null,
      "outputs": []
    },
    {
      "cell_type": "code",
      "source": [
        "sentence = 'A pandemia de COVID-19 teve um impacto devastador na economia global.'\n",
        "ground_truth = \"The COVID-19 pandemic has had a devastating impact on the global economy.\"\n",
        "\n",
        "translated_text, translated_tokens, attention_weights = translator(\n",
        "    tf.constant(sentence))\n",
        "print_translation(sentence, translated_text, ground_truth)\n",
        "\n",
        "plot_attention_weights(sentence, translated_tokens, attention_weights[0])"
      ],
      "metadata": {
        "id": "jVajwI-okzTZ"
      },
      "execution_count": null,
      "outputs": []
    },
    {
      "cell_type": "markdown",
      "source": [
        "Можем экспортировать модель"
      ],
      "metadata": {
        "id": "bqgs6hbOEq89"
      }
    },
    {
      "cell_type": "code",
      "source": [
        "translator = ExportTranslator(translator)\n",
        "tf.saved_model.save(translator, export_dir='translater_pt_en')"
      ],
      "metadata": {
        "id": "u-Oi0yk_EqO3"
      },
      "execution_count": null,
      "outputs": []
    },
    {
      "cell_type": "markdown",
      "source": [
        "Похоже, у нас перевод немного улучшился!"
      ],
      "metadata": {
        "id": "p0qZBLxfk8pp"
      }
    },
    {
      "cell_type": "markdown",
      "source": [
        "## References\n",
        "\n",
        "[1] Vaswani, Ashish, et al. \"Attention is all you need.\" Advances in neural information processing systems 30 (2017).\n",
        "\n",
        "[2] [https://python.plainenglish.io/image-captioning-with-an-end-to-end-transformer-network-8f39e1438cd4](https://python.plainenglish.io/image-captioning-with-an-end-to-end-transformer-network-8f39e1438cd4)\n",
        "\n",
        "[3] [https://www.tensorflow.org/text/tutorials/transformer](https://www.tensorflow.org/text/tutorials/transformer)\n",
        "\n",
        "\n"
      ],
      "metadata": {
        "id": "Gyj-LyhsslyB"
      }
    },
    {
      "cell_type": "code",
      "source": [],
      "metadata": {
        "id": "uiHec30N5nXL"
      },
      "execution_count": null,
      "outputs": []
    }
  ]
}